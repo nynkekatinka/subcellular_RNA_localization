{
 "cells": [
  {
   "cell_type": "code",
   "execution_count": 1,
   "metadata": {},
   "outputs": [
    {
     "name": "stderr",
     "output_type": "stream",
     "text": [
      "/media/gambino/students_workdir/nynke/miniconda3/envs/blurry/lib/python3.9/site-packages/tqdm/auto.py:22: TqdmWarning: IProgress not found. Please update jupyter and ipywidgets. See https://ipywidgets.readthedocs.io/en/stable/user_install.html\n",
      "  from .autonotebook import tqdm as notebook_tqdm\n"
     ]
    }
   ],
   "source": [
    "%load_ext autoreload\n",
    "%autoreload 2\n",
    "# when debugging the python scripts, with the autoreload the jupyter notebook sync's to the most up to date scripts. See: https://ipython.org/ipython-doc/3/config/extensions/autoreload.html\n",
    "import torch\n",
    "import numpy as np\n",
    "from multiprocessing import Pool\n",
    "import scanpy as sc\n",
    "from scipy.stats import ks_2samp\n",
    "import pandas as pd\n",
    "import random\n",
    "from dataprep import *\n",
    "import pickle\n",
    "import matplotlib.pyplot as plt\n",
    "import seaborn as sns"
   ]
  },
  {
   "cell_type": "code",
   "execution_count": 2,
   "metadata": {},
   "outputs": [],
   "source": [
    "seed = 101\n",
    "random.seed(seed)\n",
    "np.random.seed(seed)\n",
    "torch.manual_seed(seed)\n",
    "rng = np.random.RandomState(seed)\n",
    "\n",
    "sns.set_theme()"
   ]
  },
  {
   "cell_type": "markdown",
   "metadata": {},
   "source": [
    "# Load data"
   ]
  },
  {
   "cell_type": "code",
   "execution_count": 3,
   "metadata": {},
   "outputs": [],
   "source": [
    "path = f\"/media/gambino/students_workdir/nynke/blurry/temp_objects/rf_balanced/rf_pattern.pkl\"\n",
    "with open(path, 'rb') as p:\n",
    "    rf_pattern_balanced = pickle.load(p)\n",
    "\n",
    "path = f\"/media/gambino/students_workdir/nynke/blurry/temp_objects/rf_balanced/rf_pattern_balanced_singlejob.pkl\"\n",
    "with open(path, 'rb') as p:\n",
    "    rf_pattern_balanced_singlejob = pickle.load(p)"
   ]
  },
  {
   "cell_type": "code",
   "execution_count": 4,
   "metadata": {},
   "outputs": [],
   "source": [
    "adata_split_cellID = sc.read_h5ad(\"/media/gambino/students_workdir/nynke/new_model_with_cell_id_left_out_custom_nynke_panel_simulated_embeddings_adata.h5ad\")"
   ]
  },
  {
   "cell_type": "code",
   "execution_count": null,
   "metadata": {},
   "outputs": [],
   "source": [
    "# Add an extra column to the adata.obs dataframe that contains the pattern strength, given that protrusion has different pattern strength levels than the other patterns.\n",
    "choices = ['strong', 'intermediate', 'low']\n",
    "for adata in [adata_split_cellID]:#, adata_mixed_cellID adata_all_spots]:\n",
    "    conditions = [\n",
    "        (adata.obs['prop'] == 0.9) | ((adata.obs['prop'] == 0.4) & (adata.obs['pattern'] == 'protrusion')),\n",
    "        (adata.obs['prop'] == 0.5) | ((adata.obs['prop'] == 0.2) & (adata.obs['pattern'] == 'protrusion')),\n",
    "        (adata.obs['prop'] == 0.1) | ((adata.obs['prop'] == 0.0) & (adata.obs['pattern'] == 'protrusion'))\n",
    "    ]\n",
    "\n",
    "    adata.obs['pattern_strength'] = np.select(conditions, choices, default='unknown')"
   ]
  },
  {
   "cell_type": "code",
   "execution_count": null,
   "metadata": {},
   "outputs": [],
   "source": [
    "adata_test = adata_split_cellID[adata_split_cellID.obs['cell_id'].isin(adata_split_cellID.uns['test_cellIDs'])]"
   ]
  },
  {
   "cell_type": "code",
   "execution_count": null,
   "metadata": {},
   "outputs": [
    {
     "name": "stderr",
     "output_type": "stream",
     "text": [
      "<ipython-input-26-93478e804234>:15: ImplicitModificationWarning: Trying to modify attribute `.obs` of view, initializing view as actual.\n",
      "  adata_test.obs['rna_count'] = adata_test.obs['n_spots_interval'].apply(map_interval)\n"
     ]
    }
   ],
   "source": [
    "def map_interval(interval):\n",
    "    if interval == '0-10':\n",
    "        return '0-10'\n",
    "    elif interval in ['10-20', '20-30']:\n",
    "        return '10-30'\n",
    "    elif interval in ['30-40', '40-50', '50-60']:\n",
    "        return '30-60'\n",
    "    elif interval in ['70-80', '80-90', '90-100']:\n",
    "        return '70-100'\n",
    "    elif interval == '100+':\n",
    "        return '100+'\n",
    "    else:\n",
    "        return None\n",
    "\n",
    "adata_test.obs['rna_count'] = adata_test.obs['n_spots_interval'].apply(map_interval)"
   ]
  },
  {
   "cell_type": "code",
   "execution_count": 65,
   "metadata": {},
   "outputs": [
    {
     "name": "stdout",
     "output_type": "stream",
     "text": [
      "strong\n",
      "100+      5544\n",
      "30-60     2568\n",
      "70-100    2337\n",
      "10-30     1870\n",
      "0-10       413\n",
      "Name: rna_count, dtype: int64\n",
      "intermediate\n",
      "100+      5344\n",
      "30-60     2598\n",
      "70-100    2567\n",
      "10-30     1653\n",
      "0-10       577\n",
      "Name: rna_count, dtype: int64\n",
      "low\n",
      "100+      5325\n",
      "30-60     2670\n",
      "70-100    2498\n",
      "10-30     1782\n",
      "0-10       452\n",
      "Name: rna_count, dtype: int64\n"
     ]
    }
   ],
   "source": [
    "for strength in adata_test.obs['pattern_strength'].unique():\n",
    "    test = adata_test[(adata_test.obs['pattern_strength'] == strength) & (adata_test.obs['pattern'] == 'random')]\n",
    "    print(strength)\n",
    "    print(test.obs['rna_count'].value_counts())"
   ]
  },
  {
   "cell_type": "markdown",
   "metadata": {},
   "source": [
    "# Functions"
   ]
  },
  {
   "cell_type": "code",
   "execution_count": 58,
   "metadata": {},
   "outputs": [],
   "source": [
    "def subset_power_analysis(adata, pattern: str = 'random', mixed_patterns: bool = True, pattern_strength: str = \"strong\", rna_count: str = '10-30', sample_size: int = 5):\n",
    "    \"\"\"\n",
    "    Subset the anndata object into a `1 gene multiple cells` object. Can filter the cells based on the number of spots, the pattern and the pattern strength.\n",
    "\n",
    "    Parameters\n",
    "    ----------\n",
    "    adata : ad.AnnData object\n",
    "        complete anndata object.\n",
    "    pattern : str\n",
    "        Type of subcellular expression pattern you want to filter on. Default is 'pericellular', which has the highest f1 RF score.\n",
    "    mixed_patterns: bool\n",
    "        True: all patterns can be included, False: only the pattern type specified in `pattern` is included. Default is False. \n",
    "    pattern_strength : str\n",
    "        strength of the pattern, which is labeled as pattern_strength in the anndata object. Strong, which comes down to 45% of points fall in the pattern for protrusion, 90% of points are in pattern for all the other patterns. \n",
    "        If the pattern is random, then pattern_strength is not used, given that irrelevant for random when using the simFISH v2 definition of patterness (90% of points assigned to the pattern 'random' will still amount to 100% randomness).\n",
    "    high_or_low : str\n",
    "        Whether you want to filter genes with a higher or lower count than the given threshold. Default is lower.\n",
    "        If none, then no threshold is chosen and mixed counts are included. \n",
    "    count_threshold : int\n",
    "        Count threshold to filter on. Default is 11, so that genes with count 0-10 are selected. For high, the threshold is 140.\n",
    "    mixed_counts: bool\n",
    "        True: all counts are included, False: only counts above or below the threshold are included. Default is False.\n",
    "        \n",
    "    Returns\n",
    "    -------\n",
    "    ad.AnnData\n",
    "\n",
    "    \"\"\"\n",
    "    adata_filtered = adata[(\n",
    "                                (\n",
    "                                    adata.obs['pattern'] == pattern if mixed_patterns == False\n",
    "                                    else adata.obs['pattern'] != 'random'\n",
    "                                )\n",
    "                            ) & \n",
    "                           (\n",
    "                                adata.obs['rna_count'] == rna_count\n",
    "                            ) & \n",
    "                           (\n",
    "                               adata.obs['pattern_strength'] == pattern_strength if pattern != 'random' \n",
    "                               else True\n",
    "                            )\n",
    "                        ].copy()\n",
    "\n",
    "    subset = adata_filtered.obs.sample(n=sample_size)\n",
    "    \n",
    "    adata_subset = adata_filtered[adata_filtered.obs.index.isin(subset.index)]\n",
    "\n",
    "\n",
    "    return adata_subset"
   ]
  },
  {
   "cell_type": "code",
   "execution_count": 75,
   "metadata": {},
   "outputs": [],
   "source": [
    "def subset_power_analysis_unique_CellIDs(adata, pattern: str = 'pericellular', mixed_patterns: bool = True, pattern_strength: str = \"strong\", rna_count: str = '10-30', sample_size: int = 5):\n",
    "    \"\"\"\n",
    "    Subset the anndata object into a `1 gene multiple cells` object. Can filter the cells based on the number of spots, the pattern and the pattern strength.\n",
    "\n",
    "    Parameters\n",
    "    ----------\n",
    "    adata : ad.AnnData object\n",
    "        complete anndata object.\n",
    "    pattern : str\n",
    "        Type of subcellular expression pattern you want to filter on. Default is 'pericellular', which has the highest f1 RF score.\n",
    "    mixed_patterns: bool\n",
    "        True: all patterns can be included, False: only the pattern type specified in `pattern` is included. Default is False. \n",
    "    pattern_strength : str\n",
    "        strength of the pattern, which is labeled as pattern_strength in the anndata object. Strong, which comes down to 45% of points fall in the pattern for protrusion, 90% of points are in pattern for all the other patterns. \n",
    "        If the pattern is random, then pattern_strength is not used, given that irrelevant for random when using the simFISH v2 definition of patterness (90% of points assigned to the pattern 'random' will still amount to 100% randomness).\n",
    "    high_or_low : str\n",
    "        Whether you want to filter genes with a higher or lower count than the given threshold. Default is lower.\n",
    "        If none, then no threshold is chosen and mixed counts are included. \n",
    "    count_threshold : int\n",
    "        Count threshold to filter on. Default is 11, so that genes with count 0-10 are selected. For high, the threshold is 140.\n",
    "    mixed_counts: bool\n",
    "        True: all counts are included, False: only counts above or below the threshold are included. Default is False.\n",
    "        \n",
    "    Returns\n",
    "    -------\n",
    "    ad.AnnData\n",
    "\n",
    "    \"\"\"\n",
    "    adata_filtered = adata[(\n",
    "                                (\n",
    "                                    adata.obs['pattern'] == pattern if mixed_patterns == False\n",
    "                                    else adata.obs['pattern'] != 'random'\n",
    "                                )\n",
    "                            ) & \n",
    "                           (\n",
    "                                adata.obs['rna_count'] == rna_count\n",
    "                            ) & \n",
    "                           (\n",
    "                               adata.obs['pattern_strength'] == pattern_strength if pattern != 'random' \n",
    "                               else True\n",
    "                            )\n",
    "                        ].copy()\n",
    "    \n",
    "    if sample_size > len(adata_filtered.obs['cell_id'].unique()):\n",
    "        return(f\"{sample_size} is larger than the available unique cell id's.\")\n",
    "\n",
    "    grouped = adata_filtered.obs.groupby('cell_id')\n",
    "    subset = grouped.sample(n=1).groupby('cell_id').apply(lambda x: x.sample(min(len(x), sample_size)))\n",
    "    adata_subset = adata_filtered[adata_filtered.obs.index.isin(subset.index)].copy()\n",
    "\n",
    "    return adata_subset"
   ]
  },
  {
   "cell_type": "code",
   "execution_count": null,
   "metadata": {},
   "outputs": [],
   "source": [
    "'''def subset_power_analysis_unique_CellIDs(adata, pattern: str = 'pericellular', mixed_patterns: bool = True, pattern_strength: str = \"strong\", rna_count: str = '10-30', sample_size: int = 5):\n",
    "    \"\"\"\n",
    "    \n",
    "    \"\"\"\n",
    "    adata_filtered = adata[(\n",
    "                                (\n",
    "                                    adata.obs['pattern'] == pattern if mixed_patterns == False\n",
    "                                    else adata.obs['pattern'] != 'random'\n",
    "                                )\n",
    "                            ) & \n",
    "                           (\n",
    "                                adata.obs['rna_count'] == rna_count\n",
    "                            ) & \n",
    "                           (\n",
    "                               adata.obs['pattern_strength'] == pattern_strength if pattern != 'random' \n",
    "                               else True\n",
    "                            )\n",
    "                        ].copy()\n",
    "    \n",
    "    if sample_size > len(adata_filtered.obs['cell_id'].unique())\n",
    "        return(f\"{sample_size} is larger than the available unique cell id's.\")\n",
    "\n",
    "    grouped = adata_filtered.obs.groupby('cell_id')\n",
    "    subset = [group.sample(n=1) for _, group in grouped]\n",
    "    adata_subset = adata_filtered[adata_filtered.obs.index.isin(subset.index)].copy()\n",
    "\n",
    "    return adata_subset\n",
    "    '''"
   ]
  },
  {
   "cell_type": "markdown",
   "metadata": {},
   "source": [
    "subsample mixed patterns -> no seed\n",
    "add extra column to anndata for the different n_spots_intervals I'm interested in\n",
    "create grid over sample size 5-3000\n",
    "\n",
    "\n",
    "First go and make the inner loop, then I can build outwards."
   ]
  },
  {
   "cell_type": "markdown",
   "metadata": {},
   "source": [
    "Add bins to pool the power calculation for n_spots_interval"
   ]
  },
  {
   "cell_type": "code",
   "execution_count": 68,
   "metadata": {},
   "outputs": [],
   "source": [
    "def compute_power(params):\n",
    "    try:\n",
    "        strength, count, sample = params\n",
    "        significant_count = 0\n",
    "        # Given that random patterns have only ~410 cells simulated, we don't calculate the power for these above 400 so that we don't need to sample with replacement\n",
    "        if count == '0-10' and sample > 400:\n",
    "            return (f'{strength}_{count}_{sample}', -1)\n",
    "        for i in range(1000):\n",
    "            # sample new gene. No random seed so that every time a different \"gene\" is sampled.\n",
    "            pattern = subset_power_analysis(adata_test, mixed_patterns = True, pattern_strength= strength, rna_count = count, sample_size = sample)\n",
    "            control = subset_power_analysis(adata_test, pattern = 'random', mixed_patterns = False, rna_count = count, sample_size = sample)\n",
    "\n",
    "            # Calculate RF classification probabilities\n",
    "            pattern_score = rf_pattern_balanced_singlejob.predict_proba(pattern.obsm[\"latent\"])[:,1]\n",
    "            control_score = rf_pattern_balanced_singlejob.predict_proba(control.obsm[\"latent\"])[:,1]\n",
    "\n",
    "            statistic, pvalue = ks_2samp(pattern_score, control_score)\n",
    "            if pvalue < 0.05:\n",
    "                significant_count += 1\n",
    "        return (f'{strength}_{count}_{sample}', significant_count/1000)\n",
    "    except ValueError as e:\n",
    "        if str(e) == \"Cannot take a larger sample than population when 'replace=False'\":\n",
    "            print(f\"Error for parameters: {params}\")\n",
    "            return None\n",
    "        else:\n",
    "            raise e"
   ]
  },
  {
   "cell_type": "markdown",
   "metadata": {},
   "source": [
    "# Power analysis"
   ]
  },
  {
   "cell_type": "code",
   "execution_count": 49,
   "metadata": {},
   "outputs": [
    {
     "name": "stdout",
     "output_type": "stream",
     "text": [
      "[  10   14   20   29   42   60   86  122  175  251  358  513  733 1049\n",
      " 1500]\n"
     ]
    }
   ],
   "source": [
    "import numpy as np\n",
    "\n",
    "# Generate 10 points between 5 and 3000 on a log scale\n",
    "points = np.logspace(np.log10(10), np.log10(1500), num=15)\n",
    "\n",
    "# Round the points to the nearest integers\n",
    "points = np.round(points).astype(int)\n",
    "\n",
    "print(points)"
   ]
  },
  {
   "cell_type": "code",
   "execution_count": null,
   "metadata": {},
   "outputs": [],
   "source": [
    "strengths = ['strong', 'intermediate', 'low']\n",
    "counts = adata_test.obs['rna_count'].unique()\n",
    "samples = [10, 14, 20, 29, 42, 60, 86, 122, 175, 251, 358, 513, 733, 1049, 1500] # 15 rounded points between 10 and 1500 on a log10 scale\n",
    "\n",
    "# Create a list of all combinations of strength, count, and sample\n",
    "combinations = [(strength, count, sample) for strength in strengths for count in counts for sample in samples]\n",
    "\n",
    "# Create a multiprocessing pool and compute the power for each combination\n",
    "with Pool(45) as p:\n",
    "    results = p.map(compute_power, combinations)\n",
    "\n",
    "# Convert the results to a dictionary\n",
    "power_results = dict(results)"
   ]
  },
  {
   "cell_type": "markdown",
   "metadata": {},
   "source": [
    "### TO DO: the power analysis with split ID here"
   ]
  },
  {
   "cell_type": "code",
   "execution_count": 73,
   "metadata": {},
   "outputs": [],
   "source": [
    "def compute_power_splitID(params):\n",
    "    try:\n",
    "        strength, count, sample = params\n",
    "        significant_count = 0\n",
    "        # Given that random patterns have only ~410 cells simulated, we don't calculate the power for these above 400 so that we don't need to sample with replacement\n",
    "        if count == '0-10' and sample > 400:\n",
    "            return (f'{strength}_{count}_{sample}', -1)\n",
    "        for i in range(1000):\n",
    "            # sample new gene. No random seed so that every time a different \"gene\" is sampled.\n",
    "            pattern = subset_power_analysis_unique_CellIDs(adata_test, mixed_patterns = True, pattern_strength= strength, rna_count = count, sample_size = sample)\n",
    "            control = subset_power_analysis_unique_CellIDs(adata_test, pattern = 'random', mixed_patterns = False, rna_count = count, sample_size = sample)\n",
    "\n",
    "            # Calculate RF classification probabilities\n",
    "            pattern_score = rf_pattern_balanced_singlejob.predict_proba(pattern.obsm[\"latent\"])[:,1]\n",
    "            control_score = rf_pattern_balanced_singlejob.predict_proba(control.obsm[\"latent\"])[:,1]\n",
    "\n",
    "            statistic, pvalue = ks_2samp(pattern_score, control_score)\n",
    "            if pvalue < 0.05:\n",
    "                significant_count += 1\n",
    "        return (f'{strength}_{count}_{sample}', significant_count/1000)\n",
    "    except ValueError as e:\n",
    "        if str(e) == \"Cannot take a larger sample than population when 'replace=False'\":\n",
    "            print(f\"Error for parameters: {params}\")\n",
    "            return None\n",
    "        else:\n",
    "            raise e"
   ]
  },
  {
   "cell_type": "code",
   "execution_count": 71,
   "metadata": {},
   "outputs": [
    {
     "data": {
      "text/plain": [
       "['106', '136', '294', '182', '27', ..., '84', '9', '34', '57', '38']\n",
       "Length: 64\n",
       "Categories (64, object): ['6', '9', '10', '15', ..., '294', '297', '303', '314']"
      ]
     },
     "execution_count": 71,
     "metadata": {},
     "output_type": "execute_result"
    }
   ],
   "source": [
    "adata_test.obs['cell_id'].unique()"
   ]
  },
  {
   "cell_type": "code",
   "execution_count": 77,
   "metadata": {},
   "outputs": [],
   "source": [
    "strengths = ['strong', 'intermediate', 'low']\n",
    "counts = adata_test.obs['rna_count'].unique()\n",
    "samples = [5,15,25,35,45,55,64] # 15 rounded points between 10 and 1500 on a log10 scale\n",
    "\n",
    "# Create a list of all combinations of strength, count, and sample\n",
    "combinations = [(strength, count, sample) for strength in strengths for count in counts for sample in samples]\n",
    "\n",
    "# Create a multiprocessing pool and compute the power for each combination\n",
    "with Pool(45) as p:\n",
    "    results = p.map(compute_power_splitID, combinations)\n",
    "\n",
    "# Convert the results to a dictionary\n",
    "power_results = dict(results)"
   ]
  },
  {
   "cell_type": "markdown",
   "metadata": {},
   "source": [
    "### Safe and load power analysis dictionary"
   ]
  },
  {
   "cell_type": "code",
   "execution_count": null,
   "metadata": {},
   "outputs": [],
   "source": [
    "path = f\"temp_objects/power_analysis_upto1500.pkl\"\n",
    "\n",
    "# Open the file in write-binary mode and dump the object\n",
    "with open(path, 'wb') as f:\n",
    "    pickle.dump(power_results, f)"
   ]
  },
  {
   "cell_type": "code",
   "execution_count": null,
   "metadata": {},
   "outputs": [],
   "source": [
    "path = f\"temp_objects/power_analysis.pkl\"\n",
    "\n",
    "with open(path, 'rb') as p:\n",
    "    power_results = pickle.load(p)"
   ]
  },
  {
   "cell_type": "markdown",
   "metadata": {},
   "source": [
    "### Visualizations"
   ]
  },
  {
   "cell_type": "code",
   "execution_count": 6,
   "metadata": {},
   "outputs": [],
   "source": [
    "# Convert the dictionary to a list of tuples\n",
    "data = [(strength, rna_count, sample_size, power) for key, power in power_results.items() for strength, rna_count, sample_size in [key.split('_')]]\n",
    "\n",
    "# Convert the list of tuples to a DataFrame\n",
    "df = pd.DataFrame(data, columns=[\"strength\", \"rna_count\", \"sample_size\", \"power\"])"
   ]
  },
  {
   "cell_type": "code",
   "execution_count": 12,
   "metadata": {},
   "outputs": [],
   "source": [
    "# Replace values in the 'strength' column --> so I can have a capital in my plot titles\n",
    "df['strength'] = df['strength'].replace({'strong': 'Strong', 'intermediate': 'Intermediate', 'low': 'Low'})"
   ]
  },
  {
   "cell_type": "code",
   "execution_count": 22,
   "metadata": {},
   "outputs": [
    {
     "data": {
      "image/png": "[encoded data removed]",
      "text/plain": [
       "<Figure size 1158.6x360 with 3 Axes>"
      ]
     },
     "metadata": {
      "needs_background": "light"
     },
     "output_type": "display_data"
    }
   ],
   "source": [
    "# Create three plots with different pattern strengths\n",
    "g = sns.relplot(\n",
    "    data=df, \n",
    "    x=\"sample_size\", \n",
    "    y=\"power\", \n",
    "    hue=\"rna_count\",\n",
    "    hue_order = ['0-10', '10-30', '30-60', '70-100','100+'],\n",
    "    palette=\"colorblind\",\n",
    "    col=\"strength\",\n",
    "    kind=\"line\")\n",
    "(g\n",
    "  .set_axis_labels(\"Cell Count\", \"Power\")\n",
    "  .set_titles(\"{col_name} Pattern Strength\")\n",
    "  .tight_layout(w_pad=1)\n",
    "  .legend.set_title(\"RNA Count\"))\n",
    "# Show the plot\n",
    "plt.show()"
   ]
  },
  {
   "cell_type": "markdown",
   "metadata": {},
   "source": []
  }
 ],
 "metadata": {
  "kernelspec": {
   "display_name": "blurry",
   "language": "python",
   "name": "python3"
  },
  "language_info": {
   "codemirror_mode": {
    "name": "ipython",
    "version": 3
   },
   "file_extension": ".py",
   "mimetype": "text/x-python",
   "name": "python",
   "nbconvert_exporter": "python",
   "pygments_lexer": "ipython3",
   "version": "3.9.13"
  }
 },
 "nbformat": 4,
 "nbformat_minor": 2
}
