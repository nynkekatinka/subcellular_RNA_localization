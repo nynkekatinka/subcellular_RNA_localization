{
 "cells": [
  {
   "cell_type": "code",
   "execution_count": 4,
   "metadata": {},
   "outputs": [
    {
     "name": "stdout",
     "output_type": "stream",
     "text": [
      "The autoreload extension is already loaded. To reload it, use:\n",
      "  %reload_ext autoreload\n"
     ]
    }
   ],
   "source": [
    "%load_ext autoreload\n",
    "%reload_ext autoreload\n",
    "%autoreload 2\n",
    "# when debugging the python scripts, with the autoreload the jupyter notebook sync's to the most up to date scripts. See: https://ipython.org/ipython-doc/3/config/extensions/autoreload.html\n",
    "from dataprep import *\n",
    "import numpy as np\n",
    "import torch\n",
    "import pandas as pd\n",
    "import matplotlib.pyplot as plt\n",
    "import scanpy as sc\n",
    "import sklearn.model_selection as skm\n",
    "from sklearn.ensemble import RandomForestClassifier\n",
    "from sklearn.metrics import f1_score\n",
    "#from sklearn.preprocessing import MinMaxScaler\n",
    "from sklearn import metrics\n",
    "import random"
   ]
  },
  {
   "cell_type": "code",
   "execution_count": 5,
   "metadata": {},
   "outputs": [],
   "source": [
    "seed = 101\n",
    "random.seed(seed)\n",
    "np.random.seed(seed)\n",
    "torch.manual_seed(seed)\n",
    "rng = np.random.RandomState(seed)"
   ]
  },
  {
   "cell_type": "code",
   "execution_count": 1,
   "metadata": {},
   "outputs": [
    {
     "ename": "NameError",
     "evalue": "name 'sc' is not defined",
     "output_type": "error",
     "traceback": [
      "\u001b[0;31m---------------------------------------------------------------------------\u001b[0m",
      "\u001b[0;31mNameError\u001b[0m                                 Traceback (most recent call last)",
      "Cell \u001b[0;32mIn [1], line 1\u001b[0m\n\u001b[0;32m----> 1\u001b[0m adata_old \u001b[38;5;241m=\u001b[39m \u001b[43msc\u001b[49m\u001b[38;5;241m.\u001b[39mread_h5ad(\u001b[38;5;124m\"\u001b[39m\u001b[38;5;124m/media/gambino/students_workdir/nynke/data/all_spots_simulated_embeddings_adata.h5ad\u001b[39m\u001b[38;5;124m\"\u001b[39m)\n\u001b[1;32m      2\u001b[0m adata \u001b[38;5;241m=\u001b[39m sc\u001b[38;5;241m.\u001b[39mread_h5ad(\u001b[38;5;124m\"\u001b[39m\u001b[38;5;124m/media/gambino/students_workdir/nynke/data/custom_nynke_panel_simulated_embeddings_adata.h5ad\u001b[39m\u001b[38;5;124m\"\u001b[39m)\n",
      "\u001b[0;31mNameError\u001b[0m: name 'sc' is not defined"
     ]
    }
   ],
   "source": [
    "#train_adata = sc.read_h5ad(\"/media/gambino/students_workdir/nynke/data/all_spots_simulated_embeddings_adata.h5ad\")\n",
    "adata = sc.read_h5ad(\"/media/gambino/students_workdir/nynke/data/custom_nynke_panel_simulated_embeddings_adata.h5ad\")"
   ]
  },
  {
   "cell_type": "code",
   "execution_count": 4,
   "metadata": {},
   "outputs": [],
   "source": [
    "# Add an extra column to the adata.obs dataframe that contains the pattern strength, given that protrusion has different pattern strength levels than the other patterns.\n",
    "conditions = [\n",
    "    (adata.obs['prop'] == 0.9) | ((adata.obs['prop'] == 0.4) & (adata.obs['pattern'] == 'protrusion')),\n",
    "    (adata.obs['prop'] == 0.5) | ((adata.obs['prop'] == 0.2) & (adata.obs['pattern'] == 'protrusion')),\n",
    "    (adata.obs['prop'] == 0.1) | ((adata.obs['prop'] == 0.0) & (adata.obs['pattern'] == 'protrusion'))\n",
    "]\n",
    "\n",
    "choices = ['strong', 'intermediate', 'low']\n",
    "\n",
    "adata.obs['pattern_strength'] = np.select(conditions, choices, default='unknown')"
   ]
  },
  {
   "cell_type": "code",
   "execution_count": 4,
   "metadata": {},
   "outputs": [],
   "source": [
    "pericellular_dict_low = subsetGenes(adata, 'pericellular', pattern_strength = 0.9, count_threshold = 11, high_or_low = 'low')"
   ]
  },
  {
   "cell_type": "code",
   "execution_count": 5,
   "metadata": {},
   "outputs": [],
   "source": [
    "pericellular_dict_high = subsetGenes(adata, 'pericellular', pattern_strength=0.9, count_threshold = 140, high_or_low = 'high')"
   ]
  },
  {
   "cell_type": "code",
   "execution_count": 6,
   "metadata": {},
   "outputs": [],
   "source": [
    "pericellular_dict_mixed = subsetGenes(adata, 'pericellular', pattern_strength=0.9, mixed_counts=True)"
   ]
  },
  {
   "cell_type": "code",
   "execution_count": null,
   "metadata": {},
   "outputs": [],
   "source": [
    "random_dict_mixed = subsetGenes(adata, 'random', mixed_counts=True)"
   ]
  },
  {
   "cell_type": "code",
   "execution_count": 8,
   "metadata": {},
   "outputs": [],
   "source": [
    "random_dict_low = subsetGenes(adata, 'random', count_threshold = 11, high_or_low = 'low', mixed_counts=False)"
   ]
  },
  {
   "cell_type": "code",
   "execution_count": 9,
   "metadata": {},
   "outputs": [],
   "source": [
    "random_dict_high = subsetGenes(adata, 'random', count_threshold = 140, high_or_low = 'high', mixed_counts=False)"
   ]
  },
  {
   "cell_type": "markdown",
   "metadata": {},
   "source": [
    "## Plan of attack"
   ]
  },
  {
   "cell_type": "markdown",
   "metadata": {},
   "source": [
    "1. predict all the items within a single dictionary.\n",
    "2. Do the same for the random genes.\n",
    "3. group results together in a dataframe. Columns: RF_results, group, pattern (so can subset for the patterns when doing regression)\n",
    "4. do logistic regression on the dataframe to see if there is a significant difference"
   ]
  },
  {
   "cell_type": "markdown",
   "metadata": {},
   "source": [
    "## Check f1 score for protrusion data with pattern strength 0.45 iso 0.9"
   ]
  },
  {
   "cell_type": "code",
   "execution_count": 59,
   "metadata": {},
   "outputs": [],
   "source": [
    "adata_all = sc.read_h5ad(\"/media/gambino/students_workdir/nynke/data/all_spots_simulated_embeddings_adata.h5ad\")"
   ]
  },
  {
   "cell_type": "code",
   "execution_count": 72,
   "metadata": {},
   "outputs": [
    {
     "data": {
      "text/plain": [
       "View of AnnData object with n_obs × n_vars = 0 × 15\n",
       "    obs: 'pattern', 'random_or_pattern', 'n_spots', 'n_spots_interval', 'cell_id', 'genes', 'rotation', 'rotation_interval', 'blur', 'prop', 'prop_interval', 'corresponding_dapis', 'train_or_val', 'original_image_paths'\n",
       "    uns: 'neighbors', 'pattern_colors', 'pca', 'umap'\n",
       "    obsm: 'X_pca', 'X_umap', 'latent'\n",
       "    varm: 'PCs'\n",
       "    obsp: 'connectivities', 'distances'"
      ]
     },
     "execution_count": 72,
     "metadata": {},
     "output_type": "execute_result"
    }
   ],
   "source": [
    "adata_all[adata_all.obs['pattern']=='protrusion']"
   ]
  },
  {
   "cell_type": "code",
   "execution_count": 73,
   "metadata": {},
   "outputs": [],
   "source": [
    "import scanpy as sc, anndata as ad, numpy as np, pandas as pd"
   ]
  },
  {
   "cell_type": "code",
   "execution_count": 74,
   "metadata": {},
   "outputs": [
    {
     "data": {
      "text/plain": [
       "View of AnnData object with n_obs × n_vars = 37979 × 15\n",
       "    obs: 'pattern', 'random_or_pattern', 'n_spots', 'n_spots_interval', 'cell_id', 'genes', 'rotation', 'rotation_interval', 'blur', 'prop', 'prop_interval', 'corresponding_dapis', 'train_or_val', 'original_image_paths'\n",
       "    obsm: 'latent'"
      ]
     },
     "execution_count": 74,
     "metadata": {},
     "output_type": "execute_result"
    }
   ],
   "source": [
    "adata_concat = ad.concat([adata_all,adata_protrude], merge=\"same\")\n",
    "adata_concat[adata_concat.obs['pattern']=='protrusion']"
   ]
  },
  {
   "cell_type": "code",
   "execution_count": 70,
   "metadata": {},
   "outputs": [
    {
     "data": {
      "text/plain": [
       "View of AnnData object with n_obs × n_vars = 37979 × 15\n",
       "    obs: 'pattern', 'random_or_pattern', 'n_spots', 'n_spots_interval', 'cell_id', 'genes', 'rotation', 'rotation_interval', 'blur', 'prop', 'prop_interval', 'corresponding_dapis', 'train_or_val', 'original_image_paths'\n",
       "    obsm: 'latent'"
      ]
     },
     "execution_count": 70,
     "metadata": {},
     "output_type": "execute_result"
    }
   ],
   "source": [
    "protrude_adata = adata[adata.obs['pattern']=='protrusion']\n",
    "adata_protrude = protrude_adata[protrude_adata.obs['prop']==0.4]\n",
    "adata_protrude"
   ]
  },
  {
   "cell_type": "code",
   "execution_count": 78,
   "metadata": {},
   "outputs": [],
   "source": [
    "# Step 1: Group indices by cell_id\n",
    "all_indices = adata_concat.obs.index\n",
    "cell_ids = np.array(adata_concat.obs['cell_id'])\n",
    "unique_cell_ids, cell_id_indices = np.unique(cell_ids, return_inverse=True)\n",
    "\n",
    "# Step 3: Perform train-val-test split on cell_ids, maintaining the grouping\n",
    "train_indices, test_val_indices = skm.train_test_split(np.arange(len(unique_cell_ids)), test_size=0.2, random_state=seed)\n",
    "val_indices, test_indices = skm.train_test_split(test_val_indices, test_size=0.5, random_state=seed)\n",
    "\n",
    "# Step 4: Map the grouped indices back to the original indices\n",
    "train_indices = np.concatenate([np.where(cell_id_indices == i)[0] for i in train_indices])\n",
    "val_indices = np.concatenate([np.where(cell_id_indices == i)[0] for i in val_indices])\n",
    "test_indices = np.concatenate([np.where(cell_id_indices == i)[0] for i in test_indices])\n",
    "\n",
    "# Step 5: Subset AnnData object using the obtained indices\n",
    "adata_train = adata_concat[train_indices, :] # Training set:   176162 x 15\n",
    "adata_val = adata_concat[val_indices, :]     # Validation set: 22269 x 15\n",
    "adata_test = adata_concat[test_indices, :]   # Test set:       22256 x 15"
   ]
  },
  {
   "cell_type": "code",
   "execution_count": 79,
   "metadata": {},
   "outputs": [],
   "source": [
    "adata_train_pattern = adata_train.copy()\n",
    "adata_train_pattern = adata_train_pattern[adata_train_pattern.obs['pattern']!='random']\n",
    "adata_val_pattern = adata_val.copy()\n",
    "adata_val_pattern = adata_val_pattern[adata_val_pattern.obs['pattern']!='random']"
   ]
  },
  {
   "cell_type": "code",
   "execution_count": 80,
   "metadata": {},
   "outputs": [
    {
     "name": "stderr",
     "output_type": "stream",
     "text": [
      "<ipython-input-80-5f17c46949c9>:1: ImplicitModificationWarning: Trying to modify attribute `.obs` of view, initializing view as actual.\n",
      "  adata_train_pattern.obs[\"protrusion\"] = np.where(adata_train_pattern.obs[\"pattern\"] == \"protrusion\", \"protrusion\", \"other\")\n",
      "<ipython-input-80-5f17c46949c9>:2: ImplicitModificationWarning: Trying to modify attribute `.obs` of view, initializing view as actual.\n",
      "  adata_val_pattern.obs[\"protrusion\"] = np.where(adata_val_pattern.obs[\"pattern\"] == \"protrusion\", \"protrusion\", \"other\")\n"
     ]
    },
    {
     "name": "stdout",
     "output_type": "stream",
     "text": [
      "f1 score: \n",
      "0.8601307189542483\n"
     ]
    },
    {
     "data": {
      "image/png": "[encoded data removed]",
      "text/plain": [
       "<Figure size 432x288 with 2 Axes>"
      ]
     },
     "metadata": {
      "needs_background": "light"
     },
     "output_type": "display_data"
    }
   ],
   "source": [
    "adata_train_pattern.obs[\"protrusion\"] = np.where(adata_train_pattern.obs[\"pattern\"] == \"protrusion\", \"protrusion\", \"other\")\n",
    "adata_val_pattern.obs[\"protrusion\"] = np.where(adata_val_pattern.obs[\"pattern\"] == \"protrusion\", \"protrusion\", \"other\")\n",
    " # create random forest classifier EXCLUDING random\n",
    "rf_classifier = RandomForestClassifier(n_estimators=150, random_state=seed, max_features=3, bootstrap=True, oob_score=False)\n",
    "rf_classifier.fit(adata_train_pattern.obsm[\"latent\"], adata_train_pattern.obs[\"protrusion\"]) \n",
    "    \n",
    "#predict label\n",
    "val_protrusion = rf_classifier.predict(adata_val_pattern.obsm[\"latent\"])\n",
    "\n",
    "print(\"f1 score: \")\n",
    "print(f1_score(adata_val_pattern.obs[\"protrusion\"], val_protrusion, pos_label='protrusion'))\n",
    "\n",
    "confusion_matrix = metrics.confusion_matrix(adata_val_pattern.obs[\"protrusion\"], val_protrusion, labels = rf_classifier.classes_)\n",
    "cm_display = metrics.ConfusionMatrixDisplay(confusion_matrix = confusion_matrix, display_labels = rf_classifier.classes_) \n",
    "cm_display.plot()\n",
    "plt.show()"
   ]
  },
  {
   "cell_type": "markdown",
   "metadata": {},
   "source": [
    "## Load RF trained objects"
   ]
  },
  {
   "cell_type": "code",
   "execution_count": 5,
   "metadata": {},
   "outputs": [],
   "source": [
    "import pickle\n",
    "\n",
    "patterns = ['pattern', 'cellEdge', 'foci', 'extranuclear', 'intranuclear', 'nuclearEdge', 'pericellular', 'perinuclear', 'protrusion']\n",
    "models = {}\n",
    "\n",
    "for pattern in patterns:\n",
    "    # Specify the path where the model is saved\n",
    "    path = f\"temp_objects/rf_{pattern}.pkl\"\n",
    "\n",
    "    # Open the file in read-binary mode and load the model\n",
    "    with open(path, 'rb') as p:\n",
    "        models[pattern] = pickle.load(p)"
   ]
  },
  {
   "cell_type": "markdown",
   "metadata": {},
   "source": [
    "## RF score: pattern / no pattern for less pretty data"
   ]
  },
  {
   "cell_type": "code",
   "execution_count": 30,
   "metadata": {},
   "outputs": [],
   "source": [
    "rf_classifier = models['pattern']\n",
    "adata_mid = adata[adata.obs['prop']==0.5]\n",
    "adata_low = adata[adata.obs['prop']==0.1]\n",
    "adata_protrusion_mid = adata[(adata.obs['prop']==0.4)&(adata.obs['pattern']=='protrusion')]\n",
    "adata_protrusion_low = adata[(adata.obs['prop']==0.0) &(adata.obs['pattern']=='protrusion')]\n"
   ]
  },
  {
   "cell_type": "code",
   "execution_count": null,
   "metadata": {},
   "outputs": [],
   "source": [
    "adata_strong = anndata.concat(adata[adata.obs['prop']==0.9],adata[(adata.obs['prop']==0.4)&(adata.obs['pattern']=='protrusion')])\n",
    "adata_mid = anndata.concat(adata[adata.obs['prop']==0.5],adata[(adata.obs['prop']==0.2)&(adata.obs['pattern']=='protrusion')])\n",
    "adata_low = anndata.concat(adata[adata.obs['prop']==0.1],adata[(adata.obs['prop']==0.0)&(adata.obs['pattern']=='protrusion')])"
   ]
  },
  {
   "cell_type": "code",
   "execution_count": 35,
   "metadata": {},
   "outputs": [],
   "source": [
    "conditions = [\n",
    "    (adata.obs['prop'] == 0.9) | ((adata.obs['prop'] == 0.4) & (adata.obs['pattern'] == 'protrusion')),\n",
    "    (adata.obs['prop'] == 0.5) | ((adata.obs['prop'] == 0.2) & (adata.obs['pattern'] == 'protrusion')),\n",
    "    (adata.obs['prop'] == 0.1) | ((adata.obs['prop'] == 0.0) & (adata.obs['pattern'] == 'protrusion'))\n",
    "]\n",
    "\n",
    "choices = ['strong', 'intermediate', 'low']\n",
    "\n",
    "adata.obs['pattern_strength'] = np.select(conditions, choices, default='unknown')"
   ]
  },
  {
   "cell_type": "code",
   "execution_count": 17,
   "metadata": {},
   "outputs": [
    {
     "data": {
      "text/plain": [
       "View of AnnData object with n_obs × n_vars = 504404 × 15\n",
       "    obs: 'pattern', 'random_or_pattern', 'n_spots', 'n_spots_interval', 'cell_id', 'genes', 'rotation', 'rotation_interval', 'blur', 'prop', 'prop_interval', 'corresponding_dapis', 'train_or_val', 'original_image_paths'\n",
       "    obsm: 'latent'"
      ]
     },
     "execution_count": 17,
     "metadata": {},
     "output_type": "execute_result"
    }
   ],
   "source": [
    "adata_mid"
   ]
  },
  {
   "cell_type": "code",
   "execution_count": 29,
   "metadata": {},
   "outputs": [
    {
     "data": {
      "text/html": [
       "<div>\n",
       "<style scoped>\n",
       "    .dataframe tbody tr th:only-of-type {\n",
       "        vertical-align: middle;\n",
       "    }\n",
       "\n",
       "    .dataframe tbody tr th {\n",
       "        vertical-align: top;\n",
       "    }\n",
       "\n",
       "    .dataframe thead th {\n",
       "        text-align: right;\n",
       "    }\n",
       "</style>\n",
       "<table border=\"1\" class=\"dataframe\">\n",
       "  <thead>\n",
       "    <tr style=\"text-align: right;\">\n",
       "      <th></th>\n",
       "      <th>pattern</th>\n",
       "      <th>random_or_pattern</th>\n",
       "      <th>n_spots</th>\n",
       "      <th>n_spots_interval</th>\n",
       "      <th>cell_id</th>\n",
       "      <th>genes</th>\n",
       "      <th>rotation</th>\n",
       "      <th>rotation_interval</th>\n",
       "      <th>blur</th>\n",
       "      <th>prop</th>\n",
       "      <th>prop_interval</th>\n",
       "      <th>corresponding_dapis</th>\n",
       "      <th>train_or_val</th>\n",
       "      <th>original_image_paths</th>\n",
       "    </tr>\n",
       "  </thead>\n",
       "  <tbody>\n",
       "    <tr>\n",
       "      <th>1324002</th>\n",
       "      <td>protrusion</td>\n",
       "      <td>pattern</td>\n",
       "      <td>100</td>\n",
       "      <td>100+</td>\n",
       "      <td>36</td>\n",
       "      <td>blank</td>\n",
       "      <td>12</td>\n",
       "      <td>0-60</td>\n",
       "      <td>1.5</td>\n",
       "      <td>0.4</td>\n",
       "      <td>0.3-0.4</td>\n",
       "      <td>/mnt/data/david/simulated_cells/with_dapi/cust...</td>\n",
       "      <td>train</td>\n",
       "      <td>/mnt/data/david/simulated_cells/with_dapi/cust...</td>\n",
       "    </tr>\n",
       "    <tr>\n",
       "      <th>1324003</th>\n",
       "      <td>protrusion</td>\n",
       "      <td>pattern</td>\n",
       "      <td>100</td>\n",
       "      <td>100+</td>\n",
       "      <td>36</td>\n",
       "      <td>blank</td>\n",
       "      <td>21</td>\n",
       "      <td>0-60</td>\n",
       "      <td>1.5</td>\n",
       "      <td>0.4</td>\n",
       "      <td>0.3-0.4</td>\n",
       "      <td>/mnt/data/david/simulated_cells/with_dapi/cust...</td>\n",
       "      <td>train</td>\n",
       "      <td>/mnt/data/david/simulated_cells/with_dapi/cust...</td>\n",
       "    </tr>\n",
       "    <tr>\n",
       "      <th>1324004</th>\n",
       "      <td>protrusion</td>\n",
       "      <td>pattern</td>\n",
       "      <td>100</td>\n",
       "      <td>100+</td>\n",
       "      <td>36</td>\n",
       "      <td>blank</td>\n",
       "      <td>238</td>\n",
       "      <td>180-240</td>\n",
       "      <td>1.5</td>\n",
       "      <td>0.4</td>\n",
       "      <td>0.3-0.4</td>\n",
       "      <td>/mnt/data/david/simulated_cells/with_dapi/cust...</td>\n",
       "      <td>val</td>\n",
       "      <td>/mnt/data/david/simulated_cells/with_dapi/cust...</td>\n",
       "    </tr>\n",
       "    <tr>\n",
       "      <th>1324005</th>\n",
       "      <td>protrusion</td>\n",
       "      <td>pattern</td>\n",
       "      <td>100</td>\n",
       "      <td>100+</td>\n",
       "      <td>36</td>\n",
       "      <td>blank</td>\n",
       "      <td>277</td>\n",
       "      <td>240-300</td>\n",
       "      <td>1.5</td>\n",
       "      <td>0.4</td>\n",
       "      <td>0.3-0.4</td>\n",
       "      <td>/mnt/data/david/simulated_cells/with_dapi/cust...</td>\n",
       "      <td>train</td>\n",
       "      <td>/mnt/data/david/simulated_cells/with_dapi/cust...</td>\n",
       "    </tr>\n",
       "    <tr>\n",
       "      <th>1324006</th>\n",
       "      <td>protrusion</td>\n",
       "      <td>pattern</td>\n",
       "      <td>100</td>\n",
       "      <td>100+</td>\n",
       "      <td>36</td>\n",
       "      <td>blank</td>\n",
       "      <td>31</td>\n",
       "      <td>0-60</td>\n",
       "      <td>1.5</td>\n",
       "      <td>0.4</td>\n",
       "      <td>0.3-0.4</td>\n",
       "      <td>/mnt/data/david/simulated_cells/with_dapi/cust...</td>\n",
       "      <td>val</td>\n",
       "      <td>/mnt/data/david/simulated_cells/with_dapi/cust...</td>\n",
       "    </tr>\n",
       "    <tr>\n",
       "      <th>...</th>\n",
       "      <td>...</td>\n",
       "      <td>...</td>\n",
       "      <td>...</td>\n",
       "      <td>...</td>\n",
       "      <td>...</td>\n",
       "      <td>...</td>\n",
       "      <td>...</td>\n",
       "      <td>...</td>\n",
       "      <td>...</td>\n",
       "      <td>...</td>\n",
       "      <td>...</td>\n",
       "      <td>...</td>\n",
       "      <td>...</td>\n",
       "      <td>...</td>\n",
       "    </tr>\n",
       "    <tr>\n",
       "      <th>1437909</th>\n",
       "      <td>protrusion</td>\n",
       "      <td>pattern</td>\n",
       "      <td>9</td>\n",
       "      <td>0-10</td>\n",
       "      <td>164</td>\n",
       "      <td>blank</td>\n",
       "      <td>100</td>\n",
       "      <td>60-120</td>\n",
       "      <td>1.5</td>\n",
       "      <td>0.4</td>\n",
       "      <td>0.3-0.4</td>\n",
       "      <td>/mnt/data/david/simulated_cells/with_dapi/cust...</td>\n",
       "      <td>train</td>\n",
       "      <td>/mnt/data/david/simulated_cells/with_dapi/cust...</td>\n",
       "    </tr>\n",
       "    <tr>\n",
       "      <th>1437910</th>\n",
       "      <td>protrusion</td>\n",
       "      <td>pattern</td>\n",
       "      <td>9</td>\n",
       "      <td>0-10</td>\n",
       "      <td>164</td>\n",
       "      <td>blank</td>\n",
       "      <td>151</td>\n",
       "      <td>120-180</td>\n",
       "      <td>1.5</td>\n",
       "      <td>0.4</td>\n",
       "      <td>0.3-0.4</td>\n",
       "      <td>/mnt/data/david/simulated_cells/with_dapi/cust...</td>\n",
       "      <td>train</td>\n",
       "      <td>/mnt/data/david/simulated_cells/with_dapi/cust...</td>\n",
       "    </tr>\n",
       "    <tr>\n",
       "      <th>1437911</th>\n",
       "      <td>protrusion</td>\n",
       "      <td>pattern</td>\n",
       "      <td>9</td>\n",
       "      <td>0-10</td>\n",
       "      <td>164</td>\n",
       "      <td>blank</td>\n",
       "      <td>266</td>\n",
       "      <td>240-300</td>\n",
       "      <td>1.5</td>\n",
       "      <td>0.4</td>\n",
       "      <td>0.3-0.4</td>\n",
       "      <td>/mnt/data/david/simulated_cells/with_dapi/cust...</td>\n",
       "      <td>val</td>\n",
       "      <td>/mnt/data/david/simulated_cells/with_dapi/cust...</td>\n",
       "    </tr>\n",
       "    <tr>\n",
       "      <th>1437912</th>\n",
       "      <td>protrusion</td>\n",
       "      <td>pattern</td>\n",
       "      <td>9</td>\n",
       "      <td>0-10</td>\n",
       "      <td>164</td>\n",
       "      <td>blank</td>\n",
       "      <td>345</td>\n",
       "      <td>300+</td>\n",
       "      <td>1.5</td>\n",
       "      <td>0.4</td>\n",
       "      <td>0.3-0.4</td>\n",
       "      <td>/mnt/data/david/simulated_cells/with_dapi/cust...</td>\n",
       "      <td>train</td>\n",
       "      <td>/mnt/data/david/simulated_cells/with_dapi/cust...</td>\n",
       "    </tr>\n",
       "    <tr>\n",
       "      <th>1437913</th>\n",
       "      <td>protrusion</td>\n",
       "      <td>pattern</td>\n",
       "      <td>9</td>\n",
       "      <td>0-10</td>\n",
       "      <td>164</td>\n",
       "      <td>blank</td>\n",
       "      <td>41</td>\n",
       "      <td>0-60</td>\n",
       "      <td>1.5</td>\n",
       "      <td>0.4</td>\n",
       "      <td>0.3-0.4</td>\n",
       "      <td>/mnt/data/david/simulated_cells/with_dapi/cust...</td>\n",
       "      <td>train</td>\n",
       "      <td>/mnt/data/david/simulated_cells/with_dapi/cust...</td>\n",
       "    </tr>\n",
       "  </tbody>\n",
       "</table>\n",
       "<p>37979 rows × 14 columns</p>\n",
       "</div>"
      ],
      "text/plain": [
       "            pattern random_or_pattern  n_spots n_spots_interval cell_id  \\\n",
       "1324002  protrusion           pattern      100             100+      36   \n",
       "1324003  protrusion           pattern      100             100+      36   \n",
       "1324004  protrusion           pattern      100             100+      36   \n",
       "1324005  protrusion           pattern      100             100+      36   \n",
       "1324006  protrusion           pattern      100             100+      36   \n",
       "...             ...               ...      ...              ...     ...   \n",
       "1437909  protrusion           pattern        9             0-10     164   \n",
       "1437910  protrusion           pattern        9             0-10     164   \n",
       "1437911  protrusion           pattern        9             0-10     164   \n",
       "1437912  protrusion           pattern        9             0-10     164   \n",
       "1437913  protrusion           pattern        9             0-10     164   \n",
       "\n",
       "         genes  rotation rotation_interval  blur  prop prop_interval  \\\n",
       "1324002  blank        12              0-60   1.5   0.4       0.3-0.4   \n",
       "1324003  blank        21              0-60   1.5   0.4       0.3-0.4   \n",
       "1324004  blank       238           180-240   1.5   0.4       0.3-0.4   \n",
       "1324005  blank       277           240-300   1.5   0.4       0.3-0.4   \n",
       "1324006  blank        31              0-60   1.5   0.4       0.3-0.4   \n",
       "...        ...       ...               ...   ...   ...           ...   \n",
       "1437909  blank       100            60-120   1.5   0.4       0.3-0.4   \n",
       "1437910  blank       151           120-180   1.5   0.4       0.3-0.4   \n",
       "1437911  blank       266           240-300   1.5   0.4       0.3-0.4   \n",
       "1437912  blank       345              300+   1.5   0.4       0.3-0.4   \n",
       "1437913  blank        41              0-60   1.5   0.4       0.3-0.4   \n",
       "\n",
       "                                       corresponding_dapis train_or_val  \\\n",
       "1324002  /mnt/data/david/simulated_cells/with_dapi/cust...        train   \n",
       "1324003  /mnt/data/david/simulated_cells/with_dapi/cust...        train   \n",
       "1324004  /mnt/data/david/simulated_cells/with_dapi/cust...          val   \n",
       "1324005  /mnt/data/david/simulated_cells/with_dapi/cust...        train   \n",
       "1324006  /mnt/data/david/simulated_cells/with_dapi/cust...          val   \n",
       "...                                                    ...          ...   \n",
       "1437909  /mnt/data/david/simulated_cells/with_dapi/cust...        train   \n",
       "1437910  /mnt/data/david/simulated_cells/with_dapi/cust...        train   \n",
       "1437911  /mnt/data/david/simulated_cells/with_dapi/cust...          val   \n",
       "1437912  /mnt/data/david/simulated_cells/with_dapi/cust...        train   \n",
       "1437913  /mnt/data/david/simulated_cells/with_dapi/cust...        train   \n",
       "\n",
       "                                      original_image_paths  \n",
       "1324002  /mnt/data/david/simulated_cells/with_dapi/cust...  \n",
       "1324003  /mnt/data/david/simulated_cells/with_dapi/cust...  \n",
       "1324004  /mnt/data/david/simulated_cells/with_dapi/cust...  \n",
       "1324005  /mnt/data/david/simulated_cells/with_dapi/cust...  \n",
       "1324006  /mnt/data/david/simulated_cells/with_dapi/cust...  \n",
       "...                                                    ...  \n",
       "1437909  /mnt/data/david/simulated_cells/with_dapi/cust...  \n",
       "1437910  /mnt/data/david/simulated_cells/with_dapi/cust...  \n",
       "1437911  /mnt/data/david/simulated_cells/with_dapi/cust...  \n",
       "1437912  /mnt/data/david/simulated_cells/with_dapi/cust...  \n",
       "1437913  /mnt/data/david/simulated_cells/with_dapi/cust...  \n",
       "\n",
       "[37979 rows x 14 columns]"
      ]
     },
     "execution_count": 29,
     "metadata": {},
     "output_type": "execute_result"
    }
   ],
   "source": [
    "adata_protrusion_mid.obs"
   ]
  },
  {
   "cell_type": "code",
   "execution_count": 23,
   "metadata": {},
   "outputs": [],
   "source": [
    "import anndata"
   ]
  },
  {
   "cell_type": "code",
   "execution_count": 28,
   "metadata": {},
   "outputs": [],
   "source": [
    "adata_total_mid = anndata.concat([adata_mid, adata_protrusion_mid], merge='same')\n",
    "adata_total_low = anndata.concat([adata_low, adata_protrusion_low], merge='same')"
   ]
  },
  {
   "cell_type": "markdown",
   "metadata": {},
   "source": [
    "### Count Bins"
   ]
  },
  {
   "cell_type": "code",
   "execution_count": 47,
   "metadata": {},
   "outputs": [
    {
     "data": {
      "text/plain": [
       "AnnData object with n_obs × n_vars = 1627152 × 15\n",
       "    obs: 'pattern', 'random_or_pattern', 'n_spots', 'n_spots_interval', 'cell_id', 'genes', 'rotation', 'rotation_interval', 'blur', 'prop', 'prop_interval', 'corresponding_dapis', 'train_or_val', 'original_image_paths', 'pattern_strength'\n",
       "    obsm: 'latent'"
      ]
     },
     "execution_count": 47,
     "metadata": {},
     "output_type": "execute_result"
    }
   ],
   "source": [
    "adata[adata.obs['pattern_strength']=='high'].obs['n_spots_interval'].value_counts()"
   ]
  },
  {
   "cell_type": "code",
   "execution_count": 51,
   "metadata": {},
   "outputs": [
    {
     "data": {
      "text/plain": [
       "array(['strong', 'low', 'intermediate'], dtype=object)"
      ]
     },
     "execution_count": 51,
     "metadata": {},
     "output_type": "execute_result"
    }
   ],
   "source": [
    "counts = adata.obs['n_spots_interval'].unique()\n",
    "pattern_strength = adata.obs['pattern_strength'].unique()\n",
    "pattern_strength"
   ]
  },
  {
   "cell_type": "code",
   "execution_count": 49,
   "metadata": {},
   "outputs": [
    {
     "name": "stdout",
     "output_type": "stream",
     "text": [
      "f1 score for 100+:  0.9898959760901778\n",
      "f1 score for 0-10:  0.9385078944196698\n",
      "f1 score for 10-20:  0.9473576102585171\n",
      "f1 score for 20-30:  0.9645491742078071\n",
      "f1 score for 30-40:  0.9690537987805815\n",
      "f1 score for 40-50:  0.9763023057216056\n",
      "f1 score for 50-60:  0.9806172839506174\n",
      "f1 score for 70-80:  0.9823669143622853\n",
      "f1 score for 80-90:  0.9847821492194813\n",
      "f1 score for 90-100:  0.9869442915672966\n"
     ]
    }
   ],
   "source": [
    "for count in counts:\n",
    "    adata_count = adata[(adata.obs['n_spots_interval']==count)&(adata.obs['pattern_strength']=='strong')]\n",
    "    rf_score = rf_classifier.predict(adata_count.obsm[\"latent\"])\n",
    "\n",
    "    print(f\"f1 score for {count}: \", f1_score(adata_count.obs[\"random_or_pattern\"], rf_score, pos_label='pattern'))\n",
    "\n",
    "    confusion_matrix = metrics.confusion_matrix(adata_count.obs[\"random_or_pattern\"],rf_score, labels = rf_classifier.classes_)\n",
    "    cm_display = metrics.ConfusionMatrixDisplay(confusion_matrix = confusion_matrix, display_labels = rf_classifier.classes_) \n",
    "    cm_display.plot()\n",
    "    plt.savefig(f'images/confusion_matrix/pattern_strong_{count}.png')\n",
    "    plt.close()"
   ]
  },
  {
   "cell_type": "code",
   "execution_count": 22,
   "metadata": {},
   "outputs": [
    {
     "name": "stdout",
     "output_type": "stream",
     "text": [
      "f1 score for 100+:  0.9248306997742664\n",
      "f1 score for 0-10:  0.14309707759489418\n",
      "f1 score for 10-20:  0.4825497548312662\n",
      "f1 score for 20-30:  0.6797085806799783\n",
      "f1 score for 30-40:  0.750711369541012\n",
      "f1 score for 40-50:  0.8193023255813954\n",
      "f1 score for 50-60:  0.8481624758220503\n",
      "f1 score for 70-80:  0.8524088707621719\n",
      "f1 score for 80-90:  0.8702702702702703\n",
      "f1 score for 90-100:  0.9025114155251142\n"
     ]
    }
   ],
   "source": [
    "#inverse F1 (for the TN)\n",
    "for count in counts:\n",
    "    adata_count = adata[(adata.obs['n_spots_interval']==count)&(adata.obs['pattern_strength']=='strong')]\n",
    "    rf_score = models['pattern'].predict(adata_count.obsm[\"latent\"])\n",
    "\n",
    "    print(f\"f1 score for {count}: \", f1_score(adata_count.obs[\"random_or_pattern\"], rf_score, pos_label='random'))\n",
    "\n",
    "    confusion_matrix = metrics.confusion_matrix(adata_count.obs[\"random_or_pattern\"],rf_score, labels = models['pattern'].classes_)\n",
    "    cm_display = metrics.ConfusionMatrixDisplay(confusion_matrix = confusion_matrix, display_labels = models['pattern'].classes_) \n",
    "    cm_display.plot()\n",
    "    plt.savefig(f'images/confusion_matrix/pattern_strong_{count}.png')\n",
    "    plt.close()"
   ]
  },
  {
   "cell_type": "code",
   "execution_count": 53,
   "metadata": {},
   "outputs": [
    {
     "name": "stdout",
     "output_type": "stream",
     "text": [
      "f1 score for 100+ & strong:  0.9898959760901778\n",
      "f1 score for 0-10 & strong:  0.9385078944196698\n",
      "f1 score for 10-20 & strong:  0.9473576102585171\n",
      "f1 score for 20-30 & strong:  0.9645491742078071\n",
      "f1 score for 30-40 & strong:  0.9690537987805815\n",
      "f1 score for 40-50 & strong:  0.9763023057216056\n",
      "f1 score for 50-60 & strong:  0.9806172839506174\n",
      "f1 score for 70-80 & strong:  0.9823669143622853\n",
      "f1 score for 80-90 & strong:  0.9847821492194813\n",
      "f1 score for 90-100 & strong:  0.9869442915672966\n",
      "f1 score for 100+ & low:  0.19111762102275578\n",
      "f1 score for 0-10 & low:  0.9066160177271287\n",
      "f1 score for 10-20 & low:  0.7511935045475137\n",
      "f1 score for 20-30 & low:  0.6141176942034503\n",
      "f1 score for 30-40 & low:  0.49675856198022394\n",
      "f1 score for 40-50 & low:  0.42207109303793033\n",
      "f1 score for 50-60 & low:  0.35429678044057134\n",
      "f1 score for 70-80 & low:  0.3158668593302406\n",
      "f1 score for 80-90 & low:  0.26507717535594366\n",
      "f1 score for 90-100 & low:  0.2451623094542295\n",
      "f1 score for 100+ & intermediate:  0.8210173400783485\n",
      "f1 score for 0-10 & intermediate:  0.9222171368005203\n",
      "f1 score for 10-20 & intermediate:  0.8654274373124213\n",
      "f1 score for 20-30 & intermediate:  0.8473385294970408\n",
      "f1 score for 30-40 & intermediate:  0.8402745540155183\n",
      "f1 score for 40-50 & intermediate:  0.8410114421056143\n",
      "f1 score for 50-60 & intermediate:  0.8394252064484009\n",
      "f1 score for 70-80 & intermediate:  0.8329340786088191\n",
      "f1 score for 80-90 & intermediate:  0.8318037477754127\n",
      "f1 score for 90-100 & intermediate:  0.830223523057893\n"
     ]
    }
   ],
   "source": [
    "for strength in pattern_strength:\n",
    "    for count in counts:\n",
    "\n",
    "        adata_count = adata[(adata.obs['n_spots_interval']==count)&(adata.obs['pattern_strength']==strength)]\n",
    "        rf_score = rf_classifier.predict(adata_count.obsm[\"latent\"])\n",
    "\n",
    "        print(f\"f1 score for {count} & {strength}: \", f1_score(adata_count.obs[\"random_or_pattern\"], rf_score, pos_label='pattern'))\n",
    "\n",
    "        confusion_matrix = metrics.confusion_matrix(adata_count.obs[\"random_or_pattern\"],rf_score, labels = rf_classifier.classes_)\n",
    "        cm_display = metrics.ConfusionMatrixDisplay(confusion_matrix = confusion_matrix, display_labels = rf_classifier.classes_) \n",
    "        cm_display.plot()\n",
    "        plt.savefig(f'images/confusion_matrix/pattern_{strength}_{count}.png')\n",
    "        plt.close()"
   ]
  },
  {
   "cell_type": "code",
   "execution_count": 21,
   "metadata": {},
   "outputs": [
    {
     "data": {
      "text/plain": [
       "random    8037\n",
       "Name: random_or_pattern, dtype: int64"
      ]
     },
     "execution_count": 21,
     "metadata": {},
     "output_type": "execute_result"
    }
   ],
   "source": [
    "adata_test.obs['random_or_pattern'].value_counts()"
   ]
  },
  {
   "cell_type": "code",
   "execution_count": 19,
   "metadata": {},
   "outputs": [
    {
     "data": {
      "text/plain": [
       "0.0"
      ]
     },
     "execution_count": 19,
     "metadata": {},
     "output_type": "execute_result"
    }
   ],
   "source": [
    "adata_test = adata[(adata.obs['n_spots_interval']=='0-10')&(adata.obs['pattern']=='random')]\n",
    "rf_score = models['pattern'].predict(adata_test.obsm[\"latent\"])\n",
    "f1_score(adata_test.obs[\"random_or_pattern\"], rf_score, pos_label='pattern')"
   ]
  },
  {
   "cell_type": "code",
   "execution_count": 14,
   "metadata": {},
   "outputs": [
    {
     "data": {
      "text/plain": [
       "{'100+': 0.0,\n",
       " '0-10': 0.0,\n",
       " '10-20': 0.0,\n",
       " '20-30': 0.0,\n",
       " '30-40': 0.0,\n",
       " '40-50': 0.0,\n",
       " '50-60': 0.0,\n",
       " '70-80': 0.0,\n",
       " '80-90': 0.0,\n",
       " '90-100': 0.0}"
      ]
     },
     "execution_count": 14,
     "metadata": {},
     "output_type": "execute_result"
    }
   ],
   "source": [
    "scores = {}\n",
    "for count in counts:\n",
    "    adata_count = adata[(adata.obs['n_spots_interval']==count)&(adata.obs['pattern']=='random')]\n",
    "    rf_score = models['pattern'].predict(adata_count.obsm[\"latent\"])\n",
    "\n",
    "    scores[count] = f1_score(adata_count.obs[\"random_or_pattern\"], rf_score, pos_label='pattern')\n",
    "\n",
    "    confusion_matrix = metrics.confusion_matrix(adata_count.obs[\"random_or_pattern\"],rf_score, labels = models['pattern'].classes_)\n",
    "    cm_display = metrics.ConfusionMatrixDisplay(confusion_matrix = confusion_matrix, display_labels = models['pattern'].classes_) \n",
    "    cm_display.plot()\n",
    "    plt.savefig(f'images/confusion_matrix/pattern_random_{count}.png')\n",
    "    plt.close()\n",
    "scores"
   ]
  },
  {
   "cell_type": "code",
   "execution_count": 23,
   "metadata": {},
   "outputs": [
    {
     "data": {
      "text/plain": [
       "{'100+': 0.9647086673198445,\n",
       " '0-10': 0.14108939516595354,\n",
       " '10-20': 0.5318339487523778,\n",
       " '20-30': 0.7340600268777064,\n",
       " '30-40': 0.8091042584434656,\n",
       " '40-50': 0.8721093650185255,\n",
       " '50-60': 0.896106727122117,\n",
       " '70-80': 0.9153478584893253,\n",
       " '80-90': 0.929637526652452,\n",
       " '90-100': 0.9469351519309149}"
      ]
     },
     "execution_count": 23,
     "metadata": {},
     "output_type": "execute_result"
    }
   ],
   "source": [
    "scores = {}\n",
    "for count in counts:\n",
    "    adata_count = adata[(adata.obs['n_spots_interval']==count)&(adata.obs['pattern']=='random')]\n",
    "    rf_score = models['pattern'].predict(adata_count.obsm[\"latent\"])\n",
    "\n",
    "    scores[count] = f1_score(adata_count.obs[\"random_or_pattern\"], rf_score, pos_label='random')\n",
    "scores"
   ]
  },
  {
   "cell_type": "code",
   "execution_count": 8,
   "metadata": {},
   "outputs": [],
   "source": [
    "scores = {}\n",
    "pattern_strength = adata.obs['pattern_strength'].unique()\n",
    "counts = adata.obs['n_spots_interval'].unique()\n",
    "patterns = adata.obs['pattern'].unique()\n",
    "\n",
    "for strength in pattern_strength:\n",
    "    for pattern in patterns:\n",
    "        for count in counts:\n",
    "\n",
    "            adata_count = adata[(adata.obs['n_spots_interval']==count)&(adata.obs['pattern_strength']==strength)&(adata.obs['pattern']==pattern)]\n",
    "            rf_score = models['pattern'].predict(adata_count.obsm[\"latent\"])\n",
    "\n",
    "            score = f\"{pattern}_{strength}_{count}\"\n",
    "\n",
    "            scores[score] = f1_score(adata_count.obs[\"random_or_pattern\"], rf_score, pos_label='pattern')\n",
    "\n",
    "            confusion_matrix = metrics.confusion_matrix(adata_count.obs[\"random_or_pattern\"],rf_score, labels = models['pattern'].classes_)\n",
    "            cm_display = metrics.ConfusionMatrixDisplay(confusion_matrix = confusion_matrix, display_labels = models['pattern'].classes_) \n",
    "            cm_display.plot()\n",
    "            plt.savefig(f'images/confusion_matrix/pattern_{pattern}_{strength}_{count}.png')\n",
    "            plt.close()"
   ]
  },
  {
   "cell_type": "markdown",
   "metadata": {},
   "source": [
    "Cell below doesn't work because none of them are true negative. Only works on overall level. On this level would only really be able to test for the accuracy. "
   ]
  },
  {
   "cell_type": "code",
   "execution_count": null,
   "metadata": {},
   "outputs": [],
   "source": [
    "scores = {}\n",
    "pattern_strength = adata.obs['pattern_strength'].unique()\n",
    "counts = adata.obs['n_spots_interval'].unique()\n",
    "patterns = adata[adata.obs['pattern']!='random'].obs['pattern'].unique()\n",
    "\n",
    "for strength in pattern_strength:\n",
    "    for pattern in patterns:\n",
    "        for count in counts:\n",
    "\n",
    "            adata_count = adata[(adata.obs['n_spots_interval']==count)&(adata.obs['pattern_strength']==strength)&(adata.obs['pattern']==pattern)]\n",
    "            rf_score = models['pattern'].predict(adata_count.obsm[\"latent\"])\n",
    "\n",
    "            score = f\"{pattern}_{strength}_{count}\"\n",
    "\n",
    "            scores[score] = f1_score(adata_count.obs[\"random_or_pattern\"], rf_score, pos_label='random')\n",
    "\n",
    "with open('dict_f1_TN.csv', 'w') as f:\n",
    "    writer = csv.writer(f)\n",
    "    for key, values in scores.items():\n",
    "        writer.writerow([key] + [str(values)])"
   ]
  },
  {
   "cell_type": "code",
   "execution_count": 12,
   "metadata": {},
   "outputs": [],
   "source": [
    "import csv\n",
    "\n",
    "with open('dict.csv', 'w') as f:\n",
    "    writer = csv.writer(f)\n",
    "    for key, values in scores.items():\n",
    "        writer.writerow([key] + [str(values)])"
   ]
  },
  {
   "cell_type": "markdown",
   "metadata": {},
   "source": [
    "### Pattern strength"
   ]
  },
  {
   "cell_type": "code",
   "execution_count": 38,
   "metadata": {},
   "outputs": [
    {
     "name": "stdout",
     "output_type": "stream",
     "text": [
      "f1 score: \n",
      "0.8372259184980033\n"
     ]
    },
    {
     "data": {
      "image/png": "[encoded data removed]",
      "text/plain": [
       "<Figure size 432x288 with 2 Axes>"
      ]
     },
     "metadata": {
      "needs_background": "light"
     },
     "output_type": "display_data"
    }
   ],
   "source": [
    "adata_test = adata[adata.obs['pattern_strength']=='intermediate']\n",
    "mid_score = rf_classifier.predict(adata_test.obsm[\"latent\"])\n",
    "\n",
    "print(\"f1 score: \")\n",
    "print(f1_score(adata_test.obs[\"random_or_pattern\"], mid_score, pos_label='pattern'))\n",
    "\n",
    "confusion_matrix = metrics.confusion_matrix(adata_test.obs[\"random_or_pattern\"], mid_score, labels = rf_classifier.classes_)\n",
    "cm_display = metrics.ConfusionMatrixDisplay(confusion_matrix = confusion_matrix, display_labels = rf_classifier.classes_) \n",
    "cm_display.plot()\n",
    "plt.show()"
   ]
  },
  {
   "cell_type": "code",
   "execution_count": 32,
   "metadata": {},
   "outputs": [
    {
     "name": "stdout",
     "output_type": "stream",
     "text": [
      "f1 score: \n",
      "0.3918086889597642\n"
     ]
    },
    {
     "data": {
      "image/png": "[encoded data removed]",
      "text/plain": [
       "<Figure size 432x288 with 2 Axes>"
      ]
     },
     "metadata": {
      "needs_background": "light"
     },
     "output_type": "display_data"
    }
   ],
   "source": [
    "low_score = rf_classifier.predict(adata_total_low.obsm[\"latent\"])\n",
    "\n",
    "print(\"f1 score: \")\n",
    "print(f1_score(adata_total_low.obs[\"random_or_pattern\"], low_score, pos_label='pattern'))\n",
    "\n",
    "confusion_matrix = metrics.confusion_matrix(adata_total_low.obs[\"random_or_pattern\"], low_score, labels = rf_classifier.classes_)\n",
    "cm_display = metrics.ConfusionMatrixDisplay(confusion_matrix = confusion_matrix, display_labels = rf_classifier.classes_) \n",
    "cm_display.plot()\n",
    "plt.show()"
   ]
  },
  {
   "cell_type": "markdown",
   "metadata": {},
   "source": [
    "### Initial exploration"
   ]
  },
  {
   "cell_type": "code",
   "execution_count": 9,
   "metadata": {},
   "outputs": [
    {
     "data": {
      "text/html": [
       "<style>#sk-container-id-1 {color: black;background-color: white;}#sk-container-id-1 pre{padding: 0;}#sk-container-id-1 div.sk-toggleable {background-color: white;}#sk-container-id-1 label.sk-toggleable__label {cursor: pointer;display: block;width: 100%;margin-bottom: 0;padding: 0.3em;box-sizing: border-box;text-align: center;}#sk-container-id-1 label.sk-toggleable__label-arrow:before {content: \"▸\";float: left;margin-right: 0.25em;color: #696969;}#sk-container-id-1 label.sk-toggleable__label-arrow:hover:before {color: black;}#sk-container-id-1 div.sk-estimator:hover label.sk-toggleable__label-arrow:before {color: black;}#sk-container-id-1 div.sk-toggleable__content {max-height: 0;max-width: 0;overflow: hidden;text-align: left;background-color: #f0f8ff;}#sk-container-id-1 div.sk-toggleable__content pre {margin: 0.2em;color: black;border-radius: 0.25em;background-color: #f0f8ff;}#sk-container-id-1 input.sk-toggleable__control:checked~div.sk-toggleable__content {max-height: 200px;max-width: 100%;overflow: auto;}#sk-container-id-1 input.sk-toggleable__control:checked~label.sk-toggleable__label-arrow:before {content: \"▾\";}#sk-container-id-1 div.sk-estimator input.sk-toggleable__control:checked~label.sk-toggleable__label {background-color: #d4ebff;}#sk-container-id-1 div.sk-label input.sk-toggleable__control:checked~label.sk-toggleable__label {background-color: #d4ebff;}#sk-container-id-1 input.sk-hidden--visually {border: 0;clip: rect(1px 1px 1px 1px);clip: rect(1px, 1px, 1px, 1px);height: 1px;margin: -1px;overflow: hidden;padding: 0;position: absolute;width: 1px;}#sk-container-id-1 div.sk-estimator {font-family: monospace;background-color: #f0f8ff;border: 1px dotted black;border-radius: 0.25em;box-sizing: border-box;margin-bottom: 0.5em;}#sk-container-id-1 div.sk-estimator:hover {background-color: #d4ebff;}#sk-container-id-1 div.sk-parallel-item::after {content: \"\";width: 100%;border-bottom: 1px solid gray;flex-grow: 1;}#sk-container-id-1 div.sk-label:hover label.sk-toggleable__label {background-color: #d4ebff;}#sk-container-id-1 div.sk-serial::before {content: \"\";position: absolute;border-left: 1px solid gray;box-sizing: border-box;top: 0;bottom: 0;left: 50%;z-index: 0;}#sk-container-id-1 div.sk-serial {display: flex;flex-direction: column;align-items: center;background-color: white;padding-right: 0.2em;padding-left: 0.2em;position: relative;}#sk-container-id-1 div.sk-item {position: relative;z-index: 1;}#sk-container-id-1 div.sk-parallel {display: flex;align-items: stretch;justify-content: center;background-color: white;position: relative;}#sk-container-id-1 div.sk-item::before, #sk-container-id-1 div.sk-parallel-item::before {content: \"\";position: absolute;border-left: 1px solid gray;box-sizing: border-box;top: 0;bottom: 0;left: 50%;z-index: -1;}#sk-container-id-1 div.sk-parallel-item {display: flex;flex-direction: column;z-index: 1;position: relative;background-color: white;}#sk-container-id-1 div.sk-parallel-item:first-child::after {align-self: flex-end;width: 50%;}#sk-container-id-1 div.sk-parallel-item:last-child::after {align-self: flex-start;width: 50%;}#sk-container-id-1 div.sk-parallel-item:only-child::after {width: 0;}#sk-container-id-1 div.sk-dashed-wrapped {border: 1px dashed gray;margin: 0 0.4em 0.5em 0.4em;box-sizing: border-box;padding-bottom: 0.4em;background-color: white;}#sk-container-id-1 div.sk-label label {font-family: monospace;font-weight: bold;display: inline-block;line-height: 1.2em;}#sk-container-id-1 div.sk-label-container {text-align: center;}#sk-container-id-1 div.sk-container {/* jupyter's `normalize.less` sets `[hidden] { display: none; }` but bootstrap.min.css set `[hidden] { display: none !important; }` so we also need the `!important` here to be able to override the default hidden behavior on the sphinx rendered scikit-learn.org. See: https://github.com/scikit-learn/scikit-learn/issues/21755 */display: inline-block !important;position: relative;}#sk-container-id-1 div.sk-text-repr-fallback {display: none;}</style><div id=\"sk-container-id-1\" class=\"sk-top-container\"><div class=\"sk-text-repr-fallback\"><pre>RandomForestClassifier(max_features=3, n_estimators=150, random_state=101)</pre><b>In a Jupyter environment, please rerun this cell to show the HTML representation or trust the notebook. <br />On GitHub, the HTML representation is unable to render, please try loading this page with nbviewer.org.</b></div><div class=\"sk-container\" hidden><div class=\"sk-item\"><div class=\"sk-estimator sk-toggleable\"><input class=\"sk-toggleable__control sk-hidden--visually\" id=\"sk-estimator-id-1\" type=\"checkbox\" checked><label for=\"sk-estimator-id-1\" class=\"sk-toggleable__label sk-toggleable__label-arrow\">RandomForestClassifier</label><div class=\"sk-toggleable__content\"><pre>RandomForestClassifier(max_features=3, n_estimators=150, random_state=101)</pre></div></div></div></div></div>"
      ],
      "text/plain": [
       "RandomForestClassifier(max_features=3, n_estimators=150, random_state=101)"
      ]
     },
     "execution_count": 9,
     "metadata": {},
     "output_type": "execute_result"
    }
   ],
   "source": [
    "# create random forest classifier and fit on training data\n",
    "rf_classifier = RandomForestClassifier(n_estimators=150, random_state=seed, max_features=3, bootstrap=True, oob_score=False)\n",
    "rf_classifier.fit(train_adata.obsm[\"latent\"], train_adata.obs[\"random_or_pattern\"])\n",
    "    \n",
    "#predict label"
   ]
  },
  {
   "cell_type": "code",
   "execution_count": null,
   "metadata": {},
   "outputs": [],
   "source": [
    "rf_classifier"
   ]
  },
  {
   "cell_type": "code",
   "execution_count": 16,
   "metadata": {},
   "outputs": [],
   "source": [
    "random_pred = rf_classifier.predict(random_dict_mixed.get(0).obsm[\"latent\"])\n",
    "pericellular_pred = rf_classifier.predict(pericellular_dict.get(0).obsm[\"latent\"])"
   ]
  },
  {
   "cell_type": "code",
   "execution_count": 19,
   "metadata": {},
   "outputs": [
    {
     "data": {
      "text/plain": [
       "array(['pattern'], dtype=object)"
      ]
     },
     "execution_count": 19,
     "metadata": {},
     "output_type": "execute_result"
    }
   ],
   "source": [
    "np.unique(pericellular_pred)"
   ]
  },
  {
   "cell_type": "code",
   "execution_count": 22,
   "metadata": {},
   "outputs": [
    {
     "data": {
      "text/plain": [
       "Counter({'random': 251, 'pattern': 66})"
      ]
     },
     "execution_count": 22,
     "metadata": {},
     "output_type": "execute_result"
    }
   ],
   "source": [
    "from collections import Counter\n",
    "Counter(random_pred)"
   ]
  },
  {
   "cell_type": "code",
   "execution_count": 24,
   "metadata": {},
   "outputs": [
    {
     "data": {
      "text/plain": [
       "Counter({'random': 21, 'pattern': 232})"
      ]
     },
     "execution_count": 24,
     "metadata": {},
     "output_type": "execute_result"
    }
   ],
   "source": [
    "random_low_pred = rf_classifier.predict(random_dict_low.get(0).obsm[\"latent\"])\n",
    "Counter(random_low_pred)"
   ]
  },
  {
   "cell_type": "code",
   "execution_count": 24,
   "metadata": {},
   "outputs": [
    {
     "data": {
      "text/plain": [
       "array([[1.        , 0.        ],\n",
       "       [1.        , 0.        ],\n",
       "       [1.        , 0.        ],\n",
       "       [1.        , 0.        ],\n",
       "       [1.        , 0.        ],\n",
       "       [1.        , 0.        ],\n",
       "       [0.99333333, 0.00666667],\n",
       "       [1.        , 0.        ],\n",
       "       [1.        , 0.        ],\n",
       "       [1.        , 0.        ],\n",
       "       [1.        , 0.        ],\n",
       "       [1.        , 0.        ],\n",
       "       [1.        , 0.        ],\n",
       "       [1.        , 0.        ],\n",
       "       [1.        , 0.        ],\n",
       "       [0.99333333, 0.00666667],\n",
       "       [1.        , 0.        ],\n",
       "       [0.98      , 0.02      ],\n",
       "       [1.        , 0.        ],\n",
       "       [1.        , 0.        ],\n",
       "       [1.        , 0.        ],\n",
       "       [1.        , 0.        ],\n",
       "       [1.        , 0.        ],\n",
       "       [0.96666667, 0.03333333],\n",
       "       [1.        , 0.        ],\n",
       "       [1.        , 0.        ],\n",
       "       [1.        , 0.        ],\n",
       "       [1.        , 0.        ],\n",
       "       [1.        , 0.        ],\n",
       "       [1.        , 0.        ],\n",
       "       [1.        , 0.        ],\n",
       "       [1.        , 0.        ],\n",
       "       [1.        , 0.        ],\n",
       "       [1.        , 0.        ],\n",
       "       [1.        , 0.        ],\n",
       "       [0.95333333, 0.04666667],\n",
       "       [0.99333333, 0.00666667],\n",
       "       [1.        , 0.        ],\n",
       "       [1.        , 0.        ],\n",
       "       [1.        , 0.        ],\n",
       "       [1.        , 0.        ],\n",
       "       [1.        , 0.        ],\n",
       "       [1.        , 0.        ],\n",
       "       [1.        , 0.        ],\n",
       "       [1.        , 0.        ],\n",
       "       [1.        , 0.        ],\n",
       "       [1.        , 0.        ],\n",
       "       [1.        , 0.        ],\n",
       "       [0.98666667, 0.01333333],\n",
       "       [1.        , 0.        ],\n",
       "       [1.        , 0.        ],\n",
       "       [1.        , 0.        ],\n",
       "       [1.        , 0.        ],\n",
       "       [1.        , 0.        ],\n",
       "       [1.        , 0.        ],\n",
       "       [1.        , 0.        ],\n",
       "       [1.        , 0.        ],\n",
       "       [1.        , 0.        ],\n",
       "       [1.        , 0.        ],\n",
       "       [0.99333333, 0.00666667],\n",
       "       [1.        , 0.        ],\n",
       "       [1.        , 0.        ],\n",
       "       [1.        , 0.        ],\n",
       "       [1.        , 0.        ],\n",
       "       [1.        , 0.        ],\n",
       "       [1.        , 0.        ],\n",
       "       [1.        , 0.        ],\n",
       "       [1.        , 0.        ],\n",
       "       [1.        , 0.        ],\n",
       "       [1.        , 0.        ],\n",
       "       [1.        , 0.        ],\n",
       "       [1.        , 0.        ],\n",
       "       [1.        , 0.        ],\n",
       "       [1.        , 0.        ],\n",
       "       [1.        , 0.        ],\n",
       "       [1.        , 0.        ],\n",
       "       [1.        , 0.        ],\n",
       "       [1.        , 0.        ],\n",
       "       [0.99333333, 0.00666667],\n",
       "       [1.        , 0.        ],\n",
       "       [1.        , 0.        ],\n",
       "       [1.        , 0.        ],\n",
       "       [1.        , 0.        ],\n",
       "       [1.        , 0.        ],\n",
       "       [1.        , 0.        ],\n",
       "       [1.        , 0.        ],\n",
       "       [0.78      , 0.22      ],\n",
       "       [0.97333333, 0.02666667],\n",
       "       [1.        , 0.        ],\n",
       "       [1.        , 0.        ],\n",
       "       [1.        , 0.        ],\n",
       "       [1.        , 0.        ],\n",
       "       [1.        , 0.        ],\n",
       "       [1.        , 0.        ],\n",
       "       [1.        , 0.        ],\n",
       "       [0.99333333, 0.00666667],\n",
       "       [1.        , 0.        ],\n",
       "       [0.99333333, 0.00666667],\n",
       "       [1.        , 0.        ],\n",
       "       [1.        , 0.        ],\n",
       "       [1.        , 0.        ],\n",
       "       [1.        , 0.        ],\n",
       "       [1.        , 0.        ],\n",
       "       [1.        , 0.        ],\n",
       "       [1.        , 0.        ],\n",
       "       [1.        , 0.        ],\n",
       "       [1.        , 0.        ],\n",
       "       [1.        , 0.        ],\n",
       "       [1.        , 0.        ],\n",
       "       [0.98666667, 0.01333333],\n",
       "       [0.93333333, 0.06666667],\n",
       "       [1.        , 0.        ],\n",
       "       [1.        , 0.        ],\n",
       "       [1.        , 0.        ],\n",
       "       [1.        , 0.        ],\n",
       "       [1.        , 0.        ],\n",
       "       [1.        , 0.        ],\n",
       "       [1.        , 0.        ],\n",
       "       [1.        , 0.        ],\n",
       "       [1.        , 0.        ],\n",
       "       [1.        , 0.        ],\n",
       "       [1.        , 0.        ],\n",
       "       [1.        , 0.        ],\n",
       "       [1.        , 0.        ],\n",
       "       [0.98666667, 0.01333333],\n",
       "       [1.        , 0.        ],\n",
       "       [1.        , 0.        ],\n",
       "       [1.        , 0.        ],\n",
       "       [1.        , 0.        ],\n",
       "       [1.        , 0.        ],\n",
       "       [0.98666667, 0.01333333],\n",
       "       [1.        , 0.        ],\n",
       "       [1.        , 0.        ],\n",
       "       [1.        , 0.        ],\n",
       "       [1.        , 0.        ],\n",
       "       [1.        , 0.        ],\n",
       "       [1.        , 0.        ],\n",
       "       [1.        , 0.        ],\n",
       "       [1.        , 0.        ],\n",
       "       [1.        , 0.        ],\n",
       "       [1.        , 0.        ],\n",
       "       [1.        , 0.        ],\n",
       "       [1.        , 0.        ],\n",
       "       [1.        , 0.        ],\n",
       "       [0.98      , 0.02      ],\n",
       "       [1.        , 0.        ],\n",
       "       [1.        , 0.        ],\n",
       "       [1.        , 0.        ],\n",
       "       [1.        , 0.        ],\n",
       "       [1.        , 0.        ],\n",
       "       [1.        , 0.        ],\n",
       "       [1.        , 0.        ],\n",
       "       [1.        , 0.        ],\n",
       "       [1.        , 0.        ],\n",
       "       [1.        , 0.        ],\n",
       "       [1.        , 0.        ],\n",
       "       [1.        , 0.        ],\n",
       "       [1.        , 0.        ],\n",
       "       [1.        , 0.        ],\n",
       "       [1.        , 0.        ],\n",
       "       [1.        , 0.        ],\n",
       "       [1.        , 0.        ],\n",
       "       [1.        , 0.        ],\n",
       "       [1.        , 0.        ],\n",
       "       [1.        , 0.        ],\n",
       "       [1.        , 0.        ],\n",
       "       [1.        , 0.        ],\n",
       "       [1.        , 0.        ],\n",
       "       [1.        , 0.        ],\n",
       "       [0.99333333, 0.00666667],\n",
       "       [0.72666667, 0.27333333],\n",
       "       [1.        , 0.        ],\n",
       "       [0.96666667, 0.03333333],\n",
       "       [1.        , 0.        ],\n",
       "       [1.        , 0.        ],\n",
       "       [1.        , 0.        ],\n",
       "       [1.        , 0.        ],\n",
       "       [1.        , 0.        ],\n",
       "       [1.        , 0.        ],\n",
       "       [1.        , 0.        ],\n",
       "       [0.99333333, 0.00666667],\n",
       "       [1.        , 0.        ],\n",
       "       [1.        , 0.        ],\n",
       "       [1.        , 0.        ],\n",
       "       [0.98666667, 0.01333333],\n",
       "       [0.98      , 0.02      ],\n",
       "       [1.        , 0.        ],\n",
       "       [0.99333333, 0.00666667],\n",
       "       [1.        , 0.        ],\n",
       "       [1.        , 0.        ],\n",
       "       [1.        , 0.        ],\n",
       "       [1.        , 0.        ],\n",
       "       [1.        , 0.        ],\n",
       "       [1.        , 0.        ],\n",
       "       [0.99333333, 0.00666667],\n",
       "       [1.        , 0.        ],\n",
       "       [1.        , 0.        ],\n",
       "       [1.        , 0.        ],\n",
       "       [0.98666667, 0.01333333],\n",
       "       [0.97333333, 0.02666667],\n",
       "       [1.        , 0.        ],\n",
       "       [1.        , 0.        ],\n",
       "       [0.99333333, 0.00666667],\n",
       "       [1.        , 0.        ],\n",
       "       [1.        , 0.        ],\n",
       "       [1.        , 0.        ],\n",
       "       [1.        , 0.        ],\n",
       "       [1.        , 0.        ],\n",
       "       [1.        , 0.        ],\n",
       "       [1.        , 0.        ],\n",
       "       [1.        , 0.        ],\n",
       "       [1.        , 0.        ],\n",
       "       [1.        , 0.        ],\n",
       "       [0.99333333, 0.00666667],\n",
       "       [1.        , 0.        ],\n",
       "       [1.        , 0.        ],\n",
       "       [1.        , 0.        ],\n",
       "       [1.        , 0.        ],\n",
       "       [1.        , 0.        ],\n",
       "       [1.        , 0.        ],\n",
       "       [0.99333333, 0.00666667],\n",
       "       [1.        , 0.        ],\n",
       "       [1.        , 0.        ],\n",
       "       [1.        , 0.        ],\n",
       "       [1.        , 0.        ],\n",
       "       [1.        , 0.        ],\n",
       "       [1.        , 0.        ],\n",
       "       [1.        , 0.        ],\n",
       "       [1.        , 0.        ],\n",
       "       [1.        , 0.        ],\n",
       "       [1.        , 0.        ],\n",
       "       [1.        , 0.        ],\n",
       "       [1.        , 0.        ],\n",
       "       [1.        , 0.        ],\n",
       "       [0.96666667, 0.03333333],\n",
       "       [1.        , 0.        ],\n",
       "       [1.        , 0.        ],\n",
       "       [1.        , 0.        ],\n",
       "       [1.        , 0.        ],\n",
       "       [1.        , 0.        ],\n",
       "       [1.        , 0.        ],\n",
       "       [1.        , 0.        ],\n",
       "       [0.96666667, 0.03333333],\n",
       "       [1.        , 0.        ],\n",
       "       [1.        , 0.        ],\n",
       "       [1.        , 0.        ],\n",
       "       [1.        , 0.        ],\n",
       "       [1.        , 0.        ],\n",
       "       [1.        , 0.        ],\n",
       "       [1.        , 0.        ],\n",
       "       [1.        , 0.        ],\n",
       "       [1.        , 0.        ],\n",
       "       [1.        , 0.        ],\n",
       "       [1.        , 0.        ],\n",
       "       [1.        , 0.        ],\n",
       "       [0.94      , 0.06      ],\n",
       "       [1.        , 0.        ],\n",
       "       [0.99333333, 0.00666667],\n",
       "       [1.        , 0.        ],\n",
       "       [1.        , 0.        ],\n",
       "       [0.96      , 0.04      ],\n",
       "       [0.99333333, 0.00666667],\n",
       "       [1.        , 0.        ],\n",
       "       [1.        , 0.        ],\n",
       "       [1.        , 0.        ],\n",
       "       [1.        , 0.        ],\n",
       "       [0.99333333, 0.00666667],\n",
       "       [1.        , 0.        ],\n",
       "       [1.        , 0.        ],\n",
       "       [1.        , 0.        ],\n",
       "       [1.        , 0.        ],\n",
       "       [1.        , 0.        ],\n",
       "       [0.98666667, 0.01333333],\n",
       "       [1.        , 0.        ],\n",
       "       [1.        , 0.        ],\n",
       "       [0.98666667, 0.01333333],\n",
       "       [1.        , 0.        ],\n",
       "       [1.        , 0.        ],\n",
       "       [1.        , 0.        ],\n",
       "       [0.99333333, 0.00666667],\n",
       "       [1.        , 0.        ],\n",
       "       [1.        , 0.        ],\n",
       "       [1.        , 0.        ],\n",
       "       [1.        , 0.        ],\n",
       "       [1.        , 0.        ],\n",
       "       [1.        , 0.        ],\n",
       "       [1.        , 0.        ],\n",
       "       [1.        , 0.        ],\n",
       "       [1.        , 0.        ],\n",
       "       [1.        , 0.        ],\n",
       "       [1.        , 0.        ],\n",
       "       [0.92666667, 0.07333333],\n",
       "       [1.        , 0.        ],\n",
       "       [1.        , 0.        ],\n",
       "       [1.        , 0.        ],\n",
       "       [1.        , 0.        ],\n",
       "       [1.        , 0.        ],\n",
       "       [1.        , 0.        ],\n",
       "       [1.        , 0.        ],\n",
       "       [1.        , 0.        ],\n",
       "       [1.        , 0.        ],\n",
       "       [1.        , 0.        ],\n",
       "       [1.        , 0.        ],\n",
       "       [1.        , 0.        ],\n",
       "       [1.        , 0.        ],\n",
       "       [1.        , 0.        ],\n",
       "       [1.        , 0.        ],\n",
       "       [1.        , 0.        ],\n",
       "       [1.        , 0.        ],\n",
       "       [1.        , 0.        ],\n",
       "       [1.        , 0.        ],\n",
       "       [1.        , 0.        ],\n",
       "       [1.        , 0.        ],\n",
       "       [1.        , 0.        ],\n",
       "       [0.99333333, 0.00666667],\n",
       "       [1.        , 0.        ],\n",
       "       [1.        , 0.        ]])"
      ]
     },
     "execution_count": 24,
     "metadata": {},
     "output_type": "execute_result"
    }
   ],
   "source": [
    "models.get('pericellular').predict_proba(random_dict_mixed.get(0).obsm[\"latent\"])"
   ]
  },
  {
   "cell_type": "code",
   "execution_count": 49,
   "metadata": {},
   "outputs": [
    {
     "data": {
      "text/plain": [
       "array(['other', 'other', 'other', 'other', 'other', 'other', 'other',\n",
       "       'other', 'other', 'other', 'other', 'other', 'other',\n",
       "       'pericellular', 'other', 'pericellular', 'other', 'other', 'other',\n",
       "       'pericellular', 'other', 'other', 'other', 'pericellular',\n",
       "       'pericellular', 'other', 'other', 'pericellular', 'other',\n",
       "       'pericellular', 'other', 'other', 'other', 'other', 'other',\n",
       "       'other', 'other', 'other', 'other', 'pericellular', 'other',\n",
       "       'other', 'other', 'other', 'other', 'other', 'pericellular',\n",
       "       'other', 'other', 'pericellular', 'other', 'other', 'other',\n",
       "       'other', 'other', 'other', 'other', 'other', 'other', 'other',\n",
       "       'other', 'other', 'other', 'pericellular', 'other', 'other',\n",
       "       'pericellular', 'other', 'other', 'other', 'other', 'pericellular',\n",
       "       'other', 'other', 'other', 'other', 'other', 'pericellular',\n",
       "       'other', 'other', 'pericellular', 'other', 'other', 'pericellular',\n",
       "       'other', 'other', 'other', 'pericellular', 'other', 'other',\n",
       "       'other', 'other', 'other', 'pericellular', 'other', 'pericellular',\n",
       "       'pericellular', 'other', 'other', 'other', 'other', 'other',\n",
       "       'other', 'other', 'other', 'other', 'other', 'other', 'other',\n",
       "       'other', 'other', 'pericellular', 'other', 'other', 'other',\n",
       "       'other', 'other', 'other', 'other', 'other', 'other', 'other',\n",
       "       'other', 'other', 'other', 'other', 'other', 'other', 'other',\n",
       "       'other', 'other', 'other', 'pericellular', 'other', 'other',\n",
       "       'other', 'other', 'pericellular', 'other', 'other', 'other',\n",
       "       'other', 'other', 'other', 'other', 'other', 'pericellular',\n",
       "       'other', 'other', 'other', 'other', 'other', 'other',\n",
       "       'pericellular', 'other', 'other', 'other', 'other', 'pericellular',\n",
       "       'other', 'pericellular', 'other', 'other', 'other', 'other',\n",
       "       'other', 'other', 'other', 'other', 'other', 'other', 'other',\n",
       "       'pericellular', 'other', 'other', 'other', 'pericellular',\n",
       "       'pericellular', 'pericellular', 'other', 'other', 'other', 'other',\n",
       "       'other', 'other', 'other', 'other', 'other', 'other',\n",
       "       'pericellular', 'other', 'other', 'other', 'other', 'other',\n",
       "       'other', 'other', 'other', 'other', 'other', 'other', 'other',\n",
       "       'other', 'other', 'other', 'other', 'other', 'other', 'other',\n",
       "       'other', 'pericellular', 'other', 'other', 'other', 'other',\n",
       "       'other', 'other', 'other', 'pericellular', 'other', 'other',\n",
       "       'pericellular', 'other', 'other', 'other', 'other', 'other',\n",
       "       'other', 'other', 'other', 'other', 'other', 'other', 'other',\n",
       "       'pericellular', 'other', 'other', 'other', 'other', 'other',\n",
       "       'other', 'other', 'pericellular', 'other', 'other', 'other',\n",
       "       'other', 'other', 'other', 'pericellular', 'pericellular',\n",
       "       'pericellular', 'other', 'other', 'other', 'other', 'other',\n",
       "       'other'], dtype=object)"
      ]
     },
     "execution_count": 49,
     "metadata": {},
     "output_type": "execute_result"
    }
   ],
   "source": [
    "models.get('pericellular').predict_proba(pericellular_dict.get(0).obsm[\"latent\"])"
   ]
  },
  {
   "cell_type": "code",
   "execution_count": 40,
   "metadata": {},
   "outputs": [
    {
     "name": "stdout",
     "output_type": "stream",
     "text": [
      "Counter({'other': 229, 'pericellular': 29})\n",
      "Counter({'other': 317})\n",
      "Counter({'other': 252, 'pericellular': 1})\n"
     ]
    }
   ],
   "source": [
    "from collections import Counter\n",
    "print(Counter(models.get('pericellular').predict(pericellular_dict.get(3).obsm[\"latent\"])))\n",
    "print(Counter(models.get('pericellular').predict(random_dict_mixed.get(3).obsm[\"latent\"])))\n",
    "print(Counter(models.get('pericellular').predict(random_dict_low.get(3).obsm[\"latent\"])))"
   ]
  },
  {
   "cell_type": "code",
   "execution_count": 53,
   "metadata": {},
   "outputs": [
    {
     "data": {
      "text/plain": [
       "array([0, 1, 2, 3, 4, 5, 6, 7, 8, 9])"
      ]
     },
     "execution_count": 53,
     "metadata": {},
     "output_type": "execute_result"
    }
   ],
   "source": [
    "np.array(range(10))"
   ]
  },
  {
   "cell_type": "markdown",
   "metadata": {},
   "source": [
    "## Create dataframe"
   ]
  },
  {
   "cell_type": "code",
   "execution_count": null,
   "metadata": {},
   "outputs": [],
   "source": [
    "rows = []\n",
    "\n",
    "gene_id = np.array(range(10))\n",
    "for pattern in patterns:\n",
    "    for i in range(10):\n",
    "        pericellular_low = models.get(pattern).predict_proba(pericellular_dict_low.get(i).obsm[\"latent\"])[:,0]\n",
    "        pericellular_mixed = models.get(pattern).predict_proba(pericellular_dict_mixed.get(i).obsm[\"latent\"])[:,0]\n",
    "        pericellular_high = models.get(pattern).predict_proba(pericellular_dict_high.get(i).obsm[\"latent\"])[:,0]\n",
    "        random_mixed = models.get(pattern).predict_proba(random_dict_mixed.get(i).obsm[\"latent\"])[:,0]\n",
    "        random_low = models.get(pattern).predict_proba(random_dict_low.get(i).obsm[\"latent\"])[:,0]\n",
    "        random_high = models.get(pattern).predict_proba(random_dict_high.get(i).obsm[\"latent\"])[:,0]\n",
    "        for value in pericellular_low:\n",
    "            rows.append({'prob_pattern': value, 'group': 'pericellular', 'pattern': pattern, 'gene_id': i})\n",
    "        for value in pericellular_mixed:\n",
    "            rows.append({'prob_pattern': value, 'group': 'pericellular_mixed', 'pattern': pattern, 'gene_id': i})\n",
    "        for value in pericellular_high: \n",
    "            rows.append({'prob_pattern': value, 'group': 'pericellular_high', 'pattern': pattern, 'gene_id': i})\n",
    "        for value in random_mixed:\n",
    "            rows.append({'prob_pattern': value, 'group': 'random_mixed', 'pattern': pattern, 'gene_id': i})\n",
    "        for value in random_low:\n",
    "            rows.append({'prob_pattern': value, 'group': 'random_low', 'pattern': pattern, 'gene_id': i})\n",
    "        for value in random_high:\n",
    "            rows.append({'prob_pattern': value, 'group': 'random_high', 'pattern': pattern, 'gene_id': i})\n",
    "df = pd.DataFrame(rows)"
   ]
  },
  {
   "cell_type": "code",
   "execution_count": 13,
   "metadata": {},
   "outputs": [],
   "source": [
    "gene_id = np.array(range(10))\n",
    "groups = ['pericellular_low', 'pericellular_mixed', 'pericellular_high', 'random_mixed', 'random_low', 'random_high']\n",
    "dicts = ['pericellular_dict_low', 'pericellular_dict_mixed', 'pericellular_dict_high', 'random_dict_mixed', 'random_dict_low', 'random_dict_high']\n",
    "\n",
    "rows = [\n",
    "    {\n",
    "        'prob_pattern': value, \n",
    "        'group': group, \n",
    "        'pattern': pattern, \n",
    "        'gene_id': i\n",
    "    }\n",
    "    for pattern in patterns\n",
    "    for i in range(10)\n",
    "    for group, dict_name in zip(groups, dicts)\n",
    "    for value in models.get(pattern).predict_proba(globals()[dict_name].get(i).obsm[\"latent\"])[:,0]\n",
    "]\n",
    "\n",
    "df = pd.DataFrame(rows)"
   ]
  },
  {
   "cell_type": "code",
   "execution_count": 14,
   "metadata": {},
   "outputs": [
    {
     "data": {
      "text/html": [
       "<div>\n",
       "<style scoped>\n",
       "    .dataframe tbody tr th:only-of-type {\n",
       "        vertical-align: middle;\n",
       "    }\n",
       "\n",
       "    .dataframe tbody tr th {\n",
       "        vertical-align: top;\n",
       "    }\n",
       "\n",
       "    .dataframe thead th {\n",
       "        text-align: right;\n",
       "    }\n",
       "</style>\n",
       "<table border=\"1\" class=\"dataframe\">\n",
       "  <thead>\n",
       "    <tr style=\"text-align: right;\">\n",
       "      <th></th>\n",
       "      <th>prob_pattern</th>\n",
       "      <th>group</th>\n",
       "      <th>pattern</th>\n",
       "      <th>gene_id</th>\n",
       "    </tr>\n",
       "  </thead>\n",
       "  <tbody>\n",
       "    <tr>\n",
       "      <th>103740</th>\n",
       "      <td>0.913333</td>\n",
       "      <td>pericellular_low</td>\n",
       "      <td>pericellular</td>\n",
       "      <td>0</td>\n",
       "    </tr>\n",
       "    <tr>\n",
       "      <th>103741</th>\n",
       "      <td>0.746667</td>\n",
       "      <td>pericellular_low</td>\n",
       "      <td>pericellular</td>\n",
       "      <td>0</td>\n",
       "    </tr>\n",
       "    <tr>\n",
       "      <th>103742</th>\n",
       "      <td>0.860000</td>\n",
       "      <td>pericellular_low</td>\n",
       "      <td>pericellular</td>\n",
       "      <td>0</td>\n",
       "    </tr>\n",
       "    <tr>\n",
       "      <th>103743</th>\n",
       "      <td>0.586667</td>\n",
       "      <td>pericellular_low</td>\n",
       "      <td>pericellular</td>\n",
       "      <td>0</td>\n",
       "    </tr>\n",
       "    <tr>\n",
       "      <th>103744</th>\n",
       "      <td>1.000000</td>\n",
       "      <td>pericellular_low</td>\n",
       "      <td>pericellular</td>\n",
       "      <td>0</td>\n",
       "    </tr>\n",
       "    <tr>\n",
       "      <th>...</th>\n",
       "      <td>...</td>\n",
       "      <td>...</td>\n",
       "      <td>...</td>\n",
       "      <td>...</td>\n",
       "    </tr>\n",
       "    <tr>\n",
       "      <th>121025</th>\n",
       "      <td>1.000000</td>\n",
       "      <td>random_high</td>\n",
       "      <td>pericellular</td>\n",
       "      <td>9</td>\n",
       "    </tr>\n",
       "    <tr>\n",
       "      <th>121026</th>\n",
       "      <td>1.000000</td>\n",
       "      <td>random_high</td>\n",
       "      <td>pericellular</td>\n",
       "      <td>9</td>\n",
       "    </tr>\n",
       "    <tr>\n",
       "      <th>121027</th>\n",
       "      <td>1.000000</td>\n",
       "      <td>random_high</td>\n",
       "      <td>pericellular</td>\n",
       "      <td>9</td>\n",
       "    </tr>\n",
       "    <tr>\n",
       "      <th>121028</th>\n",
       "      <td>1.000000</td>\n",
       "      <td>random_high</td>\n",
       "      <td>pericellular</td>\n",
       "      <td>9</td>\n",
       "    </tr>\n",
       "    <tr>\n",
       "      <th>121029</th>\n",
       "      <td>1.000000</td>\n",
       "      <td>random_high</td>\n",
       "      <td>pericellular</td>\n",
       "      <td>9</td>\n",
       "    </tr>\n",
       "  </tbody>\n",
       "</table>\n",
       "<p>17290 rows × 4 columns</p>\n",
       "</div>"
      ],
      "text/plain": [
       "        prob_pattern             group       pattern  gene_id\n",
       "103740      0.913333  pericellular_low  pericellular        0\n",
       "103741      0.746667  pericellular_low  pericellular        0\n",
       "103742      0.860000  pericellular_low  pericellular        0\n",
       "103743      0.586667  pericellular_low  pericellular        0\n",
       "103744      1.000000  pericellular_low  pericellular        0\n",
       "...              ...               ...           ...      ...\n",
       "121025      1.000000       random_high  pericellular        9\n",
       "121026      1.000000       random_high  pericellular        9\n",
       "121027      1.000000       random_high  pericellular        9\n",
       "121028      1.000000       random_high  pericellular        9\n",
       "121029      1.000000       random_high  pericellular        9\n",
       "\n",
       "[17290 rows x 4 columns]"
      ]
     },
     "execution_count": 14,
     "metadata": {},
     "output_type": "execute_result"
    }
   ],
   "source": [
    "df[df['pattern']=='pericellular']"
   ]
  },
  {
   "cell_type": "code",
   "execution_count": 15,
   "metadata": {},
   "outputs": [],
   "source": [
    "import statsmodels.formula.api as smf"
   ]
  },
  {
   "cell_type": "code",
   "execution_count": 85,
   "metadata": {},
   "outputs": [
    {
     "data": {
      "text/html": [
       "<table class=\"simpletable\">\n",
       "<caption>OLS Regression Results</caption>\n",
       "<tr>\n",
       "  <th>Dep. Variable:</th>      <td>prob_pattern</td>   <th>  R-squared:         </th>  <td>   0.507</td> \n",
       "</tr>\n",
       "<tr>\n",
       "  <th>Model:</th>                   <td>OLS</td>       <th>  Adj. R-squared:    </th>  <td>   0.507</td> \n",
       "</tr>\n",
       "<tr>\n",
       "  <th>Method:</th>             <td>Least Squares</td>  <th>  F-statistic:       </th>  <td>   2485.</td> \n",
       "</tr>\n",
       "<tr>\n",
       "  <th>Date:</th>             <td>Mon, 08 Apr 2024</td> <th>  Prob (F-statistic):</th>   <td>  0.00</td>  \n",
       "</tr>\n",
       "<tr>\n",
       "  <th>Time:</th>                 <td>16:46:24</td>     <th>  Log-Likelihood:    </th>  <td>  5695.5</td> \n",
       "</tr>\n",
       "<tr>\n",
       "  <th>No. Observations:</th>      <td>  7256</td>      <th>  AIC:               </th> <td>-1.138e+04</td>\n",
       "</tr>\n",
       "<tr>\n",
       "  <th>Df Residuals:</th>          <td>  7252</td>      <th>  BIC:               </th> <td>-1.136e+04</td>\n",
       "</tr>\n",
       "<tr>\n",
       "  <th>Df Model:</th>              <td>     3</td>      <th>                     </th>      <td> </td>    \n",
       "</tr>\n",
       "<tr>\n",
       "  <th>Covariance Type:</th>      <td>nonrobust</td>    <th>                     </th>      <td> </td>    \n",
       "</tr>\n",
       "</table>\n",
       "<table class=\"simpletable\">\n",
       "<tr>\n",
       "            <td></td>               <th>coef</th>     <th>std err</th>      <th>t</th>      <th>P>|t|</th>  <th>[0.025</th>    <th>0.975]</th>  \n",
       "</tr>\n",
       "<tr>\n",
       "  <th>Intercept</th>             <td>    0.7374</td> <td>    0.003</td> <td>  244.876</td> <td> 0.000</td> <td>    0.731</td> <td>    0.743</td>\n",
       "</tr>\n",
       "<tr>\n",
       "  <th>group[T.random_low]</th>   <td>    0.2266</td> <td>    0.003</td> <td>   65.606</td> <td> 0.000</td> <td>    0.220</td> <td>    0.233</td>\n",
       "</tr>\n",
       "<tr>\n",
       "  <th>group[T.random_mixed]</th> <td>    0.2603</td> <td>    0.003</td> <td>   82.671</td> <td> 0.000</td> <td>    0.254</td> <td>    0.266</td>\n",
       "</tr>\n",
       "<tr>\n",
       "  <th>gene_id</th>               <td>   -0.0002</td> <td>    0.000</td> <td>   -0.364</td> <td> 0.716</td> <td>   -0.001</td> <td>    0.001</td>\n",
       "</tr>\n",
       "</table>\n",
       "<table class=\"simpletable\">\n",
       "<tr>\n",
       "  <th>Omnibus:</th>       <td>2520.897</td> <th>  Durbin-Watson:     </th> <td>   2.042</td> \n",
       "</tr>\n",
       "<tr>\n",
       "  <th>Prob(Omnibus):</th>  <td> 0.000</td>  <th>  Jarque-Bera (JB):  </th> <td>14825.853</td>\n",
       "</tr>\n",
       "<tr>\n",
       "  <th>Skew:</th>           <td>-1.545</td>  <th>  Prob(JB):          </th> <td>    0.00</td> \n",
       "</tr>\n",
       "<tr>\n",
       "  <th>Kurtosis:</th>       <td> 9.284</td>  <th>  Cond. No.          </th> <td>    18.5</td> \n",
       "</tr>\n",
       "</table><br/><br/>Notes:<br/>[1] Standard Errors assume that the covariance matrix of the errors is correctly specified."
      ],
      "text/latex": [
       "\\begin{center}\n",
       "\\begin{tabular}{lclc}\n",
       "\\toprule\n",
       "\\textbf{Dep. Variable:}         &  prob\\_pattern   & \\textbf{  R-squared:         } &     0.507   \\\\\n",
       "\\textbf{Model:}                 &       OLS        & \\textbf{  Adj. R-squared:    } &     0.507   \\\\\n",
       "\\textbf{Method:}                &  Least Squares   & \\textbf{  F-statistic:       } &     2485.   \\\\\n",
       "\\textbf{Date:}                  & Mon, 08 Apr 2024 & \\textbf{  Prob (F-statistic):} &     0.00    \\\\\n",
       "\\textbf{Time:}                  &     16:46:24     & \\textbf{  Log-Likelihood:    } &    5695.5   \\\\\n",
       "\\textbf{No. Observations:}      &        7256      & \\textbf{  AIC:               } & -1.138e+04  \\\\\n",
       "\\textbf{Df Residuals:}          &        7252      & \\textbf{  BIC:               } & -1.136e+04  \\\\\n",
       "\\textbf{Df Model:}              &           3      & \\textbf{                     } &             \\\\\n",
       "\\textbf{Covariance Type:}       &    nonrobust     & \\textbf{                     } &             \\\\\n",
       "\\bottomrule\n",
       "\\end{tabular}\n",
       "\\begin{tabular}{lcccccc}\n",
       "                                & \\textbf{coef} & \\textbf{std err} & \\textbf{t} & \\textbf{P$> |$t$|$} & \\textbf{[0.025} & \\textbf{0.975]}  \\\\\n",
       "\\midrule\n",
       "\\textbf{Intercept}              &       0.7374  &        0.003     &   244.876  &         0.000        &        0.731    &        0.743     \\\\\n",
       "\\textbf{group[T.random\\_low]}   &       0.2266  &        0.003     &    65.606  &         0.000        &        0.220    &        0.233     \\\\\n",
       "\\textbf{group[T.random\\_mixed]} &       0.2603  &        0.003     &    82.671  &         0.000        &        0.254    &        0.266     \\\\\n",
       "\\textbf{gene\\_id}               &      -0.0002  &        0.000     &    -0.364  &         0.716        &       -0.001    &        0.001     \\\\\n",
       "\\bottomrule\n",
       "\\end{tabular}\n",
       "\\begin{tabular}{lclc}\n",
       "\\textbf{Omnibus:}       & 2520.897 & \\textbf{  Durbin-Watson:     } &     2.042  \\\\\n",
       "\\textbf{Prob(Omnibus):} &   0.000  & \\textbf{  Jarque-Bera (JB):  } & 14825.853  \\\\\n",
       "\\textbf{Skew:}          &  -1.545  & \\textbf{  Prob(JB):          } &      0.00  \\\\\n",
       "\\textbf{Kurtosis:}      &   9.284  & \\textbf{  Cond. No.          } &      18.5  \\\\\n",
       "\\bottomrule\n",
       "\\end{tabular}\n",
       "%\\caption{OLS Regression Results}\n",
       "\\end{center}\n",
       "\n",
       "Notes: \\newline\n",
       " [1] Standard Errors assume that the covariance matrix of the errors is correctly specified."
      ],
      "text/plain": [
       "<class 'statsmodels.iolib.summary.Summary'>\n",
       "\"\"\"\n",
       "                            OLS Regression Results                            \n",
       "==============================================================================\n",
       "Dep. Variable:           prob_pattern   R-squared:                       0.507\n",
       "Model:                            OLS   Adj. R-squared:                  0.507\n",
       "Method:                 Least Squares   F-statistic:                     2485.\n",
       "Date:                Mon, 08 Apr 2024   Prob (F-statistic):               0.00\n",
       "Time:                        16:46:24   Log-Likelihood:                 5695.5\n",
       "No. Observations:                7256   AIC:                        -1.138e+04\n",
       "Df Residuals:                    7252   BIC:                        -1.136e+04\n",
       "Df Model:                           3                                         \n",
       "Covariance Type:            nonrobust                                         \n",
       "=========================================================================================\n",
       "                            coef    std err          t      P>|t|      [0.025      0.975]\n",
       "-----------------------------------------------------------------------------------------\n",
       "Intercept                 0.7374      0.003    244.876      0.000       0.731       0.743\n",
       "group[T.random_low]       0.2266      0.003     65.606      0.000       0.220       0.233\n",
       "group[T.random_mixed]     0.2603      0.003     82.671      0.000       0.254       0.266\n",
       "gene_id                  -0.0002      0.000     -0.364      0.716      -0.001       0.001\n",
       "==============================================================================\n",
       "Omnibus:                     2520.897   Durbin-Watson:                   2.042\n",
       "Prob(Omnibus):                  0.000   Jarque-Bera (JB):            14825.853\n",
       "Skew:                          -1.545   Prob(JB):                         0.00\n",
       "Kurtosis:                       9.284   Cond. No.                         18.5\n",
       "==============================================================================\n",
       "\n",
       "Notes:\n",
       "[1] Standard Errors assume that the covariance matrix of the errors is correctly specified.\n",
       "\"\"\""
      ]
     },
     "execution_count": 85,
     "metadata": {},
     "output_type": "execute_result"
    }
   ],
   "source": [
    "model = smf.ols(\"prob_pattern ~ group + gene_id\", data= df[df['pattern'] == 'pericellular']).fit()\n",
    "model.summary()"
   ]
  },
  {
   "cell_type": "code",
   "execution_count": 16,
   "metadata": {},
   "outputs": [],
   "source": [
    "from scipy import stats"
   ]
  },
  {
   "cell_type": "code",
   "execution_count": 89,
   "metadata": {},
   "outputs": [
    {
     "data": {
      "text/plain": [
       "Text(0.5, 1.0, 'Model1 Residuals Q-Q Plot')"
      ]
     },
     "execution_count": 89,
     "metadata": {},
     "output_type": "execute_result"
    },
    {
     "data": {
      "image/png": "[encoded data removed]",
      "text/plain": [
       "<Figure size 432x288 with 1 Axes>"
      ]
     },
     "metadata": {
      "needs_background": "light"
     },
     "output_type": "display_data"
    }
   ],
   "source": [
    "#Running plot & giving it a title\n",
    "stats.probplot(model.resid, dist=\"norm\", plot= plt)\n",
    "plt.title(\"Model1 Residuals Q-Q Plot\")\n"
   ]
  },
  {
   "cell_type": "code",
   "execution_count": 64,
   "metadata": {},
   "outputs": [
    {
     "data": {
      "text/plain": [
       "array(['pattern', 'cellEdge', 'foci', 'extranuclear', 'intranuclear',\n",
       "       'nuclearEdge', 'pericellular', 'perinuclear', 'protrusion'],\n",
       "      dtype=object)"
      ]
     },
     "execution_count": 64,
     "metadata": {},
     "output_type": "execute_result"
    }
   ],
   "source": [
    "df['pattern'].unique()"
   ]
  },
  {
   "cell_type": "markdown",
   "metadata": {},
   "source": [
    "## Histogram pattern/no pattern"
   ]
  },
  {
   "cell_type": "code",
   "execution_count": 122,
   "metadata": {},
   "outputs": [
    {
     "data": {
      "image/png": "[encoded data removed]",
      "text/plain": [
       "<Figure size 432x288 with 1 Axes>"
      ]
     },
     "metadata": {
      "needs_background": "light"
     },
     "output_type": "display_data"
    }
   ],
   "source": [
    "pattern = 'pattern'\n",
    "pericellular = df[(df['pattern'] == pattern) & (df['group']=='pericellular_low') & (df['gene_id']==0)]\n",
    "random_mixed = df[(df['pattern'] == pattern) & (df['group']=='random_mixed')]\n",
    "random_low = df[(df['pattern'] == pattern) & (df['group']=='random_low')]\n",
    "\n",
    "plt.hist(pericellular['prob_pattern'], bins=30, alpha=0.5, label='Pericellular: low counts', density=True)\n",
    "plt.hist(random_mixed['prob_pattern'], bins=50, alpha=0.5, label='Random: mixed counts', density=True)\n",
    "plt.hist(random_low['prob_pattern'], bins=50, alpha=0.5, label='Random: low counts', density=True)\n",
    "\n",
    "plt.title(\"Pattern / No Pattern, pattern strength = 0.9\")\n",
    "plt.ylabel(\"Relative frequency\")\n",
    "plt.xlabel(\"Probability for patternness\")\n",
    "plt.legend(loc='upper left')\n",
    "plt.show()"
   ]
  },
  {
   "cell_type": "code",
   "execution_count": 78,
   "metadata": {},
   "outputs": [
    {
     "data": {
      "text/plain": [
       "1.000000    2469\n",
       "0.993333     149\n",
       "0.986667      17\n",
       "0.980000       3\n",
       "0.966667       1\n",
       "0.973333       1\n",
       "Name: prob_pattern, dtype: int64"
      ]
     },
     "execution_count": 78,
     "metadata": {},
     "output_type": "execute_result"
    }
   ],
   "source": [
    "pericellular = df[(df['pattern'] == pattern) & (df['group']=='pericellular_high')]\n",
    "pericellular['prob_pattern'].value_counts()"
   ]
  },
  {
   "cell_type": "code",
   "execution_count": 121,
   "metadata": {},
   "outputs": [
    {
     "data": {
      "text/plain": [
       "151"
      ]
     },
     "execution_count": 121,
     "metadata": {},
     "output_type": "execute_result"
    }
   ],
   "source": [
    "pericellular = df[(df['pattern'] == pattern) & (df['group']=='random_mixed')]\n",
    "len(pericellular['prob_pattern'].unique())"
   ]
  },
  {
   "cell_type": "code",
   "execution_count": 110,
   "metadata": {},
   "outputs": [
    {
     "data": {
      "text/plain": [
       "15.0"
      ]
     },
     "execution_count": 110,
     "metadata": {},
     "output_type": "execute_result"
    }
   ],
   "source": [
    "12*1.25"
   ]
  },
  {
   "cell_type": "code",
   "execution_count": 116,
   "metadata": {},
   "outputs": [
    {
     "data": {
      "image/png": "[encoded data removed]",
      "text/plain": [
       "<Figure size 432x288 with 1 Axes>"
      ]
     },
     "metadata": {
      "needs_background": "light"
     },
     "output_type": "display_data"
    }
   ],
   "source": [
    "pattern = 'pattern'\n",
    "pericellular = df[(df['pattern'] == pattern) & (df['group']=='pericellular_high')]\n",
    "random_mixed = df[(df['pattern'] == pattern) & (df['group']=='pericellular_mixed')]\n",
    "random_low = df[(df['pattern'] == pattern) & (df['group']=='pericellular_low')]\n",
    "\n",
    "plt.hist(pericellular['prob_pattern'], bins=6, alpha=0.5, label='Pericelullar: high counts', density=True)\n",
    "plt.hist(random_mixed['prob_pattern'], bins=24, alpha=0.5, label='Pericelullar: mixed counts', density=True)\n",
    "plt.hist(random_low['prob_pattern'], bins=44, alpha=0.5, label='Pericelullar: low counts', density=True)\n",
    "\n",
    "plt.title(\"Pattern / No Pattern: Pericellular, pattern strength = 0.9\")\n",
    "plt.ylabel(\"Relative frequency\")\n",
    "plt.xlabel(\"Probability for patternness\")\n",
    "plt.legend(loc='upper left')\n",
    "plt.show()"
   ]
  },
  {
   "cell_type": "code",
   "execution_count": 87,
   "metadata": {},
   "outputs": [
    {
     "data": {
      "image/png": "[encoded data removed]",
      "text/plain": [
       "<Figure size 432x288 with 1 Axes>"
      ]
     },
     "metadata": {
      "needs_background": "light"
     },
     "output_type": "display_data"
    }
   ],
   "source": [
    "pattern = 'pattern'\n",
    "pericellular = df[(df['pattern'] == pattern) & (df['group']=='pericelullar_high')]\n",
    "random_mixed = df[(df['pattern'] == pattern) & (df['group']=='pericelullar_mixed')]\n",
    "random_low = df[(df['pattern'] == pattern) & (df['group']=='pericelullar_low')]\n",
    "\n",
    "#plt.hist(pericellular['prob_pattern'], bins=50, alpha=0.5, label='Pericelullar: high counts', density=True)\n",
    "plt.hist(random_mixed['prob_pattern'], bins=30, alpha=0.5, label='Pericelullar: mixed counts', density=True)\n",
    "plt.hist(random_low['prob_pattern'], bins=30, alpha=0.5, label='Pericelullar: low counts', density=True)\n",
    "\n",
    "plt.title(\"Pattern / No Pattern: Pericellular, pattern strength = 0.9\")\n",
    "plt.ylabel(\"Relative frequency\")\n",
    "plt.xlabel(\"Probability for patternness\")\n",
    "plt.legend(loc='upper right')\n",
    "plt.show()"
   ]
  },
  {
   "cell_type": "markdown",
   "metadata": {},
   "source": [
    "## Histograms per pattern"
   ]
  },
  {
   "cell_type": "code",
   "execution_count": 143,
   "metadata": {},
   "outputs": [
    {
     "data": {
      "image/png": "[encoded data removed]",
      "text/plain": [
       "<Figure size 432x288 with 1 Axes>"
      ]
     },
     "metadata": {
      "needs_background": "light"
     },
     "output_type": "display_data"
    }
   ],
   "source": [
    "import seaborn as sns\n",
    "\n",
    "ax = sns.histplot(x='prob_pattern', hue='group', data=df[df['pattern'] == 'protrusion'], bins=60)\n",
    "\n",
    "ax.set(xlabel =\"Pattern probability\", \n",
    "                ylabel = \"Frequency\", title=\"Protrusion\")\n",
    "\n",
    "sns.despine()"
   ]
  },
  {
   "cell_type": "code",
   "execution_count": 130,
   "metadata": {},
   "outputs": [],
   "source": [
    "import matplotlib.pyplot as plt"
   ]
  },
  {
   "cell_type": "code",
   "execution_count": 138,
   "metadata": {},
   "outputs": [
    {
     "data": {
      "image/png": "[encoded data removed]",
      "text/plain": [
       "<Figure size 432x288 with 1 Axes>"
      ]
     },
     "metadata": {
      "needs_background": "light"
     },
     "output_type": "display_data"
    }
   ],
   "source": [
    "pattern = 'pericellular'\n",
    "pericellular = df[(df['pattern'] == pattern) & (df['group']=='pericellular')]\n",
    "random_mixed = df[(df['pattern'] == pattern) & (df['group']=='random_mixed')]\n",
    "random_low = df[(df['pattern'] == pattern) & (df['group']=='random_low')]\n",
    "\n",
    "plt.hist(pericellular['prob_pattern'], bins=40, alpha=0.5, label='Pericellular', density=True)\n",
    "plt.hist(random_mixed['prob_pattern'], bins=40, alpha=0.5, label='Random: mixed counts', density=True)\n",
    "plt.hist(random_low['prob_pattern'], bins=40, alpha=0.5, label='Random: low counts', density=True)\n",
    "\n",
    "plt.title(pattern)\n",
    "plt.legend(loc='upper right')\n",
    "plt.show()"
   ]
  },
  {
   "cell_type": "code",
   "execution_count": 141,
   "metadata": {},
   "outputs": [
    {
     "data": {
      "text/plain": [
       "43794    1.000000\n",
       "43795    0.986667\n",
       "43796    1.000000\n",
       "43797    1.000000\n",
       "43798    1.000000\n",
       "           ...   \n",
       "50635    1.000000\n",
       "50636    1.000000\n",
       "50637    1.000000\n",
       "50638    1.000000\n",
       "50639    1.000000\n",
       "Name: prob_pattern, Length: 3170, dtype: float64"
      ]
     },
     "execution_count": 141,
     "metadata": {},
     "output_type": "execute_result"
    }
   ],
   "source": [
    "pericellular = df[(df['pattern'] == 'pattern') & (df['group']=='pericellular')]\n",
    "random_mixed = df[(df['pattern'] == pattern) & (df['group']=='random_mixed')]\n",
    "random_low = df[(df['pattern'] == pattern) & df['group']=='random_low']\n",
    "random_mixed['prob_pattern']"
   ]
  },
  {
   "cell_type": "code",
   "execution_count": 123,
   "metadata": {},
   "outputs": [
    {
     "data": {
      "text/html": [
       "<div>\n",
       "<style scoped>\n",
       "    .dataframe tbody tr th:only-of-type {\n",
       "        vertical-align: middle;\n",
       "    }\n",
       "\n",
       "    .dataframe tbody tr th {\n",
       "        vertical-align: top;\n",
       "    }\n",
       "\n",
       "    .dataframe thead th {\n",
       "        text-align: right;\n",
       "    }\n",
       "</style>\n",
       "<table border=\"1\" class=\"dataframe\">\n",
       "  <thead>\n",
       "    <tr style=\"text-align: right;\">\n",
       "      <th></th>\n",
       "      <th>prob_pattern</th>\n",
       "      <th>group</th>\n",
       "      <th>pattern</th>\n",
       "      <th>gene_id</th>\n",
       "    </tr>\n",
       "  </thead>\n",
       "  <tbody>\n",
       "    <tr>\n",
       "      <th>0</th>\n",
       "      <td>0.993333</td>\n",
       "      <td>pericellular_low</td>\n",
       "      <td>pattern</td>\n",
       "      <td>0</td>\n",
       "    </tr>\n",
       "    <tr>\n",
       "      <th>1</th>\n",
       "      <td>0.986667</td>\n",
       "      <td>pericellular_low</td>\n",
       "      <td>pattern</td>\n",
       "      <td>0</td>\n",
       "    </tr>\n",
       "    <tr>\n",
       "      <th>2</th>\n",
       "      <td>1.000000</td>\n",
       "      <td>pericellular_low</td>\n",
       "      <td>pattern</td>\n",
       "      <td>0</td>\n",
       "    </tr>\n",
       "    <tr>\n",
       "      <th>3</th>\n",
       "      <td>1.000000</td>\n",
       "      <td>pericellular_low</td>\n",
       "      <td>pattern</td>\n",
       "      <td>0</td>\n",
       "    </tr>\n",
       "    <tr>\n",
       "      <th>4</th>\n",
       "      <td>0.893333</td>\n",
       "      <td>pericellular_low</td>\n",
       "      <td>pattern</td>\n",
       "      <td>0</td>\n",
       "    </tr>\n",
       "    <tr>\n",
       "      <th>...</th>\n",
       "      <td>...</td>\n",
       "      <td>...</td>\n",
       "      <td>...</td>\n",
       "      <td>...</td>\n",
       "    </tr>\n",
       "    <tr>\n",
       "      <th>155605</th>\n",
       "      <td>1.000000</td>\n",
       "      <td>random_high</td>\n",
       "      <td>protrusion</td>\n",
       "      <td>9</td>\n",
       "    </tr>\n",
       "    <tr>\n",
       "      <th>155606</th>\n",
       "      <td>1.000000</td>\n",
       "      <td>random_high</td>\n",
       "      <td>protrusion</td>\n",
       "      <td>9</td>\n",
       "    </tr>\n",
       "    <tr>\n",
       "      <th>155607</th>\n",
       "      <td>1.000000</td>\n",
       "      <td>random_high</td>\n",
       "      <td>protrusion</td>\n",
       "      <td>9</td>\n",
       "    </tr>\n",
       "    <tr>\n",
       "      <th>155608</th>\n",
       "      <td>1.000000</td>\n",
       "      <td>random_high</td>\n",
       "      <td>protrusion</td>\n",
       "      <td>9</td>\n",
       "    </tr>\n",
       "    <tr>\n",
       "      <th>155609</th>\n",
       "      <td>1.000000</td>\n",
       "      <td>random_high</td>\n",
       "      <td>protrusion</td>\n",
       "      <td>9</td>\n",
       "    </tr>\n",
       "  </tbody>\n",
       "</table>\n",
       "<p>155610 rows × 4 columns</p>\n",
       "</div>"
      ],
      "text/plain": [
       "        prob_pattern             group     pattern  gene_id\n",
       "0           0.993333  pericellular_low     pattern        0\n",
       "1           0.986667  pericellular_low     pattern        0\n",
       "2           1.000000  pericellular_low     pattern        0\n",
       "3           1.000000  pericellular_low     pattern        0\n",
       "4           0.893333  pericellular_low     pattern        0\n",
       "...              ...               ...         ...      ...\n",
       "155605      1.000000       random_high  protrusion        9\n",
       "155606      1.000000       random_high  protrusion        9\n",
       "155607      1.000000       random_high  protrusion        9\n",
       "155608      1.000000       random_high  protrusion        9\n",
       "155609      1.000000       random_high  protrusion        9\n",
       "\n",
       "[155610 rows x 4 columns]"
      ]
     },
     "execution_count": 123,
     "metadata": {},
     "output_type": "execute_result"
    }
   ],
   "source": [
    "df"
   ]
  },
  {
   "cell_type": "code",
   "execution_count": 29,
   "metadata": {},
   "outputs": [
    {
     "data": {
      "text/plain": [
       "array(['pattern', 'cellEdge', 'foci', 'extranuclear', 'intranuclear',\n",
       "       'nuclearEdge', 'pericellular', 'perinuclear', 'protrusion'],\n",
       "      dtype=object)"
      ]
     },
     "execution_count": 29,
     "metadata": {},
     "output_type": "execute_result"
    }
   ],
   "source": [
    "df['pattern'].unique()"
   ]
  },
  {
   "cell_type": "code",
   "execution_count": 30,
   "metadata": {},
   "outputs": [
    {
     "data": {
      "text/html": [
       "<div>\n",
       "<style scoped>\n",
       "    .dataframe tbody tr th:only-of-type {\n",
       "        vertical-align: middle;\n",
       "    }\n",
       "\n",
       "    .dataframe tbody tr th {\n",
       "        vertical-align: top;\n",
       "    }\n",
       "\n",
       "    .dataframe thead th {\n",
       "        text-align: right;\n",
       "    }\n",
       "</style>\n",
       "<table border=\"1\" class=\"dataframe\">\n",
       "  <thead>\n",
       "    <tr style=\"text-align: right;\">\n",
       "      <th></th>\n",
       "      <th>prob_pattern</th>\n",
       "      <th>group</th>\n",
       "      <th>pattern</th>\n",
       "      <th>gene_id</th>\n",
       "    </tr>\n",
       "  </thead>\n",
       "  <tbody>\n",
       "    <tr>\n",
       "      <th>103740</th>\n",
       "      <td>0.913333</td>\n",
       "      <td>pericellular_low</td>\n",
       "      <td>pericellular</td>\n",
       "      <td>0</td>\n",
       "    </tr>\n",
       "    <tr>\n",
       "      <th>103741</th>\n",
       "      <td>0.746667</td>\n",
       "      <td>pericellular_low</td>\n",
       "      <td>pericellular</td>\n",
       "      <td>0</td>\n",
       "    </tr>\n",
       "    <tr>\n",
       "      <th>103742</th>\n",
       "      <td>0.860000</td>\n",
       "      <td>pericellular_low</td>\n",
       "      <td>pericellular</td>\n",
       "      <td>0</td>\n",
       "    </tr>\n",
       "    <tr>\n",
       "      <th>103743</th>\n",
       "      <td>0.586667</td>\n",
       "      <td>pericellular_low</td>\n",
       "      <td>pericellular</td>\n",
       "      <td>0</td>\n",
       "    </tr>\n",
       "    <tr>\n",
       "      <th>103744</th>\n",
       "      <td>1.000000</td>\n",
       "      <td>pericellular_low</td>\n",
       "      <td>pericellular</td>\n",
       "      <td>0</td>\n",
       "    </tr>\n",
       "    <tr>\n",
       "      <th>...</th>\n",
       "      <td>...</td>\n",
       "      <td>...</td>\n",
       "      <td>...</td>\n",
       "      <td>...</td>\n",
       "    </tr>\n",
       "    <tr>\n",
       "      <th>119543</th>\n",
       "      <td>0.746667</td>\n",
       "      <td>pericellular_low</td>\n",
       "      <td>pericellular</td>\n",
       "      <td>9</td>\n",
       "    </tr>\n",
       "    <tr>\n",
       "      <th>119544</th>\n",
       "      <td>0.980000</td>\n",
       "      <td>pericellular_low</td>\n",
       "      <td>pericellular</td>\n",
       "      <td>9</td>\n",
       "    </tr>\n",
       "    <tr>\n",
       "      <th>119545</th>\n",
       "      <td>0.866667</td>\n",
       "      <td>pericellular_low</td>\n",
       "      <td>pericellular</td>\n",
       "      <td>9</td>\n",
       "    </tr>\n",
       "    <tr>\n",
       "      <th>119546</th>\n",
       "      <td>0.560000</td>\n",
       "      <td>pericellular_low</td>\n",
       "      <td>pericellular</td>\n",
       "      <td>9</td>\n",
       "    </tr>\n",
       "    <tr>\n",
       "      <th>119547</th>\n",
       "      <td>0.673333</td>\n",
       "      <td>pericellular_low</td>\n",
       "      <td>pericellular</td>\n",
       "      <td>9</td>\n",
       "    </tr>\n",
       "  </tbody>\n",
       "</table>\n",
       "<p>2040 rows × 4 columns</p>\n",
       "</div>"
      ],
      "text/plain": [
       "        prob_pattern             group       pattern  gene_id\n",
       "103740      0.913333  pericellular_low  pericellular        0\n",
       "103741      0.746667  pericellular_low  pericellular        0\n",
       "103742      0.860000  pericellular_low  pericellular        0\n",
       "103743      0.586667  pericellular_low  pericellular        0\n",
       "103744      1.000000  pericellular_low  pericellular        0\n",
       "...              ...               ...           ...      ...\n",
       "119543      0.746667  pericellular_low  pericellular        9\n",
       "119544      0.980000  pericellular_low  pericellular        9\n",
       "119545      0.866667  pericellular_low  pericellular        9\n",
       "119546      0.560000  pericellular_low  pericellular        9\n",
       "119547      0.673333  pericellular_low  pericellular        9\n",
       "\n",
       "[2040 rows x 4 columns]"
      ]
     },
     "execution_count": 30,
     "metadata": {},
     "output_type": "execute_result"
    }
   ],
   "source": [
    "pattern = df[(df['pattern'] == 'pericellular') & (df['group']=='pericellular_low')]\n",
    "pattern"
   ]
  },
  {
   "cell_type": "code",
   "execution_count": 37,
   "metadata": {},
   "outputs": [
    {
     "data": {
      "text/html": [
       "<div>\n",
       "<style scoped>\n",
       "    .dataframe tbody tr th:only-of-type {\n",
       "        vertical-align: middle;\n",
       "    }\n",
       "\n",
       "    .dataframe tbody tr th {\n",
       "        vertical-align: top;\n",
       "    }\n",
       "\n",
       "    .dataframe thead th {\n",
       "        text-align: right;\n",
       "    }\n",
       "</style>\n",
       "<table border=\"1\" class=\"dataframe\">\n",
       "  <thead>\n",
       "    <tr style=\"text-align: right;\">\n",
       "      <th></th>\n",
       "      <th>prob_pattern</th>\n",
       "      <th>group</th>\n",
       "      <th>pattern</th>\n",
       "      <th>gene_id</th>\n",
       "    </tr>\n",
       "  </thead>\n",
       "  <tbody>\n",
       "    <tr>\n",
       "      <th>104931</th>\n",
       "      <td>1.000000</td>\n",
       "      <td>random_low</td>\n",
       "      <td>pericellular</td>\n",
       "      <td>0</td>\n",
       "    </tr>\n",
       "    <tr>\n",
       "      <th>104932</th>\n",
       "      <td>0.973333</td>\n",
       "      <td>random_low</td>\n",
       "      <td>pericellular</td>\n",
       "      <td>0</td>\n",
       "    </tr>\n",
       "    <tr>\n",
       "      <th>104933</th>\n",
       "      <td>0.993333</td>\n",
       "      <td>random_low</td>\n",
       "      <td>pericellular</td>\n",
       "      <td>0</td>\n",
       "    </tr>\n",
       "    <tr>\n",
       "      <th>104934</th>\n",
       "      <td>1.000000</td>\n",
       "      <td>random_low</td>\n",
       "      <td>pericellular</td>\n",
       "      <td>0</td>\n",
       "    </tr>\n",
       "    <tr>\n",
       "      <th>104935</th>\n",
       "      <td>0.973333</td>\n",
       "      <td>random_low</td>\n",
       "      <td>pericellular</td>\n",
       "      <td>0</td>\n",
       "    </tr>\n",
       "    <tr>\n",
       "      <th>...</th>\n",
       "      <td>...</td>\n",
       "      <td>...</td>\n",
       "      <td>...</td>\n",
       "      <td>...</td>\n",
       "    </tr>\n",
       "    <tr>\n",
       "      <th>120708</th>\n",
       "      <td>1.000000</td>\n",
       "      <td>random_low</td>\n",
       "      <td>pericellular</td>\n",
       "      <td>9</td>\n",
       "    </tr>\n",
       "    <tr>\n",
       "      <th>120709</th>\n",
       "      <td>0.946667</td>\n",
       "      <td>random_low</td>\n",
       "      <td>pericellular</td>\n",
       "      <td>9</td>\n",
       "    </tr>\n",
       "    <tr>\n",
       "      <th>120710</th>\n",
       "      <td>1.000000</td>\n",
       "      <td>random_low</td>\n",
       "      <td>pericellular</td>\n",
       "      <td>9</td>\n",
       "    </tr>\n",
       "    <tr>\n",
       "      <th>120711</th>\n",
       "      <td>1.000000</td>\n",
       "      <td>random_low</td>\n",
       "      <td>pericellular</td>\n",
       "      <td>9</td>\n",
       "    </tr>\n",
       "    <tr>\n",
       "      <th>120712</th>\n",
       "      <td>0.966667</td>\n",
       "      <td>random_low</td>\n",
       "      <td>pericellular</td>\n",
       "      <td>9</td>\n",
       "    </tr>\n",
       "  </tbody>\n",
       "</table>\n",
       "<p>3100 rows × 4 columns</p>\n",
       "</div>"
      ],
      "text/plain": [
       "        prob_pattern       group       pattern  gene_id\n",
       "104931      1.000000  random_low  pericellular        0\n",
       "104932      0.973333  random_low  pericellular        0\n",
       "104933      0.993333  random_low  pericellular        0\n",
       "104934      1.000000  random_low  pericellular        0\n",
       "104935      0.973333  random_low  pericellular        0\n",
       "...              ...         ...           ...      ...\n",
       "120708      1.000000  random_low  pericellular        9\n",
       "120709      0.946667  random_low  pericellular        9\n",
       "120710      1.000000  random_low  pericellular        9\n",
       "120711      1.000000  random_low  pericellular        9\n",
       "120712      0.966667  random_low  pericellular        9\n",
       "\n",
       "[3100 rows x 4 columns]"
      ]
     },
     "execution_count": 37,
     "metadata": {},
     "output_type": "execute_result"
    }
   ],
   "source": [
    "random"
   ]
  },
  {
   "cell_type": "code",
   "execution_count": 42,
   "metadata": {},
   "outputs": [
    {
     "data": {
      "image/png": "[encoded data removed]",
      "text/plain": [
       "<Figure size 432x288 with 1 Axes>"
      ]
     },
     "metadata": {
      "needs_background": "light"
     },
     "output_type": "display_data"
    }
   ],
   "source": [
    "pattern = df[(df['pattern'] == 'pericellular') & (df['group']=='pericellular_low')]\n",
    "random = df[(df['pattern'] == 'pericellular') & (df['group']=='random_low')]\n",
    "plt.hist(pattern['prob_pattern'], bins=50, alpha=0.5, label='Pericellular: low counts, high pattern strength', density=True)\n",
    "plt.hist(random['prob_pattern'], bins=50, alpha=0.5, label='Random: low counts', density=True)\n",
    "plt.title(\"Pericellular pattern, Low count - High Pattern Strength\")\n",
    "plt.xlabel(\"Probability for Pericellular pattern (versus other patterns)\")\n",
    "plt.ylabel(\"Relative frequency\")\n",
    "plt.legend(loc='upper left')\n",
    "plt.show()"
   ]
  },
  {
   "cell_type": "code",
   "execution_count": 45,
   "metadata": {},
   "outputs": [
    {
     "data": {
      "image/png": "[encoded data removed]",
      "text/plain": [
       "<Figure size 432x288 with 1 Axes>"
      ]
     },
     "metadata": {
      "needs_background": "light"
     },
     "output_type": "display_data"
    }
   ],
   "source": [
    "pattern = df[(df['pattern'] == 'pericellular') & (df['group']=='pericellular_low')]\n",
    "plt.hist(pattern['prob_pattern'], bins=40, alpha=0.5, label='Pericellular: low counts', density=True)\n",
    "\n",
    "plt.title(\"Pericellular pattern, Low count - High Pattern Strength\")\n",
    "plt.legend(loc='upper left')\n",
    "plt.xlabel(\"Probability for Pericellular pattern (versus other patterns)\")\n",
    "plt.ylabel(\"Relative frequency\")\n",
    "plt.show()"
   ]
  },
  {
   "cell_type": "markdown",
   "metadata": {},
   "source": [
    "## 2-sample KS tests"
   ]
  },
  {
   "cell_type": "code",
   "execution_count": 25,
   "metadata": {},
   "outputs": [],
   "source": [
    "from scipy.stats import ks_2samp\n",
    "import numpy as np"
   ]
  },
  {
   "cell_type": "code",
   "execution_count": 125,
   "metadata": {},
   "outputs": [
    {
     "name": "stdout",
     "output_type": "stream",
     "text": [
      "Test statistic: 0.6657273877292853\n",
      "P-value: 2.6645352591003757e-15\n"
     ]
    }
   ],
   "source": [
    "# KS test over multiple gene_ids. \n",
    "pattern = df[(df['pattern'] == 'pattern') & (df['group']=='pericellular_low') & ]\n",
    "control = df[(df['pattern'] == 'pattern') & (df['group']=='random_low')]\n",
    "\n",
    "# Perform two-sample KS test\n",
    "statistic, pvalue = ks_2samp(pattern['prob_pattern'], control['prob_pattern'])\n",
    "print('Test statistic:', statistic)\n",
    "print('P-value:', pvalue)"
   ]
  },
  {
   "cell_type": "code",
   "execution_count": 26,
   "metadata": {},
   "outputs": [
    {
     "name": "stdout",
     "output_type": "stream",
     "text": [
      "Test statistic: 0.6432133511084778\n",
      "P-value: 9.609041163634957e-58\n"
     ]
    }
   ],
   "source": [
    "# Generate two random samples from normal distributions\n",
    "pattern = df[(df['pattern'] == 'pattern') & (df['group']=='pericellular_low') & (df['gene_id']==0)]\n",
    "control = df[(df['pattern'] == 'pattern') & (df['group']=='random_low') & (df['gene_id']==0)]\n",
    "\n",
    "# Perform two-sample KS test\n",
    "statistic, pvalue = ks_2samp(pattern['prob_pattern'], control['prob_pattern'])\n",
    "print('Test statistic:', statistic)\n",
    "print('P-value:', pvalue)"
   ]
  },
  {
   "cell_type": "code",
   "execution_count": 46,
   "metadata": {},
   "outputs": [
    {
     "name": "stdout",
     "output_type": "stream",
     "text": [
      "Test statistic: 0.6652988247061765\n",
      "P-value: 1.1102230246251565e-16\n"
     ]
    }
   ],
   "source": [
    "# Generate two random samples from normal distributions\n",
    "pattern = df[(df['pattern'] == 'pattern') & (df['group']=='pericellular_low') & (df['gene_id']==0)]\n",
    "control = df[(df['pattern'] == 'pattern') & (df['group']=='random_low')]\n",
    "\n",
    "# Perform two-sample KS test\n",
    "statistic, pvalue = ks_2samp(pattern['prob_pattern'], control['prob_pattern'])\n",
    "print('Test statistic:', statistic)\n",
    "print('P-value:', pvalue)"
   ]
  },
  {
   "cell_type": "markdown",
   "metadata": {},
   "source": [
    "## Test if there is a difference between gene_id batches"
   ]
  },
  {
   "cell_type": "code",
   "execution_count": 138,
   "metadata": {},
   "outputs": [],
   "source": [
    "group = 'pericellular_mixed'\n",
    "test = df[(df['pattern'] == 'pattern') & (df['group']==group)]\n",
    "\n",
    "samples = {i: test[test['gene_id'] == i] for i in range(10)}"
   ]
  },
  {
   "cell_type": "code",
   "execution_count": 139,
   "metadata": {},
   "outputs": [
    {
     "data": {
      "text/plain": [
       "KruskalResult(statistic=5.904740445237265, pvalue=0.7494131477713668)"
      ]
     },
     "execution_count": 139,
     "metadata": {},
     "output_type": "execute_result"
    }
   ],
   "source": [
    "stats.kruskal(*[samples[i]['prob_pattern'] for i in range(10)])"
   ]
  },
  {
   "cell_type": "code",
   "execution_count": 17,
   "metadata": {},
   "outputs": [
    {
     "data": {
      "text/plain": [
       "['pattern',\n",
       " 'cellEdge',\n",
       " 'foci',\n",
       " 'extranuclear',\n",
       " 'intranuclear',\n",
       " 'nuclearEdge',\n",
       " 'pericellular',\n",
       " 'perinuclear',\n",
       " 'protrusion']"
      ]
     },
     "execution_count": 17,
     "metadata": {},
     "output_type": "execute_result"
    }
   ],
   "source": [
    "patterns"
   ]
  },
  {
   "cell_type": "code",
   "execution_count": 24,
   "metadata": {},
   "outputs": [
    {
     "name": "stdout",
     "output_type": "stream",
     "text": [
      "pattern\n",
      "KruskalResult(statistic=10.989882545663795, pvalue=0.276403075162644)\n",
      "cellEdge\n",
      "KruskalResult(statistic=4.569197135479142, pvalue=0.8701313459330914)\n",
      "foci\n",
      "KruskalResult(statistic=27.533327312859825, pvalue=0.00114099778375589)\n",
      "extranuclear\n",
      "KruskalResult(statistic=15.874466855396047, pvalue=0.06954977723313573)\n",
      "intranuclear\n",
      "KruskalResult(statistic=7.582558445416168, pvalue=0.5766980858947945)\n",
      "nuclearEdge\n",
      "KruskalResult(statistic=7.469226825933319, pvalue=0.5883872653347524)\n",
      "pericellular\n",
      "KruskalResult(statistic=3.695916149209883, pvalue=0.9302634264275319)\n",
      "perinuclear\n",
      "KruskalResult(statistic=3.771337293247917, pvalue=0.9258076937303187)\n",
      "protrusion\n",
      "KruskalResult(statistic=10.451222096656116, pvalue=0.31520521008206076)\n"
     ]
    }
   ],
   "source": [
    "group = 'random_mixed'\n",
    "\n",
    "for pattern in patterns:\n",
    "    print(pattern)\n",
    "    test = df[(df['pattern'] == pattern) & (df['group']==group)]\n",
    "    samples = {i: test[test['gene_id'] == i] for i in range(10)}\n",
    "    print(stats.kruskal(*[samples[i]['prob_pattern'] for i in range(10)]))"
   ]
  },
  {
   "cell_type": "code",
   "execution_count": null,
   "metadata": {},
   "outputs": [],
   "source": []
  }
 ],
 "metadata": {
  "kernelspec": {
   "display_name": "blurry",
   "language": "python",
   "name": "python3"
  },
  "language_info": {
   "codemirror_mode": {
    "name": "ipython",
    "version": 3
   },
   "file_extension": ".py",
   "mimetype": "text/x-python",
   "name": "python",
   "nbconvert_exporter": "python",
   "pygments_lexer": "ipython3",
   "version": "3.9.13"
  }
 },
 "nbformat": 4,
 "nbformat_minor": 2
}
