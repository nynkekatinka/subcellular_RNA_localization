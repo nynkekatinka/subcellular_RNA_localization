{
 "cells": [
  {
   "cell_type": "code",
   "execution_count": 12,
   "metadata": {},
   "outputs": [
    {
     "name": "stdout",
     "output_type": "stream",
     "text": [
      "The autoreload extension is already loaded. To reload it, use:\n",
      "  %reload_ext autoreload\n"
     ]
    }
   ],
   "source": [
    "%load_ext autoreload\n",
    "%autoreload 2\n",
    "# when debugging the python scripts, with the autoreload the jupyter notebook sync's to the most up to date scripts. See: https://ipython.org/ipython-doc/3/config/extensions/autoreload.html\n",
    "from dataprep import *\n",
    "import numpy as np\n",
    "import pandas as pd\n",
    "import matplotlib.pyplot as plt\n",
    "import scanpy as sc\n",
    "import sklearn.model_selection as skm\n",
    "from sklearn.ensemble import RandomForestClassifier\n",
    "from sklearn.metrics import f1_score\n",
    "#from sklearn.preprocessing import MinMaxScaler\n",
    "from sklearn import metrics\n",
    "import random\n",
    "from tqdm import tqdm"
   ]
  },
  {
   "cell_type": "code",
   "execution_count": 13,
   "metadata": {},
   "outputs": [],
   "source": [
    "seed = 101\n",
    "random.seed(seed)\n",
    "np.random.seed(seed)\n",
    "torch.manual_seed(seed)\n",
    "rng = np.random.RandomState(seed)"
   ]
  },
  {
   "cell_type": "code",
   "execution_count": 3,
   "metadata": {},
   "outputs": [],
   "source": [
    "adata = sc.read_h5ad(\"/media/gambino/students_workdir/nynke/data/custom_nynke_panel_simulated_embeddings_adata.h5ad\")"
   ]
  },
  {
   "cell_type": "code",
   "execution_count": 5,
   "metadata": {},
   "outputs": [
    {
     "data": {
      "text/plain": [
       "315"
      ]
     },
     "execution_count": 5,
     "metadata": {},
     "output_type": "execute_result"
    }
   ],
   "source": [
    "len(adata_pericellular[adata_pericellular.obs['n_spots']<11].obs['cell_id'].unique())"
   ]
  },
  {
   "cell_type": "code",
   "execution_count": 11,
   "metadata": {},
   "outputs": [],
   "source": [
    "# For now define high count as 140+ spots, and low count as 11- spots.\n",
    "def subsetGenes(adata, pattern: str = 'pericellular', pattern_strength: int = 0.9, count_threshold: int = 11, high_or_low: str = 'low'):\n",
    "    \n",
    "    adata_filtered = adata[(adata.obs['pattern'] == pattern) & \n",
    "                           (adata.obs['n_spots'] < count_threshold if high_or_low == 'low' else adata.obs['n_spots'] > count_threshold) & \n",
    "                           (adata.obs['prop'] == pattern_strength)].copy()\n",
    "\n",
    "    \n",
    "    subset_dict = {}\n",
    "    i = 0\n",
    "    while len(adata_filtered.obs['cell_id'].unique()) > 0:\n",
    "        # Group by 'cell_id'\n",
    "        grouped = adata_filtered.obs.groupby('cell_id')\n",
    "\n",
    "        # For each group, select at most one item\n",
    "        subsets = [group.sample(n=1) for _, group in grouped]\n",
    "\n",
    "        # Concatenate the results back into a DataFrame\n",
    "        subset_obs = pd.concat(subsets)\n",
    "\n",
    "        # Use this DataFrame to subset the original anndata object and store in dictionary, while omitting the selected cells from the original adata object\n",
    "        count_subset = adata_filtered[adata_filtered.obs.index.isin(subset_obs.index)].copy()\n",
    "        subset_dict[i] = count_subset\n",
    "        adata_filtered = adata_filtered[~adata_filtered.obs.index.isin(subset_obs.index)].copy()\n",
    "        i += 1\n",
    "\n",
    "    return subset_dict\n"
   ]
  },
  {
   "cell_type": "code",
   "execution_count": 10,
   "metadata": {},
   "outputs": [
    {
     "data": {
      "text/plain": [
       "{0: AnnData object with n_obs × n_vars = 258 × 15\n",
       "     obs: 'pattern', 'random_or_pattern', 'n_spots', 'n_spots_interval', 'cell_id', 'genes', 'rotation', 'rotation_interval', 'blur', 'prop', 'prop_interval', 'corresponding_dapis', 'train_or_val', 'original_image_paths'\n",
       "     obsm: 'latent',\n",
       " 1: AnnData object with n_obs × n_vars = 258 × 15\n",
       "     obs: 'pattern', 'random_or_pattern', 'n_spots', 'n_spots_interval', 'cell_id', 'genes', 'rotation', 'rotation_interval', 'blur', 'prop', 'prop_interval', 'corresponding_dapis', 'train_or_val', 'original_image_paths'\n",
       "     obsm: 'latent',\n",
       " 2: AnnData object with n_obs × n_vars = 258 × 15\n",
       "     obs: 'pattern', 'random_or_pattern', 'n_spots', 'n_spots_interval', 'cell_id', 'genes', 'rotation', 'rotation_interval', 'blur', 'prop', 'prop_interval', 'corresponding_dapis', 'train_or_val', 'original_image_paths'\n",
       "     obsm: 'latent',\n",
       " 3: AnnData object with n_obs × n_vars = 258 × 15\n",
       "     obs: 'pattern', 'random_or_pattern', 'n_spots', 'n_spots_interval', 'cell_id', 'genes', 'rotation', 'rotation_interval', 'blur', 'prop', 'prop_interval', 'corresponding_dapis', 'train_or_val', 'original_image_paths'\n",
       "     obsm: 'latent',\n",
       " 4: AnnData object with n_obs × n_vars = 252 × 15\n",
       "     obs: 'pattern', 'random_or_pattern', 'n_spots', 'n_spots_interval', 'cell_id', 'genes', 'rotation', 'rotation_interval', 'blur', 'prop', 'prop_interval', 'corresponding_dapis', 'train_or_val', 'original_image_paths'\n",
       "     obsm: 'latent',\n",
       " 5: AnnData object with n_obs × n_vars = 152 × 15\n",
       "     obs: 'pattern', 'random_or_pattern', 'n_spots', 'n_spots_interval', 'cell_id', 'genes', 'rotation', 'rotation_interval', 'blur', 'prop', 'prop_interval', 'corresponding_dapis', 'train_or_val', 'original_image_paths'\n",
       "     obsm: 'latent',\n",
       " 6: AnnData object with n_obs × n_vars = 152 × 15\n",
       "     obs: 'pattern', 'random_or_pattern', 'n_spots', 'n_spots_interval', 'cell_id', 'genes', 'rotation', 'rotation_interval', 'blur', 'prop', 'prop_interval', 'corresponding_dapis', 'train_or_val', 'original_image_paths'\n",
       "     obsm: 'latent',\n",
       " 7: AnnData object with n_obs × n_vars = 152 × 15\n",
       "     obs: 'pattern', 'random_or_pattern', 'n_spots', 'n_spots_interval', 'cell_id', 'genes', 'rotation', 'rotation_interval', 'blur', 'prop', 'prop_interval', 'corresponding_dapis', 'train_or_val', 'original_image_paths'\n",
       "     obsm: 'latent',\n",
       " 8: AnnData object with n_obs × n_vars = 152 × 15\n",
       "     obs: 'pattern', 'random_or_pattern', 'n_spots', 'n_spots_interval', 'cell_id', 'genes', 'rotation', 'rotation_interval', 'blur', 'prop', 'prop_interval', 'corresponding_dapis', 'train_or_val', 'original_image_paths'\n",
       "     obsm: 'latent',\n",
       " 9: AnnData object with n_obs × n_vars = 148 × 15\n",
       "     obs: 'pattern', 'random_or_pattern', 'n_spots', 'n_spots_interval', 'cell_id', 'genes', 'rotation', 'rotation_interval', 'blur', 'prop', 'prop_interval', 'corresponding_dapis', 'train_or_val', 'original_image_paths'\n",
       "     obsm: 'latent',\n",
       " 10: AnnData object with n_obs × n_vars = 70 × 15\n",
       "     obs: 'pattern', 'random_or_pattern', 'n_spots', 'n_spots_interval', 'cell_id', 'genes', 'rotation', 'rotation_interval', 'blur', 'prop', 'prop_interval', 'corresponding_dapis', 'train_or_val', 'original_image_paths'\n",
       "     obsm: 'latent',\n",
       " 11: AnnData object with n_obs × n_vars = 70 × 15\n",
       "     obs: 'pattern', 'random_or_pattern', 'n_spots', 'n_spots_interval', 'cell_id', 'genes', 'rotation', 'rotation_interval', 'blur', 'prop', 'prop_interval', 'corresponding_dapis', 'train_or_val', 'original_image_paths'\n",
       "     obsm: 'latent',\n",
       " 12: AnnData object with n_obs × n_vars = 70 × 15\n",
       "     obs: 'pattern', 'random_or_pattern', 'n_spots', 'n_spots_interval', 'cell_id', 'genes', 'rotation', 'rotation_interval', 'blur', 'prop', 'prop_interval', 'corresponding_dapis', 'train_or_val', 'original_image_paths'\n",
       "     obsm: 'latent',\n",
       " 13: AnnData object with n_obs × n_vars = 70 × 15\n",
       "     obs: 'pattern', 'random_or_pattern', 'n_spots', 'n_spots_interval', 'cell_id', 'genes', 'rotation', 'rotation_interval', 'blur', 'prop', 'prop_interval', 'corresponding_dapis', 'train_or_val', 'original_image_paths'\n",
       "     obsm: 'latent',\n",
       " 14: AnnData object with n_obs × n_vars = 65 × 15\n",
       "     obs: 'pattern', 'random_or_pattern', 'n_spots', 'n_spots_interval', 'cell_id', 'genes', 'rotation', 'rotation_interval', 'blur', 'prop', 'prop_interval', 'corresponding_dapis', 'train_or_val', 'original_image_paths'\n",
       "     obsm: 'latent',\n",
       " 15: AnnData object with n_obs × n_vars = 21 × 15\n",
       "     obs: 'pattern', 'random_or_pattern', 'n_spots', 'n_spots_interval', 'cell_id', 'genes', 'rotation', 'rotation_interval', 'blur', 'prop', 'prop_interval', 'corresponding_dapis', 'train_or_val', 'original_image_paths'\n",
       "     obsm: 'latent',\n",
       " 16: AnnData object with n_obs × n_vars = 21 × 15\n",
       "     obs: 'pattern', 'random_or_pattern', 'n_spots', 'n_spots_interval', 'cell_id', 'genes', 'rotation', 'rotation_interval', 'blur', 'prop', 'prop_interval', 'corresponding_dapis', 'train_or_val', 'original_image_paths'\n",
       "     obsm: 'latent',\n",
       " 17: AnnData object with n_obs × n_vars = 21 × 15\n",
       "     obs: 'pattern', 'random_or_pattern', 'n_spots', 'n_spots_interval', 'cell_id', 'genes', 'rotation', 'rotation_interval', 'blur', 'prop', 'prop_interval', 'corresponding_dapis', 'train_or_val', 'original_image_paths'\n",
       "     obsm: 'latent',\n",
       " 18: AnnData object with n_obs × n_vars = 21 × 15\n",
       "     obs: 'pattern', 'random_or_pattern', 'n_spots', 'n_spots_interval', 'cell_id', 'genes', 'rotation', 'rotation_interval', 'blur', 'prop', 'prop_interval', 'corresponding_dapis', 'train_or_val', 'original_image_paths'\n",
       "     obsm: 'latent',\n",
       " 19: AnnData object with n_obs × n_vars = 18 × 15\n",
       "     obs: 'pattern', 'random_or_pattern', 'n_spots', 'n_spots_interval', 'cell_id', 'genes', 'rotation', 'rotation_interval', 'blur', 'prop', 'prop_interval', 'corresponding_dapis', 'train_or_val', 'original_image_paths'\n",
       "     obsm: 'latent',\n",
       " 20: AnnData object with n_obs × n_vars = 3 × 15\n",
       "     obs: 'pattern', 'random_or_pattern', 'n_spots', 'n_spots_interval', 'cell_id', 'genes', 'rotation', 'rotation_interval', 'blur', 'prop', 'prop_interval', 'corresponding_dapis', 'train_or_val', 'original_image_paths'\n",
       "     obsm: 'latent',\n",
       " 21: AnnData object with n_obs × n_vars = 3 × 15\n",
       "     obs: 'pattern', 'random_or_pattern', 'n_spots', 'n_spots_interval', 'cell_id', 'genes', 'rotation', 'rotation_interval', 'blur', 'prop', 'prop_interval', 'corresponding_dapis', 'train_or_val', 'original_image_paths'\n",
       "     obsm: 'latent',\n",
       " 22: AnnData object with n_obs × n_vars = 3 × 15\n",
       "     obs: 'pattern', 'random_or_pattern', 'n_spots', 'n_spots_interval', 'cell_id', 'genes', 'rotation', 'rotation_interval', 'blur', 'prop', 'prop_interval', 'corresponding_dapis', 'train_or_val', 'original_image_paths'\n",
       "     obsm: 'latent',\n",
       " 23: AnnData object with n_obs × n_vars = 3 × 15\n",
       "     obs: 'pattern', 'random_or_pattern', 'n_spots', 'n_spots_interval', 'cell_id', 'genes', 'rotation', 'rotation_interval', 'blur', 'prop', 'prop_interval', 'corresponding_dapis', 'train_or_val', 'original_image_paths'\n",
       "     obsm: 'latent',\n",
       " 24: AnnData object with n_obs × n_vars = 2 × 15\n",
       "     obs: 'pattern', 'random_or_pattern', 'n_spots', 'n_spots_interval', 'cell_id', 'genes', 'rotation', 'rotation_interval', 'blur', 'prop', 'prop_interval', 'corresponding_dapis', 'train_or_val', 'original_image_paths'\n",
       "     obsm: 'latent'}"
      ]
     },
     "execution_count": 10,
     "metadata": {},
     "output_type": "execute_result"
    }
   ],
   "source": [
    "test_dict = subsetGenes(adata, 'pericellular', 0.9, 11, 'low')\n",
    "test_dict"
   ]
  },
  {
   "cell_type": "markdown",
   "metadata": {},
   "source": [
    "# Plan of attack"
   ]
  },
  {
   "cell_type": "markdown",
   "metadata": {},
   "source": [
    "1. predict all the items within a single dictionary.\n",
    "2. Do the same for the random genes.\n",
    "3. group results together in a dataframe. Columns: RF_results, group, pattern (so can subset for the patterns when doing regression)\n",
    "4. do logistic regression on the dataframe to see if there is a significant difference"
   ]
  },
  {
   "cell_type": "markdown",
   "metadata": {},
   "source": [
    "## Check f1 score for protrusion data with pattern strength 0.45 iso 0.9"
   ]
  },
  {
   "cell_type": "code",
   "execution_count": 59,
   "metadata": {},
   "outputs": [],
   "source": [
    "adata_all = sc.read_h5ad(\"/media/gambino/students_workdir/nynke/data/all_spots_simulated_embeddings_adata.h5ad\")"
   ]
  },
  {
   "cell_type": "code",
   "execution_count": 72,
   "metadata": {},
   "outputs": [
    {
     "data": {
      "text/plain": [
       "View of AnnData object with n_obs × n_vars = 0 × 15\n",
       "    obs: 'pattern', 'random_or_pattern', 'n_spots', 'n_spots_interval', 'cell_id', 'genes', 'rotation', 'rotation_interval', 'blur', 'prop', 'prop_interval', 'corresponding_dapis', 'train_or_val', 'original_image_paths'\n",
       "    uns: 'neighbors', 'pattern_colors', 'pca', 'umap'\n",
       "    obsm: 'X_pca', 'X_umap', 'latent'\n",
       "    varm: 'PCs'\n",
       "    obsp: 'connectivities', 'distances'"
      ]
     },
     "execution_count": 72,
     "metadata": {},
     "output_type": "execute_result"
    }
   ],
   "source": [
    "adata_all[adata_all.obs['pattern']=='protrusion']"
   ]
  },
  {
   "cell_type": "code",
   "execution_count": 73,
   "metadata": {},
   "outputs": [],
   "source": [
    "import scanpy as sc, anndata as ad, numpy as np, pandas as pd"
   ]
  },
  {
   "cell_type": "code",
   "execution_count": 74,
   "metadata": {},
   "outputs": [
    {
     "data": {
      "text/plain": [
       "View of AnnData object with n_obs × n_vars = 37979 × 15\n",
       "    obs: 'pattern', 'random_or_pattern', 'n_spots', 'n_spots_interval', 'cell_id', 'genes', 'rotation', 'rotation_interval', 'blur', 'prop', 'prop_interval', 'corresponding_dapis', 'train_or_val', 'original_image_paths'\n",
       "    obsm: 'latent'"
      ]
     },
     "execution_count": 74,
     "metadata": {},
     "output_type": "execute_result"
    }
   ],
   "source": [
    "adata_concat = ad.concat([adata_all,adata_protrude], merge=\"same\")\n",
    "adata_concat[adata_concat.obs['pattern']=='protrusion']"
   ]
  },
  {
   "cell_type": "code",
   "execution_count": 70,
   "metadata": {},
   "outputs": [
    {
     "data": {
      "text/plain": [
       "View of AnnData object with n_obs × n_vars = 37979 × 15\n",
       "    obs: 'pattern', 'random_or_pattern', 'n_spots', 'n_spots_interval', 'cell_id', 'genes', 'rotation', 'rotation_interval', 'blur', 'prop', 'prop_interval', 'corresponding_dapis', 'train_or_val', 'original_image_paths'\n",
       "    obsm: 'latent'"
      ]
     },
     "execution_count": 70,
     "metadata": {},
     "output_type": "execute_result"
    }
   ],
   "source": [
    "protrude_adata = adata[adata.obs['pattern']=='protrusion']\n",
    "adata_protrude = protrude_adata[protrude_adata.obs['prop']==0.4]\n",
    "adata_protrude"
   ]
  },
  {
   "cell_type": "code",
   "execution_count": 78,
   "metadata": {},
   "outputs": [],
   "source": [
    "# Step 1: Group indices by cell_id\n",
    "all_indices = adata_concat.obs.index\n",
    "cell_ids = np.array(adata_concat.obs['cell_id'])\n",
    "unique_cell_ids, cell_id_indices = np.unique(cell_ids, return_inverse=True)\n",
    "\n",
    "# Step 3: Perform train-val-test split on cell_ids, maintaining the grouping\n",
    "train_indices, test_val_indices = skm.train_test_split(np.arange(len(unique_cell_ids)), test_size=0.2, random_state=seed)\n",
    "val_indices, test_indices = skm.train_test_split(test_val_indices, test_size=0.5, random_state=seed)\n",
    "\n",
    "# Step 4: Map the grouped indices back to the original indices\n",
    "train_indices = np.concatenate([np.where(cell_id_indices == i)[0] for i in train_indices])\n",
    "val_indices = np.concatenate([np.where(cell_id_indices == i)[0] for i in val_indices])\n",
    "test_indices = np.concatenate([np.where(cell_id_indices == i)[0] for i in test_indices])\n",
    "\n",
    "# Step 5: Subset AnnData object using the obtained indices\n",
    "adata_train = adata_concat[train_indices, :] # Training set:   176162 x 15\n",
    "adata_val = adata_concat[val_indices, :]     # Validation set: 22269 x 15\n",
    "adata_test = adata_concat[test_indices, :]   # Test set:       22256 x 15"
   ]
  },
  {
   "cell_type": "code",
   "execution_count": 79,
   "metadata": {},
   "outputs": [],
   "source": [
    "adata_train_pattern = adata_train.copy()\n",
    "adata_train_pattern = adata_train_pattern[adata_train_pattern.obs['pattern']!='random']\n",
    "adata_val_pattern = adata_val.copy()\n",
    "adata_val_pattern = adata_val_pattern[adata_val_pattern.obs['pattern']!='random']"
   ]
  },
  {
   "cell_type": "code",
   "execution_count": 80,
   "metadata": {},
   "outputs": [
    {
     "name": "stderr",
     "output_type": "stream",
     "text": [
      "<ipython-input-80-5f17c46949c9>:1: ImplicitModificationWarning: Trying to modify attribute `.obs` of view, initializing view as actual.\n",
      "  adata_train_pattern.obs[\"protrusion\"] = np.where(adata_train_pattern.obs[\"pattern\"] == \"protrusion\", \"protrusion\", \"other\")\n",
      "<ipython-input-80-5f17c46949c9>:2: ImplicitModificationWarning: Trying to modify attribute `.obs` of view, initializing view as actual.\n",
      "  adata_val_pattern.obs[\"protrusion\"] = np.where(adata_val_pattern.obs[\"pattern\"] == \"protrusion\", \"protrusion\", \"other\")\n"
     ]
    },
    {
     "name": "stdout",
     "output_type": "stream",
     "text": [
      "f1 score: \n",
      "0.8601307189542483\n"
     ]
    },
    {
     "data": {
      "image/png": "[encoded data removed]",
      "text/plain": [
       "<Figure size 432x288 with 2 Axes>"
      ]
     },
     "metadata": {
      "needs_background": "light"
     },
     "output_type": "display_data"
    }
   ],
   "source": [
    "adata_train_pattern.obs[\"protrusion\"] = np.where(adata_train_pattern.obs[\"pattern\"] == \"protrusion\", \"protrusion\", \"other\")\n",
    "adata_val_pattern.obs[\"protrusion\"] = np.where(adata_val_pattern.obs[\"pattern\"] == \"protrusion\", \"protrusion\", \"other\")\n",
    " # create random forest classifier EXCLUDING random\n",
    "rf_classifier = RandomForestClassifier(n_estimators=150, random_state=seed, max_features=3, bootstrap=True, oob_score=False)\n",
    "rf_classifier.fit(adata_train_pattern.obsm[\"latent\"], adata_train_pattern.obs[\"protrusion\"]) \n",
    "    \n",
    "#predict label\n",
    "val_protrusion = rf_classifier.predict(adata_val_pattern.obsm[\"latent\"])\n",
    "\n",
    "print(\"f1 score: \")\n",
    "print(f1_score(adata_val_pattern.obs[\"protrusion\"], val_protrusion, pos_label='protrusion'))\n",
    "\n",
    "confusion_matrix = metrics.confusion_matrix(adata_val_pattern.obs[\"protrusion\"], val_protrusion, labels = rf_classifier.classes_)\n",
    "cm_display = metrics.ConfusionMatrixDisplay(confusion_matrix = confusion_matrix, display_labels = rf_classifier.classes_) \n",
    "cm_display.plot()\n",
    "plt.show()"
   ]
  },
  {
   "cell_type": "code",
   "execution_count": null,
   "metadata": {},
   "outputs": [],
   "source": []
  }
 ],
 "metadata": {
  "kernelspec": {
   "display_name": "blurry",
   "language": "python",
   "name": "python3"
  },
  "language_info": {
   "codemirror_mode": {
    "name": "ipython",
    "version": 3
   },
   "file_extension": ".py",
   "mimetype": "text/x-python",
   "name": "python",
   "nbconvert_exporter": "python",
   "pygments_lexer": "ipython3",
   "version": "3.9.13"
  }
 },
 "nbformat": 4,
 "nbformat_minor": 2
}
