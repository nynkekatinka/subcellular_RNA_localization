{
 "cells": [
  {
   "cell_type": "code",
   "execution_count": 1,
   "metadata": {},
   "outputs": [
    {
     "name": "stderr",
     "output_type": "stream",
     "text": [
      "/media/gambino/students_workdir/nynke/miniconda3/envs/blurry/lib/python3.9/site-packages/tqdm/auto.py:22: TqdmWarning: IProgress not found. Please update jupyter and ipywidgets. See https://ipywidgets.readthedocs.io/en/stable/user_install.html\n",
      "  from .autonotebook import tqdm as notebook_tqdm\n"
     ]
    }
   ],
   "source": [
    "%load_ext autoreload\n",
    "%autoreload 2\n",
    "# when debugging the python scripts, with the autoreload the jupyter notebook sync's to the most up to date scripts. See: https://ipython.org/ipython-doc/3/config/extensions/autoreload.html\n",
    "from dataprep import *\n",
    "import matplotlib.pyplot as plt\n",
    "import numpy as np\n",
    "import pandas as pd\n",
    "import random\n",
    "import seaborn as sns\n",
    "import scanpy as sc\n",
    "from scipy.spatial.distance import cdist\n",
    "from scipy.stats import norm\n",
    "import torch"
   ]
  },
  {
   "cell_type": "code",
   "execution_count": 2,
   "metadata": {},
   "outputs": [],
   "source": [
    "seed = 101\n",
    "random.seed(seed)\n",
    "np.random.seed(seed)\n",
    "torch.manual_seed(seed)\n",
    "rng = np.random.RandomState(seed)\n",
    "\n",
    "custom = {\"axes.edgecolor\": \"grey\"}\n",
    "sns.set_style(\"whitegrid\")"
   ]
  },
  {
   "cell_type": "markdown",
   "metadata": {},
   "source": [
    "## Loading RF Models & Datasets"
   ]
  },
  {
   "cell_type": "code",
   "execution_count": 16,
   "metadata": {},
   "outputs": [],
   "source": [
    "#adata_all_spots = sc.read_h5ad(\"/media/gambino/students_workdir/nynke/data/all_spots_simulated_embeddings_adata.h5ad\")\n",
    "adata_split_cellID = sc.read_h5ad(\"/media/gambino/students_workdir/nynke/new_model_with_cell_id_left_out_custom_nynke_panel_simulated_embeddings_adata.h5ad\")\n",
    "#adata_mixed_cellID = sc.read_h5ad(\"/media/gambino/students_workdir/nynke/data/custom_nynke_panel_simulated_embeddings_adata.h5ad\")\n",
    "adata_apical = sc.read_h5ad(\"/media/gambino/students_workdir/nynke/data/apical_basal_data/moor_data_apical_basal_embeddings_adata.h5ad\")"
   ]
  },
  {
   "cell_type": "code",
   "execution_count": 3,
   "metadata": {},
   "outputs": [],
   "source": [
    "adata_split_cellID = sc.read_h5ad(\"/media/gambino/students_workdir/nynke/new_model_with_cell_id_left_out_custom_nynke_panel_simulated_embeddings_adata.h5ad\")\n",
    "adata_apical = sc.read_h5ad(\"/media/gambino/students_workdir/moor_data_apical_basal_embeddings_adata_all_nr_spots.h5ad\")"
   ]
  },
  {
   "cell_type": "code",
   "execution_count": 4,
   "metadata": {},
   "outputs": [],
   "source": [
    "def map_interval(interval):\n",
    "    if interval == '0-10':\n",
    "        return '0-10'\n",
    "    elif interval in ['10-20', '20-30']:\n",
    "        return '10-30'\n",
    "    elif interval in ['30-40', '40-50', '50-60']:\n",
    "        return '30-60'\n",
    "    elif interval in ['70-80', '80-90', '90-100']:\n",
    "        return '70-100'\n",
    "    elif interval == '100+':\n",
    "        return '100+'\n",
    "    else:\n",
    "        return None\n",
    "    \n",
    "def initialize_adata(adata):\n",
    "    choices = ['strong', 'intermediate', 'low']\n",
    "    conditions = [\n",
    "        (adata.obs['prop'] == 0.9) | ((adata.obs['prop'] == 0.4) & (adata.obs['pattern'] == 'protrusion')),\n",
    "        (adata.obs['prop'] == 0.5) | ((adata.obs['prop'] == 0.2) & (adata.obs['pattern'] == 'protrusion')),\n",
    "        (adata.obs['prop'] == 0.1) | ((adata.obs['prop'] == 0.0) & (adata.obs['pattern'] == 'protrusion'))\n",
    "    ]\n",
    "    adata.obs['pattern_strength'] = np.select(conditions, choices, default='unknown')\n",
    "\n",
    "    # Include modified RNA count intervals in the adata object\n",
    "    adata.obs['rna_count'] = adata.obs['n_spots_interval'].apply(map_interval)\n",
    "\n",
    "\n",
    "    return adata"
   ]
  },
  {
   "cell_type": "code",
   "execution_count": 5,
   "metadata": {},
   "outputs": [],
   "source": [
    "adata_split_cellID = initialize_adata(adata_split_cellID)\n",
    "adata_test = adata_split_cellID[adata_split_cellID.obs['cell_id'].isin(adata_split_cellID.uns['test_cellIDs'])]"
   ]
  },
  {
   "cell_type": "markdown",
   "metadata": {},
   "source": [
    "# Estimate Probability Density Functions with KDE"
   ]
  },
  {
   "cell_type": "markdown",
   "metadata": {},
   "source": [
    "Use KDEpy, is a quicker to run than KDE implementations of scipy, sklearn and statsmodel, and you can use a bandwidth estimator called ISJ, which is useful for very non-normal data and potentially multimodal data. "
   ]
  },
  {
   "cell_type": "code",
   "execution_count": 13,
   "metadata": {},
   "outputs": [],
   "source": [
    "from statsmodels.nonparametric.kernel_density import KDEMultivariate, EstimatorSettings"
   ]
  },
  {
   "cell_type": "code",
   "execution_count": 16,
   "metadata": {},
   "outputs": [
    {
     "data": {
      "text/plain": [
       "AnnData object with n_obs × n_vars = 317 × 15\n",
       "    obs: 'pattern', 'random_or_pattern', 'n_spots', 'n_spots_interval', 'cell_id', 'genes', 'rotation', 'rotation_interval', 'blur', 'prop', 'prop_interval', 'corresponding_dapis', 'train_or_val', 'original_image_paths', 'pattern_strength'\n",
       "    uns: 'test_cellIDs', 'train_cellIDs'\n",
       "    obsm: 'latent'"
      ]
     },
     "execution_count": 16,
     "metadata": {},
     "output_type": "execute_result"
    }
   ],
   "source": [
    "pericellular_dict_split_cellID[0]"
   ]
  },
  {
   "cell_type": "code",
   "execution_count": 6,
   "metadata": {},
   "outputs": [],
   "source": [
    "settings = EstimatorSettings(efficient=True, n_jobs=15)"
   ]
  },
  {
   "cell_type": "markdown",
   "metadata": {},
   "source": [
    "use cross validation least squares to select the bandwidth for each dimension. Choose LS over ML because ML makes assumptions about normality etc, whereas LS does not. "
   ]
  },
  {
   "cell_type": "code",
   "execution_count": 17,
   "metadata": {},
   "outputs": [],
   "source": [
    "randomgene = KDEMultivariate(data=random_dict_mixed[0].obsm['latent'], var_type='ccccccccccccccc',bw='cv_ls', defaults=settings)"
   ]
  },
  {
   "cell_type": "code",
   "execution_count": 18,
   "metadata": {},
   "outputs": [],
   "source": [
    "perigene = KDEMultivariate(data=pericellular_dict_split_cellID[0].obsm['latent'], var_type='ccccccccccccccc',bw='cv_ls', defaults=settings)"
   ]
  },
  {
   "cell_type": "code",
   "execution_count": 26,
   "metadata": {},
   "outputs": [
    {
     "data": {
      "text/plain": [
       "KDE instance\n",
       "Number of variables: k_vars = 15\n",
       "Number of samples:   nobs = 317\n",
       "Variable types:      ccccccccccccccc\n",
       "BW selection method: cv_ls"
      ]
     },
     "execution_count": 26,
     "metadata": {},
     "output_type": "execute_result"
    }
   ],
   "source": [
    "randomgene"
   ]
  },
  {
   "cell_type": "markdown",
   "metadata": {},
   "source": [
    "Creating the grid to turn the KDE into PDF"
   ]
  },
  {
   "cell_type": "code",
   "execution_count": 24,
   "metadata": {},
   "outputs": [],
   "source": [
    "# Assuming point_cloud_1 and point_cloud_2 are your two point clouds\n",
    "combined = np.concatenate([random_dict_mixed[0].obsm['latent'], pericellular_dict_split_cellID[0].obsm['latent']], axis=0)  # Combine the point clouds\n",
    "\n",
    "# Find the minimum and maximum values across all dimensions and points\n",
    "min_val = min(np.min(random_dict_mixed[0].obsm['latent']),np.min(pericellular_dict_split_cellID[0].obsm['latent']))\n",
    "max_val = max(np.max(random_dict_mixed[0].obsm['latent']),np.max(pericellular_dict_split_cellID[0].obsm['latent']))\n",
    "num_points = 100  # number of points in each latent dimension\n",
    "\n",
    "# Create the grid\n",
    "grid = np.linspace(min_val, max_val, num_points)"
   ]
  },
  {
   "cell_type": "code",
   "execution_count": 23,
   "metadata": {},
   "outputs": [
    {
     "data": {
      "text/plain": [
       "(634, 15)"
      ]
     },
     "execution_count": 23,
     "metadata": {},
     "output_type": "execute_result"
    }
   ],
   "source": [
    "combined.shape"
   ]
  },
  {
   "cell_type": "code",
   "execution_count": null,
   "metadata": {},
   "outputs": [],
   "source": [
    "pdf_random = randomgene.pdf(data_predict=grid)\n",
    "pdf_peri = perigene.pdf(data_predict=grid)"
   ]
  },
  {
   "cell_type": "markdown",
   "metadata": {},
   "source": [
    "# Chamfer Distance"
   ]
  },
  {
   "cell_type": "code",
   "execution_count": 6,
   "metadata": {},
   "outputs": [],
   "source": [
    "def chamfer_L1_distance(point_cloud_1, point_cloud_2):\n",
    "\n",
    "    # Compute all pairwise Manhattan distances, output matrix = [distance_cloudA1, distance_cloud2]\n",
    "    distances_1_to_2 = cdist(point_cloud_1, point_cloud_2, metric='cityblock')\n",
    "    distances_2_to_1 = cdist(point_cloud_2, point_cloud_1, metric='cityblock')\n",
    "\n",
    "    # Get nearest neighbor for each point from point cloud 1 in point cloud 2 and vice versa\n",
    "    distances_1_to_2 = np.min(distances_1_to_2, axis=1)\n",
    "    distances_2_to_1 = np.min(distances_2_to_1, axis=1)\n",
    "\n",
    "    # Compute the Chamfer distance\n",
    "    return np.mean(distances_1_to_2) + np.mean(distances_2_to_1)"
   ]
  },
  {
   "cell_type": "code",
   "execution_count": 6,
   "metadata": {},
   "outputs": [],
   "source": [
    "strength = 'strong'\n",
    "count = '10-30'\n",
    "sample = 5\n",
    "\n",
    "pattern = subset_power_analysis(adata_test, mixed_patterns = True, pattern_strength= strength, rna_count = count, sample_size = sample)\n",
    "control = subset_power_analysis(adata_test, pattern = 'random', mixed_patterns = False, rna_count = count, sample_size = sample)"
   ]
  },
  {
   "cell_type": "markdown",
   "metadata": {},
   "source": [
    "#### permutation function"
   ]
  },
  {
   "cell_type": "code",
   "execution_count": 8,
   "metadata": {},
   "outputs": [
    {
     "name": "stdout",
     "output_type": "stream",
     "text": [
      "252.0\n",
      "Observed chamfer distance: 115.9771185040474\n",
      "P-value: 0.015873015873015872\n"
     ]
    }
   ],
   "source": [
    "from latent_statistics import permutation_test\n",
    "#permutation_test(pattern, control, n_permutations: int = 1000)\n",
    "# Perform permutation test\n",
    "p_value, observed_statistic, permuted_statistics = permutation_test(\n",
    "    pattern.obsm['latent'], \n",
    "    control.obsm['latent'], \n",
    "    n_permutations=9999)\n",
    "\n",
    "print(f\"Observed chamfer distance: {observed_statistic}\")\n",
    "print(f\"P-value: {p_value}\")"
   ]
  },
  {
   "cell_type": "code",
   "execution_count": 52,
   "metadata": {},
   "outputs": [],
   "source": [
    "def permutation_test(pattern, control, n_permutations: int = 1000):\n",
    "    observed_statistic = chamfer_L1_distance(pattern, control)\n",
    "    num_pattern = len(pattern)\n",
    "    combined = np.concatenate([pattern, control])\n",
    "    \n",
    "    # Preallocate permuted null hypothesis array\n",
    "    permuted_statistics = np.empty(n_permutations)\n",
    "\n",
    "    for i in range(n_permutations):\n",
    "        permuted = np.random.permutation(combined)\n",
    "        permuted_pattern = permuted[:num_pattern]\n",
    "        permuted_control = permuted[num_pattern:]\n",
    "        permuted_statistic = chamfer_L1_distance(permuted_pattern, permuted_control)\n",
    "        permuted_statistics[i] = permuted_statistic\n",
    "    \n",
    "    #These functions come from scipy.stats.permutation_test(). They have now been integrated in my main function in line to improve the efficiency\n",
    "    eps =  (0 if not np.issubdtype(observed_statistic.dtype, np.inexact)\n",
    "            else np.finfo(observed_statistic.dtype).eps*100)\n",
    "    gamma = np.abs(eps * observed_statistic)\n",
    "    cmps_less = permuted_statistics <= observed_statistic + gamma\n",
    "    cmps_greater = permuted_statistics >= observed_statistic - gamma\n",
    "    # +1 is added to pvalues to add the observed value into the hypothetical population to make the pvalue more conservative.\n",
    "    pvalues_less = (cmps_less.sum() + 1) / (n_permutations + 1)\n",
    "    pvalues_greater = (cmps_greater.sum() + 1) / (n_permutations + 1)\n",
    "    #because with 2-tailed you should use alpha=0.025 as treshold, so now it gets scaled back to 0.05\n",
    "    p_value = np.minimum(pvalues_less, pvalues_greater) * 2 \n",
    "\n",
    "    return p_value, observed_statistic, permuted_statistics"
   ]
  },
  {
   "cell_type": "code",
   "execution_count": 16,
   "metadata": {},
   "outputs": [
    {
     "name": "stdout",
     "output_type": "stream",
     "text": [
      "406\n",
      "26.517241379310345\n",
      "24.0\n",
      "15.15383995218426\n",
      "1\n",
      "92\n"
     ]
    }
   ],
   "source": [
    "n_spots = adata_apical[adata_apical.obs['genes']=='Apob'].obs['n_spots'].to_numpy()\n",
    "print(len(n_spots))\n",
    "print(np.mean(n_spots))\n",
    "print(np.median(n_spots))\n",
    "print(np.std(n_spots))\n",
    "print(np.min(n_spots))\n",
    "print(np.max(n_spots))"
   ]
  },
  {
   "cell_type": "code",
   "execution_count": 69,
   "metadata": {},
   "outputs": [
    {
     "data": {
      "text/plain": [
       "AnnData object with n_obs × n_vars = 329349 × 15\n",
       "    obs: 'pattern', 'random_or_pattern', 'n_spots', 'n_spots_interval', 'cell_id', 'genes', 'rotation', 'rotation_interval', 'blur', 'prop', 'prop_interval', 'corresponding_dapis', 'train_or_val', 'original_image_paths', 'pattern_strength', 'rna_count', 'apop_count'\n",
       "    uns: 'test_cellIDs', 'train_cellIDs'\n",
       "    obsm: 'latent'"
      ]
     },
     "execution_count": 69,
     "metadata": {},
     "output_type": "execute_result"
    }
   ],
   "source": [
    "adata_test"
   ]
  },
  {
   "cell_type": "code",
   "execution_count": 68,
   "metadata": {},
   "outputs": [],
   "source": [
    "def map_interval(interval):\n",
    "    if interval in ['20-30','30-40', '40-50', '50-60', '60-70', '70-80', '80-90', '90-100']:\n",
    "        return '20-100'\n",
    "    else:\n",
    "        return None\n",
    "    \n",
    "adata_test.obs['apob_count'] = adata_test.obs['n_spots_interval'].apply(map_interval)\n"
   ]
  },
  {
   "cell_type": "code",
   "execution_count": 41,
   "metadata": {},
   "outputs": [],
   "source": [
    "def subset_power(adata, pattern: str = 'pericellular', mixed_patterns: bool = True, pattern_strength: str = \"strong\", rna_count: str = '10-30', sample_size: int = 5):\n",
    "    \"\"\"\n",
    "    Subset the anndata object into a `1 gene multiple cells` object. Can filter the cells based on the number of spots, the pattern and the pattern strength.\n",
    "\n",
    "    Parameters\n",
    "    ----------\n",
    "    adata : ad.AnnData object\n",
    "        complete anndata object.\n",
    "    pattern : str\n",
    "        Type of subcellular expression pattern you want to filter on. Default is 'pericellular', which has the highest f1 RF score.\n",
    "    mixed_patterns: bool\n",
    "        True: all patterns can be included, False: only the pattern type specified in `pattern` is included. Default is False. \n",
    "    pattern_strength : str\n",
    "        strength of the pattern, which is labeled as pattern_strength in the anndata object. Strong, which comes down to 45% of points fall in the pattern for protrusion, 90% of points are in pattern for all the other patterns. \n",
    "        If the pattern is random, then pattern_strength is not used, given that irrelevant for random when using the simFISH v2 definition of patterness (90% of points assigned to the pattern 'random' will still amount to 100% randomness).\n",
    "    high_or_low : str\n",
    "        Whether you want to filter genes with a higher or lower count than the given threshold. Default is lower.\n",
    "        If none, then no threshold is chosen and mixed counts are included. \n",
    "    count_threshold : int\n",
    "        Count threshold to filter on. Default is 11, so that genes with count 0-10 are selected. For high, the threshold is 140.\n",
    "    mixed_counts: bool\n",
    "        True: all counts are included, False: only counts above or below the threshold are included. Default is False.\n",
    "        \n",
    "    Returns\n",
    "    -------\n",
    "    ad.AnnData\n",
    "\n",
    "    \"\"\"\n",
    "    adata_filtered = adata[(\n",
    "                                (\n",
    "                                    adata.obs['pattern'] == pattern if mixed_patterns == False\n",
    "                                    else adata.obs['pattern'] != 'random'\n",
    "                                )\n",
    "                            ) & \n",
    "                           (\n",
    "                                adata.obs['apob_count'] == rna_count\n",
    "                            ) & \n",
    "                           (\n",
    "                               adata.obs['pattern_strength'] == pattern_strength if pattern != 'random' \n",
    "                               else True\n",
    "                            )\n",
    "                        ].copy()\n",
    "\n",
    "    subset = adata_filtered.obs.sample(n=sample_size) # , replace=True  --> old graphs\n",
    "    \n",
    "    adata_subset = adata_filtered[adata_filtered.obs.index.isin(subset.index)]\n",
    "\n",
    "\n",
    "    return adata_subset"
   ]
  },
  {
   "cell_type": "code",
   "execution_count": 57,
   "metadata": {},
   "outputs": [
    {
     "data": {
      "text/plain": [
       "20-50    67489\n",
       "0-20     36383\n",
       "Name: apob_count, dtype: int64"
      ]
     },
     "execution_count": 57,
     "metadata": {},
     "output_type": "execute_result"
    }
   ],
   "source": [
    "adata_test.obs['apob_count'].value_counts()"
   ]
  },
  {
   "cell_type": "code",
   "execution_count": 46,
   "metadata": {},
   "outputs": [
    {
     "data": {
      "text/plain": [
       "376"
      ]
     },
     "execution_count": 46,
     "metadata": {},
     "output_type": "execute_result"
    }
   ],
   "source": [
    "len(adata_apical[adata_apical.obs['genes']=='Cdkn1a'])\n"
   ]
  },
  {
   "cell_type": "code",
   "execution_count": 74,
   "metadata": {},
   "outputs": [],
   "source": [
    "pattern = adata_apical[adata_apical.obs['genes']=='Apob'].obsm['latent']\n",
    "pattern2 = adata_apical[adata_apical.obs['genes']=='Cyb5r3'].obsm['latent']\n",
    "pattern3 = adata_apical[adata_apical.obs['genes']=='Pigr'].obsm['latent']\n",
    "control = subset_power(adata_test, pattern = 'random', mixed_patterns = False, rna_count = '20-100', sample_size = len(pattern))\n"
   ]
  },
  {
   "cell_type": "code",
   "execution_count": 20,
   "metadata": {},
   "outputs": [],
   "source": [
    "path = f\"/media/gambino/students_workdir/nynke/blurry/temp_objects/rf_balanced/rf_pattern_balanced_singlejob.pkl\"\n",
    "with open(path, 'rb') as p:\n",
    "    rf_pattern_balanced_singlejob = pickle.load(p)"
   ]
  },
  {
   "cell_type": "code",
   "execution_count": 19,
   "metadata": {},
   "outputs": [],
   "source": [
    "from latent_statistics import permutation_test\n",
    "from scipy.stats import ks_2samp\n",
    "import pickle"
   ]
  },
  {
   "cell_type": "code",
   "execution_count": 70,
   "metadata": {},
   "outputs": [
    {
     "name": "stdout",
     "output_type": "stream",
     "text": [
      "Observed KS statistic: 0.9137931034482759\n",
      "P-value: 8.223094838171302e-182\n"
     ]
    }
   ],
   "source": [
    "pattern_score = rf_pattern_balanced_singlejob.predict_proba(pattern)[:,1]\n",
    "control_score = rf_pattern_balanced_singlejob.predict_proba(control.obsm[\"latent\"])[:,1]\n",
    "\n",
    "statistic, pvalue = ks_2samp(pattern_score, control_score)\n",
    "print(f\"Observed KS statistic: {statistic}\")\n",
    "print(f\"P-value: {pvalue}\")"
   ]
  },
  {
   "cell_type": "code",
   "execution_count": 75,
   "metadata": {},
   "outputs": [
    {
     "name": "stdout",
     "output_type": "stream",
     "text": [
      "Observed chamfer distance: 33.85446606430932\n",
      "P-value: 0.0002\n"
     ]
    }
   ],
   "source": [
    "# Perform permutation test\n",
    "p_value, observed_statistic, permuted_statistics = permutation_test(\n",
    "    pattern3, \n",
    "    pattern2, \n",
    "    n_permutations=9999)\n",
    "\n",
    "print(f\"Observed chamfer distance: {observed_statistic}\")\n",
    "print(f\"P-value: {p_value}\")"
   ]
  },
  {
   "cell_type": "code",
   "execution_count": 76,
   "metadata": {},
   "outputs": [
    {
     "data": {
      "image/png": "[encoded data removed]",
      "text/plain": [
       "<Figure size 360x360 with 1 Axes>"
      ]
     },
     "metadata": {
      "needs_background": "light"
     },
     "output_type": "display_data"
    }
   ],
   "source": [
    "import seaborn as sns\n",
    "import matplotlib.pyplot as plt\n",
    "\n",
    "# Create histogram with seaborn\n",
    "sns.displot(permuted_statistics, bins='auto', kde=False)\n",
    "\n",
    "# Add vertical line at observed statistic\n",
    "plt.axvline(x=observed_statistic, color='b', linestyle='dashed', linewidth=2)\n",
    "\n",
    "# Add labels and title\n",
    "plt.title('Latent Space based - Pigr')\n",
    "plt.xlabel('Chamfer Distance')\n",
    "plt.ylabel('Frequency')\n",
    "\n",
    "# Show plot\n",
    "plt.show()"
   ]
  },
  {
   "cell_type": "code",
   "execution_count": 17,
   "metadata": {},
   "outputs": [
    {
     "name": "stdout",
     "output_type": "stream",
     "text": [
      "44.71541587377258\n"
     ]
    }
   ],
   "source": [
    "print(chamfer_L1_distance(pattern.obsm['latent'], control.obsm['latent']))"
   ]
  },
  {
   "cell_type": "code",
   "execution_count": 21,
   "metadata": {},
   "outputs": [
    {
     "name": "stdout",
     "output_type": "stream",
     "text": [
      "34.27557134989247\n"
     ]
    }
   ],
   "source": [
    "print(chamfer_L1_distance(random_dict_mixed[0].obsm['latent'], random_dict_mixed[2].obsm['latent']))"
   ]
  }
 ],
 "metadata": {
  "kernelspec": {
   "display_name": "blurry",
   "language": "python",
   "name": "python3"
  },
  "language_info": {
   "codemirror_mode": {
    "name": "ipython",
    "version": 3
   },
   "file_extension": ".py",
   "mimetype": "text/x-python",
   "name": "python",
   "nbconvert_exporter": "python",
   "pygments_lexer": "ipython3",
   "version": "3.9.13"
  }
 },
 "nbformat": 4,
 "nbformat_minor": 2
}
