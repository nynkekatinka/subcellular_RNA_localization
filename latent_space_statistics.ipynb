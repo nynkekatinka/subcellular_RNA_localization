{
 "cells": [
  {
   "cell_type": "code",
   "execution_count": 1,
   "metadata": {},
   "outputs": [
    {
     "name": "stderr",
     "output_type": "stream",
     "text": [
      "/media/gambino/students_workdir/nynke/miniconda3/envs/blurry/lib/python3.9/site-packages/tqdm/auto.py:22: TqdmWarning: IProgress not found. Please update jupyter and ipywidgets. See https://ipywidgets.readthedocs.io/en/stable/user_install.html\n",
      "  from .autonotebook import tqdm as notebook_tqdm\n"
     ]
    }
   ],
   "source": [
    "%load_ext autoreload\n",
    "%autoreload 2\n",
    "# when debugging the python scripts, with the autoreload the jupyter notebook sync's to the most up to date scripts. See: https://ipython.org/ipython-doc/3/config/extensions/autoreload.html\n",
    "from dataprep import *\n",
    "import matplotlib.pyplot as plt\n",
    "import numpy as np\n",
    "import pandas as pd\n",
    "import random\n",
    "import seaborn as sns\n",
    "import scanpy as sc\n",
    "from scipy.spatial.distance import cdist\n",
    "from scipy.stats import norm\n",
    "import torch"
   ]
  },
  {
   "cell_type": "code",
   "execution_count": 2,
   "metadata": {},
   "outputs": [],
   "source": [
    "seed = 101\n",
    "random.seed(seed)\n",
    "np.random.seed(seed)\n",
    "torch.manual_seed(seed)\n",
    "rng = np.random.RandomState(seed)\n",
    "\n",
    "custom = {\"axes.edgecolor\": \"grey\"}\n",
    "sns.set_style(\"whitegrid\")\n",
    "plt.rcParams['grid.alpha'] = 0.4\n",
    "sns.set_palette(\"colorblind\")\n",
    "\n",
    "# Like colorblind_palette[4] for control, colorblind_palette[0] for test"
   ]
  },
  {
   "cell_type": "markdown",
   "metadata": {},
   "source": [
    "## Loading RF Models & Datasets"
   ]
  },
  {
   "cell_type": "code",
   "execution_count": 3,
   "metadata": {},
   "outputs": [],
   "source": [
    "#adata_all_spots = sc.read_h5ad(\"/media/gambino/students_workdir/nynke/data/all_spots_simulated_embeddings_adata.h5ad\")\n",
    "adata_split_cellID = sc.read_h5ad(\"/media/gambino/students_workdir/nynke/new_model_with_cell_id_left_out_custom_nynke_panel_simulated_embeddings_adata.h5ad\")\n",
    "#adata_mixed_cellID = sc.read_h5ad(\"/media/gambino/students_workdir/nynke/data/custom_nynke_panel_simulated_embeddings_adata.h5ad\")\n"
   ]
  },
  {
   "cell_type": "code",
   "execution_count": 3,
   "metadata": {},
   "outputs": [
    {
     "data": {
      "text/plain": [
       "pattern\n",
       "random          0.116272\n",
       "nuclear-edge    0.116257\n",
       "extranuclear    0.116250\n",
       "intranuclear    0.116247\n",
       "foci            0.116240\n",
       "cell-edge       0.116239\n",
       "perinuclear     0.116230\n",
       "pericellular    0.116223\n",
       "protrusion      0.070041\n",
       "Name: proportion, dtype: float64"
      ]
     },
     "execution_count": 3,
     "metadata": {},
     "output_type": "execute_result"
    }
   ],
   "source": [
    "adata_split_cellID.obs['pattern'].value_counts(normalize=True)"
   ]
  },
  {
   "cell_type": "code",
   "execution_count": 3,
   "metadata": {},
   "outputs": [],
   "source": [
    "adata_split_cellID = sc.read_h5ad(\"/media/gambino/students_workdir/nynke/new_model_with_cell_id_left_out_custom_nynke_panel_simulated_embeddings_adata.h5ad\")\n",
    "adata_apical_unfiltered = sc.read_h5ad(\"/media/gambino/students_workdir/nynke/data/apical_basal_data/moor_data_apical_basal_embeddings_adata_all_nr_spots.h5ad\")\n",
    "adata_apical = sc.read_h5ad(\"/media/gambino/students_workdir/nynke/data/apical_basal_data/moor_data_apical_basal_embeddings_adata.h5ad\")"
   ]
  },
  {
   "cell_type": "code",
   "execution_count": 4,
   "metadata": {},
   "outputs": [
    {
     "data": {
      "text/plain": [
       "pattern\n",
       "random          189193\n",
       "nuclear-edge    189168\n",
       "extranuclear    189157\n",
       "intranuclear    189152\n",
       "foci            189140\n",
       "cell-edge       189138\n",
       "perinuclear     189124\n",
       "pericellular    189113\n",
       "protrusion      113967\n",
       "Name: count, dtype: int64"
      ]
     },
     "execution_count": 4,
     "metadata": {},
     "output_type": "execute_result"
    }
   ],
   "source": [
    "adata_split_cellID.obs['pattern'].value_counts()"
   ]
  },
  {
   "cell_type": "code",
   "execution_count": 8,
   "metadata": {},
   "outputs": [
    {
     "data": {
      "text/plain": [
       "AnnData object with n_obs × n_vars = 39498 × 15\n",
       "    obs: 'pattern', 'n_spots', 'n_spots_interval', 'cell_id', 'genes', 'rotation', 'rotation_interval', 'blur', 'blur_interval', 'corresponding_dapis', 'corresponding_cells', 'original_image_paths'\n",
       "    obsm: 'latent'"
      ]
     },
     "execution_count": 8,
     "metadata": {},
     "output_type": "execute_result"
    }
   ],
   "source": [
    "adata_apical_unfiltered"
   ]
  },
  {
   "cell_type": "code",
   "execution_count": 10,
   "metadata": {},
   "outputs": [
    {
     "data": {
      "text/plain": [
       "['44_240', '44_241', '44_242', '44_243', '44_244', ..., '60_95', '60_96', '60_97', '60_98', '60_99']\n",
       "Length: 408\n",
       "Categories (408, object): ['44_240', '44_241', '44_242', '44_243', ..., '60_165', '60_166', '60_167', '60_168']"
      ]
     },
     "execution_count": 10,
     "metadata": {},
     "output_type": "execute_result"
    }
   ],
   "source": [
    "adata_apical_unfiltered.obs['cell_id'].unique()"
   ]
  },
  {
   "cell_type": "code",
   "execution_count": 4,
   "metadata": {},
   "outputs": [],
   "source": [
    "def map_interval(interval):\n",
    "    if interval == '0-10':\n",
    "        return '0-10'\n",
    "    elif interval in ['10-20', '20-30']:\n",
    "        return '10-30'\n",
    "    elif interval in ['30-40', '40-50', '50-60']:\n",
    "        return '30-60'\n",
    "    elif interval in ['70-80', '80-90', '90-100']:\n",
    "        return '70-100'\n",
    "    elif interval == '100+':\n",
    "        return '100+'\n",
    "    else:\n",
    "        return None\n",
    "    \n",
    "def initialize_adata(adata):\n",
    "    choices = ['strong', 'intermediate', 'low']\n",
    "    conditions = [\n",
    "        (adata.obs['prop'] == 0.9) | ((adata.obs['prop'] == 0.4) & (adata.obs['pattern'] == 'protrusion')),\n",
    "        (adata.obs['prop'] == 0.5) | ((adata.obs['prop'] == 0.2) & (adata.obs['pattern'] == 'protrusion')),\n",
    "        (adata.obs['prop'] == 0.1) | ((adata.obs['prop'] == 0.0) & (adata.obs['pattern'] == 'protrusion'))\n",
    "    ]\n",
    "    adata.obs['pattern_strength'] = np.select(conditions, choices, default='unknown')\n",
    "\n",
    "    # Include modified RNA count intervals in the adata object\n",
    "    adata.obs['rna_count'] = adata.obs['n_spots_interval'].apply(map_interval)\n",
    "\n",
    "\n",
    "    return adata"
   ]
  },
  {
   "cell_type": "code",
   "execution_count": 5,
   "metadata": {},
   "outputs": [],
   "source": [
    "adata_split_cellID = initialize_adata(adata_split_cellID)\n",
    "adata_test = adata_split_cellID[adata_split_cellID.obs['cell_id'].isin(adata_split_cellID.uns['test_cellIDs'])]"
   ]
  },
  {
   "cell_type": "code",
   "execution_count": 91,
   "metadata": {},
   "outputs": [],
   "source": [
    "palette_colorblind = [colorblind_palette[4], colorblind_palette[0]]"
   ]
  },
  {
   "cell_type": "code",
   "execution_count": 132,
   "metadata": {},
   "outputs": [
    {
     "data": {
      "image/png": "[encoded data removed]",
      "text/plain": [
       "<Figure size 720x432 with 1 Axes>"
      ]
     },
     "metadata": {
      "needs_background": "light"
     },
     "output_type": "display_data"
    }
   ],
   "source": [
    "data = adata_split_cellID.obsm['latent']\n",
    "\n",
    "df = pd.DataFrame(data, columns=[f'{i+1}' for i in range(15)])\n",
    "\n",
    "# Melt the DataFrame to long format for seaborn\n",
    "df_melted = pd.melt(df, var_name='Category', value_name='Value')\n",
    "\n",
    "# Create a boxplot using Seaborn\n",
    "plt.figure(figsize=(10, 6))\n",
    "\n",
    "flierprops = dict(marker='o', markerfacecolor='r', markersize=5,\n",
    "                  linestyle='none', markeredgecolor='grey', alpha=0.5)\n",
    "sns.boxplot(x='Category', y='Value', data=df_melted, color='#33939A')\n",
    "plt.tick_params(axis='both', which='major', labelsize=12)  \n",
    "plt.title('Boxplot For each of the Latent Space Dimensions')\n",
    "plt.xlabel('Latent Space Dimensions', fontsize=14)\n",
    "plt.ylabel('Values', fontsize=14)\n",
    "\n",
    "plt.show()\n"
   ]
  },
  {
   "cell_type": "code",
   "execution_count": 147,
   "metadata": {},
   "outputs": [
    {
     "data": {
      "image/png": "[encoded data removed]",
      "text/plain": [
       "<Figure size 720x432 with 1 Axes>"
      ]
     },
     "metadata": {
      "needs_background": "light"
     },
     "output_type": "display_data"
    }
   ],
   "source": [
    "\n",
    "# Updated the colourscheme. \n",
    "plt.figure(figsize=(10, 6))\n",
    "\n",
    "flierprops = dict(marker='o', markerfacecolor='#1C555A', markersize=4,\n",
    "                  linestyle='none', markeredgecolor='#143C40', alpha=0.7)\n",
    "sns.boxplot(x='Category', y='Value', data=df_melted, color='#33939A', flierprops=flierprops)\n",
    "plt.tick_params(axis='both', which='major', labelsize=12)  \n",
    "plt.title('Boxplot For each of the Latent Space Dimensions', fontsize=16)\n",
    "plt.xlabel('Latent Space Dimensions', fontsize=14)\n",
    "plt.ylabel('Values', fontsize=14)\n",
    "\n",
    "plt.show()\n"
   ]
  },
  {
   "cell_type": "code",
   "execution_count": 108,
   "metadata": {},
   "outputs": [],
   "source": [
    "import colorsys\n",
    "\n",
    "colorblind_palette = sns.color_palette(\"colorblind\")\n",
    "\n",
    "# Initialize an empty list to store the saturation values\n",
    "saturation_values = []\n",
    "hues = []\n",
    "for color in colorblind_palette:\n",
    "    # Convert RGB to HSV\n",
    "    r, g, b = color\n",
    "    h, s, v = colorsys.rgb_to_hsv(r, g, b)\n",
    "    hue_degrees = h*360\n",
    "    # Append the saturation value to the list\n",
    "    saturation_values.append(s)\n",
    "    hues.append(hue_degrees)\n",
    "\n",
    "# Now saturation_values contains the saturation of all colors in the colorblind palette"
   ]
  },
  {
   "cell_type": "code",
   "execution_count": 129,
   "metadata": {},
   "outputs": [
    {
     "data": {
      "text/plain": [
       "(0.6, 0.216, 0.216)"
      ]
     },
     "execution_count": 129,
     "metadata": {},
     "output_type": "execute_result"
    }
   ],
   "source": [
    "colorsys.hsv_to_rgb(184, s=0.64,v=0.6)"
   ]
  },
  {
   "cell_type": "code",
   "execution_count": 110,
   "metadata": {},
   "outputs": [
    {
     "name": "stdout",
     "output_type": "stream",
     "text": [
      "[0.9943820224719101, 0.9774774774774775, 0.9873417721518988, 1.0, 0.411764705882353, 0.5198019801980198, 0.3027888446215139, 0.0, 0.7838983050847458, 0.630901287553648]\n"
     ]
    },
    {
     "data": {
      "text/plain": [
       "[201.3559322033898,\n",
       " 38.156682027649765,\n",
       " 163.46153846153845,\n",
       " 26.478873239436624,\n",
       " 311.42857142857144,\n",
       " 27.42857142857143,\n",
       " 318.1578947368421,\n",
       " 0.0,\n",
       " 56.43243243243243,\n",
       " 201.6326530612245]"
      ]
     },
     "execution_count": 110,
     "metadata": {},
     "output_type": "execute_result"
    }
   ],
   "source": [
    "print(saturation_values)\n",
    "hues"
   ]
  },
  {
   "cell_type": "code",
   "execution_count": 125,
   "metadata": {},
   "outputs": [
    {
     "data": {
      "image/png": "[encoded data removed]",
      "text/plain": [
       "<Figure size 792x648 with 2 Axes>"
      ]
     },
     "metadata": {
      "needs_background": "light"
     },
     "output_type": "display_data"
    }
   ],
   "source": [
    "import pandas as pd\n",
    "import seaborn as sns\n",
    "import matplotlib.pyplot as plt\n",
    "\n",
    "# Assuming adata_split_cellID.obsm['latent'] is a numpy array\n",
    "latent_df = pd.DataFrame(adata_split_cellID.obsm['latent'],columns=[f'{i+1}' for i in range(15)])\n",
    "\n",
    "# Compute the correlation matrix\n",
    "corr = latent_df.corr()\n",
    "\n",
    "# Fill the unmasked cells in 'annot_df' with the corresponding values from 'corr'\n",
    "annot_df.where(mask, corr)\n",
    "\n",
    "# Set up the matplotlib figure\n",
    "f, ax = plt.subplots(figsize=(11, 9))\n",
    "\n",
    "# Generate a custom diverging colormap\n",
    "cmap = sns.diverging_palette(201.3559322033898, 311.42857142857144, s=60, as_cmap=True)\n",
    "\n",
    "# Draw the heatmap with the mask and correct aspect ratio\n",
    "sns.heatmap(corr, mask=mask, cmap=cmap, vmax=1, vmin=-1, center=0,\n",
    "            square=True, linewidths=.5, cbar_kws={\"shrink\": .5})\n",
    "\n",
    "plt.show()"
   ]
  },
  {
   "cell_type": "code",
   "execution_count": 85,
   "metadata": {},
   "outputs": [
    {
     "data": {
      "image/png": "[encoded data removed]",
      "text/plain": [
       "<Figure size 720x432 with 1 Axes>"
      ]
     },
     "metadata": {
      "needs_background": "light"
     },
     "output_type": "display_data"
    }
   ],
   "source": [
    "# Create a boxplot using Seaborn\n",
    "plt.figure(figsize=(10, 6))\n",
    "sns.boxplot(x='Category', y='Value', data=df_melted, color=colorblind_palette[0])\n",
    "\n",
    "# Customize the plot (optional)\n",
    "plt.tick_params(axis='both', which='major', labelsize=12)  # Change the number labels' font size\n",
    "plt.title('Boxplot For each of the Latent Space Dimensions')\n",
    "plt.xlabel('Latent Space Dimensions', fontsize=14)\n",
    "plt.ylabel('Values', fontsize=14)\n",
    "\n",
    "# Show the plot\n",
    "plt.show()"
   ]
  },
  {
   "cell_type": "markdown",
   "metadata": {},
   "source": [
    "# Chamfer Distance"
   ]
  },
  {
   "cell_type": "code",
   "execution_count": 6,
   "metadata": {},
   "outputs": [],
   "source": [
    "def chamfer_L1_distance(point_cloud_1, point_cloud_2):\n",
    "\n",
    "    # Compute all pairwise Manhattan distances, output matrix = [distance_cloudA1, distance_cloud2]\n",
    "    distances_1_to_2 = cdist(point_cloud_1, point_cloud_2, metric='cityblock')\n",
    "    distances_2_to_1 = cdist(point_cloud_2, point_cloud_1, metric='cityblock')\n",
    "\n",
    "    # Get nearest neighbor for each point from point cloud 1 in point cloud 2 and vice versa\n",
    "    distances_1_to_2 = np.min(distances_1_to_2, axis=1)\n",
    "    distances_2_to_1 = np.min(distances_2_to_1, axis=1)\n",
    "\n",
    "    # Compute the Chamfer distance\n",
    "    return np.mean(distances_1_to_2) + np.mean(distances_2_to_1)"
   ]
  },
  {
   "cell_type": "code",
   "execution_count": 6,
   "metadata": {},
   "outputs": [],
   "source": [
    "strength = 'strong'\n",
    "count = '10-30'\n",
    "sample = 5\n",
    "\n",
    "pattern = create_simulated_gene(adata_test, mixed_patterns = True, pattern_strength= strength, rna_count = count, sample_size = sample, random_seed=True)\n",
    "control = create_simulated_gene(adata_test, pattern = 'random', mixed_patterns = False, rna_count = count, sample_size = sample, random_seed=True)"
   ]
  },
  {
   "cell_type": "markdown",
   "metadata": {},
   "source": [
    "#### permutation function"
   ]
  },
  {
   "cell_type": "code",
   "execution_count": 8,
   "metadata": {},
   "outputs": [
    {
     "name": "stdout",
     "output_type": "stream",
     "text": [
      "252.0\n",
      "Observed chamfer distance: 115.9771185040474\n",
      "P-value: 0.015873015873015872\n"
     ]
    }
   ],
   "source": [
    "from latent_statistics import permutation_test\n",
    "#permutation_test(pattern, control, n_permutations: int = 1000)\n",
    "# Perform permutation test\n",
    "p_value, observed_statistic, permuted_statistics = permutation_test(\n",
    "    pattern.obsm['latent'], \n",
    "    control.obsm['latent'], \n",
    "    n_permutations=9999)\n",
    "\n",
    "print(f\"Observed chamfer distance: {observed_statistic}\")\n",
    "print(f\"P-value: {p_value}\")"
   ]
  },
  {
   "cell_type": "code",
   "execution_count": 52,
   "metadata": {},
   "outputs": [],
   "source": [
    "def permutation_test(pattern, control, n_permutations: int = 1000):\n",
    "    observed_statistic = chamfer_L1_distance(pattern, control)\n",
    "    num_pattern = len(pattern)\n",
    "    combined = np.concatenate([pattern, control])\n",
    "    \n",
    "    # Preallocate permuted null hypothesis array\n",
    "    permuted_statistics = np.empty(n_permutations)\n",
    "\n",
    "    for i in range(n_permutations):\n",
    "        permuted = np.random.permutation(combined)\n",
    "        permuted_pattern = permuted[:num_pattern]\n",
    "        permuted_control = permuted[num_pattern:]\n",
    "        permuted_statistic = chamfer_L1_distance(permuted_pattern, permuted_control)\n",
    "        permuted_statistics[i] = permuted_statistic\n",
    "    \n",
    "    #These functions come from scipy.stats.permutation_test(). They have now been integrated in my main function in line to improve the efficiency\n",
    "    eps =  (0 if not np.issubdtype(observed_statistic.dtype, np.inexact)\n",
    "            else np.finfo(observed_statistic.dtype).eps*100)\n",
    "    gamma = np.abs(eps * observed_statistic)\n",
    "    cmps_less = permuted_statistics <= observed_statistic + gamma\n",
    "    cmps_greater = permuted_statistics >= observed_statistic - gamma\n",
    "    # +1 is added to pvalues to add the observed value into the hypothetical population to make the pvalue more conservative.\n",
    "    pvalues_less = (cmps_less.sum() + 1) / (n_permutations + 1)\n",
    "    pvalues_greater = (cmps_greater.sum() + 1) / (n_permutations + 1)\n",
    "    #because with 2-tailed you should use alpha=0.025 as treshold, so now it gets scaled back to 0.05\n",
    "    p_value = np.minimum(pvalues_less, pvalues_greater) * 2 \n",
    "\n",
    "    return p_value, observed_statistic, permuted_statistics"
   ]
  },
  {
   "cell_type": "markdown",
   "metadata": {},
   "source": [
    "## Code used for the validation on biological dataset. Therefore includes the statistical analysis for both the RF-based and latent space-based approaches"
   ]
  },
  {
   "cell_type": "code",
   "execution_count": 206,
   "metadata": {},
   "outputs": [
    {
     "name": "stdout",
     "output_type": "stream",
     "text": [
      "389\n",
      "5.4910025706940875\n",
      "5.0\n",
      "3.7633117658910704\n",
      "1\n",
      "23\n"
     ]
    }
   ],
   "source": [
    "# Used to generate descriptive statistics in Table 3\n",
    "n_spots = adata_apical[adata_apical.obs['genes']=='Slc39a14'].obs['n_spots'].to_numpy()\n",
    "print(len(n_spots))\n",
    "print(np.mean(n_spots))\n",
    "print(np.median(n_spots))\n",
    "print(np.std(n_spots))\n",
    "print(np.min(n_spots))\n",
    "print(np.max(n_spots))"
   ]
  },
  {
   "cell_type": "code",
   "execution_count": 69,
   "metadata": {},
   "outputs": [
    {
     "data": {
      "text/plain": [
       "AnnData object with n_obs × n_vars = 329349 × 15\n",
       "    obs: 'pattern', 'random_or_pattern', 'n_spots', 'n_spots_interval', 'cell_id', 'genes', 'rotation', 'rotation_interval', 'blur', 'prop', 'prop_interval', 'corresponding_dapis', 'train_or_val', 'original_image_paths', 'pattern_strength', 'rna_count', 'apop_count'\n",
       "    uns: 'test_cellIDs', 'train_cellIDs'\n",
       "    obsm: 'latent'"
      ]
     },
     "execution_count": 69,
     "metadata": {},
     "output_type": "execute_result"
    }
   ],
   "source": [
    "adata_test\n",
    "['10-20', '20-30', '30-40']"
   ]
  },
  {
   "cell_type": "markdown",
   "metadata": {},
   "source": [
    "Used different map_interval() and subset_power() methods from the dataprep.py so that I could easier change the intervals needed for the validation on the biological dataset"
   ]
  },
  {
   "cell_type": "code",
   "execution_count": 71,
   "metadata": {},
   "outputs": [],
   "source": [
    "def map_interval(interval):\n",
    "    if interval in ['0-10','10-20','20-30','30-40','40-50','50-60','60-70','70-80','80-90','90-100']:\n",
    "        return '0-100'\n",
    "    else:\n",
    "        return None\n",
    "    \n",
    "adata_test.obs['apob_count'] = adata_test.obs['n_spots_interval'].apply(map_interval)\n"
   ]
  },
  {
   "cell_type": "code",
   "execution_count": 12,
   "metadata": {},
   "outputs": [],
   "source": [
    "def subset_power(adata, pattern: str = 'pericellular', mixed_patterns: bool = True, pattern_strength: str = \"strong\", rna_count: str = '10-30', sample_size: int = 5, random_seed: bool = False):\n",
    "    \"\"\"\n",
    "    Subset the anndata object into a `1 gene multiple cells` object. Can filter the cells based on the number of spots, the pattern and the pattern strength.\n",
    "\n",
    "    Parameters\n",
    "    ----------\n",
    "    adata : ad.AnnData object\n",
    "        complete anndata object.\n",
    "    pattern : str\n",
    "        Type of subcellular expression pattern you want to filter on. Default is 'pericellular', which has the highest f1 RF score.\n",
    "    mixed_patterns: bool\n",
    "        True: all patterns can be included, False: only the pattern type specified in `pattern` is included. Default is False. \n",
    "    pattern_strength : str\n",
    "        strength of the pattern, which is labeled as pattern_strength in the anndata object. Strong, which comes down to 45% of points fall in the pattern for protrusion, 90% of points are in pattern for all the other patterns. \n",
    "        If the pattern is random, then pattern_strength is not used, given that irrelevant for random when using the simFISH v2 definition of patterness (90% of points assigned to the pattern 'random' will still amount to 100% randomness).\n",
    "    high_or_low : str\n",
    "        Whether you want to filter genes with a higher or lower count than the given threshold. Default is lower.\n",
    "        If none, then no threshold is chosen and mixed counts are included. \n",
    "    count_threshold : int\n",
    "        Count threshold to filter on. Default is 11, so that genes with count 0-10 are selected. For high, the threshold is 140.\n",
    "    mixed_counts: bool\n",
    "        True: all counts are included, False: only counts above or below the threshold are included. Default is False.\n",
    "        \n",
    "    Returns\n",
    "    -------\n",
    "    ad.AnnData\n",
    "\n",
    "    \"\"\"\n",
    "    adata_filtered = adata[(\n",
    "                                (\n",
    "                                    adata.obs['pattern'] == pattern if mixed_patterns == False\n",
    "                                    else adata.obs['pattern'] != 'random'\n",
    "                                )\n",
    "                            ) & \n",
    "                           (\n",
    "                                adata.obs['apob_count'] == rna_count\n",
    "                            ) & \n",
    "                           (\n",
    "                               adata.obs['pattern_strength'] == pattern_strength if pattern != 'random' \n",
    "                               else True\n",
    "                            )\n",
    "                        ].copy()\n",
    "\n",
    "    if random_seed == True:\n",
    "        subset = adata_filtered.obs.sample(n=sample_size, random_state = seed) \n",
    "    else:\n",
    "        subset = adata_filtered.obs.sample(n=sample_size)\n",
    "    \n",
    "    adata_subset = adata_filtered[adata_filtered.obs.index.isin(subset.index)]\n",
    "\n",
    "\n",
    "    return adata_subset"
   ]
  },
  {
   "cell_type": "code",
   "execution_count": 57,
   "metadata": {},
   "outputs": [
    {
     "data": {
      "text/plain": [
       "20-50    67489\n",
       "0-20     36383\n",
       "Name: apob_count, dtype: int64"
      ]
     },
     "execution_count": 57,
     "metadata": {},
     "output_type": "execute_result"
    }
   ],
   "source": [
    "adata_test.obs['apob_count'].value_counts()"
   ]
  },
  {
   "cell_type": "code",
   "execution_count": 46,
   "metadata": {},
   "outputs": [
    {
     "data": {
      "text/plain": [
       "376"
      ]
     },
     "execution_count": 46,
     "metadata": {},
     "output_type": "execute_result"
    }
   ],
   "source": [
    "len(adata_apical[adata_apical.obs['genes']=='Cdkn1a'])\n",
    "Slc39a14"
   ]
  },
  {
   "cell_type": "code",
   "execution_count": 68,
   "metadata": {},
   "outputs": [],
   "source": [
    "pattern = adata_apical_unfiltered[adata_apical_unfiltered.obs['genes']=='Apob'].obsm['latent']\n",
    "control = subset_power(adata_test, pattern = 'random', mixed_patterns = False, rna_count = '10-40', sample_size = len(pattern), random_seed=True)"
   ]
  },
  {
   "cell_type": "code",
   "execution_count": 69,
   "metadata": {},
   "outputs": [
    {
     "name": "stdout",
     "output_type": "stream",
     "text": [
      "Observed chamfer distance: 35.97571563720703\n",
      "P-value: 0.0001\n"
     ]
    }
   ],
   "source": [
    "# Perform permutation test\n",
    "p_value, observed_statistic, permuted_statistics = permutation_test(\n",
    "    pattern, \n",
    "    control.obsm['latent'], \n",
    "    n_permutations=9999)\n",
    "\n",
    "print(f\"Observed chamfer distance: {observed_statistic}\")\n",
    "print(f\"P-value: {p_value}\")"
   ]
  },
  {
   "cell_type": "code",
   "execution_count": 19,
   "metadata": {},
   "outputs": [],
   "source": [
    "path = f\"/media/gambino/students_workdir/nynke/blurry/temp_objects/rf_balanced/rf_pattern_balanced_singlejob.pkl\"\n",
    "with open(path, 'rb') as p:\n",
    "    rf_pattern_balanced_singlejob = pickle.load(p)"
   ]
  },
  {
   "cell_type": "code",
   "execution_count": 18,
   "metadata": {},
   "outputs": [],
   "source": [
    "from latent_statistics import permutation_test\n",
    "from scipy.stats import ks_2samp\n",
    "import pickle"
   ]
  },
  {
   "cell_type": "markdown",
   "metadata": {},
   "source": [
    "### KS statistic --> statistic used for the RF-based classification"
   ]
  },
  {
   "cell_type": "code",
   "execution_count": 70,
   "metadata": {},
   "outputs": [
    {
     "name": "stdout",
     "output_type": "stream",
     "text": [
      "Observed KS statistic: 0.6748768472906403\n",
      "P-value: 3.421253042870827e-88\n"
     ]
    }
   ],
   "source": [
    "pattern_score = rf_pattern_balanced_singlejob.predict_proba(pattern)[:,1]\n",
    "control_score = rf_pattern_balanced_singlejob.predict_proba(control.obsm[\"latent\"])[:,1]\n",
    "\n",
    "statistic, pvalue = ks_2samp(pattern_score, control_score)\n",
    "print(f\"Observed KS statistic: {statistic}\")\n",
    "print(f\"P-value: {pvalue}\")"
   ]
  },
  {
   "cell_type": "code",
   "execution_count": 101,
   "metadata": {},
   "outputs": [],
   "source": [
    "test1 = subset_power_analysis(adata_test, pattern = 'random', mixed_patterns = False, rna_count = '10-30', sample_size = 70)"
   ]
  },
  {
   "cell_type": "code",
   "execution_count": 7,
   "metadata": {},
   "outputs": [
    {
     "data": {
      "text/plain": [
       "(0.00392156862745098, 0.45098039215686275, 0.6980392156862745)"
      ]
     },
     "execution_count": 7,
     "metadata": {},
     "output_type": "execute_result"
    }
   ],
   "source": [
    "colorblind_palette = sns.color_palette(\"colorblind\")\n",
    "colorblind_palette[0]"
   ]
  },
  {
   "cell_type": "code",
   "execution_count": 188,
   "metadata": {},
   "outputs": [],
   "source": [
    "plt.rcParams['grid.alpha'] = 0.4"
   ]
  },
  {
   "cell_type": "code",
   "execution_count": 274,
   "metadata": {},
   "outputs": [
    {
     "name": "stdout",
     "output_type": "stream",
     "text": [
      "34\n",
      "31\n"
     ]
    },
    {
     "data": {
      "image/png": "[encoded data removed]",
      "text/plain": [
       "<Figure size 432x288 with 1 Axes>"
      ]
     },
     "metadata": {},
     "output_type": "display_data"
    }
   ],
   "source": [
    "\n",
    "print(len(np.unique(pattern_score)))\n",
    "print(len(np.unique(control_score)))\n",
    "\n",
    "#plt.hist(random_low['prob_pattern'], bins=30, alpha=0.4, label='Random', density=True)\n",
    "plt.hist(pattern_score, bins=50, alpha=0.6, label='Slc39a14', density=True, color=colorblind_palette[0])\n",
    "plt.hist(control_score, bins=50, alpha=0.3, label='Control', density=True, color=colorblind_palette[4])\n",
    "\n",
    "\n",
    "plt.title(f\"RF: Slc39a14 vs Simulated control\")\n",
    "plt.legend(loc='upper right')\n",
    "plt.xlabel(\"Probability for Pattern (versus no patterns)\")\n",
    "plt.ylabel(\"Relative frequency\")\n",
    "plt.show()"
   ]
  },
  {
   "cell_type": "code",
   "execution_count": 114,
   "metadata": {},
   "outputs": [
    {
     "name": "stdout",
     "output_type": "stream",
     "text": [
      "Observed chamfer distance: 67.43435668945312\n",
      "P-value: 0.0001\n"
     ]
    }
   ],
   "source": [
    "# Perform permutation test\n",
    "p_value, observed_statistic, permuted_statistics = permutation_test(\n",
    "    pattern, \n",
    "    control.obsm['latent'], \n",
    "    n_permutations=9999)\n",
    "\n",
    "print(f\"Observed chamfer distance: {observed_statistic}\")\n",
    "print(f\"P-value: {p_value}\")"
   ]
  },
  {
   "cell_type": "code",
   "execution_count": null,
   "metadata": {},
   "outputs": [],
   "source": [
    "from dataprep import subset_power_analysis"
   ]
  },
  {
   "cell_type": "code",
   "execution_count": 9,
   "metadata": {},
   "outputs": [],
   "source": [
    "pattern = subset_power_analysis(adata_test, mixed_patterns = True, rna_count = '0-10',pattern_strength='intermediate', sample_size = 600, random_seed=True)\n",
    "control = subset_power_analysis(adata_test, pattern = 'random', mixed_patterns = False, rna_count = '0-10', sample_size = 600, random_seed=True)"
   ]
  },
  {
   "cell_type": "code",
   "execution_count": 10,
   "metadata": {},
   "outputs": [
    {
     "name": "stdout",
     "output_type": "stream",
     "text": [
      "Observed chamfer distance: 21.393900354491393\n",
      "P-value: 0.0001\n"
     ]
    }
   ],
   "source": [
    "from latent_statistics import permutation_test\n",
    "#permutation_test(pattern, control, n_permutations: int = 1000)\n",
    "# Perform permutation test\n",
    "p_value, observed_statistic, permuted_statistics = permutation_test(\n",
    "    pattern.obsm['latent'], \n",
    "    control.obsm['latent'], \n",
    "    n_permutations=9999, return_distances=True)\n",
    "\n",
    "print(f\"Observed chamfer distance: {observed_statistic}\")\n",
    "print(f\"P-value: {p_value}\")"
   ]
  },
  {
   "cell_type": "code",
   "execution_count": 12,
   "metadata": {},
   "outputs": [
    {
     "name": "stderr",
     "output_type": "stream",
     "text": [
      "/media/gambino/students_workdir/nynke/miniconda3/envs/blurry/lib/python3.9/site-packages/seaborn/_oldcore.py:1119: FutureWarning: use_inf_as_na option is deprecated and will be removed in a future version. Convert inf values to NaN before operating instead.\n",
      "  with pd.option_context('mode.use_inf_as_na', True):\n"
     ]
    },
    {
     "data": {
      "image/png": "[encoded data removed]",
      "text/plain": [
       "<Figure size 360x360 with 1 Axes>"
      ]
     },
     "metadata": {
      "needs_background": "light"
     },
     "output_type": "display_data"
    }
   ],
   "source": [
    "import seaborn as sns\n",
    "import matplotlib.pyplot as plt\n",
    "\n",
    "# Create histogram with seaborn\n",
    "sns.displot(permuted_statistics, bins='auto', kde=False)\n",
    "\n",
    "# Add vertical line at observed statistic\n",
    "plt.axvline(x=observed_statistic, color=colorblind_palette[4], linestyle='dashed', linewidth=2)\n",
    "\n",
    "# Add labels and title\n",
    "plt.title('Latent Space based: H0 vs. Observed Distance')\n",
    "plt.xlabel('Chamfer Distance')\n",
    "plt.ylabel('Frequency')\n",
    "\n",
    "# Show plot\n",
    "plt.show()"
   ]
  }
 ],
 "metadata": {
  "kernelspec": {
   "display_name": "blurry",
   "language": "python",
   "name": "python3"
  },
  "language_info": {
   "codemirror_mode": {
    "name": "ipython",
    "version": 3
   },
   "file_extension": ".py",
   "mimetype": "text/x-python",
   "name": "python",
   "nbconvert_exporter": "python",
   "pygments_lexer": "ipython3",
   "version": "3.9.13"
  }
 },
 "nbformat": 4,
 "nbformat_minor": 2
}
