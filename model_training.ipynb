{
 "cells": [
  {
   "cell_type": "markdown",
   "metadata": {},
   "source": [
    "# Should gridsearch both RF and KNN with balanced training data"
   ]
  },
  {
   "cell_type": "code",
   "execution_count": 23,
   "metadata": {},
   "outputs": [
    {
     "name": "stdout",
     "output_type": "stream",
     "text": [
      "The autoreload extension is already loaded. To reload it, use:\n",
      "  %reload_ext autoreload\n"
     ]
    }
   ],
   "source": [
    "%load_ext autoreload\n",
    "%autoreload 2\n",
    "from dataprep import initialize_adata, balanceTrainingData, balanceTrainingData_pattern_noPattern\n",
    "import numpy as np\n",
    "import matplotlib.pyplot as plt\n",
    "import pickle\n",
    "import random\n",
    "import scanpy as sc\n",
    "import seaborn as sns\n",
    "from sklearn.ensemble import RandomForestClassifier\n",
    "from sklearn.model_selection import GridSearchCV\n",
    "from sklearn.metrics import roc_auc_score, RocCurveDisplay, confusion_matrix, ConfusionMatrixDisplay\n",
    "from sklearn.preprocessing import MinMaxScaler\n",
    "import torch\n",
    "from tqdm import tqdm\n"
   ]
  },
  {
   "cell_type": "code",
   "execution_count": 2,
   "metadata": {},
   "outputs": [],
   "source": [
    "seed = 101\n",
    "random.seed(seed)\n",
    "np.random.seed(seed)\n",
    "torch.manual_seed(seed)\n",
    "rng = np.random.RandomState(seed)\n",
    "\n",
    "\n",
    "custom = {\"axes.edgecolor\": \"grey\"}\n",
    "sns.set_style(\"whitegrid\")\n",
    "plt.rcParams['grid.alpha'] = 0.4\n",
    "sns.set_palette(\"colorblind\")\n",
    "colorblind_palette = sns.color_palette(\"colorblind\")"
   ]
  },
  {
   "cell_type": "markdown",
   "metadata": {},
   "source": [
    "## Loading data\n",
    "Initialize adata object?"
   ]
  },
  {
   "cell_type": "code",
   "execution_count": 3,
   "metadata": {},
   "outputs": [],
   "source": [
    "#adata_all_spots = sc.read_h5ad(\"/media/gambino/students_workdir/nynke/data/all_spots_simulated_embeddings_adata.h5ad\")\n",
    "adata = sc.read_h5ad(\"/media/gambino/students_workdir/nynke/new_model_with_cell_id_left_out_custom_nynke_panel_simulated_embeddings_adata.h5ad\")\n",
    "#adata_mixed_cellID = sc.read_h5ad(\"/media/gambino/students_workdir/nynke/data/custom_nynke_panel_simulated_embeddings_adata.h5ad\")"
   ]
  },
  {
   "cell_type": "markdown",
   "metadata": {},
   "source": [
    "## Preprocessing data"
   ]
  },
  {
   "cell_type": "code",
   "execution_count": 4,
   "metadata": {},
   "outputs": [],
   "source": [
    "adata = initialize_adata(adata)"
   ]
  },
  {
   "cell_type": "code",
   "execution_count": 5,
   "metadata": {},
   "outputs": [],
   "source": [
    "adata_strong = adata[adata.obs['pattern_strength'] == 'strong']\n",
    "\n",
    "adata_train = adata_strong[adata_strong.obs['cell_id'].isin(adata_strong.uns['train_cellIDs'])]\n",
    "adata_test = adata_strong[adata_strong.obs['cell_id'].isin(adata_strong.uns['test_cellIDs'])]"
   ]
  },
  {
   "cell_type": "markdown",
   "metadata": {},
   "source": [
    "## Gridsearch RF hyperparameters"
   ]
  },
  {
   "cell_type": "code",
   "execution_count": 9,
   "metadata": {},
   "outputs": [
    {
     "name": "stderr",
     "output_type": "stream",
     "text": [
      "<ipython-input-9-1cb598b8d55f>:3: FutureWarning: Downcasting behavior in `replace` is deprecated and will be removed in a future version. To retain the old behavior, explicitly call `result.infer_objects(copy=False)`. To opt-in to the future behavior, set `pd.set_option('future.no_silent_downcasting', True)`\n",
      "  adata_train_labels.obs.replace({'random_or_pattern':pattern_mapping}, inplace=True)\n",
      "<ipython-input-9-1cb598b8d55f>:3: FutureWarning: The behavior of Series.replace (and DataFrame.replace) with CategoricalDtype is deprecated. In a future version, replace will only be used for cases that preserve the categories. To change the categories, use ser.cat.rename_categories instead.\n",
      "  adata_train_labels.obs.replace({'random_or_pattern':pattern_mapping}, inplace=True)\n"
     ]
    }
   ],
   "source": [
    "adata_train_labels = adata_train.copy()\n",
    "pattern_mapping = {'pattern': 1, 'random': 0}\n",
    "adata_train_labels.obs.replace({'random_or_pattern':pattern_mapping}, inplace=True)"
   ]
  },
  {
   "cell_type": "code",
   "execution_count": 10,
   "metadata": {},
   "outputs": [
    {
     "name": "stdout",
     "output_type": "stream",
     "text": [
      "Fitting 5 folds for each of 4 candidates, totalling 20 fits\n",
      "{'mean_fit_time': array([ 71.97337584, 104.99489121, 138.17089257, 170.69949865]), 'std_fit_time': array([2.59596328, 5.04542375, 6.63323032, 9.13835384]), 'mean_score_time': array([0.84308062, 0.80647936, 0.79022117, 0.77198534]), 'std_score_time': array([0.15821406, 0.15021406, 0.14568363, 0.14296436]), 'param_max_features': masked_array(data=[2, 3, 4, 5],\n",
      "             mask=[False, False, False, False],\n",
      "       fill_value='?',\n",
      "            dtype=object), 'params': [{'max_features': 2}, {'max_features': 3}, {'max_features': 4}, {'max_features': 5}], 'split0_test_score': array([0.91213549, 0.91404229, 0.91462381, 0.9150392 ]), 'split1_test_score': array([0.98010345, 0.97999587, 0.9795919 , 0.97953618]), 'split2_test_score': array([0.98127145, 0.98173206, 0.98163312, 0.98137017]), 'split3_test_score': array([0.9802345 , 0.98050068, 0.98281379, 0.98329756]), 'split4_test_score': array([0.98123387, 0.98151967, 0.98160805, 0.98068914]), 'mean_test_score': array([0.96699575, 0.96755811, 0.96805413, 0.96798645]), 'std_test_score': array([0.02743445, 0.02676556, 0.02673524, 0.02650177]), 'rank_test_score': array([4, 3, 1, 2], dtype=int32)}\n",
      "Best parameters: \n",
      "{'max_features': 4}\n"
     ]
    }
   ],
   "source": [
    "latent = adata_train_labels.obsm[\"latent\"]\n",
    "labels = adata_train_labels.obs[\"random_or_pattern\"]\n",
    "\n",
    "base_forest = RandomForestClassifier(random_state=seed, bootstrap=True, oob_score=True, n_estimators=100)\n",
    "param_grid = {'max_features': [2,3,4,5]}\n",
    "\n",
    "grid_search = GridSearchCV(base_forest, param_grid=param_grid, scoring='roc_auc', verbose=3, error_score='raise', n_jobs = 5)\n",
    "grid_search.fit(latent,labels)\n",
    "\n",
    "print(grid_search.cv_results_)\n",
    "print(\"Best parameters: \")\n",
    "print(grid_search.best_params_)"
   ]
  },
  {
   "cell_type": "code",
   "execution_count": 26,
   "metadata": {},
   "outputs": [
    {
     "name": "stderr",
     "output_type": "stream",
     "text": [
      "  0%|          | 0/8 [00:00<?, ?it/s]"
     ]
    },
    {
     "name": "stderr",
     "output_type": "stream",
     "text": [
      "100%|██████████| 8/8 [12:11<00:00, 91.43s/it] \n"
     ]
    }
   ],
   "source": [
    "train_accuracy = []\n",
    "test_accuracy = []\n",
    "for count in tqdm(range(50, 401, 50)):\n",
    "    # create random forest classifier and fit on training data\n",
    "    rf_classifier = RandomForestClassifier(n_estimators=count, random_state=seed, max_features=4, bootstrap=True, oob_score=True, n_jobs = 5)\n",
    "    rf_classifier.fit(adata_train.obsm[\"latent\"], adata_train.obs[\"random_or_pattern\"]) #first test on pattern/no pattern. Then will select the pattern and cluster that again. \n",
    "    \n",
    "    #predict label\n",
    "    train_pred = rf_classifier.predict_proba(adata_train.obsm[\"latent\"])[:,1]\n",
    "    test_pred = rf_classifier.predict_proba(adata_test.obsm[\"latent\"])[:,1]\n",
    "\n",
    "    # Obtain training and validation AUC score. \n",
    "    train_auc = roc_auc_score(adata_train.obs[\"random_or_pattern\"], train_pred)\n",
    "    test_auc = roc_auc_score(adata_test.obs[\"random_or_pattern\"], test_pred)\n",
    "\n",
    "    #append scores to lists\n",
    "    train_accuracy.append(train_auc)\n",
    "    test_accuracy.append(test_auc)"
   ]
  },
  {
   "cell_type": "code",
   "execution_count": 27,
   "metadata": {},
   "outputs": [
    {
     "data": {
      "image/png": "[encoded data removed]",
      "text/plain": [
       "<Figure size 432x288 with 1 Axes>"
      ]
     },
     "metadata": {
      "needs_background": "light"
     },
     "output_type": "display_data"
    }
   ],
   "source": [
    "plt.figure()\n",
    "\n",
    "x_values = range(50, 401, 50)\n",
    "\n",
    "plt.plot(x_values, train_accuracy, label='training', linestyle='-', marker='o', color=colorblind_palette[4])\n",
    "plt.plot(x_values, test_accuracy, label='validation', linestyle='--', marker='s', color=colorblind_palette[0])\n",
    "\n",
    "# Add labels and legend\n",
    "plt.title('Parameter tuning for number of trees in the RF ensemble')\n",
    "plt.xlabel('Number of trees')\n",
    "plt.ylabel('AUC score')\n",
    "plt.legend()\n",
    "plt.show()"
   ]
  },
  {
   "cell_type": "code",
   "execution_count": 29,
   "metadata": {},
   "outputs": [
    {
     "data": {
      "text/plain": [
       "[0.9999998732535212,\n",
       " 0.9999999977134706,\n",
       " 1.0,\n",
       " 1.0,\n",
       " 1.0,\n",
       " 1.0,\n",
       " 1.0,\n",
       " 0.9999999999999999]"
      ]
     },
     "execution_count": 29,
     "metadata": {},
     "output_type": "execute_result"
    }
   ],
   "source": [
    "train_accuracy"
   ]
  },
  {
   "cell_type": "code",
   "execution_count": 28,
   "metadata": {},
   "outputs": [
    {
     "data": {
      "text/plain": [
       "[0.9775129077222445,\n",
       " 0.9801133199226464,\n",
       " 0.9806688365730073,\n",
       " 0.9810005072684901,\n",
       " 0.9812376223171955,\n",
       " 0.9814353424168972,\n",
       " 0.9816142243041353,\n",
       " 0.9817031173594569]"
      ]
     },
     "execution_count": 28,
     "metadata": {},
     "output_type": "execute_result"
    }
   ],
   "source": [
    "test_accuracy"
   ]
  },
  {
   "cell_type": "markdown",
   "metadata": {},
   "source": [
    "## Final function, training and saving of RF model"
   ]
  },
  {
   "cell_type": "code",
   "execution_count": 48,
   "metadata": {},
   "outputs": [],
   "source": [
    "def train_RF(adata_train, adata_test, classes: str = \"random_or_pattern\", n_trees:int = 200, max_features:int = 3, n_jobs: int = 4, confusion_bool: bool = False) -> RandomForestClassifier:\n",
    "    ''' Function to train a Random Forest classifier on the latent space of the adata_train object\n",
    "\n",
    "    Parameters:\n",
    "    ----------\n",
    "    adata_train: AnnData object containing the training data\n",
    "    adata_test: AnnData object containing the test data\n",
    "    classes: class to predict. Default is pattern versus non-pattern, alternatively a column with e.g. 'pericellular' versus 'other_patterns' could be used.\n",
    "    n_trees:\n",
    "    max_features: Number of features to consider when looking for the best split. Default is 3.\n",
    "    n_jobs: Included to speed up the training process. Default is 4, but should be adjusted to 1 for RF object used within multiprocessing, such as the power analysis.\n",
    "    confusion_bool: Whether to plot a confusion matrix. Default is False.\n",
    "    '''\n",
    "    rf = RandomForestClassifier(n_estimators=n_trees, random_state=seed, max_features=max_features, bootstrap=True, oob_score=False, n_jobs = n_jobs)\n",
    "    rf.fit(adata_train.obsm[\"latent\"], adata_train.obs[classes]) \n",
    "    \n",
    "    pred_probabilities = rf.predict_proba(adata_test.obsm[\"latent\"])\n",
    "\n",
    "    print(f\"auc: {classes}\", roc_auc_score(adata_test.obs[classes], pred_probabilities[:,1]))\n",
    "\n",
    "    if confusion_bool:\n",
    "        pred_binary = rf.predict(adata_test.obsm[\"latent\"])\n",
    "        confusion_object = confusion_matrix(adata_test.obs[classes], pred_binary, labels = [classes,\"other\"])\n",
    "        cm_display = ConfusionMatrixDisplay(confusion_matrix = confusion_object, display_labels = [classes.capitalize(), \"Other\"]) \n",
    "        cm_display.plot()\n",
    "        plt.title(\"Confusion Matrix\")\n",
    "        plt.show()\n",
    "\n",
    "    return rf"
   ]
  },
  {
   "cell_type": "code",
   "execution_count": 42,
   "metadata": {},
   "outputs": [
    {
     "name": "stdout",
     "output_type": "stream",
     "text": [
      "auc: pericellular 0.9958718346736607\n"
     ]
    }
   ],
   "source": [
    "rf = train_RF(adata_train, adata_test, classes = \"pericellular\", n_jobs = 4)"
   ]
  },
  {
   "cell_type": "code",
   "execution_count": null,
   "metadata": {},
   "outputs": [],
   "source": [
    "path = \"temp_objects/rf_pattern_nonpattern.pkl\"\n",
    "\n",
    "# Open the file in write-binary mode and dump the object\n",
    "with open(path, 'wb') as f:\n",
    "    pickle.dump(rf, f)"
   ]
  },
  {
   "cell_type": "markdown",
   "metadata": {},
   "source": [
    "## Balanced / Unbalanced figure"
   ]
  },
  {
   "cell_type": "code",
   "execution_count": null,
   "metadata": {},
   "outputs": [],
   "source": [
    "adata_test_allstrengths = adata_split_cellID[adata_split_cellID.obs['cell_id'].isin(adata_split_cellID.uns['test_cellIDs'])]\n",
    "pattern_strength = [\"low\", \"intermediate\", \"strong\"]\n",
    "# 'unbalanced': rf_peri_unbalanced, 'balanced': rf_peri_balanced, 'unbalanced_inclRandom': rf_peri_balanced_inclRandom\n",
    "models= {\"Balanced: \": rf_peri_balanced,\"Unbalanced: \": rf_peri_unbalanced}\n",
    "predictions = {}\n",
    "\n",
    "fig, ax = plt.subplots()\n",
    "\n",
    "for strength in pattern_strength:\n",
    "    for name, model in models.items():\n",
    "        adata_test_strength = adata_test_allstrengths[adata_test_allstrengths.obs[\"pattern_strength\"]==strength]\n",
    "        test_pred = model.predict_proba(adata_test_strength.obsm[\"latent\"])[:,1]\n",
    "        predictions[name] = RocCurveDisplay.from_predictions(\n",
    "            adata_test_strength.obs['pericellular'],\n",
    "            test_pred, \n",
    "            pos_label = \"pericellular\",\n",
    "            name = f\"{name}{strength} pattern strength\",\n",
    "            ax=ax)\n",
    "_ = ax.set(xlabel = \"False Positive Rate\",\n",
    "    ylabel = \"True Positive Rate\",\n",
    "    title = \"ROC Curve, Pericellular versus other Patterns\"\n",
    "    )\n",
    "\n",
    "plt.legend(bbox_to_anchor=(0, -0.4, 1,0.2), loc=\"upper center\")\n",
    "plt.show()\n",
    "#adata_test_balanced.obs['n_spots_interval'].value_counts()"
   ]
  },
  {
   "cell_type": "markdown",
   "metadata": {},
   "source": [
    "## ROC curves of the optimal model"
   ]
  },
  {
   "cell_type": "markdown",
   "metadata": {},
   "source": [
    "# K - nearest neighbours"
   ]
  },
  {
   "cell_type": "markdown",
   "metadata": {},
   "source": [
    "Choice of k depends on the input data --> more outliers or noise performs better with a larger k (due to smoothing)\n",
    "\n",
    "Recommended to have an odd number of k to avoid ties in classification. Use cross-validation to choose optimal k for the dataset.\n",
    "\n",
    "Rule of thumb: choose a k close to the sqrt(datapoints), aka sqrt(176162)~419\n",
    "\n",
    "Hyperparameter grid choice. Rule of thumb is that the sqrt(N) will work, and to use odd numbers. Therefore use sqrt as a center and 5 values above and below it. Given that 469 is a relatively large number, will first explore a larger space (i.e. 50 interval in between).\n"
   ]
  },
  {
   "cell_type": "code",
   "execution_count": null,
   "metadata": {},
   "outputs": [],
   "source": [
    "# Scaling the latent space for KNN, using the MinMaxScaler\n",
    "scaler = MinMaxScaler()\n",
    "adata_train_labels.obsm['latent']=scaler.fit_transform(adata_train_labels.obsm['latent'])\n",
    "adata_train_labels.obsm['latent']"
   ]
  },
  {
   "cell_type": "code",
   "execution_count": null,
   "metadata": {},
   "outputs": [],
   "source": [
    "adata_train_labels"
   ]
  },
  {
   "cell_type": "code",
   "execution_count": null,
   "metadata": {},
   "outputs": [],
   "source": [
    "np.sqrt(432577)"
   ]
  },
  {
   "cell_type": "code",
   "execution_count": null,
   "metadata": {},
   "outputs": [],
   "source": [
    "# Author: Tom Dupre la Tour\n",
    "#\n",
    "# License: BSD 3 clause\n",
    "from tempfile import TemporaryDirectory\n",
    "\n",
    "import matplotlib.pyplot as plt\n",
    "\n",
    "#from sklearn.datasets import load_digits\n",
    "from sklearn.model_selection import GridSearchCV\n",
    "from sklearn.neighbors import KNeighborsClassifier, KNeighborsTransformer\n",
    "from sklearn.pipeline import Pipeline\n",
    "\n",
    "latent = adata_train_labels.obsm[\"latent\"]\n",
    "labels = adata_train_labels.obs[\"random_or_pattern\"]\n",
    "n_neighbors_list = [69,119,169,219,269,319,369,419,469,519,569,619,669]\n",
    "\n",
    "# The transformer computes the nearest neighbors graph using the maximum number\n",
    "# of neighbors necessary in the grid search. The classifier model filters the\n",
    "# nearest neighbors graph as required by its own n_neighbors parameter.\n",
    "graph_model = KNeighborsTransformer(n_neighbors=max(n_neighbors_list), mode=\"distance\")\n",
    "classifier_model = KNeighborsClassifier(metric=\"precomputed\")\n",
    "\n",
    "# Note that we give `memory` a directory to cache the graph computation\n",
    "# that will be used several times when tuning the hyperparameters of the\n",
    "# classifier.\n",
    "with TemporaryDirectory(prefix=\"sklearn_graph_cache_\") as tmpdir:\n",
    "    full_model = Pipeline(\n",
    "        steps=[(\"graph\", graph_model), (\"classifier\", classifier_model)], memory=tmpdir\n",
    "    )\n",
    "\n",
    "    param_grid = {\"classifier__n_neighbors\": n_neighbors_list}\n",
    "    grid_model = GridSearchCV(full_model, param_grid, verbose = 3, scoring='f1', error_score='raise', n_jobs=-1)\n",
    "    grid_model.fit(latent, labels)\n",
    "\n",
    "# Plot the results of the grid search.\n",
    "fig, axes = plt.subplots(1, 2, figsize=(8, 4))\n",
    "axes[0].errorbar(\n",
    "    x=n_neighbors_list,\n",
    "    y=grid_model.cv_results_[\"mean_test_score\"],\n",
    "    yerr=grid_model.cv_results_[\"std_test_score\"],\n",
    ")\n",
    "axes[0].set(xlabel=\"n_neighbors\", title=\"Classification accuracy\")\n",
    "axes[1].errorbar(\n",
    "    x=n_neighbors_list,\n",
    "    y=grid_model.cv_results_[\"mean_fit_time\"],\n",
    "    yerr=grid_model.cv_results_[\"std_fit_time\"],\n",
    "    color=\"r\",\n",
    ")\n",
    "axes[1].set(xlabel=\"n_neighbors\", title=\"Fit time (with caching)\")\n",
    "fig.tight_layout()\n",
    "plt.show()"
   ]
  },
  {
   "cell_type": "markdown",
   "metadata": {},
   "source": [
    "## Training RF for specific pattern"
   ]
  },
  {
   "cell_type": "code",
   "execution_count": 50,
   "metadata": {},
   "outputs": [],
   "source": [
    "def traintest_split_specific_pattern(adata, test_pattern: int = 'pericellular', balanced: bool = True, include_random: bool = False):\n",
    "    adata_train = adata[adata.obs['cell_id'].isin(adata.uns['train_cellIDs'])]\n",
    "    adata_test = adata[adata.obs['cell_id'].isin(adata.uns['test_cellIDs'])]\n",
    "\n",
    "    if balanced:\n",
    "        if include_random:\n",
    "            adata_train = balanceTrainingData(adata_train, testPattern = test_pattern, include_random = True, random_seed = seed)\n",
    "            adata_test = balanceTrainingData(adata_test, testPattern = test_pattern, include_random = True, random_seed = seed)\n",
    "        else:\n",
    "            adata_train = balanceTrainingData(adata_train, testPattern = test_pattern, include_random = False, random_seed = seed)\n",
    "            adata_test = balanceTrainingData(adata_test, testPattern = test_pattern, include_random = False, random_seed = seed)\n",
    "    return adata_train, adata_test"
   ]
  },
  {
   "cell_type": "markdown",
   "metadata": {},
   "source": [
    "Code in cell below might raise errors"
   ]
  },
  {
   "cell_type": "code",
   "execution_count": null,
   "metadata": {},
   "outputs": [],
   "source": [
    "for pattern in adata[adata.obs['pattern']!='random'].obs[\"pattern\"].unique():\n",
    "    adata_train, adata_test = traintest_split_specific_pattern(adata_strong, test_pattern = pattern, balanced = True, include_random=False)\n",
    "    \n",
    "    rf = train_RF(adata_train, adata_test, classes = pattern, n_jobs = 4)\n",
    "\n",
    "    path = f\"temp_objects/rf_balanced/pattern_vs_other/{pattern}.pkl\"\n",
    "\n",
    "    # Open the file in write-binary mode and dump the object\n",
    "    with open(path, 'wb') as f:\n",
    "        pickle.dump(rf, f)"
   ]
  }
 ],
 "metadata": {
  "kernelspec": {
   "display_name": "blurry",
   "language": "python",
   "name": "python3"
  },
  "language_info": {
   "codemirror_mode": {
    "name": "ipython",
    "version": 3
   },
   "file_extension": ".py",
   "mimetype": "text/x-python",
   "name": "python",
   "nbconvert_exporter": "python",
   "pygments_lexer": "ipython3",
   "version": "3.9.13"
  }
 },
 "nbformat": 4,
 "nbformat_minor": 2
}
