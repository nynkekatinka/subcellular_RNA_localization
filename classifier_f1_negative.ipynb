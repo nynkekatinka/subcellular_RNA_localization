{
 "cells": [
  {
   "cell_type": "code",
   "execution_count": 70,
   "metadata": {},
   "outputs": [
    {
     "name": "stdout",
     "output_type": "stream",
     "text": [
      "The autoreload extension is already loaded. To reload it, use:\n",
      "  %reload_ext autoreload\n"
     ]
    }
   ],
   "source": [
    "%load_ext autoreload\n",
    "%autoreload 2\n",
    "# when debugging the python scripts, with the autoreload the jupyter notebook sync's to the most up to date scripts. See: https://ipython.org/ipython-doc/3/config/extensions/autoreload.html\n",
    "from io_data import loadSpatialDataset\n",
    "from analyze import calcUmap, plotUmap\n",
    "import torch\n",
    "import numpy as np\n",
    "import pandas as pd\n",
    "import matplotlib.pyplot as plt\n",
    "import scanpy as sc\n",
    "import sklearn.model_selection as skm\n",
    "from sklearn.ensemble import RandomForestClassifier\n",
    "from sklearn.model_selection import GridSearchCV\n",
    "from sklearn.metrics import f1_score, fbeta_score, make_scorer\n",
    "from sklearn.preprocessing import MinMaxScaler\n",
    "from sklearn import metrics\n",
    "import random\n",
    "from tqdm import tqdm\n",
    "from dataprep import *"
   ]
  },
  {
   "cell_type": "code",
   "execution_count": 2,
   "metadata": {},
   "outputs": [],
   "source": [
    "seed = 101\n",
    "random.seed(seed)\n",
    "np.random.seed(seed)\n",
    "torch.manual_seed(seed)\n",
    "rng = np.random.RandomState(seed)"
   ]
  },
  {
   "cell_type": "code",
   "execution_count": 4,
   "metadata": {},
   "outputs": [],
   "source": [
    "def initializeAdata(data_path = \"/media/gambino/students_workdir/nynke/blurry_model/ileum_data/mouse_ileum/coordinate_parsed/*.tif\", adata_concat='blurry'):\n",
    "    adata = loadSpatialDataset(single_gene_images_glob = data_path, adata_to_concat=adata_concat)\n",
    "    img_paths = adata.obs[\"original_image_paths\"]\n",
    "    cell_ids = [re.findall('icell(\\d+)', img_path)[0] for img_path in img_paths]\n",
    "    adata.obs['cell_id'] = cell_ids\n",
    "    return adata"
   ]
  },
  {
   "cell_type": "code",
   "execution_count": 5,
   "metadata": {},
   "outputs": [],
   "source": [
    "# removing the biological real data from the similated data\n",
    "#adata_bio = adata\n",
    "#adata = adata[adata.obs['pattern']!='spatial']\n",
    "#adata.obs.reset_index(drop=True, inplace=True)"
   ]
  },
  {
   "cell_type": "code",
   "execution_count": 3,
   "metadata": {},
   "outputs": [],
   "source": [
    "adata = sc.read_h5ad(\"/media/gambino/students_workdir/nynke/new_model_with_cell_id_left_out_custom_nynke_panel_simulated_embeddings_adata.h5ad\")\n"
   ]
  },
  {
   "cell_type": "code",
   "execution_count": 110,
   "metadata": {},
   "outputs": [],
   "source": [
    "adata_all = sc.read_h5ad(\"/media/gambino/students_workdir/nynke/data/all_spots_simulated_embeddings_adata.h5ad\")"
   ]
  },
  {
   "cell_type": "code",
   "execution_count": 111,
   "metadata": {},
   "outputs": [],
   "source": [
    "# Add an extra column to the adata.obs dataframe that contains the pattern strength, given that protrusion has different pattern strength levels than the other patterns.\n",
    "conditions = [\n",
    "    (adata.obs['prop'] == 0.9) | ((adata.obs['prop'] == 0.4) & (adata.obs['pattern'] == 'protrusion')),\n",
    "    (adata.obs['prop'] == 0.5) | ((adata.obs['prop'] == 0.2) & (adata.obs['pattern'] == 'protrusion')),\n",
    "    (adata.obs['prop'] == 0.1) | ((adata.obs['prop'] == 0.0) & (adata.obs['pattern'] == 'protrusion'))\n",
    "]\n",
    "\n",
    "choices = ['strong', 'intermediate', 'low']\n",
    "\n",
    "adata.obs['pattern_strength'] = np.select(conditions, choices, default='unknown')"
   ]
  },
  {
   "cell_type": "code",
   "execution_count": 34,
   "metadata": {},
   "outputs": [
    {
     "data": {
      "text/plain": [
       "AnnData object with n_obs × n_vars = 1627152 × 15\n",
       "    obs: 'pattern', 'random_or_pattern', 'n_spots', 'n_spots_interval', 'cell_id', 'genes', 'rotation', 'rotation_interval', 'blur', 'prop', 'prop_interval', 'corresponding_dapis', 'train_or_val', 'original_image_paths', 'pattern_strength'\n",
       "    uns: 'test_cellIDs', 'train_cellIDs'\n",
       "    obsm: 'latent'"
      ]
     },
     "execution_count": 34,
     "metadata": {},
     "output_type": "execute_result"
    }
   ],
   "source": [
    "adata"
   ]
  },
  {
   "cell_type": "code",
   "execution_count": 41,
   "metadata": {},
   "outputs": [],
   "source": [
    "adata.obs['random_or_pattern'] = adata.obs['random_or_pattern'].replace('no_pattern','random')\n",
    "adata.obs['pattern'] = adata.obs['pattern'].replace('no_pattern','random')"
   ]
  },
  {
   "cell_type": "code",
   "execution_count": 5,
   "metadata": {},
   "outputs": [],
   "source": [
    "adata_strong = adata[adata.obs['pattern_strength']=='strong']"
   ]
  },
  {
   "cell_type": "code",
   "execution_count": null,
   "metadata": {},
   "outputs": [],
   "source": []
  },
  {
   "cell_type": "code",
   "execution_count": 50,
   "metadata": {},
   "outputs": [],
   "source": [
    "adata_train = adata_strong[adata_strong.obs['cell_id'].isin(adata_strong.uns['train_cellIDs'])]\n",
    "adata_test = adata_strong[adata_strong.obs['cell_id'].isin(adata_strong.uns['test_cellIDs'])]"
   ]
  },
  {
   "cell_type": "markdown",
   "metadata": {},
   "source": [
    "# Random Forest"
   ]
  },
  {
   "cell_type": "markdown",
   "metadata": {},
   "source": [
    "## Pattern / no pattern"
   ]
  },
  {
   "cell_type": "code",
   "execution_count": 11,
   "metadata": {},
   "outputs": [
    {
     "data": {
      "text/plain": [
       "0.9615854448536897"
      ]
     },
     "execution_count": 11,
     "metadata": {},
     "output_type": "execute_result"
    }
   ],
   "source": [
    "# Create a random forest classifier.\n",
    "rf_classifier = RandomForestClassifier(n_estimators=100, random_state=seed, max_features='sqrt', bootstrap=True, oob_score=True)\n",
    "rf_classifier.fit(adata_train.obsm[\"latent\"], adata_train.obs[\"random_or_pattern\"]) #first test on pattern/no pattern. Then will select the pattern and cluster that again. \n",
    "\n",
    "#out of bag score during training\n",
    "rf_classifier.oob_score_"
   ]
  },
  {
   "cell_type": "markdown",
   "metadata": {},
   "source": [
    "Make random the desired pattern to score on, so that the F1 will be selecting for the best true negative. "
   ]
  },
  {
   "cell_type": "code",
   "execution_count": 51,
   "metadata": {},
   "outputs": [],
   "source": [
    "adata_train_labels = adata_train.copy()\n",
    "pattern_mapping = {'pattern': 1, 'random': 0}\n",
    "adata_train_labels.obs['random_or_pattern'].replace(pattern_mapping, inplace=True)"
   ]
  },
  {
   "cell_type": "code",
   "execution_count": 52,
   "metadata": {},
   "outputs": [
    {
     "name": "stdout",
     "output_type": "stream",
     "text": [
      "Fitting 5 folds for each of 5 candidates, totalling 25 fits\n",
      "[CV 1/5] END ....................max_features=2;, score=0.947 total time= 1.2min\n",
      "[CV 2/5] END ....................max_features=2;, score=0.976 total time= 1.2min\n",
      "[CV 3/5] END ....................max_features=2;, score=0.972 total time= 1.3min\n",
      "[CV 4/5] END ....................max_features=2;, score=0.974 total time= 1.2min\n",
      "[CV 5/5] END ....................max_features=2;, score=0.975 total time= 1.2min\n",
      "[CV 1/5] END ....................max_features=3;, score=0.947 total time= 1.7min\n",
      "[CV 2/5] END ....................max_features=3;, score=0.976 total time= 1.6min\n",
      "[CV 3/5] END ....................max_features=3;, score=0.972 total time= 1.8min\n",
      "[CV 4/5] END ....................max_features=3;, score=0.974 total time= 1.8min\n",
      "[CV 5/5] END ....................max_features=3;, score=0.975 total time= 1.8min\n",
      "[CV 1/5] END ....................max_features=4;, score=0.946 total time= 2.2min\n",
      "[CV 2/5] END ....................max_features=4;, score=0.976 total time= 2.2min\n",
      "[CV 3/5] END ....................max_features=4;, score=0.973 total time= 2.5min\n",
      "[CV 4/5] END ....................max_features=4;, score=0.974 total time= 2.4min\n",
      "[CV 5/5] END ....................max_features=4;, score=0.975 total time= 2.3min\n",
      "[CV 1/5] END ....................max_features=5;, score=0.946 total time= 2.8min\n",
      "[CV 2/5] END ....................max_features=5;, score=0.976 total time= 2.7min\n",
      "[CV 3/5] END ....................max_features=5;, score=0.973 total time= 3.1min\n",
      "[CV 4/5] END ....................max_features=5;, score=0.974 total time= 3.0min\n",
      "[CV 5/5] END ....................max_features=5;, score=0.975 total time= 2.9min\n",
      "[CV 1/5] END ....................max_features=6;, score=0.946 total time= 3.3min\n",
      "[CV 2/5] END ....................max_features=6;, score=0.976 total time= 3.2min\n",
      "[CV 3/5] END ....................max_features=6;, score=0.973 total time= 3.7min\n",
      "[CV 4/5] END ....................max_features=6;, score=0.974 total time= 3.6min\n",
      "[CV 5/5] END ....................max_features=6;, score=0.975 total time= 3.4min\n",
      "{'mean_fit_time': array([ 71.82076254, 103.66793346, 138.99994164, 171.77905264,\n",
      "       205.41146379]), 'std_fit_time': array([ 2.43502514,  4.79864981,  7.2177336 ,  8.32851142, 10.91853228]), 'mean_score_time': array([0.77700682, 0.74173627, 0.72949843, 0.71707802, 0.71074886]), 'std_score_time': array([0.15935075, 0.14937678, 0.14410302, 0.1421111 , 0.14232986]), 'param_max_features': masked_array(data=[2, 3, 4, 5, 6],\n",
      "             mask=[False, False, False, False, False],\n",
      "       fill_value='?',\n",
      "            dtype=object), 'params': [{'max_features': 2}, {'max_features': 3}, {'max_features': 4}, {'max_features': 5}, {'max_features': 6}], 'split0_test_score': array([0.94704124, 0.94740726, 0.94639501, 0.9460747 , 0.94612619]), 'split1_test_score': array([0.97601082, 0.97596232, 0.97625886, 0.9760301 , 0.97631605]), 'split2_test_score': array([0.97204624, 0.97245951, 0.97289749, 0.97293652, 0.97294094]), 'split3_test_score': array([0.97355068, 0.97395809, 0.97425968, 0.97392191, 0.97433389]), 'split4_test_score': array([0.97458974, 0.97501244, 0.97501039, 0.97499089, 0.97476941]), 'mean_test_score': array([0.96864774, 0.96895992, 0.96896429, 0.96879082, 0.9688973 ]), 'std_test_score': array([0.01088073, 0.01083894, 0.0113371 , 0.01140513, 0.01143635]), 'rank_test_score': array([5, 2, 1, 4, 3], dtype=int32)}\n",
      "Best parameters: \n",
      "{'max_features': 4}\n"
     ]
    }
   ],
   "source": [
    "latent = adata_train_labels.obsm[\"latent\"]\n",
    "labels = adata_train_labels.obs[\"random_or_pattern\"]\n",
    "\n",
    "base_forest = RandomForestClassifier(random_state=seed, bootstrap=True, oob_score=True, n_estimators=100)\n",
    "param_grid = {'max_features': [2,3,4,5,6]}\n",
    "f_scorer_precision = make_scorer(fbeta_score, beta=0.5) # 0.5 -> precision 2x as important as recall, when scoring on TP, FP is punished harder than FN. \n",
    "\n",
    "grid_search = GridSearchCV(base_forest, param_grid=param_grid, scoring=f_scorer_precision, verbose=3, error_score='raise')\n",
    "grid_search.fit(latent,labels)\n",
    "\n",
    "print(grid_search.cv_results_)\n",
    "print(\"Best parameters: \")\n",
    "print(grid_search.best_params_)"
   ]
  },
  {
   "cell_type": "code",
   "execution_count": 55,
   "metadata": {},
   "outputs": [],
   "source": [
    "adata_train_labels = adata_train.copy()\n",
    "pattern_mapping = {'pattern': 0, 'random': 1}\n",
    "adata_train_labels.obs['random_or_pattern'].replace(pattern_mapping, inplace=True)"
   ]
  },
  {
   "cell_type": "code",
   "execution_count": 56,
   "metadata": {},
   "outputs": [
    {
     "name": "stdout",
     "output_type": "stream",
     "text": [
      "Fitting 5 folds for each of 4 candidates, totalling 20 fits\n",
      "[CV 1/5] END ....................max_features=2;, score=0.702 total time= 1.2min\n",
      "[CV 2/5] END ....................max_features=2;, score=0.806 total time= 1.2min\n",
      "[CV 3/5] END ....................max_features=2;, score=0.779 total time= 1.3min\n",
      "[CV 4/5] END ....................max_features=2;, score=0.786 total time= 1.3min\n",
      "[CV 5/5] END ....................max_features=2;, score=0.790 total time= 1.2min\n",
      "[CV 1/5] END ....................max_features=3;, score=0.703 total time= 1.7min\n",
      "[CV 2/5] END ....................max_features=3;, score=0.807 total time= 1.7min\n",
      "[CV 3/5] END ....................max_features=3;, score=0.782 total time= 1.9min\n",
      "[CV 4/5] END ....................max_features=3;, score=0.791 total time= 1.8min\n",
      "[CV 5/5] END ....................max_features=3;, score=0.794 total time= 1.8min\n",
      "[CV 1/5] END ....................max_features=4;, score=0.700 total time= 2.3min\n",
      "[CV 2/5] END ....................max_features=4;, score=0.809 total time= 2.2min\n",
      "[CV 3/5] END ....................max_features=4;, score=0.784 total time= 2.5min\n",
      "[CV 4/5] END ....................max_features=4;, score=0.794 total time= 2.4min\n",
      "[CV 5/5] END ....................max_features=4;, score=0.794 total time= 2.3min\n",
      "[CV 1/5] END ....................max_features=5;, score=0.699 total time= 2.8min\n",
      "[CV 2/5] END ....................max_features=5;, score=0.807 total time= 2.7min\n",
      "[CV 3/5] END ....................max_features=5;, score=0.786 total time= 3.1min\n",
      "[CV 4/5] END ....................max_features=5;, score=0.790 total time= 3.0min\n",
      "[CV 5/5] END ....................max_features=5;, score=0.793 total time= 2.8min\n",
      "{'mean_fit_time': array([ 73.07684565, 105.55142202, 139.33707604, 172.61869965]), 'std_fit_time': array([2.66876766, 4.89830957, 6.56718836, 9.16060324]), 'mean_score_time': array([0.79796877, 0.74913988, 0.72883472, 0.7153132 ]), 'std_score_time': array([0.16289306, 0.15116436, 0.14585437, 0.14326276]), 'param_max_features': masked_array(data=[2, 3, 4, 5],\n",
      "             mask=[False, False, False, False],\n",
      "       fill_value='?',\n",
      "            dtype=object), 'params': [{'max_features': 2}, {'max_features': 3}, {'max_features': 4}, {'max_features': 5}], 'split0_test_score': array([0.70207611, 0.7032106 , 0.7000495 , 0.69936818]), 'split1_test_score': array([0.80585519, 0.80726405, 0.80881454, 0.80687211]), 'split2_test_score': array([0.77876662, 0.78156637, 0.78445867, 0.78638498]), 'split3_test_score': array([0.78646291, 0.79077413, 0.79393271, 0.79002737]), 'split4_test_score': array([0.78967531, 0.79432492, 0.79419661, 0.79332136]), 'mean_test_score': array([0.77256723, 0.77542801, 0.77629041, 0.7751948 ]), 'std_test_score': array([0.03633537, 0.03703826, 0.03890784, 0.03854069]), 'rank_test_score': array([4, 2, 1, 3], dtype=int32)}\n",
      "Best parameters: \n",
      "{'max_features': 4}\n"
     ]
    }
   ],
   "source": [
    "latent = adata_train_labels.obsm[\"latent\"]\n",
    "labels = adata_train_labels.obs[\"random_or_pattern\"]\n",
    "\n",
    "base_forest = RandomForestClassifier(random_state=seed, bootstrap=True, oob_score=True, n_estimators=100)\n",
    "param_grid = {'max_features': [2,3,4,5]}\n",
    "f_scorer_precision = make_scorer(fbeta_score, beta=2) # 0.5 -> precision 2x as important as recall, when scoring on TP, FP is punished harder than FN. But now it is reversed because we say that random is the TP, so we want to reduce FN. \n",
    "\n",
    "grid_search = GridSearchCV(base_forest, param_grid=param_grid, scoring=f_scorer_precision, verbose=3, error_score='raise')\n",
    "grid_search.fit(latent,labels)\n",
    "\n",
    "print(grid_search.cv_results_)\n",
    "print(\"Best parameters: \")\n",
    "print(grid_search.best_params_)"
   ]
  },
  {
   "cell_type": "markdown",
   "metadata": {},
   "source": [
    "### Old model, new embeddings, inverted f1 score for scoring"
   ]
  },
  {
   "cell_type": "code",
   "execution_count": null,
   "metadata": {},
   "outputs": [],
   "source": [
    "adata_train_labels = adata_train.copy()\n",
    "pattern_mapping = {'pattern': 0, 'random': 1}\n",
    "adata_train_labels.obs['random_or_pattern'].replace(pattern_mapping, inplace=True)"
   ]
  },
  {
   "cell_type": "code",
   "execution_count": null,
   "metadata": {},
   "outputs": [
    {
     "name": "stdout",
     "output_type": "stream",
     "text": [
      "Fitting 5 folds for each of 5 candidates, totalling 25 fits\n",
      "[CV 1/5] END ....................max_features=2;, score=0.563 total time= 1.2min\n",
      "[CV 2/5] END ....................max_features=2;, score=0.842 total time= 1.2min\n",
      "[CV 3/5] END ....................max_features=2;, score=0.803 total time= 1.3min\n",
      "[CV 4/5] END ....................max_features=2;, score=0.822 total time= 1.2min\n",
      "[CV 5/5] END ....................max_features=2;, score=0.843 total time= 1.2min\n",
      "[CV 1/5] END ....................max_features=3;, score=0.564 total time= 1.7min\n",
      "[CV 2/5] END ....................max_features=3;, score=0.841 total time= 1.6min\n",
      "[CV 3/5] END ....................max_features=3;, score=0.805 total time= 1.8min\n",
      "[CV 4/5] END ....................max_features=3;, score=0.826 total time= 1.8min\n",
      "[CV 5/5] END ....................max_features=3;, score=0.846 total time= 1.8min\n",
      "[CV 1/5] END ....................max_features=4;, score=0.558 total time= 2.2min\n",
      "[CV 2/5] END ....................max_features=4;, score=0.841 total time= 2.2min\n",
      "[CV 3/5] END ....................max_features=4;, score=0.808 total time= 2.4min\n",
      "[CV 4/5] END ....................max_features=4;, score=0.828 total time= 2.4min\n",
      "[CV 5/5] END ....................max_features=4;, score=0.845 total time= 2.3min\n",
      "[CV 1/5] END ....................max_features=5;, score=0.558 total time= 2.7min\n",
      "[CV 2/5] END ....................max_features=5;, score=0.839 total time= 2.7min\n",
      "[CV 3/5] END ....................max_features=5;, score=0.809 total time= 3.1min\n",
      "[CV 4/5] END ....................max_features=5;, score=0.825 total time= 3.0min\n",
      "[CV 5/5] END ....................max_features=5;, score=0.844 total time= 2.8min\n",
      "[CV 1/5] END ....................max_features=6;, score=0.557 total time= 3.3min\n",
      "[CV 2/5] END ....................max_features=6;, score=0.841 total time= 3.1min\n",
      "[CV 3/5] END ....................max_features=6;, score=0.808 total time= 3.5min\n",
      "[CV 4/5] END ....................max_features=6;, score=0.828 total time= 3.6min\n",
      "[CV 5/5] END ....................max_features=6;, score=0.843 total time= 3.4min\n",
      "{'mean_fit_time': array([ 71.65065651, 104.11752639, 137.33772855, 170.37734656,\n",
      "       201.30224156]), 'std_fit_time': array([ 2.61341789,  5.03703373,  6.31974851,  9.08797537, 11.18753276]), 'mean_score_time': array([0.7759593 , 0.74475999, 0.72157769, 0.70819149, 0.69403353]), 'std_score_time': array([0.15743194, 0.15002041, 0.14423406, 0.14003392, 0.13630808]), 'param_max_features': masked_array(data=[2, 3, 4, 5, 6],\n",
      "             mask=[False, False, False, False, False],\n",
      "       fill_value='?',\n",
      "            dtype=object), 'params': [{'max_features': 2}, {'max_features': 3}, {'max_features': 4}, {'max_features': 5}, {'max_features': 6}], 'split0_test_score': array([0.56312812, 0.56421698, 0.55823438, 0.55760884, 0.55732547]), 'split1_test_score': array([0.84189744, 0.84093685, 0.84139685, 0.83885654, 0.84119854]), 'split2_test_score': array([0.80349299, 0.80483736, 0.80807343, 0.80907766, 0.80838448]), 'split3_test_score': array([0.82166489, 0.82551695, 0.82846035, 0.8251987 , 0.82845723]), 'split4_test_score': array([0.84346143, 0.84565457, 0.84456158, 0.84354414, 0.84294344]), 'mean_test_score': array([0.77472898, 0.77623254, 0.77614532, 0.77485717, 0.77566183]), 'std_test_score': array([0.1068092 , 0.10696154, 0.1097087 , 0.10928492, 0.10986425]), 'rank_test_score': array([5, 1, 2, 4, 3], dtype=int32)}\n",
      "Best parameters: \n",
      "{'max_features': 3}\n"
     ]
    }
   ],
   "source": [
    "latent = adata_train_labels.obsm[\"latent\"]\n",
    "labels = adata_train_labels.obs[\"random_or_pattern\"]\n",
    "\n",
    "base_forest = RandomForestClassifier(random_state=seed, bootstrap=True, oob_score=True, n_estimators=100)\n",
    "param_grid = {'max_features': [2,3,4,5,6]}\n",
    "\n",
    "grid_search = GridSearchCV(base_forest, param_grid=param_grid, scoring='f1', verbose=3, error_score='raise')\n",
    "grid_search.fit(latent,labels)\n",
    "\n",
    "print(grid_search.cv_results_)\n",
    "print(\"Best parameters: \")\n",
    "print(grid_search.best_params_)"
   ]
  },
  {
   "cell_type": "code",
   "execution_count": 25,
   "metadata": {},
   "outputs": [
    {
     "name": "stderr",
     "output_type": "stream",
     "text": [
      "  0%|          | 0/8 [00:00<?, ?it/s]"
     ]
    },
    {
     "name": "stderr",
     "output_type": "stream",
     "text": [
      "100%|██████████| 8/8 [42:23<00:00, 317.88s/it]\n"
     ]
    }
   ],
   "source": [
    "train_accuracy = []\n",
    "test_accuracy = []\n",
    "for count in tqdm(range(50, 401, 50)):\n",
    "    # create random forest classifier and fit on training data\n",
    "    rf_classifier = RandomForestClassifier(n_estimators=count, random_state=seed, max_features=3, bootstrap=True, oob_score=True)\n",
    "    rf_classifier.fit(adata_train.obsm[\"latent\"], adata_train.obs[\"random_or_pattern\"]) #first test on pattern/no pattern. Then will select the pattern and cluster that again. \n",
    "    \n",
    "    #predict label\n",
    "    train_pred = rf_classifier.predict(adata_train.obsm[\"latent\"])\n",
    "    test_pred = rf_classifier.predict(adata_test.obsm[\"latent\"])\n",
    "\n",
    "    # Obtain training and validation F1 score. \n",
    "    train_f1 = f1_score(adata_train.obs[\"random_or_pattern\"], train_pred, pos_label='random')\n",
    "    test_f1 = f1_score(adata_test.obs[\"random_or_pattern\"], test_pred, pos_label='random')\n",
    "\n",
    "    #append scores to lists\n",
    "    train_accuracy.append(train_f1)\n",
    "    test_accuracy.append(test_f1)"
   ]
  },
  {
   "cell_type": "code",
   "execution_count": 26,
   "metadata": {},
   "outputs": [
    {
     "data": {
      "image/png": "[encoded data removed]",
      "text/plain": [
       "<Figure size 432x288 with 1 Axes>"
      ]
     },
     "metadata": {
      "needs_background": "light"
     },
     "output_type": "display_data"
    }
   ],
   "source": [
    "plt.figure()\n",
    "\n",
    "x_values = range(50, 401, 50)\n",
    "\n",
    "plt.plot(x_values, train_accuracy, label='training', linestyle='-', marker='o')\n",
    "plt.plot(x_values, test_accuracy, label='validation', linestyle='--', marker='s')\n",
    "\n",
    "# Add labels and legend\n",
    "plt.title('parameter search for n_estimators')\n",
    "plt.xlabel('number of trees')\n",
    "plt.ylabel('F1 score')\n",
    "plt.legend()\n",
    "plt.show()"
   ]
  },
  {
   "cell_type": "code",
   "execution_count": 27,
   "metadata": {},
   "outputs": [
    {
     "data": {
      "text/plain": [
       "[0.8175692332977237,\n",
       " 0.8205843729481287,\n",
       " 0.8208324789829814,\n",
       " 0.8209689318796622,\n",
       " 0.8208722741433022,\n",
       " 0.820477088285925,\n",
       " 0.8207926479035037,\n",
       " 0.8208410256410257]"
      ]
     },
     "execution_count": 27,
     "metadata": {},
     "output_type": "execute_result"
    }
   ],
   "source": [
    "test_accuracy"
   ]
  },
  {
   "cell_type": "markdown",
   "metadata": {},
   "source": [
    "There is hardly any improvement with more trees in the random forest, stays at 97.5%."
   ]
  },
  {
   "cell_type": "code",
   "execution_count": 28,
   "metadata": {},
   "outputs": [],
   "source": [
    " # create random forest classifier and fit on training data\n",
    "rf_classifier = RandomForestClassifier(n_estimators=150, random_state=seed, max_features=3, bootstrap=True, oob_score=False)\n",
    "rf_classifier.fit(adata_train.obsm[\"latent\"], adata_train.obs[\"random_or_pattern\"]) #first test on pattern/no pattern. Then will select the pattern and cluster that again. \n",
    "    \n",
    "#predict label\n",
    "test_pred = rf_classifier.predict(adata_test.obsm[\"latent\"])"
   ]
  },
  {
   "cell_type": "code",
   "execution_count": 29,
   "metadata": {},
   "outputs": [],
   "source": [
    "import pickle"
   ]
  },
  {
   "cell_type": "code",
   "execution_count": 30,
   "metadata": {},
   "outputs": [],
   "source": [
    "rf_pattern = rf_classifier\n",
    "path = f\"temp_objects/rf_pattern.pkl\"\n",
    "\n",
    "# Open the file in write-binary mode and dump the object\n",
    "with open(path, 'wb') as f:\n",
    "    pickle.dump(rf_pattern, f)"
   ]
  },
  {
   "cell_type": "code",
   "execution_count": 31,
   "metadata": {},
   "outputs": [
    {
     "name": "stdout",
     "output_type": "stream",
     "text": [
      "f1 score: \n",
      "0.9776156490642021\n"
     ]
    },
    {
     "data": {
      "image/png": "[encoded data removed]",
      "text/plain": [
       "<Figure size 432x288 with 2 Axes>"
      ]
     },
     "metadata": {
      "needs_background": "light"
     },
     "output_type": "display_data"
    }
   ],
   "source": [
    "print(\"f1 score: \")\n",
    "print(f1_score(adata_test.obs[\"random_or_pattern\"], test_pred, pos_label='pattern'))\n",
    "\n",
    "confusion_matrix = metrics.confusion_matrix(adata_test.obs[\"random_or_pattern\"], test_pred, labels = rf_classifier.classes_)\n",
    "cm_display = metrics.ConfusionMatrixDisplay(confusion_matrix = confusion_matrix, display_labels = rf_classifier.classes_) \n",
    "cm_display.plot()\n",
    "plt.show()"
   ]
  },
  {
   "cell_type": "code",
   "execution_count": null,
   "metadata": {},
   "outputs": [
    {
     "name": "stdout",
     "output_type": "stream",
     "text": [
      "f1 score: \n",
      "0.9768739910062691\n"
     ]
    },
    {
     "data": {
      "image/png": "[encoded data removed]",
      "text/plain": [
       "<Figure size 432x288 with 2 Axes>"
      ]
     },
     "metadata": {},
     "output_type": "display_data"
    }
   ],
   "source": [
    "print(\"f1 score: \")\n",
    "print(f1_score(adata_test.obs[\"random_or_pattern\"], test_pred, pos_label='pattern'))\n",
    "\n",
    "confusion_matrix = metrics.confusion_matrix(adata_test.obs[\"random_or_pattern\"], test_pred, labels = rf_classifier.classes_)\n",
    "cm_display = metrics.ConfusionMatrixDisplay(confusion_matrix = confusion_matrix, display_labels = rf_classifier.classes_) \n",
    "cm_display.plot()\n",
    "plt.show()"
   ]
  },
  {
   "cell_type": "markdown",
   "metadata": {},
   "source": [
    "See the ratio of pattern/non pattern that the RF classifies the real biological data"
   ]
  },
  {
   "cell_type": "code",
   "execution_count": 18,
   "metadata": {},
   "outputs": [
    {
     "data": {
      "text/plain": [
       "(array(['pattern', 'random'], dtype=object), array([2956,  558]))"
      ]
     },
     "execution_count": 18,
     "metadata": {},
     "output_type": "execute_result"
    }
   ],
   "source": [
    "bio_pred = rf_classifier.predict(adata_bio[adata_bio.obs['pattern']=='spatial'].obsm[\"latent\"])\n",
    "np.unique(bio_pred, return_counts=True)"
   ]
  },
  {
   "cell_type": "markdown",
   "metadata": {},
   "source": [
    "## Random Forest Multilabel\n",
    "\n",
    "run the random forest for optimal parameters and get F1 score.\n",
    "select only the pattern ones, and then do random forest on the pattern labels. \n",
    "In the end wanna do a for loop to combine the combinations between the different ones. random forest + other stuff etc. "
   ]
  },
  {
   "cell_type": "code",
   "execution_count": 19,
   "metadata": {},
   "outputs": [
    {
     "data": {
      "text/plain": [
       "1236      cell-edge\n",
       "1237      cell-edge\n",
       "1238      cell-edge\n",
       "1239      cell-edge\n",
       "1240      cell-edge\n",
       "            ...    \n",
       "542172       random\n",
       "542173       random\n",
       "542174       random\n",
       "542175       random\n",
       "542176       random\n",
       "Name: pattern, Length: 110181, dtype: object"
      ]
     },
     "execution_count": 19,
     "metadata": {},
     "output_type": "execute_result"
    }
   ],
   "source": [
    "adata_val.obs['pattern']"
   ]
  },
  {
   "cell_type": "code",
   "execution_count": 25,
   "metadata": {},
   "outputs": [],
   "source": [
    "adata_train_pattern = adata_train.copy()\n",
    "adata_train_pattern = adata_train_pattern[adata_train_pattern.obs['pattern']!='random']\n",
    "adata_test_pattern = adata_val.copy()\n",
    "adata_test_pattern = adata_test_pattern[adata_test_pattern.obs['pattern']!='random']\n",
    "\n",
    "#pattern_mapping = {'pattern': 1, 'random': 0}\n",
    "#adata_train_labels.obs['random_or_pattern'].replace(pattern_mapping, inplace=True)"
   ]
  },
  {
   "cell_type": "code",
   "execution_count": null,
   "metadata": {},
   "outputs": [],
   "source": [
    "# multilabel RF including random\n",
    "rf_classifier = RandomForestClassifier(n_estimators=150, random_state=seed, max_features=3, bootstrap=True, oob_score=False)\n",
    "rf_classifier.fit(adata_train.obsm[\"latent\"], adata_train.obs[\"pattern\"])\n",
    "\n",
    "#predict label\n",
    "test_pred = rf_classifier.predict(adata_val.obsm[\"latent\"])\n",
    "\n",
    "print(\"class labels\")\n",
    "print(adata_val.obs[\"pattern\"].unique())   \n",
    "print('f1 validation: per class:')\n",
    "print(f1_score(adata_val.obs[\"pattern\"], test_pred, average=None))\n",
    " \n",
    "#confusion_matrix = metrics.confusion_matrix(adata_test_pattern.obs[\"pattern\"], test_pred, labels = rf_classifier.classes_)\n",
    "cm_display = metrics.ConfusionMatrixDisplay.from_predictions(y_true=adata_val.obs[\"pattern\"], y_pred=test_pred, display_labels = rf_classifier.classes_, xticks_rotation='vertical') \n",
    "cm_display.plot()"
   ]
  },
  {
   "cell_type": "code",
   "execution_count": null,
   "metadata": {},
   "outputs": [
    {
     "name": "stdout",
     "output_type": "stream",
     "text": [
      "f1 validation: macro average:\n",
      "0.7973921154387781\n",
      "f1 validation: micro average:\n",
      "0.7886044591246903\n"
     ]
    }
   ],
   "source": [
    "test_f1_macro = f1_score(adata_val.obs[\"pattern\"], test_pred, average='macro')\n",
    "test_f1_micro = f1_score(adata_val.obs[\"pattern\"], test_pred, average='micro')\n",
    "print('f1 validation: macro average:')\n",
    "print(test_f1_macro)\n",
    "print('f1 validation: micro average:')\n",
    "print(test_f1_micro)"
   ]
  },
  {
   "cell_type": "code",
   "execution_count": 22,
   "metadata": {},
   "outputs": [],
   "source": [
    "rf_classifier = RandomForestClassifier(n_estimators=150, random_state=seed, max_features=3, bootstrap=True, oob_score=False)\n",
    "rf_classifier.fit(adata_train_pattern.obsm[\"latent\"], adata_train_pattern.obs[\"pattern\"])\n",
    "\n",
    "#predict label\n",
    "test_pred = rf_classifier.predict(adata_test_pattern.obsm[\"latent\"])"
   ]
  },
  {
   "cell_type": "code",
   "execution_count": 23,
   "metadata": {},
   "outputs": [
    {
     "name": "stdout",
     "output_type": "stream",
     "text": [
      "f1 validation: macro average:\n",
      "0.7916347275410223\n",
      "f1 validation: micro average:\n",
      "0.7875973606165402\n",
      "f1 validation: per class:\n",
      "[0.72545571 0.64150943 0.6535095  0.88301857 0.86769158 0.8988764\n",
      " 0.81553317 0.84748345]\n",
      "class labels\n",
      "['cell-edge' 'extranuclear' 'foci' 'intranuclear' 'nuclear-edge'\n",
      " 'pericellular' 'perinuclear' 'protrusion']\n"
     ]
    }
   ],
   "source": [
    "test_f1_macro = f1_score(adata_test_pattern.obs[\"pattern\"], test_pred, average='macro')\n",
    "test_f1_micro = f1_score(adata_test_pattern.obs[\"pattern\"], test_pred, average='micro')\n",
    "test_f1_per_class = f1_score(adata_test_pattern.obs[\"pattern\"], test_pred, average=None)\n",
    "print('f1 validation: macro average:')\n",
    "print(test_f1_macro)\n",
    "print('f1 validation: micro average:')\n",
    "print(test_f1_micro)\n",
    "print('f1 validation: per class:')\n",
    "print(test_f1_per_class)\n",
    "print(\"class labels\")\n",
    "print(adata_test_pattern.obs[\"pattern\"].unique())    "
   ]
  },
  {
   "cell_type": "code",
   "execution_count": null,
   "metadata": {},
   "outputs": [
    {
     "name": "stdout",
     "output_type": "stream",
     "text": [
      "f1 validation: macro average:\n",
      "0.8114944706943449\n",
      "f1 validation: micro average:\n",
      "0.8019948051948051\n",
      "f1 validation: per class:\n",
      "[0.73604453 0.64076646 0.69004525 0.88293526 0.8653607  0.90095639\n",
      " 0.81456841 0.96127877]\n",
      "class labels\n",
      "['cell-edge', 'extranuclear', 'foci', 'intranuclear', 'nuclear-edge', 'pericellular', 'perinuclear', 'protrusion']\n",
      "Categories (8, object): ['cell-edge', 'extranuclear', 'foci', 'intranuclear', 'nuclear-edge', 'pericellular', 'perinuclear', 'protrusion']\n"
     ]
    }
   ],
   "source": [
    "test_f1_macro = f1_score(adata_test_pattern.obs[\"pattern\"], test_pred, average='macro')\n",
    "test_f1_micro = f1_score(adata_test_pattern.obs[\"pattern\"], test_pred, average='micro')\n",
    "test_f1_per_class = f1_score(adata_test_pattern.obs[\"pattern\"], test_pred, average=None)\n",
    "print('f1 validation: macro average:')\n",
    "print(test_f1_macro)\n",
    "print('f1 validation: micro average:')\n",
    "print(test_f1_micro)\n",
    "print('f1 validation: per class:')\n",
    "print(test_f1_per_class)\n",
    "print(\"class labels\")\n",
    "print(adata_test_pattern.obs[\"pattern\"].unique())    "
   ]
  },
  {
   "cell_type": "code",
   "execution_count": null,
   "metadata": {},
   "outputs": [
    {
     "data": {
      "text/plain": [
       "<sklearn.metrics._plot.confusion_matrix.ConfusionMatrixDisplay at 0x7f44fc20c4f0>"
      ]
     },
     "execution_count": 16,
     "metadata": {},
     "output_type": "execute_result"
    },
    {
     "data": {
      "image/png": "[encoded data removed]",
      "text/plain": [
       "<Figure size 432x288 with 2 Axes>"
      ]
     },
     "metadata": {
      "needs_background": "light"
     },
     "output_type": "display_data"
    },
    {
     "data": {
      "image/png": "[encoded data removed]",
      "text/plain": [
       "<Figure size 432x288 with 2 Axes>"
      ]
     },
     "metadata": {
      "needs_background": "light"
     },
     "output_type": "display_data"
    }
   ],
   "source": [
    "#confusion_matrix = metrics.confusion_matrix(adata_test_pattern.obs[\"pattern\"], test_pred, labels = rf_classifier.classes_)\n",
    "cm_display = metrics.ConfusionMatrixDisplay.from_predictions(y_true=adata_test_pattern.obs[\"pattern\"], y_pred=test_pred, display_labels = rf_classifier.classes_, xticks_rotation='vertical') \n",
    "cm_display.plot()"
   ]
  },
  {
   "cell_type": "code",
   "execution_count": null,
   "metadata": {},
   "outputs": [
    {
     "data": {
      "text/html": [
       "<div>\n",
       "<style scoped>\n",
       "    .dataframe tbody tr th:only-of-type {\n",
       "        vertical-align: middle;\n",
       "    }\n",
       "\n",
       "    .dataframe tbody tr th {\n",
       "        vertical-align: top;\n",
       "    }\n",
       "\n",
       "    .dataframe thead th {\n",
       "        text-align: right;\n",
       "    }\n",
       "</style>\n",
       "<table border=\"1\" class=\"dataframe\">\n",
       "  <thead>\n",
       "    <tr style=\"text-align: right;\">\n",
       "      <th></th>\n",
       "      <th>pattern</th>\n",
       "      <th>random_or_pattern</th>\n",
       "      <th>n_spots</th>\n",
       "      <th>n_spots_interval</th>\n",
       "      <th>cell_id</th>\n",
       "      <th>genes</th>\n",
       "      <th>rotation</th>\n",
       "      <th>rotation_interval</th>\n",
       "      <th>blur</th>\n",
       "      <th>prop</th>\n",
       "      <th>prop_interval</th>\n",
       "      <th>corresponding_dapis</th>\n",
       "      <th>train_or_val</th>\n",
       "      <th>original_image_paths</th>\n",
       "    </tr>\n",
       "  </thead>\n",
       "  <tbody>\n",
       "    <tr>\n",
       "      <th>441923</th>\n",
       "      <td>protrusion</td>\n",
       "      <td>pattern</td>\n",
       "      <td>46</td>\n",
       "      <td>40-50</td>\n",
       "      <td>187</td>\n",
       "      <td>blank</td>\n",
       "      <td>22</td>\n",
       "      <td>0-60</td>\n",
       "      <td>1.5</td>\n",
       "      <td>0.9</td>\n",
       "      <td>0.8-0.9</td>\n",
       "      <td>/mnt/data/david/simulated_cells/with_dapi/all_...</td>\n",
       "      <td>train</td>\n",
       "      <td>/mnt/data/david/simulated_cells/with_dapi/all_...</td>\n",
       "    </tr>\n",
       "    <tr>\n",
       "      <th>441924</th>\n",
       "      <td>protrusion</td>\n",
       "      <td>pattern</td>\n",
       "      <td>46</td>\n",
       "      <td>40-50</td>\n",
       "      <td>187</td>\n",
       "      <td>blank</td>\n",
       "      <td>232</td>\n",
       "      <td>180-240</td>\n",
       "      <td>1.5</td>\n",
       "      <td>0.9</td>\n",
       "      <td>0.8-0.9</td>\n",
       "      <td>/mnt/data/david/simulated_cells/with_dapi/all_...</td>\n",
       "      <td>train</td>\n",
       "      <td>/mnt/data/david/simulated_cells/with_dapi/all_...</td>\n",
       "    </tr>\n",
       "    <tr>\n",
       "      <th>441925</th>\n",
       "      <td>protrusion</td>\n",
       "      <td>pattern</td>\n",
       "      <td>46</td>\n",
       "      <td>40-50</td>\n",
       "      <td>187</td>\n",
       "      <td>blank</td>\n",
       "      <td>244</td>\n",
       "      <td>240-300</td>\n",
       "      <td>1.5</td>\n",
       "      <td>0.9</td>\n",
       "      <td>0.8-0.9</td>\n",
       "      <td>/mnt/data/david/simulated_cells/with_dapi/all_...</td>\n",
       "      <td>train</td>\n",
       "      <td>/mnt/data/david/simulated_cells/with_dapi/all_...</td>\n",
       "    </tr>\n",
       "    <tr>\n",
       "      <th>441926</th>\n",
       "      <td>protrusion</td>\n",
       "      <td>pattern</td>\n",
       "      <td>46</td>\n",
       "      <td>40-50</td>\n",
       "      <td>187</td>\n",
       "      <td>blank</td>\n",
       "      <td>267</td>\n",
       "      <td>240-300</td>\n",
       "      <td>1.5</td>\n",
       "      <td>0.9</td>\n",
       "      <td>0.8-0.9</td>\n",
       "      <td>/mnt/data/david/simulated_cells/with_dapi/all_...</td>\n",
       "      <td>train</td>\n",
       "      <td>/mnt/data/david/simulated_cells/with_dapi/all_...</td>\n",
       "    </tr>\n",
       "    <tr>\n",
       "      <th>441927</th>\n",
       "      <td>protrusion</td>\n",
       "      <td>pattern</td>\n",
       "      <td>46</td>\n",
       "      <td>40-50</td>\n",
       "      <td>187</td>\n",
       "      <td>blank</td>\n",
       "      <td>6</td>\n",
       "      <td>0-60</td>\n",
       "      <td>1.5</td>\n",
       "      <td>0.9</td>\n",
       "      <td>0.8-0.9</td>\n",
       "      <td>/mnt/data/david/simulated_cells/with_dapi/all_...</td>\n",
       "      <td>train</td>\n",
       "      <td>/mnt/data/david/simulated_cells/with_dapi/all_...</td>\n",
       "    </tr>\n",
       "    <tr>\n",
       "      <th>...</th>\n",
       "      <td>...</td>\n",
       "      <td>...</td>\n",
       "      <td>...</td>\n",
       "      <td>...</td>\n",
       "      <td>...</td>\n",
       "      <td>...</td>\n",
       "      <td>...</td>\n",
       "      <td>...</td>\n",
       "      <td>...</td>\n",
       "      <td>...</td>\n",
       "      <td>...</td>\n",
       "      <td>...</td>\n",
       "      <td>...</td>\n",
       "      <td>...</td>\n",
       "    </tr>\n",
       "    <tr>\n",
       "      <th>478193</th>\n",
       "      <td>protrusion</td>\n",
       "      <td>pattern</td>\n",
       "      <td>79</td>\n",
       "      <td>80-90</td>\n",
       "      <td>177</td>\n",
       "      <td>blank</td>\n",
       "      <td>33</td>\n",
       "      <td>0-60</td>\n",
       "      <td>1.5</td>\n",
       "      <td>0.9</td>\n",
       "      <td>0.8-0.9</td>\n",
       "      <td>/mnt/data/david/simulated_cells/with_dapi/all_...</td>\n",
       "      <td>train</td>\n",
       "      <td>/mnt/data/david/simulated_cells/with_dapi/all_...</td>\n",
       "    </tr>\n",
       "    <tr>\n",
       "      <th>478881</th>\n",
       "      <td>protrusion</td>\n",
       "      <td>pattern</td>\n",
       "      <td>38</td>\n",
       "      <td>30-40</td>\n",
       "      <td>177</td>\n",
       "      <td>blank</td>\n",
       "      <td>172</td>\n",
       "      <td>120-180</td>\n",
       "      <td>1.5</td>\n",
       "      <td>0.9</td>\n",
       "      <td>0.8-0.9</td>\n",
       "      <td>/mnt/data/david/simulated_cells/with_dapi/all_...</td>\n",
       "      <td>train</td>\n",
       "      <td>/mnt/data/david/simulated_cells/with_dapi/all_...</td>\n",
       "    </tr>\n",
       "    <tr>\n",
       "      <th>478882</th>\n",
       "      <td>protrusion</td>\n",
       "      <td>pattern</td>\n",
       "      <td>38</td>\n",
       "      <td>30-40</td>\n",
       "      <td>177</td>\n",
       "      <td>blank</td>\n",
       "      <td>192</td>\n",
       "      <td>180-240</td>\n",
       "      <td>1.5</td>\n",
       "      <td>0.9</td>\n",
       "      <td>0.8-0.9</td>\n",
       "      <td>/mnt/data/david/simulated_cells/with_dapi/all_...</td>\n",
       "      <td>train</td>\n",
       "      <td>/mnt/data/david/simulated_cells/with_dapi/all_...</td>\n",
       "    </tr>\n",
       "    <tr>\n",
       "      <th>478883</th>\n",
       "      <td>protrusion</td>\n",
       "      <td>pattern</td>\n",
       "      <td>38</td>\n",
       "      <td>30-40</td>\n",
       "      <td>177</td>\n",
       "      <td>blank</td>\n",
       "      <td>317</td>\n",
       "      <td>300+</td>\n",
       "      <td>1.5</td>\n",
       "      <td>0.9</td>\n",
       "      <td>0.8-0.9</td>\n",
       "      <td>/mnt/data/david/simulated_cells/with_dapi/all_...</td>\n",
       "      <td>train</td>\n",
       "      <td>/mnt/data/david/simulated_cells/with_dapi/all_...</td>\n",
       "    </tr>\n",
       "    <tr>\n",
       "      <th>478884</th>\n",
       "      <td>protrusion</td>\n",
       "      <td>pattern</td>\n",
       "      <td>38</td>\n",
       "      <td>30-40</td>\n",
       "      <td>177</td>\n",
       "      <td>blank</td>\n",
       "      <td>96</td>\n",
       "      <td>60-120</td>\n",
       "      <td>1.5</td>\n",
       "      <td>0.9</td>\n",
       "      <td>0.8-0.9</td>\n",
       "      <td>/mnt/data/david/simulated_cells/with_dapi/all_...</td>\n",
       "      <td>train</td>\n",
       "      <td>/mnt/data/david/simulated_cells/with_dapi/all_...</td>\n",
       "    </tr>\n",
       "  </tbody>\n",
       "</table>\n",
       "<p>29638 rows × 14 columns</p>\n",
       "</div>"
      ],
      "text/plain": [
       "           pattern random_or_pattern  n_spots n_spots_interval cell_id  genes  \\\n",
       "441923  protrusion           pattern       46            40-50     187  blank   \n",
       "441924  protrusion           pattern       46            40-50     187  blank   \n",
       "441925  protrusion           pattern       46            40-50     187  blank   \n",
       "441926  protrusion           pattern       46            40-50     187  blank   \n",
       "441927  protrusion           pattern       46            40-50     187  blank   \n",
       "...            ...               ...      ...              ...     ...    ...   \n",
       "478193  protrusion           pattern       79            80-90     177  blank   \n",
       "478881  protrusion           pattern       38            30-40     177  blank   \n",
       "478882  protrusion           pattern       38            30-40     177  blank   \n",
       "478883  protrusion           pattern       38            30-40     177  blank   \n",
       "478884  protrusion           pattern       38            30-40     177  blank   \n",
       "\n",
       "        rotation rotation_interval  blur  prop prop_interval  \\\n",
       "441923        22              0-60   1.5   0.9       0.8-0.9   \n",
       "441924       232           180-240   1.5   0.9       0.8-0.9   \n",
       "441925       244           240-300   1.5   0.9       0.8-0.9   \n",
       "441926       267           240-300   1.5   0.9       0.8-0.9   \n",
       "441927         6              0-60   1.5   0.9       0.8-0.9   \n",
       "...          ...               ...   ...   ...           ...   \n",
       "478193        33              0-60   1.5   0.9       0.8-0.9   \n",
       "478881       172           120-180   1.5   0.9       0.8-0.9   \n",
       "478882       192           180-240   1.5   0.9       0.8-0.9   \n",
       "478883       317              300+   1.5   0.9       0.8-0.9   \n",
       "478884        96            60-120   1.5   0.9       0.8-0.9   \n",
       "\n",
       "                                      corresponding_dapis train_or_val  \\\n",
       "441923  /mnt/data/david/simulated_cells/with_dapi/all_...        train   \n",
       "441924  /mnt/data/david/simulated_cells/with_dapi/all_...        train   \n",
       "441925  /mnt/data/david/simulated_cells/with_dapi/all_...        train   \n",
       "441926  /mnt/data/david/simulated_cells/with_dapi/all_...        train   \n",
       "441927  /mnt/data/david/simulated_cells/with_dapi/all_...        train   \n",
       "...                                                   ...          ...   \n",
       "478193  /mnt/data/david/simulated_cells/with_dapi/all_...        train   \n",
       "478881  /mnt/data/david/simulated_cells/with_dapi/all_...        train   \n",
       "478882  /mnt/data/david/simulated_cells/with_dapi/all_...        train   \n",
       "478883  /mnt/data/david/simulated_cells/with_dapi/all_...        train   \n",
       "478884  /mnt/data/david/simulated_cells/with_dapi/all_...        train   \n",
       "\n",
       "                                     original_image_paths  \n",
       "441923  /mnt/data/david/simulated_cells/with_dapi/all_...  \n",
       "441924  /mnt/data/david/simulated_cells/with_dapi/all_...  \n",
       "441925  /mnt/data/david/simulated_cells/with_dapi/all_...  \n",
       "441926  /mnt/data/david/simulated_cells/with_dapi/all_...  \n",
       "441927  /mnt/data/david/simulated_cells/with_dapi/all_...  \n",
       "...                                                   ...  \n",
       "478193  /mnt/data/david/simulated_cells/with_dapi/all_...  \n",
       "478881  /mnt/data/david/simulated_cells/with_dapi/all_...  \n",
       "478882  /mnt/data/david/simulated_cells/with_dapi/all_...  \n",
       "478883  /mnt/data/david/simulated_cells/with_dapi/all_...  \n",
       "478884  /mnt/data/david/simulated_cells/with_dapi/all_...  \n",
       "\n",
       "[29638 rows x 14 columns]"
      ]
     },
     "execution_count": 19,
     "metadata": {},
     "output_type": "execute_result"
    }
   ],
   "source": [
    "adata_train.obs[adata_train.obs['pattern']=='protrusion']"
   ]
  },
  {
   "cell_type": "code",
   "execution_count": null,
   "metadata": {},
   "outputs": [
    {
     "data": {
      "text/plain": [
       "(array(['cell-edge', 'extranuclear', 'intranuclear', 'pericellular',\n",
       "        'perinuclear'], dtype=object),\n",
       " array([1435,  488,  679,  678,  234]))"
      ]
     },
     "execution_count": 22,
     "metadata": {},
     "output_type": "execute_result"
    }
   ],
   "source": [
    "bio_pred = rf_classifier.predict(adata_bio[adata_bio.obs['pattern']=='spatial'].obsm[\"latent\"])\n",
    "np.unique(bio_pred, return_counts=True)"
   ]
  },
  {
   "cell_type": "markdown",
   "metadata": {},
   "source": [
    "Classifier score for pattern classifier that has mixed cell_id's. "
   ]
  },
  {
   "cell_type": "code",
   "execution_count": 26,
   "metadata": {},
   "outputs": [
    {
     "data": {
      "text/plain": [
       "0.8450290080207971"
      ]
     },
     "execution_count": 26,
     "metadata": {},
     "output_type": "execute_result"
    }
   ],
   "source": [
    "#out of bag score during training\n",
    "rf_classifier.oob_score_"
   ]
  },
  {
   "cell_type": "markdown",
   "metadata": {},
   "source": [
    "## Random Forest - Separate Binary classifiers"
   ]
  },
  {
   "cell_type": "code",
   "execution_count": 7,
   "metadata": {},
   "outputs": [],
   "source": [
    "adata_train_pattern = adata_train.copy()\n",
    "adata_train_pattern = adata_train_pattern[adata_train_pattern.obs['pattern']!='random']\n",
    "adata_test_pattern = adata_test.copy()\n",
    "adata_test_pattern = adata_test_pattern[adata_test_pattern.obs['pattern']!='random']"
   ]
  },
  {
   "cell_type": "code",
   "execution_count": 8,
   "metadata": {},
   "outputs": [
    {
     "name": "stderr",
     "output_type": "stream",
     "text": [
      "<ipython-input-8-f25da67e7bee>:1: ImplicitModificationWarning: Trying to modify attribute `.obs` of view, initializing view as actual.\n",
      "  adata_train_pattern.obs[\"cell-edge\"] = np.where(adata_train_pattern.obs[\"pattern\"] == \"cell-edge\", \"cell-edge\", \"other\")\n",
      "<ipython-input-8-f25da67e7bee>:2: ImplicitModificationWarning: Trying to modify attribute `.obs` of view, initializing view as actual.\n",
      "  adata_test_pattern.obs[\"cell-edge\"] = np.where(adata_test_pattern.obs[\"pattern\"] == \"cell-edge\", \"cell-edge\", \"other\")\n"
     ]
    }
   ],
   "source": [
    "adata_train_pattern.obs[\"cell-edge\"] = np.where(adata_train_pattern.obs[\"pattern\"] == \"cell-edge\", \"cell-edge\", \"other\")\n",
    "adata_test_pattern.obs[\"cell-edge\"] = np.where(adata_test_pattern.obs[\"pattern\"] == \"cell-edge\", \"cell-edge\", \"other\")\n",
    "\n",
    "adata_train_pattern.obs[\"extranuclear\"] = np.where(adata_train_pattern.obs[\"pattern\"] == \"extranuclear\", \"extranuclear\", \"other\")\n",
    "adata_test_pattern.obs[\"extranuclear\"] = np.where(adata_test_pattern.obs[\"pattern\"] == \"extranuclear\", \"extranuclear\", \"other\")\n",
    "\n",
    "adata_train_pattern.obs[\"foci\"] = np.where(adata_train_pattern.obs[\"pattern\"] == \"foci\", \"foci\", \"other\")\n",
    "adata_test_pattern.obs[\"foci\"] = np.where(adata_test_pattern.obs[\"pattern\"] == \"foci\", \"foci\", \"other\")\n",
    "\n",
    "adata_train_pattern.obs[\"intranuclear\"] = np.where(adata_train_pattern.obs[\"pattern\"] == \"intranuclear\", \"intranuclear\", \"other\")\n",
    "adata_test_pattern.obs[\"intranuclear\"] = np.where(adata_test_pattern.obs[\"pattern\"] == \"intranuclear\", \"intranuclear\", \"other\")\n",
    "\n",
    "adata_train_pattern.obs[\"nuclear-edge\"] = np.where(adata_train_pattern.obs[\"pattern\"] == \"nuclear-edge\", \"nuclear-edge\", \"other\")\n",
    "adata_test_pattern.obs[\"nuclear-edge\"] = np.where(adata_test_pattern.obs[\"pattern\"] == \"nuclear-edge\", \"nuclear-edge\", \"other\")\n",
    "\n",
    "adata_train_pattern.obs[\"pericellular\"] = np.where(adata_train_pattern.obs[\"pattern\"] == \"pericellular\", \"pericellular\", \"other\")\n",
    "adata_test_pattern.obs[\"pericellular\"] = np.where(adata_test_pattern.obs[\"pattern\"] == \"pericellular\", \"pericellular\", \"other\")\n",
    "\n",
    "adata_train_pattern.obs[\"perinuclear\"] = np.where(adata_train_pattern.obs[\"pattern\"] == \"perinuclear\", \"perinuclear\", \"other\")\n",
    "adata_test_pattern.obs[\"perinuclear\"] = np.where(adata_test_pattern.obs[\"pattern\"] == \"perinuclear\", \"perinuclear\", \"other\")\n",
    "\n",
    "adata_train_pattern.obs[\"protrusion\"] = np.where(adata_train_pattern.obs[\"pattern\"] == \"protrusion\", \"protrusion\", \"other\")\n",
    "adata_test_pattern.obs[\"protrusion\"] = np.where(adata_test_pattern.obs[\"pattern\"] == \"protrusion\", \"protrusion\", \"other\")"
   ]
  },
  {
   "cell_type": "code",
   "execution_count": 28,
   "metadata": {},
   "outputs": [
    {
     "data": {
      "text/html": [
       "<div>\n",
       "<style scoped>\n",
       "    .dataframe tbody tr th:only-of-type {\n",
       "        vertical-align: middle;\n",
       "    }\n",
       "\n",
       "    .dataframe tbody tr th {\n",
       "        vertical-align: top;\n",
       "    }\n",
       "\n",
       "    .dataframe thead th {\n",
       "        text-align: right;\n",
       "    }\n",
       "</style>\n",
       "<table border=\"1\" class=\"dataframe\">\n",
       "  <thead>\n",
       "    <tr style=\"text-align: right;\">\n",
       "      <th></th>\n",
       "      <th>pattern</th>\n",
       "      <th>random_or_pattern</th>\n",
       "      <th>n_spots</th>\n",
       "      <th>n_spots_interval</th>\n",
       "      <th>cell_id</th>\n",
       "      <th>genes</th>\n",
       "      <th>rotation</th>\n",
       "      <th>rotation_interval</th>\n",
       "      <th>blur</th>\n",
       "      <th>prop</th>\n",
       "      <th>...</th>\n",
       "      <th>train_or_val</th>\n",
       "      <th>original_image_paths</th>\n",
       "      <th>cell-edge</th>\n",
       "      <th>extranuclear</th>\n",
       "      <th>foci</th>\n",
       "      <th>intranuclear</th>\n",
       "      <th>nuclear-edge</th>\n",
       "      <th>pericellular</th>\n",
       "      <th>perinuclear</th>\n",
       "      <th>protrusion</th>\n",
       "    </tr>\n",
       "  </thead>\n",
       "  <tbody>\n",
       "    <tr>\n",
       "      <th>892</th>\n",
       "      <td>cell-edge</td>\n",
       "      <td>pattern</td>\n",
       "      <td>42</td>\n",
       "      <td>40-50</td>\n",
       "      <td>27</td>\n",
       "      <td>blank</td>\n",
       "      <td>154</td>\n",
       "      <td>120-180</td>\n",
       "      <td>1.5</td>\n",
       "      <td>0.9</td>\n",
       "      <td>...</td>\n",
       "      <td>val</td>\n",
       "      <td>/mnt/data/david/simulated_cells/with_dapi/all_...</td>\n",
       "      <td>cell-edge</td>\n",
       "      <td>other</td>\n",
       "      <td>other</td>\n",
       "      <td>other</td>\n",
       "      <td>other</td>\n",
       "      <td>other</td>\n",
       "      <td>other</td>\n",
       "      <td>other</td>\n",
       "    </tr>\n",
       "    <tr>\n",
       "      <th>893</th>\n",
       "      <td>cell-edge</td>\n",
       "      <td>pattern</td>\n",
       "      <td>42</td>\n",
       "      <td>40-50</td>\n",
       "      <td>27</td>\n",
       "      <td>blank</td>\n",
       "      <td>186</td>\n",
       "      <td>180-240</td>\n",
       "      <td>1.5</td>\n",
       "      <td>0.9</td>\n",
       "      <td>...</td>\n",
       "      <td>train</td>\n",
       "      <td>/mnt/data/david/simulated_cells/with_dapi/all_...</td>\n",
       "      <td>cell-edge</td>\n",
       "      <td>other</td>\n",
       "      <td>other</td>\n",
       "      <td>other</td>\n",
       "      <td>other</td>\n",
       "      <td>other</td>\n",
       "      <td>other</td>\n",
       "      <td>other</td>\n",
       "    </tr>\n",
       "    <tr>\n",
       "      <th>894</th>\n",
       "      <td>cell-edge</td>\n",
       "      <td>pattern</td>\n",
       "      <td>42</td>\n",
       "      <td>40-50</td>\n",
       "      <td>27</td>\n",
       "      <td>blank</td>\n",
       "      <td>276</td>\n",
       "      <td>240-300</td>\n",
       "      <td>1.5</td>\n",
       "      <td>0.9</td>\n",
       "      <td>...</td>\n",
       "      <td>train</td>\n",
       "      <td>/mnt/data/david/simulated_cells/with_dapi/all_...</td>\n",
       "      <td>cell-edge</td>\n",
       "      <td>other</td>\n",
       "      <td>other</td>\n",
       "      <td>other</td>\n",
       "      <td>other</td>\n",
       "      <td>other</td>\n",
       "      <td>other</td>\n",
       "      <td>other</td>\n",
       "    </tr>\n",
       "    <tr>\n",
       "      <th>895</th>\n",
       "      <td>cell-edge</td>\n",
       "      <td>pattern</td>\n",
       "      <td>42</td>\n",
       "      <td>40-50</td>\n",
       "      <td>27</td>\n",
       "      <td>blank</td>\n",
       "      <td>320</td>\n",
       "      <td>300+</td>\n",
       "      <td>1.5</td>\n",
       "      <td>0.9</td>\n",
       "      <td>...</td>\n",
       "      <td>val</td>\n",
       "      <td>/mnt/data/david/simulated_cells/with_dapi/all_...</td>\n",
       "      <td>cell-edge</td>\n",
       "      <td>other</td>\n",
       "      <td>other</td>\n",
       "      <td>other</td>\n",
       "      <td>other</td>\n",
       "      <td>other</td>\n",
       "      <td>other</td>\n",
       "      <td>other</td>\n",
       "    </tr>\n",
       "    <tr>\n",
       "      <th>896</th>\n",
       "      <td>cell-edge</td>\n",
       "      <td>pattern</td>\n",
       "      <td>42</td>\n",
       "      <td>40-50</td>\n",
       "      <td>27</td>\n",
       "      <td>blank</td>\n",
       "      <td>65</td>\n",
       "      <td>60-120</td>\n",
       "      <td>1.5</td>\n",
       "      <td>0.9</td>\n",
       "      <td>...</td>\n",
       "      <td>train</td>\n",
       "      <td>/mnt/data/david/simulated_cells/with_dapi/all_...</td>\n",
       "      <td>cell-edge</td>\n",
       "      <td>other</td>\n",
       "      <td>other</td>\n",
       "      <td>other</td>\n",
       "      <td>other</td>\n",
       "      <td>other</td>\n",
       "      <td>other</td>\n",
       "      <td>other</td>\n",
       "    </tr>\n",
       "    <tr>\n",
       "      <th>...</th>\n",
       "      <td>...</td>\n",
       "      <td>...</td>\n",
       "      <td>...</td>\n",
       "      <td>...</td>\n",
       "      <td>...</td>\n",
       "      <td>...</td>\n",
       "      <td>...</td>\n",
       "      <td>...</td>\n",
       "      <td>...</td>\n",
       "      <td>...</td>\n",
       "      <td>...</td>\n",
       "      <td>...</td>\n",
       "      <td>...</td>\n",
       "      <td>...</td>\n",
       "      <td>...</td>\n",
       "      <td>...</td>\n",
       "      <td>...</td>\n",
       "      <td>...</td>\n",
       "      <td>...</td>\n",
       "      <td>...</td>\n",
       "      <td>...</td>\n",
       "    </tr>\n",
       "    <tr>\n",
       "      <th>440601</th>\n",
       "      <td>perinuclear</td>\n",
       "      <td>pattern</td>\n",
       "      <td>2</td>\n",
       "      <td>0-10</td>\n",
       "      <td>108</td>\n",
       "      <td>blank</td>\n",
       "      <td>120</td>\n",
       "      <td>60-120</td>\n",
       "      <td>1.5</td>\n",
       "      <td>0.9</td>\n",
       "      <td>...</td>\n",
       "      <td>train</td>\n",
       "      <td>/mnt/data/david/simulated_cells/with_dapi/all_...</td>\n",
       "      <td>other</td>\n",
       "      <td>other</td>\n",
       "      <td>other</td>\n",
       "      <td>other</td>\n",
       "      <td>other</td>\n",
       "      <td>other</td>\n",
       "      <td>perinuclear</td>\n",
       "      <td>other</td>\n",
       "    </tr>\n",
       "    <tr>\n",
       "      <th>440602</th>\n",
       "      <td>perinuclear</td>\n",
       "      <td>pattern</td>\n",
       "      <td>2</td>\n",
       "      <td>0-10</td>\n",
       "      <td>108</td>\n",
       "      <td>blank</td>\n",
       "      <td>162</td>\n",
       "      <td>120-180</td>\n",
       "      <td>1.5</td>\n",
       "      <td>0.9</td>\n",
       "      <td>...</td>\n",
       "      <td>train</td>\n",
       "      <td>/mnt/data/david/simulated_cells/with_dapi/all_...</td>\n",
       "      <td>other</td>\n",
       "      <td>other</td>\n",
       "      <td>other</td>\n",
       "      <td>other</td>\n",
       "      <td>other</td>\n",
       "      <td>other</td>\n",
       "      <td>perinuclear</td>\n",
       "      <td>other</td>\n",
       "    </tr>\n",
       "    <tr>\n",
       "      <th>440603</th>\n",
       "      <td>perinuclear</td>\n",
       "      <td>pattern</td>\n",
       "      <td>2</td>\n",
       "      <td>0-10</td>\n",
       "      <td>108</td>\n",
       "      <td>blank</td>\n",
       "      <td>231</td>\n",
       "      <td>180-240</td>\n",
       "      <td>1.5</td>\n",
       "      <td>0.9</td>\n",
       "      <td>...</td>\n",
       "      <td>train</td>\n",
       "      <td>/mnt/data/david/simulated_cells/with_dapi/all_...</td>\n",
       "      <td>other</td>\n",
       "      <td>other</td>\n",
       "      <td>other</td>\n",
       "      <td>other</td>\n",
       "      <td>other</td>\n",
       "      <td>other</td>\n",
       "      <td>perinuclear</td>\n",
       "      <td>other</td>\n",
       "    </tr>\n",
       "    <tr>\n",
       "      <th>440604</th>\n",
       "      <td>perinuclear</td>\n",
       "      <td>pattern</td>\n",
       "      <td>2</td>\n",
       "      <td>0-10</td>\n",
       "      <td>108</td>\n",
       "      <td>blank</td>\n",
       "      <td>262</td>\n",
       "      <td>240-300</td>\n",
       "      <td>1.5</td>\n",
       "      <td>0.9</td>\n",
       "      <td>...</td>\n",
       "      <td>train</td>\n",
       "      <td>/mnt/data/david/simulated_cells/with_dapi/all_...</td>\n",
       "      <td>other</td>\n",
       "      <td>other</td>\n",
       "      <td>other</td>\n",
       "      <td>other</td>\n",
       "      <td>other</td>\n",
       "      <td>other</td>\n",
       "      <td>perinuclear</td>\n",
       "      <td>other</td>\n",
       "    </tr>\n",
       "    <tr>\n",
       "      <th>440605</th>\n",
       "      <td>perinuclear</td>\n",
       "      <td>pattern</td>\n",
       "      <td>2</td>\n",
       "      <td>0-10</td>\n",
       "      <td>108</td>\n",
       "      <td>blank</td>\n",
       "      <td>323</td>\n",
       "      <td>300+</td>\n",
       "      <td>1.5</td>\n",
       "      <td>0.9</td>\n",
       "      <td>...</td>\n",
       "      <td>train</td>\n",
       "      <td>/mnt/data/david/simulated_cells/with_dapi/all_...</td>\n",
       "      <td>other</td>\n",
       "      <td>other</td>\n",
       "      <td>other</td>\n",
       "      <td>other</td>\n",
       "      <td>other</td>\n",
       "      <td>other</td>\n",
       "      <td>perinuclear</td>\n",
       "      <td>other</td>\n",
       "    </tr>\n",
       "  </tbody>\n",
       "</table>\n",
       "<p>381904 rows × 22 columns</p>\n",
       "</div>"
      ],
      "text/plain": [
       "            pattern random_or_pattern  n_spots n_spots_interval cell_id  \\\n",
       "892       cell-edge           pattern       42            40-50      27   \n",
       "893       cell-edge           pattern       42            40-50      27   \n",
       "894       cell-edge           pattern       42            40-50      27   \n",
       "895       cell-edge           pattern       42            40-50      27   \n",
       "896       cell-edge           pattern       42            40-50      27   \n",
       "...             ...               ...      ...              ...     ...   \n",
       "440601  perinuclear           pattern        2             0-10     108   \n",
       "440602  perinuclear           pattern        2             0-10     108   \n",
       "440603  perinuclear           pattern        2             0-10     108   \n",
       "440604  perinuclear           pattern        2             0-10     108   \n",
       "440605  perinuclear           pattern        2             0-10     108   \n",
       "\n",
       "        genes  rotation rotation_interval  blur  prop  ... train_or_val  \\\n",
       "892     blank       154           120-180   1.5   0.9  ...          val   \n",
       "893     blank       186           180-240   1.5   0.9  ...        train   \n",
       "894     blank       276           240-300   1.5   0.9  ...        train   \n",
       "895     blank       320              300+   1.5   0.9  ...          val   \n",
       "896     blank        65            60-120   1.5   0.9  ...        train   \n",
       "...       ...       ...               ...   ...   ...  ...          ...   \n",
       "440601  blank       120            60-120   1.5   0.9  ...        train   \n",
       "440602  blank       162           120-180   1.5   0.9  ...        train   \n",
       "440603  blank       231           180-240   1.5   0.9  ...        train   \n",
       "440604  blank       262           240-300   1.5   0.9  ...        train   \n",
       "440605  blank       323              300+   1.5   0.9  ...        train   \n",
       "\n",
       "                                     original_image_paths  cell-edge  \\\n",
       "892     /mnt/data/david/simulated_cells/with_dapi/all_...  cell-edge   \n",
       "893     /mnt/data/david/simulated_cells/with_dapi/all_...  cell-edge   \n",
       "894     /mnt/data/david/simulated_cells/with_dapi/all_...  cell-edge   \n",
       "895     /mnt/data/david/simulated_cells/with_dapi/all_...  cell-edge   \n",
       "896     /mnt/data/david/simulated_cells/with_dapi/all_...  cell-edge   \n",
       "...                                                   ...        ...   \n",
       "440601  /mnt/data/david/simulated_cells/with_dapi/all_...      other   \n",
       "440602  /mnt/data/david/simulated_cells/with_dapi/all_...      other   \n",
       "440603  /mnt/data/david/simulated_cells/with_dapi/all_...      other   \n",
       "440604  /mnt/data/david/simulated_cells/with_dapi/all_...      other   \n",
       "440605  /mnt/data/david/simulated_cells/with_dapi/all_...      other   \n",
       "\n",
       "       extranuclear   foci intranuclear nuclear-edge pericellular  \\\n",
       "892           other  other        other        other        other   \n",
       "893           other  other        other        other        other   \n",
       "894           other  other        other        other        other   \n",
       "895           other  other        other        other        other   \n",
       "896           other  other        other        other        other   \n",
       "...             ...    ...          ...          ...          ...   \n",
       "440601        other  other        other        other        other   \n",
       "440602        other  other        other        other        other   \n",
       "440603        other  other        other        other        other   \n",
       "440604        other  other        other        other        other   \n",
       "440605        other  other        other        other        other   \n",
       "\n",
       "        perinuclear protrusion  \n",
       "892           other      other  \n",
       "893           other      other  \n",
       "894           other      other  \n",
       "895           other      other  \n",
       "896           other      other  \n",
       "...             ...        ...  \n",
       "440601  perinuclear      other  \n",
       "440602  perinuclear      other  \n",
       "440603  perinuclear      other  \n",
       "440604  perinuclear      other  \n",
       "440605  perinuclear      other  \n",
       "\n",
       "[381904 rows x 22 columns]"
      ]
     },
     "execution_count": 28,
     "metadata": {},
     "output_type": "execute_result"
    }
   ],
   "source": [
    "adata_train_pattern.obs"
   ]
  },
  {
   "cell_type": "code",
   "execution_count": 9,
   "metadata": {},
   "outputs": [],
   "source": [
    "import pickle"
   ]
  },
  {
   "cell_type": "markdown",
   "metadata": {},
   "source": [
    "RF excluding random"
   ]
  },
  {
   "cell_type": "code",
   "execution_count": 10,
   "metadata": {},
   "outputs": [
    {
     "data": {
      "image/png": "[encoded data removed]",
      "text/plain": [
       "<Figure size 432x288 with 2 Axes>"
      ]
     },
     "metadata": {
      "needs_background": "light"
     },
     "output_type": "display_data"
    }
   ],
   "source": [
    " # create random forest classifier EXCLUDING random\n",
    "rf_extranuclear = RandomForestClassifier(n_estimators=150, random_state=seed, max_features=3, bootstrap=True, oob_score=False)\n",
    "rf_extranuclear.fit(adata_train_pattern.obsm[\"latent\"], adata_train_pattern.obs[\"extranuclear\"]) \n",
    "    \n",
    "#predict label\n",
    "test_extranuclear = rf_extranuclear.predict(adata_test_pattern.obsm[\"latent\"])\n",
    "\n",
    "confusion_matrix = metrics.confusion_matrix(adata_test_pattern.obs[\"extranuclear\"], test_extranuclear, labels = rf_extranuclear.classes_)\n",
    "cm_display = metrics.ConfusionMatrixDisplay(confusion_matrix = confusion_matrix, display_labels = rf_extranuclear.classes_) \n",
    "cm_display.plot()\n",
    "plt.show()"
   ]
  },
  {
   "cell_type": "code",
   "execution_count": 19,
   "metadata": {},
   "outputs": [
    {
     "name": "stdout",
     "output_type": "stream",
     "text": [
      "f1 score:  0.6212769875247434\n",
      "inverted f1 score:  0.9522737688465531\n"
     ]
    }
   ],
   "source": [
    "print(\"f1 score: \", f1_score(adata_test_pattern.obs[\"extranuclear\"], test_extranuclear, pos_label='extranuclear'))\n",
    "print(\"inverted f1 score: \", f1_score(adata_test_pattern.obs[\"extranuclear\"], test_extranuclear, pos_label='other'))"
   ]
  },
  {
   "cell_type": "code",
   "execution_count": 32,
   "metadata": {},
   "outputs": [
    {
     "name": "stdout",
     "output_type": "stream",
     "text": [
      "f1 score: \n",
      "0.725608703160076\n"
     ]
    }
   ],
   "source": [
    "#predict label\n",
    "test_cell_edge = models.get(\"cellEdge\").predict(adata_test_pattern.obsm[\"latent\"])\n",
    "\n",
    "print(\"f1 score: \")\n",
    "print(f1_score(adata_test_pattern.obs[\"cell-edge\"], test_cell_edge, pos_label='cell-edge'))"
   ]
  },
  {
   "cell_type": "code",
   "execution_count": 12,
   "metadata": {},
   "outputs": [
    {
     "name": "stdout",
     "output_type": "stream",
     "text": [
      "f1 score:  0.716413939877627\n",
      "inverted f1 score:  0.9627159745377387\n"
     ]
    },
    {
     "data": {
      "image/png": "[encoded data removed]",
      "text/plain": [
       "<Figure size 432x288 with 2 Axes>"
      ]
     },
     "metadata": {
      "needs_background": "light"
     },
     "output_type": "display_data"
    }
   ],
   "source": [
    " # create random forest classifier EXCLUDING random\n",
    "rf_cellEdge = RandomForestClassifier(n_estimators=150, random_state=seed, max_features=3, bootstrap=True, oob_score=False)\n",
    "rf_cellEdge.fit(adata_train_pattern.obsm[\"latent\"], adata_train_pattern.obs[\"cell-edge\"]) \n",
    "    \n",
    "#predict label\n",
    "test_cell_edge = rf_cellEdge.predict(adata_test_pattern.obsm[\"latent\"])\n",
    "\n",
    "print(\"f1 score: \", f1_score(adata_test_pattern.obs[\"cell-edge\"], test_cell_edge, pos_label='cell-edge'))\n",
    "print(\"inverted f1 score: \", f1_score(adata_test_pattern.obs[\"cell-edge\"], test_cell_edge, pos_label='other'))\n",
    "\n",
    "confusion_matrix = metrics.confusion_matrix(adata_test_pattern.obs[\"cell-edge\"], test_cell_edge, labels = rf_cellEdge.classes_)\n",
    "cm_display = metrics.ConfusionMatrixDisplay(confusion_matrix = confusion_matrix, display_labels = rf_cellEdge.classes_) \n",
    "cm_display.plot()\n",
    "plt.show()"
   ]
  },
  {
   "cell_type": "code",
   "execution_count": 13,
   "metadata": {},
   "outputs": [
    {
     "name": "stdout",
     "output_type": "stream",
     "text": [
      "f1 score:  0.6390104985761041\n",
      "inverted f1 score:  0.9502095852264401\n"
     ]
    },
    {
     "data": {
      "image/png": "[encoded data removed]",
      "text/plain": [
       "<Figure size 432x288 with 2 Axes>"
      ]
     },
     "metadata": {
      "needs_background": "light"
     },
     "output_type": "display_data"
    }
   ],
   "source": [
    " # create random forest classifier EXCLUDING random\n",
    "rf_foci = RandomForestClassifier(n_estimators=150, random_state=seed, max_features=3, bootstrap=True, oob_score=False)\n",
    "rf_foci.fit(adata_train_pattern.obsm[\"latent\"], adata_train_pattern.obs[\"foci\"]) \n",
    "    \n",
    "#predict label\n",
    "test_foci = rf_foci.predict(adata_test_pattern.obsm[\"latent\"])\n",
    "\n",
    "print(\"f1 score: \", f1_score(adata_test_pattern.obs[\"foci\"], test_foci, pos_label='foci'))\n",
    "print(\"inverted f1 score: \", f1_score(adata_test_pattern.obs[\"foci\"], test_foci, pos_label='other'))\n",
    "\n",
    "confusion_matrix = metrics.confusion_matrix(adata_test_pattern.obs[\"foci\"], test_foci, labels = rf_foci.classes_)\n",
    "cm_display = metrics.ConfusionMatrixDisplay(confusion_matrix = confusion_matrix, display_labels = rf_foci.classes_) \n",
    "cm_display.plot()\n",
    "plt.show()"
   ]
  },
  {
   "cell_type": "code",
   "execution_count": 14,
   "metadata": {},
   "outputs": [
    {
     "name": "stdout",
     "output_type": "stream",
     "text": [
      "f1 score:  0.8857550186876276\n",
      "inverted f1 score:  0.8857550186876276\n"
     ]
    },
    {
     "data": {
      "image/png": "[encoded data removed]",
      "text/plain": [
       "<Figure size 432x288 with 2 Axes>"
      ]
     },
     "metadata": {
      "needs_background": "light"
     },
     "output_type": "display_data"
    }
   ],
   "source": [
    " # create random forest classifier EXCLUDING random\n",
    "rf_intranuclear = RandomForestClassifier(n_estimators=150, random_state=seed, max_features=3, bootstrap=True, oob_score=False)\n",
    "rf_intranuclear.fit(adata_train_pattern.obsm[\"latent\"], adata_train_pattern.obs[\"intranuclear\"]) \n",
    "    \n",
    "#predict label\n",
    "test_intranuclear = rf_intranuclear.predict(adata_test_pattern.obsm[\"latent\"])\n",
    "\n",
    "print(\"f1 score: \", f1_score(adata_test_pattern.obs[\"intranuclear\"], test_intranuclear, pos_label='intranuclear'))\n",
    "print(\"inverted f1 score: \", f1_score(adata_test_pattern.obs[\"intranuclear\"], test_intranuclear, pos_label='intranuclear'))\n",
    "\n",
    "confusion_matrix = metrics.confusion_matrix(adata_test_pattern.obs[\"intranuclear\"], test_intranuclear, labels = rf_intranuclear.classes_)\n",
    "cm_display = metrics.ConfusionMatrixDisplay(confusion_matrix = confusion_matrix, display_labels = rf_intranuclear.classes_) \n",
    "cm_display.plot()\n",
    "plt.show()"
   ]
  },
  {
   "cell_type": "code",
   "execution_count": 15,
   "metadata": {},
   "outputs": [
    {
     "name": "stdout",
     "output_type": "stream",
     "text": [
      "f1 score:  0.8670022734654108\n",
      "inverted f1 score:  0.9806691449814127\n"
     ]
    },
    {
     "data": {
      "image/png": "[encoded data removed]",
      "text/plain": [
       "<Figure size 432x288 with 2 Axes>"
      ]
     },
     "metadata": {
      "needs_background": "light"
     },
     "output_type": "display_data"
    }
   ],
   "source": [
    " # create random forest classifier EXCLUDING random\n",
    "rf_nuclearEdge = RandomForestClassifier(n_estimators=150, random_state=seed, max_features=3, bootstrap=True, oob_score=False)\n",
    "rf_nuclearEdge.fit(adata_train_pattern.obsm[\"latent\"], adata_train_pattern.obs[\"nuclear-edge\"]) \n",
    "    \n",
    "#predict label\n",
    "test_nuclear_edge = rf_nuclearEdge.predict(adata_test_pattern.obsm[\"latent\"])\n",
    "\n",
    "print(\"f1 score: \", f1_score(adata_test_pattern.obs[\"nuclear-edge\"], test_nuclear_edge, pos_label='nuclear-edge'))\n",
    "print(\"inverted f1 score: \", f1_score(adata_test_pattern.obs[\"nuclear-edge\"], test_nuclear_edge, pos_label='other'))\n",
    "\n",
    "confusion_matrix = metrics.confusion_matrix(adata_test_pattern.obs[\"nuclear-edge\"], test_nuclear_edge, labels = rf_nuclearEdge.classes_)\n",
    "cm_display = metrics.ConfusionMatrixDisplay(confusion_matrix = confusion_matrix, display_labels = rf_nuclearEdge.classes_) \n",
    "cm_display.plot()\n",
    "plt.show()"
   ]
  },
  {
   "cell_type": "code",
   "execution_count": 16,
   "metadata": {},
   "outputs": [
    {
     "name": "stdout",
     "output_type": "stream",
     "text": [
      "f1 score:  0.8670022734654108\n",
      "inverted f1 score:  0.9883193381154414\n"
     ]
    },
    {
     "data": {
      "image/png": "[encoded data removed]",
      "text/plain": [
       "<Figure size 432x288 with 2 Axes>"
      ]
     },
     "metadata": {
      "needs_background": "light"
     },
     "output_type": "display_data"
    }
   ],
   "source": [
    " # create random forest classifier EXCLUDING random\n",
    "rf_pericellular = RandomForestClassifier(n_estimators=150, random_state=seed, max_features=3, bootstrap=True, oob_score=False)\n",
    "rf_pericellular.fit(adata_train_pattern.obsm[\"latent\"], adata_train_pattern.obs[\"pericellular\"]) \n",
    "    \n",
    "#predict label\n",
    "test_pericellular = rf_pericellular.predict(adata_test_pattern.obsm[\"latent\"])\n",
    "\n",
    "print(\"f1 score: \", f1_score(adata_test_pattern.obs[\"nuclear-edge\"], test_nuclear_edge, pos_label='nuclear-edge'))\n",
    "print(\"inverted f1 score: \", f1_score(adata_test_pattern.obs[\"pericellular\"], test_pericellular, pos_label='other'))\n",
    "\n",
    "confusion_matrix = metrics.confusion_matrix(adata_test_pattern.obs[\"pericellular\"], test_pericellular, labels = rf_pericellular.classes_)\n",
    "cm_display = metrics.ConfusionMatrixDisplay(confusion_matrix = confusion_matrix, display_labels = rf_pericellular.classes_) \n",
    "cm_display.plot()\n",
    "plt.show()"
   ]
  },
  {
   "cell_type": "code",
   "execution_count": 17,
   "metadata": {},
   "outputs": [
    {
     "name": "stdout",
     "output_type": "stream",
     "text": [
      "f1 score:  0.8041682551785486\n",
      "inverted f1 score:  0.8041682551785486\n"
     ]
    },
    {
     "data": {
      "image/png": "[encoded data removed]",
      "text/plain": [
       "<Figure size 432x288 with 2 Axes>"
      ]
     },
     "metadata": {
      "needs_background": "light"
     },
     "output_type": "display_data"
    }
   ],
   "source": [
    " # create random forest classifier EXCLUDING random\n",
    "rf_perinuclear = RandomForestClassifier(n_estimators=150, random_state=seed, max_features=3, bootstrap=True, oob_score=False)\n",
    "rf_perinuclear.fit(adata_train_pattern.obsm[\"latent\"], adata_train_pattern.obs[\"perinuclear\"]) \n",
    "    \n",
    "#predict label\n",
    "test_perinuclear = rf_perinuclear.predict(adata_test_pattern.obsm[\"latent\"])\n",
    "\n",
    "print(\"f1 score: \", f1_score(adata_test_pattern.obs[\"perinuclear\"], test_perinuclear, pos_label='perinuclear'))\n",
    "print(\"inverted f1 score: \", f1_score(adata_test_pattern.obs[\"perinuclear\"], test_perinuclear, pos_label='perinuclear'))\n",
    "\n",
    "confusion_matrix = metrics.confusion_matrix(adata_test_pattern.obs[\"perinuclear\"], test_perinuclear, labels = rf_perinuclear.classes_)\n",
    "cm_display = metrics.ConfusionMatrixDisplay(confusion_matrix = confusion_matrix, display_labels = rf_perinuclear.classes_) \n",
    "cm_display.plot()\n",
    "plt.show()"
   ]
  },
  {
   "cell_type": "code",
   "execution_count": 18,
   "metadata": {},
   "outputs": [
    {
     "name": "stdout",
     "output_type": "stream",
     "text": [
      "f1 score:  0.8041682551785486\n",
      "inverted f1 score:  0.9892667772954067\n"
     ]
    },
    {
     "data": {
      "image/png": "[encoded data removed]",
      "text/plain": [
       "<Figure size 432x288 with 2 Axes>"
      ]
     },
     "metadata": {
      "needs_background": "light"
     },
     "output_type": "display_data"
    }
   ],
   "source": [
    " # create random forest classifier EXCLUDING random\n",
    "rf_protrusion = RandomForestClassifier(n_estimators=150, random_state=seed, max_features=3, bootstrap=True, oob_score=False)\n",
    "rf_protrusion.fit(adata_train_pattern.obsm[\"latent\"], adata_train_pattern.obs[\"protrusion\"]) \n",
    "    \n",
    "#predict label\n",
    "test_protrusion = rf_protrusion.predict(adata_test_pattern.obsm[\"latent\"])\n",
    "\n",
    "print(\"f1 score: \", f1_score(adata_test_pattern.obs[\"perinuclear\"], test_perinuclear, pos_label='perinuclear'))\n",
    "print(\"inverted f1 score: \", f1_score(adata_test_pattern.obs[\"protrusion\"], test_protrusion, pos_label='other'))\n",
    "\n",
    "confusion_matrix = metrics.confusion_matrix(adata_test_pattern.obs[\"protrusion\"], test_protrusion, labels = rf_protrusion.classes_)\n",
    "cm_display = metrics.ConfusionMatrixDisplay(confusion_matrix = confusion_matrix, display_labels = rf_protrusion.classes_) \n",
    "cm_display.plot()\n",
    "plt.show()"
   ]
  },
  {
   "cell_type": "code",
   "execution_count": 35,
   "metadata": {},
   "outputs": [
    {
     "data": {
      "image/png": "[encoded data removed]",
      "text/plain": [
       "<Figure size 432x288 with 2 Axes>"
      ]
     },
     "metadata": {
      "needs_background": "light"
     },
     "output_type": "display_data"
    }
   ],
   "source": [
    "confusion_matrix = metrics.confusion_matrix(adata_test_pattern.obs[\"extranuclear_no_random\"], test_pred, labels = rf_classifier.classes_)\n",
    "cm_display = metrics.ConfusionMatrixDisplay(confusion_matrix = confusion_matrix, display_labels = rf_classifier.classes_) \n",
    "cm_display.plot()\n",
    "plt.show()"
   ]
  },
  {
   "cell_type": "markdown",
   "metadata": {},
   "source": [
    "## Saving and restoring RF objects"
   ]
  },
  {
   "cell_type": "code",
   "execution_count": null,
   "metadata": {},
   "outputs": [],
   "source": [
    "import pickle\n",
    "patterns = {'cellEdge': rf_cellEdge, 'foci': rf_foci, 'extranuclear': rf_extranuclear, 'intranuclear': rf_intranuclear, 'nuclearEdge': rf_nuclearEdge, 'pericellular': rf_pericellular, 'perinuclear': rf_perinuclear, 'protrusion': rf_protrusion}\n",
    "\n",
    "for key, value in patterns.items():\n",
    "    path = f\"temp_objects/f1_negative_cellID_split/rf_{key}.pkl\"\n",
    "\n",
    "    # Open the file in write-binary mode and dump the object\n",
    "    with open(path, 'wb') as f:\n",
    "        pickle.dump(value, f)"
   ]
  },
  {
   "cell_type": "code",
   "execution_count": 144,
   "metadata": {},
   "outputs": [],
   "source": [
    "import pickle\n",
    "\n",
    "patterns = ['pattern', 'cellEdge', 'foci', 'extranuclear', 'intranuclear', 'nuclearEdge', 'pericellular', 'perinuclear', 'protrusion']\n",
    "models = {}\n",
    "\n",
    "for pattern in patterns:\n",
    "    # Specify the path where the model is saved\n",
    "    path = f\"temp_objects/f1_negative_cellID_split/rf_{pattern}.pkl\"\n",
    "\n",
    "    # Open the file in read-binary mode and load the model\n",
    "    with open(path, 'rb') as p:\n",
    "        models[pattern] = pickle.load(p)"
   ]
  },
  {
   "cell_type": "markdown",
   "metadata": {},
   "source": [
    "## 1 gene n cells"
   ]
  },
  {
   "cell_type": "markdown",
   "metadata": {},
   "source": [
    "### F1 exploration"
   ]
  },
  {
   "cell_type": "code",
   "execution_count": 9,
   "metadata": {},
   "outputs": [],
   "source": [
    "counts = adata.obs['n_spots_interval'].unique()\n",
    "pattern_strength = adata.obs['pattern_strength'].unique()"
   ]
  },
  {
   "cell_type": "code",
   "execution_count": 13,
   "metadata": {},
   "outputs": [
    {
     "name": "stdout",
     "output_type": "stream",
     "text": [
      "f1 score for 100+:  0.7695910665356976\n",
      "inverse f1 score for 100+:  0.40117378966377154\n",
      "f1 score for 0-10:  0.9303119433282241\n",
      "inverse f1 score for 0-10:  0.4078845476944738\n",
      "f1 score for 10-20:  0.870513692345887\n",
      "inverse f1 score for 10-20:  0.36786636454655636\n",
      "f1 score for 20-30:  0.8394893152181335\n",
      "inverse f1 score for 20-30:  0.37412370219185376\n",
      "f1 score for 30-40:  0.8149536397711581\n",
      "inverse f1 score for 30-40:  0.37749843847595255\n",
      "f1 score for 40-50:  0.8052834056993385\n",
      "inverse f1 score for 40-50:  0.39768192006997977\n",
      "f1 score for 50-60:  0.7918112171147731\n",
      "inverse f1 score for 50-60:  0.384530465439265\n",
      "f1 score for 70-80:  0.786311796392874\n",
      "inverse f1 score for 70-80:  0.38542749881030014\n",
      "f1 score for 80-90:  0.7794282784884289\n",
      "inverse f1 score for 80-90:  0.38072718549741275\n",
      "f1 score for 90-100:  0.776207548559782\n",
      "inverse f1 score for 90-100:  0.3988258187934958\n"
     ]
    }
   ],
   "source": [
    "for count in counts:\n",
    "    adata_count = adata[adata.obs['n_spots_interval']==count]\n",
    "    rf_score = models['pattern'].predict(adata_count.obsm[\"latent\"])\n",
    "\n",
    "    print(f\"f1 score for {count}: \", f1_score(adata_count.obs[\"random_or_pattern\"], rf_score, pos_label='pattern'))\n",
    "    print(f\"inverse f1 score for {count}: \", f1_score(adata_count.obs[\"random_or_pattern\"], rf_score, pos_label='no_pattern'))\n",
    "\n",
    "    confusion_matrix = metrics.confusion_matrix(adata_count.obs[\"random_or_pattern\"],rf_score, labels = models['pattern'].classes_)\n",
    "    cm_display = metrics.ConfusionMatrixDisplay(confusion_matrix = confusion_matrix, display_labels = models['pattern'].classes_) \n",
    "    cm_display.plot()\n",
    "    plt.savefig(f'images/confusion_matrix/pattern_nopattern/total/new_embeddings/pattern_{count}.png')\n",
    "    plt.close()"
   ]
  },
  {
   "cell_type": "code",
   "execution_count": 16,
   "metadata": {},
   "outputs": [
    {
     "data": {
      "text/html": [
       "<div>\n",
       "<style scoped>\n",
       "    .dataframe tbody tr th:only-of-type {\n",
       "        vertical-align: middle;\n",
       "    }\n",
       "\n",
       "    .dataframe tbody tr th {\n",
       "        vertical-align: top;\n",
       "    }\n",
       "\n",
       "    .dataframe thead th {\n",
       "        text-align: right;\n",
       "    }\n",
       "</style>\n",
       "<table border=\"1\" class=\"dataframe\">\n",
       "  <thead>\n",
       "    <tr style=\"text-align: right;\">\n",
       "      <th></th>\n",
       "      <th>pattern</th>\n",
       "      <th>random_or_pattern</th>\n",
       "      <th>n_spots</th>\n",
       "      <th>n_spots_interval</th>\n",
       "      <th>cell_id</th>\n",
       "      <th>genes</th>\n",
       "      <th>rotation</th>\n",
       "      <th>rotation_interval</th>\n",
       "      <th>blur</th>\n",
       "      <th>prop</th>\n",
       "      <th>prop_interval</th>\n",
       "      <th>corresponding_dapis</th>\n",
       "      <th>train_or_val</th>\n",
       "      <th>original_image_paths</th>\n",
       "      <th>pattern_strength</th>\n",
       "    </tr>\n",
       "  </thead>\n",
       "  <tbody>\n",
       "    <tr>\n",
       "      <th>1437959</th>\n",
       "      <td>random</td>\n",
       "      <td>random</td>\n",
       "      <td>100</td>\n",
       "      <td>100+</td>\n",
       "      <td>151</td>\n",
       "      <td>blank</td>\n",
       "      <td>138</td>\n",
       "      <td>120-180</td>\n",
       "      <td>1.5</td>\n",
       "      <td>0.9</td>\n",
       "      <td>0.8-0.9</td>\n",
       "      <td>/mnt/data/david/simulated_cells/with_dapi/cust...</td>\n",
       "      <td>train</td>\n",
       "      <td>/mnt/data/david/simulated_cells/with_dapi/cust...</td>\n",
       "      <td>strong</td>\n",
       "    </tr>\n",
       "    <tr>\n",
       "      <th>1437960</th>\n",
       "      <td>random</td>\n",
       "      <td>random</td>\n",
       "      <td>100</td>\n",
       "      <td>100+</td>\n",
       "      <td>151</td>\n",
       "      <td>blank</td>\n",
       "      <td>168</td>\n",
       "      <td>120-180</td>\n",
       "      <td>1.5</td>\n",
       "      <td>0.9</td>\n",
       "      <td>0.8-0.9</td>\n",
       "      <td>/mnt/data/david/simulated_cells/with_dapi/cust...</td>\n",
       "      <td>train</td>\n",
       "      <td>/mnt/data/david/simulated_cells/with_dapi/cust...</td>\n",
       "      <td>strong</td>\n",
       "    </tr>\n",
       "    <tr>\n",
       "      <th>1437961</th>\n",
       "      <td>random</td>\n",
       "      <td>random</td>\n",
       "      <td>100</td>\n",
       "      <td>100+</td>\n",
       "      <td>151</td>\n",
       "      <td>blank</td>\n",
       "      <td>186</td>\n",
       "      <td>180-240</td>\n",
       "      <td>1.5</td>\n",
       "      <td>0.9</td>\n",
       "      <td>0.8-0.9</td>\n",
       "      <td>/mnt/data/david/simulated_cells/with_dapi/cust...</td>\n",
       "      <td>train</td>\n",
       "      <td>/mnt/data/david/simulated_cells/with_dapi/cust...</td>\n",
       "      <td>strong</td>\n",
       "    </tr>\n",
       "    <tr>\n",
       "      <th>1437962</th>\n",
       "      <td>random</td>\n",
       "      <td>random</td>\n",
       "      <td>100</td>\n",
       "      <td>100+</td>\n",
       "      <td>151</td>\n",
       "      <td>blank</td>\n",
       "      <td>309</td>\n",
       "      <td>300+</td>\n",
       "      <td>1.5</td>\n",
       "      <td>0.9</td>\n",
       "      <td>0.8-0.9</td>\n",
       "      <td>/mnt/data/david/simulated_cells/with_dapi/cust...</td>\n",
       "      <td>train</td>\n",
       "      <td>/mnt/data/david/simulated_cells/with_dapi/cust...</td>\n",
       "      <td>strong</td>\n",
       "    </tr>\n",
       "    <tr>\n",
       "      <th>1437963</th>\n",
       "      <td>random</td>\n",
       "      <td>random</td>\n",
       "      <td>100</td>\n",
       "      <td>100+</td>\n",
       "      <td>151</td>\n",
       "      <td>blank</td>\n",
       "      <td>97</td>\n",
       "      <td>60-120</td>\n",
       "      <td>1.5</td>\n",
       "      <td>0.9</td>\n",
       "      <td>0.8-0.9</td>\n",
       "      <td>/mnt/data/david/simulated_cells/with_dapi/cust...</td>\n",
       "      <td>train</td>\n",
       "      <td>/mnt/data/david/simulated_cells/with_dapi/cust...</td>\n",
       "      <td>strong</td>\n",
       "    </tr>\n",
       "    <tr>\n",
       "      <th>...</th>\n",
       "      <td>...</td>\n",
       "      <td>...</td>\n",
       "      <td>...</td>\n",
       "      <td>...</td>\n",
       "      <td>...</td>\n",
       "      <td>...</td>\n",
       "      <td>...</td>\n",
       "      <td>...</td>\n",
       "      <td>...</td>\n",
       "      <td>...</td>\n",
       "      <td>...</td>\n",
       "      <td>...</td>\n",
       "      <td>...</td>\n",
       "      <td>...</td>\n",
       "      <td>...</td>\n",
       "    </tr>\n",
       "    <tr>\n",
       "      <th>1627147</th>\n",
       "      <td>random</td>\n",
       "      <td>random</td>\n",
       "      <td>9</td>\n",
       "      <td>0-10</td>\n",
       "      <td>308</td>\n",
       "      <td>blank</td>\n",
       "      <td>154</td>\n",
       "      <td>120-180</td>\n",
       "      <td>1.5</td>\n",
       "      <td>0.5</td>\n",
       "      <td>0.4-0.5</td>\n",
       "      <td>/mnt/data/david/simulated_cells/with_dapi/cust...</td>\n",
       "      <td>train</td>\n",
       "      <td>/mnt/data/david/simulated_cells/with_dapi/cust...</td>\n",
       "      <td>intermediate</td>\n",
       "    </tr>\n",
       "    <tr>\n",
       "      <th>1627148</th>\n",
       "      <td>random</td>\n",
       "      <td>random</td>\n",
       "      <td>9</td>\n",
       "      <td>0-10</td>\n",
       "      <td>308</td>\n",
       "      <td>blank</td>\n",
       "      <td>168</td>\n",
       "      <td>120-180</td>\n",
       "      <td>1.5</td>\n",
       "      <td>0.5</td>\n",
       "      <td>0.4-0.5</td>\n",
       "      <td>/mnt/data/david/simulated_cells/with_dapi/cust...</td>\n",
       "      <td>train</td>\n",
       "      <td>/mnt/data/david/simulated_cells/with_dapi/cust...</td>\n",
       "      <td>intermediate</td>\n",
       "    </tr>\n",
       "    <tr>\n",
       "      <th>1627149</th>\n",
       "      <td>random</td>\n",
       "      <td>random</td>\n",
       "      <td>9</td>\n",
       "      <td>0-10</td>\n",
       "      <td>308</td>\n",
       "      <td>blank</td>\n",
       "      <td>230</td>\n",
       "      <td>180-240</td>\n",
       "      <td>1.5</td>\n",
       "      <td>0.5</td>\n",
       "      <td>0.4-0.5</td>\n",
       "      <td>/mnt/data/david/simulated_cells/with_dapi/cust...</td>\n",
       "      <td>train</td>\n",
       "      <td>/mnt/data/david/simulated_cells/with_dapi/cust...</td>\n",
       "      <td>intermediate</td>\n",
       "    </tr>\n",
       "    <tr>\n",
       "      <th>1627150</th>\n",
       "      <td>random</td>\n",
       "      <td>random</td>\n",
       "      <td>9</td>\n",
       "      <td>0-10</td>\n",
       "      <td>308</td>\n",
       "      <td>blank</td>\n",
       "      <td>281</td>\n",
       "      <td>240-300</td>\n",
       "      <td>1.5</td>\n",
       "      <td>0.5</td>\n",
       "      <td>0.4-0.5</td>\n",
       "      <td>/mnt/data/david/simulated_cells/with_dapi/cust...</td>\n",
       "      <td>val</td>\n",
       "      <td>/mnt/data/david/simulated_cells/with_dapi/cust...</td>\n",
       "      <td>intermediate</td>\n",
       "    </tr>\n",
       "    <tr>\n",
       "      <th>1627151</th>\n",
       "      <td>random</td>\n",
       "      <td>random</td>\n",
       "      <td>9</td>\n",
       "      <td>0-10</td>\n",
       "      <td>308</td>\n",
       "      <td>blank</td>\n",
       "      <td>50</td>\n",
       "      <td>0-60</td>\n",
       "      <td>1.5</td>\n",
       "      <td>0.5</td>\n",
       "      <td>0.4-0.5</td>\n",
       "      <td>/mnt/data/david/simulated_cells/with_dapi/cust...</td>\n",
       "      <td>train</td>\n",
       "      <td>/mnt/data/david/simulated_cells/with_dapi/cust...</td>\n",
       "      <td>intermediate</td>\n",
       "    </tr>\n",
       "  </tbody>\n",
       "</table>\n",
       "<p>189193 rows × 15 columns</p>\n",
       "</div>"
      ],
      "text/plain": [
       "        pattern random_or_pattern  n_spots n_spots_interval cell_id  genes  \\\n",
       "1437959  random            random      100             100+     151  blank   \n",
       "1437960  random            random      100             100+     151  blank   \n",
       "1437961  random            random      100             100+     151  blank   \n",
       "1437962  random            random      100             100+     151  blank   \n",
       "1437963  random            random      100             100+     151  blank   \n",
       "...         ...               ...      ...              ...     ...    ...   \n",
       "1627147  random            random        9             0-10     308  blank   \n",
       "1627148  random            random        9             0-10     308  blank   \n",
       "1627149  random            random        9             0-10     308  blank   \n",
       "1627150  random            random        9             0-10     308  blank   \n",
       "1627151  random            random        9             0-10     308  blank   \n",
       "\n",
       "         rotation rotation_interval  blur  prop prop_interval  \\\n",
       "1437959       138           120-180   1.5   0.9       0.8-0.9   \n",
       "1437960       168           120-180   1.5   0.9       0.8-0.9   \n",
       "1437961       186           180-240   1.5   0.9       0.8-0.9   \n",
       "1437962       309              300+   1.5   0.9       0.8-0.9   \n",
       "1437963        97            60-120   1.5   0.9       0.8-0.9   \n",
       "...           ...               ...   ...   ...           ...   \n",
       "1627147       154           120-180   1.5   0.5       0.4-0.5   \n",
       "1627148       168           120-180   1.5   0.5       0.4-0.5   \n",
       "1627149       230           180-240   1.5   0.5       0.4-0.5   \n",
       "1627150       281           240-300   1.5   0.5       0.4-0.5   \n",
       "1627151        50              0-60   1.5   0.5       0.4-0.5   \n",
       "\n",
       "                                       corresponding_dapis train_or_val  \\\n",
       "1437959  /mnt/data/david/simulated_cells/with_dapi/cust...        train   \n",
       "1437960  /mnt/data/david/simulated_cells/with_dapi/cust...        train   \n",
       "1437961  /mnt/data/david/simulated_cells/with_dapi/cust...        train   \n",
       "1437962  /mnt/data/david/simulated_cells/with_dapi/cust...        train   \n",
       "1437963  /mnt/data/david/simulated_cells/with_dapi/cust...        train   \n",
       "...                                                    ...          ...   \n",
       "1627147  /mnt/data/david/simulated_cells/with_dapi/cust...        train   \n",
       "1627148  /mnt/data/david/simulated_cells/with_dapi/cust...        train   \n",
       "1627149  /mnt/data/david/simulated_cells/with_dapi/cust...        train   \n",
       "1627150  /mnt/data/david/simulated_cells/with_dapi/cust...          val   \n",
       "1627151  /mnt/data/david/simulated_cells/with_dapi/cust...        train   \n",
       "\n",
       "                                      original_image_paths pattern_strength  \n",
       "1437959  /mnt/data/david/simulated_cells/with_dapi/cust...           strong  \n",
       "1437960  /mnt/data/david/simulated_cells/with_dapi/cust...           strong  \n",
       "1437961  /mnt/data/david/simulated_cells/with_dapi/cust...           strong  \n",
       "1437962  /mnt/data/david/simulated_cells/with_dapi/cust...           strong  \n",
       "1437963  /mnt/data/david/simulated_cells/with_dapi/cust...           strong  \n",
       "...                                                    ...              ...  \n",
       "1627147  /mnt/data/david/simulated_cells/with_dapi/cust...     intermediate  \n",
       "1627148  /mnt/data/david/simulated_cells/with_dapi/cust...     intermediate  \n",
       "1627149  /mnt/data/david/simulated_cells/with_dapi/cust...     intermediate  \n",
       "1627150  /mnt/data/david/simulated_cells/with_dapi/cust...     intermediate  \n",
       "1627151  /mnt/data/david/simulated_cells/with_dapi/cust...     intermediate  \n",
       "\n",
       "[189193 rows x 15 columns]"
      ]
     },
     "execution_count": 16,
     "metadata": {},
     "output_type": "execute_result"
    }
   ],
   "source": [
    "adata[adata.obs['pattern']=='random'].obs"
   ]
  },
  {
   "cell_type": "code",
   "execution_count": 47,
   "metadata": {},
   "outputs": [
    {
     "name": "stdout",
     "output_type": "stream",
     "text": [
      "f1 score for 0-10 & strong:  0.882816202188875\n",
      "inverse f1 score for 0-10 & strong:  0.5273505051424411\n"
     ]
    },
    {
     "name": "stdout",
     "output_type": "stream",
     "text": [
      "f1 score for 10-20 & strong:  0.911378009541773\n",
      "inverse f1 score for 10-20 & strong:  0.6860259433962265\n",
      "f1 score for 20-30 & strong:  0.9365355543512365\n",
      "inverse f1 score for 20-30 & strong:  0.7912170404429015\n",
      "f1 score for 30-40 & strong:  0.9480544430815612\n",
      "inverse f1 score for 30-40 & strong:  0.8462043316560927\n",
      "f1 score for 40-50 & strong:  0.9639294620591378\n",
      "inverse f1 score for 40-50 & strong:  0.8998020781791192\n",
      "f1 score for 50-60 & strong:  0.9703899238253262\n",
      "inverse f1 score for 50-60 & strong:  0.9166772783225096\n",
      "f1 score for 70-80 & strong:  0.9766690595836325\n",
      "inverse f1 score for 70-80 & strong:  0.9334130100734164\n",
      "f1 score for 80-90 & strong:  0.9808027403380744\n",
      "inverse f1 score for 80-90 & strong:  0.9451699349185418\n",
      "f1 score for 90-100 & strong:  0.9843268708099293\n",
      "inverse f1 score for 90-100 & strong:  0.9588454523828404\n",
      "f1 score for 100+ & strong:  0.9886345149333112\n",
      "inverse f1 score for 100+ & strong:  0.9704802085432527\n",
      "f1 score for 0-10 & intermediate:  0.8523373052245647\n",
      "inverse f1 score for 0-10 & intermediate:  0.4734433731001798\n",
      "f1 score for 10-20 & intermediate:  0.8141737880731251\n",
      "inverse f1 score for 10-20 & intermediate:  0.5372686343171585\n",
      "f1 score for 20-30 & intermediate:  0.8187886681862585\n",
      "inverse f1 score for 20-30 & intermediate:  0.6024148031721083\n",
      "f1 score for 30-40 & intermediate:  0.8305135807950275\n",
      "inverse f1 score for 30-40 & intermediate:  0.6440440907123114\n",
      "f1 score for 40-50 & intermediate:  0.8438595648623985\n",
      "inverse f1 score for 40-50 & intermediate:  0.6911163895486935\n",
      "f1 score for 50-60 & intermediate:  0.8528462247990511\n",
      "inverse f1 score for 50-60 & intermediate:  0.707369800196528\n",
      "f1 score for 70-80 & intermediate:  0.8528039769825326\n",
      "inverse f1 score for 70-80 & intermediate:  0.7166546503244412\n",
      "f1 score for 80-90 & intermediate:  0.8566884845238293\n",
      "inverse f1 score for 80-90 & intermediate:  0.7218738832396607\n",
      "f1 score for 90-100 & intermediate:  0.8599585755328389\n",
      "inverse f1 score for 90-100 & intermediate:  0.742569393269467\n",
      "f1 score for 100+ & intermediate:  0.8643619731226012\n",
      "inverse f1 score for 100+ & intermediate:  0.7570001521221033\n",
      "f1 score for 0-10 & low:  0.8360297536029753\n",
      "inverse f1 score for 0-10 & low:  0.45096513075965133\n",
      "f1 score for 10-20 & low:  0.7060624516468865\n",
      "inverse f1 score for 10-20 & low:  0.43879443100034576\n",
      "f1 score for 20-30 & low:  0.598416546708084\n",
      "inverse f1 score for 20-30 & low:  0.4430200178637104\n",
      "f1 score for 30-40 & low:  0.4961015262110153\n",
      "inverse f1 score for 30-40 & low:  0.4431714023831348\n",
      "f1 score for 40-50 & low:  0.42719317926856626\n",
      "inverse f1 score for 40-50 & low:  0.4608464267612772\n",
      "f1 score for 50-60 & low:  0.35921308100774285\n",
      "inverse f1 score for 50-60 & low:  0.4408336565351405\n",
      "f1 score for 70-80 & low:  0.3192167915152414\n",
      "inverse f1 score for 70-80 & low:  0.44262726444691836\n",
      "f1 score for 80-90 & low:  0.2714474486684285\n",
      "inverse f1 score for 80-90 & low:  0.43662802122224403\n",
      "f1 score for 90-100 & low:  0.2522475973958872\n",
      "inverse f1 score for 90-100 & low:  0.45520252973949704\n",
      "f1 score for 100+ & low:  0.19744217931716526\n",
      "inverse f1 score for 100+ & low:  0.4553948648805293\n"
     ]
    }
   ],
   "source": [
    "for strength in pattern_strength:\n",
    "    for count in counts:\n",
    "\n",
    "        adata_count = adata[(adata.obs['n_spots_interval']==count)&(((adata.obs['pattern_strength']==strength) & (adata.obs['random_or_pattern']=='pattern'))|(adata.obs['random_or_pattern']=='random'))]\n",
    "        rf_score = models['pattern'].predict(adata_count.obsm[\"latent\"])\n",
    "\n",
    "        print(f\"f1 score for {count} & {strength}: \", f1_score(adata_count.obs[\"random_or_pattern\"], rf_score, pos_label='pattern'))\n",
    "        print(f\"inverse f1 score for {count} & {strength}: \", f1_score(adata_count.obs[\"random_or_pattern\"], rf_score, pos_label='random'))\n",
    "\n",
    "        confusion_matrix = metrics.confusion_matrix(adata_count.obs[\"random_or_pattern\"],rf_score, labels = models['pattern'].classes_)\n",
    "        cm_display = metrics.ConfusionMatrixDisplay(confusion_matrix = confusion_matrix, display_labels = ['Pattern', 'No Pattern']) \n",
    "        cm_display.plot()\n",
    "        plt.savefig(f'images/confusion_matrix/pattern_{strength}_{count}.png')\n",
    "        plt.close()"
   ]
  },
  {
   "cell_type": "code",
   "execution_count": null,
   "metadata": {},
   "outputs": [
    {
     "data": {
      "text/plain": [
       "['100+', '0-10', '10-20', '20-30', '30-40', '40-50', '50-60', '70-80', '80-90', '90-100']\n",
       "Categories (10, object): ['0-10' < '10-20' < '20-30' < '30-40' ... '70-80' < '80-90' < '90-100' < '100+']"
      ]
     },
     "execution_count": 26,
     "metadata": {},
     "output_type": "execute_result"
    }
   ],
   "source": [
    "adata.obs['n_spots_interval'].unique()"
   ]
  },
  {
   "cell_type": "code",
   "execution_count": 33,
   "metadata": {},
   "outputs": [
    {
     "data": {
      "image/png": "[encoded data removed]",
      "text/plain": [
       "<Figure size 432x288 with 1 Axes>"
      ]
     },
     "metadata": {
      "needs_background": "light"
     },
     "output_type": "display_data"
    }
   ],
   "source": [
    "import matplotlib.pyplot as plt\n",
    "\n",
    "# Initialize a dictionary to store the F1 scores\n",
    "pattern_strength = ['strong', 'intermediate', 'low']\n",
    "f1_scores = {strength: [] for strength in pattern_strength}\n",
    "inv_f1_scores = {strength: [] for strength in pattern_strength}\n",
    "counts = ['0-10', '10-20', '20-30', '30-40', '40-50', '50-60', '70-80', '80-90', '90-100', '100+']\n",
    "\n",
    "for strength in pattern_strength:\n",
    "    for count in counts:\n",
    "        adata_count = adata[(adata.obs['n_spots_interval'] == count) & (((adata.obs['pattern_strength'] == strength) & (adata.obs['random_or_pattern'] == 'pattern')) | (adata.obs['random_or_pattern'] == 'random'))]\n",
    "        rf_score = models['pattern'].predict(adata_count.obsm[\"latent\"])\n",
    "        f1 = f1_score(adata_count.obs[\"random_or_pattern\"], rf_score, pos_label='pattern')\n",
    "        inv_f1 = f1_score(adata_count.obs[\"random_or_pattern\"], rf_score, pos_label='random')\n",
    "        f1_scores[strength].append(f1)\n",
    "        inv_f1_scores[strength].append(inv_f1)\n",
    "\n",
    "# Create the plot\n",
    "for strength, scores in f1_scores.items():\n",
    "    plt.plot(counts, scores, label=f'F1 {strength}')\n",
    "for strength, scores in inv_f1_scores.items():\n",
    "    plt.plot(counts, scores, linestyle='--', label=f'Inv F1 {strength}')\n",
    "\n",
    "plt.xlabel('Counts')\n",
    "plt.ylabel('(Inverted) F1 Score')\n",
    "plt.legend(bbox_to_anchor=(1.05, 1), loc='upper left')\n",
    "plt.grid(True) \n",
    "plt.show()"
   ]
  },
  {
   "cell_type": "code",
   "execution_count": null,
   "metadata": {},
   "outputs": [
    {
     "name": "stdout",
     "output_type": "stream",
     "text": [
      "f1 score for 100+ & strong:  0.9886345149333112\n",
      "inverse f1 score for 100+ & strong:  0.9704802085432527\n",
      "f1 score for 0-10 & strong:  0.882816202188875\n",
      "inverse f1 score for 0-10 & strong:  0.5273505051424411\n",
      "f1 score for 10-20 & strong:  0.911378009541773\n",
      "inverse f1 score for 10-20 & strong:  0.6860259433962265\n",
      "f1 score for 20-30 & strong:  0.9365355543512365\n",
      "inverse f1 score for 20-30 & strong:  0.7912170404429015\n",
      "f1 score for 30-40 & strong:  0.9480544430815612\n",
      "inverse f1 score for 30-40 & strong:  0.8462043316560927\n",
      "f1 score for 40-50 & strong:  0.9639294620591378\n",
      "inverse f1 score for 40-50 & strong:  0.8998020781791192\n",
      "f1 score for 50-60 & strong:  0.9703899238253262\n",
      "inverse f1 score for 50-60 & strong:  0.9166772783225096\n",
      "f1 score for 70-80 & strong:  0.9766690595836325\n",
      "inverse f1 score for 70-80 & strong:  0.9334130100734164\n",
      "f1 score for 80-90 & strong:  0.9808027403380744\n",
      "inverse f1 score for 80-90 & strong:  0.9451699349185418\n",
      "f1 score for 90-100 & strong:  0.9843268708099293\n",
      "inverse f1 score for 90-100 & strong:  0.9588454523828404\n",
      "f1 score for 100+ & low:  0.19744217931716526\n",
      "inverse f1 score for 100+ & low:  0.4553948648805293\n",
      "f1 score for 0-10 & low:  0.8360297536029753\n",
      "inverse f1 score for 0-10 & low:  0.45096513075965133\n",
      "f1 score for 10-20 & low:  0.7060624516468865\n",
      "inverse f1 score for 10-20 & low:  0.43879443100034576\n",
      "f1 score for 20-30 & low:  0.598416546708084\n",
      "inverse f1 score for 20-30 & low:  0.4430200178637104\n",
      "f1 score for 30-40 & low:  0.4961015262110153\n",
      "inverse f1 score for 30-40 & low:  0.4431714023831348\n",
      "f1 score for 40-50 & low:  0.42719317926856626\n",
      "inverse f1 score for 40-50 & low:  0.4608464267612772\n",
      "f1 score for 50-60 & low:  0.35921308100774285\n",
      "inverse f1 score for 50-60 & low:  0.4408336565351405\n",
      "f1 score for 70-80 & low:  0.3192167915152414\n",
      "inverse f1 score for 70-80 & low:  0.44262726444691836\n",
      "f1 score for 80-90 & low:  0.2714474486684285\n",
      "inverse f1 score for 80-90 & low:  0.43662802122224403\n",
      "f1 score for 90-100 & low:  0.2522475973958872\n",
      "inverse f1 score for 90-100 & low:  0.45520252973949704\n",
      "f1 score for 100+ & intermediate:  0.8643619731226012\n",
      "inverse f1 score for 100+ & intermediate:  0.7570001521221033\n",
      "f1 score for 0-10 & intermediate:  0.8523373052245647\n",
      "inverse f1 score for 0-10 & intermediate:  0.4734433731001798\n",
      "f1 score for 10-20 & intermediate:  0.8141737880731251\n",
      "inverse f1 score for 10-20 & intermediate:  0.5372686343171585\n",
      "f1 score for 20-30 & intermediate:  0.8187886681862585\n",
      "inverse f1 score for 20-30 & intermediate:  0.6024148031721083\n",
      "f1 score for 30-40 & intermediate:  0.8305135807950275\n",
      "inverse f1 score for 30-40 & intermediate:  0.6440440907123114\n",
      "f1 score for 40-50 & intermediate:  0.8438595648623985\n",
      "inverse f1 score for 40-50 & intermediate:  0.6911163895486935\n",
      "f1 score for 50-60 & intermediate:  0.8528462247990511\n",
      "inverse f1 score for 50-60 & intermediate:  0.707369800196528\n",
      "f1 score for 70-80 & intermediate:  0.8528039769825326\n",
      "inverse f1 score for 70-80 & intermediate:  0.7166546503244412\n",
      "f1 score for 80-90 & intermediate:  0.8566884845238293\n",
      "inverse f1 score for 80-90 & intermediate:  0.7218738832396607\n",
      "f1 score for 90-100 & intermediate:  0.8599585755328389\n",
      "inverse f1 score for 90-100 & intermediate:  0.742569393269467\n"
     ]
    }
   ],
   "source": [
    "f1 = {}\n",
    "inv_f1 = {}\n",
    "for strength in pattern_strength:\n",
    "    for count in counts:\n",
    "\n",
    "        adata_count = adata[(adata.obs['n_spots_interval']==count)&(((adata.obs['pattern_strength']==strength) & (adata.obs['random_or_pattern']=='pattern'))|(adata.obs['random_or_pattern']=='random'))]\n",
    "        rf_score = models['pattern'].predict(adata_count.obsm[\"latent\"])\n",
    "\n",
    "        print(f\"f1 score for {count} & {strength}: \", f1_score(adata_count.obs[\"random_or_pattern\"], rf_score, pos_label='pattern'))\n",
    "        print(f\"inverse f1 score for {count} & {strength}: \", f1_score(adata_count.obs[\"random_or_pattern\"], rf_score, pos_label='random'))\n"
   ]
  },
  {
   "cell_type": "markdown",
   "metadata": {},
   "source": [
    "### Statistics 1 gene n cells"
   ]
  },
  {
   "cell_type": "code",
   "execution_count": 71,
   "metadata": {},
   "outputs": [],
   "source": [
    "pericellular_dict_low = subsetGenes(adata, 'pericellular', pattern_strength = 0.9, count_threshold = 11, high_or_low = 'low')\n",
    "pericellular_dict_high = subsetGenes(adata, 'pericellular', pattern_strength=0.9, count_threshold = 100, high_or_low = 'high')\n",
    "random_dict_low = subsetGenes(adata, 'random', count_threshold = 11, high_or_low = 'low', mixed_counts=False)\n",
    "random_dict_high = subsetGenes(adata, 'random', count_threshold = 100, high_or_low = 'high', mixed_counts=False)\n",
    "pattern_dict_low = subsetGenes(adata, mixed_patterns = True, pattern_strength = 0.9, count_threshold = 11, high_or_low = 'low')\n",
    "pattern_dict_high = subsetGenes(adata, mixed_patterns = True, pattern_strength = 0.9, count_threshold = 100, high_or_low = 'high')"
   ]
  },
  {
   "cell_type": "code",
   "execution_count": 105,
   "metadata": {},
   "outputs": [],
   "source": [
    "rows = []\n",
    "patterns = ['pattern', 'cellEdge', 'foci', 'extranuclear', 'intranuclear', 'nuclearEdge', 'pericellular', 'perinuclear', 'protrusion']\n",
    "gene_id = np.array(range(10))\n",
    "\n",
    "for pattern in patterns:\n",
    "    for i in range(10):\n",
    "        pericellular_low = models.get(pattern).predict_proba(pericellular_dict_low.get(i).obsm[\"latent\"])[:,0]\n",
    "        pericellular_high = models.get(pattern).predict_proba(pericellular_dict_high.get(i).obsm[\"latent\"])[:,0]\n",
    "        random_low = models.get(pattern).predict_proba(random_dict_low.get(i).obsm[\"latent\"])[:,0]\n",
    "        random_high = models.get(pattern).predict_proba(random_dict_high.get(i).obsm[\"latent\"])[:,0]\n",
    "        pattern_low = models.get(pattern).predict_proba(pattern_dict_low.get(i).obsm[\"latent\"])[:,0]\n",
    "        pattern_high = models.get(pattern).predict_proba(pattern_dict_high.get(i).obsm[\"latent\"])[:,0]\n",
    "        for value in pericellular_low:\n",
    "            rows.append({'prob_pattern': value, 'group': 'pericellular_low', 'RF_Classifier': pattern, 'gene_id': i})\n",
    "        for value in pericellular_high: \n",
    "            rows.append({'prob_pattern': value, 'group': 'pericellular_high', 'RF_Classifier': pattern, 'gene_id': i})\n",
    "        for value in random_low:\n",
    "            rows.append({'prob_pattern': value, 'group': 'random_low', 'RF_Classifier': pattern, 'gene_id': i})\n",
    "        for value in random_high:\n",
    "            rows.append({'prob_pattern': value, 'group': 'random_high', 'RF_Classifier': pattern, 'gene_id': i})\n",
    "        for value in pattern_low:\n",
    "            rows.append({'prob_pattern': value, 'group': 'pattern_low', 'RF_Classifier': pattern, 'gene_id': i})\n",
    "        for value in pattern_high:\n",
    "            rows.append({'prob_pattern': value, 'group': 'pattern_high', 'RF_Classifier': pattern, 'gene_id': i})\n",
    "df = pd.DataFrame(rows)"
   ]
  },
  {
   "cell_type": "code",
   "execution_count": 100,
   "metadata": {},
   "outputs": [
    {
     "data": {
      "text/plain": [
       "0.8716908517350158"
      ]
     },
     "execution_count": 100,
     "metadata": {},
     "output_type": "execute_result"
    }
   ],
   "source": [
    "test = df[df['group']=='pattern_low']\n",
    "test = test[test['RF_Classifier']=='pericellular']\n",
    "test['prob_pattern'].mean()"
   ]
  },
  {
   "cell_type": "code",
   "execution_count": 104,
   "metadata": {},
   "outputs": [
    {
     "data": {
      "text/plain": [
       "0.3252483660130719"
      ]
     },
     "execution_count": 104,
     "metadata": {},
     "output_type": "execute_result"
    }
   ],
   "source": [
    "test = df[df['group']=='pericellular']\n",
    "test = test[test['RF_Classifier']=='pericellular']\n",
    "test['prob_pattern'].mean()"
   ]
  },
  {
   "cell_type": "code",
   "execution_count": 107,
   "metadata": {},
   "outputs": [
    {
     "data": {
      "text/plain": [
       "array(['pericellular_low', 'pericellular_high', 'random_low',\n",
       "       'random_high', 'pattern_low', 'pattern_high'], dtype=object)"
      ]
     },
     "execution_count": 107,
     "metadata": {},
     "output_type": "execute_result"
    }
   ],
   "source": [
    "df['group'].unique()"
   ]
  },
  {
   "cell_type": "code",
   "execution_count": 113,
   "metadata": {},
   "outputs": [
    {
     "data": {
      "text/plain": [
       "array([0.9])"
      ]
     },
     "execution_count": 113,
     "metadata": {},
     "output_type": "execute_result"
    }
   ],
   "source": [
    "pericellular_dict_low.get(9).obs['prop'].unique()"
   ]
  },
  {
   "cell_type": "code",
   "execution_count": 62,
   "metadata": {},
   "outputs": [
    {
     "data": {
      "image/png": "[encoded data removed]",
      "text/plain": [
       "<Figure size 432x288 with 1 Axes>"
      ]
     },
     "metadata": {
      "needs_background": "light"
     },
     "output_type": "display_data"
    }
   ],
   "source": [
    "pattern = 'pericellular'\n",
    "pericellular = df[(df['pattern'] == pattern) & (df['group']=='pericellular')]\n",
    "pattern_low = df[(df['pattern'] == pattern) & (df['group']=='pattern_low')]\n",
    "random_low = df[(df['pattern'] == pattern) & (df['group']=='random_low')]\n",
    "\n",
    "plt.hist(pericellular['prob_pattern'], bins=40, alpha=0.5, label='Pericellular', density=True)\n",
    "plt.hist(pattern_low['prob_pattern'], bins=40, alpha=0.5, label='Mixed Patterns: Low Counts', density=True)\n",
    "#plt.hist(random_low['prob_pattern'], bins=40, alpha=0.5, label='Random: low counts', density=True)\n",
    "\n",
    "plt.title(f\"RF {pattern}, low counts\")\n",
    "plt.legend(loc='upper right')\n",
    "plt.show()"
   ]
  },
  {
   "cell_type": "code",
   "execution_count": 108,
   "metadata": {},
   "outputs": [
    {
     "data": {
      "image/png": "[encoded data removed]",
      "text/plain": [
       "<Figure size 432x288 with 1 Axes>"
      ]
     },
     "metadata": {
      "needs_background": "light"
     },
     "output_type": "display_data"
    }
   ],
   "source": [
    "pattern = df[(df['RF_Classifier'] == 'pericellular') & (df['group']=='pericellular_low')]\n",
    "plt.hist(pattern['prob_pattern'], bins=40, alpha=0.5, label='Pericellular: low counts', density=True)\n",
    "\n",
    "plt.title(\"Pericellular pattern, Low count - High Pattern Strength\")\n",
    "plt.legend(loc='upper left')\n",
    "plt.xlabel(\"Probability for Pericellular pattern (versus other patterns)\")\n",
    "plt.ylabel(\"Relative frequency\")\n",
    "plt.show()"
   ]
  },
  {
   "cell_type": "markdown",
   "metadata": {},
   "source": [
    "## see if I get the old graph if I go with the old data through this RF"
   ]
  },
  {
   "cell_type": "code",
   "execution_count": 147,
   "metadata": {},
   "outputs": [],
   "source": [
    "adata_all = sc.read_h5ad(\"/media/gambino/students_workdir/nynke/data/all_spots_simulated_embeddings_adata.h5ad\")"
   ]
  },
  {
   "cell_type": "code",
   "execution_count": 148,
   "metadata": {},
   "outputs": [],
   "source": [
    "# Add an extra column to the adata.obs dataframe that contains the pattern strength, given that protrusion has different pattern strength levels than the other patterns.\n",
    "conditions = [\n",
    "    (adata_all.obs['prop'] == 0.9) | ((adata_all.obs['prop'] == 0.4) & (adata_all.obs['pattern'] == 'protrusion')),\n",
    "    (adata_all.obs['prop'] == 0.5) | ((adata_all.obs['prop'] == 0.2) & (adata_all.obs['pattern'] == 'protrusion')),\n",
    "    (adata_all.obs['prop'] == 0.1) | ((adata_all.obs['prop'] == 0.0) & (adata_all.obs['pattern'] == 'protrusion'))\n",
    "]\n",
    "\n",
    "choices = ['strong', 'intermediate', 'low']\n",
    "\n",
    "adata_all.obs['pattern_strength'] = np.select(conditions, choices, default='unknown')"
   ]
  },
  {
   "cell_type": "code",
   "execution_count": 149,
   "metadata": {},
   "outputs": [],
   "source": [
    "pericellular_dict_low_all = subsetGenes(adata_all, 'pericellular', pattern_strength = 0.9, count_threshold = 11, high_or_low = 'low')"
   ]
  },
  {
   "cell_type": "code",
   "execution_count": 150,
   "metadata": {},
   "outputs": [],
   "source": [
    "rows = []\n",
    "patterns = ['pattern', 'cellEdge', 'foci', 'extranuclear', 'intranuclear', 'nuclearEdge', 'pericellular', 'perinuclear', 'protrusion']\n",
    "gene_id = np.array(range(10))\n",
    "\n",
    "for pattern in patterns:\n",
    "    for i in range(10):\n",
    "        pericellular_low_all = models.get(pattern).predict_proba(pericellular_dict_low_all.get(i).obsm[\"latent\"])[:,0]\n",
    "        for value in pericellular_low:\n",
    "            rows.append({'prob_pattern': value, 'group': 'pericellular_low', 'RF_Classifier': pattern, 'gene_id': i})\n",
    "df_all_spots_new_model = pd.DataFrame(rows)"
   ]
  },
  {
   "cell_type": "code",
   "execution_count": 162,
   "metadata": {},
   "outputs": [
    {
     "data": {
      "image/png": "[encoded data removed]",
      "text/plain": [
       "<Figure size 432x288 with 1 Axes>"
      ]
     },
     "metadata": {
      "needs_background": "light"
     },
     "output_type": "display_data"
    }
   ],
   "source": [
    "pattern = df_all_spots_new_model[(df_all_spots_new_model['RF_Classifier'] == 'pericellular') & (df_all_spots_new_model['group']=='pericellular_low')]\n",
    "plt.hist(pattern['prob_pattern'], bins=len(pattern['prob_pattern'].unique()), alpha=0.5, label='Pericellular: low counts', density=True)\n",
    "\n",
    "plt.title(\"Pericellular new RF, anndata: all spots\")\n",
    "plt.legend(loc='upper left')\n",
    "plt.xlabel(\"Probability for Pericellular pattern (versus other patterns)\")\n",
    "plt.ylabel(\"Relative frequency\")\n",
    "plt.show()"
   ]
  },
  {
   "cell_type": "markdown",
   "metadata": {},
   "source": [
    "### Old custom panel"
   ]
  },
  {
   "cell_type": "code",
   "execution_count": 155,
   "metadata": {},
   "outputs": [],
   "source": [
    "adata_mixed_cellID = sc.read_h5ad(\"/media/gambino/students_workdir/nynke/data/custom_nynke_panel_simulated_embeddings_adata.h5ad\")"
   ]
  },
  {
   "cell_type": "code",
   "execution_count": 156,
   "metadata": {},
   "outputs": [],
   "source": [
    "# Add an extra column to the adata.obs dataframe that contains the pattern strength, given that protrusion has different pattern strength levels than the other patterns.\n",
    "conditions = [\n",
    "    (adata_mixed_cellID.obs['prop'] == 0.9) | ((adata_mixed_cellID.obs['prop'] == 0.4) & (adata_mixed_cellID.obs['pattern'] == 'protrusion')),\n",
    "    (adata_mixed_cellID.obs['prop'] == 0.5) | ((adata_mixed_cellID.obs['prop'] == 0.2) & (adata_mixed_cellID.obs['pattern'] == 'protrusion')),\n",
    "    (adata_mixed_cellID.obs['prop'] == 0.1) | ((adata_mixed_cellID.obs['prop'] == 0.0) & (adata_mixed_cellID.obs['pattern'] == 'protrusion'))\n",
    "]\n",
    "\n",
    "choices = ['strong', 'intermediate', 'low']\n",
    "\n",
    "adata_mixed_cellID.obs['pattern_strength'] = np.select(conditions, choices, default='unknown')"
   ]
  },
  {
   "cell_type": "code",
   "execution_count": 157,
   "metadata": {},
   "outputs": [],
   "source": [
    "pericellular_dict_mixed_cellID = subsetGenes(adata_mixed_cellID, 'pericellular', pattern_strength = 0.9, count_threshold = 11, high_or_low = 'low')"
   ]
  },
  {
   "cell_type": "code",
   "execution_count": 158,
   "metadata": {},
   "outputs": [],
   "source": [
    "rows = []\n",
    "patterns = ['pattern', 'cellEdge', 'foci', 'extranuclear', 'intranuclear', 'nuclearEdge', 'pericellular', 'perinuclear', 'protrusion']\n",
    "gene_id = np.array(range(10))\n",
    "\n",
    "for pattern in patterns:\n",
    "    for i in range(10):\n",
    "        pericellular_mixed_cellID = models.get(pattern).predict_proba(pericellular_dict_mixed_cellID.get(i).obsm[\"latent\"])[:,0]\n",
    "        for value in pericellular_mixed_cellID:\n",
    "            rows.append({'prob_pattern': value, 'group': 'pericellular_low', 'RF_Classifier': pattern, 'gene_id': i})\n",
    "df_test2 = pd.DataFrame(rows)"
   ]
  },
  {
   "cell_type": "code",
   "execution_count": 163,
   "metadata": {},
   "outputs": [
    {
     "data": {
      "image/png": "[encoded data removed]",
      "text/plain": [
       "<Figure size 432x288 with 1 Axes>"
      ]
     },
     "metadata": {
      "needs_background": "light"
     },
     "output_type": "display_data"
    }
   ],
   "source": [
    "pattern = df_test2[(df_test2['RF_Classifier'] == 'pericellular') & (df_test2['group']=='pericellular_low')]\n",
    "plt.hist(pattern['prob_pattern'], bins=len(pattern['prob_pattern'].unique()), alpha=0.5, label='Pericellular: low counts', density=True)\n",
    "\n",
    "plt.title(\"Pericellular new RF, anndata: custom old mixed cellID\")\n",
    "plt.legend(loc='upper left')\n",
    "plt.xlabel(\"Probability for Pericellular pattern (versus other patterns)\")\n",
    "plt.ylabel(\"Relative frequency\")\n",
    "plt.show()"
   ]
  },
  {
   "cell_type": "markdown",
   "metadata": {},
   "source": [
    "## Reproducing new data"
   ]
  },
  {
   "cell_type": "code",
   "execution_count": 164,
   "metadata": {},
   "outputs": [],
   "source": [
    "adata = sc.read_h5ad(\"/media/gambino/students_workdir/nynke/new_model_with_cell_id_left_out_custom_nynke_panel_simulated_embeddings_adata.h5ad\")"
   ]
  },
  {
   "cell_type": "code",
   "execution_count": 165,
   "metadata": {},
   "outputs": [],
   "source": [
    "# Add an extra column to the adata.obs dataframe that contains the pattern strength, given that protrusion has different pattern strength levels than the other patterns.\n",
    "conditions = [\n",
    "    (adata.obs['prop'] == 0.9) | ((adata.obs['prop'] == 0.4) & (adata.obs['pattern'] == 'protrusion')),\n",
    "    (adata.obs['prop'] == 0.5) | ((adata.obs['prop'] == 0.2) & (adata.obs['pattern'] == 'protrusion')),\n",
    "    (adata.obs['prop'] == 0.1) | ((adata.obs['prop'] == 0.0) & (adata.obs['pattern'] == 'protrusion'))\n",
    "]\n",
    "\n",
    "choices = ['strong', 'intermediate', 'low']\n",
    "\n",
    "adata.obs['pattern_strength'] = np.select(conditions, choices, default='unknown')"
   ]
  },
  {
   "cell_type": "code",
   "execution_count": 166,
   "metadata": {},
   "outputs": [],
   "source": [
    "pericellular_dict_new = subsetGenes(adata, 'pericellular', pattern_strength = 0.9, count_threshold = 11, high_or_low = 'low')"
   ]
  },
  {
   "cell_type": "code",
   "execution_count": 167,
   "metadata": {},
   "outputs": [],
   "source": [
    "rows = []\n",
    "patterns = ['pattern', 'cellEdge', 'foci', 'extranuclear', 'intranuclear', 'nuclearEdge', 'pericellular', 'perinuclear', 'protrusion']\n",
    "gene_id = np.array(range(10))\n",
    "\n",
    "for pattern in patterns:\n",
    "    for i in range(10):\n",
    "        pericellular_new = models.get(pattern).predict_proba(pericellular_dict_new.get(i).obsm[\"latent\"])[:,0]\n",
    "        for value in pericellular_new:\n",
    "            rows.append({'prob_pattern': value, 'group': 'pericellular_low', 'RF_Classifier': pattern, 'gene_id': i})\n",
    "df_new = pd.DataFrame(rows)"
   ]
  },
  {
   "cell_type": "code",
   "execution_count": 178,
   "metadata": {},
   "outputs": [
    {
     "data": {
      "image/png": "[encoded data removed]",
      "text/plain": [
       "<Figure size 432x288 with 1 Axes>"
      ]
     },
     "metadata": {
      "needs_background": "light"
     },
     "output_type": "display_data"
    }
   ],
   "source": [
    "pattern = df_new[(df_new['RF_Classifier'] == 'pericellular') & (df_new['group']=='pericellular_low')]\n",
    "plt.hist(pattern['prob_pattern'], bins=40, alpha=0.5, label='Pericellular: low counts', density=True)\n",
    "\n",
    "plt.title(\"Pericellular new RF, new custom panel with split cellID\")\n",
    "plt.legend(loc='upper right')\n",
    "plt.xlabel(\"Probability for Pericellular pattern (versus other patterns)\")\n",
    "plt.ylabel(\"Relative frequency\")\n",
    "plt.show()"
   ]
  },
  {
   "cell_type": "markdown",
   "metadata": {},
   "source": [
    "## Test old model see what comes out"
   ]
  },
  {
   "cell_type": "code",
   "execution_count": 143,
   "metadata": {},
   "outputs": [],
   "source": [
    "import pickle\n",
    "\n",
    "patterns = ['pericellular']\n",
    "\n",
    "for pattern in patterns:\n",
    "    # Specify the path where the model is saved\n",
    "    path = f\"temp_objects/rf_{pattern}.pkl\"\n",
    "\n",
    "    # Open the file in read-binary mode and load the model\n",
    "    with open(path, 'rb') as p:\n",
    "        peri_model = pickle.load(p)"
   ]
  },
  {
   "cell_type": "code",
   "execution_count": 169,
   "metadata": {},
   "outputs": [],
   "source": [
    "rows = []\n",
    "gene_id = np.array(range(10))\n",
    "\n",
    "\n",
    "for i in range(10):\n",
    "    all_spots_old_rf = peri_model.predict_proba(pericellular_dict_low_all.get(i).obsm[\"latent\"])[:,0]\n",
    "    for value in all_spots_old_rf:\n",
    "        rows.append({'prob_pattern': value, 'group': 'pericellular_low', 'RF_Classifier': 'pericellular', 'gene_id': i})\n",
    "df_all_spots_old_model = pd.DataFrame(rows)"
   ]
  },
  {
   "cell_type": "code",
   "execution_count": 182,
   "metadata": {},
   "outputs": [
    {
     "data": {
      "image/png": "[encoded data removed]",
      "text/plain": [
       "<Figure size 432x288 with 1 Axes>"
      ]
     },
     "metadata": {
      "needs_background": "light"
     },
     "output_type": "display_data"
    }
   ],
   "source": [
    "pattern = df_all_spots_old_model[(df_all_spots_old_model['RF_Classifier'] == 'pericellular') & (df_all_spots_old_model['group']=='pericellular_low')]\n",
    "plt.hist(pattern['prob_pattern'], bins=50, alpha=0.5, label='Pericellular: low counts', density=True)\n",
    "\n",
    "plt.title(\"Pericellular old RF, anndata: all spots\")\n",
    "plt.legend(loc='upper right')\n",
    "plt.xlabel(\"Probability for Pericellular pattern (versus other patterns)\")\n",
    "plt.ylabel(\"Relative frequency\")\n",
    "plt.show()"
   ]
  },
  {
   "cell_type": "code",
   "execution_count": 170,
   "metadata": {},
   "outputs": [],
   "source": [
    "rows = []\n",
    "gene_id = np.array(range(10))\n",
    "\n",
    "\n",
    "for i in range(10):\n",
    "    mixed_cellID_old_rf = peri_model.predict_proba(pericellular_dict_mixed_cellID.get(i).obsm[\"latent\"])[:,0]\n",
    "    for value in mixed_cellID_old_rf:\n",
    "        rows.append({'prob_pattern': value, 'group': 'pericellular_low', 'RF_Classifier': 'pericellular', 'gene_id': i})\n",
    "df_mixed_cellID_new_model = pd.DataFrame(rows)"
   ]
  },
  {
   "cell_type": "code",
   "execution_count": 174,
   "metadata": {},
   "outputs": [
    {
     "data": {
      "image/png": "[encoded data removed]",
      "text/plain": [
       "<Figure size 432x288 with 1 Axes>"
      ]
     },
     "metadata": {
      "needs_background": "light"
     },
     "output_type": "display_data"
    }
   ],
   "source": [
    "pattern = df_mixed_cellID_new_model[(df_mixed_cellID_new_model['RF_Classifier'] == 'pericellular') & (df_mixed_cellID_new_model['group']=='pericellular_low')]\n",
    "plt.hist(pattern['prob_pattern'], bins=40, alpha=0.5, label='Pericellular: low counts', density=True)\n",
    "\n",
    "plt.title(\"Pericellular old RF, anndata: custom old mixed cellID\")\n",
    "plt.legend(loc='upper left')\n",
    "plt.xlabel(\"Probability for Pericellular pattern (versus other patterns)\")\n",
    "plt.ylabel(\"Relative frequency\")\n",
    "plt.show()"
   ]
  },
  {
   "cell_type": "code",
   "execution_count": 171,
   "metadata": {},
   "outputs": [],
   "source": [
    "rows = []\n",
    "gene_id = np.array(range(10))\n",
    "\n",
    "\n",
    "for i in range(10):\n",
    "    split_cellID_old_rf = peri_model.predict_proba(pericellular_dict_new.get(i).obsm[\"latent\"])[:,0]\n",
    "    for value in split_cellID_old_rf:\n",
    "        rows.append({'prob_pattern': value, 'group': 'pericellular_low', 'RF_Classifier': 'pericellular', 'gene_id': i})\n",
    "df_split_cellID_new_model = pd.DataFrame(rows)"
   ]
  },
  {
   "cell_type": "code",
   "execution_count": 183,
   "metadata": {},
   "outputs": [
    {
     "data": {
      "image/png": "[encoded data removed]",
      "text/plain": [
       "<Figure size 432x288 with 1 Axes>"
      ]
     },
     "metadata": {
      "needs_background": "light"
     },
     "output_type": "display_data"
    }
   ],
   "source": [
    "pattern = df_split_cellID_new_model[(df_split_cellID_new_model['RF_Classifier'] == 'pericellular') & (df_split_cellID_new_model['group']=='pericellular_low')]\n",
    "plt.hist(pattern['prob_pattern'], bins=len(pattern['prob_pattern'].unique()), alpha=0.5, label='Pericellular: low counts', density=True)\n",
    "\n",
    "plt.title(\"Pericellular old RF, new custom panel with split cellID\")\n",
    "plt.legend(loc='upper right')\n",
    "plt.xlabel(\"Probability for Pericellular pattern (versus other patterns)\")\n",
    "plt.ylabel(\"Relative frequency\")\n",
    "plt.show()"
   ]
  },
  {
   "cell_type": "markdown",
   "metadata": {},
   "source": [
    "## Train pericellular binary RF including random to see if it is a bit more robust"
   ]
  },
  {
   "cell_type": "code",
   "execution_count": 184,
   "metadata": {},
   "outputs": [
    {
     "data": {
      "text/plain": [
       "['cell-edge', 'extranuclear', 'foci', 'intranuclear', 'nuclear-edge', 'pericellular', 'perinuclear', 'random', 'protrusion']\n",
       "Categories (9, object): ['cell-edge', 'extranuclear', 'foci', 'intranuclear', ..., 'pericellular', 'perinuclear', 'protrusion', 'random']"
      ]
     },
     "execution_count": 184,
     "metadata": {},
     "output_type": "execute_result"
    }
   ],
   "source": [
    "adata_train.obs['pattern'].unique()"
   ]
  },
  {
   "cell_type": "code",
   "execution_count": 185,
   "metadata": {},
   "outputs": [
    {
     "name": "stderr",
     "output_type": "stream",
     "text": [
      "<ipython-input-185-c1f34b7ebd3f>:1: ImplicitModificationWarning: Trying to modify attribute `.obs` of view, initializing view as actual.\n",
      "  adata_train.obs[\"pericellular\"] = np.where(adata_train.obs[\"pattern\"] == \"pericellular\", \"pericellular\", \"other\")\n",
      "<ipython-input-185-c1f34b7ebd3f>:2: ImplicitModificationWarning: Trying to modify attribute `.obs` of view, initializing view as actual.\n",
      "  adata_test.obs[\"pericellular\"] = np.where(adata_test.obs[\"pattern\"] == \"pericellular\", \"pericellular\", \"other\")\n"
     ]
    }
   ],
   "source": [
    "adata_train.obs[\"pericellular\"] = np.where(adata_train.obs[\"pattern\"] == \"pericellular\", \"pericellular\", \"other\")\n",
    "adata_test.obs[\"pericellular\"] = np.where(adata_test.obs[\"pattern\"] == \"pericellular\", \"pericellular\", \"other\")"
   ]
  },
  {
   "cell_type": "code",
   "execution_count": 187,
   "metadata": {},
   "outputs": [
    {
     "name": "stdout",
     "output_type": "stream",
     "text": [
      "f1 score:  0.9846105404022514\n"
     ]
    },
    {
     "ename": "NameError",
     "evalue": "name 'adata_test_pattern' is not defined",
     "output_type": "error",
     "traceback": [
      "\u001b[0;31m---------------------------------------------------------------------------\u001b[0m",
      "\u001b[0;31mNameError\u001b[0m                                 Traceback (most recent call last)",
      "Cell \u001b[0;32mIn [187], line 9\u001b[0m\n\u001b[1;32m      6\u001b[0m test_pericellular \u001b[38;5;241m=\u001b[39m rf_pericellular\u001b[38;5;241m.\u001b[39mpredict(adata_test\u001b[38;5;241m.\u001b[39mobsm[\u001b[38;5;124m\"\u001b[39m\u001b[38;5;124mlatent\u001b[39m\u001b[38;5;124m\"\u001b[39m])\n\u001b[1;32m      8\u001b[0m \u001b[38;5;28mprint\u001b[39m(\u001b[38;5;124m\"\u001b[39m\u001b[38;5;124mf1 score: \u001b[39m\u001b[38;5;124m\"\u001b[39m, f1_score(adata_test\u001b[38;5;241m.\u001b[39mobs[\u001b[38;5;124m\"\u001b[39m\u001b[38;5;124mpericellular\u001b[39m\u001b[38;5;124m\"\u001b[39m], test_pericellular, pos_label\u001b[38;5;241m=\u001b[39m\u001b[38;5;124m'\u001b[39m\u001b[38;5;124mpericellular\u001b[39m\u001b[38;5;124m'\u001b[39m))\n\u001b[0;32m----> 9\u001b[0m \u001b[38;5;28mprint\u001b[39m(\u001b[38;5;124m\"\u001b[39m\u001b[38;5;124minverted f1 score: \u001b[39m\u001b[38;5;124m\"\u001b[39m, f1_score(\u001b[43madata_test_pattern\u001b[49m\u001b[38;5;241m.\u001b[39mobs[\u001b[38;5;124m\"\u001b[39m\u001b[38;5;124mpericellular\u001b[39m\u001b[38;5;124m\"\u001b[39m], test_pericellular, pos_label\u001b[38;5;241m=\u001b[39m\u001b[38;5;124m'\u001b[39m\u001b[38;5;124mother\u001b[39m\u001b[38;5;124m'\u001b[39m))\n\u001b[1;32m     11\u001b[0m confusion_matrix \u001b[38;5;241m=\u001b[39m metrics\u001b[38;5;241m.\u001b[39mconfusion_matrix(adata_test_pattern\u001b[38;5;241m.\u001b[39mobs[\u001b[38;5;124m\"\u001b[39m\u001b[38;5;124mpericellular\u001b[39m\u001b[38;5;124m\"\u001b[39m], test_pericellular, labels \u001b[38;5;241m=\u001b[39m rf_pericellular\u001b[38;5;241m.\u001b[39mclasses_)\n\u001b[1;32m     12\u001b[0m cm_display \u001b[38;5;241m=\u001b[39m metrics\u001b[38;5;241m.\u001b[39mConfusionMatrixDisplay(confusion_matrix \u001b[38;5;241m=\u001b[39m confusion_matrix, display_labels \u001b[38;5;241m=\u001b[39m rf_pericellular\u001b[38;5;241m.\u001b[39mclasses_) \n",
      "\u001b[0;31mNameError\u001b[0m: name 'adata_test_pattern' is not defined"
     ]
    }
   ],
   "source": [
    " # create random forest classifier INCLUDING random\n",
    "rf_pericellular = RandomForestClassifier(n_estimators=150, random_state=seed, max_features=4, bootstrap=True, oob_score=False)\n",
    "rf_pericellular.fit(adata_train.obsm[\"latent\"], adata_train.obs[\"pericellular\"]) \n",
    "    \n",
    "#predict label\n",
    "test_pericellular = rf_pericellular.predict(adata_test.obsm[\"latent\"])\n",
    "\n",
    "print(\"f1 score: \", f1_score(adata_test.obs[\"pericellular\"], test_pericellular, pos_label='pericellular'))\n",
    "print(\"inverted f1 score: \", f1_score(adata_test_pattern.obs[\"pericellular\"], test_pericellular, pos_label='other'))\n",
    "\n",
    "confusion_matrix = metrics.confusion_matrix(adata_test_pattern.obs[\"pericellular\"], test_pericellular, labels = rf_pericellular.classes_)\n",
    "cm_display = metrics.ConfusionMatrixDisplay(confusion_matrix = confusion_matrix, display_labels = rf_pericellular.classes_) \n",
    "cm_display.plot()\n",
    "plt.show()"
   ]
  },
  {
   "cell_type": "code",
   "execution_count": 188,
   "metadata": {},
   "outputs": [
    {
     "name": "stdout",
     "output_type": "stream",
     "text": [
      "f1 score:  0.9846105404022514\n"
     ]
    }
   ],
   "source": [
    "print(\"f1 score: \", f1_score(adata_test.obs[\"pericellular\"], test_pericellular, pos_label='pericellular'))"
   ]
  },
  {
   "cell_type": "code",
   "execution_count": 189,
   "metadata": {},
   "outputs": [
    {
     "name": "stdout",
     "output_type": "stream",
     "text": [
      "inverted f1 score:  0.9979861865790408\n"
     ]
    }
   ],
   "source": [
    "print(\"inverted f1 score: \", f1_score(adata_test.obs[\"pericellular\"], test_pericellular, pos_label='other'))"
   ]
  },
  {
   "cell_type": "code",
   "execution_count": 190,
   "metadata": {},
   "outputs": [
    {
     "data": {
      "image/png": "[encoded data removed]",
      "text/plain": [
       "<Figure size 432x288 with 2 Axes>"
      ]
     },
     "metadata": {
      "needs_background": "light"
     },
     "output_type": "display_data"
    }
   ],
   "source": [
    "confusion_matrix = metrics.confusion_matrix(adata_test.obs[\"pericellular\"], test_pericellular, labels = rf_pericellular.classes_)\n",
    "cm_display = metrics.ConfusionMatrixDisplay(confusion_matrix = confusion_matrix, display_labels = rf_pericellular.classes_) \n",
    "cm_display.plot()\n",
    "plt.show()"
   ]
  },
  {
   "cell_type": "code",
   "execution_count": 216,
   "metadata": {},
   "outputs": [],
   "source": [
    "import pickle\n",
    "\n",
    "path = f\"temp_objects/incl_random/rf_pericellular.pkl\"\n",
    "\n",
    "# Open the file in write-binary mode and dump the object\n",
    "with open(path, 'wb') as f:\n",
    "    pickle.dump(rf_pericellular, f)"
   ]
  },
  {
   "cell_type": "code",
   "execution_count": 191,
   "metadata": {},
   "outputs": [],
   "source": [
    "rows = []\n",
    "gene_id = np.array(range(10))\n",
    "\n",
    "\n",
    "for i in range(10):\n",
    "    all_spots_random_rf = rf_pericellular.predict_proba(pericellular_dict_low_all.get(i).obsm[\"latent\"])[:,0]\n",
    "    for value in all_spots_random_rf:\n",
    "        rows.append({'prob_pattern': value, 'group': 'pericellular_low', 'RF_Classifier': 'pericellular', 'gene_id': i})\n",
    "df_all_spots_random_model = pd.DataFrame(rows)"
   ]
  },
  {
   "cell_type": "code",
   "execution_count": 192,
   "metadata": {},
   "outputs": [
    {
     "data": {
      "image/png": "[encoded data removed]",
      "text/plain": [
       "<Figure size 432x288 with 1 Axes>"
      ]
     },
     "metadata": {
      "needs_background": "light"
     },
     "output_type": "display_data"
    }
   ],
   "source": [
    "pattern = df_all_spots_random_model[(df_all_spots_random_model['RF_Classifier'] == 'pericellular') & (df_all_spots_random_model['group']=='pericellular_low')]\n",
    "plt.hist(pattern['prob_pattern'], bins=len(pattern['prob_pattern'].unique()), alpha=0.5, label='Pericellular: low counts', density=True)\n",
    "\n",
    "plt.title(\"Pericellular random RF, anndata: all spots\")\n",
    "plt.legend(loc='upper right')\n",
    "plt.xlabel(\"Probability for Pericellular pattern (versus other patterns)\")\n",
    "plt.ylabel(\"Relative frequency\")\n",
    "plt.show()"
   ]
  },
  {
   "cell_type": "code",
   "execution_count": 193,
   "metadata": {},
   "outputs": [],
   "source": [
    "rows = []\n",
    "gene_id = np.array(range(10))\n",
    "\n",
    "\n",
    "for i in range(10):\n",
    "    mixed_cellID_random_rf = rf_pericellular.predict_proba(pericellular_dict_mixed_cellID.get(i).obsm[\"latent\"])[:,0]\n",
    "    for value in mixed_cellID_random_rf:\n",
    "        rows.append({'prob_pattern': value, 'group': 'pericellular_low', 'RF_Classifier': 'pericellular', 'gene_id': i})\n",
    "df_mixed_cellID_random_model = pd.DataFrame(rows)"
   ]
  },
  {
   "cell_type": "code",
   "execution_count": 194,
   "metadata": {},
   "outputs": [
    {
     "data": {
      "image/png": "[encoded data removed]",
      "text/plain": [
       "<Figure size 432x288 with 1 Axes>"
      ]
     },
     "metadata": {
      "needs_background": "light"
     },
     "output_type": "display_data"
    }
   ],
   "source": [
    "pattern = df_mixed_cellID_random_model[(df_mixed_cellID_random_model['RF_Classifier'] == 'pericellular') & (df_mixed_cellID_random_model['group']=='pericellular_low')]\n",
    "plt.hist(pattern['prob_pattern'], bins=len(pattern['prob_pattern'].unique()), alpha=0.5, label='Pericellular: low counts', density=True)\n",
    "\n",
    "plt.title(\"Pericellular random RF, anndata: custom old mixed cellID\")\n",
    "plt.legend(loc='upper left')\n",
    "plt.xlabel(\"Probability for Pericellular pattern (versus other patterns)\")\n",
    "plt.ylabel(\"Relative frequency\")\n",
    "plt.show()"
   ]
  },
  {
   "cell_type": "code",
   "execution_count": 195,
   "metadata": {},
   "outputs": [],
   "source": [
    "rows = []\n",
    "gene_id = np.array(range(10))\n",
    "\n",
    "\n",
    "for i in range(10):\n",
    "    split_cellID_random_rf = rf_pericellular.predict_proba(pericellular_dict_new.get(i).obsm[\"latent\"])[:,0]\n",
    "    for value in split_cellID_random_rf:\n",
    "        rows.append({'prob_pattern': value, 'group': 'pericellular_low', 'RF_Classifier': 'pericellular', 'gene_id': i})\n",
    "df_split_cellID_random_model = pd.DataFrame(rows)"
   ]
  },
  {
   "cell_type": "code",
   "execution_count": 204,
   "metadata": {},
   "outputs": [
    {
     "data": {
      "text/plain": [
       "142"
      ]
     },
     "execution_count": 204,
     "metadata": {},
     "output_type": "execute_result"
    }
   ],
   "source": [
    "len(pattern['prob_pattern'].unique())"
   ]
  },
  {
   "cell_type": "code",
   "execution_count": 215,
   "metadata": {},
   "outputs": [
    {
     "data": {
      "image/png": "[encoded data removed]",
      "text/plain": [
       "<Figure size 432x288 with 1 Axes>"
      ]
     },
     "metadata": {
      "needs_background": "light"
     },
     "output_type": "display_data"
    }
   ],
   "source": [
    "pattern = df_split_cellID_random_model[(df_split_cellID_random_model['RF_Classifier'] == 'pericellular') & (df_split_cellID_random_model['group']=='pericellular_low')]\n",
    "plt.hist(pattern['prob_pattern'], bins=72, alpha=0.5, label='Pericellular: low counts', density=True)\n",
    "\n",
    "plt.title(\"Pericellular random RF, new custom panel with split cellID\")\n",
    "plt.legend(loc='upper right')\n",
    "plt.xlabel(\"Probability for Pericellular pattern (versus other patterns)\")\n",
    "plt.ylabel(\"Relative frequency\")\n",
    "plt.show()"
   ]
  },
  {
   "cell_type": "markdown",
   "metadata": {},
   "source": [
    "# K - nearest neighbours"
   ]
  },
  {
   "cell_type": "markdown",
   "metadata": {},
   "source": [
    "Choice of k depends on the input data --> more outliers or noise performs better with a larger k (due to smoothing)\n",
    "\n",
    "Recommended to have an odd number of k to avoid ties in classification. Use cross-validation to choose optimal k for the dataset.\n",
    "\n",
    "Rule of thumb: choose a k close to the sqrt(datapoints), aka sqrt(176162)~419"
   ]
  },
  {
   "cell_type": "markdown",
   "metadata": {},
   "source": [
    "Hyperparameter grid choice. Rule of thumb is that the sqrt(N) will work, and to use odd numbers. Therefore use sqrt as a center and 5 values above and below it. Given that 469 is a relatively large number, will first explore a larger space (i.e. 50 interval in between)."
   ]
  },
  {
   "cell_type": "markdown",
   "metadata": {},
   "source": [
    "Based on [caching nearest neighbors - scikit-learn tutorial](https://scikit-learn.org/stable/auto_examples/neighbors/plot_caching_nearest_neighbors.html#sphx-glr-auto-examples-neighbors-plot-caching-nearest-neighbors-py) "
   ]
  },
  {
   "cell_type": "markdown",
   "metadata": {},
   "source": [
    "### Non-normalized KNN"
   ]
  },
  {
   "cell_type": "code",
   "execution_count": 10,
   "metadata": {},
   "outputs": [
    {
     "name": "stdout",
     "output_type": "stream",
     "text": [
      "Fitting 5 folds for each of 13 candidates, totalling 65 fits\n"
     ]
    },
    {
     "name": "stderr",
     "output_type": "stream",
     "text": [
      "/media/gambino/students_workdir/nynke/miniconda3/envs/blurry/lib/python3.9/site-packages/sklearn/pipeline.py:336: UserWarning: Persisting input arguments took 0.72s to run.\n",
      "If this happens often in your code, it can cause performance problems \n",
      "(results will be correct in all cases). \n",
      "The reason for this is probably some large input arguments for a wrapped\n",
      " function (e.g. large strings).\n",
      "THIS IS A JOBLIB ISSUE. If you can, kindly provide the joblib's team with an\n",
      " example so that they can fix the problem.\n",
      "  X, fitted_transformer = fit_transform_one_cached(\n"
     ]
    },
    {
     "name": "stdout",
     "output_type": "stream",
     "text": [
      "[CV 1/5] END ........classifier__n_neighbors=69;, score=0.924 total time= 3.4min\n"
     ]
    },
    {
     "name": "stderr",
     "output_type": "stream",
     "text": [
      "/media/gambino/students_workdir/nynke/miniconda3/envs/blurry/lib/python3.9/site-packages/sklearn/pipeline.py:336: UserWarning: Persisting input arguments took 0.71s to run.\n",
      "If this happens often in your code, it can cause performance problems \n",
      "(results will be correct in all cases). \n",
      "The reason for this is probably some large input arguments for a wrapped\n",
      " function (e.g. large strings).\n",
      "THIS IS A JOBLIB ISSUE. If you can, kindly provide the joblib's team with an\n",
      " example so that they can fix the problem.\n",
      "  X, fitted_transformer = fit_transform_one_cached(\n"
     ]
    },
    {
     "name": "stdout",
     "output_type": "stream",
     "text": [
      "[CV 2/5] END ........classifier__n_neighbors=69;, score=0.928 total time= 3.3min\n"
     ]
    },
    {
     "name": "stderr",
     "output_type": "stream",
     "text": [
      "/media/gambino/students_workdir/nynke/miniconda3/envs/blurry/lib/python3.9/site-packages/sklearn/pipeline.py:336: UserWarning: Persisting input arguments took 0.72s to run.\n",
      "If this happens often in your code, it can cause performance problems \n",
      "(results will be correct in all cases). \n",
      "The reason for this is probably some large input arguments for a wrapped\n",
      " function (e.g. large strings).\n",
      "THIS IS A JOBLIB ISSUE. If you can, kindly provide the joblib's team with an\n",
      " example so that they can fix the problem.\n",
      "  X, fitted_transformer = fit_transform_one_cached(\n"
     ]
    },
    {
     "name": "stdout",
     "output_type": "stream",
     "text": [
      "[CV 3/5] END ........classifier__n_neighbors=69;, score=0.922 total time= 3.3min\n"
     ]
    },
    {
     "name": "stderr",
     "output_type": "stream",
     "text": [
      "/media/gambino/students_workdir/nynke/miniconda3/envs/blurry/lib/python3.9/site-packages/sklearn/pipeline.py:336: UserWarning: Persisting input arguments took 0.71s to run.\n",
      "If this happens often in your code, it can cause performance problems \n",
      "(results will be correct in all cases). \n",
      "The reason for this is probably some large input arguments for a wrapped\n",
      " function (e.g. large strings).\n",
      "THIS IS A JOBLIB ISSUE. If you can, kindly provide the joblib's team with an\n",
      " example so that they can fix the problem.\n",
      "  X, fitted_transformer = fit_transform_one_cached(\n"
     ]
    },
    {
     "name": "stdout",
     "output_type": "stream",
     "text": [
      "[CV 4/5] END ........classifier__n_neighbors=69;, score=0.921 total time= 3.3min\n"
     ]
    },
    {
     "name": "stderr",
     "output_type": "stream",
     "text": [
      "/media/gambino/students_workdir/nynke/miniconda3/envs/blurry/lib/python3.9/site-packages/sklearn/pipeline.py:336: UserWarning: Persisting input arguments took 0.71s to run.\n",
      "If this happens often in your code, it can cause performance problems \n",
      "(results will be correct in all cases). \n",
      "The reason for this is probably some large input arguments for a wrapped\n",
      " function (e.g. large strings).\n",
      "THIS IS A JOBLIB ISSUE. If you can, kindly provide the joblib's team with an\n",
      " example so that they can fix the problem.\n",
      "  X, fitted_transformer = fit_transform_one_cached(\n"
     ]
    },
    {
     "name": "stdout",
     "output_type": "stream",
     "text": [
      "[CV 5/5] END ........classifier__n_neighbors=69;, score=0.927 total time= 3.3min\n",
      "[CV 1/5] END .......classifier__n_neighbors=119;, score=0.924 total time=  39.5s\n",
      "[CV 2/5] END .......classifier__n_neighbors=119;, score=0.927 total time=  38.6s\n",
      "[CV 3/5] END .......classifier__n_neighbors=119;, score=0.922 total time=  38.9s\n",
      "[CV 4/5] END .......classifier__n_neighbors=119;, score=0.920 total time=  39.4s\n",
      "[CV 5/5] END .......classifier__n_neighbors=119;, score=0.927 total time=  38.9s\n",
      "[CV 1/5] END .......classifier__n_neighbors=169;, score=0.924 total time=  39.5s\n",
      "[CV 2/5] END .......classifier__n_neighbors=169;, score=0.927 total time=  38.7s\n",
      "[CV 3/5] END .......classifier__n_neighbors=169;, score=0.921 total time=  38.9s\n",
      "[CV 4/5] END .......classifier__n_neighbors=169;, score=0.920 total time=  39.5s\n",
      "[CV 5/5] END .......classifier__n_neighbors=169;, score=0.927 total time=  39.0s\n",
      "[CV 1/5] END .......classifier__n_neighbors=219;, score=0.924 total time=  39.5s\n",
      "[CV 2/5] END .......classifier__n_neighbors=219;, score=0.927 total time=  38.6s\n",
      "[CV 3/5] END .......classifier__n_neighbors=219;, score=0.921 total time=  39.0s\n",
      "[CV 4/5] END .......classifier__n_neighbors=219;, score=0.920 total time=  39.4s\n",
      "[CV 5/5] END .......classifier__n_neighbors=219;, score=0.927 total time=  39.0s\n",
      "[CV 1/5] END .......classifier__n_neighbors=269;, score=0.923 total time=  39.5s\n",
      "[CV 2/5] END .......classifier__n_neighbors=269;, score=0.927 total time=  38.7s\n",
      "[CV 3/5] END .......classifier__n_neighbors=269;, score=0.921 total time=  38.9s\n",
      "[CV 4/5] END .......classifier__n_neighbors=269;, score=0.920 total time=  39.5s\n",
      "[CV 5/5] END .......classifier__n_neighbors=269;, score=0.927 total time=  38.9s\n",
      "[CV 1/5] END .......classifier__n_neighbors=319;, score=0.923 total time=  39.6s\n",
      "[CV 2/5] END .......classifier__n_neighbors=319;, score=0.927 total time=  38.7s\n",
      "[CV 3/5] END .......classifier__n_neighbors=319;, score=0.921 total time=  39.0s\n",
      "[CV 4/5] END .......classifier__n_neighbors=319;, score=0.920 total time=  39.5s\n",
      "[CV 5/5] END .......classifier__n_neighbors=319;, score=0.927 total time=  39.0s\n",
      "[CV 1/5] END .......classifier__n_neighbors=369;, score=0.923 total time=  39.6s\n",
      "[CV 2/5] END .......classifier__n_neighbors=369;, score=0.927 total time=  38.7s\n",
      "[CV 3/5] END .......classifier__n_neighbors=369;, score=0.921 total time=  39.0s\n",
      "[CV 4/5] END .......classifier__n_neighbors=369;, score=0.920 total time=  39.5s\n",
      "[CV 5/5] END .......classifier__n_neighbors=369;, score=0.927 total time=  39.0s\n",
      "[CV 1/5] END .......classifier__n_neighbors=419;, score=0.923 total time=  39.6s\n",
      "[CV 2/5] END .......classifier__n_neighbors=419;, score=0.926 total time=  38.7s\n",
      "[CV 3/5] END .......classifier__n_neighbors=419;, score=0.921 total time=  39.0s\n",
      "[CV 4/5] END .......classifier__n_neighbors=419;, score=0.920 total time=  39.5s\n",
      "[CV 5/5] END .......classifier__n_neighbors=419;, score=0.927 total time=  39.0s\n",
      "[CV 1/5] END .......classifier__n_neighbors=469;, score=0.923 total time=  39.6s\n",
      "[CV 2/5] END .......classifier__n_neighbors=469;, score=0.926 total time=  38.7s\n",
      "[CV 3/5] END .......classifier__n_neighbors=469;, score=0.921 total time=  39.0s\n",
      "[CV 4/5] END .......classifier__n_neighbors=469;, score=0.919 total time=  39.5s\n",
      "[CV 5/5] END .......classifier__n_neighbors=469;, score=0.927 total time=  39.0s\n",
      "[CV 1/5] END .......classifier__n_neighbors=519;, score=0.922 total time=  39.6s\n",
      "[CV 2/5] END .......classifier__n_neighbors=519;, score=0.926 total time=  38.7s\n",
      "[CV 3/5] END .......classifier__n_neighbors=519;, score=0.921 total time=  39.0s\n",
      "[CV 4/5] END .......classifier__n_neighbors=519;, score=0.919 total time=  39.5s\n",
      "[CV 5/5] END .......classifier__n_neighbors=519;, score=0.927 total time=  39.1s\n",
      "[CV 1/5] END .......classifier__n_neighbors=569;, score=0.922 total time=  39.6s\n",
      "[CV 2/5] END .......classifier__n_neighbors=569;, score=0.926 total time=  38.8s\n",
      "[CV 3/5] END .......classifier__n_neighbors=569;, score=0.920 total time=  39.1s\n",
      "[CV 4/5] END .......classifier__n_neighbors=569;, score=0.919 total time=  39.6s\n",
      "[CV 5/5] END .......classifier__n_neighbors=569;, score=0.927 total time=  39.1s\n",
      "[CV 1/5] END .......classifier__n_neighbors=619;, score=0.922 total time=  39.7s\n",
      "[CV 2/5] END .......classifier__n_neighbors=619;, score=0.926 total time=  38.8s\n",
      "[CV 3/5] END .......classifier__n_neighbors=619;, score=0.920 total time=  39.1s\n",
      "[CV 4/5] END .......classifier__n_neighbors=619;, score=0.919 total time=  39.6s\n",
      "[CV 5/5] END .......classifier__n_neighbors=619;, score=0.927 total time=  39.2s\n",
      "[CV 1/5] END .......classifier__n_neighbors=669;, score=0.922 total time=  39.7s\n",
      "[CV 2/5] END .......classifier__n_neighbors=669;, score=0.926 total time=  38.8s\n",
      "[CV 3/5] END .......classifier__n_neighbors=669;, score=0.921 total time=  39.1s\n",
      "[CV 4/5] END .......classifier__n_neighbors=669;, score=0.919 total time=  39.6s\n",
      "[CV 5/5] END .......classifier__n_neighbors=669;, score=0.926 total time=  39.2s\n"
     ]
    },
    {
     "name": "stderr",
     "output_type": "stream",
     "text": [
      "/media/gambino/students_workdir/nynke/miniconda3/envs/blurry/lib/python3.9/site-packages/sklearn/pipeline.py:336: UserWarning: Persisting input arguments took 0.90s to run.\n",
      "If this happens often in your code, it can cause performance problems \n",
      "(results will be correct in all cases). \n",
      "The reason for this is probably some large input arguments for a wrapped\n",
      " function (e.g. large strings).\n",
      "THIS IS A JOBLIB ISSUE. If you can, kindly provide the joblib's team with an\n",
      " example so that they can fix the problem.\n",
      "  X, fitted_transformer = fit_transform_one_cached(\n"
     ]
    },
    {
     "data": {
      "image/png": "[encoded data removed]",
      "text/plain": [
       "<Figure size 576x288 with 2 Axes>"
      ]
     },
     "metadata": {
      "needs_background": "light"
     },
     "output_type": "display_data"
    }
   ],
   "source": [
    "# Author: Tom Dupre la Tour\n",
    "#\n",
    "# License: BSD 3 clause\n",
    "from tempfile import TemporaryDirectory\n",
    "\n",
    "import matplotlib.pyplot as plt\n",
    "\n",
    "#from sklearn.datasets import load_digits\n",
    "from sklearn.model_selection import GridSearchCV\n",
    "from sklearn.neighbors import KNeighborsClassifier, KNeighborsTransformer\n",
    "from sklearn.pipeline import Pipeline\n",
    "\n",
    "#X, y = load_digits(return_X_y=True)\n",
    "n_neighbors_list = [69,119,169,219,269,319,369,419,469,519,569,619,669]\n",
    "\n",
    "# The transformer computes the nearest neighbors graph using the maximum number\n",
    "# of neighbors necessary in the grid search. The classifier model filters the\n",
    "# nearest neighbors graph as required by its own n_neighbors parameter.\n",
    "graph_model = KNeighborsTransformer(n_neighbors=max(n_neighbors_list), mode=\"distance\")\n",
    "classifier_model = KNeighborsClassifier(metric=\"precomputed\")\n",
    "\n",
    "# Note that we give `memory` a directory to cache the graph computation\n",
    "# that will be used several times when tuning the hyperparameters of the\n",
    "# classifier.\n",
    "with TemporaryDirectory(prefix=\"sklearn_graph_cache_\") as tmpdir:\n",
    "    full_model = Pipeline(\n",
    "        steps=[(\"graph\", graph_model), (\"classifier\", classifier_model)], memory=tmpdir\n",
    "    )\n",
    "\n",
    "    param_grid = {\"classifier__n_neighbors\": n_neighbors_list}\n",
    "    grid_model = GridSearchCV(full_model, param_grid, verbose = 3)\n",
    "    grid_model.fit(adata_train.obsm[\"latent\"], adata_train.obs[\"random_or_pattern\"])\n",
    "\n",
    "# Plot the results of the grid search.\n",
    "fig, axes = plt.subplots(1, 2, figsize=(8, 4))\n",
    "axes[0].errorbar(\n",
    "    x=n_neighbors_list,\n",
    "    y=grid_model.cv_results_[\"mean_test_score\"],\n",
    "    yerr=grid_model.cv_results_[\"std_test_score\"],\n",
    ")\n",
    "axes[0].set(xlabel=\"n_neighbors\", title=\"Classification accuracy\")\n",
    "axes[1].errorbar(\n",
    "    x=n_neighbors_list,\n",
    "    y=grid_model.cv_results_[\"mean_fit_time\"],\n",
    "    yerr=grid_model.cv_results_[\"std_fit_time\"],\n",
    "    color=\"r\",\n",
    ")\n",
    "axes[1].set(xlabel=\"n_neighbors\", title=\"Fit time (with caching)\")\n",
    "fig.tight_layout()\n",
    "plt.show()"
   ]
  },
  {
   "cell_type": "code",
   "execution_count": 70,
   "metadata": {},
   "outputs": [
    {
     "data": {
      "text/plain": [
       "{'mean_fit_time': array([160.32603569,   1.36809492,   1.39574623,   1.36634436,\n",
       "          1.364711  ,   1.36581612,   1.37345982,   1.36978893,\n",
       "          1.366711  ,   1.3668128 ,   1.36542826,   1.36534615,\n",
       "          1.36573067]),\n",
       " 'std_fit_time': array([0.85542984, 0.00948896, 0.01288597, 0.01100495, 0.01349895,\n",
       "        0.01014704, 0.00980585, 0.00822732, 0.01277583, 0.00950512,\n",
       "        0.01184004, 0.00794088, 0.01065287]),\n",
       " 'mean_score_time': array([39.81324239, 37.69407601, 37.71695495, 37.73753662, 37.74229832,\n",
       "        37.76169548, 37.77588997, 37.80055475, 37.80514007, 37.82576494,\n",
       "        37.88281603, 37.9218977 , 37.94148393]),\n",
       " 'std_score_time': array([0.66837186, 0.33251339, 0.33180792, 0.33658414, 0.33296387,\n",
       "        0.33259267, 0.32914207, 0.33045184, 0.33654874, 0.33934595,\n",
       "        0.31766483, 0.34116603, 0.33493058]),\n",
       " 'param_classifier__n_neighbors': masked_array(data=[69, 119, 169, 219, 269, 319, 369, 419, 469, 519, 569,\n",
       "                    619, 669],\n",
       "              mask=[False, False, False, False, False, False, False, False,\n",
       "                    False, False, False, False, False],\n",
       "        fill_value='?',\n",
       "             dtype=object),\n",
       " 'params': [{'classifier__n_neighbors': 69},\n",
       "  {'classifier__n_neighbors': 119},\n",
       "  {'classifier__n_neighbors': 169},\n",
       "  {'classifier__n_neighbors': 219},\n",
       "  {'classifier__n_neighbors': 269},\n",
       "  {'classifier__n_neighbors': 319},\n",
       "  {'classifier__n_neighbors': 369},\n",
       "  {'classifier__n_neighbors': 419},\n",
       "  {'classifier__n_neighbors': 469},\n",
       "  {'classifier__n_neighbors': 519},\n",
       "  {'classifier__n_neighbors': 569},\n",
       "  {'classifier__n_neighbors': 619},\n",
       "  {'classifier__n_neighbors': 669}],\n",
       " 'split0_test_score': array([0.9238498 , 0.92365112, 0.92370789, 0.92362274, 0.92305509,\n",
       "        0.92311186, 0.92285641, 0.92251582, 0.92257259, 0.92237391,\n",
       "        0.92231715, 0.92203332, 0.92220362]),\n",
       " 'split1_test_score': array([0.92762467, 0.92748276, 0.92736923, 0.92705702, 0.92702864,\n",
       "        0.92691511, 0.92668805, 0.92646099, 0.92646099, 0.92620555,\n",
       "        0.92646099, 0.92614878, 0.9259501 ]),\n",
       " 'split2_test_score': array([0.92171889, 0.92180404, 0.92140668, 0.92132153, 0.92146344,\n",
       "        0.92126476, 0.92095254, 0.92134991, 0.92112284, 0.92072548,\n",
       "        0.92044164, 0.92047003, 0.92066871]),\n",
       " 'split3_test_score': array([0.92058356, 0.92007266, 0.91976045, 0.91998751, 0.92018619,\n",
       "        0.92001589, 0.91961853, 0.91956176, 0.91924955, 0.91905086,\n",
       "        0.91922116, 0.91890895, 0.91851158]),\n",
       " 'split4_test_score': array([0.92725363, 0.9273104 , 0.92716848, 0.92677112, 0.92722525,\n",
       "        0.92682788, 0.92668597, 0.92671435, 0.92677112, 0.92668597,\n",
       "        0.92665758, 0.92654405, 0.92617507]),\n",
       " 'mean_test_score': array([0.92420611, 0.9240642 , 0.92388254, 0.92375198, 0.92379172,\n",
       "        0.9236271 , 0.9233603 , 0.92332057, 0.92323542, 0.92300835,\n",
       "        0.9230197 , 0.92282103, 0.92270182]),\n",
       " 'std_test_score': array([0.00284289, 0.00294739, 0.00303666, 0.00283314, 0.00287159,\n",
       "        0.00282641, 0.00290469, 0.00282983, 0.00295618, 0.00300076,\n",
       "        0.00305436, 0.00304588, 0.00298512]),\n",
       " 'rank_test_score': array([ 1,  2,  3,  5,  4,  6,  7,  8,  9, 11, 10, 12, 13], dtype=int32)}"
      ]
     },
     "execution_count": 70,
     "metadata": {},
     "output_type": "execute_result"
    }
   ],
   "source": [
    "knn_nonnormalized = grid_model.cv_results_\n",
    "knn_nonnormalized"
   ]
  },
  {
   "cell_type": "markdown",
   "metadata": {},
   "source": [
    "#### Save and load the KNN object \n",
    "So that I don't have to rerun it later, and can just get the object to make vizualiations / multiplots. "
   ]
  },
  {
   "cell_type": "code",
   "execution_count": 61,
   "metadata": {},
   "outputs": [],
   "source": [
    "np.savez('knn_nonnormalized.npz', **knn_nonnormalized)"
   ]
  },
  {
   "cell_type": "code",
   "execution_count": 69,
   "metadata": {},
   "outputs": [],
   "source": [
    "load_dict = dict(np.load('knn_nonnormalized.npz', allow_pickle=True))"
   ]
  },
  {
   "cell_type": "code",
   "execution_count": 68,
   "metadata": {},
   "outputs": [
    {
     "data": {
      "text/plain": [
       "Text(0.5, 1.0, 'Grid Search Results Non-Normalized Latent Space')"
      ]
     },
     "execution_count": 68,
     "metadata": {},
     "output_type": "execute_result"
    },
    {
     "data": {
      "image/png": "[encoded data removed]",
      "text/plain": [
       "<Figure size 432x288 with 1 Axes>"
      ]
     },
     "metadata": {},
     "output_type": "display_data"
    }
   ],
   "source": [
    "# Code to run the plot from the saved object. The x axis is a bit difficult to get cause it's a masked array, that's why it looks weird\n",
    "fig, ax = plt.subplots()\n",
    "ax.errorbar(load_dict.get(\"param_classifier__n_neighbors\").compressed(), load_dict[\"mean_test_score\"], yerr=load_dict['std_test_score'], fmt='-o')\n",
    "ax.set_xlabel(\"Number of Neighbors\")\n",
    "ax.set_ylabel(\"Mean Test Score\")\n",
    "ax.set_title(\"Grid Search Results Non-Normalized Latent Space\")"
   ]
  },
  {
   "cell_type": "code",
   "execution_count": 22,
   "metadata": {},
   "outputs": [
    {
     "data": {
      "text/plain": [
       "Text(0.5, 1.0, 'Grid Search Results')"
      ]
     },
     "execution_count": 22,
     "metadata": {},
     "output_type": "execute_result"
    },
    {
     "data": {
      "image/png": "[encoded data removed]",
      "text/plain": [
       "<Figure size 432x288 with 1 Axes>"
      ]
     },
     "metadata": {},
     "output_type": "display_data"
    }
   ],
   "source": [
    "fig, ax = plt.subplots()\n",
    "ax.errorbar(n_neighbors_list, grid_model.cv_results_[\"mean_test_score\"], yerr=grid_model.cv_results_['std_test_score'], fmt='-o')\n",
    "ax.set_xlabel(\"Number of Neighbors\")\n",
    "ax.set_ylabel(\"Mean Test Score\")\n",
    "ax.set_title(\"Grid Search Results Non-Normalized Latent Space\")"
   ]
  },
  {
   "cell_type": "markdown",
   "metadata": {},
   "source": [
    "### Normalized KNN"
   ]
  },
  {
   "cell_type": "code",
   "execution_count": 16,
   "metadata": {},
   "outputs": [
    {
     "data": {
      "text/plain": [
       "NormaltestResult(statistic=array([ 2969.539  ,  1722.7858 , 17725.268  , 10980.781  ,   451.94302,\n",
       "        6556.831  ,  4315.3906 ,  7899.7725 , 15158.62   , 10586.165  ,\n",
       "       28376.576  ,  2222.5215 , 15285.311  , 25839.836  , 13798.633  ],\n",
       "      dtype=float32), pvalue=array([0.00000000e+00, 0.00000000e+00, 0.00000000e+00, 0.00000000e+00,\n",
       "       7.27477122e-99, 0.00000000e+00, 0.00000000e+00, 0.00000000e+00,\n",
       "       0.00000000e+00, 0.00000000e+00, 0.00000000e+00, 0.00000000e+00,\n",
       "       0.00000000e+00, 0.00000000e+00, 0.00000000e+00]))"
      ]
     },
     "execution_count": 16,
     "metadata": {},
     "output_type": "execute_result"
    }
   ],
   "source": [
    "from scipy import stats\n",
    "stats.normaltest(adata.obsm['latent'], axis=0)"
   ]
  },
  {
   "cell_type": "markdown",
   "metadata": {},
   "source": [
    "normalizing the dimensions and see if that influences the accuracy. Given that none of the latent dimensions are normally distributed, nor are they multivariate normally distributed, we will normalize the latent dimensions using min-max normalization rather than standardization (which assumes the data to be normally distributed)"
   ]
  },
  {
   "cell_type": "code",
   "execution_count": 71,
   "metadata": {},
   "outputs": [],
   "source": [
    "adata_train2 = adata_train.copy()\n"
   ]
  },
  {
   "cell_type": "code",
   "execution_count": 72,
   "metadata": {},
   "outputs": [],
   "source": [
    "adata_train_labels = adata_train.copy()\n",
    "scaler = MinMaxScaler()\n",
    "adata_train_labels.obsm['latent']=scaler.fit_transform(adata_train_labels.obsm['latent'])\n",
    "adata_train_labels.obsm['latent']\n",
    "pattern_mapping = {'pattern': 1, 'random': 0}\n",
    "adata_train_labels.obs['random_or_pattern'].replace(pattern_mapping, inplace=True)"
   ]
  },
  {
   "cell_type": "code",
   "execution_count": 73,
   "metadata": {},
   "outputs": [
    {
     "name": "stdout",
     "output_type": "stream",
     "text": [
      "Fitting 5 folds for each of 13 candidates, totalling 65 fits\n"
     ]
    },
    {
     "name": "stderr",
     "output_type": "stream",
     "text": [
      "/media/gambino/students_workdir/nynke/miniconda3/envs/blurry/lib/python3.9/site-packages/sklearn/pipeline.py:336: UserWarning: Persisting input arguments took 0.50s to run.\n",
      "If this happens often in your code, it can cause performance problems \n",
      "(results will be correct in all cases). \n",
      "The reason for this is probably some large input arguments for a wrapped\n",
      " function (e.g. large strings).\n",
      "THIS IS A JOBLIB ISSUE. If you can, kindly provide the joblib's team with an\n",
      " example so that they can fix the problem.\n",
      "  X, fitted_transformer = fit_transform_one_cached(\n"
     ]
    },
    {
     "name": "stdout",
     "output_type": "stream",
     "text": [
      "[CV 1/5] END ........classifier__n_neighbors=69;, score=0.947 total time= 4.4min\n"
     ]
    },
    {
     "name": "stderr",
     "output_type": "stream",
     "text": [
      "/media/gambino/students_workdir/nynke/miniconda3/envs/blurry/lib/python3.9/site-packages/sklearn/pipeline.py:336: UserWarning: Persisting input arguments took 0.50s to run.\n",
      "If this happens often in your code, it can cause performance problems \n",
      "(results will be correct in all cases). \n",
      "The reason for this is probably some large input arguments for a wrapped\n",
      " function (e.g. large strings).\n",
      "THIS IS A JOBLIB ISSUE. If you can, kindly provide the joblib's team with an\n",
      " example so that they can fix the problem.\n",
      "  X, fitted_transformer = fit_transform_one_cached(\n"
     ]
    },
    {
     "name": "stdout",
     "output_type": "stream",
     "text": [
      "[CV 2/5] END ........classifier__n_neighbors=69;, score=0.949 total time= 4.5min\n",
      "[CV 3/5] END ........classifier__n_neighbors=69;, score=0.945 total time= 4.4min\n",
      "[CV 4/5] END ........classifier__n_neighbors=69;, score=0.945 total time= 4.4min\n",
      "[CV 5/5] END ........classifier__n_neighbors=69;, score=0.949 total time= 4.5min\n",
      "[CV 1/5] END .......classifier__n_neighbors=119;, score=0.947 total time=  52.2s\n",
      "[CV 2/5] END .......classifier__n_neighbors=119;, score=0.949 total time=  50.1s\n",
      "[CV 3/5] END .......classifier__n_neighbors=119;, score=0.945 total time=  49.6s\n",
      "[CV 4/5] END .......classifier__n_neighbors=119;, score=0.944 total time=  51.1s\n",
      "[CV 5/5] END .......classifier__n_neighbors=119;, score=0.949 total time=  51.0s\n",
      "[CV 1/5] END .......classifier__n_neighbors=169;, score=0.946 total time=  50.8s\n",
      "[CV 2/5] END .......classifier__n_neighbors=169;, score=0.949 total time=  50.9s\n",
      "[CV 3/5] END .......classifier__n_neighbors=169;, score=0.945 total time=  50.2s\n",
      "[CV 4/5] END .......classifier__n_neighbors=169;, score=0.944 total time=  51.7s\n",
      "[CV 5/5] END .......classifier__n_neighbors=169;, score=0.949 total time=  51.8s\n",
      "[CV 1/5] END .......classifier__n_neighbors=219;, score=0.946 total time=  50.8s\n",
      "[CV 2/5] END .......classifier__n_neighbors=219;, score=0.949 total time=  50.9s\n",
      "[CV 3/5] END .......classifier__n_neighbors=219;, score=0.945 total time=  50.1s\n",
      "[CV 4/5] END .......classifier__n_neighbors=219;, score=0.945 total time=  51.7s\n",
      "[CV 5/5] END .......classifier__n_neighbors=219;, score=0.949 total time=  51.7s\n",
      "[CV 1/5] END .......classifier__n_neighbors=269;, score=0.946 total time=  50.8s\n",
      "[CV 2/5] END .......classifier__n_neighbors=269;, score=0.949 total time=  50.9s\n",
      "[CV 3/5] END .......classifier__n_neighbors=269;, score=0.945 total time=  50.2s\n",
      "[CV 4/5] END .......classifier__n_neighbors=269;, score=0.945 total time=  51.7s\n",
      "[CV 5/5] END .......classifier__n_neighbors=269;, score=0.949 total time=  51.8s\n",
      "[CV 1/5] END .......classifier__n_neighbors=319;, score=0.945 total time=  50.9s\n",
      "[CV 2/5] END .......classifier__n_neighbors=319;, score=0.949 total time=  51.1s\n",
      "[CV 3/5] END .......classifier__n_neighbors=319;, score=0.945 total time=  50.2s\n",
      "[CV 4/5] END .......classifier__n_neighbors=319;, score=0.944 total time=  51.7s\n",
      "[CV 5/5] END .......classifier__n_neighbors=319;, score=0.948 total time=  51.7s\n",
      "[CV 1/5] END .......classifier__n_neighbors=369;, score=0.945 total time=  50.7s\n",
      "[CV 2/5] END .......classifier__n_neighbors=369;, score=0.949 total time=  50.8s\n",
      "[CV 3/5] END .......classifier__n_neighbors=369;, score=0.945 total time=  50.1s\n",
      "[CV 4/5] END .......classifier__n_neighbors=369;, score=0.944 total time=  51.6s\n",
      "[CV 5/5] END .......classifier__n_neighbors=369;, score=0.948 total time=  51.7s\n",
      "[CV 1/5] END .......classifier__n_neighbors=419;, score=0.945 total time=  50.7s\n",
      "[CV 2/5] END .......classifier__n_neighbors=419;, score=0.948 total time=  50.8s\n",
      "[CV 3/5] END .......classifier__n_neighbors=419;, score=0.945 total time=  50.1s\n",
      "[CV 4/5] END .......classifier__n_neighbors=419;, score=0.944 total time=  51.6s\n",
      "[CV 5/5] END .......classifier__n_neighbors=419;, score=0.948 total time=  51.7s\n",
      "[CV 1/5] END .......classifier__n_neighbors=469;, score=0.945 total time=  50.8s\n",
      "[CV 2/5] END .......classifier__n_neighbors=469;, score=0.948 total time=  50.8s\n",
      "[CV 3/5] END .......classifier__n_neighbors=469;, score=0.944 total time=  50.3s\n",
      "[CV 4/5] END .......classifier__n_neighbors=469;, score=0.944 total time=  51.8s\n",
      "[CV 5/5] END .......classifier__n_neighbors=469;, score=0.948 total time=  51.7s\n",
      "[CV 1/5] END .......classifier__n_neighbors=519;, score=0.945 total time=  50.8s\n",
      "[CV 2/5] END .......classifier__n_neighbors=519;, score=0.948 total time=  50.8s\n",
      "[CV 3/5] END .......classifier__n_neighbors=519;, score=0.945 total time=  50.1s\n",
      "[CV 4/5] END .......classifier__n_neighbors=519;, score=0.944 total time=  51.7s\n",
      "[CV 5/5] END .......classifier__n_neighbors=519;, score=0.948 total time=  52.1s\n",
      "[CV 1/5] END .......classifier__n_neighbors=569;, score=0.945 total time=  49.8s\n",
      "[CV 2/5] END .......classifier__n_neighbors=569;, score=0.948 total time=  53.8s\n",
      "[CV 3/5] END .......classifier__n_neighbors=569;, score=0.945 total time=  50.1s\n",
      "[CV 4/5] END .......classifier__n_neighbors=569;, score=0.944 total time=  51.7s\n",
      "[CV 5/5] END .......classifier__n_neighbors=569;, score=0.948 total time=  51.7s\n",
      "[CV 1/5] END .......classifier__n_neighbors=619;, score=0.945 total time=  50.8s\n",
      "[CV 2/5] END .......classifier__n_neighbors=619;, score=0.948 total time=  50.9s\n",
      "[CV 3/5] END .......classifier__n_neighbors=619;, score=0.945 total time=  50.3s\n",
      "[CV 4/5] END .......classifier__n_neighbors=619;, score=0.944 total time=  51.7s\n",
      "[CV 5/5] END .......classifier__n_neighbors=619;, score=0.948 total time=  51.7s\n",
      "[CV 1/5] END .......classifier__n_neighbors=669;, score=0.945 total time=  50.8s\n",
      "[CV 2/5] END .......classifier__n_neighbors=669;, score=0.948 total time=  50.9s\n",
      "[CV 3/5] END .......classifier__n_neighbors=669;, score=0.944 total time=  50.4s\n",
      "[CV 4/5] END .......classifier__n_neighbors=669;, score=0.944 total time=  51.7s\n",
      "[CV 5/5] END .......classifier__n_neighbors=669;, score=0.948 total time=  51.7s\n"
     ]
    },
    {
     "name": "stderr",
     "output_type": "stream",
     "text": [
      "/media/gambino/students_workdir/nynke/miniconda3/envs/blurry/lib/python3.9/site-packages/sklearn/pipeline.py:336: UserWarning: Persisting input arguments took 0.63s to run.\n",
      "If this happens often in your code, it can cause performance problems \n",
      "(results will be correct in all cases). \n",
      "The reason for this is probably some large input arguments for a wrapped\n",
      " function (e.g. large strings).\n",
      "THIS IS A JOBLIB ISSUE. If you can, kindly provide the joblib's team with an\n",
      " example so that they can fix the problem.\n",
      "  X, fitted_transformer = fit_transform_one_cached(\n"
     ]
    },
    {
     "data": {
      "image/png": "[encoded data removed]",
      "text/plain": [
       "<Figure size 576x288 with 2 Axes>"
      ]
     },
     "metadata": {},
     "output_type": "display_data"
    }
   ],
   "source": [
    "# Author: Tom Dupre la Tour\n",
    "#\n",
    "# License: BSD 3 clause\n",
    "from tempfile import TemporaryDirectory\n",
    "\n",
    "import matplotlib.pyplot as plt\n",
    "\n",
    "#from sklearn.datasets import load_digits\n",
    "from sklearn.model_selection import GridSearchCV\n",
    "from sklearn.neighbors import KNeighborsClassifier, KNeighborsTransformer\n",
    "from sklearn.pipeline import Pipeline\n",
    "\n",
    "latent = adata_train_labels.obsm[\"latent\"]\n",
    "labels = adata_train_labels.obs[\"random_or_pattern\"]\n",
    "n_neighbors_list = [69,119,169,219,269,319,369,419,469,519,569,619,669]\n",
    "\n",
    "# The transformer computes the nearest neighbors graph using the maximum number\n",
    "# of neighbors necessary in the grid search. The classifier model filters the\n",
    "# nearest neighbors graph as required by its own n_neighbors parameter.\n",
    "graph_model = KNeighborsTransformer(n_neighbors=max(n_neighbors_list), mode=\"distance\")\n",
    "classifier_model = KNeighborsClassifier(metric=\"precomputed\")\n",
    "\n",
    "# Note that we give `memory` a directory to cache the graph computation\n",
    "# that will be used several times when tuning the hyperparameters of the\n",
    "# classifier.\n",
    "with TemporaryDirectory(prefix=\"sklearn_graph_cache_\") as tmpdir:\n",
    "    full_model = Pipeline(\n",
    "        steps=[(\"graph\", graph_model), (\"classifier\", classifier_model)], memory=tmpdir\n",
    "    )\n",
    "\n",
    "    param_grid = {\"classifier__n_neighbors\": n_neighbors_list}\n",
    "    grid_model = GridSearchCV(full_model, param_grid, verbose = 3, scoring='f1', error_score='raise')\n",
    "    grid_model.fit(latent, labels)\n",
    "\n",
    "# Plot the results of the grid search.\n",
    "fig, axes = plt.subplots(1, 2, figsize=(8, 4))\n",
    "axes[0].errorbar(\n",
    "    x=n_neighbors_list,\n",
    "    y=grid_model.cv_results_[\"mean_test_score\"],\n",
    "    yerr=grid_model.cv_results_[\"std_test_score\"],\n",
    ")\n",
    "axes[0].set(xlabel=\"n_neighbors\", title=\"Classification accuracy\")\n",
    "axes[1].errorbar(\n",
    "    x=n_neighbors_list,\n",
    "    y=grid_model.cv_results_[\"mean_fit_time\"],\n",
    "    yerr=grid_model.cv_results_[\"std_fit_time\"],\n",
    "    color=\"r\",\n",
    ")\n",
    "axes[1].set(xlabel=\"n_neighbors\", title=\"Fit time (with caching)\")\n",
    "fig.tight_layout()\n",
    "plt.show()"
   ]
  },
  {
   "cell_type": "code",
   "execution_count": 74,
   "metadata": {},
   "outputs": [],
   "source": [
    "knn_normalized = grid_model.cv_results_\n",
    "np.savez('knn_normalized.npz', **knn_normalized)"
   ]
  },
  {
   "cell_type": "code",
   "execution_count": 75,
   "metadata": {},
   "outputs": [
    {
     "name": "stdout",
     "output_type": "stream",
     "text": [
      "{'classifier__n_neighbors': 69}\n"
     ]
    },
    {
     "data": {
      "text/plain": [
       "0.9468950007408262"
      ]
     },
     "execution_count": 75,
     "metadata": {},
     "output_type": "execute_result"
    }
   ],
   "source": [
    "print(grid_model.best_params_)\n",
    "grid_model.best_score_"
   ]
  },
  {
   "cell_type": "markdown",
   "metadata": {},
   "source": [
    "## Multi-class KNN"
   ]
  },
  {
   "cell_type": "markdown",
   "metadata": {},
   "source": [
    "Hyperparameter grid around sqrt(157654)~355"
   ]
  },
  {
   "cell_type": "code",
   "execution_count": 10,
   "metadata": {},
   "outputs": [],
   "source": [
    "adata_train_pattern = adata_train.copy()\n",
    "adata_train_pattern = adata_train_pattern[adata_train_pattern.obs['pattern']!='random']\n",
    "adata_test_pattern = adata_val.copy()\n",
    "adata_test_pattern = adata_test_pattern[adata_test_pattern.obs['pattern']!='random']\n",
    "#pattern_mapping = {'pattern': 1, 'random': 0}\n",
    "#adata_train_labels.obs['random_or_pattern'].replace(pattern_mapping, inplace=True)"
   ]
  },
  {
   "cell_type": "code",
   "execution_count": 11,
   "metadata": {},
   "outputs": [
    {
     "data": {
      "text/html": [
       "<div>\n",
       "<style scoped>\n",
       "    .dataframe tbody tr th:only-of-type {\n",
       "        vertical-align: middle;\n",
       "    }\n",
       "\n",
       "    .dataframe tbody tr th {\n",
       "        vertical-align: top;\n",
       "    }\n",
       "\n",
       "    .dataframe thead th {\n",
       "        text-align: right;\n",
       "    }\n",
       "</style>\n",
       "<table border=\"1\" class=\"dataframe\">\n",
       "  <thead>\n",
       "    <tr style=\"text-align: right;\">\n",
       "      <th></th>\n",
       "      <th>pattern</th>\n",
       "      <th>random_or_pattern</th>\n",
       "      <th>n_spots</th>\n",
       "      <th>n_spots_interval</th>\n",
       "      <th>cell_id</th>\n",
       "      <th>genes</th>\n",
       "      <th>rotation</th>\n",
       "      <th>rotation_interval</th>\n",
       "      <th>blur</th>\n",
       "      <th>blur_interval</th>\n",
       "      <th>...</th>\n",
       "      <th>pattern_classified</th>\n",
       "      <th>cell-edge</th>\n",
       "      <th>extranuclear</th>\n",
       "      <th>intranuclear</th>\n",
       "      <th>pericellular</th>\n",
       "      <th>perinuclear</th>\n",
       "      <th>random</th>\n",
       "      <th>random_score</th>\n",
       "      <th>pattern_score</th>\n",
       "      <th>batch</th>\n",
       "    </tr>\n",
       "  </thead>\n",
       "  <tbody>\n",
       "    <tr>\n",
       "      <th>663</th>\n",
       "      <td>cell-edge</td>\n",
       "      <td>pattern</td>\n",
       "      <td>81</td>\n",
       "      <td>90-100</td>\n",
       "      <td>27</td>\n",
       "      <td>blank</td>\n",
       "      <td>307</td>\n",
       "      <td>300+</td>\n",
       "      <td>1.5</td>\n",
       "      <td>NaN</td>\n",
       "      <td>...</td>\n",
       "      <td>cell-edge</td>\n",
       "      <td>0.992096</td>\n",
       "      <td>0.934968</td>\n",
       "      <td>5.487039e-15</td>\n",
       "      <td>1.322831e-10</td>\n",
       "      <td>0.000015</td>\n",
       "      <td>0.967630</td>\n",
       "      <td>0.392781</td>\n",
       "      <td>0.608507</td>\n",
       "      <td>0</td>\n",
       "    </tr>\n",
       "    <tr>\n",
       "      <th>664</th>\n",
       "      <td>cell-edge</td>\n",
       "      <td>pattern</td>\n",
       "      <td>81</td>\n",
       "      <td>90-100</td>\n",
       "      <td>27</td>\n",
       "      <td>blank</td>\n",
       "      <td>45</td>\n",
       "      <td>0-60</td>\n",
       "      <td>1.5</td>\n",
       "      <td>NaN</td>\n",
       "      <td>...</td>\n",
       "      <td>extranuclear</td>\n",
       "      <td>0.754152</td>\n",
       "      <td>0.798077</td>\n",
       "      <td>2.422030e-14</td>\n",
       "      <td>2.009141e-09</td>\n",
       "      <td>0.000235</td>\n",
       "      <td>0.627178</td>\n",
       "      <td>0.244180</td>\n",
       "      <td>0.757463</td>\n",
       "      <td>0</td>\n",
       "    </tr>\n",
       "    <tr>\n",
       "      <th>665</th>\n",
       "      <td>cell-edge</td>\n",
       "      <td>pattern</td>\n",
       "      <td>81</td>\n",
       "      <td>90-100</td>\n",
       "      <td>27</td>\n",
       "      <td>blank</td>\n",
       "      <td>90</td>\n",
       "      <td>60-120</td>\n",
       "      <td>1.5</td>\n",
       "      <td>NaN</td>\n",
       "      <td>...</td>\n",
       "      <td>cell-edge</td>\n",
       "      <td>0.999964</td>\n",
       "      <td>0.999141</td>\n",
       "      <td>8.410337e-18</td>\n",
       "      <td>1.347031e-07</td>\n",
       "      <td>0.000001</td>\n",
       "      <td>0.035344</td>\n",
       "      <td>0.089089</td>\n",
       "      <td>0.911159</td>\n",
       "      <td>0</td>\n",
       "    </tr>\n",
       "    <tr>\n",
       "      <th>897</th>\n",
       "      <td>cell-edge</td>\n",
       "      <td>pattern</td>\n",
       "      <td>24</td>\n",
       "      <td>20-30</td>\n",
       "      <td>27</td>\n",
       "      <td>blank</td>\n",
       "      <td>251</td>\n",
       "      <td>240-300</td>\n",
       "      <td>1.5</td>\n",
       "      <td>NaN</td>\n",
       "      <td>...</td>\n",
       "      <td>random</td>\n",
       "      <td>0.972466</td>\n",
       "      <td>0.127212</td>\n",
       "      <td>2.169975e-11</td>\n",
       "      <td>1.990620e-15</td>\n",
       "      <td>0.000403</td>\n",
       "      <td>1.000000</td>\n",
       "      <td>0.983680</td>\n",
       "      <td>0.016362</td>\n",
       "      <td>0</td>\n",
       "    </tr>\n",
       "    <tr>\n",
       "      <th>898</th>\n",
       "      <td>cell-edge</td>\n",
       "      <td>pattern</td>\n",
       "      <td>24</td>\n",
       "      <td>20-30</td>\n",
       "      <td>27</td>\n",
       "      <td>blank</td>\n",
       "      <td>65</td>\n",
       "      <td>60-120</td>\n",
       "      <td>1.5</td>\n",
       "      <td>NaN</td>\n",
       "      <td>...</td>\n",
       "      <td>random</td>\n",
       "      <td>0.004701</td>\n",
       "      <td>0.000760</td>\n",
       "      <td>6.626342e-10</td>\n",
       "      <td>3.418462e-15</td>\n",
       "      <td>0.003140</td>\n",
       "      <td>1.000000</td>\n",
       "      <td>0.945318</td>\n",
       "      <td>0.054801</td>\n",
       "      <td>0</td>\n",
       "    </tr>\n",
       "    <tr>\n",
       "      <th>...</th>\n",
       "      <td>...</td>\n",
       "      <td>...</td>\n",
       "      <td>...</td>\n",
       "      <td>...</td>\n",
       "      <td>...</td>\n",
       "      <td>...</td>\n",
       "      <td>...</td>\n",
       "      <td>...</td>\n",
       "      <td>...</td>\n",
       "      <td>...</td>\n",
       "      <td>...</td>\n",
       "      <td>...</td>\n",
       "      <td>...</td>\n",
       "      <td>...</td>\n",
       "      <td>...</td>\n",
       "      <td>...</td>\n",
       "      <td>...</td>\n",
       "      <td>...</td>\n",
       "      <td>...</td>\n",
       "      <td>...</td>\n",
       "      <td>...</td>\n",
       "    </tr>\n",
       "    <tr>\n",
       "      <th>156222</th>\n",
       "      <td>perinuclear</td>\n",
       "      <td>pattern</td>\n",
       "      <td>27</td>\n",
       "      <td>20-30</td>\n",
       "      <td>108</td>\n",
       "      <td>blank</td>\n",
       "      <td>251</td>\n",
       "      <td>240-300</td>\n",
       "      <td>1.5</td>\n",
       "      <td>NaN</td>\n",
       "      <td>...</td>\n",
       "      <td>perinuclear</td>\n",
       "      <td>0.032426</td>\n",
       "      <td>0.723309</td>\n",
       "      <td>1.660171e-07</td>\n",
       "      <td>1.175373e-04</td>\n",
       "      <td>0.996019</td>\n",
       "      <td>0.033108</td>\n",
       "      <td>0.110164</td>\n",
       "      <td>0.890005</td>\n",
       "      <td>0</td>\n",
       "    </tr>\n",
       "    <tr>\n",
       "      <th>156223</th>\n",
       "      <td>perinuclear</td>\n",
       "      <td>pattern</td>\n",
       "      <td>27</td>\n",
       "      <td>20-30</td>\n",
       "      <td>108</td>\n",
       "      <td>blank</td>\n",
       "      <td>332</td>\n",
       "      <td>300+</td>\n",
       "      <td>1.5</td>\n",
       "      <td>NaN</td>\n",
       "      <td>...</td>\n",
       "      <td>extranuclear</td>\n",
       "      <td>0.502149</td>\n",
       "      <td>0.634688</td>\n",
       "      <td>1.423556e-07</td>\n",
       "      <td>4.383508e-05</td>\n",
       "      <td>0.488439</td>\n",
       "      <td>0.412596</td>\n",
       "      <td>0.169994</td>\n",
       "      <td>0.829664</td>\n",
       "      <td>0</td>\n",
       "    </tr>\n",
       "    <tr>\n",
       "      <th>156868</th>\n",
       "      <td>perinuclear</td>\n",
       "      <td>pattern</td>\n",
       "      <td>11</td>\n",
       "      <td>10-20</td>\n",
       "      <td>108</td>\n",
       "      <td>blank</td>\n",
       "      <td>100</td>\n",
       "      <td>60-120</td>\n",
       "      <td>1.5</td>\n",
       "      <td>NaN</td>\n",
       "      <td>...</td>\n",
       "      <td>random</td>\n",
       "      <td>0.013130</td>\n",
       "      <td>0.017682</td>\n",
       "      <td>1.378627e-05</td>\n",
       "      <td>2.662874e-08</td>\n",
       "      <td>0.974515</td>\n",
       "      <td>0.998928</td>\n",
       "      <td>0.599384</td>\n",
       "      <td>0.400611</td>\n",
       "      <td>0</td>\n",
       "    </tr>\n",
       "    <tr>\n",
       "      <th>156869</th>\n",
       "      <td>perinuclear</td>\n",
       "      <td>pattern</td>\n",
       "      <td>11</td>\n",
       "      <td>10-20</td>\n",
       "      <td>108</td>\n",
       "      <td>blank</td>\n",
       "      <td>168</td>\n",
       "      <td>120-180</td>\n",
       "      <td>1.5</td>\n",
       "      <td>NaN</td>\n",
       "      <td>...</td>\n",
       "      <td>random</td>\n",
       "      <td>0.059709</td>\n",
       "      <td>0.001133</td>\n",
       "      <td>3.874913e-04</td>\n",
       "      <td>1.750608e-06</td>\n",
       "      <td>0.153743</td>\n",
       "      <td>0.999459</td>\n",
       "      <td>0.706572</td>\n",
       "      <td>0.294269</td>\n",
       "      <td>0</td>\n",
       "    </tr>\n",
       "    <tr>\n",
       "      <th>156870</th>\n",
       "      <td>perinuclear</td>\n",
       "      <td>pattern</td>\n",
       "      <td>11</td>\n",
       "      <td>10-20</td>\n",
       "      <td>108</td>\n",
       "      <td>blank</td>\n",
       "      <td>298</td>\n",
       "      <td>240-300</td>\n",
       "      <td>1.5</td>\n",
       "      <td>NaN</td>\n",
       "      <td>...</td>\n",
       "      <td>random</td>\n",
       "      <td>0.189284</td>\n",
       "      <td>0.011436</td>\n",
       "      <td>1.868191e-04</td>\n",
       "      <td>7.062278e-06</td>\n",
       "      <td>0.877631</td>\n",
       "      <td>0.999703</td>\n",
       "      <td>0.696556</td>\n",
       "      <td>0.304411</td>\n",
       "      <td>0</td>\n",
       "    </tr>\n",
       "  </tbody>\n",
       "</table>\n",
       "<p>125852 rows × 26 columns</p>\n",
       "</div>"
      ],
      "text/plain": [
       "            pattern random_or_pattern  n_spots n_spots_interval cell_id  \\\n",
       "663       cell-edge           pattern       81           90-100      27   \n",
       "664       cell-edge           pattern       81           90-100      27   \n",
       "665       cell-edge           pattern       81           90-100      27   \n",
       "897       cell-edge           pattern       24            20-30      27   \n",
       "898       cell-edge           pattern       24            20-30      27   \n",
       "...             ...               ...      ...              ...     ...   \n",
       "156222  perinuclear           pattern       27            20-30     108   \n",
       "156223  perinuclear           pattern       27            20-30     108   \n",
       "156868  perinuclear           pattern       11            10-20     108   \n",
       "156869  perinuclear           pattern       11            10-20     108   \n",
       "156870  perinuclear           pattern       11            10-20     108   \n",
       "\n",
       "        genes  rotation rotation_interval  blur blur_interval  ...  \\\n",
       "663     blank       307              300+   1.5           NaN  ...   \n",
       "664     blank        45              0-60   1.5           NaN  ...   \n",
       "665     blank        90            60-120   1.5           NaN  ...   \n",
       "897     blank       251           240-300   1.5           NaN  ...   \n",
       "898     blank        65            60-120   1.5           NaN  ...   \n",
       "...       ...       ...               ...   ...           ...  ...   \n",
       "156222  blank       251           240-300   1.5           NaN  ...   \n",
       "156223  blank       332              300+   1.5           NaN  ...   \n",
       "156868  blank       100            60-120   1.5           NaN  ...   \n",
       "156869  blank       168           120-180   1.5           NaN  ...   \n",
       "156870  blank       298           240-300   1.5           NaN  ...   \n",
       "\n",
       "        pattern_classified cell-edge extranuclear  intranuclear  pericellular  \\\n",
       "663              cell-edge  0.992096     0.934968  5.487039e-15  1.322831e-10   \n",
       "664           extranuclear  0.754152     0.798077  2.422030e-14  2.009141e-09   \n",
       "665              cell-edge  0.999964     0.999141  8.410337e-18  1.347031e-07   \n",
       "897                 random  0.972466     0.127212  2.169975e-11  1.990620e-15   \n",
       "898                 random  0.004701     0.000760  6.626342e-10  3.418462e-15   \n",
       "...                    ...       ...          ...           ...           ...   \n",
       "156222         perinuclear  0.032426     0.723309  1.660171e-07  1.175373e-04   \n",
       "156223        extranuclear  0.502149     0.634688  1.423556e-07  4.383508e-05   \n",
       "156868              random  0.013130     0.017682  1.378627e-05  2.662874e-08   \n",
       "156869              random  0.059709     0.001133  3.874913e-04  1.750608e-06   \n",
       "156870              random  0.189284     0.011436  1.868191e-04  7.062278e-06   \n",
       "\n",
       "        perinuclear    random  random_score  pattern_score  batch  \n",
       "663        0.000015  0.967630      0.392781       0.608507      0  \n",
       "664        0.000235  0.627178      0.244180       0.757463      0  \n",
       "665        0.000001  0.035344      0.089089       0.911159      0  \n",
       "897        0.000403  1.000000      0.983680       0.016362      0  \n",
       "898        0.003140  1.000000      0.945318       0.054801      0  \n",
       "...             ...       ...           ...            ...    ...  \n",
       "156222     0.996019  0.033108      0.110164       0.890005      0  \n",
       "156223     0.488439  0.412596      0.169994       0.829664      0  \n",
       "156868     0.974515  0.998928      0.599384       0.400611      0  \n",
       "156869     0.153743  0.999459      0.706572       0.294269      0  \n",
       "156870     0.877631  0.999703      0.696556       0.304411      0  \n",
       "\n",
       "[125852 rows x 26 columns]"
      ]
     },
     "execution_count": 11,
     "metadata": {},
     "output_type": "execute_result"
    }
   ],
   "source": [
    "adata_train_pattern.obs"
   ]
  },
  {
   "cell_type": "code",
   "execution_count": 16,
   "metadata": {},
   "outputs": [
    {
     "data": {
      "text/plain": [
       "ArrayView([[-0.3208191 ,  2.8225806 , -1.3590801 , ..., -5.384647  ,\n",
       "            -8.265151  ,  5.773748  ],\n",
       "           [-0.40570036,  2.9171438 , -0.9277612 , ..., -5.3958044 ,\n",
       "            -7.8791065 ,  5.4216666 ],\n",
       "           [-0.97488296,  3.6805127 , -1.9317566 , ..., -5.5002418 ,\n",
       "            -7.7567444 ,  5.3031464 ],\n",
       "           ...,\n",
       "           [ 2.6768274 ,  2.9809794 , -2.6266003 , ..., -4.2222443 ,\n",
       "            -7.9422026 ,  7.013573  ],\n",
       "           [ 1.7666696 ,  2.5898604 , -1.8280711 , ..., -2.933899  ,\n",
       "            -6.9415245 ,  6.9567447 ],\n",
       "           [ 1.7096524 ,  2.0780938 , -1.8532205 , ..., -3.107962  ,\n",
       "            -6.902675  ,  6.38632   ]], dtype=float32)"
      ]
     },
     "execution_count": 16,
     "metadata": {},
     "output_type": "execute_result"
    }
   ],
   "source": [
    "adata_train_pattern.obsm['latent']"
   ]
  },
  {
   "cell_type": "code",
   "execution_count": 24,
   "metadata": {},
   "outputs": [
    {
     "data": {
      "text/plain": [
       "354.7562543493772"
      ]
     },
     "execution_count": 24,
     "metadata": {},
     "output_type": "execute_result"
    }
   ],
   "source": [
    "np.sqrt(125852)"
   ]
  },
  {
   "cell_type": "markdown",
   "metadata": {},
   "source": [
    "We use average='macro', which calculate the F1 score over all the classes, which we do because all patterns have an equal amount of observations, so there is no class imbalance."
   ]
  },
  {
   "cell_type": "code",
   "execution_count": 17,
   "metadata": {},
   "outputs": [
    {
     "data": {
      "text/plain": [
       "array([[0.5566338 , 0.37366953, 0.31004786, ..., 0.7680447 , 0.387528  ,\n",
       "        0.34089357],\n",
       "       [0.5494416 , 0.38041553, 0.3482966 , ..., 0.7675096 , 0.41180426,\n",
       "        0.30852818],\n",
       "       [0.5012134 , 0.43487304, 0.2592637 , ..., 0.7625008 , 0.41949895,\n",
       "        0.2976331 ],\n",
       "       ...,\n",
       "       [0.8106315 , 0.38496947, 0.19764595, ..., 0.8237932 , 0.4078365 ,\n",
       "        0.45486546],\n",
       "       [0.7335117 , 0.35706764, 0.26845837, ..., 0.88558185, 0.47076374,\n",
       "        0.44964147],\n",
       "       [0.7286805 , 0.32055902, 0.2662282 , ..., 0.87723386, 0.47320676,\n",
       "        0.39720476]], dtype=float32)"
      ]
     },
     "execution_count": 17,
     "metadata": {},
     "output_type": "execute_result"
    }
   ],
   "source": [
    "scaler = MinMaxScaler()\n",
    "adata_train_pattern.obsm['latent']=scaler.fit_transform(adata_train_pattern.obsm['latent'])\n",
    "adata_train_pattern.obsm['latent']"
   ]
  },
  {
   "cell_type": "code",
   "execution_count": 18,
   "metadata": {},
   "outputs": [
    {
     "name": "stdout",
     "output_type": "stream",
     "text": [
      "Fitting 5 folds for each of 13 candidates, totalling 65 fits\n"
     ]
    },
    {
     "name": "stderr",
     "output_type": "stream",
     "text": [
      "/media/gambino/students_workdir/nynke/miniconda3/envs/blurry/lib/python3.9/site-packages/sklearn/pipeline.py:336: UserWarning: Persisting input arguments took 0.55s to run.\n",
      "If this happens often in your code, it can cause performance problems \n",
      "(results will be correct in all cases). \n",
      "The reason for this is probably some large input arguments for a wrapped\n",
      " function (e.g. large strings).\n",
      "THIS IS A JOBLIB ISSUE. If you can, kindly provide the joblib's team with an\n",
      " example so that they can fix the problem.\n",
      "  X, fitted_transformer = fit_transform_one_cached(\n"
     ]
    },
    {
     "name": "stdout",
     "output_type": "stream",
     "text": [
      "[CV 1/5] END ........classifier__n_neighbors=55;, score=0.843 total time= 1.9min\n"
     ]
    },
    {
     "name": "stderr",
     "output_type": "stream",
     "text": [
      "/media/gambino/students_workdir/nynke/miniconda3/envs/blurry/lib/python3.9/site-packages/sklearn/pipeline.py:336: UserWarning: Persisting input arguments took 0.52s to run.\n",
      "If this happens often in your code, it can cause performance problems \n",
      "(results will be correct in all cases). \n",
      "The reason for this is probably some large input arguments for a wrapped\n",
      " function (e.g. large strings).\n",
      "THIS IS A JOBLIB ISSUE. If you can, kindly provide the joblib's team with an\n",
      " example so that they can fix the problem.\n",
      "  X, fitted_transformer = fit_transform_one_cached(\n"
     ]
    },
    {
     "name": "stdout",
     "output_type": "stream",
     "text": [
      "[CV 2/5] END ........classifier__n_neighbors=55;, score=0.833 total time= 1.9min\n"
     ]
    },
    {
     "name": "stderr",
     "output_type": "stream",
     "text": [
      "/media/gambino/students_workdir/nynke/miniconda3/envs/blurry/lib/python3.9/site-packages/sklearn/pipeline.py:336: UserWarning: Persisting input arguments took 0.51s to run.\n",
      "If this happens often in your code, it can cause performance problems \n",
      "(results will be correct in all cases). \n",
      "The reason for this is probably some large input arguments for a wrapped\n",
      " function (e.g. large strings).\n",
      "THIS IS A JOBLIB ISSUE. If you can, kindly provide the joblib's team with an\n",
      " example so that they can fix the problem.\n",
      "  X, fitted_transformer = fit_transform_one_cached(\n"
     ]
    },
    {
     "name": "stdout",
     "output_type": "stream",
     "text": [
      "[CV 3/5] END ........classifier__n_neighbors=55;, score=0.844 total time= 1.9min\n"
     ]
    },
    {
     "name": "stderr",
     "output_type": "stream",
     "text": [
      "/media/gambino/students_workdir/nynke/miniconda3/envs/blurry/lib/python3.9/site-packages/sklearn/pipeline.py:336: UserWarning: Persisting input arguments took 0.52s to run.\n",
      "If this happens often in your code, it can cause performance problems \n",
      "(results will be correct in all cases). \n",
      "The reason for this is probably some large input arguments for a wrapped\n",
      " function (e.g. large strings).\n",
      "THIS IS A JOBLIB ISSUE. If you can, kindly provide the joblib's team with an\n",
      " example so that they can fix the problem.\n",
      "  X, fitted_transformer = fit_transform_one_cached(\n"
     ]
    },
    {
     "name": "stdout",
     "output_type": "stream",
     "text": [
      "[CV 4/5] END ........classifier__n_neighbors=55;, score=0.828 total time= 1.9min\n"
     ]
    },
    {
     "name": "stderr",
     "output_type": "stream",
     "text": [
      "/media/gambino/students_workdir/nynke/miniconda3/envs/blurry/lib/python3.9/site-packages/sklearn/pipeline.py:336: UserWarning: Persisting input arguments took 0.52s to run.\n",
      "If this happens often in your code, it can cause performance problems \n",
      "(results will be correct in all cases). \n",
      "The reason for this is probably some large input arguments for a wrapped\n",
      " function (e.g. large strings).\n",
      "THIS IS A JOBLIB ISSUE. If you can, kindly provide the joblib's team with an\n",
      " example so that they can fix the problem.\n",
      "  X, fitted_transformer = fit_transform_one_cached(\n"
     ]
    },
    {
     "name": "stdout",
     "output_type": "stream",
     "text": [
      "[CV 5/5] END ........classifier__n_neighbors=55;, score=0.846 total time= 2.0min\n",
      "[CV 1/5] END .......classifier__n_neighbors=105;, score=0.839 total time=  24.1s\n",
      "[CV 2/5] END .......classifier__n_neighbors=105;, score=0.830 total time=  23.6s\n",
      "[CV 3/5] END .......classifier__n_neighbors=105;, score=0.841 total time=  23.6s\n",
      "[CV 4/5] END .......classifier__n_neighbors=105;, score=0.824 total time=  24.0s\n",
      "[CV 5/5] END .......classifier__n_neighbors=105;, score=0.844 total time=  24.6s\n",
      "[CV 1/5] END .......classifier__n_neighbors=155;, score=0.837 total time=  24.2s\n",
      "[CV 2/5] END .......classifier__n_neighbors=155;, score=0.827 total time=  23.6s\n",
      "[CV 3/5] END .......classifier__n_neighbors=155;, score=0.839 total time=  23.7s\n",
      "[CV 4/5] END .......classifier__n_neighbors=155;, score=0.823 total time=  24.0s\n",
      "[CV 5/5] END .......classifier__n_neighbors=155;, score=0.842 total time=  24.4s\n",
      "[CV 1/5] END .......classifier__n_neighbors=205;, score=0.836 total time=  24.2s\n",
      "[CV 2/5] END .......classifier__n_neighbors=205;, score=0.825 total time=  23.5s\n",
      "[CV 3/5] END .......classifier__n_neighbors=205;, score=0.836 total time=  23.6s\n",
      "[CV 4/5] END .......classifier__n_neighbors=205;, score=0.820 total time=  24.0s\n",
      "[CV 5/5] END .......classifier__n_neighbors=205;, score=0.839 total time=  24.6s\n",
      "[CV 1/5] END .......classifier__n_neighbors=255;, score=0.835 total time=  24.4s\n",
      "[CV 2/5] END .......classifier__n_neighbors=255;, score=0.822 total time=  23.6s\n",
      "[CV 3/5] END .......classifier__n_neighbors=255;, score=0.834 total time=  23.6s\n",
      "[CV 4/5] END .......classifier__n_neighbors=255;, score=0.818 total time=  24.0s\n",
      "[CV 5/5] END .......classifier__n_neighbors=255;, score=0.837 total time=  24.5s\n",
      "[CV 1/5] END .......classifier__n_neighbors=305;, score=0.834 total time=  24.2s\n",
      "[CV 2/5] END .......classifier__n_neighbors=305;, score=0.821 total time=  24.5s\n",
      "[CV 3/5] END .......classifier__n_neighbors=305;, score=0.832 total time=  24.1s\n",
      "[CV 4/5] END .......classifier__n_neighbors=305;, score=0.816 total time=  24.4s\n",
      "[CV 5/5] END .......classifier__n_neighbors=305;, score=0.835 total time=  25.3s\n",
      "[CV 1/5] END .......classifier__n_neighbors=355;, score=0.832 total time=  25.0s\n",
      "[CV 2/5] END .......classifier__n_neighbors=355;, score=0.819 total time=  24.0s\n",
      "[CV 3/5] END .......classifier__n_neighbors=355;, score=0.832 total time=  23.6s\n",
      "[CV 4/5] END .......classifier__n_neighbors=355;, score=0.814 total time=  24.0s\n",
      "[CV 5/5] END .......classifier__n_neighbors=355;, score=0.833 total time=  24.4s\n",
      "[CV 1/5] END .......classifier__n_neighbors=405;, score=0.831 total time=  24.3s\n",
      "[CV 2/5] END .......classifier__n_neighbors=405;, score=0.818 total time=  23.6s\n",
      "[CV 3/5] END .......classifier__n_neighbors=405;, score=0.831 total time=  23.7s\n",
      "[CV 4/5] END .......classifier__n_neighbors=405;, score=0.812 total time=  24.0s\n",
      "[CV 5/5] END .......classifier__n_neighbors=405;, score=0.832 total time=  24.4s\n",
      "[CV 1/5] END .......classifier__n_neighbors=455;, score=0.830 total time=  24.2s\n",
      "[CV 2/5] END .......classifier__n_neighbors=455;, score=0.816 total time=  23.6s\n",
      "[CV 3/5] END .......classifier__n_neighbors=455;, score=0.829 total time=  23.6s\n",
      "[CV 4/5] END .......classifier__n_neighbors=455;, score=0.811 total time=  23.9s\n",
      "[CV 5/5] END .......classifier__n_neighbors=455;, score=0.831 total time=  24.0s\n",
      "[CV 1/5] END .......classifier__n_neighbors=505;, score=0.829 total time=  23.5s\n",
      "[CV 2/5] END .......classifier__n_neighbors=505;, score=0.815 total time=  22.9s\n",
      "[CV 3/5] END .......classifier__n_neighbors=505;, score=0.828 total time=  23.0s\n",
      "[CV 4/5] END .......classifier__n_neighbors=505;, score=0.810 total time=  23.4s\n",
      "[CV 5/5] END .......classifier__n_neighbors=505;, score=0.830 total time=  23.8s\n",
      "[CV 1/5] END .......classifier__n_neighbors=555;, score=0.828 total time=  23.6s\n",
      "[CV 2/5] END .......classifier__n_neighbors=555;, score=0.814 total time=  23.4s\n",
      "[CV 3/5] END .......classifier__n_neighbors=555;, score=0.827 total time=  23.6s\n",
      "[CV 4/5] END .......classifier__n_neighbors=555;, score=0.809 total time=  24.0s\n",
      "[CV 5/5] END .......classifier__n_neighbors=555;, score=0.829 total time=  24.7s\n",
      "[CV 1/5] END .......classifier__n_neighbors=605;, score=0.827 total time=  24.4s\n",
      "[CV 2/5] END .......classifier__n_neighbors=605;, score=0.813 total time=  23.7s\n",
      "[CV 3/5] END .......classifier__n_neighbors=605;, score=0.826 total time=  23.8s\n",
      "[CV 4/5] END .......classifier__n_neighbors=605;, score=0.807 total time=  24.0s\n",
      "[CV 5/5] END .......classifier__n_neighbors=605;, score=0.829 total time=  24.5s\n",
      "[CV 1/5] END .......classifier__n_neighbors=655;, score=0.825 total time=  24.2s\n",
      "[CV 2/5] END .......classifier__n_neighbors=655;, score=0.811 total time=  23.6s\n",
      "[CV 3/5] END .......classifier__n_neighbors=655;, score=0.825 total time=  23.7s\n",
      "[CV 4/5] END .......classifier__n_neighbors=655;, score=0.806 total time=  24.1s\n",
      "[CV 5/5] END .......classifier__n_neighbors=655;, score=0.827 total time=  24.5s\n"
     ]
    },
    {
     "name": "stderr",
     "output_type": "stream",
     "text": [
      "/media/gambino/students_workdir/nynke/miniconda3/envs/blurry/lib/python3.9/site-packages/sklearn/pipeline.py:336: UserWarning: Persisting input arguments took 0.65s to run.\n",
      "If this happens often in your code, it can cause performance problems \n",
      "(results will be correct in all cases). \n",
      "The reason for this is probably some large input arguments for a wrapped\n",
      " function (e.g. large strings).\n",
      "THIS IS A JOBLIB ISSUE. If you can, kindly provide the joblib's team with an\n",
      " example so that they can fix the problem.\n",
      "  X, fitted_transformer = fit_transform_one_cached(\n"
     ]
    },
    {
     "data": {
      "image/png": "[encoded data removed]",
      "text/plain": [
       "<Figure size 576x288 with 2 Axes>"
      ]
     },
     "metadata": {
      "needs_background": "light"
     },
     "output_type": "display_data"
    }
   ],
   "source": [
    "# Author: Tom Dupre la Tour\n",
    "#\n",
    "# License: BSD 3 clause\n",
    "from tempfile import TemporaryDirectory\n",
    "\n",
    "import matplotlib.pyplot as plt\n",
    "\n",
    "#from sklearn.datasets import load_digits\n",
    "from sklearn.model_selection import GridSearchCV\n",
    "from sklearn.neighbors import KNeighborsClassifier, KNeighborsTransformer\n",
    "from sklearn.pipeline import Pipeline\n",
    "\n",
    "latent = adata_train_pattern.obsm[\"latent\"]\n",
    "labels = adata_train_pattern.obs[\"pattern\"]\n",
    "n_neighbors_list = [55,105,155,205,255,305,355,405,455,505,555,605,655]\n",
    "\n",
    "# The transformer computes the nearest neighbors graph using the maximum number\n",
    "# of neighbors necessary in the grid search. The classifier model filters the\n",
    "# nearest neighbors graph as required by its own n_neighbors parameter.\n",
    "graph_model = KNeighborsTransformer(n_neighbors=max(n_neighbors_list), mode=\"distance\")\n",
    "classifier_model = KNeighborsClassifier(metric=\"precomputed\")\n",
    "\n",
    "# Note that we give `memory` a directory to cache the graph computation\n",
    "# that will be used several times when tuning the hyperparameters of the\n",
    "# classifier.\n",
    "with TemporaryDirectory(prefix=\"sklearn_graph_cache_\") as tmpdir:\n",
    "    full_model = Pipeline(\n",
    "        steps=[(\"graph\", graph_model), (\"classifier\", classifier_model)], memory=tmpdir\n",
    "    )\n",
    "\n",
    "    param_grid = {\"classifier__n_neighbors\": n_neighbors_list}\n",
    "    grid_model = GridSearchCV(full_model, param_grid, verbose = 3, scoring='f1_macro', error_score='raise')\n",
    "    grid_model.fit(latent, labels)\n",
    "\n",
    "# Plot the results of the grid search.\n",
    "fig, axes = plt.subplots(1, 2, figsize=(8, 4))\n",
    "axes[0].errorbar(\n",
    "    x=n_neighbors_list,\n",
    "    y=grid_model.cv_results_[\"mean_test_score\"],\n",
    "    yerr=grid_model.cv_results_[\"std_test_score\"],\n",
    ")\n",
    "axes[0].set(xlabel=\"n_neighbors\", title=\"Classification accuracy\")\n",
    "axes[1].errorbar(\n",
    "    x=n_neighbors_list,\n",
    "    y=grid_model.cv_results_[\"mean_fit_time\"],\n",
    "    yerr=grid_model.cv_results_[\"std_fit_time\"],\n",
    "    color=\"r\",\n",
    ")\n",
    "axes[1].set(xlabel=\"n_neighbors\", title=\"Fit time (with caching)\")\n",
    "fig.tight_layout()\n",
    "plt.show()"
   ]
  },
  {
   "cell_type": "code",
   "execution_count": 20,
   "metadata": {},
   "outputs": [],
   "source": [
    "knn_pattern = grid_model.cv_results_\n",
    "np.savez('knn_patterns.npz', **knn_pattern)"
   ]
  },
  {
   "cell_type": "code",
   "execution_count": null,
   "metadata": {},
   "outputs": [],
   "source": []
  }
 ],
 "metadata": {
  "kernelspec": {
   "display_name": "Python 3",
   "language": "python",
   "name": "python3"
  },
  "language_info": {
   "codemirror_mode": {
    "name": "ipython",
    "version": 3
   },
   "file_extension": ".py",
   "mimetype": "text/x-python",
   "name": "python",
   "nbconvert_exporter": "python",
   "pygments_lexer": "ipython3",
   "version": "3.9.13"
  }
 },
 "nbformat": 4,
 "nbformat_minor": 2
}
