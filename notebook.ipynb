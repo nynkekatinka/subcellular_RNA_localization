{
 "cells": [
  {
   "cell_type": "code",
   "execution_count": 3,
   "metadata": {},
   "outputs": [
    {
     "name": "stdout",
     "output_type": "stream",
     "text": [
      "The autoreload extension is already loaded. To reload it, use:\n",
      "  %reload_ext autoreload\n"
     ]
    }
   ],
   "source": [
    "%load_ext autoreload\n",
    "%autoreload 2\n",
    "# when debugging the python scripts, with the autoreload the jupyter notebook sync's to the most up to date scripts. See: https://ipython.org/ipython-doc/3/config/extensions/autoreload.html\n",
    "import torch\n",
    "import numpy as np\n",
    "import pandas as pd\n",
    "import matplotlib.pyplot as plt\n",
    "import scanpy as sc\n",
    "import sklearn.model_selection as skm\n",
    "from sklearn.ensemble import RandomForestClassifier\n",
    "from sklearn.model_selection import GridSearchCV\n",
    "from sklearn.metrics import f1_score, fbeta_score, make_scorer, roc_auc_score, RocCurveDisplay\n",
    "from sklearn.preprocessing import MinMaxScaler\n",
    "from sklearn import metrics\n",
    "import random\n",
    "from tqdm import tqdm\n",
    "from dataprep import *\n",
    "import anndata as ad\n",
    "import pickle"
   ]
  },
  {
   "cell_type": "code",
   "execution_count": 4,
   "metadata": {},
   "outputs": [],
   "source": [
    "seed = 101\n",
    "random.seed(seed)\n",
    "np.random.seed(seed)\n",
    "torch.manual_seed(seed)\n",
    "rng = np.random.RandomState(seed)"
   ]
  },
  {
   "cell_type": "markdown",
   "metadata": {},
   "source": [
    "## Loading RF Models & Datasets"
   ]
  },
  {
   "cell_type": "markdown",
   "metadata": {},
   "source": [
    "Paths to pericellular/other patterns RF models"
   ]
  },
  {
   "cell_type": "code",
   "execution_count": 4,
   "metadata": {},
   "outputs": [],
   "source": [
    "path1 = \"/media/gambino/students_workdir/nynke/blurry/temp_objects/rf_balanced/rf_pericellular.pkl\"\n",
    "with open(path1, 'rb') as p:\n",
    "    rf_pericellular_splitID_balanced = pickle.load(p)\n",
    "\n",
    "# The plots from the ppt are from this unbalanced model, didn't have the time to make a balanced version yet.\n",
    "path2 = \"/media/gambino/students_workdir/nynke/blurry/temp_objects/incl_random/rf_pericellular.pkl\"\n",
    "with open(path2, 'rb') as p:\n",
    "    rf_pericellular_inclRandom_splitID_unbalanced = pickle.load(p)\n",
    "\n",
    "path3 = \"/media/gambino/students_workdir/nynke/blurry/temp_objects/rf_balanced/rf_pericellular_balanced_mixedIDs.pkl\"\n",
    "with open(path3, 'rb') as p:\n",
    "    rf_pericellular_mixedID_balanced = pickle.load(p)"
   ]
  },
  {
   "cell_type": "markdown",
   "metadata": {},
   "source": [
    "Here's the paths to load the pattern/no pattern RF (balanced & unbalanced) in case you would like them:\n",
    "\n",
    "path = f\"/media/gambino/students_workdir/nynke/blurry/temp_objects/rf_balanced/rf_pattern.pkl\"\n",
    "with open(path, 'rb') as p:\n",
    "    rf_pattern_balanced = pickle.load(p)\n",
    "\n",
    "path = f\"/media/gambino/students_workdir/nynke/blurry/temp_objects/rf_pattern_noPattern.pkl\"\n",
    "with open(path, 'rb') as p:\n",
    "    rf_pattern_unbalanced = pickle.load(p)"
   ]
  },
  {
   "cell_type": "code",
   "execution_count": 5,
   "metadata": {},
   "outputs": [],
   "source": [
    "adata_all_spots = sc.read_h5ad(\"/media/gambino/students_workdir/nynke/data/all_spots_simulated_embeddings_adata.h5ad\")\n",
    "adata_split_cellID = sc.read_h5ad(\"/media/gambino/students_workdir/nynke/new_model_with_cell_id_left_out_custom_nynke_panel_simulated_embeddings_adata.h5ad\")\n",
    "adata_mixed_cellID = sc.read_h5ad(\"/media/gambino/students_workdir/nynke/data/custom_nynke_panel_simulated_embeddings_adata.h5ad\")"
   ]
  },
  {
   "cell_type": "code",
   "execution_count": 6,
   "metadata": {},
   "outputs": [],
   "source": [
    "# Add an extra column to the adata.obs dataframe that contains the pattern strength, given that protrusion has different pattern strength levels than the other patterns.\n",
    "choices = ['strong', 'intermediate', 'low']\n",
    "for adata in [adata_split_cellID, adata_all_spots, adata_mixed_cellID]:\n",
    "    conditions = [\n",
    "        (adata.obs['prop'] == 0.9) | ((adata.obs['prop'] == 0.4) & (adata.obs['pattern'] == 'protrusion')),\n",
    "        (adata.obs['prop'] == 0.5) | ((adata.obs['prop'] == 0.2) & (adata.obs['pattern'] == 'protrusion')),\n",
    "        (adata.obs['prop'] == 0.1) | ((adata.obs['prop'] == 0.0) & (adata.obs['pattern'] == 'protrusion'))\n",
    "    ]\n",
    "\n",
    "    adata.obs['pattern_strength'] = np.select(conditions, choices, default='unknown')"
   ]
  },
  {
   "cell_type": "code",
   "execution_count": 7,
   "metadata": {},
   "outputs": [],
   "source": [
    "# Creating the simulated genes (1 gene ~300 cells). Method can be found in dataprep.py\n",
    "# In this case, the genes contain all the counts, iso only low counts. \n",
    "pericellular_dict_all = subsetGenes(adata_all_spots, 'pericellular', pattern_strength = \"strong\", mixed_counts = True)\n",
    "peri_dict_mixed_cellID = subsetGenes(adata_mixed_cellID, 'pericellular', pattern_strength = \"strong\", mixed_counts = True)\n",
    "pericellular_dict_split_cellID = subsetGenes(adata_split_cellID, 'pericellular', pattern_strength = \"strong\", mixed_counts = True)\n",
    "pericellular_dict_split_testID = subsetGenes(adata_split_cellID[adata_split_cellID.obs['cell_id'].isin(adata_split_cellID.uns['test_cellIDs'])], 'pericellular', pattern_strength = \"strong\", mixed_counts = True)"
   ]
  },
  {
   "cell_type": "markdown",
   "metadata": {},
   "source": [
    "# Generating the Histograms"
   ]
  },
  {
   "cell_type": "markdown",
   "metadata": {},
   "source": [
    "Based on the Dictionaries created above, this code snippet creates a dataframe with the RF classification probabilities of the different models for the different datasets. The histograms below include 10 of these genes, hence the range(10). \n",
    "\n",
    "Predict_proba returns a nx2 array, where the two columns are the probabilities for [other pattern, pattern], hence the [:,1]"
   ]
  },
  {
   "cell_type": "code",
   "execution_count": 8,
   "metadata": {},
   "outputs": [],
   "source": [
    "rows = []\n",
    "gene_id = np.array(range(10))\n",
    " \n",
    "for model in [rf_pericellular_splitID_balanced, rf_pericellular_inclRandom_splitID_unbalanced,rf_pericellular_mixedID_balanced]:\n",
    "    for i in range(10):\n",
    "        all_spots = model.predict_proba(pericellular_dict_all.get(i).obsm[\"latent\"])[:,1]\n",
    "        mixed_cellID = model.predict_proba(peri_dict_mixed_cellID.get(i).obsm[\"latent\"])[:,1]\n",
    "        split_testID = model.predict_proba(pericellular_dict_split_testID.get(i).obsm[\"latent\"])[:,1]\n",
    "        split_allID = model.predict_proba(pericellular_dict_split_cellID.get(i).obsm[\"latent\"])[:,1]\n",
    "        for value in all_spots:\n",
    "            rows.append({'prob_pattern': value, 'model':model, 'group': 'all_spots', 'gene_id': i})\n",
    "        for value in mixed_cellID:\n",
    "            rows.append({'prob_pattern': value, 'model':model, 'group': 'mixed_cellID', 'gene_id': i})\n",
    "        for value in split_testID:\n",
    "            rows.append({'prob_pattern': value, 'model':model, 'group': 'split_testID', 'gene_id': i})\n",
    "        for value in split_allID:\n",
    "            rows.append({'prob_pattern': value, 'model':model, 'group': 'split_allID', 'gene_id': i})\n",
    "df = pd.DataFrame(rows)"
   ]
  },
  {
   "cell_type": "markdown",
   "metadata": {},
   "source": [
    "Code below generates the histograms. You can easily change the model and dataset shown in the plot by changing the numbers in the third line."
   ]
  },
  {
   "cell_type": "code",
   "execution_count": 9,
   "metadata": {},
   "outputs": [
    {
     "name": "stdout",
     "output_type": "stream",
     "text": [
      "67\n"
     ]
    },
    {
     "data": {
      "image/png": "[encoded data removed]",
      "text/plain": [
       "<Figure size 432x288 with 1 Axes>"
      ]
     },
     "metadata": {
      "needs_background": "light"
     },
     "output_type": "display_data"
    }
   ],
   "source": [
    "groups = ['all_spots','mixed_cellID','split_testID','split_allID']\n",
    "models = [rf_pericellular_splitID_balanced, rf_pericellular_inclRandom_splitID_unbalanced,rf_pericellular_mixedID_balanced]\n",
    "data = df[(df['group']==groups[2])&(df['model']==models[2])]\n",
    "\n",
    "print(len(data['prob_pattern'].unique()))\n",
    "plt.hist(data['prob_pattern'], bins=38, alpha=0.5, label='Pericellular: all counts', density=True)\n",
    "\n",
    "plt.title(\"RF: Balanced Mixed cellID, anndata: custom panel, split cellID, test+train\")\n",
    "plt.legend(loc='upper right')\n",
    "plt.xlabel(\"Probability for Pericellular pattern (versus other patterns)\")\n",
    "plt.ylabel(\"Relative frequency\")\n",
    "plt.show()"
   ]
  },
  {
   "cell_type": "markdown",
   "metadata": {},
   "source": [
    "# Code I used to generate the RF in case you're interested"
   ]
  },
  {
   "cell_type": "markdown",
   "metadata": {},
   "source": [
    "## Preprocessing data"
   ]
  },
  {
   "cell_type": "code",
   "execution_count": 13,
   "metadata": {},
   "outputs": [],
   "source": [
    "# Decided to use \"no pattern\" iso \"random\" for pattern versus no pattern classifier. \n",
    "adata_split_cellID.obs['random_or_pattern'] = adata_split_cellID.obs['random_or_pattern'].replace('random','no_pattern')\n",
    "adata_split_cellID.obs['pattern'] = adata_split_cellID.obs['pattern'].replace('random','no_pattern')"
   ]
  },
  {
   "cell_type": "code",
   "execution_count": 14,
   "metadata": {},
   "outputs": [],
   "source": [
    "adata_strong = adata_split_cellID[adata_split_cellID.obs['pattern_strength']=='strong']\n",
    "\n",
    "adata_train = adata_strong[adata_strong.obs['cell_id'].isin(adata_strong.uns['train_cellIDs'])]\n",
    "adata_test = adata_strong[adata_strong.obs['cell_id'].isin(adata_strong.uns['test_cellIDs'])]"
   ]
  },
  {
   "cell_type": "markdown",
   "metadata": {},
   "source": [
    "### Pattern / No pattern RF"
   ]
  },
  {
   "cell_type": "code",
   "execution_count": 17,
   "metadata": {},
   "outputs": [],
   "source": [
    "# Balancing the training sets. \n",
    "adata_train_balanced = balanceTrainingData_pattern_noPattern(adata_train, random_seed=seed)\n",
    "adata_test_balanced = balanceTrainingData_pattern_noPattern(adata_test, random_seed=seed)"
   ]
  },
  {
   "cell_type": "markdown",
   "metadata": {},
   "source": [
    "I did hyperparameter tuning, and the best parameters I got were with `max_features=3` and `n_estimators=200`. \n",
    "Can share that if you want, but don't think it is very relevant here."
   ]
  },
  {
   "cell_type": "code",
   "execution_count": 16,
   "metadata": {},
   "outputs": [
    {
     "data": {
      "text/html": [
       "<style>#sk-container-id-1 {color: black;background-color: white;}#sk-container-id-1 pre{padding: 0;}#sk-container-id-1 div.sk-toggleable {background-color: white;}#sk-container-id-1 label.sk-toggleable__label {cursor: pointer;display: block;width: 100%;margin-bottom: 0;padding: 0.3em;box-sizing: border-box;text-align: center;}#sk-container-id-1 label.sk-toggleable__label-arrow:before {content: \"▸\";float: left;margin-right: 0.25em;color: #696969;}#sk-container-id-1 label.sk-toggleable__label-arrow:hover:before {color: black;}#sk-container-id-1 div.sk-estimator:hover label.sk-toggleable__label-arrow:before {color: black;}#sk-container-id-1 div.sk-toggleable__content {max-height: 0;max-width: 0;overflow: hidden;text-align: left;background-color: #f0f8ff;}#sk-container-id-1 div.sk-toggleable__content pre {margin: 0.2em;color: black;border-radius: 0.25em;background-color: #f0f8ff;}#sk-container-id-1 input.sk-toggleable__control:checked~div.sk-toggleable__content {max-height: 200px;max-width: 100%;overflow: auto;}#sk-container-id-1 input.sk-toggleable__control:checked~label.sk-toggleable__label-arrow:before {content: \"▾\";}#sk-container-id-1 div.sk-estimator input.sk-toggleable__control:checked~label.sk-toggleable__label {background-color: #d4ebff;}#sk-container-id-1 div.sk-label input.sk-toggleable__control:checked~label.sk-toggleable__label {background-color: #d4ebff;}#sk-container-id-1 input.sk-hidden--visually {border: 0;clip: rect(1px 1px 1px 1px);clip: rect(1px, 1px, 1px, 1px);height: 1px;margin: -1px;overflow: hidden;padding: 0;position: absolute;width: 1px;}#sk-container-id-1 div.sk-estimator {font-family: monospace;background-color: #f0f8ff;border: 1px dotted black;border-radius: 0.25em;box-sizing: border-box;margin-bottom: 0.5em;}#sk-container-id-1 div.sk-estimator:hover {background-color: #d4ebff;}#sk-container-id-1 div.sk-parallel-item::after {content: \"\";width: 100%;border-bottom: 1px solid gray;flex-grow: 1;}#sk-container-id-1 div.sk-label:hover label.sk-toggleable__label {background-color: #d4ebff;}#sk-container-id-1 div.sk-serial::before {content: \"\";position: absolute;border-left: 1px solid gray;box-sizing: border-box;top: 0;bottom: 0;left: 50%;z-index: 0;}#sk-container-id-1 div.sk-serial {display: flex;flex-direction: column;align-items: center;background-color: white;padding-right: 0.2em;padding-left: 0.2em;position: relative;}#sk-container-id-1 div.sk-item {position: relative;z-index: 1;}#sk-container-id-1 div.sk-parallel {display: flex;align-items: stretch;justify-content: center;background-color: white;position: relative;}#sk-container-id-1 div.sk-item::before, #sk-container-id-1 div.sk-parallel-item::before {content: \"\";position: absolute;border-left: 1px solid gray;box-sizing: border-box;top: 0;bottom: 0;left: 50%;z-index: -1;}#sk-container-id-1 div.sk-parallel-item {display: flex;flex-direction: column;z-index: 1;position: relative;background-color: white;}#sk-container-id-1 div.sk-parallel-item:first-child::after {align-self: flex-end;width: 50%;}#sk-container-id-1 div.sk-parallel-item:last-child::after {align-self: flex-start;width: 50%;}#sk-container-id-1 div.sk-parallel-item:only-child::after {width: 0;}#sk-container-id-1 div.sk-dashed-wrapped {border: 1px dashed gray;margin: 0 0.4em 0.5em 0.4em;box-sizing: border-box;padding-bottom: 0.4em;background-color: white;}#sk-container-id-1 div.sk-label label {font-family: monospace;font-weight: bold;display: inline-block;line-height: 1.2em;}#sk-container-id-1 div.sk-label-container {text-align: center;}#sk-container-id-1 div.sk-container {/* jupyter's `normalize.less` sets `[hidden] { display: none; }` but bootstrap.min.css set `[hidden] { display: none !important; }` so we also need the `!important` here to be able to override the default hidden behavior on the sphinx rendered scikit-learn.org. See: https://github.com/scikit-learn/scikit-learn/issues/21755 */display: inline-block !important;position: relative;}#sk-container-id-1 div.sk-text-repr-fallback {display: none;}</style><div id=\"sk-container-id-1\" class=\"sk-top-container\"><div class=\"sk-text-repr-fallback\"><pre>RandomForestClassifier(max_features=3, n_estimators=200, n_jobs=4,\n",
       "                       random_state=101)</pre><b>In a Jupyter environment, please rerun this cell to show the HTML representation or trust the notebook. <br />On GitHub, the HTML representation is unable to render, please try loading this page with nbviewer.org.</b></div><div class=\"sk-container\" hidden><div class=\"sk-item\"><div class=\"sk-estimator sk-toggleable\"><input class=\"sk-toggleable__control sk-hidden--visually\" id=\"sk-estimator-id-1\" type=\"checkbox\" checked><label for=\"sk-estimator-id-1\" class=\"sk-toggleable__label sk-toggleable__label-arrow\">RandomForestClassifier</label><div class=\"sk-toggleable__content\"><pre>RandomForestClassifier(max_features=3, n_estimators=200, n_jobs=4,\n",
       "                       random_state=101)</pre></div></div></div></div></div>"
      ],
      "text/plain": [
       "RandomForestClassifier(max_features=3, n_estimators=200, n_jobs=4,\n",
       "                       random_state=101)"
      ]
     },
     "execution_count": 16,
     "metadata": {},
     "output_type": "execute_result"
    }
   ],
   "source": [
    "# create random forest classifier and fit on training data\n",
    "rf_classifier_balanced = RandomForestClassifier(n_estimators=200, random_state=seed, max_features=3, bootstrap=True, oob_score=False, n_jobs = 4)\n",
    "rf_classifier_balanced.fit(adata_train_balanced.obsm[\"latent\"], adata_train_balanced.obs[\"random_or_pattern\"]) #first test on pattern/no pattern. Then will select the pattern and cluster that again. "
   ]
  },
  {
   "cell_type": "markdown",
   "metadata": {},
   "source": [
    "### RF: Pericellular versus other patterns "
   ]
  },
  {
   "cell_type": "code",
   "execution_count": 18,
   "metadata": {},
   "outputs": [
    {
     "name": "stderr",
     "output_type": "stream",
     "text": [
      "<ipython-input-18-fa1769cd0c7c>:9: ImplicitModificationWarning: Trying to modify attribute `.obs` of view, initializing view as actual.\n",
      "  adata_train.obs[pattern] = np.where(adata_train.obs[\"pattern\"] == pattern, pattern, \"other\")\n",
      "<ipython-input-18-fa1769cd0c7c>:10: ImplicitModificationWarning: Trying to modify attribute `.obs` of view, initializing view as actual.\n",
      "  adata_test.obs[pattern] = np.where(adata_test.obs[\"pattern\"] == pattern, pattern, \"other\")\n"
     ]
    }
   ],
   "source": [
    "# Add column to data to use for binary classifiers RF, eg. \"pericellular\" or \"other\". \n",
    "# Then balance the training and test set for the binary pattern/other patterns classifier.\n",
    "\n",
    "patterns = adata_train[adata_train.obs['pattern']!='random'].obs['pattern'].unique()\n",
    "train_data = {}\n",
    "test_data = {}\n",
    "\n",
    "for pattern in patterns:\n",
    "    adata_train.obs[pattern] = np.where(adata_train.obs[\"pattern\"] == pattern, pattern, \"other\")\n",
    "    adata_test.obs[pattern] = np.where(adata_test.obs[\"pattern\"] == pattern, pattern, \"other\")\n",
    "    train_data[pattern] = balanceTrainingData(adata_train, testPattern = pattern, include_random = False, random_seed = seed)\n",
    "    test_data[pattern] = balanceTrainingData(adata_test, testPattern = pattern, include_random = False, random_seed = seed)\n"
   ]
  },
  {
   "cell_type": "code",
   "execution_count": 19,
   "metadata": {},
   "outputs": [
    {
     "name": "stdout",
     "output_type": "stream",
     "text": [
      "f1 score:  0.9623204551784507\n",
      "inverted f1 score:  0.9632218726940852\n",
      "auc:  0.9949018150903575\n"
     ]
    },
    {
     "data": {
      "image/png": "[encoded data removed]",
      "text/plain": [
       "<Figure size 432x288 with 2 Axes>"
      ]
     },
     "metadata": {
      "needs_background": "light"
     },
     "output_type": "display_data"
    }
   ],
   "source": [
    " # create random forest classifier Pericellular/Other patterns EXCLUDING random\n",
    "rf_pericellular_splitID_balanced = RandomForestClassifier(n_estimators=200, random_state=seed, max_features=3, bootstrap=True, oob_score=False, n_jobs = 4)\n",
    "rf_pericellular_splitID_balanced.fit(train_data['pericellular'].obsm[\"latent\"], train_data['pericellular'].obs[\"pericellular\"]) \n",
    "    \n",
    "#predict label\n",
    "test_pericellular = rf_pericellular_splitID_balanced.predict(test_data['pericellular'].obsm[\"latent\"]) # for f1 & confusion matrix\n",
    "test_peri = rf_pericellular_splitID_balanced.predict_proba(test_data['pericellular'].obsm[\"latent\"]) # for auc\n",
    "\n",
    "\n",
    "print(\"f1 score: \", f1_score(test_data['pericellular'].obs[\"pericellular\"], test_pericellular, pos_label='pericellular'))\n",
    "print(\"inverted f1 score: \", f1_score(test_data['pericellular'].obs[\"pericellular\"], test_pericellular, pos_label='other'))\n",
    "print(\"auc: \", roc_auc_score(test_data['pericellular'].obs[\"pericellular\"], test_peri[:,1]))\n",
    "\n",
    "\n",
    "confusion_matrix = metrics.confusion_matrix(test_data['pericellular'].obs[\"pericellular\"], test_pericellular, labels = [\"pericellular\",\"other\"])\n",
    "cm_display = metrics.ConfusionMatrixDisplay(confusion_matrix = confusion_matrix, display_labels = [\"Pericellular\", \"Other\"]) \n",
    "cm_display.plot()\n",
    "plt.title(\"Confusion Matrix: Balanced RF, Pericellular/Other patterns\")\n",
    "plt.show()"
   ]
  },
  {
   "cell_type": "code",
   "execution_count": 28,
   "metadata": {},
   "outputs": [
    {
     "data": {
      "image/png": "[encoded data removed]",
      "text/plain": [
       "<Figure size 432x288 with 1 Axes>"
      ]
     },
     "metadata": {
      "needs_background": "light"
     },
     "output_type": "display_data"
    }
   ],
   "source": [
    "adata_test_peri_balanced = test_data['pericellular']\n",
    "intervals = ['0-10','10-20','20-30', '30-40','40-50', '50-60', '70-80','80-90', '90-100', '100+']\n",
    "predictions = {}\n",
    "\n",
    "fig, ax = plt.subplots()\n",
    "\n",
    "for interval in intervals:\n",
    "    adata_counts = adata_test_peri_balanced[adata_test_peri_balanced.obs['n_spots_interval']==interval]\n",
    "    test_pred = rf_pericellular_splitID_balanced.predict_proba(adata_counts.obsm[\"latent\"])[:,1]\n",
    "    predictions[interval] = RocCurveDisplay.from_predictions(\n",
    "        adata_counts.obs['pericellular'],\n",
    "        test_pred, \n",
    "        pos_label = \"pericellular\",\n",
    "        name = interval,\n",
    "        ax=ax)\n",
    "_ = ax.set(xlabel = \"False Positive Rate\",\n",
    "    ylabel = \"True Positive Rate\",\n",
    "    title = \"ROC Curve for Pericellular/Other Patterns, Pattern Strength: Strong\")\n",
    "ax.plot(np.arange(0,1,5),np.arange(0,1,5))\n",
    "\n",
    "plt.legend(loc='lower right')\n",
    "plt.show()"
   ]
  }
 ],
 "metadata": {
  "kernelspec": {
   "display_name": "blurry",
   "language": "python",
   "name": "python3"
  },
  "language_info": {
   "codemirror_mode": {
    "name": "ipython",
    "version": 3
   },
   "file_extension": ".py",
   "mimetype": "text/x-python",
   "name": "python",
   "nbconvert_exporter": "python",
   "pygments_lexer": "ipython3",
   "version": "3.9.13"
  }
 },
 "nbformat": 4,
 "nbformat_minor": 2
}
