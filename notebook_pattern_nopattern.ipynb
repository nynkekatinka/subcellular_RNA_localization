{
 "cells": [
  {
   "cell_type": "code",
   "execution_count": 1,
   "metadata": {},
   "outputs": [
    {
     "name": "stderr",
     "output_type": "stream",
     "text": [
      "/media/gambino/students_workdir/nynke/miniconda3/envs/blurry/lib/python3.9/site-packages/tqdm/auto.py:22: TqdmWarning: IProgress not found. Please update jupyter and ipywidgets. See https://ipywidgets.readthedocs.io/en/stable/user_install.html\n",
      "  from .autonotebook import tqdm as notebook_tqdm\n"
     ]
    }
   ],
   "source": [
    "%load_ext autoreload\n",
    "%autoreload 2\n",
    "# when debugging the python scripts, with the autoreload the jupyter notebook sync's to the most up to date scripts. See: https://ipython.org/ipython-doc/3/config/extensions/autoreload.html\n",
    "import torch\n",
    "import numpy as np\n",
    "import pandas as pd\n",
    "import matplotlib.pyplot as plt\n",
    "import scanpy as sc\n",
    "import sklearn.model_selection as skm\n",
    "from sklearn.ensemble import RandomForestClassifier\n",
    "from sklearn.model_selection import GridSearchCV\n",
    "from sklearn.metrics import f1_score, fbeta_score, make_scorer, roc_auc_score, RocCurveDisplay\n",
    "from sklearn.preprocessing import MinMaxScaler\n",
    "from sklearn import metrics\n",
    "import random\n",
    "from tqdm import tqdm\n",
    "from dataprep import *\n",
    "import anndata as ad\n",
    "import pickle"
   ]
  },
  {
   "cell_type": "code",
   "execution_count": 2,
   "metadata": {},
   "outputs": [],
   "source": [
    "seed = 101\n",
    "random.seed(seed)\n",
    "np.random.seed(seed)\n",
    "torch.manual_seed(seed)\n",
    "rng = np.random.RandomState(seed)"
   ]
  },
  {
   "cell_type": "markdown",
   "metadata": {},
   "source": [
    "## Loading RF Models & Datasets"
   ]
  },
  {
   "cell_type": "markdown",
   "metadata": {},
   "source": [
    "Paths to pericellular/other patterns RF models"
   ]
  },
  {
   "cell_type": "code",
   "execution_count": 20,
   "metadata": {},
   "outputs": [],
   "source": [
    "path1 = \"/media/gambino/students_workdir/nynke/blurry/temp_objects/rf_balanced/rf_pericellular.pkl\"\n",
    "with open(path1, 'rb') as p:\n",
    "    rf_pericellular_splitID_balanced = pickle.load(p)\n",
    "\n",
    "# The plots from the ppt are from this unbalanced model, didn't have the time to make a balanced version yet.\n",
    "path2 = \"/media/gambino/students_workdir/nynke/blurry/temp_objects/incl_random/rf_pericellular.pkl\"\n",
    "with open(path2, 'rb') as p:\n",
    "    rf_pericellular_inclRandom_splitID_unbalanced = pickle.load(p)\n",
    "\n",
    "\n",
    "path3 = \"/media/gambino/students_workdir/nynke/blurry/temp_objects/rf_balanced/rf_pericellular_balanced_mixedIDs.pkl\"\n",
    "with open(path3, 'rb') as p:\n",
    "    rf_pericellular_mixedID_balanced = pickle.load(p)"
   ]
  },
  {
   "cell_type": "code",
   "execution_count": 3,
   "metadata": {},
   "outputs": [],
   "source": [
    "path = f\"/media/gambino/students_workdir/nynke/blurry/temp_objects/rf_balanced/rf_pattern.pkl\"\n",
    "with open(path, 'rb') as p:\n",
    "    rf_pattern_balanced = pickle.load(p)"
   ]
  },
  {
   "cell_type": "markdown",
   "metadata": {},
   "source": [
    "Here's the paths to load the pattern/no pattern RF (balanced & unbalanced) in case you would like them:\n",
    "\n",
    "path = f\"/media/gambino/students_workdir/nynke/blurry/temp_objects/rf_balanced/rf_pattern.pkl\"\n",
    "with open(path, 'rb') as p:\n",
    "    rf_pattern_balanced = pickle.load(p)\n",
    "\n",
    "path = f\"/media/gambino/students_workdir/nynke/blurry/temp_objects/rf_pattern_noPattern.pkl\"\n",
    "with open(path, 'rb') as p:\n",
    "    rf_pattern_unbalanced = pickle.load(p)"
   ]
  },
  {
   "cell_type": "code",
   "execution_count": 4,
   "metadata": {},
   "outputs": [],
   "source": [
    "#adata_all_spots = sc.read_h5ad(\"/media/gambino/students_workdir/nynke/data/all_spots_simulated_embeddings_adata.h5ad\")\n",
    "adata_split_cellID = sc.read_h5ad(\"/media/gambino/students_workdir/nynke/new_model_with_cell_id_left_out_custom_nynke_panel_simulated_embeddings_adata.h5ad\")\n",
    "#adata_mixed_cellID = sc.read_h5ad(\"/media/gambino/students_workdir/nynke/data/custom_nynke_panel_simulated_embeddings_adata.h5ad\")"
   ]
  },
  {
   "cell_type": "code",
   "execution_count": 5,
   "metadata": {},
   "outputs": [],
   "source": [
    "# Add an extra column to the adata.obs dataframe that contains the pattern strength, given that protrusion has different pattern strength levels than the other patterns.\n",
    "choices = ['strong', 'intermediate', 'low']\n",
    "for adata in [adata_split_cellID]:#, adata_mixed_cellID, adata_all_spots]:\n",
    "    conditions = [\n",
    "        (adata.obs['prop'] == 0.9) | ((adata.obs['prop'] == 0.4) & (adata.obs['pattern'] == 'protrusion')),\n",
    "        (adata.obs['prop'] == 0.5) | ((adata.obs['prop'] == 0.2) & (adata.obs['pattern'] == 'protrusion')),\n",
    "        (adata.obs['prop'] == 0.1) | ((adata.obs['prop'] == 0.0) & (adata.obs['pattern'] == 'protrusion'))\n",
    "    ]\n",
    "\n",
    "    adata.obs['pattern_strength'] = np.select(conditions, choices, default='unknown')"
   ]
  },
  {
   "cell_type": "code",
   "execution_count": 24,
   "metadata": {},
   "outputs": [],
   "source": [
    "# Creating the simulated genes (1 gene ~300 cells). Method can be found in dataprep.py\n",
    "# In this case, the genes contain all the counts, iso only low counts. \n",
    "pericellular_dict_all = subsetGenes(adata_all_spots, 'pericellular', pattern_strength = \"strong\", mixed_counts = True)\n",
    "peri_dict_mixed_cellID = subsetGenes(adata_mixed_cellID, 'pericellular', pattern_strength = \"strong\", mixed_counts = True)\n",
    "pericellular_dict_split_cellID = subsetGenes(adata_split_cellID, 'pericellular', pattern_strength = \"strong\", mixed_counts = True)\n",
    "pericellular_dict_split_testID = subsetGenes(adata_split_cellID[adata_split_cellID.obs['cell_id'].isin(adata_split_cellID.uns['test_cellIDs'])], 'pericellular', pattern_strength = \"strong\", mixed_counts = True)"
   ]
  },
  {
   "cell_type": "code",
   "execution_count": 6,
   "metadata": {},
   "outputs": [],
   "source": [
    "adata_test = adata_split_cellID[adata_split_cellID.obs['cell_id'].isin(adata_split_cellID.uns['test_cellIDs'])]\n",
    "\n",
    "pericellular_dict_low = subsetGenes(adata_test, 'pericellular', pattern_strength = \"strong\", count_threshold = 11, high_or_low = 'low')\n",
    "random_dict_low = subsetGenes(adata_test, 'random', count_threshold = 11, high_or_low = 'low', mixed_counts=False)"
   ]
  },
  {
   "cell_type": "code",
   "execution_count": 11,
   "metadata": {},
   "outputs": [
    {
     "data": {
      "text/plain": [
       "{0: AnnData object with n_obs × n_vars = 52 × 15\n",
       "     obs: 'pattern', 'random_or_pattern', 'n_spots', 'n_spots_interval', 'cell_id', 'genes', 'rotation', 'rotation_interval', 'blur', 'prop', 'prop_interval', 'corresponding_dapis', 'train_or_val', 'original_image_paths', 'pattern_strength'\n",
       "     obsm: 'latent',\n",
       " 1: AnnData object with n_obs × n_vars = 52 × 15\n",
       "     obs: 'pattern', 'random_or_pattern', 'n_spots', 'n_spots_interval', 'cell_id', 'genes', 'rotation', 'rotation_interval', 'blur', 'prop', 'prop_interval', 'corresponding_dapis', 'train_or_val', 'original_image_paths', 'pattern_strength'\n",
       "     obsm: 'latent',\n",
       " 2: AnnData object with n_obs × n_vars = 52 × 15\n",
       "     obs: 'pattern', 'random_or_pattern', 'n_spots', 'n_spots_interval', 'cell_id', 'genes', 'rotation', 'rotation_interval', 'blur', 'prop', 'prop_interval', 'corresponding_dapis', 'train_or_val', 'original_image_paths', 'pattern_strength'\n",
       "     obsm: 'latent',\n",
       " 3: AnnData object with n_obs × n_vars = 52 × 15\n",
       "     obs: 'pattern', 'random_or_pattern', 'n_spots', 'n_spots_interval', 'cell_id', 'genes', 'rotation', 'rotation_interval', 'blur', 'prop', 'prop_interval', 'corresponding_dapis', 'train_or_val', 'original_image_paths', 'pattern_strength'\n",
       "     obsm: 'latent',\n",
       " 4: AnnData object with n_obs × n_vars = 52 × 15\n",
       "     obs: 'pattern', 'random_or_pattern', 'n_spots', 'n_spots_interval', 'cell_id', 'genes', 'rotation', 'rotation_interval', 'blur', 'prop', 'prop_interval', 'corresponding_dapis', 'train_or_val', 'original_image_paths', 'pattern_strength'\n",
       "     obsm: 'latent',\n",
       " 5: AnnData object with n_obs × n_vars = 34 × 15\n",
       "     obs: 'pattern', 'random_or_pattern', 'n_spots', 'n_spots_interval', 'cell_id', 'genes', 'rotation', 'rotation_interval', 'blur', 'prop', 'prop_interval', 'corresponding_dapis', 'train_or_val', 'original_image_paths', 'pattern_strength'\n",
       "     obsm: 'latent',\n",
       " 6: AnnData object with n_obs × n_vars = 34 × 15\n",
       "     obs: 'pattern', 'random_or_pattern', 'n_spots', 'n_spots_interval', 'cell_id', 'genes', 'rotation', 'rotation_interval', 'blur', 'prop', 'prop_interval', 'corresponding_dapis', 'train_or_val', 'original_image_paths', 'pattern_strength'\n",
       "     obsm: 'latent',\n",
       " 7: AnnData object with n_obs × n_vars = 34 × 15\n",
       "     obs: 'pattern', 'random_or_pattern', 'n_spots', 'n_spots_interval', 'cell_id', 'genes', 'rotation', 'rotation_interval', 'blur', 'prop', 'prop_interval', 'corresponding_dapis', 'train_or_val', 'original_image_paths', 'pattern_strength'\n",
       "     obsm: 'latent',\n",
       " 8: AnnData object with n_obs × n_vars = 34 × 15\n",
       "     obs: 'pattern', 'random_or_pattern', 'n_spots', 'n_spots_interval', 'cell_id', 'genes', 'rotation', 'rotation_interval', 'blur', 'prop', 'prop_interval', 'corresponding_dapis', 'train_or_val', 'original_image_paths', 'pattern_strength'\n",
       "     obsm: 'latent',\n",
       " 9: AnnData object with n_obs × n_vars = 33 × 15\n",
       "     obs: 'pattern', 'random_or_pattern', 'n_spots', 'n_spots_interval', 'cell_id', 'genes', 'rotation', 'rotation_interval', 'blur', 'prop', 'prop_interval', 'corresponding_dapis', 'train_or_val', 'original_image_paths', 'pattern_strength'\n",
       "     obsm: 'latent',\n",
       " 10: AnnData object with n_obs × n_vars = 13 × 15\n",
       "     obs: 'pattern', 'random_or_pattern', 'n_spots', 'n_spots_interval', 'cell_id', 'genes', 'rotation', 'rotation_interval', 'blur', 'prop', 'prop_interval', 'corresponding_dapis', 'train_or_val', 'original_image_paths', 'pattern_strength'\n",
       "     obsm: 'latent',\n",
       " 11: AnnData object with n_obs × n_vars = 13 × 15\n",
       "     obs: 'pattern', 'random_or_pattern', 'n_spots', 'n_spots_interval', 'cell_id', 'genes', 'rotation', 'rotation_interval', 'blur', 'prop', 'prop_interval', 'corresponding_dapis', 'train_or_val', 'original_image_paths', 'pattern_strength'\n",
       "     obsm: 'latent',\n",
       " 12: AnnData object with n_obs × n_vars = 13 × 15\n",
       "     obs: 'pattern', 'random_or_pattern', 'n_spots', 'n_spots_interval', 'cell_id', 'genes', 'rotation', 'rotation_interval', 'blur', 'prop', 'prop_interval', 'corresponding_dapis', 'train_or_val', 'original_image_paths', 'pattern_strength'\n",
       "     obsm: 'latent',\n",
       " 13: AnnData object with n_obs × n_vars = 13 × 15\n",
       "     obs: 'pattern', 'random_or_pattern', 'n_spots', 'n_spots_interval', 'cell_id', 'genes', 'rotation', 'rotation_interval', 'blur', 'prop', 'prop_interval', 'corresponding_dapis', 'train_or_val', 'original_image_paths', 'pattern_strength'\n",
       "     obsm: 'latent',\n",
       " 14: AnnData object with n_obs × n_vars = 11 × 15\n",
       "     obs: 'pattern', 'random_or_pattern', 'n_spots', 'n_spots_interval', 'cell_id', 'genes', 'rotation', 'rotation_interval', 'blur', 'prop', 'prop_interval', 'corresponding_dapis', 'train_or_val', 'original_image_paths', 'pattern_strength'\n",
       "     obsm: 'latent',\n",
       " 15: AnnData object with n_obs × n_vars = 3 × 15\n",
       "     obs: 'pattern', 'random_or_pattern', 'n_spots', 'n_spots_interval', 'cell_id', 'genes', 'rotation', 'rotation_interval', 'blur', 'prop', 'prop_interval', 'corresponding_dapis', 'train_or_val', 'original_image_paths', 'pattern_strength'\n",
       "     obsm: 'latent',\n",
       " 16: AnnData object with n_obs × n_vars = 3 × 15\n",
       "     obs: 'pattern', 'random_or_pattern', 'n_spots', 'n_spots_interval', 'cell_id', 'genes', 'rotation', 'rotation_interval', 'blur', 'prop', 'prop_interval', 'corresponding_dapis', 'train_or_val', 'original_image_paths', 'pattern_strength'\n",
       "     obsm: 'latent',\n",
       " 17: AnnData object with n_obs × n_vars = 3 × 15\n",
       "     obs: 'pattern', 'random_or_pattern', 'n_spots', 'n_spots_interval', 'cell_id', 'genes', 'rotation', 'rotation_interval', 'blur', 'prop', 'prop_interval', 'corresponding_dapis', 'train_or_val', 'original_image_paths', 'pattern_strength'\n",
       "     obsm: 'latent',\n",
       " 18: AnnData object with n_obs × n_vars = 3 × 15\n",
       "     obs: 'pattern', 'random_or_pattern', 'n_spots', 'n_spots_interval', 'cell_id', 'genes', 'rotation', 'rotation_interval', 'blur', 'prop', 'prop_interval', 'corresponding_dapis', 'train_or_val', 'original_image_paths', 'pattern_strength'\n",
       "     obsm: 'latent',\n",
       " 19: AnnData object with n_obs × n_vars = 3 × 15\n",
       "     obs: 'pattern', 'random_or_pattern', 'n_spots', 'n_spots_interval', 'cell_id', 'genes', 'rotation', 'rotation_interval', 'blur', 'prop', 'prop_interval', 'corresponding_dapis', 'train_or_val', 'original_image_paths', 'pattern_strength'\n",
       "     obsm: 'latent'}"
      ]
     },
     "execution_count": 11,
     "metadata": {},
     "output_type": "execute_result"
    }
   ],
   "source": [
    "pericellular_dict_low"
   ]
  },
  {
   "cell_type": "code",
   "execution_count": null,
   "metadata": {},
   "outputs": [],
   "source": []
  },
  {
   "cell_type": "code",
   "execution_count": 21,
   "metadata": {},
   "outputs": [
    {
     "data": {
      "text/plain": [
       "100+      135948\n",
       "10-20      23033\n",
       "40-50      22732\n",
       "50-60      22670\n",
       "30-40      22644\n",
       "90-100     22507\n",
       "80-90      22279\n",
       "20-30      22113\n",
       "70-80      22073\n",
       "0-10       13350\n",
       "Name: n_spots_interval, dtype: int64"
      ]
     },
     "execution_count": 21,
     "metadata": {},
     "output_type": "execute_result"
    }
   ],
   "source": [
    "adata_test.obs['n_spots_interval'].value_counts()"
   ]
  },
  {
   "cell_type": "code",
   "execution_count": null,
   "metadata": {},
   "outputs": [],
   "source": [
    "# Creating the simulated genes (1 gene ~300 cells). Method can be found in dataprep.py\n",
    "# In this case, the genes contain all the counts, iso only low counts. \n",
    "adata, pattern: str = 'pericellular', mixed_patterns: bool = False, pattern_strength: str = \"strong\", count_threshold: int = 11, high_or_low: str = 'low', mixed_counts: bool = False, random_seed: int = 101\n",
    "pericellular_dict_all = subsetGenes(adata_all_spots, 'pericellular', pattern_strength = \"strong\", mixed_counts = True)\n",
    "peri_dict_mixed_cellID = subsetGenes(adata_mixed_cellID, 'pericellular', pattern_strength = \"strong\", mixed_counts = True)\n",
    "pericellular_dict_split_cellID = subsetGenes(adata_split_cellID, 'pericellular', pattern_strength = \"strong\", mixed_counts = True)\n",
    "pericellular_dict_split_testID = subsetGenes(adata_split_cellID[adata_split_cellID.obs['cell_id'].isin(adata_split_cellID.uns['test_cellIDs'])], 'pericellular', pattern_strength = \"strong\", mixed_counts = True)"
   ]
  },
  {
   "cell_type": "code",
   "execution_count": 7,
   "metadata": {},
   "outputs": [],
   "source": [
    "adata_test = adata_split_cellID[adata_split_cellID.obs['cell_id'].isin(adata_split_cellID.uns['test_cellIDs'])]\n",
    "\n",
    "pericellular_dict_low_strong = subsetGenes(adata_test, 'pericellular', pattern_strength = \"strong\", count_threshold = 11, high_or_low = 'low')\n",
    "pericellular_dict_low_mid = subsetGenes(adata_test, 'pericellular', pattern_strength=\"intermediate\", count_threshold = 11, high_or_low = 'low')\n",
    "pattern_dict_low_strong = subsetGenes(adata_test, mixed_patterns = True, pattern_strength = \"strong\", count_threshold = 11, high_or_low = 'low')\n",
    "pattern_dict_low_mid = subsetGenes(adata_test, mixed_patterns = True, pattern_strength = \"intermediate\", count_threshold = 11, high_or_low = 'low')"
   ]
  },
  {
   "cell_type": "code",
   "execution_count": null,
   "metadata": {},
   "outputs": [],
   "source": [
    "rows = []\n",
    "gene_id = np.array(range(10))\n",
    "\n",
    "\n",
    "for i in range(10):\n",
    "    pericellular_strong = rf_pattern_balanced.predict_proba(pericellular_dict_low.get(i).obsm[\"latent\"])[:,1]\n",
    "    random_low = rf_pattern_balanced.predict_proba(random_dict_low.get(i).obsm[\"latent\"])[:,1]\n",
    "    for value in pericellular_strong:\n",
    "        rows.append({'prob_pattern': value, 'group': 'pericellular_strong', 'gene_id': i})\n",
    "    for value in random_low:\n",
    "        rows.append({'prob_pattern': value, 'group': 'random_low', 'gene_id': i})\n",
    "df = pd.DataFrame(rows)\n",
    "\n",
    "# KS test over multiple gene_ids. \n",
    "pattern = df[(df['group']=='pattern_low') & (df['gene_id']==0)]\n",
    "control = df[(df['group']=='pattern_low') & (df['gene_id']==1)]\n",
    "\n",
    "# Perform two-sample KS test\n",
    "statistic, pvalue = ks_2samp(pattern['prob_pattern'], control['prob_pattern'])\n",
    "print('Test statistic:', statistic)\n",
    "print('P-value:', pvalue)"
   ]
  },
  {
   "cell_type": "code",
   "execution_count": 10,
   "metadata": {},
   "outputs": [],
   "source": [
    "random_dict_low = subsetGenes(adata_test, 'random', count_threshold = 11, high_or_low = 'low', mixed_counts=False)\n",
    "random_dict_high = subsetGenes(adata_test, 'random', count_threshold = 100, high_or_low = 'high', mixed_counts=False)"
   ]
  },
  {
   "cell_type": "markdown",
   "metadata": {},
   "source": [
    "# Generating the Histograms"
   ]
  },
  {
   "cell_type": "markdown",
   "metadata": {},
   "source": [
    "Based on the Dictionaries created above, this code snippet creates a dataframe with the RF classification probabilities of the different models for the different datasets. The histograms below include 10 of these genes, hence the range(10). \n",
    "\n",
    "Predict_proba returns a nx2 array, where the two columns are the probabilities for [other pattern, pattern], hence the [:,1]"
   ]
  },
  {
   "cell_type": "code",
   "execution_count": 58,
   "metadata": {},
   "outputs": [],
   "source": [
    "rows = []\n",
    "gene_id = np.array(range(10))\n",
    "\n",
    "\n",
    "for i in range(10):\n",
    "    pericellular_strong = rf_pattern_balanced.predict_proba(pericellular_dict_low_strong.get(i).obsm[\"latent\"])[:,1]\n",
    "    pericellular_mid = rf_pattern_balanced.predict_proba(pericellular_dict_low_mid.get(i).obsm[\"latent\"])[:,1]\n",
    "    random_low = rf_pattern_balanced.predict_proba(random_dict_low.get(i).obsm[\"latent\"])[:,1]\n",
    "    random_high = rf_pattern_balanced.predict_proba(random_dict_high.get(i).obsm[\"latent\"])[:,1]\n",
    "    pattern_strong = rf_pattern_balanced.predict_proba(pattern_dict_low_strong.get(i).obsm[\"latent\"])[:,1]\n",
    "    pattern_mid = rf_pattern_balanced.predict_proba(pattern_dict_low_mid.get(i).obsm[\"latent\"])[:,1]\n",
    "    for value in pericellular_strong:\n",
    "        rows.append({'prob_pattern': value, 'group': 'pericellular_strong', 'gene_id': i})\n",
    "    for value in pericellular_mid: \n",
    "        rows.append({'prob_pattern': value, 'group': 'pericellular_mid', 'gene_id': i})\n",
    "    for value in random_low:\n",
    "        rows.append({'prob_pattern': value, 'group': 'random_low', 'gene_id': i})\n",
    "    for value in random_high:\n",
    "        rows.append({'prob_pattern': value, 'group': 'random_high', 'gene_id': i})\n",
    "    for value in pattern_strong:\n",
    "        rows.append({'prob_pattern': value, 'group': 'pattern_strong', 'gene_id': i})\n",
    "    for value in pattern_mid:\n",
    "        rows.append({'prob_pattern': value, 'group': 'pattern_mid', 'gene_id': i})\n",
    "df = pd.DataFrame(rows)"
   ]
  },
  {
   "cell_type": "markdown",
   "metadata": {},
   "source": [
    "Code below generates the histograms. You can easily change the model and dataset shown in the plot by changing the numbers in the third line."
   ]
  },
  {
   "cell_type": "markdown",
   "metadata": {},
   "source": [
    "all spots\n",
    "custom panel, mixed cellID\n",
    "custom panel, split cellID, test+train\n",
    "custom panel, split cellID, test only"
   ]
  },
  {
   "cell_type": "code",
   "execution_count": 34,
   "metadata": {},
   "outputs": [
    {
     "data": {
      "text/plain": [
       "AnnData object with n_obs × n_vars = 64 × 15\n",
       "    obs: 'pattern', 'random_or_pattern', 'n_spots', 'n_spots_interval', 'cell_id', 'genes', 'rotation', 'rotation_interval', 'blur', 'prop', 'prop_interval', 'corresponding_dapis', 'train_or_val', 'original_image_paths', 'pattern_strength'\n",
       "    uns: 'test_cellIDs', 'train_cellIDs'\n",
       "    obsm: 'latent'"
      ]
     },
     "execution_count": 34,
     "metadata": {},
     "output_type": "execute_result"
    }
   ],
   "source": [
    "pattern_dict_low_strong.get(0)"
   ]
  },
  {
   "cell_type": "code",
   "execution_count": 36,
   "metadata": {},
   "outputs": [
    {
     "data": {
      "text/html": [
       "<div>\n",
       "<style scoped>\n",
       "    .dataframe tbody tr th:only-of-type {\n",
       "        vertical-align: middle;\n",
       "    }\n",
       "\n",
       "    .dataframe tbody tr th {\n",
       "        vertical-align: top;\n",
       "    }\n",
       "\n",
       "    .dataframe thead th {\n",
       "        text-align: right;\n",
       "    }\n",
       "</style>\n",
       "<table border=\"1\" class=\"dataframe\">\n",
       "  <thead>\n",
       "    <tr style=\"text-align: right;\">\n",
       "      <th></th>\n",
       "      <th>prob_pattern</th>\n",
       "      <th>group</th>\n",
       "      <th>gene_id</th>\n",
       "    </tr>\n",
       "  </thead>\n",
       "  <tbody>\n",
       "    <tr>\n",
       "      <th>227</th>\n",
       "      <td>0.975</td>\n",
       "      <td>pattern_strong</td>\n",
       "      <td>0</td>\n",
       "    </tr>\n",
       "    <tr>\n",
       "      <th>228</th>\n",
       "      <td>0.450</td>\n",
       "      <td>pattern_strong</td>\n",
       "      <td>0</td>\n",
       "    </tr>\n",
       "    <tr>\n",
       "      <th>229</th>\n",
       "      <td>0.940</td>\n",
       "      <td>pattern_strong</td>\n",
       "      <td>0</td>\n",
       "    </tr>\n",
       "    <tr>\n",
       "      <th>230</th>\n",
       "      <td>0.665</td>\n",
       "      <td>pattern_strong</td>\n",
       "      <td>0</td>\n",
       "    </tr>\n",
       "    <tr>\n",
       "      <th>231</th>\n",
       "      <td>0.805</td>\n",
       "      <td>pattern_strong</td>\n",
       "      <td>0</td>\n",
       "    </tr>\n",
       "    <tr>\n",
       "      <th>...</th>\n",
       "      <td>...</td>\n",
       "      <td>...</td>\n",
       "      <td>...</td>\n",
       "    </tr>\n",
       "    <tr>\n",
       "      <th>286</th>\n",
       "      <td>0.975</td>\n",
       "      <td>pattern_strong</td>\n",
       "      <td>0</td>\n",
       "    </tr>\n",
       "    <tr>\n",
       "      <th>287</th>\n",
       "      <td>0.995</td>\n",
       "      <td>pattern_strong</td>\n",
       "      <td>0</td>\n",
       "    </tr>\n",
       "    <tr>\n",
       "      <th>288</th>\n",
       "      <td>0.860</td>\n",
       "      <td>pattern_strong</td>\n",
       "      <td>0</td>\n",
       "    </tr>\n",
       "    <tr>\n",
       "      <th>289</th>\n",
       "      <td>0.765</td>\n",
       "      <td>pattern_strong</td>\n",
       "      <td>0</td>\n",
       "    </tr>\n",
       "    <tr>\n",
       "      <th>290</th>\n",
       "      <td>0.410</td>\n",
       "      <td>pattern_strong</td>\n",
       "      <td>0</td>\n",
       "    </tr>\n",
       "  </tbody>\n",
       "</table>\n",
       "<p>64 rows × 3 columns</p>\n",
       "</div>"
      ],
      "text/plain": [
       "     prob_pattern           group  gene_id\n",
       "227         0.975  pattern_strong        0\n",
       "228         0.450  pattern_strong        0\n",
       "229         0.940  pattern_strong        0\n",
       "230         0.665  pattern_strong        0\n",
       "231         0.805  pattern_strong        0\n",
       "..            ...             ...      ...\n",
       "286         0.975  pattern_strong        0\n",
       "287         0.995  pattern_strong        0\n",
       "288         0.860  pattern_strong        0\n",
       "289         0.765  pattern_strong        0\n",
       "290         0.410  pattern_strong        0\n",
       "\n",
       "[64 rows x 3 columns]"
      ]
     },
     "execution_count": 36,
     "metadata": {},
     "output_type": "execute_result"
    }
   ],
   "source": [
    "df[(df['group']=='pattern_strong')&(df['gene_id']==0)]"
   ]
  },
  {
   "cell_type": "code",
   "execution_count": 46,
   "metadata": {},
   "outputs": [
    {
     "data": {
      "text/plain": [
       "['cell-edge', 'cell-edge', 'cell-edge', 'cell-edge', 'cell-edge', ..., 'protrusion', 'protrusion', 'protrusion', 'protrusion', 'protrusion']\n",
       "Length: 64\n",
       "Categories (8, object): ['cell-edge', 'extranuclear', 'foci', 'intranuclear', 'nuclear-edge', 'pericellular', 'perinuclear', 'protrusion']"
      ]
     },
     "execution_count": 46,
     "metadata": {},
     "output_type": "execute_result"
    }
   ],
   "source": [
    "pattern_dict_low_strong.get(0).obs['pattern'].values"
   ]
  },
  {
   "cell_type": "code",
   "execution_count": 67,
   "metadata": {},
   "outputs": [
    {
     "data": {
      "text/html": [
       "<div>\n",
       "<style scoped>\n",
       "    .dataframe tbody tr th:only-of-type {\n",
       "        vertical-align: middle;\n",
       "    }\n",
       "\n",
       "    .dataframe tbody tr th {\n",
       "        vertical-align: top;\n",
       "    }\n",
       "\n",
       "    .dataframe thead th {\n",
       "        text-align: right;\n",
       "    }\n",
       "</style>\n",
       "<table border=\"1\" class=\"dataframe\">\n",
       "  <thead>\n",
       "    <tr style=\"text-align: right;\">\n",
       "      <th></th>\n",
       "      <th>data</th>\n",
       "      <th>pattern</th>\n",
       "    </tr>\n",
       "  </thead>\n",
       "  <tbody>\n",
       "    <tr>\n",
       "      <th>227</th>\n",
       "      <td>0.975</td>\n",
       "      <td>cell-edge</td>\n",
       "    </tr>\n",
       "    <tr>\n",
       "      <th>228</th>\n",
       "      <td>0.450</td>\n",
       "      <td>cell-edge</td>\n",
       "    </tr>\n",
       "    <tr>\n",
       "      <th>229</th>\n",
       "      <td>0.940</td>\n",
       "      <td>cell-edge</td>\n",
       "    </tr>\n",
       "    <tr>\n",
       "      <th>230</th>\n",
       "      <td>0.665</td>\n",
       "      <td>cell-edge</td>\n",
       "    </tr>\n",
       "    <tr>\n",
       "      <th>231</th>\n",
       "      <td>0.805</td>\n",
       "      <td>cell-edge</td>\n",
       "    </tr>\n",
       "    <tr>\n",
       "      <th>...</th>\n",
       "      <td>...</td>\n",
       "      <td>...</td>\n",
       "    </tr>\n",
       "    <tr>\n",
       "      <th>3280</th>\n",
       "      <td>0.155</td>\n",
       "      <td>perinuclear</td>\n",
       "    </tr>\n",
       "    <tr>\n",
       "      <th>3281</th>\n",
       "      <td>0.625</td>\n",
       "      <td>perinuclear</td>\n",
       "    </tr>\n",
       "    <tr>\n",
       "      <th>3282</th>\n",
       "      <td>0.990</td>\n",
       "      <td>protrusion</td>\n",
       "    </tr>\n",
       "    <tr>\n",
       "      <th>3283</th>\n",
       "      <td>0.995</td>\n",
       "      <td>protrusion</td>\n",
       "    </tr>\n",
       "    <tr>\n",
       "      <th>3284</th>\n",
       "      <td>0.900</td>\n",
       "      <td>protrusion</td>\n",
       "    </tr>\n",
       "  </tbody>\n",
       "</table>\n",
       "<p>640 rows × 2 columns</p>\n",
       "</div>"
      ],
      "text/plain": [
       "       data      pattern\n",
       "227   0.975    cell-edge\n",
       "228   0.450    cell-edge\n",
       "229   0.940    cell-edge\n",
       "230   0.665    cell-edge\n",
       "231   0.805    cell-edge\n",
       "...     ...          ...\n",
       "3280  0.155  perinuclear\n",
       "3281  0.625  perinuclear\n",
       "3282  0.990   protrusion\n",
       "3283  0.995   protrusion\n",
       "3284  0.900   protrusion\n",
       "\n",
       "[640 rows x 2 columns]"
      ]
     },
     "execution_count": 67,
     "metadata": {},
     "output_type": "execute_result"
    }
   ],
   "source": [
    "df_all=pd.DataFrame()\n",
    "for i in range(10):\n",
    "    patterns = pattern_dict_low_strong.get(i).obs['pattern'].values\n",
    "\n",
    "    # Assuming pattern_low['prob_pattern'] is your data\n",
    "    pattern_low = df[(df['group']=='pattern_strong')&(df['gene_id']==i)]\n",
    "    data = pattern_low['prob_pattern']\n",
    "    df_new = pd.DataFrame({'data': data, 'pattern': patterns})\n",
    "    df_all = pd.concat([df_all,df_new],axis=0)\n",
    "df_all"
   ]
  },
  {
   "cell_type": "code",
   "execution_count": 68,
   "metadata": {},
   "outputs": [
    {
     "data": {
      "image/png": "[encoded data removed]",
      "text/plain": [
       "<Figure size 432x288 with 1 Axes>"
      ]
     },
     "metadata": {
      "needs_background": "light"
     },
     "output_type": "display_data"
    }
   ],
   "source": [
    "import seaborn as sns\n",
    "import matplotlib.pyplot as plt\n",
    "df_all=pd.DataFrame()\n",
    "for i in range(10):\n",
    "    patterns = pattern_dict_low_strong.get(i).obs['pattern'].values\n",
    "\n",
    "    # Assuming pattern_low['prob_pattern'] is your data\n",
    "    pattern_low = df[(df['group']=='pattern_strong')&(df['gene_id']==i)]\n",
    "    data = pattern_low['prob_pattern']\n",
    "    df_new = pd.DataFrame({'data': data, 'pattern': patterns})\n",
    "    df_all = pd.concat([df_all,df_new],axis=0)\n",
    "\n",
    "# Create the histogram\n",
    "sns.histplot(data=df_all, x='data', hue='pattern', bins=40, multiple='stack')\n",
    "\n",
    "plt.title(f\"RF: Pattern/No Pattern, Low counts and {type} pattern strength\")\n",
    "plt.xlabel(\"Probability for Pattern (versus no patterns)\")\n",
    "plt.ylabel(\"Relative frequency\")\n",
    "plt.show()"
   ]
  },
  {
   "cell_type": "code",
   "execution_count": 51,
   "metadata": {},
   "outputs": [
    {
     "data": {
      "image/png": "[encoded data removed]",
      "text/plain": [
       "<Figure size 432x288 with 1 Axes>"
      ]
     },
     "metadata": {
      "needs_background": "light"
     },
     "output_type": "display_data"
    }
   ],
   "source": [
    "import seaborn as sns\n",
    "import matplotlib.pyplot as plt\n",
    "\n",
    "patterns = pattern_dict_low_strong.get(0).obs['pattern'].values\n",
    "\n",
    "# Assuming pattern_low['prob_pattern'] is your data\n",
    "pattern_low = df[(df['group']=='pattern_strong')&(df['gene_id']==0)]\n",
    "data = pattern_low['prob_pattern']\n",
    "df_new = pd.DataFrame({'data': data})\n",
    "df_new['pattern']= patterns\n",
    "\n",
    "# Create the histogram\n",
    "sns.histplot(data=df_new, x='data', hue='pattern', bins=40, multiple='stack')\n",
    "\n",
    "plt.title(f\"RF: Pattern/No Pattern, Low counts and {type} pattern strength\")\n",
    "plt.xlabel(\"Probability for Pattern (versus no patterns)\")\n",
    "plt.ylabel(\"Relative frequency\")\n",
    "plt.show()"
   ]
  },
  {
   "cell_type": "code",
   "execution_count": 21,
   "metadata": {},
   "outputs": [
    {
     "name": "stdout",
     "output_type": "stream",
     "text": [
      "54\n",
      "48\n",
      "31\n"
     ]
    },
    {
     "data": {
      "image/png": "[encoded data removed]",
      "text/plain": [
       "<Figure size 432x288 with 1 Axes>"
      ]
     },
     "metadata": {
      "needs_background": "light"
     },
     "output_type": "display_data"
    }
   ],
   "source": [
    "groups = ['pericellular_low','random_low','pattern_low','pericellular_high', 'random_high', 'pattern_high']\n",
    "type = 'strong'\n",
    "if type == 'strong':\n",
    "    pericellular = df[(df['group']=='pericellular_strong')&(df['gene_id']==0)]\n",
    "    pattern_low = df[(df['group']=='pattern_strong')&(df['gene_id']==0)]\n",
    "    random_low = df[(df['group']=='random_low')&(df['gene_id']==0)]\n",
    "if type == 'intermediate':\n",
    "    pericellular = df[(df['group']=='pericellular_mid')&(df['gene_id']==0)]\n",
    "    pattern_low = df[(df['group']=='pattern_mid')&(df['gene_id']==3)]\n",
    "    random_low = df[(df['group']=='random_low')&(df['gene_id']==3)]\n",
    "print(len(random_low['prob_pattern'].unique()))\n",
    "print(len(pattern_low['prob_pattern'].unique()))\n",
    "print(len(pericellular['prob_pattern'].unique()))\n",
    "#plt.hist(random_low['prob_pattern'], bins=30, alpha=0.4, label='Random', density=True)\n",
    "#plt.hist(pericellular['prob_pattern'], bins=30, alpha=0.4, label='Pericellular', density=True)\n",
    "plt.hist(pattern_low['prob_pattern'], bins=40, alpha=0.5, label='Mixed Patterns', density=True)\n",
    "\n",
    "\n",
    "plt.title(f\"RF: Pattern/No Pattern, Low counts and {type} pattern strength\")\n",
    "plt.legend(loc='upper left')\n",
    "plt.xlabel(\"Probability for Pattern (versus no patterns)\")\n",
    "plt.ylabel(\"Relative frequency\")\n",
    "plt.show()"
   ]
  },
  {
   "cell_type": "code",
   "execution_count": 10,
   "metadata": {},
   "outputs": [],
   "source": [
    "rows = []\n",
    "gene_id = np.array(range(10))\n",
    "\n",
    "\n",
    "for i in range(10):\n",
    "    pericellular_strong = rf_pattern_balanced.predict_proba(pericellular_dict_low.get(i).obsm[\"latent\"])[:,1]\n",
    "    random_low = rf_pattern_balanced.predict_proba(random_dict_low.get(i).obsm[\"latent\"])[:,1]\n",
    "    for value in pericellular_strong:\n",
    "        rows.append({'prob_pattern': value, 'group': 'pericellular_strong', 'gene_id': i})\n",
    "    for value in random_low:\n",
    "        rows.append({'prob_pattern': value, 'group': 'random_low', 'gene_id': i})\n",
    "df = pd.DataFrame(rows)"
   ]
  },
  {
   "cell_type": "code",
   "execution_count": 14,
   "metadata": {},
   "outputs": [],
   "source": [
    "from scipy.stats import ks_2samp\n",
    "import numpy as np"
   ]
  },
  {
   "cell_type": "code",
   "execution_count": 25,
   "metadata": {},
   "outputs": [
    {
     "name": "stdout",
     "output_type": "stream",
     "text": [
      "Test statistic: 0.8137019230769231\n",
      "P-value: 0.0\n"
     ]
    }
   ],
   "source": [
    "# KS test over multiple gene_ids. \n",
    "pattern = df[(df['group']=='pericellular_strong') & (df['gene_id']==0)]\n",
    "control = df[(df['group']=='random_low') & (df['gene_id']==0)]\n",
    "\n",
    "# Perform two-sample KS test\n",
    "statistic, pvalue = ks_2samp(pattern['prob_pattern'], control['prob_pattern'])\n",
    "print('Test statistic:', statistic)\n",
    "print('P-value:', pvalue)"
   ]
  },
  {
   "cell_type": "code",
   "execution_count": 28,
   "metadata": {},
   "outputs": [
    {
     "name": "stdout",
     "output_type": "stream",
     "text": [
      "[0.0, 0.0, 0.0, 0.0, 0.0, 2.220446049250313e-16, 2.220446049250313e-16, 2.220446049250313e-16, 2.220446049250313e-16, 2.1094237467877974e-15, 0.0, 0.0, 0.0, 0.0, 6.661338147750939e-16, 2.220446049250313e-16, 2.220446049250313e-16, 2.220446049250313e-16, 2.220446049250313e-16, 4.218847493575595e-15, 0.0, 0.0, 0.0, 0.0, 6.661338147750939e-16, 2.220446049250313e-16, 2.220446049250313e-16, 2.220446049250313e-16, 2.220446049250313e-16, 4.218847493575595e-15, 0.0, 0.0, 0.0, 0.0, 1.5543122344752192e-15, 2.220446049250313e-16, 2.1094237467877974e-15, 2.220446049250313e-16, 2.220446049250313e-16, 2.7644553313166398e-14, 0.0, 0.0, 0.0, 0.0, 0.0, 2.220446049250313e-16, 2.220446049250313e-16, 2.220446049250313e-16, 2.220446049250313e-16, 4.218847493575595e-15, 1.2472245458639009e-12, 1.2472245458639009e-12, 4.8978598954363406e-12, 1.2472245458639009e-12, 1.3924028596790095e-10, 2.058742065713659e-11, 1.0043010867377689e-10, 2.058742065713659e-11, 7.482126029856317e-12, 6.525717743954829e-10, 4.107825191113079e-15, 9.43689570931383e-15, 4.107825191113079e-15, 1.1102230246251565e-15, 6.88338275267597e-14, 4.651834473179406e-14, 8.600897771771088e-13, 4.54081217071689e-14, 1.3100631690576847e-14, 5.3375082131879026e-12, 2.886579864025407e-15, 6.217248937900877e-15, 1.2656542480726785e-14, 4.107825191113079e-15, 9.9333874459262e-12, 9.692247004977617e-14, 8.600897771771088e-13, 1.4588330543574557e-13, 2.886579864025407e-15, 7.482126029856317e-12, 0.0, 0.0, 5.551115123125783e-16, 0.0, 5.340172748447003e-14, 0.0, 3.219646771412954e-15, 2.886579864025407e-15, 0.0, 4.54081217071689e-14, 1.0103029524088925e-14, 1.0103029524088925e-14, 1.7763568394002505e-15, 4.440892098500626e-16, 1.5687451337953462e-13, 6.894484982922222e-14, 1.815436689867056e-12, 2.1527224447481785e-13, 8.992806499463768e-15, 2.906785923073585e-12]\n"
     ]
    }
   ],
   "source": [
    "test = []\n",
    "for test_id in range(10):\n",
    "    for control_id in range(10):\n",
    "        pattern = df[(df['group']=='pericellular_strong') & (df['gene_id']==test_id)]\n",
    "        control = df[(df['group']=='random_low') & (df['gene_id']==control_id)]\n",
    "        statistic, pvalue = ks_2samp(pattern['prob_pattern'], control['prob_pattern'])\n",
    "        test.append(pvalue)\n",
    "print(test)"
   ]
  },
  {
   "cell_type": "code",
   "execution_count": 34,
   "metadata": {},
   "outputs": [
    {
     "data": {
      "image/png": "[encoded data removed]",
      "text/plain": [
       "<Figure size 432x288 with 1 Axes>"
      ]
     },
     "metadata": {
      "needs_background": "light"
     },
     "output_type": "display_data"
    }
   ],
   "source": [
    "\n",
    "plt.hist(test, bins=len(test), alpha=0.5, density=False)\n",
    "\n",
    "\n",
    "plt.title(\"P-values for KS test for 100 comparisons\")\n",
    "plt.xlabel(\"p-value of the KS test\")\n",
    "plt.ylabel(\"Absolute frequency\")\n",
    "plt.show()"
   ]
  },
  {
   "cell_type": "code",
   "execution_count": 13,
   "metadata": {},
   "outputs": [
    {
     "ename": "NameError",
     "evalue": "name 'ks_2samp' is not defined",
     "output_type": "error",
     "traceback": [
      "\u001b[0;31m---------------------------------------------------------------------------\u001b[0m",
      "\u001b[0;31mNameError\u001b[0m                                 Traceback (most recent call last)",
      "Cell \u001b[0;32mIn [13], line 6\u001b[0m\n\u001b[1;32m      3\u001b[0m control \u001b[38;5;241m=\u001b[39m df[(df[\u001b[38;5;124m'\u001b[39m\u001b[38;5;124mgroup\u001b[39m\u001b[38;5;124m'\u001b[39m]\u001b[38;5;241m==\u001b[39m\u001b[38;5;124m'\u001b[39m\u001b[38;5;124mrandom_low\u001b[39m\u001b[38;5;124m'\u001b[39m) \u001b[38;5;241m&\u001b[39m (df[\u001b[38;5;124m'\u001b[39m\u001b[38;5;124mgene_id\u001b[39m\u001b[38;5;124m'\u001b[39m]\u001b[38;5;241m==\u001b[39m\u001b[38;5;241m1\u001b[39m)]\n\u001b[1;32m      5\u001b[0m \u001b[38;5;66;03m# Perform two-sample KS test\u001b[39;00m\n\u001b[0;32m----> 6\u001b[0m statistic, pvalue \u001b[38;5;241m=\u001b[39m \u001b[43mks_2samp\u001b[49m(pattern[\u001b[38;5;124m'\u001b[39m\u001b[38;5;124mprob_pattern\u001b[39m\u001b[38;5;124m'\u001b[39m], control[\u001b[38;5;124m'\u001b[39m\u001b[38;5;124mprob_pattern\u001b[39m\u001b[38;5;124m'\u001b[39m])\n\u001b[1;32m      7\u001b[0m \u001b[38;5;28mprint\u001b[39m(\u001b[38;5;124m'\u001b[39m\u001b[38;5;124mTest statistic:\u001b[39m\u001b[38;5;124m'\u001b[39m, statistic)\n\u001b[1;32m      8\u001b[0m \u001b[38;5;28mprint\u001b[39m(\u001b[38;5;124m'\u001b[39m\u001b[38;5;124mP-value:\u001b[39m\u001b[38;5;124m'\u001b[39m, pvalue)\n",
      "\u001b[0;31mNameError\u001b[0m: name 'ks_2samp' is not defined"
     ]
    }
   ],
   "source": [
    "# KS test over multiple gene_ids. \n",
    "pattern = df[(df['group']=='pattern_low') & (df['gene_id']==0)]\n",
    "control = df[(df['group']=='random_low') & (df['gene_id']==1)]\n",
    "\n",
    "# Perform two-sample KS test\n",
    "statistic, pvalue = ks_2samp(pattern['prob_pattern'], control['prob_pattern'])\n",
    "print('Test statistic:', statistic)\n",
    "print('P-value:', pvalue)"
   ]
  },
  {
   "cell_type": "markdown",
   "metadata": {},
   "source": [
    "### Is there a difference between intermediate low genes?"
   ]
  },
  {
   "cell_type": "code",
   "execution_count": 96,
   "metadata": {},
   "outputs": [],
   "source": [
    "group = 'random_low'\n",
    "test = df[(df['group']==group)]\n",
    "\n",
    "samples = {i: test[test['gene_id'] == i] for i in range(10)}"
   ]
  },
  {
   "cell_type": "code",
   "execution_count": 88,
   "metadata": {},
   "outputs": [],
   "source": [
    "from scipy import stats"
   ]
  },
  {
   "cell_type": "code",
   "execution_count": 97,
   "metadata": {},
   "outputs": [
    {
     "data": {
      "text/plain": [
       "KruskalResult(statistic=9.648449604422133, pvalue=0.37968731671730993)"
      ]
     },
     "execution_count": 97,
     "metadata": {},
     "output_type": "execute_result"
    }
   ],
   "source": [
    "stats.kruskal(*[samples[i]['prob_pattern'] for i in range(10)])"
   ]
  },
  {
   "cell_type": "markdown",
   "metadata": {},
   "source": [
    "# Code I used to generate the RF in case you're interested"
   ]
  },
  {
   "cell_type": "markdown",
   "metadata": {},
   "source": [
    "## Preprocessing data"
   ]
  },
  {
   "cell_type": "code",
   "execution_count": 6,
   "metadata": {},
   "outputs": [],
   "source": [
    "# Decided to use \"no pattern\" iso \"random\" for pattern versus no pattern classifier. \n",
    "adata_split_cellID.obs['random_or_pattern'] = adata_split_cellID.obs['random_or_pattern'].replace('random','no_pattern')\n",
    "adata_split_cellID.obs['pattern'] = adata_split_cellID.obs['pattern'].replace('random','no_pattern')"
   ]
  },
  {
   "cell_type": "code",
   "execution_count": 7,
   "metadata": {},
   "outputs": [],
   "source": [
    "adata_strong = adata_split_cellID[adata_split_cellID.obs['pattern_strength']=='strong']\n",
    "\n",
    "adata_train = adata_strong[adata_strong.obs['cell_id'].isin(adata_strong.uns['train_cellIDs'])]\n",
    "adata_test = adata_strong[adata_strong.obs['cell_id'].isin(adata_strong.uns['test_cellIDs'])]"
   ]
  },
  {
   "cell_type": "markdown",
   "metadata": {},
   "source": [
    "### Pattern / No pattern RF"
   ]
  },
  {
   "cell_type": "code",
   "execution_count": 17,
   "metadata": {},
   "outputs": [],
   "source": [
    "# Balancing the training sets. \n",
    "adata_train_balanced = balanceTrainingData_pattern_noPattern(adata_train, random_seed=seed)\n",
    "adata_test_balanced = balanceTrainingData_pattern_noPattern(adata_test, random_seed=seed)"
   ]
  },
  {
   "cell_type": "markdown",
   "metadata": {},
   "source": [
    "I did hyperparameter tuning, and the best parameters I got were with `max_features=3` and `n_estimators=200`. \n",
    "Can share that if you want, but don't think it is very relevant here."
   ]
  },
  {
   "cell_type": "code",
   "execution_count": 16,
   "metadata": {},
   "outputs": [
    {
     "data": {
      "text/html": [
       "<style>#sk-container-id-1 {color: black;background-color: white;}#sk-container-id-1 pre{padding: 0;}#sk-container-id-1 div.sk-toggleable {background-color: white;}#sk-container-id-1 label.sk-toggleable__label {cursor: pointer;display: block;width: 100%;margin-bottom: 0;padding: 0.3em;box-sizing: border-box;text-align: center;}#sk-container-id-1 label.sk-toggleable__label-arrow:before {content: \"▸\";float: left;margin-right: 0.25em;color: #696969;}#sk-container-id-1 label.sk-toggleable__label-arrow:hover:before {color: black;}#sk-container-id-1 div.sk-estimator:hover label.sk-toggleable__label-arrow:before {color: black;}#sk-container-id-1 div.sk-toggleable__content {max-height: 0;max-width: 0;overflow: hidden;text-align: left;background-color: #f0f8ff;}#sk-container-id-1 div.sk-toggleable__content pre {margin: 0.2em;color: black;border-radius: 0.25em;background-color: #f0f8ff;}#sk-container-id-1 input.sk-toggleable__control:checked~div.sk-toggleable__content {max-height: 200px;max-width: 100%;overflow: auto;}#sk-container-id-1 input.sk-toggleable__control:checked~label.sk-toggleable__label-arrow:before {content: \"▾\";}#sk-container-id-1 div.sk-estimator input.sk-toggleable__control:checked~label.sk-toggleable__label {background-color: #d4ebff;}#sk-container-id-1 div.sk-label input.sk-toggleable__control:checked~label.sk-toggleable__label {background-color: #d4ebff;}#sk-container-id-1 input.sk-hidden--visually {border: 0;clip: rect(1px 1px 1px 1px);clip: rect(1px, 1px, 1px, 1px);height: 1px;margin: -1px;overflow: hidden;padding: 0;position: absolute;width: 1px;}#sk-container-id-1 div.sk-estimator {font-family: monospace;background-color: #f0f8ff;border: 1px dotted black;border-radius: 0.25em;box-sizing: border-box;margin-bottom: 0.5em;}#sk-container-id-1 div.sk-estimator:hover {background-color: #d4ebff;}#sk-container-id-1 div.sk-parallel-item::after {content: \"\";width: 100%;border-bottom: 1px solid gray;flex-grow: 1;}#sk-container-id-1 div.sk-label:hover label.sk-toggleable__label {background-color: #d4ebff;}#sk-container-id-1 div.sk-serial::before {content: \"\";position: absolute;border-left: 1px solid gray;box-sizing: border-box;top: 0;bottom: 0;left: 50%;z-index: 0;}#sk-container-id-1 div.sk-serial {display: flex;flex-direction: column;align-items: center;background-color: white;padding-right: 0.2em;padding-left: 0.2em;position: relative;}#sk-container-id-1 div.sk-item {position: relative;z-index: 1;}#sk-container-id-1 div.sk-parallel {display: flex;align-items: stretch;justify-content: center;background-color: white;position: relative;}#sk-container-id-1 div.sk-item::before, #sk-container-id-1 div.sk-parallel-item::before {content: \"\";position: absolute;border-left: 1px solid gray;box-sizing: border-box;top: 0;bottom: 0;left: 50%;z-index: -1;}#sk-container-id-1 div.sk-parallel-item {display: flex;flex-direction: column;z-index: 1;position: relative;background-color: white;}#sk-container-id-1 div.sk-parallel-item:first-child::after {align-self: flex-end;width: 50%;}#sk-container-id-1 div.sk-parallel-item:last-child::after {align-self: flex-start;width: 50%;}#sk-container-id-1 div.sk-parallel-item:only-child::after {width: 0;}#sk-container-id-1 div.sk-dashed-wrapped {border: 1px dashed gray;margin: 0 0.4em 0.5em 0.4em;box-sizing: border-box;padding-bottom: 0.4em;background-color: white;}#sk-container-id-1 div.sk-label label {font-family: monospace;font-weight: bold;display: inline-block;line-height: 1.2em;}#sk-container-id-1 div.sk-label-container {text-align: center;}#sk-container-id-1 div.sk-container {/* jupyter's `normalize.less` sets `[hidden] { display: none; }` but bootstrap.min.css set `[hidden] { display: none !important; }` so we also need the `!important` here to be able to override the default hidden behavior on the sphinx rendered scikit-learn.org. See: https://github.com/scikit-learn/scikit-learn/issues/21755 */display: inline-block !important;position: relative;}#sk-container-id-1 div.sk-text-repr-fallback {display: none;}</style><div id=\"sk-container-id-1\" class=\"sk-top-container\"><div class=\"sk-text-repr-fallback\"><pre>RandomForestClassifier(max_features=3, n_estimators=200, n_jobs=4,\n",
       "                       random_state=101)</pre><b>In a Jupyter environment, please rerun this cell to show the HTML representation or trust the notebook. <br />On GitHub, the HTML representation is unable to render, please try loading this page with nbviewer.org.</b></div><div class=\"sk-container\" hidden><div class=\"sk-item\"><div class=\"sk-estimator sk-toggleable\"><input class=\"sk-toggleable__control sk-hidden--visually\" id=\"sk-estimator-id-1\" type=\"checkbox\" checked><label for=\"sk-estimator-id-1\" class=\"sk-toggleable__label sk-toggleable__label-arrow\">RandomForestClassifier</label><div class=\"sk-toggleable__content\"><pre>RandomForestClassifier(max_features=3, n_estimators=200, n_jobs=4,\n",
       "                       random_state=101)</pre></div></div></div></div></div>"
      ],
      "text/plain": [
       "RandomForestClassifier(max_features=3, n_estimators=200, n_jobs=4,\n",
       "                       random_state=101)"
      ]
     },
     "execution_count": 16,
     "metadata": {},
     "output_type": "execute_result"
    }
   ],
   "source": [
    "# create random forest classifier and fit on training data\n",
    "rf_classifier_balanced = RandomForestClassifier(n_estimators=200, random_state=seed, max_features=3, bootstrap=True, oob_score=False, n_jobs = 4)\n",
    "rf_classifier_balanced.fit(adata_train_balanced.obsm[\"latent\"], adata_train_balanced.obs[\"random_or_pattern\"]) #first test on pattern/no pattern. Then will select the pattern and cluster that again. "
   ]
  },
  {
   "cell_type": "markdown",
   "metadata": {},
   "source": [
    "### RF: Pericellular versus other patterns "
   ]
  },
  {
   "cell_type": "code",
   "execution_count": 8,
   "metadata": {},
   "outputs": [
    {
     "name": "stderr",
     "output_type": "stream",
     "text": [
      "<ipython-input-8-32635b48a1e9>:9: ImplicitModificationWarning: Trying to modify attribute `.obs` of view, initializing view as actual.\n",
      "  adata_train.obs[pattern] = np.where(adata_train.obs[\"pattern\"] == pattern, pattern, \"other\")\n",
      "<ipython-input-8-32635b48a1e9>:10: ImplicitModificationWarning: Trying to modify attribute `.obs` of view, initializing view as actual.\n",
      "  adata_test.obs[pattern] = np.where(adata_test.obs[\"pattern\"] == pattern, pattern, \"other\")\n"
     ]
    }
   ],
   "source": [
    "# Add column to data to use for binary classifiers RF, eg. \"pericellular\" or \"other\". \n",
    "# Then balance the training and test set for the binary pattern/other patterns classifier.\n",
    "\n",
    "patterns = adata_train.obs['pattern'].unique()\n",
    "train_data = {}\n",
    "test_data = {}\n",
    "\n",
    "for pattern in patterns:\n",
    "    adata_train.obs[pattern] = np.where(adata_train.obs[\"pattern\"] == pattern, pattern, \"other\")\n",
    "    adata_test.obs[pattern] = np.where(adata_test.obs[\"pattern\"] == pattern, pattern, \"other\")\n",
    "    train_data[pattern] = balanceTrainingData(adata_train, testPattern = pattern, include_random = True, random_seed = seed)\n",
    "    test_data[pattern] = balanceTrainingData(adata_test, testPattern = pattern, include_random = True, random_seed = seed)\n"
   ]
  },
  {
   "cell_type": "code",
   "execution_count": 9,
   "metadata": {},
   "outputs": [
    {
     "name": "stdout",
     "output_type": "stream",
     "text": [
      "f1 score:  0.9642644194458798\n",
      "inverted f1 score:  0.9650561666731449\n",
      "auc:  0.9955395416398474\n"
     ]
    },
    {
     "data": {
      "image/png": "[encoded data removed]",
      "text/plain": [
       "<Figure size 432x288 with 2 Axes>"
      ]
     },
     "metadata": {
      "needs_background": "light"
     },
     "output_type": "display_data"
    }
   ],
   "source": [
    " # create random forest classifier Pericellular/Other patterns EXCLUDING random\n",
    "rf_pericellular_splitID_random_balanced = RandomForestClassifier(n_estimators=200, random_state=seed, max_features=3, bootstrap=True, oob_score=False, n_jobs = 4)\n",
    "rf_pericellular_splitID_random_balanced.fit(train_data['pericellular'].obsm[\"latent\"], train_data['pericellular'].obs[\"pericellular\"]) \n",
    "    \n",
    "#predict label\n",
    "test_pericellular = rf_pericellular_splitID_random_balanced.predict(test_data['pericellular'].obsm[\"latent\"]) # for f1 & confusion matrix\n",
    "test_peri = rf_pericellular_splitID_random_balanced.predict_proba(test_data['pericellular'].obsm[\"latent\"]) # for auc\n",
    "\n",
    "\n",
    "print(\"f1 score: \", f1_score(test_data['pericellular'].obs[\"pericellular\"], test_pericellular, pos_label='pericellular'))\n",
    "print(\"inverted f1 score: \", f1_score(test_data['pericellular'].obs[\"pericellular\"], test_pericellular, pos_label='other'))\n",
    "print(\"auc: \", roc_auc_score(test_data['pericellular'].obs[\"pericellular\"], test_peri[:,1]))\n",
    "\n",
    "\n",
    "confusion_matrix = metrics.confusion_matrix(test_data['pericellular'].obs[\"pericellular\"], test_pericellular, labels = [\"pericellular\",\"other\"])\n",
    "cm_display = metrics.ConfusionMatrixDisplay(confusion_matrix = confusion_matrix, display_labels = [\"Pericellular\", \"Other\"]) \n",
    "cm_display.plot()\n",
    "plt.title(\"Confusion Matrix: Balanced RF, Pericellular/Other patterns\")\n",
    "plt.show()"
   ]
  },
  {
   "cell_type": "code",
   "execution_count": 10,
   "metadata": {},
   "outputs": [],
   "source": [
    "import pickle\n",
    "\n",
    "\n",
    "\n",
    "path = f\"temp_objects/rf_balanced/rf_pericellular_balanced_inclRandom.pkl\"\n",
    "\n",
    "# Open the file in write-binary mode and dump the object\n",
    "with open(path, 'wb') as f:\n",
    "    pickle.dump(rf_pericellular_splitID_random_balanced, f)"
   ]
  },
  {
   "cell_type": "code",
   "execution_count": 11,
   "metadata": {},
   "outputs": [
    {
     "data": {
      "image/png": "[encoded data removed]",
      "text/plain": [
       "<Figure size 432x288 with 1 Axes>"
      ]
     },
     "metadata": {
      "needs_background": "light"
     },
     "output_type": "display_data"
    }
   ],
   "source": [
    "adata_test_peri_balanced = test_data['pericellular']\n",
    "intervals = ['0-10','10-20','20-30', '30-40','40-50', '50-60', '70-80','80-90', '90-100', '100+']\n",
    "predictions = {}\n",
    "\n",
    "fig, ax = plt.subplots()\n",
    "\n",
    "for interval in intervals:\n",
    "    adata_counts = adata_test_peri_balanced[adata_test_peri_balanced.obs['n_spots_interval']==interval]\n",
    "    test_pred = rf_pericellular_splitID_random_balanced.predict_proba(adata_counts.obsm[\"latent\"])[:,1]\n",
    "    predictions[interval] = RocCurveDisplay.from_predictions(\n",
    "        adata_counts.obs['pericellular'],\n",
    "        test_pred, \n",
    "        pos_label = \"pericellular\",\n",
    "        name = interval,\n",
    "        ax=ax)\n",
    "_ = ax.set(xlabel = \"False Positive Rate\",\n",
    "    ylabel = \"True Positive Rate\",\n",
    "    title = \"ROC Curve for Pericellular/Other Patterns, Pattern Strength: Strong\")\n",
    "ax.plot(np.arange(0,1,5),np.arange(0,1,5))\n",
    "\n",
    "plt.legend(loc='lower right')\n",
    "plt.show()"
   ]
  },
  {
   "cell_type": "markdown",
   "metadata": {},
   "source": [
    "## Load data to visualize the different pattern strengths"
   ]
  },
  {
   "cell_type": "code",
   "execution_count": 14,
   "metadata": {},
   "outputs": [],
   "source": [
    "adata_test = adata_split_cellID[adata_split_cellID.obs['cell_id'].isin(adata_split_cellID.uns['test_cellIDs'])]"
   ]
  },
  {
   "cell_type": "code",
   "execution_count": 16,
   "metadata": {},
   "outputs": [],
   "source": [
    "patterns = adata_train[adata_train.obs['pattern']!='random'].obs['pattern'].unique()\n",
    "test_data_inclRandom = {}\n",
    "test_data_exclRandom = {}\n",
    "\n",
    "for pattern in patterns:\n",
    "    adata_test.obs[pattern] = np.where(adata_test.obs[\"pattern\"] == pattern, pattern, \"other\")\n",
    "    test_data_inclRandom[pattern] = balanceTrainingData(adata_test, testPattern = pattern, include_random = False, random_seed = seed)\n",
    "    test_data_exclRandom[pattern] = balanceTrainingData(adata_test, testPattern = pattern, include_random = True, random_seed = seed)"
   ]
  },
  {
   "cell_type": "code",
   "execution_count": 19,
   "metadata": {},
   "outputs": [
    {
     "data": {
      "image/png": "[encoded data removed]",
      "text/plain": [
       "<Figure size 432x288 with 1 Axes>"
      ]
     },
     "metadata": {
      "needs_background": "light"
     },
     "output_type": "display_data"
    }
   ],
   "source": [
    "test_peri = test_data_inclRandom['pericellular']\n",
    "adata_test_strength = test_peri[test_peri.obs[\"pattern_strength\"]==\"strong\"]\n",
    "intervals = ['0-10','10-20','20-30', '30-40','40-50', '50-60', '70-80','80-90', '90-100', '100+']\n",
    "predictions = {}\n",
    "\n",
    "fig, ax = plt.subplots()\n",
    "\n",
    "for interval in intervals:\n",
    "    adata_counts = adata_test_strength[adata_test_strength.obs['n_spots_interval']==interval]\n",
    "    test_pred = rf_pericellular_splitID_random_balanced.predict_proba(adata_counts.obsm[\"latent\"])[:,1]\n",
    "    predictions[interval] = RocCurveDisplay.from_predictions(\n",
    "        adata_counts.obs['pericellular'],\n",
    "        test_pred, \n",
    "        pos_label = \"pericellular\",\n",
    "        name = interval,\n",
    "        ax=ax)\n",
    "_ = ax.set(xlabel = \"False Positive Rate\",\n",
    "    ylabel = \"True Positive Rate\",\n",
    "    title = \"ROC Curve, Balanced Pericellular/Other, Incl Random, Strong Pattern Strength\")\n",
    "\n",
    "\n",
    "plt.legend(loc='lower right')\n",
    "plt.show()\n",
    "#adata_test_balanced.obs['n_spots_interval'].value_counts()"
   ]
  },
  {
   "cell_type": "code",
   "execution_count": 23,
   "metadata": {},
   "outputs": [
    {
     "data": {
      "image/png": "[encoded data removed]",
      "text/plain": [
       "<Figure size 432x288 with 1 Axes>"
      ]
     },
     "metadata": {
      "needs_background": "light"
     },
     "output_type": "display_data"
    }
   ],
   "source": [
    "test_peri = test_data_inclRandom['pericellular']\n",
    "pattern_strength = [\"low\", \"intermediate\", \"strong\"]\n",
    "\n",
    "models= {\"Excl Random: \": rf_pericellular_splitID_balanced,\"Incl Random: \": rf_pericellular_splitID_random_balanced}\n",
    "predictions = {}\n",
    "\n",
    "fig, ax = plt.subplots()\n",
    "\n",
    "for strength in pattern_strength:\n",
    "    for name, model in models.items():\n",
    "        adata_test_strength = test_peri[test_peri.obs[\"pattern_strength\"]==strength]\n",
    "        test_pred = model.predict_proba(adata_test_strength.obsm[\"latent\"])[:,1]\n",
    "        predictions[name] = RocCurveDisplay.from_predictions(\n",
    "            adata_test_strength.obs['pericellular'],\n",
    "            test_pred, \n",
    "            pos_label = \"pericellular\",\n",
    "            name = f\"{name}{strength} pattern strength\",\n",
    "            ax=ax)\n",
    "_ = ax.set(xlabel = \"False Positive Rate\",\n",
    "    ylabel = \"True Positive Rate\",\n",
    "    title = \"ROC Curve, Pericellular versus other Patterns\"\n",
    "    )\n",
    "\n",
    "plt.legend(bbox_to_anchor=(0, -0.4, 1,0.2), loc=\"upper center\")\n",
    "plt.show()\n",
    "#adata_test_balanced.obs['n_spots_interval'].value_counts()"
   ]
  }
 ],
 "metadata": {
  "kernelspec": {
   "display_name": "blurry",
   "language": "python",
   "name": "python3"
  },
  "language_info": {
   "codemirror_mode": {
    "name": "ipython",
    "version": 3
   },
   "file_extension": ".py",
   "mimetype": "text/x-python",
   "name": "python",
   "nbconvert_exporter": "python",
   "pygments_lexer": "ipython3",
   "version": "3.9.13"
  }
 },
 "nbformat": 4,
 "nbformat_minor": 2
}
