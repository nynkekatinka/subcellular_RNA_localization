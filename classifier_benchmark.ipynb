{
 "cells": [
  {
   "cell_type": "code",
   "execution_count": 1,
   "metadata": {},
   "outputs": [
    {
     "name": "stderr",
     "output_type": "stream",
     "text": [
      "/media/gambino/students_workdir/nynke/miniconda3/envs/blurry/lib/python3.9/site-packages/tqdm/auto.py:22: TqdmWarning: IProgress not found. Please update jupyter and ipywidgets. See https://ipywidgets.readthedocs.io/en/stable/user_install.html\n",
      "  from .autonotebook import tqdm as notebook_tqdm\n"
     ]
    }
   ],
   "source": [
    "%load_ext autoreload\n",
    "%autoreload 2\n",
    "# when debugging the python scripts, with the autoreload the jupyter notebook sync's to the most up to date scripts. See: https://ipython.org/ipython-doc/3/config/extensions/autoreload.html\n",
    "\n",
    "from io_data import loadSpatialDataset\n",
    "from analyze import calcUmap, plotUmap\n",
    "import torch\n",
    "import numpy as np\n",
    "import pandas as pd\n",
    "import matplotlib.pyplot as plt\n",
    "import sklearn.model_selection as skm\n",
    "from sklearn.ensemble import RandomForestClassifier\n",
    "from sklearn.model_selection import GridSearchCV\n",
    "from sklearn.metrics import f1_score\n",
    "from sklearn.preprocessing import MinMaxScaler\n",
    "from sklearn import metrics\n",
    "import random\n",
    "from tqdm import tqdm"
   ]
  },
  {
   "cell_type": "code",
   "execution_count": 2,
   "metadata": {},
   "outputs": [],
   "source": [
    "seed = 101\n",
    "random.seed(seed)\n",
    "np.random.seed(seed)\n",
    "torch.manual_seed(seed)\n",
    "rng = np.random.RandomState(seed)"
   ]
  },
  {
   "cell_type": "code",
   "execution_count": 3,
   "metadata": {},
   "outputs": [
    {
     "name": "stderr",
     "output_type": "stream",
     "text": [
      "Loading images: 100%|██████████| 3514/3514 [00:42<00:00, 82.61image/s]  \n"
     ]
    },
    {
     "name": "stdout",
     "output_type": "stream",
     "text": [
      "<class 'io_data.ImageDatasetWithDapis'>\n"
     ]
    },
    {
     "name": "stderr",
     "output_type": "stream",
     "text": [
      "100%|██████████| 7/7 [00:01<00:00,  3.72it/s]\n",
      "/media/gambino/students_workdir/nynke/miniconda3/envs/blurry/lib/python3.9/site-packages/anndata/_core/anndata.py:121: ImplicitModificationWarning: Transforming to str index.\n",
      "  warnings.warn(\"Transforming to str index.\", ImplicitModificationWarning)\n",
      "/media/gambino/students_workdir/nynke/miniconda3/envs/blurry/lib/python3.9/site-packages/anndata/_core/anndata.py:1785: FutureWarning: X.dtype being converted to np.float32 from float64. In the next version of anndata (0.9) conversion will not be automatic. Pass dtype explicitly to avoid this warning. Pass `AnnData(X, dtype=X.dtype, ...)` to get the future behavour.\n",
      "  [AnnData(sparse.csr_matrix(a.shape), obs=a.obs) for a in all_adatas],\n",
      "/media/gambino/students_workdir/nynke/miniconda3/envs/blurry/lib/python3.9/site-packages/anndata/_core/anndata.py:1785: FutureWarning: X.dtype being converted to np.float32 from float64. In the next version of anndata (0.9) conversion will not be automatic. Pass dtype explicitly to avoid this warning. Pass `AnnData(X, dtype=X.dtype, ...)` to get the future behavour.\n",
      "  [AnnData(sparse.csr_matrix(a.shape), obs=a.obs) for a in all_adatas],\n"
     ]
    }
   ],
   "source": [
    "adata = loadSpatialDataset(single_gene_images_glob = \"/media/gambino/students_workdir/nynke/blurry_model/ileum_data/mouse_ileum/coordinate_parsed/*.tif\", adata_to_concat=\"blurry\")"
   ]
  },
  {
   "cell_type": "code",
   "execution_count": 4,
   "metadata": {},
   "outputs": [
    {
     "data": {
      "text/html": [
       "<div>\n",
       "<style scoped>\n",
       "    .dataframe tbody tr th:only-of-type {\n",
       "        vertical-align: middle;\n",
       "    }\n",
       "\n",
       "    .dataframe tbody tr th {\n",
       "        vertical-align: top;\n",
       "    }\n",
       "\n",
       "    .dataframe thead th {\n",
       "        text-align: right;\n",
       "    }\n",
       "</style>\n",
       "<table border=\"1\" class=\"dataframe\">\n",
       "  <thead>\n",
       "    <tr style=\"text-align: right;\">\n",
       "      <th></th>\n",
       "      <th>pattern</th>\n",
       "      <th>random_or_pattern</th>\n",
       "      <th>n_spots</th>\n",
       "      <th>n_spots_interval</th>\n",
       "      <th>cell_id</th>\n",
       "      <th>genes</th>\n",
       "      <th>rotation</th>\n",
       "      <th>rotation_interval</th>\n",
       "      <th>blur</th>\n",
       "      <th>blur_interval</th>\n",
       "      <th>...</th>\n",
       "      <th>pattern_classified</th>\n",
       "      <th>cell-edge</th>\n",
       "      <th>extranuclear</th>\n",
       "      <th>intranuclear</th>\n",
       "      <th>pericellular</th>\n",
       "      <th>perinuclear</th>\n",
       "      <th>random</th>\n",
       "      <th>random_score</th>\n",
       "      <th>pattern_score</th>\n",
       "      <th>batch</th>\n",
       "    </tr>\n",
       "  </thead>\n",
       "  <tbody>\n",
       "    <tr>\n",
       "      <th>0</th>\n",
       "      <td>cell-edge</td>\n",
       "      <td>pattern</td>\n",
       "      <td>100</td>\n",
       "      <td>100+</td>\n",
       "      <td>blank</td>\n",
       "      <td>blank</td>\n",
       "      <td>124</td>\n",
       "      <td>120-180</td>\n",
       "      <td>1.5</td>\n",
       "      <td>NaN</td>\n",
       "      <td>...</td>\n",
       "      <td>random</td>\n",
       "      <td>9.985172e-01</td>\n",
       "      <td>0.422161</td>\n",
       "      <td>2.038958e-18</td>\n",
       "      <td>8.139958e-18</td>\n",
       "      <td>1.522162e-11</td>\n",
       "      <td>0.999980</td>\n",
       "      <td>0.806723</td>\n",
       "      <td>0.193872</td>\n",
       "      <td>0</td>\n",
       "    </tr>\n",
       "    <tr>\n",
       "      <th>1</th>\n",
       "      <td>cell-edge</td>\n",
       "      <td>pattern</td>\n",
       "      <td>100</td>\n",
       "      <td>100+</td>\n",
       "      <td>blank</td>\n",
       "      <td>blank</td>\n",
       "      <td>161</td>\n",
       "      <td>120-180</td>\n",
       "      <td>1.5</td>\n",
       "      <td>NaN</td>\n",
       "      <td>...</td>\n",
       "      <td>random</td>\n",
       "      <td>9.996459e-01</td>\n",
       "      <td>0.938447</td>\n",
       "      <td>9.300263e-20</td>\n",
       "      <td>9.723175e-17</td>\n",
       "      <td>1.278433e-09</td>\n",
       "      <td>0.999978</td>\n",
       "      <td>0.786449</td>\n",
       "      <td>0.214457</td>\n",
       "      <td>0</td>\n",
       "    </tr>\n",
       "    <tr>\n",
       "      <th>2</th>\n",
       "      <td>cell-edge</td>\n",
       "      <td>pattern</td>\n",
       "      <td>100</td>\n",
       "      <td>100+</td>\n",
       "      <td>blank</td>\n",
       "      <td>blank</td>\n",
       "      <td>57</td>\n",
       "      <td>0-60</td>\n",
       "      <td>1.5</td>\n",
       "      <td>NaN</td>\n",
       "      <td>...</td>\n",
       "      <td>random</td>\n",
       "      <td>9.929121e-01</td>\n",
       "      <td>0.868868</td>\n",
       "      <td>2.720590e-19</td>\n",
       "      <td>1.327658e-16</td>\n",
       "      <td>1.400917e-09</td>\n",
       "      <td>0.997670</td>\n",
       "      <td>0.613716</td>\n",
       "      <td>0.387979</td>\n",
       "      <td>0</td>\n",
       "    </tr>\n",
       "    <tr>\n",
       "      <th>3</th>\n",
       "      <td>cell-edge</td>\n",
       "      <td>pattern</td>\n",
       "      <td>100</td>\n",
       "      <td>100+</td>\n",
       "      <td>blank</td>\n",
       "      <td>blank</td>\n",
       "      <td>96</td>\n",
       "      <td>60-120</td>\n",
       "      <td>1.5</td>\n",
       "      <td>NaN</td>\n",
       "      <td>...</td>\n",
       "      <td>random</td>\n",
       "      <td>9.974719e-01</td>\n",
       "      <td>0.683816</td>\n",
       "      <td>2.393022e-18</td>\n",
       "      <td>1.593811e-17</td>\n",
       "      <td>2.160465e-10</td>\n",
       "      <td>0.999952</td>\n",
       "      <td>0.816660</td>\n",
       "      <td>0.184197</td>\n",
       "      <td>0</td>\n",
       "    </tr>\n",
       "    <tr>\n",
       "      <th>4</th>\n",
       "      <td>cell-edge</td>\n",
       "      <td>pattern</td>\n",
       "      <td>100</td>\n",
       "      <td>100+</td>\n",
       "      <td>blank</td>\n",
       "      <td>blank</td>\n",
       "      <td>245</td>\n",
       "      <td>240-300</td>\n",
       "      <td>1.5</td>\n",
       "      <td>NaN</td>\n",
       "      <td>...</td>\n",
       "      <td>cell-edge</td>\n",
       "      <td>9.991395e-01</td>\n",
       "      <td>0.997390</td>\n",
       "      <td>2.491777e-19</td>\n",
       "      <td>1.006105e-10</td>\n",
       "      <td>3.958879e-08</td>\n",
       "      <td>0.007829</td>\n",
       "      <td>0.058782</td>\n",
       "      <td>0.941308</td>\n",
       "      <td>0</td>\n",
       "    </tr>\n",
       "    <tr>\n",
       "      <th>...</th>\n",
       "      <td>...</td>\n",
       "      <td>...</td>\n",
       "      <td>...</td>\n",
       "      <td>...</td>\n",
       "      <td>...</td>\n",
       "      <td>...</td>\n",
       "      <td>...</td>\n",
       "      <td>...</td>\n",
       "      <td>...</td>\n",
       "      <td>...</td>\n",
       "      <td>...</td>\n",
       "      <td>...</td>\n",
       "      <td>...</td>\n",
       "      <td>...</td>\n",
       "      <td>...</td>\n",
       "      <td>...</td>\n",
       "      <td>...</td>\n",
       "      <td>...</td>\n",
       "      <td>...</td>\n",
       "      <td>...</td>\n",
       "      <td>...</td>\n",
       "    </tr>\n",
       "    <tr>\n",
       "      <th>220682</th>\n",
       "      <td>random</td>\n",
       "      <td>random</td>\n",
       "      <td>99</td>\n",
       "      <td>100+</td>\n",
       "      <td>blank</td>\n",
       "      <td>blank</td>\n",
       "      <td>193</td>\n",
       "      <td>180-240</td>\n",
       "      <td>1.5</td>\n",
       "      <td>NaN</td>\n",
       "      <td>...</td>\n",
       "      <td>random</td>\n",
       "      <td>2.101227e-05</td>\n",
       "      <td>0.004966</td>\n",
       "      <td>9.210425e-13</td>\n",
       "      <td>2.441267e-30</td>\n",
       "      <td>3.942036e-05</td>\n",
       "      <td>1.000000</td>\n",
       "      <td>0.999117</td>\n",
       "      <td>0.000895</td>\n",
       "      <td>0</td>\n",
       "    </tr>\n",
       "    <tr>\n",
       "      <th>220683</th>\n",
       "      <td>random</td>\n",
       "      <td>random</td>\n",
       "      <td>99</td>\n",
       "      <td>100+</td>\n",
       "      <td>blank</td>\n",
       "      <td>blank</td>\n",
       "      <td>196</td>\n",
       "      <td>180-240</td>\n",
       "      <td>1.5</td>\n",
       "      <td>NaN</td>\n",
       "      <td>...</td>\n",
       "      <td>random</td>\n",
       "      <td>1.683812e-07</td>\n",
       "      <td>0.002076</td>\n",
       "      <td>2.011644e-14</td>\n",
       "      <td>6.885430e-33</td>\n",
       "      <td>5.124744e-05</td>\n",
       "      <td>1.000000</td>\n",
       "      <td>0.998786</td>\n",
       "      <td>0.001229</td>\n",
       "      <td>0</td>\n",
       "    </tr>\n",
       "    <tr>\n",
       "      <th>220684</th>\n",
       "      <td>random</td>\n",
       "      <td>random</td>\n",
       "      <td>99</td>\n",
       "      <td>100+</td>\n",
       "      <td>blank</td>\n",
       "      <td>blank</td>\n",
       "      <td>247</td>\n",
       "      <td>240-300</td>\n",
       "      <td>1.5</td>\n",
       "      <td>NaN</td>\n",
       "      <td>...</td>\n",
       "      <td>random</td>\n",
       "      <td>3.827430e-04</td>\n",
       "      <td>0.000675</td>\n",
       "      <td>6.427072e-12</td>\n",
       "      <td>2.209788e-29</td>\n",
       "      <td>3.792834e-07</td>\n",
       "      <td>1.000000</td>\n",
       "      <td>0.998853</td>\n",
       "      <td>0.001155</td>\n",
       "      <td>0</td>\n",
       "    </tr>\n",
       "    <tr>\n",
       "      <th>220685</th>\n",
       "      <td>random</td>\n",
       "      <td>random</td>\n",
       "      <td>99</td>\n",
       "      <td>100+</td>\n",
       "      <td>blank</td>\n",
       "      <td>blank</td>\n",
       "      <td>302</td>\n",
       "      <td>300+</td>\n",
       "      <td>1.5</td>\n",
       "      <td>NaN</td>\n",
       "      <td>...</td>\n",
       "      <td>random</td>\n",
       "      <td>1.809081e-08</td>\n",
       "      <td>0.000406</td>\n",
       "      <td>4.297435e-13</td>\n",
       "      <td>2.204371e-32</td>\n",
       "      <td>2.143221e-03</td>\n",
       "      <td>1.000000</td>\n",
       "      <td>0.998953</td>\n",
       "      <td>0.001053</td>\n",
       "      <td>0</td>\n",
       "    </tr>\n",
       "    <tr>\n",
       "      <th>220686</th>\n",
       "      <td>random</td>\n",
       "      <td>random</td>\n",
       "      <td>99</td>\n",
       "      <td>100+</td>\n",
       "      <td>blank</td>\n",
       "      <td>blank</td>\n",
       "      <td>36</td>\n",
       "      <td>0-60</td>\n",
       "      <td>1.5</td>\n",
       "      <td>NaN</td>\n",
       "      <td>...</td>\n",
       "      <td>random</td>\n",
       "      <td>3.429875e-07</td>\n",
       "      <td>0.003013</td>\n",
       "      <td>4.217182e-11</td>\n",
       "      <td>1.560507e-31</td>\n",
       "      <td>2.049873e-03</td>\n",
       "      <td>1.000000</td>\n",
       "      <td>0.998223</td>\n",
       "      <td>0.001791</td>\n",
       "      <td>0</td>\n",
       "    </tr>\n",
       "  </tbody>\n",
       "</table>\n",
       "<p>220687 rows × 26 columns</p>\n",
       "</div>"
      ],
      "text/plain": [
       "          pattern random_or_pattern  n_spots n_spots_interval cell_id  genes  \\\n",
       "0       cell-edge           pattern      100             100+   blank  blank   \n",
       "1       cell-edge           pattern      100             100+   blank  blank   \n",
       "2       cell-edge           pattern      100             100+   blank  blank   \n",
       "3       cell-edge           pattern      100             100+   blank  blank   \n",
       "4       cell-edge           pattern      100             100+   blank  blank   \n",
       "...           ...               ...      ...              ...     ...    ...   \n",
       "220682     random            random       99             100+   blank  blank   \n",
       "220683     random            random       99             100+   blank  blank   \n",
       "220684     random            random       99             100+   blank  blank   \n",
       "220685     random            random       99             100+   blank  blank   \n",
       "220686     random            random       99             100+   blank  blank   \n",
       "\n",
       "        rotation rotation_interval  blur blur_interval  ...  \\\n",
       "0            124           120-180   1.5           NaN  ...   \n",
       "1            161           120-180   1.5           NaN  ...   \n",
       "2             57              0-60   1.5           NaN  ...   \n",
       "3             96            60-120   1.5           NaN  ...   \n",
       "4            245           240-300   1.5           NaN  ...   \n",
       "...          ...               ...   ...           ...  ...   \n",
       "220682       193           180-240   1.5           NaN  ...   \n",
       "220683       196           180-240   1.5           NaN  ...   \n",
       "220684       247           240-300   1.5           NaN  ...   \n",
       "220685       302              300+   1.5           NaN  ...   \n",
       "220686        36              0-60   1.5           NaN  ...   \n",
       "\n",
       "        pattern_classified     cell-edge extranuclear  intranuclear  \\\n",
       "0                   random  9.985172e-01     0.422161  2.038958e-18   \n",
       "1                   random  9.996459e-01     0.938447  9.300263e-20   \n",
       "2                   random  9.929121e-01     0.868868  2.720590e-19   \n",
       "3                   random  9.974719e-01     0.683816  2.393022e-18   \n",
       "4                cell-edge  9.991395e-01     0.997390  2.491777e-19   \n",
       "...                    ...           ...          ...           ...   \n",
       "220682              random  2.101227e-05     0.004966  9.210425e-13   \n",
       "220683              random  1.683812e-07     0.002076  2.011644e-14   \n",
       "220684              random  3.827430e-04     0.000675  6.427072e-12   \n",
       "220685              random  1.809081e-08     0.000406  4.297435e-13   \n",
       "220686              random  3.429875e-07     0.003013  4.217182e-11   \n",
       "\n",
       "        pericellular   perinuclear    random  random_score  pattern_score  \\\n",
       "0       8.139958e-18  1.522162e-11  0.999980      0.806723       0.193872   \n",
       "1       9.723175e-17  1.278433e-09  0.999978      0.786449       0.214457   \n",
       "2       1.327658e-16  1.400917e-09  0.997670      0.613716       0.387979   \n",
       "3       1.593811e-17  2.160465e-10  0.999952      0.816660       0.184197   \n",
       "4       1.006105e-10  3.958879e-08  0.007829      0.058782       0.941308   \n",
       "...              ...           ...       ...           ...            ...   \n",
       "220682  2.441267e-30  3.942036e-05  1.000000      0.999117       0.000895   \n",
       "220683  6.885430e-33  5.124744e-05  1.000000      0.998786       0.001229   \n",
       "220684  2.209788e-29  3.792834e-07  1.000000      0.998853       0.001155   \n",
       "220685  2.204371e-32  2.143221e-03  1.000000      0.998953       0.001053   \n",
       "220686  1.560507e-31  2.049873e-03  1.000000      0.998223       0.001791   \n",
       "\n",
       "        batch  \n",
       "0           0  \n",
       "1           0  \n",
       "2           0  \n",
       "3           0  \n",
       "4           0  \n",
       "...       ...  \n",
       "220682      0  \n",
       "220683      0  \n",
       "220684      0  \n",
       "220685      0  \n",
       "220686      0  \n",
       "\n",
       "[220687 rows x 26 columns]"
      ]
     },
     "execution_count": 4,
     "metadata": {},
     "output_type": "execute_result"
    }
   ],
   "source": [
    "# removing the biological real data from the similated data\n",
    "adata_bio = adata\n",
    "adata = adata[adata.obs['pattern']!='spatial']\n",
    "adata.obs.reset_index(drop=True, inplace=True)\n",
    "adata.obs"
   ]
  },
  {
   "cell_type": "code",
   "execution_count": 5,
   "metadata": {},
   "outputs": [
    {
     "data": {
      "text/plain": [
       "Counter({'149': 709,\n",
       "         '272': 683,\n",
       "         '52': 680,\n",
       "         '75': 728,\n",
       "         '142': 649,\n",
       "         '313': 707,\n",
       "         '162': 667,\n",
       "         '225': 707,\n",
       "         '42': 683,\n",
       "         '15': 698,\n",
       "         '170': 699,\n",
       "         '238': 701,\n",
       "         '252': 673,\n",
       "         '103': 708,\n",
       "         '24': 709,\n",
       "         '257': 706,\n",
       "         '4': 688,\n",
       "         '265': 715,\n",
       "         '213': 694,\n",
       "         '244': 710,\n",
       "         '297': 724,\n",
       "         '113': 702,\n",
       "         '20': 717,\n",
       "         '249': 701,\n",
       "         '31': 676,\n",
       "         '59': 680,\n",
       "         '134': 719,\n",
       "         '135': 695,\n",
       "         '155': 691,\n",
       "         '43': 705,\n",
       "         '7': 656,\n",
       "         '124': 688,\n",
       "         '290': 698,\n",
       "         '6': 702,\n",
       "         '171': 695,\n",
       "         '191': 700,\n",
       "         '232': 701,\n",
       "         '9': 732,\n",
       "         '217': 707,\n",
       "         '35': 706,\n",
       "         '100': 695,\n",
       "         '118': 689,\n",
       "         '127': 707,\n",
       "         '165': 720,\n",
       "         '208': 665,\n",
       "         '261': 687,\n",
       "         '0': 689,\n",
       "         '175': 718,\n",
       "         '230': 689,\n",
       "         '315': 702,\n",
       "         '67': 689,\n",
       "         '235': 717,\n",
       "         '245': 715,\n",
       "         '44': 682,\n",
       "         '51': 713,\n",
       "         '154': 729,\n",
       "         '177': 684,\n",
       "         '201': 703,\n",
       "         '254': 717,\n",
       "         '128': 695,\n",
       "         '286': 698,\n",
       "         '36': 685,\n",
       "         '56': 703,\n",
       "         '78': 670,\n",
       "         '157': 727,\n",
       "         '164': 693,\n",
       "         '178': 686,\n",
       "         '19': 705,\n",
       "         '277': 672,\n",
       "         '143': 687,\n",
       "         '84': 713,\n",
       "         '256': 691,\n",
       "         '1': 666,\n",
       "         '266': 710,\n",
       "         '269': 730,\n",
       "         '38': 703,\n",
       "         '167': 701,\n",
       "         '176': 710,\n",
       "         '279': 695,\n",
       "         '3': 691,\n",
       "         '57': 682,\n",
       "         '140': 675,\n",
       "         '190': 696,\n",
       "         '197': 691,\n",
       "         '206': 686,\n",
       "         '239': 685,\n",
       "         '226': 710,\n",
       "         '133': 699,\n",
       "         '183': 725,\n",
       "         '311': 691,\n",
       "         '116': 696,\n",
       "         '123': 700,\n",
       "         '126': 687,\n",
       "         '181': 699,\n",
       "         '198': 702,\n",
       "         '240': 674,\n",
       "         '251': 699,\n",
       "         '89': 712,\n",
       "         '137': 709,\n",
       "         '271': 687,\n",
       "         '5': 703,\n",
       "         '152': 701,\n",
       "         '301': 708,\n",
       "         '71': 706,\n",
       "         '82': 720,\n",
       "         '83': 690,\n",
       "         '136': 699,\n",
       "         '260': 655,\n",
       "         '63': 713,\n",
       "         '98': 701,\n",
       "         '101': 675,\n",
       "         '242': 691,\n",
       "         '268': 705,\n",
       "         '283': 688,\n",
       "         '224': 694,\n",
       "         '22': 717,\n",
       "         '274': 689,\n",
       "         '299': 688,\n",
       "         '11': 678,\n",
       "         '163': 663,\n",
       "         '305': 699,\n",
       "         '33': 712,\n",
       "         '49': 708,\n",
       "         '93': 681,\n",
       "         '214': 723,\n",
       "         '247': 722,\n",
       "         '69': 713,\n",
       "         '61': 707,\n",
       "         '231': 691,\n",
       "         '234': 696,\n",
       "         '276': 707,\n",
       "         '10': 683,\n",
       "         '250': 724,\n",
       "         '306': 691,\n",
       "         '115': 713,\n",
       "         '185': 713,\n",
       "         '25': 680,\n",
       "         '55': 687,\n",
       "         '96': 694,\n",
       "         '187': 709,\n",
       "         '188': 706,\n",
       "         '200': 689,\n",
       "         '70': 694,\n",
       "         '114': 715,\n",
       "         '210': 714,\n",
       "         '258': 681,\n",
       "         '302': 735,\n",
       "         '303': 697,\n",
       "         '60': 685,\n",
       "         '79': 705,\n",
       "         '108': 703,\n",
       "         '18': 693,\n",
       "         '204': 681,\n",
       "         '53': 672,\n",
       "         '54': 707,\n",
       "         '73': 664,\n",
       "         '85': 696,\n",
       "         '153': 679,\n",
       "         '180': 694,\n",
       "         '192': 687,\n",
       "         '278': 695,\n",
       "         '291': 703,\n",
       "         '292': 665,\n",
       "         '58': 735,\n",
       "         '87': 708,\n",
       "         '106': 690,\n",
       "         '273': 692,\n",
       "         '205': 691,\n",
       "         '21': 674,\n",
       "         '264': 674,\n",
       "         '120': 710,\n",
       "         '131': 685,\n",
       "         '243': 694,\n",
       "         '145': 690,\n",
       "         '168': 668,\n",
       "         '68': 733,\n",
       "         '81': 686,\n",
       "         '92': 713,\n",
       "         '147': 695,\n",
       "         '14': 704,\n",
       "         '304': 678,\n",
       "         '211': 717,\n",
       "         '29': 697,\n",
       "         '34': 732,\n",
       "         '173': 694,\n",
       "         '74': 698,\n",
       "         '90': 698,\n",
       "         '159': 698,\n",
       "         '236': 690,\n",
       "         '64': 710,\n",
       "         '216': 715,\n",
       "         '237': 710,\n",
       "         '253': 689,\n",
       "         '37': 685,\n",
       "         '184': 713,\n",
       "         '26': 685,\n",
       "         '296': 683,\n",
       "         '298': 709,\n",
       "         '308': 698,\n",
       "         '107': 698,\n",
       "         '148': 696,\n",
       "         '275': 681,\n",
       "         '125': 703,\n",
       "         '255': 692,\n",
       "         '282': 685,\n",
       "         '119': 701,\n",
       "         '17': 719,\n",
       "         '182': 720,\n",
       "         '2': 693,\n",
       "         '99': 685,\n",
       "         '47': 701,\n",
       "         '186': 701,\n",
       "         '46': 707,\n",
       "         '23': 680,\n",
       "         '91': 680,\n",
       "         '160': 696,\n",
       "         '248': 694,\n",
       "         '263': 699,\n",
       "         '223': 694,\n",
       "         '218': 698,\n",
       "         '309': 709,\n",
       "         '105': 673,\n",
       "         '13': 676,\n",
       "         '288': 696,\n",
       "         '16': 695,\n",
       "         '259': 688,\n",
       "         '39': 665,\n",
       "         '62': 713,\n",
       "         '77': 694,\n",
       "         '141': 701,\n",
       "         '212': 686,\n",
       "         '294': 669,\n",
       "         '196': 698,\n",
       "         '215': 695,\n",
       "         '293': 686,\n",
       "         '316': 695,\n",
       "         '48': 686,\n",
       "         '80': 718,\n",
       "         '104': 696,\n",
       "         '146': 686,\n",
       "         '267': 673,\n",
       "         '66': 692,\n",
       "         '139': 704,\n",
       "         '199': 664,\n",
       "         '220': 724,\n",
       "         '227': 688,\n",
       "         '28': 706,\n",
       "         '203': 703,\n",
       "         '221': 704,\n",
       "         '287': 684,\n",
       "         '161': 699,\n",
       "         '202': 669,\n",
       "         '241': 703,\n",
       "         '280': 672,\n",
       "         '32': 706,\n",
       "         '40': 703,\n",
       "         '8': 718,\n",
       "         '97': 679,\n",
       "         '158': 717,\n",
       "         '27': 687,\n",
       "         '30': 718,\n",
       "         '95': 738,\n",
       "         '179': 703,\n",
       "         '295': 703,\n",
       "         '207': 647,\n",
       "         '281': 700,\n",
       "         '50': 659,\n",
       "         '130': 696,\n",
       "         '45': 701,\n",
       "         '156': 720,\n",
       "         '314': 710,\n",
       "         '307': 670,\n",
       "         '88': 696,\n",
       "         '117': 678,\n",
       "         '169': 681,\n",
       "         '174': 696,\n",
       "         '189': 711,\n",
       "         '233': 694,\n",
       "         '289': 696,\n",
       "         '193': 703,\n",
       "         '194': 690,\n",
       "         '310': 688,\n",
       "         '172': 697,\n",
       "         '229': 701,\n",
       "         '76': 696,\n",
       "         '132': 681,\n",
       "         '219': 693,\n",
       "         '65': 718,\n",
       "         '112': 710,\n",
       "         '138': 702,\n",
       "         '72': 711,\n",
       "         '86': 693,\n",
       "         '110': 687,\n",
       "         '111': 676,\n",
       "         '122': 678,\n",
       "         '129': 702,\n",
       "         '246': 701,\n",
       "         '41': 695,\n",
       "         '12': 707,\n",
       "         '144': 704,\n",
       "         '195': 689,\n",
       "         '285': 702,\n",
       "         '109': 684,\n",
       "         '151': 653,\n",
       "         '222': 663,\n",
       "         '94': 680,\n",
       "         '209': 678,\n",
       "         '262': 696,\n",
       "         '300': 702,\n",
       "         '121': 684,\n",
       "         '284': 713,\n",
       "         '312': 703,\n",
       "         '166': 685,\n",
       "         '102': 693,\n",
       "         '150': 686,\n",
       "         '270': 686,\n",
       "         '228': 704})"
      ]
     },
     "execution_count": 5,
     "metadata": {},
     "output_type": "execute_result"
    }
   ],
   "source": [
    "import re\n",
    "img_paths = adata.obs[\"original_image_paths\"]\n",
    "cell_ids = [re.findall('icell(\\d+)', img_path)[0] for img_path in img_paths]\n",
    "from collections import Counter\n",
    "Counter(cell_ids)"
   ]
  },
  {
   "cell_type": "code",
   "execution_count": 6,
   "metadata": {},
   "outputs": [
    {
     "name": "stderr",
     "output_type": "stream",
     "text": [
      "<ipython-input-6-7ad4a476ae2a>:1: ImplicitModificationWarning: Trying to modify attribute `.obs` of view, initializing view as actual.\n",
      "  adata.obs['cell_id'] = cell_ids\n",
      "/media/gambino/students_workdir/nynke/miniconda3/envs/blurry/lib/python3.9/site-packages/anndata/_core/anndata.py:121: ImplicitModificationWarning: Transforming to str index.\n",
      "  warnings.warn(\"Transforming to str index.\", ImplicitModificationWarning)\n"
     ]
    },
    {
     "data": {
      "text/html": [
       "<div>\n",
       "<style scoped>\n",
       "    .dataframe tbody tr th:only-of-type {\n",
       "        vertical-align: middle;\n",
       "    }\n",
       "\n",
       "    .dataframe tbody tr th {\n",
       "        vertical-align: top;\n",
       "    }\n",
       "\n",
       "    .dataframe thead th {\n",
       "        text-align: right;\n",
       "    }\n",
       "</style>\n",
       "<table border=\"1\" class=\"dataframe\">\n",
       "  <thead>\n",
       "    <tr style=\"text-align: right;\">\n",
       "      <th></th>\n",
       "      <th>pattern</th>\n",
       "      <th>random_or_pattern</th>\n",
       "      <th>n_spots</th>\n",
       "      <th>n_spots_interval</th>\n",
       "      <th>cell_id</th>\n",
       "      <th>genes</th>\n",
       "      <th>rotation</th>\n",
       "      <th>rotation_interval</th>\n",
       "      <th>blur</th>\n",
       "      <th>blur_interval</th>\n",
       "      <th>...</th>\n",
       "      <th>pattern_classified</th>\n",
       "      <th>cell-edge</th>\n",
       "      <th>extranuclear</th>\n",
       "      <th>intranuclear</th>\n",
       "      <th>pericellular</th>\n",
       "      <th>perinuclear</th>\n",
       "      <th>random</th>\n",
       "      <th>random_score</th>\n",
       "      <th>pattern_score</th>\n",
       "      <th>batch</th>\n",
       "    </tr>\n",
       "  </thead>\n",
       "  <tbody>\n",
       "    <tr>\n",
       "      <th>0</th>\n",
       "      <td>cell-edge</td>\n",
       "      <td>pattern</td>\n",
       "      <td>100</td>\n",
       "      <td>100+</td>\n",
       "      <td>149</td>\n",
       "      <td>blank</td>\n",
       "      <td>124</td>\n",
       "      <td>120-180</td>\n",
       "      <td>1.5</td>\n",
       "      <td>NaN</td>\n",
       "      <td>...</td>\n",
       "      <td>random</td>\n",
       "      <td>9.985172e-01</td>\n",
       "      <td>0.422161</td>\n",
       "      <td>2.038958e-18</td>\n",
       "      <td>8.139958e-18</td>\n",
       "      <td>1.522162e-11</td>\n",
       "      <td>0.999980</td>\n",
       "      <td>0.806723</td>\n",
       "      <td>0.193872</td>\n",
       "      <td>0</td>\n",
       "    </tr>\n",
       "    <tr>\n",
       "      <th>1</th>\n",
       "      <td>cell-edge</td>\n",
       "      <td>pattern</td>\n",
       "      <td>100</td>\n",
       "      <td>100+</td>\n",
       "      <td>149</td>\n",
       "      <td>blank</td>\n",
       "      <td>161</td>\n",
       "      <td>120-180</td>\n",
       "      <td>1.5</td>\n",
       "      <td>NaN</td>\n",
       "      <td>...</td>\n",
       "      <td>random</td>\n",
       "      <td>9.996459e-01</td>\n",
       "      <td>0.938447</td>\n",
       "      <td>9.300263e-20</td>\n",
       "      <td>9.723175e-17</td>\n",
       "      <td>1.278433e-09</td>\n",
       "      <td>0.999978</td>\n",
       "      <td>0.786449</td>\n",
       "      <td>0.214457</td>\n",
       "      <td>0</td>\n",
       "    </tr>\n",
       "    <tr>\n",
       "      <th>2</th>\n",
       "      <td>cell-edge</td>\n",
       "      <td>pattern</td>\n",
       "      <td>100</td>\n",
       "      <td>100+</td>\n",
       "      <td>149</td>\n",
       "      <td>blank</td>\n",
       "      <td>57</td>\n",
       "      <td>0-60</td>\n",
       "      <td>1.5</td>\n",
       "      <td>NaN</td>\n",
       "      <td>...</td>\n",
       "      <td>random</td>\n",
       "      <td>9.929121e-01</td>\n",
       "      <td>0.868868</td>\n",
       "      <td>2.720590e-19</td>\n",
       "      <td>1.327658e-16</td>\n",
       "      <td>1.400917e-09</td>\n",
       "      <td>0.997670</td>\n",
       "      <td>0.613716</td>\n",
       "      <td>0.387979</td>\n",
       "      <td>0</td>\n",
       "    </tr>\n",
       "    <tr>\n",
       "      <th>3</th>\n",
       "      <td>cell-edge</td>\n",
       "      <td>pattern</td>\n",
       "      <td>100</td>\n",
       "      <td>100+</td>\n",
       "      <td>149</td>\n",
       "      <td>blank</td>\n",
       "      <td>96</td>\n",
       "      <td>60-120</td>\n",
       "      <td>1.5</td>\n",
       "      <td>NaN</td>\n",
       "      <td>...</td>\n",
       "      <td>random</td>\n",
       "      <td>9.974719e-01</td>\n",
       "      <td>0.683816</td>\n",
       "      <td>2.393022e-18</td>\n",
       "      <td>1.593811e-17</td>\n",
       "      <td>2.160465e-10</td>\n",
       "      <td>0.999952</td>\n",
       "      <td>0.816660</td>\n",
       "      <td>0.184197</td>\n",
       "      <td>0</td>\n",
       "    </tr>\n",
       "    <tr>\n",
       "      <th>4</th>\n",
       "      <td>cell-edge</td>\n",
       "      <td>pattern</td>\n",
       "      <td>100</td>\n",
       "      <td>100+</td>\n",
       "      <td>272</td>\n",
       "      <td>blank</td>\n",
       "      <td>245</td>\n",
       "      <td>240-300</td>\n",
       "      <td>1.5</td>\n",
       "      <td>NaN</td>\n",
       "      <td>...</td>\n",
       "      <td>cell-edge</td>\n",
       "      <td>9.991395e-01</td>\n",
       "      <td>0.997390</td>\n",
       "      <td>2.491777e-19</td>\n",
       "      <td>1.006105e-10</td>\n",
       "      <td>3.958879e-08</td>\n",
       "      <td>0.007829</td>\n",
       "      <td>0.058782</td>\n",
       "      <td>0.941308</td>\n",
       "      <td>0</td>\n",
       "    </tr>\n",
       "    <tr>\n",
       "      <th>...</th>\n",
       "      <td>...</td>\n",
       "      <td>...</td>\n",
       "      <td>...</td>\n",
       "      <td>...</td>\n",
       "      <td>...</td>\n",
       "      <td>...</td>\n",
       "      <td>...</td>\n",
       "      <td>...</td>\n",
       "      <td>...</td>\n",
       "      <td>...</td>\n",
       "      <td>...</td>\n",
       "      <td>...</td>\n",
       "      <td>...</td>\n",
       "      <td>...</td>\n",
       "      <td>...</td>\n",
       "      <td>...</td>\n",
       "      <td>...</td>\n",
       "      <td>...</td>\n",
       "      <td>...</td>\n",
       "      <td>...</td>\n",
       "      <td>...</td>\n",
       "    </tr>\n",
       "    <tr>\n",
       "      <th>220682</th>\n",
       "      <td>random</td>\n",
       "      <td>random</td>\n",
       "      <td>99</td>\n",
       "      <td>100+</td>\n",
       "      <td>80</td>\n",
       "      <td>blank</td>\n",
       "      <td>193</td>\n",
       "      <td>180-240</td>\n",
       "      <td>1.5</td>\n",
       "      <td>NaN</td>\n",
       "      <td>...</td>\n",
       "      <td>random</td>\n",
       "      <td>2.101227e-05</td>\n",
       "      <td>0.004966</td>\n",
       "      <td>9.210425e-13</td>\n",
       "      <td>2.441267e-30</td>\n",
       "      <td>3.942036e-05</td>\n",
       "      <td>1.000000</td>\n",
       "      <td>0.999117</td>\n",
       "      <td>0.000895</td>\n",
       "      <td>0</td>\n",
       "    </tr>\n",
       "    <tr>\n",
       "      <th>220683</th>\n",
       "      <td>random</td>\n",
       "      <td>random</td>\n",
       "      <td>99</td>\n",
       "      <td>100+</td>\n",
       "      <td>80</td>\n",
       "      <td>blank</td>\n",
       "      <td>196</td>\n",
       "      <td>180-240</td>\n",
       "      <td>1.5</td>\n",
       "      <td>NaN</td>\n",
       "      <td>...</td>\n",
       "      <td>random</td>\n",
       "      <td>1.683812e-07</td>\n",
       "      <td>0.002076</td>\n",
       "      <td>2.011644e-14</td>\n",
       "      <td>6.885430e-33</td>\n",
       "      <td>5.124744e-05</td>\n",
       "      <td>1.000000</td>\n",
       "      <td>0.998786</td>\n",
       "      <td>0.001229</td>\n",
       "      <td>0</td>\n",
       "    </tr>\n",
       "    <tr>\n",
       "      <th>220684</th>\n",
       "      <td>random</td>\n",
       "      <td>random</td>\n",
       "      <td>99</td>\n",
       "      <td>100+</td>\n",
       "      <td>80</td>\n",
       "      <td>blank</td>\n",
       "      <td>247</td>\n",
       "      <td>240-300</td>\n",
       "      <td>1.5</td>\n",
       "      <td>NaN</td>\n",
       "      <td>...</td>\n",
       "      <td>random</td>\n",
       "      <td>3.827430e-04</td>\n",
       "      <td>0.000675</td>\n",
       "      <td>6.427072e-12</td>\n",
       "      <td>2.209788e-29</td>\n",
       "      <td>3.792834e-07</td>\n",
       "      <td>1.000000</td>\n",
       "      <td>0.998853</td>\n",
       "      <td>0.001155</td>\n",
       "      <td>0</td>\n",
       "    </tr>\n",
       "    <tr>\n",
       "      <th>220685</th>\n",
       "      <td>random</td>\n",
       "      <td>random</td>\n",
       "      <td>99</td>\n",
       "      <td>100+</td>\n",
       "      <td>80</td>\n",
       "      <td>blank</td>\n",
       "      <td>302</td>\n",
       "      <td>300+</td>\n",
       "      <td>1.5</td>\n",
       "      <td>NaN</td>\n",
       "      <td>...</td>\n",
       "      <td>random</td>\n",
       "      <td>1.809081e-08</td>\n",
       "      <td>0.000406</td>\n",
       "      <td>4.297435e-13</td>\n",
       "      <td>2.204371e-32</td>\n",
       "      <td>2.143221e-03</td>\n",
       "      <td>1.000000</td>\n",
       "      <td>0.998953</td>\n",
       "      <td>0.001053</td>\n",
       "      <td>0</td>\n",
       "    </tr>\n",
       "    <tr>\n",
       "      <th>220686</th>\n",
       "      <td>random</td>\n",
       "      <td>random</td>\n",
       "      <td>99</td>\n",
       "      <td>100+</td>\n",
       "      <td>80</td>\n",
       "      <td>blank</td>\n",
       "      <td>36</td>\n",
       "      <td>0-60</td>\n",
       "      <td>1.5</td>\n",
       "      <td>NaN</td>\n",
       "      <td>...</td>\n",
       "      <td>random</td>\n",
       "      <td>3.429875e-07</td>\n",
       "      <td>0.003013</td>\n",
       "      <td>4.217182e-11</td>\n",
       "      <td>1.560507e-31</td>\n",
       "      <td>2.049873e-03</td>\n",
       "      <td>1.000000</td>\n",
       "      <td>0.998223</td>\n",
       "      <td>0.001791</td>\n",
       "      <td>0</td>\n",
       "    </tr>\n",
       "  </tbody>\n",
       "</table>\n",
       "<p>220687 rows × 26 columns</p>\n",
       "</div>"
      ],
      "text/plain": [
       "          pattern random_or_pattern  n_spots n_spots_interval cell_id  genes  \\\n",
       "0       cell-edge           pattern      100             100+     149  blank   \n",
       "1       cell-edge           pattern      100             100+     149  blank   \n",
       "2       cell-edge           pattern      100             100+     149  blank   \n",
       "3       cell-edge           pattern      100             100+     149  blank   \n",
       "4       cell-edge           pattern      100             100+     272  blank   \n",
       "...           ...               ...      ...              ...     ...    ...   \n",
       "220682     random            random       99             100+      80  blank   \n",
       "220683     random            random       99             100+      80  blank   \n",
       "220684     random            random       99             100+      80  blank   \n",
       "220685     random            random       99             100+      80  blank   \n",
       "220686     random            random       99             100+      80  blank   \n",
       "\n",
       "        rotation rotation_interval  blur blur_interval  ...  \\\n",
       "0            124           120-180   1.5           NaN  ...   \n",
       "1            161           120-180   1.5           NaN  ...   \n",
       "2             57              0-60   1.5           NaN  ...   \n",
       "3             96            60-120   1.5           NaN  ...   \n",
       "4            245           240-300   1.5           NaN  ...   \n",
       "...          ...               ...   ...           ...  ...   \n",
       "220682       193           180-240   1.5           NaN  ...   \n",
       "220683       196           180-240   1.5           NaN  ...   \n",
       "220684       247           240-300   1.5           NaN  ...   \n",
       "220685       302              300+   1.5           NaN  ...   \n",
       "220686        36              0-60   1.5           NaN  ...   \n",
       "\n",
       "        pattern_classified     cell-edge extranuclear  intranuclear  \\\n",
       "0                   random  9.985172e-01     0.422161  2.038958e-18   \n",
       "1                   random  9.996459e-01     0.938447  9.300263e-20   \n",
       "2                   random  9.929121e-01     0.868868  2.720590e-19   \n",
       "3                   random  9.974719e-01     0.683816  2.393022e-18   \n",
       "4                cell-edge  9.991395e-01     0.997390  2.491777e-19   \n",
       "...                    ...           ...          ...           ...   \n",
       "220682              random  2.101227e-05     0.004966  9.210425e-13   \n",
       "220683              random  1.683812e-07     0.002076  2.011644e-14   \n",
       "220684              random  3.827430e-04     0.000675  6.427072e-12   \n",
       "220685              random  1.809081e-08     0.000406  4.297435e-13   \n",
       "220686              random  3.429875e-07     0.003013  4.217182e-11   \n",
       "\n",
       "        pericellular   perinuclear    random  random_score  pattern_score  \\\n",
       "0       8.139958e-18  1.522162e-11  0.999980      0.806723       0.193872   \n",
       "1       9.723175e-17  1.278433e-09  0.999978      0.786449       0.214457   \n",
       "2       1.327658e-16  1.400917e-09  0.997670      0.613716       0.387979   \n",
       "3       1.593811e-17  2.160465e-10  0.999952      0.816660       0.184197   \n",
       "4       1.006105e-10  3.958879e-08  0.007829      0.058782       0.941308   \n",
       "...              ...           ...       ...           ...            ...   \n",
       "220682  2.441267e-30  3.942036e-05  1.000000      0.999117       0.000895   \n",
       "220683  6.885430e-33  5.124744e-05  1.000000      0.998786       0.001229   \n",
       "220684  2.209788e-29  3.792834e-07  1.000000      0.998853       0.001155   \n",
       "220685  2.204371e-32  2.143221e-03  1.000000      0.998953       0.001053   \n",
       "220686  1.560507e-31  2.049873e-03  1.000000      0.998223       0.001791   \n",
       "\n",
       "        batch  \n",
       "0           0  \n",
       "1           0  \n",
       "2           0  \n",
       "3           0  \n",
       "4           0  \n",
       "...       ...  \n",
       "220682      0  \n",
       "220683      0  \n",
       "220684      0  \n",
       "220685      0  \n",
       "220686      0  \n",
       "\n",
       "[220687 rows x 26 columns]"
      ]
     },
     "execution_count": 6,
     "metadata": {},
     "output_type": "execute_result"
    }
   ],
   "source": [
    "adata.obs['cell_id'] = cell_ids\n",
    "adata.obs"
   ]
  },
  {
   "cell_type": "markdown",
   "metadata": {},
   "source": [
    "### Split in train val test - Without splitting per cell_id."
   ]
  },
  {
   "cell_type": "code",
   "execution_count": 7,
   "metadata": {},
   "outputs": [],
   "source": [
    "# Step 1: Get the indices of the observations\n",
    "all_indices = adata.obs.index\n",
    "\n",
    "# Step 2: Perform train-val-test split on indices. Total split is 80-10-10\n",
    "train_indices, test_indices = skm.train_test_split(all_indices, test_size=0.1, random_state=seed)\n",
    "train_indices, val_indices = skm.train_test_split(train_indices, test_size=1/9, random_state=seed)\n",
    "\n",
    "# Step 3: Subset AnnData object using the obtained indices\n",
    "adata_train = adata[train_indices, :] # 179360 x 15\n",
    "adata_val = adata[val_indices, :]     # 22420  x 15\n",
    "adata_test = adata[test_indices, :]   # 22421  x 15\n",
    "# total adata object:                   224201 x 15"
   ]
  },
  {
   "cell_type": "markdown",
   "metadata": {},
   "source": [
    "Max features for the random forest at first will be put to sqrt(15) ~3. Based on validation will see whether want to change that to 4. \n",
    "* `n_estimators`: number of trees. According to scikit-learn, the larger the better, but does take longer to compute and at some point it doesn't really explain much extra variance. \n",
    "* `max_features`: size of random subset of features to consider when splitting a node. The lower: the greater reduction in variance, but the higher increase in bias. Empirical good default values: max_features=”sqrt” (according to [scikit-learn](https://scikit-learn.org/stable/modules/ensemble.html#random-forest-parameters))\n",
    "    * Do parameter search [2,3,4,5], because sqrt(15)~3.87, so we choose 2,3,4,5 as values around that. \n",
    "* `max_leaf_nodes`: maximum number of leafs at the bottom of the tree. \n",
    "    * Included to reduce memory consumption, as the default settings for controlling the tree size will result in fully grown and unpruned trees.\n",
    "    * Max leaf nodes is chosen rather than max_depth, to allow for assymetrical trees.\n",
    "* By default, bootstramp samples are used. When using bootstrap sampling, the generalization error can be estimated on the left out (or out-of-bag) samples. You can enable this with setting `oob_score=True`"
   ]
  },
  {
   "cell_type": "code",
   "execution_count": 8,
   "metadata": {},
   "outputs": [
    {
     "data": {
      "text/html": [
       "<style>#sk-container-id-1 {color: black;background-color: white;}#sk-container-id-1 pre{padding: 0;}#sk-container-id-1 div.sk-toggleable {background-color: white;}#sk-container-id-1 label.sk-toggleable__label {cursor: pointer;display: block;width: 100%;margin-bottom: 0;padding: 0.3em;box-sizing: border-box;text-align: center;}#sk-container-id-1 label.sk-toggleable__label-arrow:before {content: \"▸\";float: left;margin-right: 0.25em;color: #696969;}#sk-container-id-1 label.sk-toggleable__label-arrow:hover:before {color: black;}#sk-container-id-1 div.sk-estimator:hover label.sk-toggleable__label-arrow:before {color: black;}#sk-container-id-1 div.sk-toggleable__content {max-height: 0;max-width: 0;overflow: hidden;text-align: left;background-color: #f0f8ff;}#sk-container-id-1 div.sk-toggleable__content pre {margin: 0.2em;color: black;border-radius: 0.25em;background-color: #f0f8ff;}#sk-container-id-1 input.sk-toggleable__control:checked~div.sk-toggleable__content {max-height: 200px;max-width: 100%;overflow: auto;}#sk-container-id-1 input.sk-toggleable__control:checked~label.sk-toggleable__label-arrow:before {content: \"▾\";}#sk-container-id-1 div.sk-estimator input.sk-toggleable__control:checked~label.sk-toggleable__label {background-color: #d4ebff;}#sk-container-id-1 div.sk-label input.sk-toggleable__control:checked~label.sk-toggleable__label {background-color: #d4ebff;}#sk-container-id-1 input.sk-hidden--visually {border: 0;clip: rect(1px 1px 1px 1px);clip: rect(1px, 1px, 1px, 1px);height: 1px;margin: -1px;overflow: hidden;padding: 0;position: absolute;width: 1px;}#sk-container-id-1 div.sk-estimator {font-family: monospace;background-color: #f0f8ff;border: 1px dotted black;border-radius: 0.25em;box-sizing: border-box;margin-bottom: 0.5em;}#sk-container-id-1 div.sk-estimator:hover {background-color: #d4ebff;}#sk-container-id-1 div.sk-parallel-item::after {content: \"\";width: 100%;border-bottom: 1px solid gray;flex-grow: 1;}#sk-container-id-1 div.sk-label:hover label.sk-toggleable__label {background-color: #d4ebff;}#sk-container-id-1 div.sk-serial::before {content: \"\";position: absolute;border-left: 1px solid gray;box-sizing: border-box;top: 0;bottom: 0;left: 50%;z-index: 0;}#sk-container-id-1 div.sk-serial {display: flex;flex-direction: column;align-items: center;background-color: white;padding-right: 0.2em;padding-left: 0.2em;position: relative;}#sk-container-id-1 div.sk-item {position: relative;z-index: 1;}#sk-container-id-1 div.sk-parallel {display: flex;align-items: stretch;justify-content: center;background-color: white;position: relative;}#sk-container-id-1 div.sk-item::before, #sk-container-id-1 div.sk-parallel-item::before {content: \"\";position: absolute;border-left: 1px solid gray;box-sizing: border-box;top: 0;bottom: 0;left: 50%;z-index: -1;}#sk-container-id-1 div.sk-parallel-item {display: flex;flex-direction: column;z-index: 1;position: relative;background-color: white;}#sk-container-id-1 div.sk-parallel-item:first-child::after {align-self: flex-end;width: 50%;}#sk-container-id-1 div.sk-parallel-item:last-child::after {align-self: flex-start;width: 50%;}#sk-container-id-1 div.sk-parallel-item:only-child::after {width: 0;}#sk-container-id-1 div.sk-dashed-wrapped {border: 1px dashed gray;margin: 0 0.4em 0.5em 0.4em;box-sizing: border-box;padding-bottom: 0.4em;background-color: white;}#sk-container-id-1 div.sk-label label {font-family: monospace;font-weight: bold;display: inline-block;line-height: 1.2em;}#sk-container-id-1 div.sk-label-container {text-align: center;}#sk-container-id-1 div.sk-container {/* jupyter's `normalize.less` sets `[hidden] { display: none; }` but bootstrap.min.css set `[hidden] { display: none !important; }` so we also need the `!important` here to be able to override the default hidden behavior on the sphinx rendered scikit-learn.org. See: https://github.com/scikit-learn/scikit-learn/issues/21755 */display: inline-block !important;position: relative;}#sk-container-id-1 div.sk-text-repr-fallback {display: none;}</style><div id=\"sk-container-id-1\" class=\"sk-top-container\"><div class=\"sk-text-repr-fallback\"><pre>RandomForestClassifier(oob_score=True, random_state=101)</pre><b>In a Jupyter environment, please rerun this cell to show the HTML representation or trust the notebook. <br />On GitHub, the HTML representation is unable to render, please try loading this page with nbviewer.org.</b></div><div class=\"sk-container\" hidden><div class=\"sk-item\"><div class=\"sk-estimator sk-toggleable\"><input class=\"sk-toggleable__control sk-hidden--visually\" id=\"sk-estimator-id-1\" type=\"checkbox\" checked><label for=\"sk-estimator-id-1\" class=\"sk-toggleable__label sk-toggleable__label-arrow\">RandomForestClassifier</label><div class=\"sk-toggleable__content\"><pre>RandomForestClassifier(oob_score=True, random_state=101)</pre></div></div></div></div></div>"
      ],
      "text/plain": [
       "RandomForestClassifier(oob_score=True, random_state=101)"
      ]
     },
     "execution_count": 8,
     "metadata": {},
     "output_type": "execute_result"
    }
   ],
   "source": [
    "# Create a random forest classifier.\n",
    "rf_classifier = RandomForestClassifier(n_estimators=100, random_state=seed, max_features='sqrt', bootstrap=True, oob_score=True)\n",
    "rf_classifier.fit(adata_train.obsm[\"latent\"], adata_train.obs[\"random_or_pattern\"]) #first test on pattern/no pattern. Then will select the pattern and cluster that again. "
   ]
  },
  {
   "cell_type": "code",
   "execution_count": 9,
   "metadata": {},
   "outputs": [
    {
     "data": {
      "text/plain": [
       "0.9263603872012869"
      ]
     },
     "execution_count": 9,
     "metadata": {},
     "output_type": "execute_result"
    }
   ],
   "source": [
    "#out of bag score during training\n",
    "rf_classifier.oob_score_"
   ]
  },
  {
   "cell_type": "code",
   "execution_count": 10,
   "metadata": {},
   "outputs": [
    {
     "data": {
      "text/plain": [
       "0.9263603872012869"
      ]
     },
     "execution_count": 10,
     "metadata": {},
     "output_type": "execute_result"
    }
   ],
   "source": [
    "#out of bag score during training\n",
    "rf_classifier.oob_score_"
   ]
  },
  {
   "cell_type": "code",
   "execution_count": 11,
   "metadata": {},
   "outputs": [],
   "source": [
    "from sklearn.experimental import enable_halving_search_cv\n",
    "from sklearn.model_selection import HalvingGridSearchCV, GridSearchCV"
   ]
  },
  {
   "cell_type": "code",
   "execution_count": 12,
   "metadata": {},
   "outputs": [],
   "source": [
    "adata_train_labels = adata_train.copy()\n",
    "pattern_mapping = {'pattern': 1, 'random': 0}\n",
    "adata_train_labels.obs['random_or_pattern'].replace(pattern_mapping, inplace=True)"
   ]
  },
  {
   "cell_type": "markdown",
   "metadata": {},
   "source": [
    "The code below did a GridSearchCV. However, because of the large gridsearch space, it was too time consuming and was stopped. Instead we will use halvingGridSearchCV"
   ]
  },
  {
   "cell_type": "code",
   "execution_count": 27,
   "metadata": {},
   "outputs": [
    {
     "name": "stdout",
     "output_type": "stream",
     "text": [
      "Fitting 5 folds for each of 5 candidates, totalling 25 fits\n",
      "[CV 1/5] END ....................max_features=2;, score=0.949 total time=  25.8s\n",
      "[CV 2/5] END ....................max_features=2;, score=0.949 total time=  25.9s\n",
      "[CV 3/5] END ....................max_features=2;, score=0.948 total time=  25.9s\n",
      "[CV 4/5] END ....................max_features=2;, score=0.950 total time=  25.8s\n",
      "[CV 5/5] END ....................max_features=2;, score=0.949 total time=  25.9s\n",
      "[CV 1/5] END ....................max_features=3;, score=0.949 total time=  36.4s\n",
      "[CV 2/5] END ....................max_features=3;, score=0.949 total time=  36.6s\n",
      "[CV 3/5] END ....................max_features=3;, score=0.949 total time=  36.5s\n",
      "[CV 4/5] END ....................max_features=3;, score=0.950 total time=  36.5s\n",
      "[CV 5/5] END ....................max_features=3;, score=0.949 total time=  36.6s\n",
      "[CV 1/5] END ....................max_features=4;, score=0.949 total time=  47.5s\n",
      "[CV 2/5] END ....................max_features=4;, score=0.949 total time=  47.3s\n",
      "[CV 3/5] END ....................max_features=4;, score=0.949 total time=  47.6s\n",
      "[CV 4/5] END ....................max_features=4;, score=0.949 total time=  47.6s\n",
      "[CV 5/5] END ....................max_features=4;, score=0.949 total time=  47.5s\n",
      "[CV 1/5] END ....................max_features=5;, score=0.949 total time=  58.7s\n",
      "[CV 2/5] END ....................max_features=5;, score=0.949 total time=  58.5s\n",
      "[CV 3/5] END ....................max_features=5;, score=0.949 total time=  58.6s\n",
      "[CV 4/5] END ....................max_features=5;, score=0.950 total time=  59.0s\n",
      "[CV 5/5] END ....................max_features=5;, score=0.949 total time=  58.7s\n",
      "[CV 1/5] END ....................max_features=6;, score=0.948 total time= 1.1min\n",
      "[CV 2/5] END ....................max_features=6;, score=0.949 total time= 1.1min\n",
      "[CV 3/5] END ....................max_features=6;, score=0.949 total time= 1.1min\n",
      "[CV 4/5] END ....................max_features=6;, score=0.949 total time= 1.2min\n",
      "[CV 5/5] END ....................max_features=6;, score=0.949 total time= 1.2min\n",
      "{'mean_fit_time': array([25.45649319, 36.16351109, 47.12780924, 58.35262728, 68.69656105]), 'std_fit_time': array([0.05187673, 0.06661118, 0.10164424, 0.17884943, 0.87450797]), 'mean_score_time': array([0.39160013, 0.37124333, 0.36133885, 0.3546041 , 0.34271431]), 'std_score_time': array([0.00117193, 0.00120988, 0.0011768 , 0.00156115, 0.00438198]), 'param_max_features': masked_array(data=[2, 3, 4, 5, 6],\n",
      "             mask=[False, False, False, False, False],\n",
      "       fill_value='?',\n",
      "            dtype=object), 'params': [{'max_features': 2}, {'max_features': 3}, {'max_features': 4}, {'max_features': 5}, {'max_features': 6}], 'split0_test_score': array([0.94858907, 0.94909818, 0.94860877, 0.9487545 , 0.94826322]), 'split1_test_score': array([0.94866717, 0.94920358, 0.94937562, 0.94908528, 0.94861927]), 'split2_test_score': array([0.9483518 , 0.94931678, 0.94875346, 0.94853683, 0.9485038 ]), 'split3_test_score': array([0.94952887, 0.95005238, 0.94906209, 0.94955806, 0.94917735]), 'split4_test_score': array([0.94870121, 0.94898363, 0.94934104, 0.94925987, 0.94910357]), 'mean_test_score': array([0.94876762, 0.94933091, 0.9490282 , 0.94903891, 0.94873344]), 'std_test_score': array([0.0003997 , 0.00037728, 0.00030696, 0.00036152, 0.0003524 ]), 'rank_test_score': array([4, 1, 3, 2, 5], dtype=int32)}\n"
     ]
    },
    {
     "ename": "TypeError",
     "evalue": "can only concatenate str (not \"dict\") to str",
     "output_type": "error",
     "traceback": [
      "\u001b[0;31m---------------------------------------------------------------------------\u001b[0m",
      "\u001b[0;31mTypeError\u001b[0m                                 Traceback (most recent call last)",
      "Cell \u001b[0;32mIn [27], line 11\u001b[0m\n\u001b[1;32m      8\u001b[0m grid_search\u001b[38;5;241m.\u001b[39mfit(latent,labels)\n\u001b[1;32m     10\u001b[0m \u001b[38;5;28mprint\u001b[39m(grid_search\u001b[38;5;241m.\u001b[39mcv_results_)\n\u001b[0;32m---> 11\u001b[0m \u001b[38;5;28mprint\u001b[39m(\u001b[38;5;124;43m\"\u001b[39;49m\u001b[38;5;124;43mBest parameters: \u001b[39;49m\u001b[38;5;124;43m\"\u001b[39;49m\u001b[43m \u001b[49m\u001b[38;5;241;43m+\u001b[39;49m\u001b[43m \u001b[49m\u001b[43mgrid_search\u001b[49m\u001b[38;5;241;43m.\u001b[39;49m\u001b[43mbest_params_\u001b[49m)\n",
      "\u001b[0;31mTypeError\u001b[0m: can only concatenate str (not \"dict\") to str"
     ]
    }
   ],
   "source": [
    "latent = adata_train_labels.obsm[\"latent\"]\n",
    "labels = adata_train_labels.obs[\"random_or_pattern\"]\n",
    "\n",
    "base_forest = RandomForestClassifier(random_state=seed, bootstrap=True, oob_score=True, n_estimators=100)\n",
    "param_grid = {'max_features': [2,3,4,5,6]}\n",
    "\n",
    "grid_search = GridSearchCV(base_forest, param_grid=param_grid, scoring='f1', verbose=3, error_score='raise')\n",
    "grid_search.fit(latent,labels)\n",
    "\n",
    "print(grid_search.cv_results_)\n",
    "print(\"Best parameters: \")\n",
    "print(grid_search.best_params_)"
   ]
  },
  {
   "cell_type": "code",
   "execution_count": 23,
   "metadata": {},
   "outputs": [
    {
     "data": {
      "text/plain": [
       "{'mean_fit_time': array([25.36191697, 36.09720526, 46.96839042, 58.87501168, 69.62363806]),\n",
       " 'std_fit_time': array([0.12504424, 0.03820943, 0.1886689 , 0.56897949, 0.23001813]),\n",
       " 'mean_score_time': array([0.38908339, 0.37095618, 0.35829029, 0.35844798, 0.34856634]),\n",
       " 'std_score_time': array([0.00109477, 0.00150513, 0.00235228, 0.0047632 , 0.00223408]),\n",
       " 'param_max_features': masked_array(data=[2, 3, 4, 5, 6],\n",
       "              mask=[False, False, False, False, False],\n",
       "        fill_value='?',\n",
       "             dtype=object),\n",
       " 'params': [{'max_features': 2},\n",
       "  {'max_features': 3},\n",
       "  {'max_features': 4},\n",
       "  {'max_features': 5},\n",
       "  {'max_features': 6}],\n",
       " 'split0_test_score': array([0.94858907, 0.94909818, 0.94860877, 0.9487545 , 0.94826322]),\n",
       " 'split1_test_score': array([0.94866717, 0.94920358, 0.94937562, 0.94908528, 0.94861927]),\n",
       " 'split2_test_score': array([0.9483518 , 0.94931678, 0.94875346, 0.94853683, 0.9485038 ]),\n",
       " 'split3_test_score': array([0.94952887, 0.95005238, 0.94906209, 0.94955806, 0.94917735]),\n",
       " 'split4_test_score': array([0.94870121, 0.94898363, 0.94934104, 0.94925987, 0.94910357]),\n",
       " 'mean_test_score': array([0.94876762, 0.94933091, 0.9490282 , 0.94903891, 0.94873344]),\n",
       " 'std_test_score': array([0.0003997 , 0.00037728, 0.00030696, 0.00036152, 0.0003524 ]),\n",
       " 'rank_test_score': array([4, 1, 3, 2, 5], dtype=int32)}"
      ]
     },
     "execution_count": 23,
     "metadata": {},
     "output_type": "execute_result"
    }
   ],
   "source": [
    "grid_search.cv_results_"
   ]
  },
  {
   "cell_type": "markdown",
   "metadata": {},
   "source": [
    "the idea behind HalvingGridSearchCV is that you will do multiple iterations of cv to find the best parameter combinations. Initially everything is tested with few resources and an initialy selection is made. In each selection round fewer make it through and are tested with more resources. The candidates in the last round have consistently ranked at the topf candidates across all iterations. until the best is selected based on the most resources. "
   ]
  },
  {
   "cell_type": "code",
   "execution_count": 7,
   "metadata": {},
   "outputs": [
    {
     "name": "stdout",
     "output_type": "stream",
     "text": [
      "n_iterations: 3\n",
      "n_required_iterations: 3\n",
      "n_possible_iterations: 3\n",
      "min_resources_: 50\n",
      "max_resources_: 200\n",
      "aggressive_elimination: False\n",
      "factor: 2\n",
      "----------\n",
      "iter: 0\n",
      "n_candidates: 5\n",
      "n_resources: 50\n",
      "Fitting 5 folds for each of 5 candidates, totalling 25 fits\n",
      "----------\n",
      "iter: 1\n",
      "n_candidates: 3\n",
      "n_resources: 100\n",
      "Fitting 5 folds for each of 3 candidates, totalling 15 fits\n",
      "----------\n",
      "iter: 2\n",
      "n_candidates: 2\n",
      "n_resources: 200\n",
      "Fitting 5 folds for each of 2 candidates, totalling 10 fits\n",
      "[50, 100, 200]\n"
     ]
    }
   ],
   "source": [
    "''' \n",
    "latent = adata_train_labels.obsm[\"latent\"]\n",
    "labels = adata_train_labels.obs[\"random_or_pattern\"]\n",
    "\n",
    "base_forest = RandomForestClassifier(max_features='sqrt', random_state=rng, bootstrap=True, oob_score=True)\n",
    "features = [2,3,4,5,6]\n",
    "param_grid = {'max_features': features}\n",
    "\n",
    "grid_search = HalvingGridSearchCV(estimator=base_forest, param_grid=param_grid, min_resources=50, factor=2, resource=\"n_estimators\", max_resources=200, scoring='f1', verbose=1, error_score='raise')\n",
    "grid_search.fit(latent,labels)\n",
    "print(grid_search.n_resources_)\n",
    "'''"
   ]
  },
  {
   "cell_type": "code",
   "execution_count": 8,
   "metadata": {},
   "outputs": [
    {
     "data": {
      "text/plain": [
       "{'max_features': 5, 'n_estimators': 200}"
      ]
     },
     "execution_count": 8,
     "metadata": {},
     "output_type": "execute_result"
    }
   ],
   "source": [
    "grid_search.best_params_"
   ]
  },
  {
   "cell_type": "code",
   "execution_count": null,
   "metadata": {},
   "outputs": [
    {
     "data": {
      "text/plain": [
       "{'max_features': 4, 'n_estimators': 80}"
      ]
     },
     "metadata": {},
     "output_type": "display_data"
    }
   ],
   "source": [
    "grid_search.best_params_"
   ]
  },
  {
   "cell_type": "markdown",
   "metadata": {},
   "source": [
    "Now that we have found the optimal parameters for `max_features` and `max_leaf_nodes`, we will look at which value should be chosen for the `n_estimators`"
   ]
  },
  {
   "cell_type": "code",
   "execution_count": 15,
   "metadata": {},
   "outputs": [
    {
     "name": "stderr",
     "output_type": "stream",
     "text": [
      "  0%|          | 0/10 [00:00<?, ?it/s]100%|██████████| 10/10 [29:38<00:00, 177.85s/it]\n"
     ]
    }
   ],
   "source": [
    "train_accuracy = []\n",
    "val_accuracy = []\n",
    "for count in tqdm(range(50, 501, 50)):\n",
    "    # create random forest classifier and fit on training data\n",
    "    rf_classifier = RandomForestClassifier(n_estimators=count, random_state=seed, max_features=4, bootstrap=True, oob_score=True)\n",
    "    rf_classifier.fit(adata_train.obsm[\"latent\"], adata_train.obs[\"random_or_pattern\"]) #first test on pattern/no pattern. Then will select the pattern and cluster that again. \n",
    "    \n",
    "    #predict label\n",
    "    train_pred = rf_classifier.predict(adata_train.obsm[\"latent\"])\n",
    "    val_pred = rf_classifier.predict(adata_val.obsm[\"latent\"])\n",
    "\n",
    "    # Obtain training and validation F1 score. \n",
    "    train_f1 = f1_score(adata_train.obs[\"random_or_pattern\"], train_pred, pos_label='pattern')\n",
    "    val_f1 = f1_score(adata_val.obs[\"random_or_pattern\"], val_pred, pos_label='pattern')\n",
    "\n",
    "    #append scores to lists\n",
    "    train_accuracy.append(train_f1)\n",
    "    val_accuracy.append(val_f1)"
   ]
  },
  {
   "cell_type": "code",
   "execution_count": 16,
   "metadata": {},
   "outputs": [
    {
     "data": {
      "image/png": "[encoded data removed]",
      "text/plain": [
       "<Figure size 432x288 with 1 Axes>"
      ]
     },
     "metadata": {
      "needs_background": "light"
     },
     "output_type": "display_data"
    }
   ],
   "source": [
    "plt.figure()\n",
    "\n",
    "x_values = range(50, 501, 50)\n",
    "\n",
    "plt.plot(x_values, train_accuracy, label='training', linestyle='-', marker='o')\n",
    "plt.plot(x_values, val_accuracy, label='validation', linestyle='--', marker='s')\n",
    "\n",
    "# Add labels and legend\n",
    "plt.title('parameter search for n_estimators')\n",
    "plt.xlabel('number of trees')\n",
    "plt.ylabel('F1 score')\n",
    "plt.legend()\n",
    "plt.show()"
   ]
  },
  {
   "cell_type": "markdown",
   "metadata": {},
   "source": [
    "There doesn't seem to be a large difference in performance between the different number of trees. 200 trees seems to give a slightly higher validation than the rest, so we will pick that. \n",
    "\n",
    "*Check whether performance difference can be attributed to* cell identity difference, if not it seems to be influenced by max tree depth. "
   ]
  },
  {
   "cell_type": "code",
   "execution_count": null,
   "metadata": {},
   "outputs": [],
   "source": [
    "confusion_matrix = metrics.confusion_matrix(adata_val.obs[\"pattern\"], val_pred, labels = rf_classifier.classes_)\n",
    "cm_display = metrics.ConfusionMatrixDisplay(confusion_matrix = confusion_matrix, display_labels = rf_classifier.classes_) \n",
    "cm_display.plot()\n",
    "plt.show()"
   ]
  },
  {
   "cell_type": "markdown",
   "metadata": {},
   "source": [
    "## Train val test split Based on cell_ids"
   ]
  },
  {
   "cell_type": "code",
   "execution_count": 7,
   "metadata": {},
   "outputs": [],
   "source": [
    "# Step 1: Group indices by cell_id\n",
    "all_indices = adata.obs.index\n",
    "cell_ids = np.array(adata.obs['cell_id'])\n",
    "unique_cell_ids, cell_id_indices = np.unique(cell_ids, return_inverse=True)"
   ]
  },
  {
   "cell_type": "code",
   "execution_count": 8,
   "metadata": {},
   "outputs": [],
   "source": [
    "# Step 1: Group indices by cell_id\n",
    "all_indices = adata.obs.index\n",
    "cell_ids = np.array(adata.obs['cell_id'])\n",
    "unique_cell_ids, cell_id_indices = np.unique(cell_ids, return_inverse=True)\n",
    "\n",
    "# Step 3: Perform train-val-test split on cell_ids, maintaining the grouping\n",
    "train_indices, test_val_indices = skm.train_test_split(np.arange(len(unique_cell_ids)), test_size=0.2, random_state=seed)\n",
    "val_indices, test_indices = skm.train_test_split(test_val_indices, test_size=0.5, random_state=seed)\n",
    "\n",
    "# Step 4: Map the grouped indices back to the original indices\n",
    "train_indices = np.concatenate([np.where(cell_id_indices == i)[0] for i in train_indices])\n",
    "val_indices = np.concatenate([np.where(cell_id_indices == i)[0] for i in val_indices])\n",
    "test_indices = np.concatenate([np.where(cell_id_indices == i)[0] for i in test_indices])\n",
    "\n",
    "# Step 5: Subset AnnData object using the obtained indices\n",
    "adata_train = adata[train_indices, :] # Training set:   176162 x 15\n",
    "adata_val = adata[val_indices, :]     # Validation set: 22269 x 15\n",
    "adata_test = adata[test_indices, :]   # Test set:       22256 x 15"
   ]
  },
  {
   "cell_type": "markdown",
   "metadata": {},
   "source": [
    "Check if there indeed is no overlap in cell_id between the train-val-test groups"
   ]
  },
  {
   "cell_type": "code",
   "execution_count": 9,
   "metadata": {},
   "outputs": [
    {
     "name": "stdout",
     "output_type": "stream",
     "text": [
      "set()\n"
     ]
    },
    {
     "data": {
      "text/plain": [
       "set()"
      ]
     },
     "execution_count": 9,
     "metadata": {},
     "output_type": "execute_result"
    }
   ],
   "source": [
    "print(set(adata_train.obs['cell_id']).intersection(adata_val.obs['cell_id'], adata_test.obs['cell_id']))\n",
    "set(adata_train.obs['cell_id']) & set(adata_val.obs['cell_id'])"
   ]
  },
  {
   "cell_type": "markdown",
   "metadata": {},
   "source": [
    "# Random Forest"
   ]
  },
  {
   "cell_type": "markdown",
   "metadata": {},
   "source": [
    "## Pattern / no pattern"
   ]
  },
  {
   "cell_type": "code",
   "execution_count": 15,
   "metadata": {},
   "outputs": [
    {
     "data": {
      "text/plain": [
       "0.9267946549199033"
      ]
     },
     "execution_count": 15,
     "metadata": {},
     "output_type": "execute_result"
    }
   ],
   "source": [
    "# Create a random forest classifier.\n",
    "rf_classifier = RandomForestClassifier(n_estimators=100, random_state=seed, max_features='sqrt', bootstrap=True, oob_score=True)\n",
    "rf_classifier.fit(adata_train.obsm[\"latent\"], adata_train.obs[\"random_or_pattern\"]) #first test on pattern/no pattern. Then will select the pattern and cluster that again. \n",
    "\n",
    "#out of bag score during training\n",
    "rf_classifier.oob_score_"
   ]
  },
  {
   "cell_type": "code",
   "execution_count": 27,
   "metadata": {},
   "outputs": [],
   "source": [
    "adata_train_labels = adata_train.copy()\n",
    "pattern_mapping = {'pattern': 1, 'random': 0}\n",
    "adata_train_labels.obs['random_or_pattern'].replace(pattern_mapping, inplace=True)"
   ]
  },
  {
   "cell_type": "code",
   "execution_count": 30,
   "metadata": {},
   "outputs": [
    {
     "name": "stdout",
     "output_type": "stream",
     "text": [
      "Fitting 5 folds for each of 5 candidates, totalling 25 fits\n",
      "[CV 1/5] END ....................max_features=2;, score=0.948 total time=  25.6s\n",
      "[CV 2/5] END ....................max_features=2;, score=0.950 total time=  25.4s\n",
      "[CV 3/5] END ....................max_features=2;, score=0.946 total time=  25.4s\n",
      "[CV 4/5] END ....................max_features=2;, score=0.945 total time=  25.2s\n",
      "[CV 5/5] END ....................max_features=2;, score=0.950 total time=  25.3s\n",
      "[CV 1/5] END ....................max_features=3;, score=0.948 total time=  36.1s\n",
      "[CV 2/5] END ....................max_features=3;, score=0.950 total time=  35.9s\n",
      "[CV 3/5] END ....................max_features=3;, score=0.946 total time=  35.7s\n",
      "[CV 4/5] END ....................max_features=3;, score=0.945 total time=  35.7s\n",
      "[CV 5/5] END ....................max_features=3;, score=0.950 total time=  35.7s\n",
      "[CV 1/5] END ....................max_features=4;, score=0.949 total time=  46.9s\n",
      "[CV 2/5] END ....................max_features=4;, score=0.950 total time=  46.6s\n",
      "[CV 3/5] END ....................max_features=4;, score=0.946 total time=  46.4s\n",
      "[CV 4/5] END ....................max_features=4;, score=0.946 total time=  46.0s\n",
      "[CV 5/5] END ....................max_features=4;, score=0.949 total time=  46.5s\n",
      "[CV 1/5] END ....................max_features=5;, score=0.948 total time=  57.9s\n",
      "[CV 2/5] END ....................max_features=5;, score=0.951 total time=  57.5s\n",
      "[CV 3/5] END ....................max_features=5;, score=0.945 total time=  57.0s\n",
      "[CV 4/5] END ....................max_features=5;, score=0.945 total time=  56.8s\n",
      "[CV 5/5] END ....................max_features=5;, score=0.950 total time=  57.3s\n",
      "[CV 1/5] END ....................max_features=6;, score=0.948 total time= 1.2min\n",
      "[CV 2/5] END ....................max_features=6;, score=0.951 total time= 1.2min\n",
      "[CV 3/5] END ....................max_features=6;, score=0.945 total time= 1.1min\n",
      "[CV 4/5] END ....................max_features=6;, score=0.945 total time= 1.1min\n",
      "[CV 5/5] END ....................max_features=6;, score=0.950 total time= 1.1min\n",
      "{'mean_fit_time': array([25.02259779, 35.5006043 , 46.13159609, 56.95996585, 68.52260299]), 'std_fit_time': array([0.14168792, 0.15416235, 0.26514589, 0.37347059, 0.32085018]), 'mean_score_time': array([0.35787034, 0.33964453, 0.33001308, 0.32552433, 0.32447152]), 'std_score_time': array([0.00235196, 0.00238289, 0.00311355, 0.00388636, 0.00294739]), 'param_max_features': masked_array(data=[2, 3, 4, 5, 6],\n",
      "             mask=[False, False, False, False, False],\n",
      "       fill_value='?',\n",
      "            dtype=object), 'params': [{'max_features': 2}, {'max_features': 3}, {'max_features': 4}, {'max_features': 5}, {'max_features': 6}], 'split0_test_score': array([0.94786051, 0.94839082, 0.94866742, 0.94823843, 0.94828239]), 'split1_test_score': array([0.95004885, 0.95006683, 0.95022642, 0.95057292, 0.95053892]), 'split2_test_score': array([0.94587347, 0.94554347, 0.94608827, 0.94482114, 0.94511129]), 'split3_test_score': array([0.94483285, 0.94515908, 0.94591259, 0.94522667, 0.9451376 ]), 'split4_test_score': array([0.95021495, 0.94958866, 0.94915725, 0.9497025 , 0.95006448]), 'mean_test_score': array([0.94776613, 0.94774977, 0.94801039, 0.94771233, 0.94782693]), 'std_test_score': array([0.00216346, 0.0020367 , 0.00171774, 0.00232198, 0.00233136]), 'rank_test_score': array([3, 4, 1, 5, 2], dtype=int32)}\n",
      "Best parameters: \n",
      "{'max_features': 4}\n"
     ]
    }
   ],
   "source": [
    "latent = adata_train_labels.obsm[\"latent\"]\n",
    "labels = adata_train_labels.obs[\"random_or_pattern\"]\n",
    "\n",
    "base_forest = RandomForestClassifier(random_state=seed, bootstrap=True, oob_score=True, n_estimators=100)\n",
    "param_grid = {'max_features': [2,3,4,5,6]}\n",
    "\n",
    "grid_search = GridSearchCV(base_forest, param_grid=param_grid, scoring='f1', verbose=3, error_score='raise')\n",
    "grid_search.fit(latent,labels)\n",
    "\n",
    "print(grid_search.cv_results_)\n",
    "print(\"Best parameters: \")\n",
    "print(grid_search.best_params_)"
   ]
  },
  {
   "cell_type": "code",
   "execution_count": 32,
   "metadata": {},
   "outputs": [
    {
     "name": "stderr",
     "output_type": "stream",
     "text": [
      "100%|██████████| 10/10 [29:01<00:00, 174.14s/it]\n"
     ]
    }
   ],
   "source": [
    "train_accuracy = []\n",
    "val_accuracy = []\n",
    "for count in tqdm(range(50, 501, 50)):\n",
    "    # create random forest classifier and fit on training data\n",
    "    rf_classifier = RandomForestClassifier(n_estimators=count, random_state=seed, max_features=4, bootstrap=True, oob_score=True)\n",
    "    rf_classifier.fit(adata_train.obsm[\"latent\"], adata_train.obs[\"random_or_pattern\"]) #first test on pattern/no pattern. Then will select the pattern and cluster that again. \n",
    "    \n",
    "    #predict label\n",
    "    train_pred = rf_classifier.predict(adata_train.obsm[\"latent\"])\n",
    "    val_pred = rf_classifier.predict(adata_val.obsm[\"latent\"])\n",
    "\n",
    "    # Obtain training and validation F1 score. \n",
    "    train_f1 = f1_score(adata_train.obs[\"random_or_pattern\"], train_pred, pos_label='pattern')\n",
    "    val_f1 = f1_score(adata_val.obs[\"random_or_pattern\"], val_pred, pos_label='pattern')\n",
    "\n",
    "    #append scores to lists\n",
    "    train_accuracy.append(train_f1)\n",
    "    val_accuracy.append(val_f1)"
   ]
  },
  {
   "cell_type": "code",
   "execution_count": 33,
   "metadata": {},
   "outputs": [
    {
     "data": {
      "image/png": "[encoded data removed]",
      "text/plain": [
       "<Figure size 432x288 with 1 Axes>"
      ]
     },
     "metadata": {
      "needs_background": "light"
     },
     "output_type": "display_data"
    }
   ],
   "source": [
    "plt.figure()\n",
    "\n",
    "x_values = range(50, 501, 50)\n",
    "\n",
    "plt.plot(x_values, train_accuracy, label='training', linestyle='-', marker='o')\n",
    "plt.plot(x_values, val_accuracy, label='validation', linestyle='--', marker='s')\n",
    "\n",
    "# Add labels and legend\n",
    "plt.title('parameter search for n_estimators')\n",
    "plt.xlabel('number of trees')\n",
    "plt.ylabel('F1 score')\n",
    "plt.legend()\n",
    "plt.show()"
   ]
  },
  {
   "cell_type": "code",
   "execution_count": 35,
   "metadata": {},
   "outputs": [
    {
     "data": {
      "text/plain": [
       "[0.94358651118815,\n",
       " 0.9435366853826257,\n",
       " 0.944197343932368,\n",
       " 0.9440151395678916,\n",
       " 0.9445863689406125,\n",
       " 0.944335752603345,\n",
       " 0.9446424628584046,\n",
       " 0.944353312302839,\n",
       " 0.9442393259490675,\n",
       " 0.9444426917373884]"
      ]
     },
     "execution_count": 35,
     "metadata": {},
     "output_type": "execute_result"
    }
   ],
   "source": [
    "val_accuracy"
   ]
  },
  {
   "cell_type": "markdown",
   "metadata": {},
   "source": [
    "There is hardly any improvement with more trees in the random forest, stays at 94.5%."
   ]
  },
  {
   "cell_type": "code",
   "execution_count": 11,
   "metadata": {},
   "outputs": [],
   "source": [
    " # create random forest classifier and fit on training data\n",
    "rf_classifier = RandomForestClassifier(n_estimators=150, random_state=seed, max_features=4, bootstrap=True, oob_score=False)\n",
    "rf_classifier.fit(adata_train.obsm[\"latent\"], adata_train.obs[\"random_or_pattern\"]) #first test on pattern/no pattern. Then will select the pattern and cluster that again. \n",
    "    \n",
    "#predict label\n",
    "val_pred = rf_classifier.predict(adata_val.obsm[\"latent\"])"
   ]
  },
  {
   "cell_type": "code",
   "execution_count": 18,
   "metadata": {},
   "outputs": [
    {
     "data": {
      "image/png": "[encoded data removed]",
      "text/plain": [
       "<Figure size 432x288 with 2 Axes>"
      ]
     },
     "metadata": {
      "needs_background": "light"
     },
     "output_type": "display_data"
    }
   ],
   "source": [
    "confusion_matrix = metrics.confusion_matrix(adata_val.obs[\"random_or_pattern\"], val_pred, labels = rf_classifier.classes_)\n",
    "cm_display = metrics.ConfusionMatrixDisplay(confusion_matrix = confusion_matrix, display_labels = rf_classifier.classes_) \n",
    "cm_display.plot()\n",
    "plt.show()"
   ]
  },
  {
   "cell_type": "markdown",
   "metadata": {},
   "source": [
    "See the ratio of pattern/non pattern that the RF classifies the real biological data"
   ]
  },
  {
   "cell_type": "code",
   "execution_count": 18,
   "metadata": {},
   "outputs": [
    {
     "data": {
      "text/plain": [
       "(array(['pattern', 'random'], dtype=object), array([2956,  558]))"
      ]
     },
     "execution_count": 18,
     "metadata": {},
     "output_type": "execute_result"
    }
   ],
   "source": [
    "bio_pred = rf_classifier.predict(adata_bio[adata_bio.obs['pattern']=='spatial'].obsm[\"latent\"])\n",
    "np.unique(bio_pred, return_counts=True)"
   ]
  },
  {
   "cell_type": "markdown",
   "metadata": {},
   "source": [
    "## Random Forest Multilabel\n",
    "\n",
    "run the random forest for optimal parameters and get F1 score.\n",
    "select only the pattern ones, and then do random forest on the pattern labels. \n",
    "In the end wanna do a for loop to combine the combinations between the different ones. random forest + other stuff etc. "
   ]
  },
  {
   "cell_type": "code",
   "execution_count": 16,
   "metadata": {},
   "outputs": [
    {
     "data": {
      "text/plain": [
       "673       cell-edge\n",
       "674       cell-edge\n",
       "936       cell-edge\n",
       "937       cell-edge\n",
       "938       cell-edge\n",
       "            ...    \n",
       "220532       random\n",
       "220533       random\n",
       "220534       random\n",
       "220535       random\n",
       "220536       random\n",
       "Name: pattern, Length: 22269, dtype: object"
      ]
     },
     "execution_count": 16,
     "metadata": {},
     "output_type": "execute_result"
    }
   ],
   "source": [
    "adata_val.obs['pattern']"
   ]
  },
  {
   "cell_type": "code",
   "execution_count": 20,
   "metadata": {},
   "outputs": [],
   "source": [
    "adata_train_pattern = adata_train.copy()\n",
    "adata_train_pattern = adata_train_pattern[adata_train_pattern.obs['pattern']!='random']\n",
    "adata_val_pattern = adata_val.copy()\n",
    "adata_val_pattern = adata_val_pattern[adata_val_pattern.obs['pattern']!='random']\n",
    "#pattern_mapping = {'pattern': 1, 'random': 0}\n",
    "#adata_train_labels.obs['random_or_pattern'].replace(pattern_mapping, inplace=True)"
   ]
  },
  {
   "cell_type": "code",
   "execution_count": 21,
   "metadata": {},
   "outputs": [],
   "source": [
    "rf_classifier = RandomForestClassifier(n_estimators=150, random_state=seed, max_features=4, bootstrap=True, oob_score=False)\n",
    "rf_classifier.fit(adata_train_pattern.obsm[\"latent\"], adata_train_pattern.obs[\"pattern\"]) #first test on pattern/no pattern. Then will select the pattern and cluster that again. \n",
    "\n",
    "#predict label\n",
    "val_pred = rf_classifier.predict(adata_val_pattern.obsm[\"latent\"])\n"
   ]
  },
  {
   "cell_type": "code",
   "execution_count": 70,
   "metadata": {},
   "outputs": [
    {
     "name": "stdout",
     "output_type": "stream",
     "text": [
      "f1 validation: macro average:\n",
      "0.826966474650541\n",
      "f1 validation: micro average:\n",
      "0.8282644212642954\n"
     ]
    }
   ],
   "source": [
    "val_f1_macro = f1_score(adata_val_pattern.obs[\"pattern\"], val_pred, average='macro')\n",
    "val_f1_micro = f1_score(adata_val_pattern.obs[\"pattern\"], val_pred, average='micro')\n",
    "print('f1 validation: macro average:')\n",
    "print(val_f1_macro)\n",
    "print('f1 validation: micro average:')\n",
    "print(val_f1_micro)"
   ]
  },
  {
   "cell_type": "code",
   "execution_count": 66,
   "metadata": {},
   "outputs": [
    {
     "data": {
      "text/plain": [
       "<sklearn.metrics._plot.confusion_matrix.ConfusionMatrixDisplay at 0x7f1d6afba2e0>"
      ]
     },
     "execution_count": 66,
     "metadata": {},
     "output_type": "execute_result"
    },
    {
     "data": {
      "image/png": "[encoded data removed]",
      "text/plain": [
       "<Figure size 432x288 with 2 Axes>"
      ]
     },
     "metadata": {
      "needs_background": "light"
     },
     "output_type": "display_data"
    },
    {
     "data": {
      "image/png": "[encoded data removed]",
      "text/plain": [
       "<Figure size 432x288 with 2 Axes>"
      ]
     },
     "metadata": {
      "needs_background": "light"
     },
     "output_type": "display_data"
    }
   ],
   "source": [
    "#confusion_matrix = metrics.confusion_matrix(adata_val_pattern.obs[\"pattern\"], val_pred, labels = rf_classifier.classes_)\n",
    "cm_display = metrics.ConfusionMatrixDisplay.from_predictions(y_true=adata_val_pattern.obs[\"pattern\"], y_pred=val_pred, display_labels = rf_classifier.classes_, xticks_rotation='vertical') \n",
    "cm_display.plot()"
   ]
  },
  {
   "cell_type": "code",
   "execution_count": 22,
   "metadata": {},
   "outputs": [
    {
     "data": {
      "text/plain": [
       "(array(['cell-edge', 'extranuclear', 'intranuclear', 'pericellular',\n",
       "        'perinuclear'], dtype=object),\n",
       " array([1435,  488,  679,  678,  234]))"
      ]
     },
     "execution_count": 22,
     "metadata": {},
     "output_type": "execute_result"
    }
   ],
   "source": [
    "bio_pred = rf_classifier.predict(adata_bio[adata_bio.obs['pattern']=='spatial'].obsm[\"latent\"])\n",
    "np.unique(bio_pred, return_counts=True)"
   ]
  },
  {
   "cell_type": "markdown",
   "metadata": {},
   "source": [
    "Classifier score for pattern classifier that has mixed cell_id's. "
   ]
  },
  {
   "cell_type": "code",
   "execution_count": 26,
   "metadata": {},
   "outputs": [
    {
     "data": {
      "text/plain": [
       "0.8450290080207971"
      ]
     },
     "execution_count": 26,
     "metadata": {},
     "output_type": "execute_result"
    }
   ],
   "source": [
    "#out of bag score during training\n",
    "rf_classifier.oob_score_"
   ]
  },
  {
   "cell_type": "markdown",
   "metadata": {},
   "source": [
    "## Random Forest - Separate Binary classifiers"
   ]
  },
  {
   "cell_type": "code",
   "execution_count": 20,
   "metadata": {},
   "outputs": [],
   "source": [
    "adata_train_pattern = adata_train.copy()\n",
    "adata_train_pattern.obs[\"extranuclear\"] = np.where(adata_train_pattern.obs[\"pattern\"] == \"extranuclear\", \"extranuclear\", \"other\")\n",
    "adata_val_pattern = adata_val.copy()\n",
    "adata_val_pattern.obs[\"extranuclear\"] = np.where(adata_val_pattern.obs[\"pattern\"] == \"extranuclear\", \"extranuclear\", \"other\")\n",
    "#pattern_mapping = {'pattern': 1, 'random': 0}\n",
    "#adata_train_labels.obs['random_or_pattern'].replace(pattern_mapping, inplace=True)"
   ]
  },
  {
   "cell_type": "markdown",
   "metadata": {},
   "source": [
    "Create a model with the same hyperparameters as for the pattern no pattern (same base model, different class). Will at first only do this for extranuclear given it has the worst performance in the multiscore to see if it is worthwhile to do this for the other labels as well."
   ]
  },
  {
   "cell_type": "markdown",
   "metadata": {},
   "source": [
    "RF including random"
   ]
  },
  {
   "cell_type": "code",
   "execution_count": 22,
   "metadata": {},
   "outputs": [
    {
     "data": {
      "image/png": "[encoded data removed]",
      "text/plain": [
       "<Figure size 432x288 with 2 Axes>"
      ]
     },
     "metadata": {
      "needs_background": "light"
     },
     "output_type": "display_data"
    }
   ],
   "source": [
    " # create random forest classifier INCLUDING random\n",
    "rf_classifier = RandomForestClassifier(n_estimators=150, random_state=seed, max_features=4, bootstrap=True, oob_score=False)\n",
    "rf_classifier.fit(adata_train_pattern.obsm[\"latent\"], adata_train_pattern.obs[\"extranuclear\"]) #first test on pattern/no pattern. Then will select the pattern and cluster that again. \n",
    "    \n",
    "#predict label\n",
    "val_pred = rf_classifier.predict(adata_val_pattern.obsm[\"latent\"])\n",
    "\n",
    "confusion_matrix = metrics.confusion_matrix(adata_val_pattern.obs[\"extranuclear\"], val_pred, labels = rf_classifier.classes_)\n",
    "cm_display = metrics.ConfusionMatrixDisplay(confusion_matrix = confusion_matrix, display_labels = rf_classifier.classes_) \n",
    "cm_display.plot()\n",
    "plt.show()"
   ]
  },
  {
   "cell_type": "markdown",
   "metadata": {},
   "source": [
    "RF excluding random"
   ]
  },
  {
   "cell_type": "code",
   "execution_count": 34,
   "metadata": {},
   "outputs": [
    {
     "name": "stderr",
     "output_type": "stream",
     "text": [
      "<ipython-input-34-ce1dcece7803>:3: ImplicitModificationWarning: Trying to modify attribute `.obs` of view, initializing view as actual.\n",
      "  adata_train_pattern.obs[\"extranuclear_no_random\"] = np.where(adata_train_pattern.obs[\"pattern\"] == \"extranuclear\", \"extranuclear\", \"other\")\n",
      "<ipython-input-34-ce1dcece7803>:6: ImplicitModificationWarning: Trying to modify attribute `.obs` of view, initializing view as actual.\n",
      "  adata_val_pattern.obs[\"extranuclear_no_random\"] = np.where(adata_val_pattern.obs[\"pattern\"] == \"extranuclear\", \"extranuclear\", \"other\")\n"
     ]
    }
   ],
   "source": [
    "adata_train_pattern = adata_train.copy()\n",
    "adata_train_pattern = adata_train_pattern[adata_train_pattern.obs['pattern']!='random']\n",
    "adata_train_pattern.obs[\"extranuclear_no_random\"] = np.where(adata_train_pattern.obs[\"pattern\"] == \"extranuclear\", \"extranuclear\", \"other\")\n",
    "adata_val_pattern = adata_val.copy()\n",
    "adata_val_pattern = adata_val_pattern[adata_val_pattern.obs['pattern']!='random']\n",
    "adata_val_pattern.obs[\"extranuclear_no_random\"] = np.where(adata_val_pattern.obs[\"pattern\"] == \"extranuclear\", \"extranuclear\", \"other\")\n"
   ]
  },
  {
   "cell_type": "code",
   "execution_count": 31,
   "metadata": {},
   "outputs": [
    {
     "data": {
      "text/html": [
       "<div>\n",
       "<style scoped>\n",
       "    .dataframe tbody tr th:only-of-type {\n",
       "        vertical-align: middle;\n",
       "    }\n",
       "\n",
       "    .dataframe tbody tr th {\n",
       "        vertical-align: top;\n",
       "    }\n",
       "\n",
       "    .dataframe thead th {\n",
       "        text-align: right;\n",
       "    }\n",
       "</style>\n",
       "<table border=\"1\" class=\"dataframe\">\n",
       "  <thead>\n",
       "    <tr style=\"text-align: right;\">\n",
       "      <th></th>\n",
       "      <th>pattern</th>\n",
       "      <th>random_or_pattern</th>\n",
       "      <th>n_spots</th>\n",
       "      <th>n_spots_interval</th>\n",
       "      <th>cell_id</th>\n",
       "      <th>genes</th>\n",
       "      <th>rotation</th>\n",
       "      <th>rotation_interval</th>\n",
       "      <th>blur</th>\n",
       "      <th>blur_interval</th>\n",
       "      <th>...</th>\n",
       "      <th>cell-edge</th>\n",
       "      <th>extranuclear</th>\n",
       "      <th>intranuclear</th>\n",
       "      <th>pericellular</th>\n",
       "      <th>perinuclear</th>\n",
       "      <th>random</th>\n",
       "      <th>random_score</th>\n",
       "      <th>pattern_score</th>\n",
       "      <th>batch</th>\n",
       "      <th>extranuclear_no_random</th>\n",
       "    </tr>\n",
       "  </thead>\n",
       "  <tbody>\n",
       "    <tr>\n",
       "      <th>663</th>\n",
       "      <td>cell-edge</td>\n",
       "      <td>pattern</td>\n",
       "      <td>81</td>\n",
       "      <td>90-100</td>\n",
       "      <td>27</td>\n",
       "      <td>blank</td>\n",
       "      <td>307</td>\n",
       "      <td>300+</td>\n",
       "      <td>1.5</td>\n",
       "      <td>NaN</td>\n",
       "      <td>...</td>\n",
       "      <td>0.992096</td>\n",
       "      <td>0.934968</td>\n",
       "      <td>5.487039e-15</td>\n",
       "      <td>1.322831e-10</td>\n",
       "      <td>0.000015</td>\n",
       "      <td>0.967630</td>\n",
       "      <td>0.392781</td>\n",
       "      <td>0.608507</td>\n",
       "      <td>0</td>\n",
       "      <td>other</td>\n",
       "    </tr>\n",
       "    <tr>\n",
       "      <th>664</th>\n",
       "      <td>cell-edge</td>\n",
       "      <td>pattern</td>\n",
       "      <td>81</td>\n",
       "      <td>90-100</td>\n",
       "      <td>27</td>\n",
       "      <td>blank</td>\n",
       "      <td>45</td>\n",
       "      <td>0-60</td>\n",
       "      <td>1.5</td>\n",
       "      <td>NaN</td>\n",
       "      <td>...</td>\n",
       "      <td>0.754152</td>\n",
       "      <td>0.798077</td>\n",
       "      <td>2.422030e-14</td>\n",
       "      <td>2.009141e-09</td>\n",
       "      <td>0.000235</td>\n",
       "      <td>0.627178</td>\n",
       "      <td>0.244180</td>\n",
       "      <td>0.757463</td>\n",
       "      <td>0</td>\n",
       "      <td>other</td>\n",
       "    </tr>\n",
       "    <tr>\n",
       "      <th>665</th>\n",
       "      <td>cell-edge</td>\n",
       "      <td>pattern</td>\n",
       "      <td>81</td>\n",
       "      <td>90-100</td>\n",
       "      <td>27</td>\n",
       "      <td>blank</td>\n",
       "      <td>90</td>\n",
       "      <td>60-120</td>\n",
       "      <td>1.5</td>\n",
       "      <td>NaN</td>\n",
       "      <td>...</td>\n",
       "      <td>0.999964</td>\n",
       "      <td>0.999141</td>\n",
       "      <td>8.410337e-18</td>\n",
       "      <td>1.347031e-07</td>\n",
       "      <td>0.000001</td>\n",
       "      <td>0.035344</td>\n",
       "      <td>0.089089</td>\n",
       "      <td>0.911159</td>\n",
       "      <td>0</td>\n",
       "      <td>other</td>\n",
       "    </tr>\n",
       "    <tr>\n",
       "      <th>897</th>\n",
       "      <td>cell-edge</td>\n",
       "      <td>pattern</td>\n",
       "      <td>24</td>\n",
       "      <td>20-30</td>\n",
       "      <td>27</td>\n",
       "      <td>blank</td>\n",
       "      <td>251</td>\n",
       "      <td>240-300</td>\n",
       "      <td>1.5</td>\n",
       "      <td>NaN</td>\n",
       "      <td>...</td>\n",
       "      <td>0.972466</td>\n",
       "      <td>0.127212</td>\n",
       "      <td>2.169975e-11</td>\n",
       "      <td>1.990620e-15</td>\n",
       "      <td>0.000403</td>\n",
       "      <td>1.000000</td>\n",
       "      <td>0.983680</td>\n",
       "      <td>0.016362</td>\n",
       "      <td>0</td>\n",
       "      <td>other</td>\n",
       "    </tr>\n",
       "    <tr>\n",
       "      <th>898</th>\n",
       "      <td>cell-edge</td>\n",
       "      <td>pattern</td>\n",
       "      <td>24</td>\n",
       "      <td>20-30</td>\n",
       "      <td>27</td>\n",
       "      <td>blank</td>\n",
       "      <td>65</td>\n",
       "      <td>60-120</td>\n",
       "      <td>1.5</td>\n",
       "      <td>NaN</td>\n",
       "      <td>...</td>\n",
       "      <td>0.004701</td>\n",
       "      <td>0.000760</td>\n",
       "      <td>6.626342e-10</td>\n",
       "      <td>3.418462e-15</td>\n",
       "      <td>0.003140</td>\n",
       "      <td>1.000000</td>\n",
       "      <td>0.945318</td>\n",
       "      <td>0.054801</td>\n",
       "      <td>0</td>\n",
       "      <td>other</td>\n",
       "    </tr>\n",
       "    <tr>\n",
       "      <th>...</th>\n",
       "      <td>...</td>\n",
       "      <td>...</td>\n",
       "      <td>...</td>\n",
       "      <td>...</td>\n",
       "      <td>...</td>\n",
       "      <td>...</td>\n",
       "      <td>...</td>\n",
       "      <td>...</td>\n",
       "      <td>...</td>\n",
       "      <td>...</td>\n",
       "      <td>...</td>\n",
       "      <td>...</td>\n",
       "      <td>...</td>\n",
       "      <td>...</td>\n",
       "      <td>...</td>\n",
       "      <td>...</td>\n",
       "      <td>...</td>\n",
       "      <td>...</td>\n",
       "      <td>...</td>\n",
       "      <td>...</td>\n",
       "      <td>...</td>\n",
       "    </tr>\n",
       "    <tr>\n",
       "      <th>156222</th>\n",
       "      <td>perinuclear</td>\n",
       "      <td>pattern</td>\n",
       "      <td>27</td>\n",
       "      <td>20-30</td>\n",
       "      <td>108</td>\n",
       "      <td>blank</td>\n",
       "      <td>251</td>\n",
       "      <td>240-300</td>\n",
       "      <td>1.5</td>\n",
       "      <td>NaN</td>\n",
       "      <td>...</td>\n",
       "      <td>0.032426</td>\n",
       "      <td>0.723309</td>\n",
       "      <td>1.660171e-07</td>\n",
       "      <td>1.175373e-04</td>\n",
       "      <td>0.996019</td>\n",
       "      <td>0.033108</td>\n",
       "      <td>0.110164</td>\n",
       "      <td>0.890005</td>\n",
       "      <td>0</td>\n",
       "      <td>other</td>\n",
       "    </tr>\n",
       "    <tr>\n",
       "      <th>156223</th>\n",
       "      <td>perinuclear</td>\n",
       "      <td>pattern</td>\n",
       "      <td>27</td>\n",
       "      <td>20-30</td>\n",
       "      <td>108</td>\n",
       "      <td>blank</td>\n",
       "      <td>332</td>\n",
       "      <td>300+</td>\n",
       "      <td>1.5</td>\n",
       "      <td>NaN</td>\n",
       "      <td>...</td>\n",
       "      <td>0.502149</td>\n",
       "      <td>0.634688</td>\n",
       "      <td>1.423556e-07</td>\n",
       "      <td>4.383508e-05</td>\n",
       "      <td>0.488439</td>\n",
       "      <td>0.412596</td>\n",
       "      <td>0.169994</td>\n",
       "      <td>0.829664</td>\n",
       "      <td>0</td>\n",
       "      <td>other</td>\n",
       "    </tr>\n",
       "    <tr>\n",
       "      <th>156868</th>\n",
       "      <td>perinuclear</td>\n",
       "      <td>pattern</td>\n",
       "      <td>11</td>\n",
       "      <td>10-20</td>\n",
       "      <td>108</td>\n",
       "      <td>blank</td>\n",
       "      <td>100</td>\n",
       "      <td>60-120</td>\n",
       "      <td>1.5</td>\n",
       "      <td>NaN</td>\n",
       "      <td>...</td>\n",
       "      <td>0.013130</td>\n",
       "      <td>0.017682</td>\n",
       "      <td>1.378627e-05</td>\n",
       "      <td>2.662874e-08</td>\n",
       "      <td>0.974515</td>\n",
       "      <td>0.998928</td>\n",
       "      <td>0.599384</td>\n",
       "      <td>0.400611</td>\n",
       "      <td>0</td>\n",
       "      <td>other</td>\n",
       "    </tr>\n",
       "    <tr>\n",
       "      <th>156869</th>\n",
       "      <td>perinuclear</td>\n",
       "      <td>pattern</td>\n",
       "      <td>11</td>\n",
       "      <td>10-20</td>\n",
       "      <td>108</td>\n",
       "      <td>blank</td>\n",
       "      <td>168</td>\n",
       "      <td>120-180</td>\n",
       "      <td>1.5</td>\n",
       "      <td>NaN</td>\n",
       "      <td>...</td>\n",
       "      <td>0.059709</td>\n",
       "      <td>0.001133</td>\n",
       "      <td>3.874913e-04</td>\n",
       "      <td>1.750608e-06</td>\n",
       "      <td>0.153743</td>\n",
       "      <td>0.999459</td>\n",
       "      <td>0.706572</td>\n",
       "      <td>0.294269</td>\n",
       "      <td>0</td>\n",
       "      <td>other</td>\n",
       "    </tr>\n",
       "    <tr>\n",
       "      <th>156870</th>\n",
       "      <td>perinuclear</td>\n",
       "      <td>pattern</td>\n",
       "      <td>11</td>\n",
       "      <td>10-20</td>\n",
       "      <td>108</td>\n",
       "      <td>blank</td>\n",
       "      <td>298</td>\n",
       "      <td>240-300</td>\n",
       "      <td>1.5</td>\n",
       "      <td>NaN</td>\n",
       "      <td>...</td>\n",
       "      <td>0.189284</td>\n",
       "      <td>0.011436</td>\n",
       "      <td>1.868191e-04</td>\n",
       "      <td>7.062278e-06</td>\n",
       "      <td>0.877631</td>\n",
       "      <td>0.999703</td>\n",
       "      <td>0.696556</td>\n",
       "      <td>0.304411</td>\n",
       "      <td>0</td>\n",
       "      <td>other</td>\n",
       "    </tr>\n",
       "  </tbody>\n",
       "</table>\n",
       "<p>125852 rows × 27 columns</p>\n",
       "</div>"
      ],
      "text/plain": [
       "            pattern random_or_pattern  n_spots n_spots_interval cell_id  \\\n",
       "663       cell-edge           pattern       81           90-100      27   \n",
       "664       cell-edge           pattern       81           90-100      27   \n",
       "665       cell-edge           pattern       81           90-100      27   \n",
       "897       cell-edge           pattern       24            20-30      27   \n",
       "898       cell-edge           pattern       24            20-30      27   \n",
       "...             ...               ...      ...              ...     ...   \n",
       "156222  perinuclear           pattern       27            20-30     108   \n",
       "156223  perinuclear           pattern       27            20-30     108   \n",
       "156868  perinuclear           pattern       11            10-20     108   \n",
       "156869  perinuclear           pattern       11            10-20     108   \n",
       "156870  perinuclear           pattern       11            10-20     108   \n",
       "\n",
       "        genes  rotation rotation_interval  blur blur_interval  ...  cell-edge  \\\n",
       "663     blank       307              300+   1.5           NaN  ...   0.992096   \n",
       "664     blank        45              0-60   1.5           NaN  ...   0.754152   \n",
       "665     blank        90            60-120   1.5           NaN  ...   0.999964   \n",
       "897     blank       251           240-300   1.5           NaN  ...   0.972466   \n",
       "898     blank        65            60-120   1.5           NaN  ...   0.004701   \n",
       "...       ...       ...               ...   ...           ...  ...        ...   \n",
       "156222  blank       251           240-300   1.5           NaN  ...   0.032426   \n",
       "156223  blank       332              300+   1.5           NaN  ...   0.502149   \n",
       "156868  blank       100            60-120   1.5           NaN  ...   0.013130   \n",
       "156869  blank       168           120-180   1.5           NaN  ...   0.059709   \n",
       "156870  blank       298           240-300   1.5           NaN  ...   0.189284   \n",
       "\n",
       "       extranuclear  intranuclear  pericellular perinuclear    random  \\\n",
       "663        0.934968  5.487039e-15  1.322831e-10    0.000015  0.967630   \n",
       "664        0.798077  2.422030e-14  2.009141e-09    0.000235  0.627178   \n",
       "665        0.999141  8.410337e-18  1.347031e-07    0.000001  0.035344   \n",
       "897        0.127212  2.169975e-11  1.990620e-15    0.000403  1.000000   \n",
       "898        0.000760  6.626342e-10  3.418462e-15    0.003140  1.000000   \n",
       "...             ...           ...           ...         ...       ...   \n",
       "156222     0.723309  1.660171e-07  1.175373e-04    0.996019  0.033108   \n",
       "156223     0.634688  1.423556e-07  4.383508e-05    0.488439  0.412596   \n",
       "156868     0.017682  1.378627e-05  2.662874e-08    0.974515  0.998928   \n",
       "156869     0.001133  3.874913e-04  1.750608e-06    0.153743  0.999459   \n",
       "156870     0.011436  1.868191e-04  7.062278e-06    0.877631  0.999703   \n",
       "\n",
       "       random_score  pattern_score  batch  extranuclear_no_random  \n",
       "663        0.392781       0.608507      0                   other  \n",
       "664        0.244180       0.757463      0                   other  \n",
       "665        0.089089       0.911159      0                   other  \n",
       "897        0.983680       0.016362      0                   other  \n",
       "898        0.945318       0.054801      0                   other  \n",
       "...             ...            ...    ...                     ...  \n",
       "156222     0.110164       0.890005      0                   other  \n",
       "156223     0.169994       0.829664      0                   other  \n",
       "156868     0.599384       0.400611      0                   other  \n",
       "156869     0.706572       0.294269      0                   other  \n",
       "156870     0.696556       0.304411      0                   other  \n",
       "\n",
       "[125852 rows x 27 columns]"
      ]
     },
     "execution_count": 31,
     "metadata": {},
     "output_type": "execute_result"
    }
   ],
   "source": [
    "adata_train_pattern.obs"
   ]
  },
  {
   "cell_type": "code",
   "execution_count": 32,
   "metadata": {},
   "outputs": [],
   "source": [
    " # create random forest classifier EXCLUDING random\n",
    "rf_classifier = RandomForestClassifier(n_estimators=150, random_state=seed, max_features=4, bootstrap=True, oob_score=False)\n",
    "rf_classifier.fit(adata_train_pattern.obsm[\"latent\"], adata_train_pattern.obs[\"extranuclear_no_random\"]) \n",
    "    \n",
    "#predict label\n",
    "val_pred = rf_classifier.predict(adata_val_pattern.obsm[\"latent\"])"
   ]
  },
  {
   "cell_type": "code",
   "execution_count": 35,
   "metadata": {},
   "outputs": [
    {
     "data": {
      "image/png": "[encoded data removed]",
      "text/plain": [
       "<Figure size 432x288 with 2 Axes>"
      ]
     },
     "metadata": {
      "needs_background": "light"
     },
     "output_type": "display_data"
    }
   ],
   "source": [
    "confusion_matrix = metrics.confusion_matrix(adata_val_pattern.obs[\"extranuclear_no_random\"], val_pred, labels = rf_classifier.classes_)\n",
    "cm_display = metrics.ConfusionMatrixDisplay(confusion_matrix = confusion_matrix, display_labels = rf_classifier.classes_) \n",
    "cm_display.plot()\n",
    "plt.show()"
   ]
  },
  {
   "cell_type": "markdown",
   "metadata": {},
   "source": [
    "# K - nearest neighbours"
   ]
  },
  {
   "cell_type": "markdown",
   "metadata": {},
   "source": [
    "Choice of k depends on the input data --> more outliers or noise performs better with a larger k (due to smoothing)\n",
    "\n",
    "Recommended to have an odd number of k to avoid ties in classification. Use cross-validation to choose optimal k for the dataset.\n",
    "\n",
    "Rule of thumb: choose a k close to the sqrt(datapoints), aka sqrt(176162)~419"
   ]
  },
  {
   "cell_type": "markdown",
   "metadata": {},
   "source": [
    "Hyperparameter grid choice. Rule of thumb is that the sqrt(N) will work, and to use odd numbers. Therefore use sqrt as a center and 5 values above and below it. Given that 469 is a relatively large number, will first explore a larger space (i.e. 50 interval in between)."
   ]
  },
  {
   "cell_type": "markdown",
   "metadata": {},
   "source": [
    "Based on [caching nearest neighbors - scikit-learn tutorial](https://scikit-learn.org/stable/auto_examples/neighbors/plot_caching_nearest_neighbors.html#sphx-glr-auto-examples-neighbors-plot-caching-nearest-neighbors-py) "
   ]
  },
  {
   "cell_type": "code",
   "execution_count": 10,
   "metadata": {},
   "outputs": [
    {
     "name": "stdout",
     "output_type": "stream",
     "text": [
      "Fitting 5 folds for each of 13 candidates, totalling 65 fits\n"
     ]
    },
    {
     "name": "stderr",
     "output_type": "stream",
     "text": [
      "/media/gambino/students_workdir/nynke/miniconda3/envs/blurry/lib/python3.9/site-packages/sklearn/pipeline.py:336: UserWarning: Persisting input arguments took 0.72s to run.\n",
      "If this happens often in your code, it can cause performance problems \n",
      "(results will be correct in all cases). \n",
      "The reason for this is probably some large input arguments for a wrapped\n",
      " function (e.g. large strings).\n",
      "THIS IS A JOBLIB ISSUE. If you can, kindly provide the joblib's team with an\n",
      " example so that they can fix the problem.\n",
      "  X, fitted_transformer = fit_transform_one_cached(\n"
     ]
    },
    {
     "name": "stdout",
     "output_type": "stream",
     "text": [
      "[CV 1/5] END ........classifier__n_neighbors=69;, score=0.924 total time= 3.4min\n"
     ]
    },
    {
     "name": "stderr",
     "output_type": "stream",
     "text": [
      "/media/gambino/students_workdir/nynke/miniconda3/envs/blurry/lib/python3.9/site-packages/sklearn/pipeline.py:336: UserWarning: Persisting input arguments took 0.71s to run.\n",
      "If this happens often in your code, it can cause performance problems \n",
      "(results will be correct in all cases). \n",
      "The reason for this is probably some large input arguments for a wrapped\n",
      " function (e.g. large strings).\n",
      "THIS IS A JOBLIB ISSUE. If you can, kindly provide the joblib's team with an\n",
      " example so that they can fix the problem.\n",
      "  X, fitted_transformer = fit_transform_one_cached(\n"
     ]
    },
    {
     "name": "stdout",
     "output_type": "stream",
     "text": [
      "[CV 2/5] END ........classifier__n_neighbors=69;, score=0.928 total time= 3.3min\n"
     ]
    },
    {
     "name": "stderr",
     "output_type": "stream",
     "text": [
      "/media/gambino/students_workdir/nynke/miniconda3/envs/blurry/lib/python3.9/site-packages/sklearn/pipeline.py:336: UserWarning: Persisting input arguments took 0.72s to run.\n",
      "If this happens often in your code, it can cause performance problems \n",
      "(results will be correct in all cases). \n",
      "The reason for this is probably some large input arguments for a wrapped\n",
      " function (e.g. large strings).\n",
      "THIS IS A JOBLIB ISSUE. If you can, kindly provide the joblib's team with an\n",
      " example so that they can fix the problem.\n",
      "  X, fitted_transformer = fit_transform_one_cached(\n"
     ]
    },
    {
     "name": "stdout",
     "output_type": "stream",
     "text": [
      "[CV 3/5] END ........classifier__n_neighbors=69;, score=0.922 total time= 3.3min\n"
     ]
    },
    {
     "name": "stderr",
     "output_type": "stream",
     "text": [
      "/media/gambino/students_workdir/nynke/miniconda3/envs/blurry/lib/python3.9/site-packages/sklearn/pipeline.py:336: UserWarning: Persisting input arguments took 0.71s to run.\n",
      "If this happens often in your code, it can cause performance problems \n",
      "(results will be correct in all cases). \n",
      "The reason for this is probably some large input arguments for a wrapped\n",
      " function (e.g. large strings).\n",
      "THIS IS A JOBLIB ISSUE. If you can, kindly provide the joblib's team with an\n",
      " example so that they can fix the problem.\n",
      "  X, fitted_transformer = fit_transform_one_cached(\n"
     ]
    },
    {
     "name": "stdout",
     "output_type": "stream",
     "text": [
      "[CV 4/5] END ........classifier__n_neighbors=69;, score=0.921 total time= 3.3min\n"
     ]
    },
    {
     "name": "stderr",
     "output_type": "stream",
     "text": [
      "/media/gambino/students_workdir/nynke/miniconda3/envs/blurry/lib/python3.9/site-packages/sklearn/pipeline.py:336: UserWarning: Persisting input arguments took 0.71s to run.\n",
      "If this happens often in your code, it can cause performance problems \n",
      "(results will be correct in all cases). \n",
      "The reason for this is probably some large input arguments for a wrapped\n",
      " function (e.g. large strings).\n",
      "THIS IS A JOBLIB ISSUE. If you can, kindly provide the joblib's team with an\n",
      " example so that they can fix the problem.\n",
      "  X, fitted_transformer = fit_transform_one_cached(\n"
     ]
    },
    {
     "name": "stdout",
     "output_type": "stream",
     "text": [
      "[CV 5/5] END ........classifier__n_neighbors=69;, score=0.927 total time= 3.3min\n",
      "[CV 1/5] END .......classifier__n_neighbors=119;, score=0.924 total time=  39.5s\n",
      "[CV 2/5] END .......classifier__n_neighbors=119;, score=0.927 total time=  38.6s\n",
      "[CV 3/5] END .......classifier__n_neighbors=119;, score=0.922 total time=  38.9s\n",
      "[CV 4/5] END .......classifier__n_neighbors=119;, score=0.920 total time=  39.4s\n",
      "[CV 5/5] END .......classifier__n_neighbors=119;, score=0.927 total time=  38.9s\n",
      "[CV 1/5] END .......classifier__n_neighbors=169;, score=0.924 total time=  39.5s\n",
      "[CV 2/5] END .......classifier__n_neighbors=169;, score=0.927 total time=  38.7s\n",
      "[CV 3/5] END .......classifier__n_neighbors=169;, score=0.921 total time=  38.9s\n",
      "[CV 4/5] END .......classifier__n_neighbors=169;, score=0.920 total time=  39.5s\n",
      "[CV 5/5] END .......classifier__n_neighbors=169;, score=0.927 total time=  39.0s\n",
      "[CV 1/5] END .......classifier__n_neighbors=219;, score=0.924 total time=  39.5s\n",
      "[CV 2/5] END .......classifier__n_neighbors=219;, score=0.927 total time=  38.6s\n",
      "[CV 3/5] END .......classifier__n_neighbors=219;, score=0.921 total time=  39.0s\n",
      "[CV 4/5] END .......classifier__n_neighbors=219;, score=0.920 total time=  39.4s\n",
      "[CV 5/5] END .......classifier__n_neighbors=219;, score=0.927 total time=  39.0s\n",
      "[CV 1/5] END .......classifier__n_neighbors=269;, score=0.923 total time=  39.5s\n",
      "[CV 2/5] END .......classifier__n_neighbors=269;, score=0.927 total time=  38.7s\n",
      "[CV 3/5] END .......classifier__n_neighbors=269;, score=0.921 total time=  38.9s\n",
      "[CV 4/5] END .......classifier__n_neighbors=269;, score=0.920 total time=  39.5s\n",
      "[CV 5/5] END .......classifier__n_neighbors=269;, score=0.927 total time=  38.9s\n",
      "[CV 1/5] END .......classifier__n_neighbors=319;, score=0.923 total time=  39.6s\n",
      "[CV 2/5] END .......classifier__n_neighbors=319;, score=0.927 total time=  38.7s\n",
      "[CV 3/5] END .......classifier__n_neighbors=319;, score=0.921 total time=  39.0s\n",
      "[CV 4/5] END .......classifier__n_neighbors=319;, score=0.920 total time=  39.5s\n",
      "[CV 5/5] END .......classifier__n_neighbors=319;, score=0.927 total time=  39.0s\n",
      "[CV 1/5] END .......classifier__n_neighbors=369;, score=0.923 total time=  39.6s\n",
      "[CV 2/5] END .......classifier__n_neighbors=369;, score=0.927 total time=  38.7s\n",
      "[CV 3/5] END .......classifier__n_neighbors=369;, score=0.921 total time=  39.0s\n",
      "[CV 4/5] END .......classifier__n_neighbors=369;, score=0.920 total time=  39.5s\n",
      "[CV 5/5] END .......classifier__n_neighbors=369;, score=0.927 total time=  39.0s\n",
      "[CV 1/5] END .......classifier__n_neighbors=419;, score=0.923 total time=  39.6s\n",
      "[CV 2/5] END .......classifier__n_neighbors=419;, score=0.926 total time=  38.7s\n",
      "[CV 3/5] END .......classifier__n_neighbors=419;, score=0.921 total time=  39.0s\n",
      "[CV 4/5] END .......classifier__n_neighbors=419;, score=0.920 total time=  39.5s\n",
      "[CV 5/5] END .......classifier__n_neighbors=419;, score=0.927 total time=  39.0s\n",
      "[CV 1/5] END .......classifier__n_neighbors=469;, score=0.923 total time=  39.6s\n",
      "[CV 2/5] END .......classifier__n_neighbors=469;, score=0.926 total time=  38.7s\n",
      "[CV 3/5] END .......classifier__n_neighbors=469;, score=0.921 total time=  39.0s\n",
      "[CV 4/5] END .......classifier__n_neighbors=469;, score=0.919 total time=  39.5s\n",
      "[CV 5/5] END .......classifier__n_neighbors=469;, score=0.927 total time=  39.0s\n",
      "[CV 1/5] END .......classifier__n_neighbors=519;, score=0.922 total time=  39.6s\n",
      "[CV 2/5] END .......classifier__n_neighbors=519;, score=0.926 total time=  38.7s\n",
      "[CV 3/5] END .......classifier__n_neighbors=519;, score=0.921 total time=  39.0s\n",
      "[CV 4/5] END .......classifier__n_neighbors=519;, score=0.919 total time=  39.5s\n",
      "[CV 5/5] END .......classifier__n_neighbors=519;, score=0.927 total time=  39.1s\n",
      "[CV 1/5] END .......classifier__n_neighbors=569;, score=0.922 total time=  39.6s\n",
      "[CV 2/5] END .......classifier__n_neighbors=569;, score=0.926 total time=  38.8s\n",
      "[CV 3/5] END .......classifier__n_neighbors=569;, score=0.920 total time=  39.1s\n",
      "[CV 4/5] END .......classifier__n_neighbors=569;, score=0.919 total time=  39.6s\n",
      "[CV 5/5] END .......classifier__n_neighbors=569;, score=0.927 total time=  39.1s\n",
      "[CV 1/5] END .......classifier__n_neighbors=619;, score=0.922 total time=  39.7s\n",
      "[CV 2/5] END .......classifier__n_neighbors=619;, score=0.926 total time=  38.8s\n",
      "[CV 3/5] END .......classifier__n_neighbors=619;, score=0.920 total time=  39.1s\n",
      "[CV 4/5] END .......classifier__n_neighbors=619;, score=0.919 total time=  39.6s\n",
      "[CV 5/5] END .......classifier__n_neighbors=619;, score=0.927 total time=  39.2s\n",
      "[CV 1/5] END .......classifier__n_neighbors=669;, score=0.922 total time=  39.7s\n",
      "[CV 2/5] END .......classifier__n_neighbors=669;, score=0.926 total time=  38.8s\n",
      "[CV 3/5] END .......classifier__n_neighbors=669;, score=0.921 total time=  39.1s\n",
      "[CV 4/5] END .......classifier__n_neighbors=669;, score=0.919 total time=  39.6s\n",
      "[CV 5/5] END .......classifier__n_neighbors=669;, score=0.926 total time=  39.2s\n"
     ]
    },
    {
     "name": "stderr",
     "output_type": "stream",
     "text": [
      "/media/gambino/students_workdir/nynke/miniconda3/envs/blurry/lib/python3.9/site-packages/sklearn/pipeline.py:336: UserWarning: Persisting input arguments took 0.90s to run.\n",
      "If this happens often in your code, it can cause performance problems \n",
      "(results will be correct in all cases). \n",
      "The reason for this is probably some large input arguments for a wrapped\n",
      " function (e.g. large strings).\n",
      "THIS IS A JOBLIB ISSUE. If you can, kindly provide the joblib's team with an\n",
      " example so that they can fix the problem.\n",
      "  X, fitted_transformer = fit_transform_one_cached(\n"
     ]
    },
    {
     "data": {
      "image/png": "[encoded data removed]",
      "text/plain": [
       "<Figure size 576x288 with 2 Axes>"
      ]
     },
     "metadata": {
      "needs_background": "light"
     },
     "output_type": "display_data"
    }
   ],
   "source": [
    "# Author: Tom Dupre la Tour\n",
    "#\n",
    "# License: BSD 3 clause\n",
    "from tempfile import TemporaryDirectory\n",
    "\n",
    "import matplotlib.pyplot as plt\n",
    "\n",
    "#from sklearn.datasets import load_digits\n",
    "from sklearn.model_selection import GridSearchCV\n",
    "from sklearn.neighbors import KNeighborsClassifier, KNeighborsTransformer\n",
    "from sklearn.pipeline import Pipeline\n",
    "\n",
    "#X, y = load_digits(return_X_y=True)\n",
    "n_neighbors_list = [69,119,169,219,269,319,369,419,469,519,569,619,669]\n",
    "\n",
    "# The transformer computes the nearest neighbors graph using the maximum number\n",
    "# of neighbors necessary in the grid search. The classifier model filters the\n",
    "# nearest neighbors graph as required by its own n_neighbors parameter.\n",
    "graph_model = KNeighborsTransformer(n_neighbors=max(n_neighbors_list), mode=\"distance\")\n",
    "classifier_model = KNeighborsClassifier(metric=\"precomputed\")\n",
    "\n",
    "# Note that we give `memory` a directory to cache the graph computation\n",
    "# that will be used several times when tuning the hyperparameters of the\n",
    "# classifier.\n",
    "with TemporaryDirectory(prefix=\"sklearn_graph_cache_\") as tmpdir:\n",
    "    full_model = Pipeline(\n",
    "        steps=[(\"graph\", graph_model), (\"classifier\", classifier_model)], memory=tmpdir\n",
    "    )\n",
    "\n",
    "    param_grid = {\"classifier__n_neighbors\": n_neighbors_list}\n",
    "    grid_model = GridSearchCV(full_model, param_grid, verbose = 3)\n",
    "    grid_model.fit(adata_train.obsm[\"latent\"], adata_train.obs[\"random_or_pattern\"])\n",
    "\n",
    "# Plot the results of the grid search.\n",
    "fig, axes = plt.subplots(1, 2, figsize=(8, 4))\n",
    "axes[0].errorbar(\n",
    "    x=n_neighbors_list,\n",
    "    y=grid_model.cv_results_[\"mean_test_score\"],\n",
    "    yerr=grid_model.cv_results_[\"std_test_score\"],\n",
    ")\n",
    "axes[0].set(xlabel=\"n_neighbors\", title=\"Classification accuracy\")\n",
    "axes[1].errorbar(\n",
    "    x=n_neighbors_list,\n",
    "    y=grid_model.cv_results_[\"mean_fit_time\"],\n",
    "    yerr=grid_model.cv_results_[\"std_fit_time\"],\n",
    "    color=\"r\",\n",
    ")\n",
    "axes[1].set(xlabel=\"n_neighbors\", title=\"Fit time (with caching)\")\n",
    "fig.tight_layout()\n",
    "plt.show()"
   ]
  },
  {
   "cell_type": "code",
   "execution_count": 35,
   "metadata": {},
   "outputs": [
    {
     "data": {
      "text/plain": [
       "{'mean_fit_time': array([160.32603569,   1.36809492,   1.39574623,   1.36634436,\n",
       "          1.364711  ,   1.36581612,   1.37345982,   1.36978893,\n",
       "          1.366711  ,   1.3668128 ,   1.36542826,   1.36534615,\n",
       "          1.36573067]),\n",
       " 'std_fit_time': array([0.85542984, 0.00948896, 0.01288597, 0.01100495, 0.01349895,\n",
       "        0.01014704, 0.00980585, 0.00822732, 0.01277583, 0.00950512,\n",
       "        0.01184004, 0.00794088, 0.01065287]),\n",
       " 'mean_score_time': array([39.81324239, 37.69407601, 37.71695495, 37.73753662, 37.74229832,\n",
       "        37.76169548, 37.77588997, 37.80055475, 37.80514007, 37.82576494,\n",
       "        37.88281603, 37.9218977 , 37.94148393]),\n",
       " 'std_score_time': array([0.66837186, 0.33251339, 0.33180792, 0.33658414, 0.33296387,\n",
       "        0.33259267, 0.32914207, 0.33045184, 0.33654874, 0.33934595,\n",
       "        0.31766483, 0.34116603, 0.33493058]),\n",
       " 'param_classifier__n_neighbors': masked_array(data=[69, 119, 169, 219, 269, 319, 369, 419, 469, 519, 569,\n",
       "                    619, 669],\n",
       "              mask=[False, False, False, False, False, False, False, False,\n",
       "                    False, False, False, False, False],\n",
       "        fill_value='?',\n",
       "             dtype=object),\n",
       " 'params': [{'classifier__n_neighbors': 69},\n",
       "  {'classifier__n_neighbors': 119},\n",
       "  {'classifier__n_neighbors': 169},\n",
       "  {'classifier__n_neighbors': 219},\n",
       "  {'classifier__n_neighbors': 269},\n",
       "  {'classifier__n_neighbors': 319},\n",
       "  {'classifier__n_neighbors': 369},\n",
       "  {'classifier__n_neighbors': 419},\n",
       "  {'classifier__n_neighbors': 469},\n",
       "  {'classifier__n_neighbors': 519},\n",
       "  {'classifier__n_neighbors': 569},\n",
       "  {'classifier__n_neighbors': 619},\n",
       "  {'classifier__n_neighbors': 669}],\n",
       " 'split0_test_score': array([0.9238498 , 0.92365112, 0.92370789, 0.92362274, 0.92305509,\n",
       "        0.92311186, 0.92285641, 0.92251582, 0.92257259, 0.92237391,\n",
       "        0.92231715, 0.92203332, 0.92220362]),\n",
       " 'split1_test_score': array([0.92762467, 0.92748276, 0.92736923, 0.92705702, 0.92702864,\n",
       "        0.92691511, 0.92668805, 0.92646099, 0.92646099, 0.92620555,\n",
       "        0.92646099, 0.92614878, 0.9259501 ]),\n",
       " 'split2_test_score': array([0.92171889, 0.92180404, 0.92140668, 0.92132153, 0.92146344,\n",
       "        0.92126476, 0.92095254, 0.92134991, 0.92112284, 0.92072548,\n",
       "        0.92044164, 0.92047003, 0.92066871]),\n",
       " 'split3_test_score': array([0.92058356, 0.92007266, 0.91976045, 0.91998751, 0.92018619,\n",
       "        0.92001589, 0.91961853, 0.91956176, 0.91924955, 0.91905086,\n",
       "        0.91922116, 0.91890895, 0.91851158]),\n",
       " 'split4_test_score': array([0.92725363, 0.9273104 , 0.92716848, 0.92677112, 0.92722525,\n",
       "        0.92682788, 0.92668597, 0.92671435, 0.92677112, 0.92668597,\n",
       "        0.92665758, 0.92654405, 0.92617507]),\n",
       " 'mean_test_score': array([0.92420611, 0.9240642 , 0.92388254, 0.92375198, 0.92379172,\n",
       "        0.9236271 , 0.9233603 , 0.92332057, 0.92323542, 0.92300835,\n",
       "        0.9230197 , 0.92282103, 0.92270182]),\n",
       " 'std_test_score': array([0.00284289, 0.00294739, 0.00303666, 0.00283314, 0.00287159,\n",
       "        0.00282641, 0.00290469, 0.00282983, 0.00295618, 0.00300076,\n",
       "        0.00305436, 0.00304588, 0.00298512]),\n",
       " 'rank_test_score': array([ 1,  2,  3,  5,  4,  6,  7,  8,  9, 11, 10, 12, 13], dtype=int32)}"
      ]
     },
     "execution_count": 35,
     "metadata": {},
     "output_type": "execute_result"
    }
   ],
   "source": [
    "knn_nonnormalized = grid_model.cv_results_\n",
    "knn_nonnormalized"
   ]
  },
  {
   "cell_type": "markdown",
   "metadata": {},
   "source": [
    "### Save and load the KNN object \n",
    "So that I don't have to rerun it later, and can just get the object to make vizualiations / multiplots. "
   ]
  },
  {
   "cell_type": "code",
   "execution_count": 61,
   "metadata": {},
   "outputs": [],
   "source": [
    "np.savez('knn_nonnormalized.npz', **knn_nonnormalized)"
   ]
  },
  {
   "cell_type": "code",
   "execution_count": 69,
   "metadata": {},
   "outputs": [],
   "source": [
    "load_dict = dict(np.load('knn_nonnormalized.npz', allow_pickle=True))"
   ]
  },
  {
   "cell_type": "code",
   "execution_count": 68,
   "metadata": {},
   "outputs": [
    {
     "data": {
      "text/plain": [
       "Text(0.5, 1.0, 'Grid Search Results Non-Normalized Latent Space')"
      ]
     },
     "execution_count": 68,
     "metadata": {},
     "output_type": "execute_result"
    },
    {
     "data": {
      "image/png": "[encoded data removed]",
      "text/plain": [
       "<Figure size 432x288 with 1 Axes>"
      ]
     },
     "metadata": {},
     "output_type": "display_data"
    }
   ],
   "source": [
    "# Code to run the plot from the saved object. The x axis is a bit difficult to get cause it's a masked array, that's why it looks weird\n",
    "fig, ax = plt.subplots()\n",
    "ax.errorbar(load_dict.get(\"param_classifier__n_neighbors\").compressed(), load_dict[\"mean_test_score\"], yerr=load_dict['std_test_score'], fmt='-o')\n",
    "ax.set_xlabel(\"Number of Neighbors\")\n",
    "ax.set_ylabel(\"Mean Test Score\")\n",
    "ax.set_title(\"Grid Search Results Non-Normalized Latent Space\")"
   ]
  },
  {
   "cell_type": "code",
   "execution_count": 22,
   "metadata": {},
   "outputs": [
    {
     "data": {
      "text/plain": [
       "Text(0.5, 1.0, 'Grid Search Results')"
      ]
     },
     "execution_count": 22,
     "metadata": {},
     "output_type": "execute_result"
    },
    {
     "data": {
      "image/png": "[encoded data removed]",
      "text/plain": [
       "<Figure size 432x288 with 1 Axes>"
      ]
     },
     "metadata": {},
     "output_type": "display_data"
    }
   ],
   "source": [
    "fig, ax = plt.subplots()\n",
    "ax.errorbar(n_neighbors_list, grid_model.cv_results_[\"mean_test_score\"], yerr=grid_model.cv_results_['std_test_score'], fmt='-o')\n",
    "ax.set_xlabel(\"Number of Neighbors\")\n",
    "ax.set_ylabel(\"Mean Test Score\")\n",
    "ax.set_title(\"Grid Search Results Non-Normalized Latent Space\")"
   ]
  },
  {
   "cell_type": "code",
   "execution_count": 16,
   "metadata": {},
   "outputs": [
    {
     "data": {
      "text/plain": [
       "NormaltestResult(statistic=array([ 2969.539  ,  1722.7858 , 17725.268  , 10980.781  ,   451.94302,\n",
       "        6556.831  ,  4315.3906 ,  7899.7725 , 15158.62   , 10586.165  ,\n",
       "       28376.576  ,  2222.5215 , 15285.311  , 25839.836  , 13798.633  ],\n",
       "      dtype=float32), pvalue=array([0.00000000e+00, 0.00000000e+00, 0.00000000e+00, 0.00000000e+00,\n",
       "       7.27477122e-99, 0.00000000e+00, 0.00000000e+00, 0.00000000e+00,\n",
       "       0.00000000e+00, 0.00000000e+00, 0.00000000e+00, 0.00000000e+00,\n",
       "       0.00000000e+00, 0.00000000e+00, 0.00000000e+00]))"
      ]
     },
     "execution_count": 16,
     "metadata": {},
     "output_type": "execute_result"
    }
   ],
   "source": [
    "from scipy import stats\n",
    "stats.normaltest(adata.obsm['latent'], axis=0)"
   ]
  },
  {
   "cell_type": "markdown",
   "metadata": {},
   "source": [
    "normalizing the dimensions and see if that influences the accuracy. Given that none of the latent dimensions are normally distributed, nor are they multivariate normally distributed, we will normalize the latent dimensions using min-max normalization rather than standardization (which assumes the data to be normally distributed)"
   ]
  },
  {
   "cell_type": "code",
   "execution_count": 10,
   "metadata": {},
   "outputs": [
    {
     "data": {
      "text/plain": [
       "array([[0.5566338 , 0.40487152, 0.33501515, ..., 0.7680447 , 0.387528  ,\n",
       "        0.34089357],\n",
       "       [0.5494416 , 0.41128144, 0.3718798 , ..., 0.7675096 , 0.41180426,\n",
       "        0.30852818],\n",
       "       [0.5012134 , 0.46302605, 0.28606874, ..., 0.7625008 , 0.41949895,\n",
       "        0.2976331 ],\n",
       "       ...,\n",
       "       [0.763593  , 0.4031423 , 0.22917865, ..., 0.8063376 , 0.44509855,\n",
       "        0.42560953],\n",
       "       [0.7586869 , 0.39732277, 0.21218143, ..., 0.8049225 , 0.41308737,\n",
       "        0.3940165 ],\n",
       "       [0.7398609 , 0.41013592, 0.23264045, ..., 0.8226123 , 0.42617282,\n",
       "        0.41855997]], dtype=float32)"
      ]
     },
     "execution_count": 10,
     "metadata": {},
     "output_type": "execute_result"
    }
   ],
   "source": [
    "adata_train2 = adata_train.copy()\n"
   ]
  },
  {
   "cell_type": "code",
   "execution_count": 11,
   "metadata": {},
   "outputs": [],
   "source": [
    "adata_train_labels = adata_train.copy()\n",
    "scaler = MinMaxScaler()\n",
    "adata_train_labels.obsm['latent']=scaler.fit_transform(adata_train_labels.obsm['latent'])\n",
    "adata_train_labels.obsm['latent']\n",
    "pattern_mapping = {'pattern': 1, 'random': 0}\n",
    "adata_train_labels.obs['random_or_pattern'].replace(pattern_mapping, inplace=True)"
   ]
  },
  {
   "cell_type": "code",
   "execution_count": 12,
   "metadata": {},
   "outputs": [
    {
     "name": "stdout",
     "output_type": "stream",
     "text": [
      "Fitting 5 folds for each of 10 candidates, totalling 50 fits\n",
      "[CV 1/5] END ........classifier__n_neighbors=59;, score=0.946 total time= 4.0min\n"
     ]
    },
    {
     "name": "stderr",
     "output_type": "stream",
     "text": [
      "/media/gambino/students_workdir/nynke/miniconda3/envs/blurry/lib/python3.9/site-packages/sklearn/pipeline.py:336: UserWarning: Persisting input arguments took 0.50s to run.\n",
      "If this happens often in your code, it can cause performance problems \n",
      "(results will be correct in all cases). \n",
      "The reason for this is probably some large input arguments for a wrapped\n",
      " function (e.g. large strings).\n",
      "THIS IS A JOBLIB ISSUE. If you can, kindly provide the joblib's team with an\n",
      " example so that they can fix the problem.\n",
      "  X, fitted_transformer = fit_transform_one_cached(\n"
     ]
    },
    {
     "name": "stdout",
     "output_type": "stream",
     "text": [
      "[CV 2/5] END ........classifier__n_neighbors=59;, score=0.948 total time= 4.1min\n",
      "[CV 3/5] END ........classifier__n_neighbors=59;, score=0.945 total time= 4.1min\n",
      "[CV 4/5] END ........classifier__n_neighbors=59;, score=0.945 total time= 4.3min\n",
      "[CV 5/5] END ........classifier__n_neighbors=59;, score=0.949 total time= 4.2min\n",
      "[CV 1/5] END .......classifier__n_neighbors=109;, score=0.946 total time=  48.0s\n",
      "[CV 2/5] END .......classifier__n_neighbors=109;, score=0.949 total time=  48.3s\n",
      "[CV 3/5] END .......classifier__n_neighbors=109;, score=0.945 total time=  47.3s\n",
      "[CV 4/5] END .......classifier__n_neighbors=109;, score=0.944 total time=  49.0s\n",
      "[CV 5/5] END .......classifier__n_neighbors=109;, score=0.949 total time=  49.0s\n",
      "[CV 1/5] END .......classifier__n_neighbors=159;, score=0.946 total time=  49.1s\n",
      "[CV 2/5] END .......classifier__n_neighbors=159;, score=0.949 total time=  47.8s\n",
      "[CV 3/5] END .......classifier__n_neighbors=159;, score=0.945 total time=  47.1s\n",
      "[CV 4/5] END .......classifier__n_neighbors=159;, score=0.944 total time=  48.5s\n",
      "[CV 5/5] END .......classifier__n_neighbors=159;, score=0.949 total time=  48.4s\n",
      "[CV 1/5] END .......classifier__n_neighbors=199;, score=0.946 total time=  47.9s\n",
      "[CV 2/5] END .......classifier__n_neighbors=199;, score=0.949 total time=  47.8s\n",
      "[CV 3/5] END .......classifier__n_neighbors=199;, score=0.945 total time=  47.2s\n",
      "[CV 4/5] END .......classifier__n_neighbors=199;, score=0.944 total time=  48.5s\n",
      "[CV 5/5] END .......classifier__n_neighbors=199;, score=0.948 total time=  48.4s\n",
      "[CV 1/5] END .......classifier__n_neighbors=259;, score=0.946 total time=  47.8s\n",
      "[CV 2/5] END .......classifier__n_neighbors=259;, score=0.949 total time=  47.8s\n",
      "[CV 3/5] END .......classifier__n_neighbors=259;, score=0.945 total time=  47.2s\n",
      "[CV 4/5] END .......classifier__n_neighbors=259;, score=0.944 total time=  48.5s\n",
      "[CV 5/5] END .......classifier__n_neighbors=259;, score=0.948 total time=  48.4s\n",
      "[CV 1/5] END .......classifier__n_neighbors=299;, score=0.946 total time=  47.9s\n",
      "[CV 2/5] END .......classifier__n_neighbors=299;, score=0.949 total time=  47.8s\n",
      "[CV 3/5] END .......classifier__n_neighbors=299;, score=0.945 total time=  47.1s\n",
      "[CV 4/5] END .......classifier__n_neighbors=299;, score=0.944 total time=  48.5s\n",
      "[CV 5/5] END .......classifier__n_neighbors=299;, score=0.948 total time=  48.4s\n",
      "[CV 1/5] END .......classifier__n_neighbors=359;, score=0.945 total time=  47.9s\n",
      "[CV 2/5] END .......classifier__n_neighbors=359;, score=0.949 total time=  47.8s\n",
      "[CV 3/5] END .......classifier__n_neighbors=359;, score=0.945 total time=  47.1s\n",
      "[CV 4/5] END .......classifier__n_neighbors=359;, score=0.944 total time=  48.5s\n",
      "[CV 5/5] END .......classifier__n_neighbors=359;, score=0.948 total time=  48.4s\n",
      "[CV 1/5] END .......classifier__n_neighbors=399;, score=0.945 total time=  47.9s\n",
      "[CV 2/5] END .......classifier__n_neighbors=399;, score=0.949 total time=  47.9s\n",
      "[CV 3/5] END .......classifier__n_neighbors=399;, score=0.945 total time=  47.2s\n",
      "[CV 4/5] END .......classifier__n_neighbors=399;, score=0.944 total time=  48.6s\n",
      "[CV 5/5] END .......classifier__n_neighbors=399;, score=0.948 total time=  48.5s\n",
      "[CV 1/5] END .......classifier__n_neighbors=459;, score=0.945 total time=  48.0s\n",
      "[CV 2/5] END .......classifier__n_neighbors=459;, score=0.948 total time=  47.9s\n",
      "[CV 3/5] END .......classifier__n_neighbors=459;, score=0.945 total time=  47.2s\n",
      "[CV 4/5] END .......classifier__n_neighbors=459;, score=0.944 total time=  48.6s\n",
      "[CV 5/5] END .......classifier__n_neighbors=459;, score=0.948 total time=  49.8s\n",
      "[CV 1/5] END .......classifier__n_neighbors=599;, score=0.945 total time=  48.0s\n",
      "[CV 2/5] END .......classifier__n_neighbors=599;, score=0.948 total time=  47.9s\n",
      "[CV 3/5] END .......classifier__n_neighbors=599;, score=0.945 total time=  47.3s\n",
      "[CV 4/5] END .......classifier__n_neighbors=599;, score=0.944 total time=  49.8s\n",
      "[CV 5/5] END .......classifier__n_neighbors=599;, score=0.948 total time=  50.4s\n"
     ]
    },
    {
     "name": "stderr",
     "output_type": "stream",
     "text": [
      "/media/gambino/students_workdir/nynke/miniconda3/envs/blurry/lib/python3.9/site-packages/sklearn/pipeline.py:336: UserWarning: Persisting input arguments took 0.62s to run.\n",
      "If this happens often in your code, it can cause performance problems \n",
      "(results will be correct in all cases). \n",
      "The reason for this is probably some large input arguments for a wrapped\n",
      " function (e.g. large strings).\n",
      "THIS IS A JOBLIB ISSUE. If you can, kindly provide the joblib's team with an\n",
      " example so that they can fix the problem.\n",
      "  X, fitted_transformer = fit_transform_one_cached(\n"
     ]
    },
    {
     "data": {
      "image/png": "[encoded data removed]",
      "text/plain": [
       "<Figure size 576x288 with 2 Axes>"
      ]
     },
     "metadata": {
      "needs_background": "light"
     },
     "output_type": "display_data"
    }
   ],
   "source": [
    "# Author: Tom Dupre la Tour\n",
    "#\n",
    "# License: BSD 3 clause\n",
    "from tempfile import TemporaryDirectory\n",
    "\n",
    "import matplotlib.pyplot as plt\n",
    "\n",
    "#from sklearn.datasets import load_digits\n",
    "from sklearn.model_selection import GridSearchCV\n",
    "from sklearn.neighbors import KNeighborsClassifier, KNeighborsTransformer\n",
    "from sklearn.pipeline import Pipeline\n",
    "\n",
    "latent = adata_train_labels.obsm[\"latent\"]\n",
    "labels = adata_train_labels.obs[\"random_or_pattern\"]\n",
    "n_neighbors_list = [59,109,159,199,259,299,359,399,459,599]\n",
    "\n",
    "# The transformer computes the nearest neighbors graph using the maximum number\n",
    "# of neighbors necessary in the grid search. The classifier model filters the\n",
    "# nearest neighbors graph as required by its own n_neighbors parameter.\n",
    "graph_model = KNeighborsTransformer(n_neighbors=max(n_neighbors_list), mode=\"distance\")\n",
    "classifier_model = KNeighborsClassifier(metric=\"precomputed\")\n",
    "\n",
    "# Note that we give `memory` a directory to cache the graph computation\n",
    "# that will be used several times when tuning the hyperparameters of the\n",
    "# classifier.\n",
    "with TemporaryDirectory(prefix=\"sklearn_graph_cache_\") as tmpdir:\n",
    "    full_model = Pipeline(\n",
    "        steps=[(\"graph\", graph_model), (\"classifier\", classifier_model)], memory=tmpdir\n",
    "    )\n",
    "\n",
    "    param_grid = {\"classifier__n_neighbors\": n_neighbors_list}\n",
    "    grid_model = GridSearchCV(full_model, param_grid, verbose = 3, scoring='f1', error_score='raise')\n",
    "    grid_model.fit(latent, labels)\n",
    "\n",
    "# Plot the results of the grid search.\n",
    "fig, axes = plt.subplots(1, 2, figsize=(8, 4))\n",
    "axes[0].errorbar(\n",
    "    x=n_neighbors_list,\n",
    "    y=grid_model.cv_results_[\"mean_test_score\"],\n",
    "    yerr=grid_model.cv_results_[\"std_test_score\"],\n",
    ")\n",
    "axes[0].set(xlabel=\"n_neighbors\", title=\"Classification accuracy\")\n",
    "axes[1].errorbar(\n",
    "    x=n_neighbors_list,\n",
    "    y=grid_model.cv_results_[\"mean_fit_time\"],\n",
    "    yerr=grid_model.cv_results_[\"std_fit_time\"],\n",
    "    color=\"r\",\n",
    ")\n",
    "axes[1].set(xlabel=\"n_neighbors\", title=\"Fit time (with caching)\")\n",
    "fig.tight_layout()\n",
    "plt.show()"
   ]
  },
  {
   "cell_type": "code",
   "execution_count": 15,
   "metadata": {},
   "outputs": [
    {
     "name": "stdout",
     "output_type": "stream",
     "text": [
      "{'classifier__n_neighbors': 109}\n"
     ]
    },
    {
     "data": {
      "text/plain": [
       "0.9467942692757632"
      ]
     },
     "execution_count": 15,
     "metadata": {},
     "output_type": "execute_result"
    }
   ],
   "source": [
    "print(grid_model.best_params_)\n",
    "grid_model.best_score_"
   ]
  },
  {
   "cell_type": "markdown",
   "metadata": {},
   "source": [
    "## Multi-class KNN"
   ]
  },
  {
   "cell_type": "markdown",
   "metadata": {},
   "source": [
    "Hyperparameter grid around sqrt(157654)~355"
   ]
  },
  {
   "cell_type": "code",
   "execution_count": 21,
   "metadata": {},
   "outputs": [],
   "source": [
    "adata_train_pattern = adata_train.copy()\n",
    "adata_train_pattern = adata_train_pattern[adata_train_pattern.obs['pattern']!='random']\n",
    "adata_val_pattern = adata_val.copy()\n",
    "adata_val_pattern = adata_val_pattern[adata_val_pattern.obs['pattern']!='random']\n",
    "#pattern_mapping = {'pattern': 1, 'random': 0}\n",
    "#adata_train_labels.obs['random_or_pattern'].replace(pattern_mapping, inplace=True)"
   ]
  },
  {
   "cell_type": "code",
   "execution_count": 22,
   "metadata": {},
   "outputs": [
    {
     "data": {
      "text/html": [
       "<div>\n",
       "<style scoped>\n",
       "    .dataframe tbody tr th:only-of-type {\n",
       "        vertical-align: middle;\n",
       "    }\n",
       "\n",
       "    .dataframe tbody tr th {\n",
       "        vertical-align: top;\n",
       "    }\n",
       "\n",
       "    .dataframe thead th {\n",
       "        text-align: right;\n",
       "    }\n",
       "</style>\n",
       "<table border=\"1\" class=\"dataframe\">\n",
       "  <thead>\n",
       "    <tr style=\"text-align: right;\">\n",
       "      <th></th>\n",
       "      <th>pattern</th>\n",
       "      <th>random_or_pattern</th>\n",
       "      <th>n_spots</th>\n",
       "      <th>n_spots_interval</th>\n",
       "      <th>cell_id</th>\n",
       "      <th>genes</th>\n",
       "      <th>rotation</th>\n",
       "      <th>rotation_interval</th>\n",
       "      <th>blur</th>\n",
       "      <th>blur_interval</th>\n",
       "      <th>...</th>\n",
       "      <th>pattern_classified</th>\n",
       "      <th>cell-edge</th>\n",
       "      <th>extranuclear</th>\n",
       "      <th>intranuclear</th>\n",
       "      <th>pericellular</th>\n",
       "      <th>perinuclear</th>\n",
       "      <th>random</th>\n",
       "      <th>random_score</th>\n",
       "      <th>pattern_score</th>\n",
       "      <th>batch</th>\n",
       "    </tr>\n",
       "  </thead>\n",
       "  <tbody>\n",
       "    <tr>\n",
       "      <th>663</th>\n",
       "      <td>cell-edge</td>\n",
       "      <td>pattern</td>\n",
       "      <td>81</td>\n",
       "      <td>90-100</td>\n",
       "      <td>27</td>\n",
       "      <td>blank</td>\n",
       "      <td>307</td>\n",
       "      <td>300+</td>\n",
       "      <td>1.5</td>\n",
       "      <td>NaN</td>\n",
       "      <td>...</td>\n",
       "      <td>cell-edge</td>\n",
       "      <td>0.992096</td>\n",
       "      <td>0.934968</td>\n",
       "      <td>5.487039e-15</td>\n",
       "      <td>1.322831e-10</td>\n",
       "      <td>0.000015</td>\n",
       "      <td>0.967630</td>\n",
       "      <td>0.392781</td>\n",
       "      <td>0.608507</td>\n",
       "      <td>0</td>\n",
       "    </tr>\n",
       "    <tr>\n",
       "      <th>664</th>\n",
       "      <td>cell-edge</td>\n",
       "      <td>pattern</td>\n",
       "      <td>81</td>\n",
       "      <td>90-100</td>\n",
       "      <td>27</td>\n",
       "      <td>blank</td>\n",
       "      <td>45</td>\n",
       "      <td>0-60</td>\n",
       "      <td>1.5</td>\n",
       "      <td>NaN</td>\n",
       "      <td>...</td>\n",
       "      <td>extranuclear</td>\n",
       "      <td>0.754152</td>\n",
       "      <td>0.798077</td>\n",
       "      <td>2.422030e-14</td>\n",
       "      <td>2.009141e-09</td>\n",
       "      <td>0.000235</td>\n",
       "      <td>0.627178</td>\n",
       "      <td>0.244180</td>\n",
       "      <td>0.757463</td>\n",
       "      <td>0</td>\n",
       "    </tr>\n",
       "    <tr>\n",
       "      <th>665</th>\n",
       "      <td>cell-edge</td>\n",
       "      <td>pattern</td>\n",
       "      <td>81</td>\n",
       "      <td>90-100</td>\n",
       "      <td>27</td>\n",
       "      <td>blank</td>\n",
       "      <td>90</td>\n",
       "      <td>60-120</td>\n",
       "      <td>1.5</td>\n",
       "      <td>NaN</td>\n",
       "      <td>...</td>\n",
       "      <td>cell-edge</td>\n",
       "      <td>0.999964</td>\n",
       "      <td>0.999141</td>\n",
       "      <td>8.410337e-18</td>\n",
       "      <td>1.347031e-07</td>\n",
       "      <td>0.000001</td>\n",
       "      <td>0.035344</td>\n",
       "      <td>0.089089</td>\n",
       "      <td>0.911159</td>\n",
       "      <td>0</td>\n",
       "    </tr>\n",
       "    <tr>\n",
       "      <th>897</th>\n",
       "      <td>cell-edge</td>\n",
       "      <td>pattern</td>\n",
       "      <td>24</td>\n",
       "      <td>20-30</td>\n",
       "      <td>27</td>\n",
       "      <td>blank</td>\n",
       "      <td>251</td>\n",
       "      <td>240-300</td>\n",
       "      <td>1.5</td>\n",
       "      <td>NaN</td>\n",
       "      <td>...</td>\n",
       "      <td>random</td>\n",
       "      <td>0.972466</td>\n",
       "      <td>0.127212</td>\n",
       "      <td>2.169975e-11</td>\n",
       "      <td>1.990620e-15</td>\n",
       "      <td>0.000403</td>\n",
       "      <td>1.000000</td>\n",
       "      <td>0.983680</td>\n",
       "      <td>0.016362</td>\n",
       "      <td>0</td>\n",
       "    </tr>\n",
       "    <tr>\n",
       "      <th>898</th>\n",
       "      <td>cell-edge</td>\n",
       "      <td>pattern</td>\n",
       "      <td>24</td>\n",
       "      <td>20-30</td>\n",
       "      <td>27</td>\n",
       "      <td>blank</td>\n",
       "      <td>65</td>\n",
       "      <td>60-120</td>\n",
       "      <td>1.5</td>\n",
       "      <td>NaN</td>\n",
       "      <td>...</td>\n",
       "      <td>random</td>\n",
       "      <td>0.004701</td>\n",
       "      <td>0.000760</td>\n",
       "      <td>6.626342e-10</td>\n",
       "      <td>3.418462e-15</td>\n",
       "      <td>0.003140</td>\n",
       "      <td>1.000000</td>\n",
       "      <td>0.945318</td>\n",
       "      <td>0.054801</td>\n",
       "      <td>0</td>\n",
       "    </tr>\n",
       "    <tr>\n",
       "      <th>...</th>\n",
       "      <td>...</td>\n",
       "      <td>...</td>\n",
       "      <td>...</td>\n",
       "      <td>...</td>\n",
       "      <td>...</td>\n",
       "      <td>...</td>\n",
       "      <td>...</td>\n",
       "      <td>...</td>\n",
       "      <td>...</td>\n",
       "      <td>...</td>\n",
       "      <td>...</td>\n",
       "      <td>...</td>\n",
       "      <td>...</td>\n",
       "      <td>...</td>\n",
       "      <td>...</td>\n",
       "      <td>...</td>\n",
       "      <td>...</td>\n",
       "      <td>...</td>\n",
       "      <td>...</td>\n",
       "      <td>...</td>\n",
       "      <td>...</td>\n",
       "    </tr>\n",
       "    <tr>\n",
       "      <th>156222</th>\n",
       "      <td>perinuclear</td>\n",
       "      <td>pattern</td>\n",
       "      <td>27</td>\n",
       "      <td>20-30</td>\n",
       "      <td>108</td>\n",
       "      <td>blank</td>\n",
       "      <td>251</td>\n",
       "      <td>240-300</td>\n",
       "      <td>1.5</td>\n",
       "      <td>NaN</td>\n",
       "      <td>...</td>\n",
       "      <td>perinuclear</td>\n",
       "      <td>0.032426</td>\n",
       "      <td>0.723309</td>\n",
       "      <td>1.660171e-07</td>\n",
       "      <td>1.175373e-04</td>\n",
       "      <td>0.996019</td>\n",
       "      <td>0.033108</td>\n",
       "      <td>0.110164</td>\n",
       "      <td>0.890005</td>\n",
       "      <td>0</td>\n",
       "    </tr>\n",
       "    <tr>\n",
       "      <th>156223</th>\n",
       "      <td>perinuclear</td>\n",
       "      <td>pattern</td>\n",
       "      <td>27</td>\n",
       "      <td>20-30</td>\n",
       "      <td>108</td>\n",
       "      <td>blank</td>\n",
       "      <td>332</td>\n",
       "      <td>300+</td>\n",
       "      <td>1.5</td>\n",
       "      <td>NaN</td>\n",
       "      <td>...</td>\n",
       "      <td>extranuclear</td>\n",
       "      <td>0.502149</td>\n",
       "      <td>0.634688</td>\n",
       "      <td>1.423556e-07</td>\n",
       "      <td>4.383508e-05</td>\n",
       "      <td>0.488439</td>\n",
       "      <td>0.412596</td>\n",
       "      <td>0.169994</td>\n",
       "      <td>0.829664</td>\n",
       "      <td>0</td>\n",
       "    </tr>\n",
       "    <tr>\n",
       "      <th>156868</th>\n",
       "      <td>perinuclear</td>\n",
       "      <td>pattern</td>\n",
       "      <td>11</td>\n",
       "      <td>10-20</td>\n",
       "      <td>108</td>\n",
       "      <td>blank</td>\n",
       "      <td>100</td>\n",
       "      <td>60-120</td>\n",
       "      <td>1.5</td>\n",
       "      <td>NaN</td>\n",
       "      <td>...</td>\n",
       "      <td>random</td>\n",
       "      <td>0.013130</td>\n",
       "      <td>0.017682</td>\n",
       "      <td>1.378627e-05</td>\n",
       "      <td>2.662874e-08</td>\n",
       "      <td>0.974515</td>\n",
       "      <td>0.998928</td>\n",
       "      <td>0.599384</td>\n",
       "      <td>0.400611</td>\n",
       "      <td>0</td>\n",
       "    </tr>\n",
       "    <tr>\n",
       "      <th>156869</th>\n",
       "      <td>perinuclear</td>\n",
       "      <td>pattern</td>\n",
       "      <td>11</td>\n",
       "      <td>10-20</td>\n",
       "      <td>108</td>\n",
       "      <td>blank</td>\n",
       "      <td>168</td>\n",
       "      <td>120-180</td>\n",
       "      <td>1.5</td>\n",
       "      <td>NaN</td>\n",
       "      <td>...</td>\n",
       "      <td>random</td>\n",
       "      <td>0.059709</td>\n",
       "      <td>0.001133</td>\n",
       "      <td>3.874913e-04</td>\n",
       "      <td>1.750608e-06</td>\n",
       "      <td>0.153743</td>\n",
       "      <td>0.999459</td>\n",
       "      <td>0.706572</td>\n",
       "      <td>0.294269</td>\n",
       "      <td>0</td>\n",
       "    </tr>\n",
       "    <tr>\n",
       "      <th>156870</th>\n",
       "      <td>perinuclear</td>\n",
       "      <td>pattern</td>\n",
       "      <td>11</td>\n",
       "      <td>10-20</td>\n",
       "      <td>108</td>\n",
       "      <td>blank</td>\n",
       "      <td>298</td>\n",
       "      <td>240-300</td>\n",
       "      <td>1.5</td>\n",
       "      <td>NaN</td>\n",
       "      <td>...</td>\n",
       "      <td>random</td>\n",
       "      <td>0.189284</td>\n",
       "      <td>0.011436</td>\n",
       "      <td>1.868191e-04</td>\n",
       "      <td>7.062278e-06</td>\n",
       "      <td>0.877631</td>\n",
       "      <td>0.999703</td>\n",
       "      <td>0.696556</td>\n",
       "      <td>0.304411</td>\n",
       "      <td>0</td>\n",
       "    </tr>\n",
       "  </tbody>\n",
       "</table>\n",
       "<p>125852 rows × 26 columns</p>\n",
       "</div>"
      ],
      "text/plain": [
       "            pattern random_or_pattern  n_spots n_spots_interval cell_id  \\\n",
       "663       cell-edge           pattern       81           90-100      27   \n",
       "664       cell-edge           pattern       81           90-100      27   \n",
       "665       cell-edge           pattern       81           90-100      27   \n",
       "897       cell-edge           pattern       24            20-30      27   \n",
       "898       cell-edge           pattern       24            20-30      27   \n",
       "...             ...               ...      ...              ...     ...   \n",
       "156222  perinuclear           pattern       27            20-30     108   \n",
       "156223  perinuclear           pattern       27            20-30     108   \n",
       "156868  perinuclear           pattern       11            10-20     108   \n",
       "156869  perinuclear           pattern       11            10-20     108   \n",
       "156870  perinuclear           pattern       11            10-20     108   \n",
       "\n",
       "        genes  rotation rotation_interval  blur blur_interval  ...  \\\n",
       "663     blank       307              300+   1.5           NaN  ...   \n",
       "664     blank        45              0-60   1.5           NaN  ...   \n",
       "665     blank        90            60-120   1.5           NaN  ...   \n",
       "897     blank       251           240-300   1.5           NaN  ...   \n",
       "898     blank        65            60-120   1.5           NaN  ...   \n",
       "...       ...       ...               ...   ...           ...  ...   \n",
       "156222  blank       251           240-300   1.5           NaN  ...   \n",
       "156223  blank       332              300+   1.5           NaN  ...   \n",
       "156868  blank       100            60-120   1.5           NaN  ...   \n",
       "156869  blank       168           120-180   1.5           NaN  ...   \n",
       "156870  blank       298           240-300   1.5           NaN  ...   \n",
       "\n",
       "        pattern_classified cell-edge extranuclear  intranuclear  pericellular  \\\n",
       "663              cell-edge  0.992096     0.934968  5.487039e-15  1.322831e-10   \n",
       "664           extranuclear  0.754152     0.798077  2.422030e-14  2.009141e-09   \n",
       "665              cell-edge  0.999964     0.999141  8.410337e-18  1.347031e-07   \n",
       "897                 random  0.972466     0.127212  2.169975e-11  1.990620e-15   \n",
       "898                 random  0.004701     0.000760  6.626342e-10  3.418462e-15   \n",
       "...                    ...       ...          ...           ...           ...   \n",
       "156222         perinuclear  0.032426     0.723309  1.660171e-07  1.175373e-04   \n",
       "156223        extranuclear  0.502149     0.634688  1.423556e-07  4.383508e-05   \n",
       "156868              random  0.013130     0.017682  1.378627e-05  2.662874e-08   \n",
       "156869              random  0.059709     0.001133  3.874913e-04  1.750608e-06   \n",
       "156870              random  0.189284     0.011436  1.868191e-04  7.062278e-06   \n",
       "\n",
       "        perinuclear    random  random_score  pattern_score  batch  \n",
       "663        0.000015  0.967630      0.392781       0.608507      0  \n",
       "664        0.000235  0.627178      0.244180       0.757463      0  \n",
       "665        0.000001  0.035344      0.089089       0.911159      0  \n",
       "897        0.000403  1.000000      0.983680       0.016362      0  \n",
       "898        0.003140  1.000000      0.945318       0.054801      0  \n",
       "...             ...       ...           ...            ...    ...  \n",
       "156222     0.996019  0.033108      0.110164       0.890005      0  \n",
       "156223     0.488439  0.412596      0.169994       0.829664      0  \n",
       "156868     0.974515  0.998928      0.599384       0.400611      0  \n",
       "156869     0.153743  0.999459      0.706572       0.294269      0  \n",
       "156870     0.877631  0.999703      0.696556       0.304411      0  \n",
       "\n",
       "[125852 rows x 26 columns]"
      ]
     },
     "execution_count": 22,
     "metadata": {},
     "output_type": "execute_result"
    }
   ],
   "source": [
    "adata_train_pattern.obs"
   ]
  },
  {
   "cell_type": "code",
   "execution_count": 24,
   "metadata": {},
   "outputs": [
    {
     "data": {
      "text/plain": [
       "354.7562543493772"
      ]
     },
     "execution_count": 24,
     "metadata": {},
     "output_type": "execute_result"
    }
   ],
   "source": [
    "np.sqrt(125852)"
   ]
  },
  {
   "cell_type": "code",
   "execution_count": 26,
   "metadata": {},
   "outputs": [
    {
     "name": "stdout",
     "output_type": "stream",
     "text": [
      "Fitting 5 folds for each of 13 candidates, totalling 65 fits\n"
     ]
    },
    {
     "name": "stderr",
     "output_type": "stream",
     "text": [
      "/media/gambino/students_workdir/nynke/miniconda3/envs/blurry/lib/python3.9/site-packages/sklearn/pipeline.py:336: UserWarning: Persisting input arguments took 0.54s to run.\n",
      "If this happens often in your code, it can cause performance problems \n",
      "(results will be correct in all cases). \n",
      "The reason for this is probably some large input arguments for a wrapped\n",
      " function (e.g. large strings).\n",
      "THIS IS A JOBLIB ISSUE. If you can, kindly provide the joblib's team with an\n",
      " example so that they can fix the problem.\n",
      "  X, fitted_transformer = fit_transform_one_cached(\n"
     ]
    },
    {
     "ename": "ValueError",
     "evalue": "Target is multiclass but average='binary'. Please choose another average setting, one of [None, 'micro', 'macro', 'weighted'].",
     "output_type": "error",
     "traceback": [
      "\u001b[0;31m---------------------------------------------------------------------------\u001b[0m",
      "\u001b[0;31mValueError\u001b[0m                                Traceback (most recent call last)",
      "Cell \u001b[0;32mIn [26], line 33\u001b[0m\n\u001b[1;32m     31\u001b[0m     param_grid \u001b[38;5;241m=\u001b[39m {\u001b[38;5;124m\"\u001b[39m\u001b[38;5;124mclassifier__n_neighbors\u001b[39m\u001b[38;5;124m\"\u001b[39m: n_neighbors_list}\n\u001b[1;32m     32\u001b[0m     grid_model \u001b[38;5;241m=\u001b[39m GridSearchCV(full_model, param_grid, verbose \u001b[38;5;241m=\u001b[39m \u001b[38;5;241m3\u001b[39m, scoring\u001b[38;5;241m=\u001b[39m\u001b[38;5;124m'\u001b[39m\u001b[38;5;124mf1\u001b[39m\u001b[38;5;124m'\u001b[39m, error_score\u001b[38;5;241m=\u001b[39m\u001b[38;5;124m'\u001b[39m\u001b[38;5;124mraise\u001b[39m\u001b[38;5;124m'\u001b[39m)\n\u001b[0;32m---> 33\u001b[0m     \u001b[43mgrid_model\u001b[49m\u001b[38;5;241;43m.\u001b[39;49m\u001b[43mfit\u001b[49m\u001b[43m(\u001b[49m\u001b[43mlatent\u001b[49m\u001b[43m,\u001b[49m\u001b[43m \u001b[49m\u001b[43mlabels\u001b[49m\u001b[43m)\u001b[49m\n\u001b[1;32m     35\u001b[0m \u001b[38;5;66;03m# Plot the results of the grid search.\u001b[39;00m\n\u001b[1;32m     36\u001b[0m fig, axes \u001b[38;5;241m=\u001b[39m plt\u001b[38;5;241m.\u001b[39msubplots(\u001b[38;5;241m1\u001b[39m, \u001b[38;5;241m2\u001b[39m, figsize\u001b[38;5;241m=\u001b[39m(\u001b[38;5;241m8\u001b[39m, \u001b[38;5;241m4\u001b[39m))\n",
      "File \u001b[0;32m/media/gambino/students_workdir/nynke/miniconda3/envs/blurry/lib/python3.9/site-packages/sklearn/model_selection/_search.py:875\u001b[0m, in \u001b[0;36mBaseSearchCV.fit\u001b[0;34m(self, X, y, groups, **fit_params)\u001b[0m\n\u001b[1;32m    869\u001b[0m     results \u001b[38;5;241m=\u001b[39m \u001b[38;5;28mself\u001b[39m\u001b[38;5;241m.\u001b[39m_format_results(\n\u001b[1;32m    870\u001b[0m         all_candidate_params, n_splits, all_out, all_more_results\n\u001b[1;32m    871\u001b[0m     )\n\u001b[1;32m    873\u001b[0m     \u001b[38;5;28;01mreturn\u001b[39;00m results\n\u001b[0;32m--> 875\u001b[0m \u001b[38;5;28;43mself\u001b[39;49m\u001b[38;5;241;43m.\u001b[39;49m\u001b[43m_run_search\u001b[49m\u001b[43m(\u001b[49m\u001b[43mevaluate_candidates\u001b[49m\u001b[43m)\u001b[49m\n\u001b[1;32m    877\u001b[0m \u001b[38;5;66;03m# multimetric is determined here because in the case of a callable\u001b[39;00m\n\u001b[1;32m    878\u001b[0m \u001b[38;5;66;03m# self.scoring the return type is only known after calling\u001b[39;00m\n\u001b[1;32m    879\u001b[0m first_test_score \u001b[38;5;241m=\u001b[39m all_out[\u001b[38;5;241m0\u001b[39m][\u001b[38;5;124m\"\u001b[39m\u001b[38;5;124mtest_scores\u001b[39m\u001b[38;5;124m\"\u001b[39m]\n",
      "File \u001b[0;32m/media/gambino/students_workdir/nynke/miniconda3/envs/blurry/lib/python3.9/site-packages/sklearn/model_selection/_search.py:1375\u001b[0m, in \u001b[0;36mGridSearchCV._run_search\u001b[0;34m(self, evaluate_candidates)\u001b[0m\n\u001b[1;32m   1373\u001b[0m \u001b[38;5;28;01mdef\u001b[39;00m \u001b[38;5;21m_run_search\u001b[39m(\u001b[38;5;28mself\u001b[39m, evaluate_candidates):\n\u001b[1;32m   1374\u001b[0m     \u001b[38;5;124;03m\"\"\"Search all candidates in param_grid\"\"\"\u001b[39;00m\n\u001b[0;32m-> 1375\u001b[0m     \u001b[43mevaluate_candidates\u001b[49m\u001b[43m(\u001b[49m\u001b[43mParameterGrid\u001b[49m\u001b[43m(\u001b[49m\u001b[38;5;28;43mself\u001b[39;49m\u001b[38;5;241;43m.\u001b[39;49m\u001b[43mparam_grid\u001b[49m\u001b[43m)\u001b[49m\u001b[43m)\u001b[49m\n",
      "File \u001b[0;32m/media/gambino/students_workdir/nynke/miniconda3/envs/blurry/lib/python3.9/site-packages/sklearn/model_selection/_search.py:822\u001b[0m, in \u001b[0;36mBaseSearchCV.fit.<locals>.evaluate_candidates\u001b[0;34m(candidate_params, cv, more_results)\u001b[0m\n\u001b[1;32m    814\u001b[0m \u001b[38;5;28;01mif\u001b[39;00m \u001b[38;5;28mself\u001b[39m\u001b[38;5;241m.\u001b[39mverbose \u001b[38;5;241m>\u001b[39m \u001b[38;5;241m0\u001b[39m:\n\u001b[1;32m    815\u001b[0m     \u001b[38;5;28mprint\u001b[39m(\n\u001b[1;32m    816\u001b[0m         \u001b[38;5;124m\"\u001b[39m\u001b[38;5;124mFitting \u001b[39m\u001b[38;5;132;01m{0}\u001b[39;00m\u001b[38;5;124m folds for each of \u001b[39m\u001b[38;5;132;01m{1}\u001b[39;00m\u001b[38;5;124m candidates,\u001b[39m\u001b[38;5;124m\"\u001b[39m\n\u001b[1;32m    817\u001b[0m         \u001b[38;5;124m\"\u001b[39m\u001b[38;5;124m totalling \u001b[39m\u001b[38;5;132;01m{2}\u001b[39;00m\u001b[38;5;124m fits\u001b[39m\u001b[38;5;124m\"\u001b[39m\u001b[38;5;241m.\u001b[39mformat(\n\u001b[1;32m    818\u001b[0m             n_splits, n_candidates, n_candidates \u001b[38;5;241m*\u001b[39m n_splits\n\u001b[1;32m    819\u001b[0m         )\n\u001b[1;32m    820\u001b[0m     )\n\u001b[0;32m--> 822\u001b[0m out \u001b[38;5;241m=\u001b[39m \u001b[43mparallel\u001b[49m\u001b[43m(\u001b[49m\n\u001b[1;32m    823\u001b[0m \u001b[43m    \u001b[49m\u001b[43mdelayed\u001b[49m\u001b[43m(\u001b[49m\u001b[43m_fit_and_score\u001b[49m\u001b[43m)\u001b[49m\u001b[43m(\u001b[49m\n\u001b[1;32m    824\u001b[0m \u001b[43m        \u001b[49m\u001b[43mclone\u001b[49m\u001b[43m(\u001b[49m\u001b[43mbase_estimator\u001b[49m\u001b[43m)\u001b[49m\u001b[43m,\u001b[49m\n\u001b[1;32m    825\u001b[0m \u001b[43m        \u001b[49m\u001b[43mX\u001b[49m\u001b[43m,\u001b[49m\n\u001b[1;32m    826\u001b[0m \u001b[43m        \u001b[49m\u001b[43my\u001b[49m\u001b[43m,\u001b[49m\n\u001b[1;32m    827\u001b[0m \u001b[43m        \u001b[49m\u001b[43mtrain\u001b[49m\u001b[38;5;241;43m=\u001b[39;49m\u001b[43mtrain\u001b[49m\u001b[43m,\u001b[49m\n\u001b[1;32m    828\u001b[0m \u001b[43m        \u001b[49m\u001b[43mtest\u001b[49m\u001b[38;5;241;43m=\u001b[39;49m\u001b[43mtest\u001b[49m\u001b[43m,\u001b[49m\n\u001b[1;32m    829\u001b[0m \u001b[43m        \u001b[49m\u001b[43mparameters\u001b[49m\u001b[38;5;241;43m=\u001b[39;49m\u001b[43mparameters\u001b[49m\u001b[43m,\u001b[49m\n\u001b[1;32m    830\u001b[0m \u001b[43m        \u001b[49m\u001b[43msplit_progress\u001b[49m\u001b[38;5;241;43m=\u001b[39;49m\u001b[43m(\u001b[49m\u001b[43msplit_idx\u001b[49m\u001b[43m,\u001b[49m\u001b[43m \u001b[49m\u001b[43mn_splits\u001b[49m\u001b[43m)\u001b[49m\u001b[43m,\u001b[49m\n\u001b[1;32m    831\u001b[0m \u001b[43m        \u001b[49m\u001b[43mcandidate_progress\u001b[49m\u001b[38;5;241;43m=\u001b[39;49m\u001b[43m(\u001b[49m\u001b[43mcand_idx\u001b[49m\u001b[43m,\u001b[49m\u001b[43m \u001b[49m\u001b[43mn_candidates\u001b[49m\u001b[43m)\u001b[49m\u001b[43m,\u001b[49m\n\u001b[1;32m    832\u001b[0m \u001b[43m        \u001b[49m\u001b[38;5;241;43m*\u001b[39;49m\u001b[38;5;241;43m*\u001b[39;49m\u001b[43mfit_and_score_kwargs\u001b[49m\u001b[43m,\u001b[49m\n\u001b[1;32m    833\u001b[0m \u001b[43m    \u001b[49m\u001b[43m)\u001b[49m\n\u001b[1;32m    834\u001b[0m \u001b[43m    \u001b[49m\u001b[38;5;28;43;01mfor\u001b[39;49;00m\u001b[43m \u001b[49m\u001b[43m(\u001b[49m\u001b[43mcand_idx\u001b[49m\u001b[43m,\u001b[49m\u001b[43m \u001b[49m\u001b[43mparameters\u001b[49m\u001b[43m)\u001b[49m\u001b[43m,\u001b[49m\u001b[43m \u001b[49m\u001b[43m(\u001b[49m\u001b[43msplit_idx\u001b[49m\u001b[43m,\u001b[49m\u001b[43m \u001b[49m\u001b[43m(\u001b[49m\u001b[43mtrain\u001b[49m\u001b[43m,\u001b[49m\u001b[43m \u001b[49m\u001b[43mtest\u001b[49m\u001b[43m)\u001b[49m\u001b[43m)\u001b[49m\u001b[43m \u001b[49m\u001b[38;5;129;43;01min\u001b[39;49;00m\u001b[43m \u001b[49m\u001b[43mproduct\u001b[49m\u001b[43m(\u001b[49m\n\u001b[1;32m    835\u001b[0m \u001b[43m        \u001b[49m\u001b[38;5;28;43menumerate\u001b[39;49m\u001b[43m(\u001b[49m\u001b[43mcandidate_params\u001b[49m\u001b[43m)\u001b[49m\u001b[43m,\u001b[49m\u001b[43m \u001b[49m\u001b[38;5;28;43menumerate\u001b[39;49m\u001b[43m(\u001b[49m\u001b[43mcv\u001b[49m\u001b[38;5;241;43m.\u001b[39;49m\u001b[43msplit\u001b[49m\u001b[43m(\u001b[49m\u001b[43mX\u001b[49m\u001b[43m,\u001b[49m\u001b[43m \u001b[49m\u001b[43my\u001b[49m\u001b[43m,\u001b[49m\u001b[43m \u001b[49m\u001b[43mgroups\u001b[49m\u001b[43m)\u001b[49m\u001b[43m)\u001b[49m\n\u001b[1;32m    836\u001b[0m \u001b[43m    \u001b[49m\u001b[43m)\u001b[49m\n\u001b[1;32m    837\u001b[0m \u001b[43m\u001b[49m\u001b[43m)\u001b[49m\n\u001b[1;32m    839\u001b[0m \u001b[38;5;28;01mif\u001b[39;00m \u001b[38;5;28mlen\u001b[39m(out) \u001b[38;5;241m<\u001b[39m \u001b[38;5;241m1\u001b[39m:\n\u001b[1;32m    840\u001b[0m     \u001b[38;5;28;01mraise\u001b[39;00m \u001b[38;5;167;01mValueError\u001b[39;00m(\n\u001b[1;32m    841\u001b[0m         \u001b[38;5;124m\"\u001b[39m\u001b[38;5;124mNo fits were performed. \u001b[39m\u001b[38;5;124m\"\u001b[39m\n\u001b[1;32m    842\u001b[0m         \u001b[38;5;124m\"\u001b[39m\u001b[38;5;124mWas the CV iterator empty? \u001b[39m\u001b[38;5;124m\"\u001b[39m\n\u001b[1;32m    843\u001b[0m         \u001b[38;5;124m\"\u001b[39m\u001b[38;5;124mWere there no candidates?\u001b[39m\u001b[38;5;124m\"\u001b[39m\n\u001b[1;32m    844\u001b[0m     )\n",
      "File \u001b[0;32m/media/gambino/students_workdir/nynke/miniconda3/envs/blurry/lib/python3.9/site-packages/joblib/parallel.py:1043\u001b[0m, in \u001b[0;36mParallel.__call__\u001b[0;34m(self, iterable)\u001b[0m\n\u001b[1;32m   1034\u001b[0m \u001b[38;5;28;01mtry\u001b[39;00m:\n\u001b[1;32m   1035\u001b[0m     \u001b[38;5;66;03m# Only set self._iterating to True if at least a batch\u001b[39;00m\n\u001b[1;32m   1036\u001b[0m     \u001b[38;5;66;03m# was dispatched. In particular this covers the edge\u001b[39;00m\n\u001b[0;32m   (...)\u001b[0m\n\u001b[1;32m   1040\u001b[0m     \u001b[38;5;66;03m# was very quick and its callback already dispatched all the\u001b[39;00m\n\u001b[1;32m   1041\u001b[0m     \u001b[38;5;66;03m# remaining jobs.\u001b[39;00m\n\u001b[1;32m   1042\u001b[0m     \u001b[38;5;28mself\u001b[39m\u001b[38;5;241m.\u001b[39m_iterating \u001b[38;5;241m=\u001b[39m \u001b[38;5;28;01mFalse\u001b[39;00m\n\u001b[0;32m-> 1043\u001b[0m     \u001b[38;5;28;01mif\u001b[39;00m \u001b[38;5;28;43mself\u001b[39;49m\u001b[38;5;241;43m.\u001b[39;49m\u001b[43mdispatch_one_batch\u001b[49m\u001b[43m(\u001b[49m\u001b[43miterator\u001b[49m\u001b[43m)\u001b[49m:\n\u001b[1;32m   1044\u001b[0m         \u001b[38;5;28mself\u001b[39m\u001b[38;5;241m.\u001b[39m_iterating \u001b[38;5;241m=\u001b[39m \u001b[38;5;28mself\u001b[39m\u001b[38;5;241m.\u001b[39m_original_iterator \u001b[38;5;129;01mis\u001b[39;00m \u001b[38;5;129;01mnot\u001b[39;00m \u001b[38;5;28;01mNone\u001b[39;00m\n\u001b[1;32m   1046\u001b[0m     \u001b[38;5;28;01mwhile\u001b[39;00m \u001b[38;5;28mself\u001b[39m\u001b[38;5;241m.\u001b[39mdispatch_one_batch(iterator):\n",
      "File \u001b[0;32m/media/gambino/students_workdir/nynke/miniconda3/envs/blurry/lib/python3.9/site-packages/joblib/parallel.py:861\u001b[0m, in \u001b[0;36mParallel.dispatch_one_batch\u001b[0;34m(self, iterator)\u001b[0m\n\u001b[1;32m    859\u001b[0m     \u001b[38;5;28;01mreturn\u001b[39;00m \u001b[38;5;28;01mFalse\u001b[39;00m\n\u001b[1;32m    860\u001b[0m \u001b[38;5;28;01melse\u001b[39;00m:\n\u001b[0;32m--> 861\u001b[0m     \u001b[38;5;28;43mself\u001b[39;49m\u001b[38;5;241;43m.\u001b[39;49m\u001b[43m_dispatch\u001b[49m\u001b[43m(\u001b[49m\u001b[43mtasks\u001b[49m\u001b[43m)\u001b[49m\n\u001b[1;32m    862\u001b[0m     \u001b[38;5;28;01mreturn\u001b[39;00m \u001b[38;5;28;01mTrue\u001b[39;00m\n",
      "File \u001b[0;32m/media/gambino/students_workdir/nynke/miniconda3/envs/blurry/lib/python3.9/site-packages/joblib/parallel.py:779\u001b[0m, in \u001b[0;36mParallel._dispatch\u001b[0;34m(self, batch)\u001b[0m\n\u001b[1;32m    777\u001b[0m \u001b[38;5;28;01mwith\u001b[39;00m \u001b[38;5;28mself\u001b[39m\u001b[38;5;241m.\u001b[39m_lock:\n\u001b[1;32m    778\u001b[0m     job_idx \u001b[38;5;241m=\u001b[39m \u001b[38;5;28mlen\u001b[39m(\u001b[38;5;28mself\u001b[39m\u001b[38;5;241m.\u001b[39m_jobs)\n\u001b[0;32m--> 779\u001b[0m     job \u001b[38;5;241m=\u001b[39m \u001b[38;5;28;43mself\u001b[39;49m\u001b[38;5;241;43m.\u001b[39;49m\u001b[43m_backend\u001b[49m\u001b[38;5;241;43m.\u001b[39;49m\u001b[43mapply_async\u001b[49m\u001b[43m(\u001b[49m\u001b[43mbatch\u001b[49m\u001b[43m,\u001b[49m\u001b[43m \u001b[49m\u001b[43mcallback\u001b[49m\u001b[38;5;241;43m=\u001b[39;49m\u001b[43mcb\u001b[49m\u001b[43m)\u001b[49m\n\u001b[1;32m    780\u001b[0m     \u001b[38;5;66;03m# A job can complete so quickly than its callback is\u001b[39;00m\n\u001b[1;32m    781\u001b[0m     \u001b[38;5;66;03m# called before we get here, causing self._jobs to\u001b[39;00m\n\u001b[1;32m    782\u001b[0m     \u001b[38;5;66;03m# grow. To ensure correct results ordering, .insert is\u001b[39;00m\n\u001b[1;32m    783\u001b[0m     \u001b[38;5;66;03m# used (rather than .append) in the following line\u001b[39;00m\n\u001b[1;32m    784\u001b[0m     \u001b[38;5;28mself\u001b[39m\u001b[38;5;241m.\u001b[39m_jobs\u001b[38;5;241m.\u001b[39minsert(job_idx, job)\n",
      "File \u001b[0;32m/media/gambino/students_workdir/nynke/miniconda3/envs/blurry/lib/python3.9/site-packages/joblib/_parallel_backends.py:208\u001b[0m, in \u001b[0;36mSequentialBackend.apply_async\u001b[0;34m(self, func, callback)\u001b[0m\n\u001b[1;32m    206\u001b[0m \u001b[38;5;28;01mdef\u001b[39;00m \u001b[38;5;21mapply_async\u001b[39m(\u001b[38;5;28mself\u001b[39m, func, callback\u001b[38;5;241m=\u001b[39m\u001b[38;5;28;01mNone\u001b[39;00m):\n\u001b[1;32m    207\u001b[0m     \u001b[38;5;124;03m\"\"\"Schedule a func to be run\"\"\"\u001b[39;00m\n\u001b[0;32m--> 208\u001b[0m     result \u001b[38;5;241m=\u001b[39m \u001b[43mImmediateResult\u001b[49m\u001b[43m(\u001b[49m\u001b[43mfunc\u001b[49m\u001b[43m)\u001b[49m\n\u001b[1;32m    209\u001b[0m     \u001b[38;5;28;01mif\u001b[39;00m callback:\n\u001b[1;32m    210\u001b[0m         callback(result)\n",
      "File \u001b[0;32m/media/gambino/students_workdir/nynke/miniconda3/envs/blurry/lib/python3.9/site-packages/joblib/_parallel_backends.py:572\u001b[0m, in \u001b[0;36mImmediateResult.__init__\u001b[0;34m(self, batch)\u001b[0m\n\u001b[1;32m    569\u001b[0m \u001b[38;5;28;01mdef\u001b[39;00m \u001b[38;5;21m__init__\u001b[39m(\u001b[38;5;28mself\u001b[39m, batch):\n\u001b[1;32m    570\u001b[0m     \u001b[38;5;66;03m# Don't delay the application, to avoid keeping the input\u001b[39;00m\n\u001b[1;32m    571\u001b[0m     \u001b[38;5;66;03m# arguments in memory\u001b[39;00m\n\u001b[0;32m--> 572\u001b[0m     \u001b[38;5;28mself\u001b[39m\u001b[38;5;241m.\u001b[39mresults \u001b[38;5;241m=\u001b[39m \u001b[43mbatch\u001b[49m\u001b[43m(\u001b[49m\u001b[43m)\u001b[49m\n",
      "File \u001b[0;32m/media/gambino/students_workdir/nynke/miniconda3/envs/blurry/lib/python3.9/site-packages/joblib/parallel.py:262\u001b[0m, in \u001b[0;36mBatchedCalls.__call__\u001b[0;34m(self)\u001b[0m\n\u001b[1;32m    258\u001b[0m \u001b[38;5;28;01mdef\u001b[39;00m \u001b[38;5;21m__call__\u001b[39m(\u001b[38;5;28mself\u001b[39m):\n\u001b[1;32m    259\u001b[0m     \u001b[38;5;66;03m# Set the default nested backend to self._backend but do not set the\u001b[39;00m\n\u001b[1;32m    260\u001b[0m     \u001b[38;5;66;03m# change the default number of processes to -1\u001b[39;00m\n\u001b[1;32m    261\u001b[0m     \u001b[38;5;28;01mwith\u001b[39;00m parallel_backend(\u001b[38;5;28mself\u001b[39m\u001b[38;5;241m.\u001b[39m_backend, n_jobs\u001b[38;5;241m=\u001b[39m\u001b[38;5;28mself\u001b[39m\u001b[38;5;241m.\u001b[39m_n_jobs):\n\u001b[0;32m--> 262\u001b[0m         \u001b[38;5;28;01mreturn\u001b[39;00m [func(\u001b[38;5;241m*\u001b[39margs, \u001b[38;5;241m*\u001b[39m\u001b[38;5;241m*\u001b[39mkwargs)\n\u001b[1;32m    263\u001b[0m                 \u001b[38;5;28;01mfor\u001b[39;00m func, args, kwargs \u001b[38;5;129;01min\u001b[39;00m \u001b[38;5;28mself\u001b[39m\u001b[38;5;241m.\u001b[39mitems]\n",
      "File \u001b[0;32m/media/gambino/students_workdir/nynke/miniconda3/envs/blurry/lib/python3.9/site-packages/joblib/parallel.py:262\u001b[0m, in \u001b[0;36m<listcomp>\u001b[0;34m(.0)\u001b[0m\n\u001b[1;32m    258\u001b[0m \u001b[38;5;28;01mdef\u001b[39;00m \u001b[38;5;21m__call__\u001b[39m(\u001b[38;5;28mself\u001b[39m):\n\u001b[1;32m    259\u001b[0m     \u001b[38;5;66;03m# Set the default nested backend to self._backend but do not set the\u001b[39;00m\n\u001b[1;32m    260\u001b[0m     \u001b[38;5;66;03m# change the default number of processes to -1\u001b[39;00m\n\u001b[1;32m    261\u001b[0m     \u001b[38;5;28;01mwith\u001b[39;00m parallel_backend(\u001b[38;5;28mself\u001b[39m\u001b[38;5;241m.\u001b[39m_backend, n_jobs\u001b[38;5;241m=\u001b[39m\u001b[38;5;28mself\u001b[39m\u001b[38;5;241m.\u001b[39m_n_jobs):\n\u001b[0;32m--> 262\u001b[0m         \u001b[38;5;28;01mreturn\u001b[39;00m [\u001b[43mfunc\u001b[49m\u001b[43m(\u001b[49m\u001b[38;5;241;43m*\u001b[39;49m\u001b[43margs\u001b[49m\u001b[43m,\u001b[49m\u001b[43m \u001b[49m\u001b[38;5;241;43m*\u001b[39;49m\u001b[38;5;241;43m*\u001b[39;49m\u001b[43mkwargs\u001b[49m\u001b[43m)\u001b[49m\n\u001b[1;32m    263\u001b[0m                 \u001b[38;5;28;01mfor\u001b[39;00m func, args, kwargs \u001b[38;5;129;01min\u001b[39;00m \u001b[38;5;28mself\u001b[39m\u001b[38;5;241m.\u001b[39mitems]\n",
      "File \u001b[0;32m/media/gambino/students_workdir/nynke/miniconda3/envs/blurry/lib/python3.9/site-packages/sklearn/utils/fixes.py:117\u001b[0m, in \u001b[0;36m_FuncWrapper.__call__\u001b[0;34m(self, *args, **kwargs)\u001b[0m\n\u001b[1;32m    115\u001b[0m \u001b[38;5;28;01mdef\u001b[39;00m \u001b[38;5;21m__call__\u001b[39m(\u001b[38;5;28mself\u001b[39m, \u001b[38;5;241m*\u001b[39margs, \u001b[38;5;241m*\u001b[39m\u001b[38;5;241m*\u001b[39mkwargs):\n\u001b[1;32m    116\u001b[0m     \u001b[38;5;28;01mwith\u001b[39;00m config_context(\u001b[38;5;241m*\u001b[39m\u001b[38;5;241m*\u001b[39m\u001b[38;5;28mself\u001b[39m\u001b[38;5;241m.\u001b[39mconfig):\n\u001b[0;32m--> 117\u001b[0m         \u001b[38;5;28;01mreturn\u001b[39;00m \u001b[38;5;28;43mself\u001b[39;49m\u001b[38;5;241;43m.\u001b[39;49m\u001b[43mfunction\u001b[49m\u001b[43m(\u001b[49m\u001b[38;5;241;43m*\u001b[39;49m\u001b[43margs\u001b[49m\u001b[43m,\u001b[49m\u001b[43m \u001b[49m\u001b[38;5;241;43m*\u001b[39;49m\u001b[38;5;241;43m*\u001b[39;49m\u001b[43mkwargs\u001b[49m\u001b[43m)\u001b[49m\n",
      "File \u001b[0;32m/media/gambino/students_workdir/nynke/miniconda3/envs/blurry/lib/python3.9/site-packages/sklearn/model_selection/_validation.py:708\u001b[0m, in \u001b[0;36m_fit_and_score\u001b[0;34m(estimator, X, y, scorer, train, test, verbose, parameters, fit_params, return_train_score, return_parameters, return_n_test_samples, return_times, return_estimator, split_progress, candidate_progress, error_score)\u001b[0m\n\u001b[1;32m    705\u001b[0m result[\u001b[38;5;124m\"\u001b[39m\u001b[38;5;124mfit_error\u001b[39m\u001b[38;5;124m\"\u001b[39m] \u001b[38;5;241m=\u001b[39m \u001b[38;5;28;01mNone\u001b[39;00m\n\u001b[1;32m    707\u001b[0m fit_time \u001b[38;5;241m=\u001b[39m time\u001b[38;5;241m.\u001b[39mtime() \u001b[38;5;241m-\u001b[39m start_time\n\u001b[0;32m--> 708\u001b[0m test_scores \u001b[38;5;241m=\u001b[39m \u001b[43m_score\u001b[49m\u001b[43m(\u001b[49m\u001b[43mestimator\u001b[49m\u001b[43m,\u001b[49m\u001b[43m \u001b[49m\u001b[43mX_test\u001b[49m\u001b[43m,\u001b[49m\u001b[43m \u001b[49m\u001b[43my_test\u001b[49m\u001b[43m,\u001b[49m\u001b[43m \u001b[49m\u001b[43mscorer\u001b[49m\u001b[43m,\u001b[49m\u001b[43m \u001b[49m\u001b[43merror_score\u001b[49m\u001b[43m)\u001b[49m\n\u001b[1;32m    709\u001b[0m score_time \u001b[38;5;241m=\u001b[39m time\u001b[38;5;241m.\u001b[39mtime() \u001b[38;5;241m-\u001b[39m start_time \u001b[38;5;241m-\u001b[39m fit_time\n\u001b[1;32m    710\u001b[0m \u001b[38;5;28;01mif\u001b[39;00m return_train_score:\n",
      "File \u001b[0;32m/media/gambino/students_workdir/nynke/miniconda3/envs/blurry/lib/python3.9/site-packages/sklearn/model_selection/_validation.py:767\u001b[0m, in \u001b[0;36m_score\u001b[0;34m(estimator, X_test, y_test, scorer, error_score)\u001b[0m\n\u001b[1;32m    765\u001b[0m         scores \u001b[38;5;241m=\u001b[39m scorer(estimator, X_test)\n\u001b[1;32m    766\u001b[0m     \u001b[38;5;28;01melse\u001b[39;00m:\n\u001b[0;32m--> 767\u001b[0m         scores \u001b[38;5;241m=\u001b[39m \u001b[43mscorer\u001b[49m\u001b[43m(\u001b[49m\u001b[43mestimator\u001b[49m\u001b[43m,\u001b[49m\u001b[43m \u001b[49m\u001b[43mX_test\u001b[49m\u001b[43m,\u001b[49m\u001b[43m \u001b[49m\u001b[43my_test\u001b[49m\u001b[43m)\u001b[49m\n\u001b[1;32m    768\u001b[0m \u001b[38;5;28;01mexcept\u001b[39;00m \u001b[38;5;167;01mException\u001b[39;00m:\n\u001b[1;32m    769\u001b[0m     \u001b[38;5;28;01mif\u001b[39;00m error_score \u001b[38;5;241m==\u001b[39m \u001b[38;5;124m\"\u001b[39m\u001b[38;5;124mraise\u001b[39m\u001b[38;5;124m\"\u001b[39m:\n",
      "File \u001b[0;32m/media/gambino/students_workdir/nynke/miniconda3/envs/blurry/lib/python3.9/site-packages/sklearn/metrics/_scorer.py:219\u001b[0m, in \u001b[0;36m_BaseScorer.__call__\u001b[0;34m(self, estimator, X, y_true, sample_weight)\u001b[0m\n\u001b[1;32m    196\u001b[0m \u001b[38;5;28;01mdef\u001b[39;00m \u001b[38;5;21m__call__\u001b[39m(\u001b[38;5;28mself\u001b[39m, estimator, X, y_true, sample_weight\u001b[38;5;241m=\u001b[39m\u001b[38;5;28;01mNone\u001b[39;00m):\n\u001b[1;32m    197\u001b[0m     \u001b[38;5;124;03m\"\"\"Evaluate predicted target values for X relative to y_true.\u001b[39;00m\n\u001b[1;32m    198\u001b[0m \n\u001b[1;32m    199\u001b[0m \u001b[38;5;124;03m    Parameters\u001b[39;00m\n\u001b[0;32m   (...)\u001b[0m\n\u001b[1;32m    217\u001b[0m \u001b[38;5;124;03m        Score function applied to prediction of estimator on X.\u001b[39;00m\n\u001b[1;32m    218\u001b[0m \u001b[38;5;124;03m    \"\"\"\u001b[39;00m\n\u001b[0;32m--> 219\u001b[0m     \u001b[38;5;28;01mreturn\u001b[39;00m \u001b[38;5;28;43mself\u001b[39;49m\u001b[38;5;241;43m.\u001b[39;49m\u001b[43m_score\u001b[49m\u001b[43m(\u001b[49m\n\u001b[1;32m    220\u001b[0m \u001b[43m        \u001b[49m\u001b[43mpartial\u001b[49m\u001b[43m(\u001b[49m\u001b[43m_cached_call\u001b[49m\u001b[43m,\u001b[49m\u001b[43m \u001b[49m\u001b[38;5;28;43;01mNone\u001b[39;49;00m\u001b[43m)\u001b[49m\u001b[43m,\u001b[49m\n\u001b[1;32m    221\u001b[0m \u001b[43m        \u001b[49m\u001b[43mestimator\u001b[49m\u001b[43m,\u001b[49m\n\u001b[1;32m    222\u001b[0m \u001b[43m        \u001b[49m\u001b[43mX\u001b[49m\u001b[43m,\u001b[49m\n\u001b[1;32m    223\u001b[0m \u001b[43m        \u001b[49m\u001b[43my_true\u001b[49m\u001b[43m,\u001b[49m\n\u001b[1;32m    224\u001b[0m \u001b[43m        \u001b[49m\u001b[43msample_weight\u001b[49m\u001b[38;5;241;43m=\u001b[39;49m\u001b[43msample_weight\u001b[49m\u001b[43m,\u001b[49m\n\u001b[1;32m    225\u001b[0m \u001b[43m    \u001b[49m\u001b[43m)\u001b[49m\n",
      "File \u001b[0;32m/media/gambino/students_workdir/nynke/miniconda3/envs/blurry/lib/python3.9/site-packages/sklearn/metrics/_scorer.py:267\u001b[0m, in \u001b[0;36m_PredictScorer._score\u001b[0;34m(self, method_caller, estimator, X, y_true, sample_weight)\u001b[0m\n\u001b[1;32m    263\u001b[0m     \u001b[38;5;28;01mreturn\u001b[39;00m \u001b[38;5;28mself\u001b[39m\u001b[38;5;241m.\u001b[39m_sign \u001b[38;5;241m*\u001b[39m \u001b[38;5;28mself\u001b[39m\u001b[38;5;241m.\u001b[39m_score_func(\n\u001b[1;32m    264\u001b[0m         y_true, y_pred, sample_weight\u001b[38;5;241m=\u001b[39msample_weight, \u001b[38;5;241m*\u001b[39m\u001b[38;5;241m*\u001b[39m\u001b[38;5;28mself\u001b[39m\u001b[38;5;241m.\u001b[39m_kwargs\n\u001b[1;32m    265\u001b[0m     )\n\u001b[1;32m    266\u001b[0m \u001b[38;5;28;01melse\u001b[39;00m:\n\u001b[0;32m--> 267\u001b[0m     \u001b[38;5;28;01mreturn\u001b[39;00m \u001b[38;5;28mself\u001b[39m\u001b[38;5;241m.\u001b[39m_sign \u001b[38;5;241m*\u001b[39m \u001b[38;5;28;43mself\u001b[39;49m\u001b[38;5;241;43m.\u001b[39;49m\u001b[43m_score_func\u001b[49m\u001b[43m(\u001b[49m\u001b[43my_true\u001b[49m\u001b[43m,\u001b[49m\u001b[43m \u001b[49m\u001b[43my_pred\u001b[49m\u001b[43m,\u001b[49m\u001b[43m \u001b[49m\u001b[38;5;241;43m*\u001b[39;49m\u001b[38;5;241;43m*\u001b[39;49m\u001b[38;5;28;43mself\u001b[39;49m\u001b[38;5;241;43m.\u001b[39;49m\u001b[43m_kwargs\u001b[49m\u001b[43m)\u001b[49m\n",
      "File \u001b[0;32m/media/gambino/students_workdir/nynke/miniconda3/envs/blurry/lib/python3.9/site-packages/sklearn/metrics/_classification.py:1132\u001b[0m, in \u001b[0;36mf1_score\u001b[0;34m(y_true, y_pred, labels, pos_label, average, sample_weight, zero_division)\u001b[0m\n\u001b[1;32m    997\u001b[0m \u001b[38;5;28;01mdef\u001b[39;00m \u001b[38;5;21mf1_score\u001b[39m(\n\u001b[1;32m    998\u001b[0m     y_true,\n\u001b[1;32m    999\u001b[0m     y_pred,\n\u001b[0;32m   (...)\u001b[0m\n\u001b[1;32m   1005\u001b[0m     zero_division\u001b[38;5;241m=\u001b[39m\u001b[38;5;124m\"\u001b[39m\u001b[38;5;124mwarn\u001b[39m\u001b[38;5;124m\"\u001b[39m,\n\u001b[1;32m   1006\u001b[0m ):\n\u001b[1;32m   1007\u001b[0m     \u001b[38;5;124;03m\"\"\"Compute the F1 score, also known as balanced F-score or F-measure.\u001b[39;00m\n\u001b[1;32m   1008\u001b[0m \n\u001b[1;32m   1009\u001b[0m \u001b[38;5;124;03m    The F1 score can be interpreted as a harmonic mean of the precision and\u001b[39;00m\n\u001b[0;32m   (...)\u001b[0m\n\u001b[1;32m   1130\u001b[0m \u001b[38;5;124;03m    array([0.66666667, 1.        , 0.66666667])\u001b[39;00m\n\u001b[1;32m   1131\u001b[0m \u001b[38;5;124;03m    \"\"\"\u001b[39;00m\n\u001b[0;32m-> 1132\u001b[0m     \u001b[38;5;28;01mreturn\u001b[39;00m \u001b[43mfbeta_score\u001b[49m\u001b[43m(\u001b[49m\n\u001b[1;32m   1133\u001b[0m \u001b[43m        \u001b[49m\u001b[43my_true\u001b[49m\u001b[43m,\u001b[49m\n\u001b[1;32m   1134\u001b[0m \u001b[43m        \u001b[49m\u001b[43my_pred\u001b[49m\u001b[43m,\u001b[49m\n\u001b[1;32m   1135\u001b[0m \u001b[43m        \u001b[49m\u001b[43mbeta\u001b[49m\u001b[38;5;241;43m=\u001b[39;49m\u001b[38;5;241;43m1\u001b[39;49m\u001b[43m,\u001b[49m\n\u001b[1;32m   1136\u001b[0m \u001b[43m        \u001b[49m\u001b[43mlabels\u001b[49m\u001b[38;5;241;43m=\u001b[39;49m\u001b[43mlabels\u001b[49m\u001b[43m,\u001b[49m\n\u001b[1;32m   1137\u001b[0m \u001b[43m        \u001b[49m\u001b[43mpos_label\u001b[49m\u001b[38;5;241;43m=\u001b[39;49m\u001b[43mpos_label\u001b[49m\u001b[43m,\u001b[49m\n\u001b[1;32m   1138\u001b[0m \u001b[43m        \u001b[49m\u001b[43maverage\u001b[49m\u001b[38;5;241;43m=\u001b[39;49m\u001b[43maverage\u001b[49m\u001b[43m,\u001b[49m\n\u001b[1;32m   1139\u001b[0m \u001b[43m        \u001b[49m\u001b[43msample_weight\u001b[49m\u001b[38;5;241;43m=\u001b[39;49m\u001b[43msample_weight\u001b[49m\u001b[43m,\u001b[49m\n\u001b[1;32m   1140\u001b[0m \u001b[43m        \u001b[49m\u001b[43mzero_division\u001b[49m\u001b[38;5;241;43m=\u001b[39;49m\u001b[43mzero_division\u001b[49m\u001b[43m,\u001b[49m\n\u001b[1;32m   1141\u001b[0m \u001b[43m    \u001b[49m\u001b[43m)\u001b[49m\n",
      "File \u001b[0;32m/media/gambino/students_workdir/nynke/miniconda3/envs/blurry/lib/python3.9/site-packages/sklearn/metrics/_classification.py:1270\u001b[0m, in \u001b[0;36mfbeta_score\u001b[0;34m(y_true, y_pred, beta, labels, pos_label, average, sample_weight, zero_division)\u001b[0m\n\u001b[1;32m   1144\u001b[0m \u001b[38;5;28;01mdef\u001b[39;00m \u001b[38;5;21mfbeta_score\u001b[39m(\n\u001b[1;32m   1145\u001b[0m     y_true,\n\u001b[1;32m   1146\u001b[0m     y_pred,\n\u001b[0;32m   (...)\u001b[0m\n\u001b[1;32m   1153\u001b[0m     zero_division\u001b[38;5;241m=\u001b[39m\u001b[38;5;124m\"\u001b[39m\u001b[38;5;124mwarn\u001b[39m\u001b[38;5;124m\"\u001b[39m,\n\u001b[1;32m   1154\u001b[0m ):\n\u001b[1;32m   1155\u001b[0m     \u001b[38;5;124;03m\"\"\"Compute the F-beta score.\u001b[39;00m\n\u001b[1;32m   1156\u001b[0m \n\u001b[1;32m   1157\u001b[0m \u001b[38;5;124;03m    The F-beta score is the weighted harmonic mean of precision and recall,\u001b[39;00m\n\u001b[0;32m   (...)\u001b[0m\n\u001b[1;32m   1267\u001b[0m \u001b[38;5;124;03m    array([0.71..., 0.        , 0.        ])\u001b[39;00m\n\u001b[1;32m   1268\u001b[0m \u001b[38;5;124;03m    \"\"\"\u001b[39;00m\n\u001b[0;32m-> 1270\u001b[0m     _, _, f, _ \u001b[38;5;241m=\u001b[39m \u001b[43mprecision_recall_fscore_support\u001b[49m\u001b[43m(\u001b[49m\n\u001b[1;32m   1271\u001b[0m \u001b[43m        \u001b[49m\u001b[43my_true\u001b[49m\u001b[43m,\u001b[49m\n\u001b[1;32m   1272\u001b[0m \u001b[43m        \u001b[49m\u001b[43my_pred\u001b[49m\u001b[43m,\u001b[49m\n\u001b[1;32m   1273\u001b[0m \u001b[43m        \u001b[49m\u001b[43mbeta\u001b[49m\u001b[38;5;241;43m=\u001b[39;49m\u001b[43mbeta\u001b[49m\u001b[43m,\u001b[49m\n\u001b[1;32m   1274\u001b[0m \u001b[43m        \u001b[49m\u001b[43mlabels\u001b[49m\u001b[38;5;241;43m=\u001b[39;49m\u001b[43mlabels\u001b[49m\u001b[43m,\u001b[49m\n\u001b[1;32m   1275\u001b[0m \u001b[43m        \u001b[49m\u001b[43mpos_label\u001b[49m\u001b[38;5;241;43m=\u001b[39;49m\u001b[43mpos_label\u001b[49m\u001b[43m,\u001b[49m\n\u001b[1;32m   1276\u001b[0m \u001b[43m        \u001b[49m\u001b[43maverage\u001b[49m\u001b[38;5;241;43m=\u001b[39;49m\u001b[43maverage\u001b[49m\u001b[43m,\u001b[49m\n\u001b[1;32m   1277\u001b[0m \u001b[43m        \u001b[49m\u001b[43mwarn_for\u001b[49m\u001b[38;5;241;43m=\u001b[39;49m\u001b[43m(\u001b[49m\u001b[38;5;124;43m\"\u001b[39;49m\u001b[38;5;124;43mf-score\u001b[39;49m\u001b[38;5;124;43m\"\u001b[39;49m\u001b[43m,\u001b[49m\u001b[43m)\u001b[49m\u001b[43m,\u001b[49m\n\u001b[1;32m   1278\u001b[0m \u001b[43m        \u001b[49m\u001b[43msample_weight\u001b[49m\u001b[38;5;241;43m=\u001b[39;49m\u001b[43msample_weight\u001b[49m\u001b[43m,\u001b[49m\n\u001b[1;32m   1279\u001b[0m \u001b[43m        \u001b[49m\u001b[43mzero_division\u001b[49m\u001b[38;5;241;43m=\u001b[39;49m\u001b[43mzero_division\u001b[49m\u001b[43m,\u001b[49m\n\u001b[1;32m   1280\u001b[0m \u001b[43m    \u001b[49m\u001b[43m)\u001b[49m\n\u001b[1;32m   1281\u001b[0m     \u001b[38;5;28;01mreturn\u001b[39;00m f\n",
      "File \u001b[0;32m/media/gambino/students_workdir/nynke/miniconda3/envs/blurry/lib/python3.9/site-packages/sklearn/metrics/_classification.py:1556\u001b[0m, in \u001b[0;36mprecision_recall_fscore_support\u001b[0;34m(y_true, y_pred, beta, labels, pos_label, average, warn_for, sample_weight, zero_division)\u001b[0m\n\u001b[1;32m   1554\u001b[0m \u001b[38;5;28;01mif\u001b[39;00m beta \u001b[38;5;241m<\u001b[39m \u001b[38;5;241m0\u001b[39m:\n\u001b[1;32m   1555\u001b[0m     \u001b[38;5;28;01mraise\u001b[39;00m \u001b[38;5;167;01mValueError\u001b[39;00m(\u001b[38;5;124m\"\u001b[39m\u001b[38;5;124mbeta should be >=0 in the F-beta score\u001b[39m\u001b[38;5;124m\"\u001b[39m)\n\u001b[0;32m-> 1556\u001b[0m labels \u001b[38;5;241m=\u001b[39m \u001b[43m_check_set_wise_labels\u001b[49m\u001b[43m(\u001b[49m\u001b[43my_true\u001b[49m\u001b[43m,\u001b[49m\u001b[43m \u001b[49m\u001b[43my_pred\u001b[49m\u001b[43m,\u001b[49m\u001b[43m \u001b[49m\u001b[43maverage\u001b[49m\u001b[43m,\u001b[49m\u001b[43m \u001b[49m\u001b[43mlabels\u001b[49m\u001b[43m,\u001b[49m\u001b[43m \u001b[49m\u001b[43mpos_label\u001b[49m\u001b[43m)\u001b[49m\n\u001b[1;32m   1558\u001b[0m \u001b[38;5;66;03m# Calculate tp_sum, pred_sum, true_sum ###\u001b[39;00m\n\u001b[1;32m   1559\u001b[0m samplewise \u001b[38;5;241m=\u001b[39m average \u001b[38;5;241m==\u001b[39m \u001b[38;5;124m\"\u001b[39m\u001b[38;5;124msamples\u001b[39m\u001b[38;5;124m\"\u001b[39m\n",
      "File \u001b[0;32m/media/gambino/students_workdir/nynke/miniconda3/envs/blurry/lib/python3.9/site-packages/sklearn/metrics/_classification.py:1374\u001b[0m, in \u001b[0;36m_check_set_wise_labels\u001b[0;34m(y_true, y_pred, average, labels, pos_label)\u001b[0m\n\u001b[1;32m   1372\u001b[0m         \u001b[38;5;28;01mif\u001b[39;00m y_type \u001b[38;5;241m==\u001b[39m \u001b[38;5;124m\"\u001b[39m\u001b[38;5;124mmulticlass\u001b[39m\u001b[38;5;124m\"\u001b[39m:\n\u001b[1;32m   1373\u001b[0m             average_options\u001b[38;5;241m.\u001b[39mremove(\u001b[38;5;124m\"\u001b[39m\u001b[38;5;124msamples\u001b[39m\u001b[38;5;124m\"\u001b[39m)\n\u001b[0;32m-> 1374\u001b[0m         \u001b[38;5;28;01mraise\u001b[39;00m \u001b[38;5;167;01mValueError\u001b[39;00m(\n\u001b[1;32m   1375\u001b[0m             \u001b[38;5;124m\"\u001b[39m\u001b[38;5;124mTarget is \u001b[39m\u001b[38;5;132;01m%s\u001b[39;00m\u001b[38;5;124m but average=\u001b[39m\u001b[38;5;124m'\u001b[39m\u001b[38;5;124mbinary\u001b[39m\u001b[38;5;124m'\u001b[39m\u001b[38;5;124m. Please \u001b[39m\u001b[38;5;124m\"\u001b[39m\n\u001b[1;32m   1376\u001b[0m             \u001b[38;5;124m\"\u001b[39m\u001b[38;5;124mchoose another average setting, one of \u001b[39m\u001b[38;5;132;01m%r\u001b[39;00m\u001b[38;5;124m.\u001b[39m\u001b[38;5;124m\"\u001b[39m \u001b[38;5;241m%\u001b[39m (y_type, average_options)\n\u001b[1;32m   1377\u001b[0m         )\n\u001b[1;32m   1378\u001b[0m \u001b[38;5;28;01melif\u001b[39;00m pos_label \u001b[38;5;129;01mnot\u001b[39;00m \u001b[38;5;129;01min\u001b[39;00m (\u001b[38;5;28;01mNone\u001b[39;00m, \u001b[38;5;241m1\u001b[39m):\n\u001b[1;32m   1379\u001b[0m     warnings\u001b[38;5;241m.\u001b[39mwarn(\n\u001b[1;32m   1380\u001b[0m         \u001b[38;5;124m\"\u001b[39m\u001b[38;5;124mNote that pos_label (set to \u001b[39m\u001b[38;5;132;01m%r\u001b[39;00m\u001b[38;5;124m) is ignored when \u001b[39m\u001b[38;5;124m\"\u001b[39m\n\u001b[1;32m   1381\u001b[0m         \u001b[38;5;124m\"\u001b[39m\u001b[38;5;124maverage != \u001b[39m\u001b[38;5;124m'\u001b[39m\u001b[38;5;124mbinary\u001b[39m\u001b[38;5;124m'\u001b[39m\u001b[38;5;124m (got \u001b[39m\u001b[38;5;132;01m%r\u001b[39;00m\u001b[38;5;124m). You may use \u001b[39m\u001b[38;5;124m\"\u001b[39m\n\u001b[0;32m   (...)\u001b[0m\n\u001b[1;32m   1384\u001b[0m         \u001b[38;5;167;01mUserWarning\u001b[39;00m,\n\u001b[1;32m   1385\u001b[0m     )\n",
      "\u001b[0;31mValueError\u001b[0m: Target is multiclass but average='binary'. Please choose another average setting, one of [None, 'micro', 'macro', 'weighted']."
     ]
    }
   ],
   "source": [
    "# Author: Tom Dupre la Tour\n",
    "#\n",
    "# License: BSD 3 clause\n",
    "from tempfile import TemporaryDirectory\n",
    "\n",
    "import matplotlib.pyplot as plt\n",
    "\n",
    "#from sklearn.datasets import load_digits\n",
    "from sklearn.model_selection import GridSearchCV\n",
    "from sklearn.neighbors import KNeighborsClassifier, KNeighborsTransformer\n",
    "from sklearn.pipeline import Pipeline\n",
    "\n",
    "latent = adata_train_pattern.obsm[\"latent\"]\n",
    "labels = adata_train_pattern.obs[\"pattern\"]\n",
    "n_neighbors_list = [55,105,155,205,255,305,355,405,455,505,555,605,655]\n",
    "\n",
    "# The transformer computes the nearest neighbors graph using the maximum number\n",
    "# of neighbors necessary in the grid search. The classifier model filters the\n",
    "# nearest neighbors graph as required by its own n_neighbors parameter.\n",
    "graph_model = KNeighborsTransformer(n_neighbors=max(n_neighbors_list), mode=\"distance\")\n",
    "classifier_model = KNeighborsClassifier(metric=\"precomputed\")\n",
    "\n",
    "# Note that we give `memory` a directory to cache the graph computation\n",
    "# that will be used several times when tuning the hyperparameters of the\n",
    "# classifier.\n",
    "with TemporaryDirectory(prefix=\"sklearn_graph_cache_\") as tmpdir:\n",
    "    full_model = Pipeline(\n",
    "        steps=[(\"graph\", graph_model), (\"classifier\", classifier_model)], memory=tmpdir\n",
    "    )\n",
    "\n",
    "    param_grid = {\"classifier__n_neighbors\": n_neighbors_list}\n",
    "    grid_model = GridSearchCV(full_model, param_grid, verbose = 3, scoring='f1', error_score='raise')\n",
    "    grid_model.fit(latent, labels)\n",
    "\n",
    "# Plot the results of the grid search.\n",
    "fig, axes = plt.subplots(1, 2, figsize=(8, 4))\n",
    "axes[0].errorbar(\n",
    "    x=n_neighbors_list,\n",
    "    y=grid_model.cv_results_[\"mean_test_score\"],\n",
    "    yerr=grid_model.cv_results_[\"std_test_score\"],\n",
    ")\n",
    "axes[0].set(xlabel=\"n_neighbors\", title=\"Classification accuracy\")\n",
    "axes[1].errorbar(\n",
    "    x=n_neighbors_list,\n",
    "    y=grid_model.cv_results_[\"mean_fit_time\"],\n",
    "    yerr=grid_model.cv_results_[\"std_fit_time\"],\n",
    "    color=\"r\",\n",
    ")\n",
    "axes[1].set(xlabel=\"n_neighbors\", title=\"Fit time (with caching)\")\n",
    "fig.tight_layout()\n",
    "plt.show()"
   ]
  },
  {
   "cell_type": "code",
   "execution_count": null,
   "metadata": {},
   "outputs": [],
   "source": []
  }
 ],
 "metadata": {
  "kernelspec": {
   "display_name": "Python 3",
   "language": "python",
   "name": "python3"
  },
  "language_info": {
   "codemirror_mode": {
    "name": "ipython",
    "version": 3
   },
   "file_extension": ".py",
   "mimetype": "text/x-python",
   "name": "python",
   "nbconvert_exporter": "python",
   "pygments_lexer": "ipython3",
   "version": "3.9.13"
  }
 },
 "nbformat": 4,
 "nbformat_minor": 2
}
